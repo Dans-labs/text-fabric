{
 "cells": [
  {
   "cell_type": "code",
   "execution_count": 1,
   "metadata": {},
   "outputs": [],
   "source": [
    "%load_ext autoreload\n",
    "%autoreload 2"
   ]
  },
  {
   "cell_type": "code",
   "execution_count": 2,
   "metadata": {},
   "outputs": [],
   "source": [
    "from tf.fabric import Fabric\n",
    "from tf.convert.walker import CV\n",
    "import cProfile, pstats, io\n",
    "from pstats import SortKey"
   ]
  },
  {
   "cell_type": "code",
   "execution_count": 3,
   "metadata": {},
   "outputs": [],
   "source": [
    "TF_PATH = '_temp/tf'"
   ]
  },
  {
   "cell_type": "markdown",
   "metadata": {},
   "source": [
    "# Make test set"
   ]
  },
  {
   "cell_type": "code",
   "execution_count": 13,
   "metadata": {},
   "outputs": [],
   "source": [
    "TF = Fabric(locations=TF_PATH, silent=True)"
   ]
  },
  {
   "cell_type": "code",
   "execution_count": 34,
   "metadata": {},
   "outputs": [
    {
     "name": "stdout",
     "output_type": "stream",
     "text": [
      "  0.00s Importing data from walking through the source ...\n",
      "   |     0.00s Preparing metadata... \n",
      "   |     0.00s No structure nodes will be set up\n",
      "   |   SECTION   TYPES:    chunk\n",
      "   |   SECTION   FEATURES: num\n",
      "   |   STRUCTURE TYPES:    \n",
      "   |   STRUCTURE FEATURES: \n",
      "   |   TEXT      FEATURES:\n",
      "   |      |   text-orig-full       cat, num\n",
      "   |     0.00s OK\n",
      "   |     0.00s Following director... \n",
      "   |     0.14s \"edge\" actions: 0\n",
      "   |     0.14s \"feature\" actions: 50000\n",
      "   |     0.14s \"node\" actions: 10000\n",
      "   |     0.14s \"resume\" actions: 0\n",
      "   |     0.14s \"slot\" actions: 40000\n",
      "   |     0.14s \"terminate\" actions: 10001\n",
      "   |      10000 x \"chunk\" node \n",
      "   |      40000 x \"slot\" node  = slot type\n",
      "   |      50000 nodes of all types\n",
      "   |     0.15s OK\n",
      "   |     0.00s checking for nodes and edges ... \n",
      "   |     0.00s OK\n",
      "   |     0.00s checking features ... \n",
      "   |     0.01s OK\n",
      "   |     0.00s reordering nodes ...\n",
      "   |     0.05s Sorting 10000 nodes of type \"chunk\"\n",
      "   |     0.06s Max node = 50000\n",
      "   |     0.06s OK\n",
      "   |     0.00s reassigning feature values ...\n",
      "   |      |       38s node feature \"cat\" with 40000 nodes\n",
      "   |      |       38s node feature \"num\" with 50000 nodes\n",
      "   |     0.04s OK\n",
      "  0.00s Exporting 3 node and 1 edge and 1 config features to _temp/tf:\n",
      "  0.00s VALIDATING oslots feature\n",
      "  0.01s VALIDATING oslots feature\n",
      "  0.01s maxSlot=      40000\n",
      "  0.01s maxNode=      50000\n",
      "  0.01s OK: oslots is valid\n",
      "   |     0.06s T cat                  to _temp/tf\n",
      "   |     0.06s T num                  to _temp/tf\n",
      "   |     0.01s T otype                to _temp/tf\n",
      "   |     0.03s T oslots               to _temp/tf\n",
      "   |     0.00s M otext                to _temp/tf\n",
      "  0.18s Exported 3 node features and 1 edge features and 1 config features to _temp/tf\n"
     ]
    }
   ],
   "source": [
    "slotType = 'slot'\n",
    "generic = {\n",
    "    'name': 'test set for query strategy testing',\n",
    "    'compiler': 'Dirk Roorda',\n",
    "}\n",
    "otext = {\n",
    "    'fmt:text-orig-full': '{num}{cat} ',\n",
    "    'sectionTypes': 'chunk',\n",
    "    'sectionFeatures': 'num',\n",
    "}\n",
    "intFeatures = {\n",
    "  'num',\n",
    "}\n",
    "featureMeta = {\n",
    "    'num': {\n",
    "        'description': 'node number',\n",
    "    },\n",
    "    'cat': {\n",
    "        'description': 'category: m f n',\n",
    "    },\n",
    "}\n",
    "\n",
    "nSlots = 40000\n",
    "chunkSize = 4\n",
    "cats = ['m', 'f', 'n']\n",
    "\n",
    "def director(cv):\n",
    "  c = None\n",
    "  for n in range(nSlots):\n",
    "    if n % chunkSize == 0:\n",
    "      cv.terminate(c)\n",
    "      c = cv.node('chunk')\n",
    "      cv.feature(c, num=n // chunkSize)\n",
    "    s = cv.slot()\n",
    "    cv.feature(s, num=n, cat=cats[n % 3])\n",
    "  cv.terminate(c)\n",
    "    \n",
    "cv = CV(TF)\n",
    "\n",
    "good = cv.walk(\n",
    "    director,\n",
    "    slotType,\n",
    "    otext=otext,\n",
    "    generic=generic,\n",
    "    intFeatures=intFeatures,\n",
    "    featureMeta=featureMeta,\n",
    ")"
   ]
  },
  {
   "cell_type": "markdown",
   "metadata": {},
   "source": [
    "# Load test set"
   ]
  },
  {
   "cell_type": "code",
   "execution_count": 35,
   "metadata": {},
   "outputs": [],
   "source": [
    "TF = Fabric(locations=TF_PATH, silent='deep')\n",
    "api = TF.loadAll()\n",
    "docs = api.makeAvailableIn(globals())\n",
    "silentOff()"
   ]
  },
  {
   "cell_type": "markdown",
   "metadata": {},
   "source": [
    "# Test use of shallow"
   ]
  },
  {
   "cell_type": "code",
   "execution_count": 36,
   "metadata": {},
   "outputs": [],
   "source": [
    "query = '''\n",
    "chunk\n",
    "  slot num=1\n",
    "  < slot\n",
    "'''"
   ]
  },
  {
   "cell_type": "code",
   "execution_count": 37,
   "metadata": {},
   "outputs": [
    {
     "name": "stdout",
     "output_type": "stream",
     "text": [
      "BOUNDDIR {2: 1}\n"
     ]
    },
    {
     "data": {
      "text/plain": [
       "[(40001, 2, 3), (40001, 2, 4)]"
      ]
     },
     "execution_count": 37,
     "metadata": {},
     "output_type": "execute_result"
    }
   ],
   "source": [
    "list(S.search(query))"
   ]
  },
  {
   "cell_type": "code",
   "execution_count": 38,
   "metadata": {},
   "outputs": [
    {
     "name": "stdout",
     "output_type": "stream",
     "text": [
      "BOUNDDIR {2: 1}\n"
     ]
    },
    {
     "data": {
      "text/plain": [
       "[(40001, 2)]"
      ]
     },
     "execution_count": 38,
     "metadata": {},
     "output_type": "execute_result"
    }
   ],
   "source": [
    "list(S.search(query, shallow=2))"
   ]
  },
  {
   "cell_type": "code",
   "execution_count": 39,
   "metadata": {},
   "outputs": [],
   "source": [
    "query = '''\n",
    "slot\n",
    "<: slot\n",
    "< slot\n",
    "<: slot\n",
    "< slot\n",
    "<: slot\n",
    "'''"
   ]
  },
  {
   "cell_type": "code",
   "execution_count": 40,
   "metadata": {},
   "outputs": [],
   "source": [
    "query = '''\n",
    "chunk\n",
    "  =: a:slot\n",
    "  < b:slot\n",
    "  < c:slot\n",
    "  :=\n",
    "\n",
    "s:slot\n",
    "\n",
    "a < s\n",
    "s < b\n",
    "s < c\n",
    "'''"
   ]
  },
  {
   "cell_type": "code",
   "execution_count": 41,
   "metadata": {},
   "outputs": [
    {
     "name": "stdout",
     "output_type": "stream",
     "text": [
      "  0.00s Checking search template ...\n",
      "  0.00s Setting up search space for 5 objects ...\n",
      "  0.03s Constraining search space with 10 relations ...\n",
      "  0.10s \t2 edges thinned\n",
      "  0.10s Setting up retrieval plan with strategy small_choice_multi ...\n",
      "BOUNDDIR {5: 1, 3: -1, 11: {0: -1, 1: -1, 2: 1}}\n",
      "  0.12s Ready to deliver results from 110000 nodes\n",
      "Iterate over S.fetch() to get the results\n",
      "See S.showPlan() to interpret the results\n"
     ]
    }
   ],
   "source": [
    "S.study(query)"
   ]
  },
  {
   "cell_type": "code",
   "execution_count": 42,
   "metadata": {},
   "outputs": [
    {
     "name": "stdout",
     "output_type": "stream",
     "text": [
      "Search with 5 objects and 8 relations\n",
      "Results are instantiations of the following objects:\n",
      "node  0-chunk                                          10000   choices\n",
      "node  1-slot                                           10000   choices\n",
      "node  2-slot                                           40000   choices\n",
      "node  3-slot                                           10000   choices\n",
      "node  4-slot                                           40000   choices\n",
      "Performance parameters:\n",
      "\tyarnRatio            =    1.25\n",
      "\ttryLimitFrom         =      40\n",
      "\ttryLimitTo           =      40\n",
      "Instantiations are computed along the following relations:\n",
      "node                                  0-chunk          10000   choices\n",
      "edge        0-chunk            [[     3-slot               1.0 choices\n",
      "edge        3-slot             :=     0-chunk              0   choices\n",
      "edge        0-chunk            =:     1-slot               1.0 choices (thinned)\n",
      "edge        1-slot             ]]     0-chunk              0   choices\n",
      "edge        0-chunk            [[     2-slot               4.0 choices\n",
      "edge        2-slot             <      3-slot               0   choices\n",
      "edge        2-slot             >      1-slot               0   choices\n",
      "edge    2,3,1-slot           >,>,<    4-slot            2000.0 choices\n",
      "  0.93s The results are connected to the original search template as follows:\n",
      " 0     \n",
      " 1 R0  chunk\n",
      " 2 R1    =: a:slot\n",
      " 3 R2    < b:slot\n",
      " 4 R3    < c:slot\n",
      " 5       :=\n",
      " 6     \n",
      " 7 R4  s:slot\n",
      " 8     \n",
      " 9     a < s\n",
      "10     s < b\n",
      "11     s < c\n",
      "12     \n"
     ]
    }
   ],
   "source": [
    "S.showPlan(details=True)"
   ]
  },
  {
   "cell_type": "code",
   "execution_count": 43,
   "metadata": {},
   "outputs": [
    {
     "name": "stdout",
     "output_type": "stream",
     "text": [
      "         1030027 function calls (890027 primitive calls) in 2.192 seconds\n",
      "\n",
      "   Ordered by: cumulative time\n",
      "\n",
      "   ncalls  tottime  percall  cumtime  percall filename:lineno(function)\n",
      "        2    0.000    0.000    2.192    1.096 /Library/Frameworks/Python.framework/Versions/3.7/lib/python3.7/site-packages/IPython/core/interactiveshell.py:3230(run_code)\n",
      "        2    0.000    0.000    2.192    1.096 {built-in method builtins.exec}\n",
      "        1    0.000    0.000    2.192    2.192 <ipython-input-43-f769f1ab4bfb>:3(<module>)\n",
      "        1    0.000    0.000    2.192    2.192 /Users/dirk/github/annotation/text-fabric/tf/search/search.py:151(fetch)\n",
      "        1    0.000    0.000    2.192    2.192 /Users/dirk/github/annotation/text-fabric/tf/search/searchexe.py:89(fetch)\n",
      "        1    0.000    0.000    2.192    2.192 /Users/dirk/github/annotation/text-fabric/tf/search/stitch.py:692(deliver)\n",
      " 140001/1    1.989    0.000    2.192    2.192 /Users/dirk/github/annotation/text-fabric/tf/search/stitch.py:701(stitchOn)\n",
      "    40000    0.042    0.000    0.065    0.000 {built-in method builtins.sorted}\n",
      "    20000    0.019    0.000    0.039    0.000 /Users/dirk/github/annotation/text-fabric/tf/search/stitch.py:747(<lambda>)\n",
      "    40000    0.009    0.000    0.030    0.000 {built-in method builtins.all}\n",
      "    20000    0.013    0.000    0.029    0.000 /Users/dirk/github/annotation/text-fabric/tf/search/stitch.py:754(<lambda>)\n",
      "    90000    0.016    0.000    0.016    0.000 /Users/dirk/github/annotation/text-fabric/tf/search/stitch.py:764(<genexpr>)\n",
      "    40000    0.012    0.000    0.015    0.000 /Users/dirk/github/annotation/text-fabric/tf/search/stitch.py:748(<genexpr>)\n",
      "   180003    0.014    0.000    0.014    0.000 {built-in method builtins.len}\n",
      "    40000    0.009    0.000    0.012    0.000 /Users/dirk/github/annotation/text-fabric/tf/search/stitch.py:755(<genexpr>)\n",
      "    60000    0.010    0.000    0.010    0.000 /Users/dirk/github/annotation/text-fabric/tf/core/api.py:420(<lambda>)\n",
      "    60000    0.010    0.000    0.010    0.000 /Users/dirk/github/annotation/text-fabric/tf/search/stitch.py:741(<genexpr>)\n",
      "    40000    0.010    0.000    0.010    0.000 /Users/dirk/github/annotation/text-fabric/tf/search/stitch.py:740(<genexpr>)\n",
      "    60000    0.008    0.000    0.008    0.000 /Users/dirk/github/annotation/text-fabric/tf/search/relations.py:72(<lambda>)\n",
      "    60000    0.007    0.000    0.007    0.000 /Users/dirk/github/annotation/text-fabric/tf/search/stitch.py:743(<genexpr>)\n",
      "    50000    0.006    0.000    0.006    0.000 /Users/dirk/github/annotation/text-fabric/tf/search/relations.py:82(<lambda>)\n",
      "    40000    0.005    0.000    0.005    0.000 /Users/dirk/github/annotation/text-fabric/tf/search/stitch.py:742(<genexpr>)\n",
      "    20000    0.004    0.000    0.004    0.000 /Users/dirk/github/annotation/text-fabric/tf/search/relations.py:301(<lambda>)\n",
      "    10000    0.003    0.000    0.003    0.000 /Users/dirk/github/annotation/text-fabric/tf/search/relations.py:355(<lambda>)\n",
      "    10000    0.003    0.000    0.003    0.000 /Users/dirk/github/annotation/text-fabric/tf/search/relations.py:378(<lambda>)\n",
      "    10000    0.002    0.000    0.002    0.000 /Users/dirk/github/annotation/text-fabric/tf/search/relations.py:287(<lambda>)\n",
      "        2    0.000    0.000    0.000    0.000 /Library/Frameworks/Python.framework/Versions/3.7/lib/python3.7/codeop.py:132(__call__)\n",
      "        2    0.000    0.000    0.000    0.000 {built-in method builtins.compile}\n",
      "        2    0.000    0.000    0.000    0.000 /Library/Frameworks/Python.framework/Versions/3.7/lib/python3.7/site-packages/IPython/core/hooks.py:142(__call__)\n",
      "        1    0.000    0.000    0.000    0.000 <ipython-input-43-f769f1ab4bfb>:4(<module>)\n",
      "        2    0.000    0.000    0.000    0.000 /Library/Frameworks/Python.framework/Versions/3.7/lib/python3.7/site-packages/IPython/utils/ipstruct.py:125(__getattr__)\n",
      "        2    0.000    0.000    0.000    0.000 /Library/Frameworks/Python.framework/Versions/3.7/lib/python3.7/site-packages/IPython/core/interactiveshell.py:1258(user_global_ns)\n",
      "        1    0.000    0.000    0.000    0.000 {method 'disable' of '_lsprof.Profiler' objects}\n",
      "        1    0.000    0.000    0.000    0.000 /Users/dirk/github/annotation/text-fabric/tf/search/stitch.py:693(<listcomp>)\n",
      "        2    0.000    0.000    0.000    0.000 /Library/Frameworks/Python.framework/Versions/3.7/lib/python3.7/site-packages/IPython/core/hooks.py:207(pre_run_code_hook)\n",
      "\n",
      "\n",
      "\n"
     ]
    }
   ],
   "source": [
    "pr = cProfile.Profile()\n",
    "pr.enable()\n",
    "results = S.fetch(limit=2)\n",
    "pr.disable()\n",
    "s = io.StringIO()\n",
    "sortby = SortKey.CUMULATIVE\n",
    "ps = pstats.Stats(pr, stream=s).sort_stats(sortby)\n",
    "ps.print_stats()\n",
    "print(s.getvalue())"
   ]
  },
  {
   "cell_type": "code",
   "execution_count": 10,
   "metadata": {},
   "outputs": [
    {
     "name": "stdout",
     "output_type": "stream",
     "text": [
      "((400001, 1, 4, 2, 3), (400002, 5, 8, 6, 7))\n"
     ]
    }
   ],
   "source": [
    "print(results)"
   ]
  },
  {
   "cell_type": "code",
   "execution_count": 150,
   "metadata": {},
   "outputs": [
    {
     "name": "stdout",
     "output_type": "stream",
     "text": [
      "  0.00s Counting results per 1 up to 10 ...\n",
      "   |     0.00s 1\n",
      "   |     0.00s 2\n",
      "   |     0.43s 3\n",
      "   |     0.43s 4\n",
      "   |     0.86s 5\n",
      "   |     0.86s 6\n",
      "   |     1.28s 7\n",
      "   |     1.28s 8\n",
      "   |     1.70s 9\n",
      "   |     1.70s 10\n",
      "  1.70s Done: 10 results\n"
     ]
    }
   ],
   "source": [
    "S.count(progress=1, limit=10)"
   ]
  },
  {
   "cell_type": "code",
   "execution_count": null,
   "metadata": {},
   "outputs": [],
   "source": []
  }
 ],
 "metadata": {
  "kernelspec": {
   "display_name": "Python 3",
   "language": "python",
   "name": "python3"
  },
  "language_info": {
   "codemirror_mode": {
    "name": "ipython",
    "version": 3
   },
   "file_extension": ".py",
   "mimetype": "text/x-python",
   "name": "python",
   "nbconvert_exporter": "python",
   "pygments_lexer": "ipython3",
   "version": "3.7.2"
  }
 },
 "nbformat": 4,
 "nbformat_minor": 2
}
