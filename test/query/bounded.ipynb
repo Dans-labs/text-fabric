{
 "cells": [
  {
   "cell_type": "code",
   "execution_count": 1,
   "metadata": {},
   "outputs": [],
   "source": [
    "%load_ext autoreload\n",
    "%autoreload 2"
   ]
  },
  {
   "cell_type": "code",
   "execution_count": 2,
   "metadata": {},
   "outputs": [],
   "source": [
    "from tf.fabric import Fabric\n",
    "from tf.convert.walker import CV\n",
    "import cProfile, pstats, io\n",
    "from pstats import SortKey"
   ]
  },
  {
   "cell_type": "code",
   "execution_count": 3,
   "metadata": {},
   "outputs": [],
   "source": [
    "TF_PATH = '_temp/tf'"
   ]
  },
  {
   "cell_type": "markdown",
   "metadata": {},
   "source": [
    "# Make test set"
   ]
  },
  {
   "cell_type": "code",
   "execution_count": 4,
   "metadata": {},
   "outputs": [],
   "source": [
    "TF = Fabric(locations=TF_PATH, silent=True)"
   ]
  },
  {
   "cell_type": "code",
   "execution_count": 5,
   "metadata": {},
   "outputs": [
    {
     "name": "stdout",
     "output_type": "stream",
     "text": [
      "  0.00s Importing data from walking through the source ...\n",
      "   |     0.00s Preparing metadata... \n",
      "   |     0.00s No structure nodes will be set up\n",
      "   |   SECTION   TYPES:    chunk\n",
      "   |   SECTION   FEATURES: num\n",
      "   |   STRUCTURE TYPES:    \n",
      "   |   STRUCTURE FEATURES: \n",
      "   |   TEXT      FEATURES:\n",
      "   |      |   text-orig-full       cat, num\n",
      "   |     0.01s OK\n",
      "   |     0.00s Following director... \n",
      "   |     1.43s \"edge\" actions: 0\n",
      "   |     1.44s \"feature\" actions: 500000\n",
      "   |     1.44s \"node\" actions: 100000\n",
      "   |     1.44s \"resume\" actions: 0\n",
      "   |     1.44s \"slot\" actions: 400000\n",
      "   |     1.44s \"terminate\" actions: 100001\n",
      "   |     100000 x \"chunk\" node \n",
      "   |     400000 x \"slot\" node  = slot type\n",
      "   |     500000 nodes of all types\n",
      "   |     1.51s OK\n",
      "   |     0.00s checking for nodes and edges ... \n",
      "   |     0.00s OK\n",
      "   |     0.00s checking features ... \n",
      "   |     0.11s OK\n",
      "   |     0.00s reordering nodes ...\n",
      "   |     0.09s Sorting 100000 nodes of type \"chunk\"\n",
      "   |     0.23s Max node = 500000\n",
      "   |     0.24s OK\n",
      "   |     0.00s reassigning feature values ...\n",
      "   |      |     0.00s node feature \"cat\" with 400000 nodes\n",
      "   |      |     0.09s node feature \"num\" with 500000 nodes\n",
      "   |     0.30s OK\n",
      "  0.00s Exporting 3 node and 1 edge and 1 config features to _temp/tf:\n",
      "  0.00s VALIDATING oslots feature\n",
      "  0.07s VALIDATING oslots feature\n",
      "  0.07s maxSlot=     400000\n",
      "  0.07s maxNode=     500000\n",
      "  0.08s OK: oslots is valid\n",
      "   |     0.56s T cat                  to _temp/tf\n",
      "   |     0.69s T num                  to _temp/tf\n",
      "   |     0.17s T otype                to _temp/tf\n",
      "   |     0.24s T oslots               to _temp/tf\n",
      "   |     0.00s M otext                to _temp/tf\n",
      "  1.75s Exported 3 node features and 1 edge features and 1 config features to _temp/tf\n"
     ]
    }
   ],
   "source": [
    "slotType = 'slot'\n",
    "generic = {\n",
    "    'name': 'test set for query strategy testing',\n",
    "    'compiler': 'Dirk Roorda',\n",
    "}\n",
    "otext = {\n",
    "    'fmt:text-orig-full': '{num}{cat} ',\n",
    "    'sectionTypes': 'chunk',\n",
    "    'sectionFeatures': 'num',\n",
    "}\n",
    "intFeatures = {\n",
    "  'num',\n",
    "}\n",
    "featureMeta = {\n",
    "    'num': {\n",
    "        'description': 'node number',\n",
    "    },\n",
    "    'cat': {\n",
    "        'description': 'category: m f n',\n",
    "    },\n",
    "}\n",
    "\n",
    "nSlots = 400000\n",
    "chunkSize = 4\n",
    "cats = ['m', 'f', 'n']\n",
    "\n",
    "def director(cv):\n",
    "  c = None\n",
    "  for n in range(nSlots):\n",
    "    if n % chunkSize == 0:\n",
    "      cv.terminate(c)\n",
    "      c = cv.node('chunk')\n",
    "      cv.feature(c, num=n // chunkSize)\n",
    "    s = cv.slot()\n",
    "    cv.feature(s, num=n, cat=cats[n % 3])\n",
    "  cv.terminate(c)\n",
    "    \n",
    "cv = CV(TF)\n",
    "\n",
    "good = cv.walk(\n",
    "    director,\n",
    "    slotType,\n",
    "    otext=otext,\n",
    "    generic=generic,\n",
    "    intFeatures=intFeatures,\n",
    "    featureMeta=featureMeta,\n",
    ")"
   ]
  },
  {
   "cell_type": "markdown",
   "metadata": {},
   "source": [
    "# Load test set"
   ]
  },
  {
   "cell_type": "code",
   "execution_count": 4,
   "metadata": {},
   "outputs": [],
   "source": [
    "TF = Fabric(locations=TF_PATH, silent='deep')\n",
    "api = TF.loadAll()\n",
    "docs = api.makeAvailableIn(globals())\n",
    "silentOff()"
   ]
  },
  {
   "cell_type": "markdown",
   "metadata": {},
   "source": [
    "# Test use of shallow"
   ]
  },
  {
   "cell_type": "code",
   "execution_count": 5,
   "metadata": {},
   "outputs": [],
   "source": [
    "query = '''\n",
    "chunk\n",
    "  slot num=1\n",
    "  < slot\n",
    "'''"
   ]
  },
  {
   "cell_type": "code",
   "execution_count": 6,
   "metadata": {},
   "outputs": [
    {
     "data": {
      "text/plain": [
       "[(400001, 2, 3), (400001, 2, 4)]"
      ]
     },
     "execution_count": 6,
     "metadata": {},
     "output_type": "execute_result"
    }
   ],
   "source": [
    "list(S.search(query))"
   ]
  },
  {
   "cell_type": "code",
   "execution_count": 7,
   "metadata": {},
   "outputs": [
    {
     "data": {
      "text/plain": [
       "[(400001, 2)]"
      ]
     },
     "execution_count": 7,
     "metadata": {},
     "output_type": "execute_result"
    }
   ],
   "source": [
    "list(S.search(query, shallow=2))"
   ]
  },
  {
   "cell_type": "code",
   "execution_count": 8,
   "metadata": {},
   "outputs": [],
   "source": [
    "query = '''\n",
    "slot\n",
    "<: slot\n",
    "< slot\n",
    "<: slot\n",
    "< slot\n",
    "<: slot\n",
    "'''"
   ]
  },
  {
   "cell_type": "code",
   "execution_count": 35,
   "metadata": {},
   "outputs": [],
   "source": [
    "query = '''\n",
    "chunk\n",
    "  =: a:slot\n",
    "  < b:slot\n",
    "  < c:slot\n",
    "  :=\n",
    "\n",
    "s:slot\n",
    "\n",
    "a < s\n",
    "s < b\n",
    "s < c\n",
    "'''"
   ]
  },
  {
   "cell_type": "markdown",
   "metadata": {},
   "source": [
    "# Main test1\n",
    "\n",
    "This query template consists of a `chunk` and its first and last nodes,\n",
    "and an independent slot that is constrained between those nodes."
   ]
  },
  {
   "cell_type": "code",
   "execution_count": 37,
   "metadata": {},
   "outputs": [],
   "source": [
    "query = '''\n",
    "chunk\n",
    "  =: a:slot\n",
    "  < c:slot\n",
    "  :=\n",
    "\n",
    "s:slot\n",
    "\n",
    "a < s\n",
    "s < c\n",
    "'''"
   ]
  },
  {
   "cell_type": "markdown",
   "metadata": {},
   "source": [
    "First we run it with a few old strategies.\n",
    "The strategies are not really documented, except from \n",
    "comments in the code\n",
    "because they are an implementation detail.\n",
    "In case you're interested, click the strategy names to go to the code:\n",
    "\n",
    "* [`small_choice_first`](https://github.com/annotation/text-fabric/blob/85db305f357466d4735edc7aea4cdfaae6ef6774/tf/search/stitch.py#L152-L219)\n",
    "* [`small_choice_multi`](https://github.com/annotation/text-fabric/blob/85db305f357466d4735edc7aea4cdfaae6ef6774/tf/search/stitch.py#L222-L347)\n",
    "* [`by_yarn_size`](https://github.com/annotation/text-fabric/blob/85db305f357466d4735edc7aea4cdfaae6ef6774/tf/search/stitch.py#L350-L425)\n",
    "\n",
    "The third one `by_yarn_size` is virtually identical for the kind of queries we are testing here.\n",
    "So we concentrate on the first two.\n",
    "\n",
    "When we run the experiments, we do these steps:\n",
    "\n",
    "* study\n",
    "* show plan\n",
    "* fetch 10 results under a profiler and collect statistics"
   ]
  },
  {
   "cell_type": "markdown",
   "metadata": {},
   "source": [
    "## Strategy: small choice first"
   ]
  },
  {
   "cell_type": "code",
   "execution_count": 50,
   "metadata": {},
   "outputs": [
    {
     "name": "stdout",
     "output_type": "stream",
     "text": [
      "  0.00s Checking search template ...\n",
      "  0.00s Setting up search space for 4 objects ...\n",
      "  0.18s Constraining search space with 7 relations ...\n",
      "  0.52s \t2 edges thinned\n",
      "  0.52s Setting up retrieval plan with strategy small_choice_first ...\n",
      "  0.53s Ready to deliver results from 700000 nodes\n",
      "Iterate over S.fetch() to get the results\n",
      "See S.showPlan() to interpret the results\n"
     ]
    }
   ],
   "source": [
    "S.study(query, strategy='small_choice_first')"
   ]
  },
  {
   "cell_type": "code",
   "execution_count": 51,
   "metadata": {},
   "outputs": [
    {
     "name": "stdout",
     "output_type": "stream",
     "text": [
      "Search with 4 objects and 7 relations\n",
      "Results are instantiations of the following objects:\n",
      "node  0-chunk                                         100000   choices\n",
      "node  1-slot                                          100000   choices\n",
      "node  2-slot                                          100000   choices\n",
      "node  3-slot                                          400000   choices\n",
      "Performance parameters:\n",
      "\tyarnRatio            =    1.25\n",
      "\ttryLimitFrom         =      40\n",
      "\ttryLimitTo           =      40\n",
      "Instantiations are computed along the following relations:\n",
      "node                                  0-chunk         100000   choices\n",
      "edge        0-chunk            :=     2-slot               1.0 choices (thinned)\n",
      "edge        0-chunk            [[     2-slot               0   choices\n",
      "edge        0-chunk            [[     1-slot               1.0 choices\n",
      "edge        1-slot             =:     0-chunk              0   choices\n",
      "edge        1-slot             <      2-slot               0   choices\n",
      "edge        1-slot             <      3-slot          200000.0 choices\n",
      "edge        3-slot             <      2-slot               0   choices\n",
      "  4.79s The results are connected to the original search template as follows:\n",
      " 0     \n",
      " 1 R0  chunk\n",
      " 2 R1    =: a:slot\n",
      " 3 R2    < c:slot\n",
      " 4       :=\n",
      " 5     \n",
      " 6 R3  s:slot\n",
      " 7     \n",
      " 8     a < s\n",
      " 9     s < c\n",
      "10     \n"
     ]
    }
   ],
   "source": [
    "S.showPlan(details=True)"
   ]
  },
  {
   "cell_type": "code",
   "execution_count": 52,
   "metadata": {},
   "outputs": [
    {
     "name": "stdout",
     "output_type": "stream",
     "text": [
      "         8000242 function calls (6400148 primitive calls) in 2.501 seconds\n",
      "\n",
      "   Ordered by: cumulative time\n",
      "\n",
      "   ncalls  tottime  percall  cumtime  percall filename:lineno(function)\n",
      "        2    0.000    0.000    2.500    1.250 /Library/Frameworks/Python.framework/Versions/3.7/lib/python3.7/site-packages/IPython/core/interactiveshell.py:3230(run_code)\n",
      "        2    0.000    0.000    2.500    1.250 {built-in method builtins.exec}\n",
      "        1    0.000    0.000    2.500    2.500 <ipython-input-52-87271d1c4549>:3(<module>)\n",
      "        1    0.000    0.000    2.500    2.500 /Users/dirk/github/annotation/text-fabric/tf/search/search.py:151(fetch)\n",
      "        1    0.000    0.000    2.500    2.500 /Users/dirk/github/annotation/text-fabric/tf/search/searchexe.py:89(fetch)\n",
      "       11    0.000    0.000    2.500    0.227 /Users/dirk/github/annotation/text-fabric/tf/search/stitch.py:683(deliver)\n",
      "1600105/11    1.723    0.000    2.500    0.227 /Users/dirk/github/annotation/text-fabric/tf/search/stitch.py:690(stitchOn)\n",
      "  1599979    0.418    0.000    0.553    0.000 /Users/dirk/github/annotation/text-fabric/tf/search/stitch.py:729(<genexpr>)\n",
      "  3199998    0.261    0.000    0.261    0.000 /Users/dirk/github/annotation/text-fabric/tf/search/relations.py:72(<lambda>)\n",
      "  1600027    0.099    0.000    0.099    0.000 {built-in method builtins.len}\n",
      "        2    0.000    0.000    0.000    0.000 /Library/Frameworks/Python.framework/Versions/3.7/lib/python3.7/codeop.py:132(__call__)\n",
      "        2    0.000    0.000    0.000    0.000 {built-in method builtins.compile}\n",
      "       20    0.000    0.000    0.000    0.000 /Users/dirk/github/annotation/text-fabric/tf/search/stitch.py:727(<genexpr>)\n",
      "       50    0.000    0.000    0.000    0.000 /Users/dirk/github/annotation/text-fabric/tf/search/stitch.py:693(<genexpr>)\n",
      "        5    0.000    0.000    0.000    0.000 /Users/dirk/github/annotation/text-fabric/tf/search/relations.py:380(<lambda>)\n",
      "        1    0.000    0.000    0.000    0.000 <ipython-input-52-87271d1c4549>:4(<module>)\n",
      "       10    0.000    0.000    0.000    0.000 /Users/dirk/github/annotation/text-fabric/tf/search/relations.py:301(<lambda>)\n",
      "        5    0.000    0.000    0.000    0.000 /Users/dirk/github/annotation/text-fabric/tf/search/relations.py:353(<lambda>)\n",
      "       10    0.000    0.000    0.000    0.000 {method 'append' of 'list' objects}\n",
      "        2    0.000    0.000    0.000    0.000 /Library/Frameworks/Python.framework/Versions/3.7/lib/python3.7/site-packages/IPython/core/hooks.py:142(__call__)\n",
      "        1    0.000    0.000    0.000    0.000 {method 'disable' of '_lsprof.Profiler' objects}\n",
      "        1    0.000    0.000    0.000    0.000 /Users/dirk/github/annotation/text-fabric/tf/search/stitch.py:684(<listcomp>)\n",
      "        2    0.000    0.000    0.000    0.000 /Library/Frameworks/Python.framework/Versions/3.7/lib/python3.7/site-packages/IPython/utils/ipstruct.py:125(__getattr__)\n",
      "        2    0.000    0.000    0.000    0.000 /Library/Frameworks/Python.framework/Versions/3.7/lib/python3.7/site-packages/IPython/core/interactiveshell.py:1258(user_global_ns)\n",
      "        2    0.000    0.000    0.000    0.000 /Library/Frameworks/Python.framework/Versions/3.7/lib/python3.7/site-packages/IPython/core/hooks.py:207(pre_run_code_hook)\n",
      "\n",
      "\n",
      "\n"
     ]
    }
   ],
   "source": [
    "pr = cProfile.Profile()\n",
    "pr.enable()\n",
    "results = S.fetch(limit=10)\n",
    "pr.disable()\n",
    "s = io.StringIO()\n",
    "sortby = SortKey.CUMULATIVE\n",
    "ps = pstats.Stats(pr, stream=s).sort_stats(sortby)\n",
    "ps.print_stats()\n",
    "print(s.getvalue())"
   ]
  },
  {
   "cell_type": "code",
   "execution_count": 53,
   "metadata": {},
   "outputs": [
    {
     "name": "stdout",
     "output_type": "stream",
     "text": [
      "(400001, 1, 4, 2)\n",
      "(400001, 1, 4, 3)\n",
      "(400002, 5, 8, 6)\n",
      "(400002, 5, 8, 7)\n",
      "(400003, 9, 12, 10)\n",
      "(400003, 9, 12, 11)\n",
      "(400004, 13, 16, 14)\n",
      "(400004, 13, 16, 15)\n",
      "(400005, 17, 20, 18)\n",
      "(400005, 17, 20, 19)\n"
     ]
    }
   ],
   "source": [
    "print('\\n'.join(str(r) for r in results))"
   ]
  },
  {
   "cell_type": "code",
   "execution_count": 54,
   "metadata": {},
   "outputs": [
    {
     "name": "stdout",
     "output_type": "stream",
     "text": [
      "  0.00s Counting results per 1 up to 50 ...\n",
      "   |     0.00s 1\n",
      "   |     0.00s 2\n",
      "   |     0.35s 3\n",
      "   |     0.35s 4\n",
      "   |     0.69s 5\n",
      "   |     0.69s 6\n",
      "   |     1.03s 7\n",
      "   |     1.03s 8\n",
      "   |     1.36s 9\n",
      "   |     1.36s 10\n",
      "   |     1.70s 11\n",
      "   |     1.70s 12\n",
      "   |     2.06s 13\n",
      "   |     2.06s 14\n",
      "   |     2.48s 15\n",
      "   |     2.48s 16\n",
      "   |     2.84s 17\n",
      "   |     2.84s 18\n",
      "   |     3.18s 19\n",
      "   |     3.18s 20\n",
      "   |     3.51s 21\n",
      "   |     3.51s 22\n",
      "   |     3.85s 23\n",
      "   |     3.85s 24\n",
      "   |     4.18s 25\n",
      "   |     4.19s 26\n",
      "   |     4.52s 27\n",
      "   |     4.53s 28\n",
      "   |     4.86s 29\n",
      "   |     4.86s 30\n",
      "   |     5.20s 31\n",
      "   |     5.20s 32\n",
      "   |     5.54s 33\n",
      "   |     5.54s 34\n",
      "   |     5.88s 35\n",
      "   |     5.88s 36\n",
      "   |     6.33s 37\n",
      "   |     6.33s 38\n",
      "   |     6.71s 39\n",
      "   |     6.71s 40\n",
      "   |     7.04s 41\n",
      "   |     7.05s 42\n",
      "   |     7.47s 43\n",
      "   |     7.47s 44\n",
      "   |     7.85s 45\n",
      "   |     7.85s 46\n",
      "   |     8.20s 47\n",
      "   |     8.20s 48\n",
      "   |     8.53s 49\n",
      "   |     8.53s 50\n",
      "  8.53s Done: 50 results\n"
     ]
    }
   ],
   "source": [
    "S.count(progress=1, limit=50)"
   ]
  },
  {
   "cell_type": "markdown",
   "metadata": {},
   "source": [
    "## Strategy: small choice multi"
   ]
  },
  {
   "cell_type": "code",
   "execution_count": 73,
   "metadata": {},
   "outputs": [
    {
     "name": "stdout",
     "output_type": "stream",
     "text": [
      "  0.00s Checking search template ...\n",
      "  0.00s Setting up search space for 4 objects ...\n",
      "  0.17s Constraining search space with 7 relations ...\n",
      "  0.53s \t2 edges thinned\n",
      "  0.53s Setting up retrieval plan with strategy small_choice_multi ...\n",
      "  0.55s Ready to deliver results from 700000 nodes\n",
      "Iterate over S.fetch() to get the results\n",
      "See S.showPlan() to interpret the results\n"
     ]
    }
   ],
   "source": [
    "S.study(query, strategy='small_choice_multi')"
   ]
  },
  {
   "cell_type": "code",
   "execution_count": 74,
   "metadata": {},
   "outputs": [
    {
     "name": "stdout",
     "output_type": "stream",
     "text": [
      "Search with 4 objects and 6 relations\n",
      "Results are instantiations of the following objects:\n",
      "node  0-chunk                                         100000   choices\n",
      "node  1-slot                                          100000   choices\n",
      "node  2-slot                                          100000   choices\n",
      "node  3-slot                                          400000   choices\n",
      "Performance parameters:\n",
      "\tyarnRatio            =    1.25\n",
      "\ttryLimitFrom         =      40\n",
      "\ttryLimitTo           =      40\n",
      "Instantiations are computed along the following relations:\n",
      "node                                  0-chunk         100000   choices\n",
      "edge        0-chunk            :=     2-slot               1.0 choices (thinned)\n",
      "edge        0-chunk            [[     2-slot               0   choices\n",
      "edge        0-chunk            [[     1-slot               1.0 choices\n",
      "edge        1-slot             =:     0-chunk              0   choices\n",
      "edge        1-slot             <      2-slot               0   choices\n",
      "edge      1,2-slot            <,>     3-slot           20000.0 choices\n",
      "  1.42s The results are connected to the original search template as follows:\n",
      " 0     \n",
      " 1 R0  chunk\n",
      " 2 R1    =: a:slot\n",
      " 3 R2    < c:slot\n",
      " 4       :=\n",
      " 5     \n",
      " 6 R3  s:slot\n",
      " 7     \n",
      " 8     a < s\n",
      " 9     s < c\n",
      "10     \n"
     ]
    }
   ],
   "source": [
    "S.showPlan(details=True)"
   ]
  },
  {
   "cell_type": "markdown",
   "metadata": {},
   "source": [
    "Observe how two `< >` constraints have been taken together.\n",
    "They will be tested in one pass."
   ]
  },
  {
   "cell_type": "code",
   "execution_count": 75,
   "metadata": {},
   "outputs": [
    {
     "name": "stdout",
     "output_type": "stream",
     "text": [
      "         9600336 function calls (9600226 primitive calls) in 1.674 seconds\n",
      "\n",
      "   Ordered by: cumulative time\n",
      "\n",
      "   ncalls  tottime  percall  cumtime  percall filename:lineno(function)\n",
      "        2    0.000    0.000    2.695    1.347 /Library/Frameworks/Python.framework/Versions/3.7/lib/python3.7/site-packages/IPython/core/interactiveshell.py:3230(run_code)\n",
      "        2    0.000    0.000    2.695    1.347 {built-in method builtins.exec}\n",
      "        1    0.000    0.000    2.695    2.695 <ipython-input-75-87271d1c4549>:3(<module>)\n",
      "        1    0.000    0.000    2.695    2.695 /Users/dirk/github/annotation/text-fabric/tf/search/search.py:151(fetch)\n",
      "        1    0.000    0.000    2.695    2.695 /Users/dirk/github/annotation/text-fabric/tf/search/searchexe.py:89(fetch)\n",
      "       11    0.000    0.000    2.695    0.245 /Users/dirk/github/annotation/text-fabric/tf/search/stitch.py:683(deliver)\n",
      "   121/11    0.000    0.000    2.695    0.245 /Users/dirk/github/annotation/text-fabric/tf/search/stitch.py:690(stitchOn)\n",
      "  1600019    0.355    0.000    1.524    0.000 {built-in method builtins.all}\n",
      "  4800012    1.043    0.000    1.318    0.000 /Users/dirk/github/annotation/text-fabric/tf/search/stitch.py:727(<genexpr>)\n",
      "  1600024    0.142    0.000    0.142    0.000 /Users/dirk/github/annotation/text-fabric/tf/search/relations.py:72(<lambda>)\n",
      "  1599974    0.133    0.000    0.133    0.000 /Users/dirk/github/annotation/text-fabric/tf/search/relations.py:82(<lambda>)\n",
      "        2    0.000    0.000    0.000    0.000 /Library/Frameworks/Python.framework/Versions/3.7/lib/python3.7/codeop.py:132(__call__)\n",
      "        2    0.000    0.000    0.000    0.000 {built-in method builtins.compile}\n",
      "       20    0.000    0.000    0.000    0.000 /Users/dirk/github/annotation/text-fabric/tf/search/stitch.py:730(<genexpr>)\n",
      "       50    0.000    0.000    0.000    0.000 /Users/dirk/github/annotation/text-fabric/tf/search/stitch.py:693(<genexpr>)\n",
      "        5    0.000    0.000    0.000    0.000 /Users/dirk/github/annotation/text-fabric/tf/search/relations.py:380(<lambda>)\n",
      "       53    0.000    0.000    0.000    0.000 {built-in method builtins.len}\n",
      "        1    0.000    0.000    0.000    0.000 <ipython-input-75-87271d1c4549>:4(<module>)\n",
      "        2    0.000    0.000    0.000    0.000 /Library/Frameworks/Python.framework/Versions/3.7/lib/python3.7/site-packages/IPython/core/hooks.py:142(__call__)\n",
      "       10    0.000    0.000    0.000    0.000 {method 'append' of 'list' objects}\n",
      "       10    0.000    0.000    0.000    0.000 /Users/dirk/github/annotation/text-fabric/tf/search/relations.py:301(<lambda>)\n",
      "        1    0.000    0.000    0.000    0.000 {method 'disable' of '_lsprof.Profiler' objects}\n",
      "        5    0.000    0.000    0.000    0.000 /Users/dirk/github/annotation/text-fabric/tf/search/relations.py:353(<lambda>)\n",
      "        2    0.000    0.000    0.000    0.000 /Library/Frameworks/Python.framework/Versions/3.7/lib/python3.7/site-packages/IPython/utils/ipstruct.py:125(__getattr__)\n",
      "        2    0.000    0.000    0.000    0.000 /Library/Frameworks/Python.framework/Versions/3.7/lib/python3.7/site-packages/IPython/core/interactiveshell.py:1258(user_global_ns)\n",
      "        2    0.000    0.000    0.000    0.000 /Library/Frameworks/Python.framework/Versions/3.7/lib/python3.7/site-packages/IPython/core/hooks.py:207(pre_run_code_hook)\n",
      "        1    0.000    0.000    0.000    0.000 /Users/dirk/github/annotation/text-fabric/tf/search/stitch.py:684(<listcomp>)\n",
      "\n",
      "\n",
      "\n"
     ]
    }
   ],
   "source": [
    "pr = cProfile.Profile()\n",
    "pr.enable()\n",
    "results = S.fetch(limit=10)\n",
    "pr.disable()\n",
    "s = io.StringIO()\n",
    "sortby = SortKey.CUMULATIVE\n",
    "ps = pstats.Stats(pr, stream=s).sort_stats(sortby)\n",
    "ps.print_stats()\n",
    "print(s.getvalue())"
   ]
  },
  {
   "cell_type": "code",
   "execution_count": 76,
   "metadata": {},
   "outputs": [
    {
     "name": "stdout",
     "output_type": "stream",
     "text": [
      "(400001, 1, 4, 2)\n",
      "(400001, 1, 4, 3)\n",
      "(400002, 5, 8, 6)\n",
      "(400002, 5, 8, 7)\n",
      "(400003, 9, 12, 10)\n",
      "(400003, 9, 12, 11)\n",
      "(400004, 13, 16, 14)\n",
      "(400004, 13, 16, 15)\n",
      "(400005, 17, 20, 18)\n",
      "(400005, 17, 20, 19)\n"
     ]
    }
   ],
   "source": [
    "print('\\n'.join(str(r) for r in results))"
   ]
  },
  {
   "cell_type": "code",
   "execution_count": 77,
   "metadata": {},
   "outputs": [
    {
     "name": "stdout",
     "output_type": "stream",
     "text": [
      "  0.00s Counting results per 1 up to 50 ...\n",
      "   |     0.00s 1\n",
      "   |     0.00s 2\n",
      "   |     0.39s 3\n",
      "   |     0.39s 4\n",
      "   |     0.77s 5\n",
      "   |     0.77s 6\n",
      "   |     1.14s 7\n",
      "   |     1.14s 8\n",
      "   |     1.51s 9\n",
      "   |     1.51s 10\n",
      "   |     1.88s 11\n",
      "   |     1.88s 12\n",
      "   |     2.25s 13\n",
      "   |     2.25s 14\n",
      "   |     2.62s 15\n",
      "   |     2.62s 16\n",
      "   |     2.99s 17\n",
      "   |     2.99s 18\n",
      "   |     3.35s 19\n",
      "   |     3.35s 20\n",
      "   |     3.72s 21\n",
      "   |     3.72s 22\n",
      "   |     4.09s 23\n",
      "   |     4.09s 24\n",
      "   |     4.46s 25\n",
      "   |     4.46s 26\n",
      "   |     4.83s 27\n",
      "   |     4.83s 28\n",
      "   |     5.20s 29\n",
      "   |     5.20s 30\n",
      "   |     5.57s 31\n",
      "   |     5.57s 32\n",
      "   |     5.94s 33\n",
      "   |     5.94s 34\n",
      "   |     6.30s 35\n",
      "   |     6.30s 36\n",
      "   |     6.67s 37\n",
      "   |     6.67s 38\n",
      "   |     7.05s 39\n",
      "   |     7.05s 40\n",
      "   |     7.41s 41\n",
      "   |     7.42s 42\n",
      "   |     7.81s 43\n",
      "   |     7.81s 44\n",
      "   |     8.19s 45\n",
      "   |     8.19s 46\n",
      "   |     8.55s 47\n",
      "   |     8.56s 48\n",
      "   |     8.93s 49\n",
      "   |     8.93s 50\n",
      "  8.93s Done: 50 results\n"
     ]
    }
   ],
   "source": [
    "S.count(progress=1, limit=50)"
   ]
  },
  {
   "cell_type": "markdown",
   "metadata": {},
   "source": [
    "## Observations:\n",
    "\n",
    "For this query, `by_yarn_size` and `small_choice_first` have the same plan and performance.\n",
    "\n",
    "But `small_choice_multi` has a better performance.\n",
    "\n",
    "It does only 60% of the function calls that the others do.\n",
    "\n",
    "`small_choice_multi` has a ratio of primitive calls versus other (slower) function calls of 100%.\n",
    "\n",
    "For the others it is 80%.\n",
    "\n",
    "Concretely: 1,600,000 function calls dropped to 121 .\n",
    "\n",
    "And 6,400,000 primitive calls dropped to 4,800,000 .\n",
    "\n",
    "But note that the time it takes to get 50 results is worse for the last strategy.\n",
    "\n",
    "There is a price: the most time consuming bit is this line:\n",
    "\n",
    "```python\n",
    "(m for m in yarnT if all(r[i](stitch[x], m) for (i, x) in enumerate(f)))\n",
    "```\n",
    "\n",
    "The yarn is the space of nodes where we have to find an instantiation of an object in the template.\n",
    "The instantiation must satisfy all the constraints.\n",
    "\n",
    "In this case, the yarn contains basically all slots, the constraints are the `r[i]`, which are `<` or `>` conditions\n",
    "with respect to two already known nodes: `stitch[x1]` and `stitch[x2]`.\n",
    "\n",
    "Running the `all()` statement so often, has a cost, although it is still a primitive operation."
   ]
  },
  {
   "cell_type": "markdown",
   "metadata": {},
   "source": [
    "# Main test 2\n",
    "\n",
    "We leave out something of the query."
   ]
  },
  {
   "cell_type": "code",
   "execution_count": 78,
   "metadata": {},
   "outputs": [],
   "source": [
    "query = '''\n",
    "chunk\n",
    "  =: a:slot\n",
    "  c:slot\n",
    "  :=\n",
    "\n",
    "s:slot\n",
    "\n",
    "a < s\n",
    "s < c\n",
    "'''"
   ]
  },
  {
   "cell_type": "markdown",
   "metadata": {},
   "source": [
    "It should not make a difference to the outcome that we omit the `a < c` condition, since all chunks have a length greater than 1,\n",
    "so the first slot of a chunk is always before the last one (and not identical with it)."
   ]
  },
  {
   "cell_type": "markdown",
   "metadata": {},
   "source": [
    "## Strategy: small choice first"
   ]
  },
  {
   "cell_type": "code",
   "execution_count": 84,
   "metadata": {},
   "outputs": [
    {
     "name": "stdout",
     "output_type": "stream",
     "text": [
      "  0.00s Checking search template ...\n",
      "  0.00s Setting up search space for 4 objects ...\n",
      "  0.18s Constraining search space with 6 relations ...\n",
      "  0.53s \t2 edges thinned\n",
      "  0.53s Setting up retrieval plan with strategy small_choice_first ...\n",
      "  0.55s Ready to deliver results from 700000 nodes\n",
      "Iterate over S.fetch() to get the results\n",
      "See S.showPlan() to interpret the results\n"
     ]
    }
   ],
   "source": [
    "S.study(query, strategy='small_choice_first')"
   ]
  },
  {
   "cell_type": "code",
   "execution_count": 85,
   "metadata": {},
   "outputs": [
    {
     "name": "stdout",
     "output_type": "stream",
     "text": [
      "Search with 4 objects and 6 relations\n",
      "Results are instantiations of the following objects:\n",
      "node  0-chunk                                         100000   choices\n",
      "node  1-slot                                          100000   choices\n",
      "node  2-slot                                          100000   choices\n",
      "node  3-slot                                          400000   choices\n",
      "Performance parameters:\n",
      "\tyarnRatio            =    1.25\n",
      "\ttryLimitFrom         =      40\n",
      "\ttryLimitTo           =      40\n",
      "Instantiations are computed along the following relations:\n",
      "node                                  0-chunk         100000   choices\n",
      "edge        0-chunk            [[     2-slot               1.0 choices\n",
      "edge        2-slot             :=     0-chunk              0   choices\n",
      "edge        0-chunk            [[     1-slot               1.0 choices\n",
      "edge        1-slot             =:     0-chunk              0   choices\n",
      "edge        2-slot             >      3-slot          200000.0 choices\n",
      "edge        3-slot             >      1-slot               0   choices\n",
      "  2.63s The results are connected to the original search template as follows:\n",
      " 0     \n",
      " 1 R0  chunk\n",
      " 2 R1    =: a:slot\n",
      " 3 R2    c:slot\n",
      " 4       :=\n",
      " 5     \n",
      " 6 R3  s:slot\n",
      " 7     \n",
      " 8     a < s\n",
      " 9     s < c\n",
      "10     \n"
     ]
    }
   ],
   "source": [
    "S.showPlan(details=True)"
   ]
  },
  {
   "cell_type": "code",
   "execution_count": 86,
   "metadata": {},
   "outputs": [
    {
     "name": "stdout",
     "output_type": "stream",
     "text": [
      "         1600541 function calls (1600381 primitive calls) in 0.371 seconds\n",
      "\n",
      "   Ordered by: cumulative time\n",
      "\n",
      "   ncalls  tottime  percall  cumtime  percall filename:lineno(function)\n",
      "        2    0.000    0.000    0.370    0.185 /Library/Frameworks/Python.framework/Versions/3.7/lib/python3.7/site-packages/IPython/core/interactiveshell.py:3230(run_code)\n",
      "        2    0.000    0.000    0.370    0.185 {built-in method builtins.exec}\n",
      "        1    0.000    0.000    0.370    0.370 <ipython-input-86-87271d1c4549>:3(<module>)\n",
      "        1    0.000    0.000    0.370    0.370 /Users/dirk/github/annotation/text-fabric/tf/search/search.py:151(fetch)\n",
      "        1    0.000    0.000    0.370    0.370 /Users/dirk/github/annotation/text-fabric/tf/search/searchexe.py:89(fetch)\n",
      "       11    0.000    0.000    0.370    0.034 /Users/dirk/github/annotation/text-fabric/tf/search/stitch.py:683(deliver)\n",
      "   171/11    0.000    0.000    0.370    0.034 /Users/dirk/github/annotation/text-fabric/tf/search/stitch.py:690(stitchOn)\n",
      "       60    0.259    0.004    0.370    0.006 /Users/dirk/github/annotation/text-fabric/tf/search/stitch.py:732(<genexpr>)\n",
      "  1600074    0.111    0.000    0.111    0.000 /Users/dirk/github/annotation/text-fabric/tf/search/relations.py:82(<lambda>)\n",
      "        2    0.000    0.000    0.000    0.000 /Library/Frameworks/Python.framework/Versions/3.7/lib/python3.7/codeop.py:132(__call__)\n",
      "        2    0.000    0.000    0.000    0.000 {built-in method builtins.compile}\n",
      "      103    0.000    0.000    0.000    0.000 {built-in method builtins.len}\n",
      "       20    0.000    0.000    0.000    0.000 /Users/dirk/github/annotation/text-fabric/tf/search/stitch.py:730(<genexpr>)\n",
      "       50    0.000    0.000    0.000    0.000 /Users/dirk/github/annotation/text-fabric/tf/search/stitch.py:693(<genexpr>)\n",
      "       10    0.000    0.000    0.000    0.000 /Users/dirk/github/annotation/text-fabric/tf/search/relations.py:301(<lambda>)\n",
      "        1    0.000    0.000    0.000    0.000 <ipython-input-86-87271d1c4549>:4(<module>)\n",
      "        5    0.000    0.000    0.000    0.000 /Users/dirk/github/annotation/text-fabric/tf/search/relations.py:353(<lambda>)\n",
      "       10    0.000    0.000    0.000    0.000 {method 'append' of 'list' objects}\n",
      "        5    0.000    0.000    0.000    0.000 /Users/dirk/github/annotation/text-fabric/tf/search/relations.py:378(<lambda>)\n",
      "        2    0.000    0.000    0.000    0.000 /Library/Frameworks/Python.framework/Versions/3.7/lib/python3.7/site-packages/IPython/core/hooks.py:142(__call__)\n",
      "        1    0.000    0.000    0.000    0.000 /Users/dirk/github/annotation/text-fabric/tf/search/stitch.py:684(<listcomp>)\n",
      "        2    0.000    0.000    0.000    0.000 /Library/Frameworks/Python.framework/Versions/3.7/lib/python3.7/site-packages/IPython/utils/ipstruct.py:125(__getattr__)\n",
      "        2    0.000    0.000    0.000    0.000 /Library/Frameworks/Python.framework/Versions/3.7/lib/python3.7/site-packages/IPython/core/interactiveshell.py:1258(user_global_ns)\n",
      "        1    0.000    0.000    0.000    0.000 {method 'disable' of '_lsprof.Profiler' objects}\n",
      "        2    0.000    0.000    0.000    0.000 /Library/Frameworks/Python.framework/Versions/3.7/lib/python3.7/site-packages/IPython/core/hooks.py:207(pre_run_code_hook)\n",
      "\n",
      "\n",
      "\n"
     ]
    }
   ],
   "source": [
    "pr = cProfile.Profile()\n",
    "pr.enable()\n",
    "results = S.fetch(limit=10)\n",
    "pr.disable()\n",
    "s = io.StringIO()\n",
    "sortby = SortKey.CUMULATIVE\n",
    "ps = pstats.Stats(pr, stream=s).sort_stats(sortby)\n",
    "ps.print_stats()\n",
    "print(s.getvalue())"
   ]
  },
  {
   "cell_type": "code",
   "execution_count": 87,
   "metadata": {},
   "outputs": [
    {
     "name": "stdout",
     "output_type": "stream",
     "text": [
      "(400001, 1, 4, 2)\n",
      "(400001, 1, 4, 3)\n",
      "(400002, 5, 8, 6)\n",
      "(400002, 5, 8, 7)\n",
      "(400003, 9, 12, 10)\n",
      "(400003, 9, 12, 11)\n",
      "(400004, 13, 16, 14)\n",
      "(400004, 13, 16, 15)\n",
      "(400005, 17, 20, 18)\n",
      "(400005, 17, 20, 19)\n"
     ]
    }
   ],
   "source": [
    "print('\\n'.join(str(r) for r in results))"
   ]
  },
  {
   "cell_type": "code",
   "execution_count": 88,
   "metadata": {},
   "outputs": [
    {
     "name": "stdout",
     "output_type": "stream",
     "text": [
      "  0.00s Counting results per 1 up to 50 ...\n",
      "   |     0.00s 1\n",
      "   |     0.00s 2\n",
      "   |     0.07s 3\n",
      "   |     0.07s 4\n",
      "   |     0.12s 5\n",
      "   |     0.12s 6\n",
      "   |     0.18s 7\n",
      "   |     0.18s 8\n",
      "   |     0.23s 9\n",
      "   |     0.23s 10\n",
      "   |     0.29s 11\n",
      "   |     0.29s 12\n",
      "   |     0.34s 13\n",
      "   |     0.34s 14\n",
      "   |     0.40s 15\n",
      "   |     0.40s 16\n",
      "   |     0.46s 17\n",
      "   |     0.46s 18\n",
      "   |     0.51s 19\n",
      "   |     0.51s 20\n",
      "   |     0.57s 21\n",
      "   |     0.57s 22\n",
      "   |     0.63s 23\n",
      "   |     0.63s 24\n",
      "   |     0.68s 25\n",
      "   |     0.68s 26\n",
      "   |     0.73s 27\n",
      "   |     0.73s 28\n",
      "   |     0.79s 29\n",
      "   |     0.79s 30\n",
      "   |     0.85s 31\n",
      "   |     0.85s 32\n",
      "   |     0.90s 33\n",
      "   |     0.90s 34\n",
      "   |     0.96s 35\n",
      "   |     0.96s 36\n",
      "   |     1.02s 37\n",
      "   |     1.02s 38\n",
      "   |     1.07s 39\n",
      "   |     1.07s 40\n",
      "   |     1.12s 41\n",
      "   |     1.12s 42\n",
      "   |     1.17s 43\n",
      "   |     1.17s 44\n",
      "   |     1.23s 45\n",
      "   |     1.23s 46\n",
      "   |     1.28s 47\n",
      "   |     1.28s 48\n",
      "   |     1.33s 49\n",
      "   |     1.33s 50\n",
      "  1.33s Done: 50 results\n"
     ]
    }
   ],
   "source": [
    "S.count(progress=1, limit=50)"
   ]
  },
  {
   "cell_type": "markdown",
   "metadata": {},
   "source": [
    "## Strategy: small choice multi"
   ]
  },
  {
   "cell_type": "code",
   "execution_count": 89,
   "metadata": {},
   "outputs": [
    {
     "name": "stdout",
     "output_type": "stream",
     "text": [
      "  0.00s Checking search template ...\n",
      "  0.00s Setting up search space for 4 objects ...\n",
      "  0.18s Constraining search space with 6 relations ...\n",
      "  0.53s \t2 edges thinned\n",
      "  0.53s Setting up retrieval plan with strategy small_choice_multi ...\n",
      "  0.55s Ready to deliver results from 700000 nodes\n",
      "Iterate over S.fetch() to get the results\n",
      "See S.showPlan() to interpret the results\n"
     ]
    }
   ],
   "source": [
    "S.study(query, strategy='small_choice_multi')"
   ]
  },
  {
   "cell_type": "code",
   "execution_count": 90,
   "metadata": {},
   "outputs": [
    {
     "name": "stdout",
     "output_type": "stream",
     "text": [
      "Search with 4 objects and 5 relations\n",
      "Results are instantiations of the following objects:\n",
      "node  0-chunk                                         100000   choices\n",
      "node  1-slot                                          100000   choices\n",
      "node  2-slot                                          100000   choices\n",
      "node  3-slot                                          400000   choices\n",
      "Performance parameters:\n",
      "\tyarnRatio            =    1.25\n",
      "\ttryLimitFrom         =      40\n",
      "\ttryLimitTo           =      40\n",
      "Instantiations are computed along the following relations:\n",
      "node                                  0-chunk         100000   choices\n",
      "edge        0-chunk            [[     2-slot               1.0 choices\n",
      "edge        2-slot             :=     0-chunk              0   choices\n",
      "edge        0-chunk            [[     1-slot               1.0 choices\n",
      "edge        1-slot             =:     0-chunk              0   choices\n",
      "edge      2,1-slot            >,<     3-slot           20000.0 choices\n",
      "  6.39s The results are connected to the original search template as follows:\n",
      " 0     \n",
      " 1 R0  chunk\n",
      " 2 R1    =: a:slot\n",
      " 3 R2    c:slot\n",
      " 4       :=\n",
      " 5     \n",
      " 6 R3  s:slot\n",
      " 7     \n",
      " 8     a < s\n",
      " 9     s < c\n",
      "10     \n"
     ]
    }
   ],
   "source": [
    "S.showPlan(details=True)"
   ]
  },
  {
   "cell_type": "markdown",
   "metadata": {},
   "source": [
    "Observe how two `< >` constraints have been taken together.\n",
    "They will be tested in one pass."
   ]
  },
  {
   "cell_type": "code",
   "execution_count": 91,
   "metadata": {},
   "outputs": [
    {
     "name": "stdout",
     "output_type": "stream",
     "text": [
      "         6400473 function calls (6400378 primitive calls) in 0.901 seconds\n",
      "\n",
      "   Ordered by: cumulative time\n",
      "\n",
      "   ncalls  tottime  percall  cumtime  percall filename:lineno(function)\n",
      "        2    0.000    0.000    1.842    0.921 /Library/Frameworks/Python.framework/Versions/3.7/lib/python3.7/site-packages/IPython/core/interactiveshell.py:3230(run_code)\n",
      "        2    0.000    0.000    1.842    0.921 {built-in method builtins.exec}\n",
      "        1    0.000    0.000    1.842    1.842 <ipython-input-91-87271d1c4549>:3(<module>)\n",
      "        1    0.000    0.000    1.842    1.842 /Users/dirk/github/annotation/text-fabric/tf/search/search.py:151(fetch)\n",
      "        1    0.000    0.000    1.842    1.842 /Users/dirk/github/annotation/text-fabric/tf/search/searchexe.py:89(fetch)\n",
      "       11    0.000    0.000    1.842    0.167 /Users/dirk/github/annotation/text-fabric/tf/search/stitch.py:683(deliver)\n",
      "   106/11    0.000    0.000    1.842    0.167 /Users/dirk/github/annotation/text-fabric/tf/search/stitch.py:690(stitchOn)\n",
      "  1600019    0.207    0.000    0.763    0.000 {built-in method builtins.all}\n",
      "  3200093    0.565    0.000    0.694    0.000 /Users/dirk/github/annotation/text-fabric/tf/search/stitch.py:727(<genexpr>)\n",
      "  1600019    0.129    0.000    0.129    0.000 /Users/dirk/github/annotation/text-fabric/tf/search/relations.py:82(<lambda>)\n",
      "        2    0.000    0.000    0.000    0.000 /Library/Frameworks/Python.framework/Versions/3.7/lib/python3.7/codeop.py:132(__call__)\n",
      "        2    0.000    0.000    0.000    0.000 {built-in method builtins.compile}\n",
      "       20    0.000    0.000    0.000    0.000 /Users/dirk/github/annotation/text-fabric/tf/search/stitch.py:730(<genexpr>)\n",
      "       50    0.000    0.000    0.000    0.000 /Users/dirk/github/annotation/text-fabric/tf/search/stitch.py:693(<genexpr>)\n",
      "       48    0.000    0.000    0.000    0.000 {built-in method builtins.len}\n",
      "       55    0.000    0.000    0.000    0.000 /Users/dirk/github/annotation/text-fabric/tf/search/relations.py:72(<lambda>)\n",
      "       10    0.000    0.000    0.000    0.000 /Users/dirk/github/annotation/text-fabric/tf/search/relations.py:301(<lambda>)\n",
      "        5    0.000    0.000    0.000    0.000 /Users/dirk/github/annotation/text-fabric/tf/search/relations.py:353(<lambda>)\n",
      "        2    0.000    0.000    0.000    0.000 /Library/Frameworks/Python.framework/Versions/3.7/lib/python3.7/site-packages/IPython/core/hooks.py:142(__call__)\n",
      "        1    0.000    0.000    0.000    0.000 <ipython-input-91-87271d1c4549>:4(<module>)\n",
      "        5    0.000    0.000    0.000    0.000 /Users/dirk/github/annotation/text-fabric/tf/search/relations.py:378(<lambda>)\n",
      "       10    0.000    0.000    0.000    0.000 {method 'append' of 'list' objects}\n",
      "        2    0.000    0.000    0.000    0.000 /Library/Frameworks/Python.framework/Versions/3.7/lib/python3.7/site-packages/IPython/utils/ipstruct.py:125(__getattr__)\n",
      "        2    0.000    0.000    0.000    0.000 /Library/Frameworks/Python.framework/Versions/3.7/lib/python3.7/site-packages/IPython/core/interactiveshell.py:1258(user_global_ns)\n",
      "        1    0.000    0.000    0.000    0.000 {method 'disable' of '_lsprof.Profiler' objects}\n",
      "        1    0.000    0.000    0.000    0.000 /Users/dirk/github/annotation/text-fabric/tf/search/stitch.py:684(<listcomp>)\n",
      "        2    0.000    0.000    0.000    0.000 /Library/Frameworks/Python.framework/Versions/3.7/lib/python3.7/site-packages/IPython/core/hooks.py:207(pre_run_code_hook)\n",
      "\n",
      "\n",
      "\n"
     ]
    }
   ],
   "source": [
    "pr = cProfile.Profile()\n",
    "pr.enable()\n",
    "results = S.fetch(limit=10)\n",
    "pr.disable()\n",
    "s = io.StringIO()\n",
    "sortby = SortKey.CUMULATIVE\n",
    "ps = pstats.Stats(pr, stream=s).sort_stats(sortby)\n",
    "ps.print_stats()\n",
    "print(s.getvalue())"
   ]
  },
  {
   "cell_type": "code",
   "execution_count": 92,
   "metadata": {},
   "outputs": [
    {
     "name": "stdout",
     "output_type": "stream",
     "text": [
      "(400001, 1, 4, 2)\n",
      "(400001, 1, 4, 3)\n",
      "(400002, 5, 8, 6)\n",
      "(400002, 5, 8, 7)\n",
      "(400003, 9, 12, 10)\n",
      "(400003, 9, 12, 11)\n",
      "(400004, 13, 16, 14)\n",
      "(400004, 13, 16, 15)\n",
      "(400005, 17, 20, 18)\n",
      "(400005, 17, 20, 19)\n"
     ]
    }
   ],
   "source": [
    "print('\\n'.join(str(r) for r in results))"
   ]
  },
  {
   "cell_type": "code",
   "execution_count": 93,
   "metadata": {},
   "outputs": [
    {
     "name": "stdout",
     "output_type": "stream",
     "text": [
      "  0.00s Counting results per 1 up to 50 ...\n",
      "   |     0.00s 1\n",
      "   |     0.00s 2\n",
      "   |     0.30s 3\n",
      "   |     0.30s 4\n",
      "   |     0.58s 5\n",
      "   |     0.58s 6\n",
      "   |     0.88s 7\n",
      "   |     0.88s 8\n",
      "   |     1.16s 9\n",
      "   |     1.16s 10\n",
      "   |     1.45s 11\n",
      "   |     1.45s 12\n",
      "   |     1.83s 13\n",
      "   |     1.83s 14\n",
      "   |     2.17s 15\n",
      "   |     2.17s 16\n",
      "   |     2.47s 17\n",
      "   |     2.47s 18\n",
      "   |     2.81s 19\n",
      "   |     2.81s 20\n",
      "   |     3.17s 21\n",
      "   |     3.17s 22\n",
      "   |     3.49s 23\n",
      "   |     3.49s 24\n",
      "   |     3.78s 25\n",
      "   |     3.78s 26\n",
      "   |     4.06s 27\n",
      "   |     4.06s 28\n",
      "   |     4.35s 29\n",
      "   |     4.35s 30\n",
      "   |     4.63s 31\n",
      "   |     4.63s 32\n",
      "   |     4.96s 33\n",
      "   |     4.96s 34\n",
      "   |     5.31s 35\n",
      "   |     5.31s 36\n",
      "   |     5.63s 37\n",
      "   |     5.63s 38\n",
      "   |     5.92s 39\n",
      "   |     5.92s 40\n",
      "   |     6.21s 41\n",
      "   |     6.21s 42\n",
      "   |     6.49s 43\n",
      "   |     6.49s 44\n",
      "   |     6.78s 45\n",
      "   |     6.79s 46\n",
      "   |     7.07s 47\n",
      "   |     7.07s 48\n",
      "   |     7.35s 49\n",
      "   |     7.35s 50\n",
      "  7.35s Done: 50 results\n"
     ]
    }
   ],
   "source": [
    "S.count(progress=1, limit=50)"
   ]
  },
  {
   "cell_type": "markdown",
   "metadata": {},
   "source": [
    "# Main test 3\n",
    "\n",
    "We add something of the query."
   ]
  },
  {
   "cell_type": "code",
   "execution_count": 97,
   "metadata": {},
   "outputs": [],
   "source": [
    "query = '''\n",
    "chunk\n",
    "  =: a:slot\n",
    "  < b:slot\n",
    "  < d:slot\n",
    "  c:slot\n",
    "  :=\n",
    "\n",
    "s:slot\n",
    "\n",
    "b < s\n",
    "s < d\n",
    "'''"
   ]
  },
  {
   "cell_type": "markdown",
   "metadata": {},
   "source": [
    "It becomes more difficult to constrain s within the chunk.\n",
    "\n",
    "This is a heavy query."
   ]
  },
  {
   "cell_type": "markdown",
   "metadata": {},
   "source": [
    "## Strategy: small choice first"
   ]
  },
  {
   "cell_type": "code",
   "execution_count": 102,
   "metadata": {},
   "outputs": [
    {
     "name": "stdout",
     "output_type": "stream",
     "text": [
      "  0.00s Checking search template ...\n",
      "  0.00s Setting up search space for 6 objects ...\n",
      "  0.27s Constraining search space with 10 relations ...\n",
      "  0.93s \t2 edges thinned\n",
      "  0.93s Setting up retrieval plan with strategy small_choice_first ...\n",
      "  0.96s Ready to deliver results from 1500000 nodes\n",
      "Iterate over S.fetch() to get the results\n",
      "See S.showPlan() to interpret the results\n"
     ]
    }
   ],
   "source": [
    "S.study(query, strategy='small_choice_first')"
   ]
  },
  {
   "cell_type": "code",
   "execution_count": 103,
   "metadata": {},
   "outputs": [
    {
     "name": "stdout",
     "output_type": "stream",
     "text": [
      "Search with 6 objects and 10 relations\n",
      "Results are instantiations of the following objects:\n",
      "node  0-chunk                                         100000   choices\n",
      "node  1-slot                                          100000   choices\n",
      "node  2-slot                                          400000   choices\n",
      "node  3-slot                                          400000   choices\n",
      "node  4-slot                                          100000   choices\n",
      "node  5-slot                                          400000   choices\n",
      "Performance parameters:\n",
      "\tyarnRatio            =    1.25\n",
      "\ttryLimitFrom         =      40\n",
      "\ttryLimitTo           =      40\n",
      "Instantiations are computed along the following relations:\n",
      "node                                  0-chunk         100000   choices\n",
      "edge        0-chunk            :=     4-slot               1.0 choices (thinned)\n",
      "edge        4-slot             ]]     0-chunk              0   choices\n",
      "edge        0-chunk            =:     1-slot               1.0 choices (thinned)\n",
      "edge        1-slot             ]]     0-chunk              0   choices\n",
      "edge        0-chunk            [[     3-slot               4.0 choices\n",
      "edge        0-chunk            [[     2-slot               4.0 choices\n",
      "edge        2-slot             >      1-slot               0   choices\n",
      "edge        2-slot             <      3-slot               0   choices\n",
      "edge        2-slot             <      5-slot          200000.0 choices\n",
      "edge        5-slot             <      3-slot               0   choices\n",
      "  2.59s The results are connected to the original search template as follows:\n",
      " 0     \n",
      " 1 R0  chunk\n",
      " 2 R1    =: a:slot\n",
      " 3 R2    < b:slot\n",
      " 4 R3    < d:slot\n",
      " 5 R4    c:slot\n",
      " 6       :=\n",
      " 7     \n",
      " 8 R5  s:slot\n",
      " 9     \n",
      "10     b < s\n",
      "11     s < d\n",
      "12     \n"
     ]
    }
   ],
   "source": [
    "S.showPlan(details=True)"
   ]
  },
  {
   "cell_type": "code",
   "execution_count": 104,
   "metadata": {},
   "outputs": [
    {
     "name": "stdout",
     "output_type": "stream",
     "text": [
      "         55999651 function calls (44799668 primitive calls) in 17.413 seconds\n",
      "\n",
      "   Ordered by: cumulative time\n",
      "\n",
      "   ncalls  tottime  percall  cumtime  percall filename:lineno(function)\n",
      "        2    0.000    0.000   17.413    8.706 /Library/Frameworks/Python.framework/Versions/3.7/lib/python3.7/site-packages/IPython/core/interactiveshell.py:3230(run_code)\n",
      "        2    0.000    0.000   17.413    8.706 {built-in method builtins.exec}\n",
      "        1    0.000    0.000   17.413   17.413 <ipython-input-104-87271d1c4549>:3(<module>)\n",
      "        1    0.000    0.000   17.413   17.413 /Users/dirk/github/annotation/text-fabric/tf/search/search.py:151(fetch)\n",
      "        1    0.000    0.000   17.413   17.413 /Users/dirk/github/annotation/text-fabric/tf/search/searchexe.py:89(fetch)\n",
      "       11    0.000    0.000   17.413    1.583 /Users/dirk/github/annotation/text-fabric/tf/search/stitch.py:683(deliver)\n",
      "11199994/11   12.022    0.000   17.413    1.583 /Users/dirk/github/annotation/text-fabric/tf/search/stitch.py:690(stitchOn)\n",
      " 11199497    2.898    0.000    3.844    0.000 /Users/dirk/github/annotation/text-fabric/tf/search/stitch.py:732(<genexpr>)\n",
      " 22399625    1.814    0.000    1.814    0.000 /Users/dirk/github/annotation/text-fabric/tf/search/relations.py:72(<lambda>)\n",
      " 11199886    0.678    0.000    0.678    0.000 {built-in method builtins.len}\n",
      "      288    0.000    0.000    0.000    0.000 /Users/dirk/github/annotation/text-fabric/tf/search/stitch.py:730(<genexpr>)\n",
      "        2    0.000    0.000    0.000    0.000 /Library/Frameworks/Python.framework/Versions/3.7/lib/python3.7/codeop.py:132(__call__)\n",
      "        2    0.000    0.000    0.000    0.000 {built-in method builtins.compile}\n",
      "      158    0.000    0.000    0.000    0.000 /Users/dirk/github/annotation/text-fabric/tf/search/relations.py:82(<lambda>)\n",
      "       50    0.000    0.000    0.000    0.000 /Users/dirk/github/annotation/text-fabric/tf/search/relations.py:301(<lambda>)\n",
      "       70    0.000    0.000    0.000    0.000 /Users/dirk/github/annotation/text-fabric/tf/search/stitch.py:693(<genexpr>)\n",
      "       10    0.000    0.000    0.000    0.000 /Users/dirk/github/annotation/text-fabric/tf/search/relations.py:380(<lambda>)\n",
      "       20    0.000    0.000    0.000    0.000 /Users/dirk/github/annotation/text-fabric/tf/search/relations.py:287(<lambda>)\n",
      "        1    0.000    0.000    0.000    0.000 <ipython-input-104-87271d1c4549>:4(<module>)\n",
      "       10    0.000    0.000    0.000    0.000 /Users/dirk/github/annotation/text-fabric/tf/search/relations.py:355(<lambda>)\n",
      "        2    0.000    0.000    0.000    0.000 /Library/Frameworks/Python.framework/Versions/3.7/lib/python3.7/site-packages/IPython/core/hooks.py:142(__call__)\n",
      "       10    0.000    0.000    0.000    0.000 {method 'append' of 'list' objects}\n",
      "        2    0.000    0.000    0.000    0.000 /Library/Frameworks/Python.framework/Versions/3.7/lib/python3.7/site-packages/IPython/utils/ipstruct.py:125(__getattr__)\n",
      "        1    0.000    0.000    0.000    0.000 {method 'disable' of '_lsprof.Profiler' objects}\n",
      "        1    0.000    0.000    0.000    0.000 /Users/dirk/github/annotation/text-fabric/tf/search/stitch.py:684(<listcomp>)\n",
      "        2    0.000    0.000    0.000    0.000 /Library/Frameworks/Python.framework/Versions/3.7/lib/python3.7/site-packages/IPython/core/interactiveshell.py:1258(user_global_ns)\n",
      "        2    0.000    0.000    0.000    0.000 /Library/Frameworks/Python.framework/Versions/3.7/lib/python3.7/site-packages/IPython/core/hooks.py:207(pre_run_code_hook)\n",
      "\n",
      "\n",
      "\n"
     ]
    }
   ],
   "source": [
    "pr = cProfile.Profile()\n",
    "pr.enable()\n",
    "results = S.fetch(limit=10)\n",
    "pr.disable()\n",
    "s = io.StringIO()\n",
    "sortby = SortKey.CUMULATIVE\n",
    "ps = pstats.Stats(pr, stream=s).sort_stats(sortby)\n",
    "ps.print_stats()\n",
    "print(s.getvalue())"
   ]
  },
  {
   "cell_type": "code",
   "execution_count": 105,
   "metadata": {},
   "outputs": [
    {
     "name": "stdout",
     "output_type": "stream",
     "text": [
      "(400001, 1, 2, 4, 4, 3)\n",
      "(400002, 5, 6, 8, 8, 7)\n",
      "(400003, 9, 10, 12, 12, 11)\n",
      "(400004, 13, 14, 16, 16, 15)\n",
      "(400005, 17, 18, 20, 20, 19)\n",
      "(400006, 21, 22, 24, 24, 23)\n",
      "(400007, 25, 26, 28, 28, 27)\n",
      "(400008, 29, 30, 32, 32, 31)\n",
      "(400009, 33, 34, 36, 36, 35)\n",
      "(400010, 37, 38, 40, 40, 39)\n"
     ]
    }
   ],
   "source": [
    "print('\\n'.join(str(r) for r in results))"
   ]
  },
  {
   "cell_type": "markdown",
   "metadata": {},
   "source": [
    "## Strategy: small choice multi"
   ]
  },
  {
   "cell_type": "code",
   "execution_count": 106,
   "metadata": {},
   "outputs": [
    {
     "name": "stdout",
     "output_type": "stream",
     "text": [
      "  0.00s Checking search template ...\n",
      "  0.00s Setting up search space for 6 objects ...\n",
      "  0.29s Constraining search space with 10 relations ...\n",
      "  0.95s \t2 edges thinned\n",
      "  0.95s Setting up retrieval plan with strategy small_choice_multi ...\n",
      "  0.98s Ready to deliver results from 1500000 nodes\n",
      "Iterate over S.fetch() to get the results\n",
      "See S.showPlan() to interpret the results\n"
     ]
    }
   ],
   "source": [
    "S.study(query, strategy='small_choice_multi')"
   ]
  },
  {
   "cell_type": "code",
   "execution_count": 107,
   "metadata": {},
   "outputs": [
    {
     "name": "stdout",
     "output_type": "stream",
     "text": [
      "Search with 6 objects and 9 relations\n",
      "Results are instantiations of the following objects:\n",
      "node  0-chunk                                         100000   choices\n",
      "node  1-slot                                          100000   choices\n",
      "node  2-slot                                          400000   choices\n",
      "node  3-slot                                          400000   choices\n",
      "node  4-slot                                          100000   choices\n",
      "node  5-slot                                          400000   choices\n",
      "Performance parameters:\n",
      "\tyarnRatio            =    1.25\n",
      "\ttryLimitFrom         =      40\n",
      "\ttryLimitTo           =      40\n",
      "Instantiations are computed along the following relations:\n",
      "node                                  0-chunk         100000   choices\n",
      "edge        0-chunk            :=     4-slot               1.0 choices (thinned)\n",
      "edge        4-slot             ]]     0-chunk              0   choices\n",
      "edge        0-chunk            =:     1-slot               1.0 choices (thinned)\n",
      "edge        1-slot             ]]     0-chunk              0   choices\n",
      "edge        0-chunk            [[     3-slot               4.0 choices\n",
      "edge        0-chunk            [[     2-slot               4.0 choices\n",
      "edge        2-slot             >      1-slot               0   choices\n",
      "edge        2-slot             <      3-slot               0   choices\n",
      "edge      2,3-slot            <,>     5-slot           20000.0 choices\n",
      "  3.24s The results are connected to the original search template as follows:\n",
      " 0     \n",
      " 1 R0  chunk\n",
      " 2 R1    =: a:slot\n",
      " 3 R2    < b:slot\n",
      " 4 R3    < d:slot\n",
      " 5 R4    c:slot\n",
      " 6       :=\n",
      " 7     \n",
      " 8 R5  s:slot\n",
      " 9     \n",
      "10     b < s\n",
      "11     s < d\n",
      "12     \n"
     ]
    }
   ],
   "source": [
    "S.showPlan(details=True)"
   ]
  },
  {
   "cell_type": "code",
   "execution_count": 108,
   "metadata": {},
   "outputs": [
    {
     "name": "stdout",
     "output_type": "stream",
     "text": [
      "         67200793 function calls (67200288 primitive calls) in 11.140 seconds\n",
      "\n",
      "   Ordered by: cumulative time\n",
      "\n",
      "   ncalls  tottime  percall  cumtime  percall filename:lineno(function)\n",
      "        2    0.000    0.000   17.894    8.947 /Library/Frameworks/Python.framework/Versions/3.7/lib/python3.7/site-packages/IPython/core/interactiveshell.py:3230(run_code)\n",
      "        2    0.000    0.000   17.894    8.947 {built-in method builtins.exec}\n",
      "        1    0.000    0.000   17.894   17.894 <ipython-input-108-87271d1c4549>:3(<module>)\n",
      "        1    0.000    0.000   17.894   17.894 /Users/dirk/github/annotation/text-fabric/tf/search/search.py:151(fetch)\n",
      "        1    0.000    0.000   17.894   17.894 /Users/dirk/github/annotation/text-fabric/tf/search/searchexe.py:89(fetch)\n",
      "       11    0.000    0.000   17.893    1.627 /Users/dirk/github/annotation/text-fabric/tf/search/stitch.py:683(deliver)\n",
      "   516/11    0.001    0.000   17.893    1.627 /Users/dirk/github/annotation/text-fabric/tf/search/stitch.py:690(stitchOn)\n",
      " 11200039    2.363    0.000   10.160    0.000 {built-in method builtins.all}\n",
      " 33599546    6.964    0.000    8.776    0.000 /Users/dirk/github/annotation/text-fabric/tf/search/stitch.py:727(<genexpr>)\n",
      " 11200157    0.945    0.000    0.945    0.000 /Users/dirk/github/annotation/text-fabric/tf/search/relations.py:72(<lambda>)\n",
      " 11199626    0.866    0.000    0.866    0.000 /Users/dirk/github/annotation/text-fabric/tf/search/relations.py:82(<lambda>)\n",
      "      288    0.000    0.000    0.000    0.000 /Users/dirk/github/annotation/text-fabric/tf/search/stitch.py:730(<genexpr>)\n",
      "        2    0.000    0.000    0.000    0.000 /Library/Frameworks/Python.framework/Versions/3.7/lib/python3.7/codeop.py:132(__call__)\n",
      "        2    0.000    0.000    0.000    0.000 {built-in method builtins.compile}\n",
      "      418    0.000    0.000    0.000    0.000 {built-in method builtins.len}\n",
      "       50    0.000    0.000    0.000    0.000 /Users/dirk/github/annotation/text-fabric/tf/search/relations.py:301(<lambda>)\n",
      "       70    0.000    0.000    0.000    0.000 /Users/dirk/github/annotation/text-fabric/tf/search/stitch.py:693(<genexpr>)\n",
      "       10    0.000    0.000    0.000    0.000 /Users/dirk/github/annotation/text-fabric/tf/search/relations.py:380(<lambda>)\n",
      "       10    0.000    0.000    0.000    0.000 /Users/dirk/github/annotation/text-fabric/tf/search/relations.py:355(<lambda>)\n",
      "       20    0.000    0.000    0.000    0.000 /Users/dirk/github/annotation/text-fabric/tf/search/relations.py:287(<lambda>)\n",
      "        1    0.000    0.000    0.000    0.000 <ipython-input-108-87271d1c4549>:4(<module>)\n",
      "        2    0.000    0.000    0.000    0.000 /Library/Frameworks/Python.framework/Versions/3.7/lib/python3.7/site-packages/IPython/core/hooks.py:142(__call__)\n",
      "        2    0.000    0.000    0.000    0.000 /Library/Frameworks/Python.framework/Versions/3.7/lib/python3.7/site-packages/IPython/utils/ipstruct.py:125(__getattr__)\n",
      "       10    0.000    0.000    0.000    0.000 {method 'append' of 'list' objects}\n",
      "        1    0.000    0.000    0.000    0.000 /Users/dirk/github/annotation/text-fabric/tf/search/stitch.py:684(<listcomp>)\n",
      "        2    0.000    0.000    0.000    0.000 /Library/Frameworks/Python.framework/Versions/3.7/lib/python3.7/site-packages/IPython/core/interactiveshell.py:1258(user_global_ns)\n",
      "        2    0.000    0.000    0.000    0.000 /Library/Frameworks/Python.framework/Versions/3.7/lib/python3.7/site-packages/IPython/core/hooks.py:207(pre_run_code_hook)\n",
      "        1    0.000    0.000    0.000    0.000 {method 'disable' of '_lsprof.Profiler' objects}\n",
      "\n",
      "\n",
      "\n"
     ]
    }
   ],
   "source": [
    "pr = cProfile.Profile()\n",
    "pr.enable()\n",
    "results = S.fetch(limit=10)\n",
    "pr.disable()\n",
    "s = io.StringIO()\n",
    "sortby = SortKey.CUMULATIVE\n",
    "ps = pstats.Stats(pr, stream=s).sort_stats(sortby)\n",
    "ps.print_stats()\n",
    "print(s.getvalue())"
   ]
  },
  {
   "cell_type": "code",
   "execution_count": 109,
   "metadata": {},
   "outputs": [
    {
     "name": "stdout",
     "output_type": "stream",
     "text": [
      "(400001, 1, 2, 4, 4, 3)\n",
      "(400002, 5, 6, 8, 8, 7)\n",
      "(400003, 9, 10, 12, 12, 11)\n",
      "(400004, 13, 14, 16, 16, 15)\n",
      "(400005, 17, 18, 20, 20, 19)\n",
      "(400006, 21, 22, 24, 24, 23)\n",
      "(400007, 25, 26, 28, 28, 27)\n",
      "(400008, 29, 30, 32, 32, 31)\n",
      "(400009, 33, 34, 36, 36, 35)\n",
      "(400010, 37, 38, 40, 40, 39)\n"
     ]
    }
   ],
   "source": [
    "print('\\n'.join(str(r) for r in results))"
   ]
  },
  {
   "cell_type": "markdown",
   "metadata": {},
   "source": [
    "# Observation\n",
    "\n",
    "Here is a query where the amount of time spent in the `stitchOn()` overtakes the time spent in the `all)` call.\n",
    "\n",
    "So we really have a mixed bag with these strategies.\n",
    "\n",
    "For now, I turn on the `small_choice_multi` because it makes really long queries a bit more bearable, and does not\n",
    "make much of a difference for shorter queries."
   ]
  },
  {
   "cell_type": "markdown",
   "metadata": {},
   "source": [
    "# Main test 4\n",
    "\n",
    "A quite different query."
   ]
  },
  {
   "cell_type": "code",
   "execution_count": 110,
   "metadata": {},
   "outputs": [],
   "source": [
    "query = '''\n",
    "chunk\n",
    ".num. slot\n",
    "'''"
   ]
  },
  {
   "cell_type": "markdown",
   "metadata": {},
   "source": [
    "## Strategy: small choice first"
   ]
  },
  {
   "cell_type": "code",
   "execution_count": 115,
   "metadata": {},
   "outputs": [
    {
     "name": "stdout",
     "output_type": "stream",
     "text": [
      "  0.00s Checking search template ...\n",
      "  0.00s Setting up search space for 2 objects ...\n",
      "  0.08s Constraining search space with 1 relations ...\n",
      "  0.09s \t0 edges thinned\n",
      "  0.09s Setting up retrieval plan with strategy small_choice_first ...\n",
      "  0.12s Ready to deliver results from 500000 nodes\n",
      "Iterate over S.fetch() to get the results\n",
      "See S.showPlan() to interpret the results\n"
     ]
    }
   ],
   "source": [
    "S.study(query, strategy='small_choice_first')"
   ]
  },
  {
   "cell_type": "code",
   "execution_count": 116,
   "metadata": {},
   "outputs": [
    {
     "name": "stdout",
     "output_type": "stream",
     "text": [
      "Search with 2 objects and 1 relations\n",
      "Results are instantiations of the following objects:\n",
      "node  0-chunk                                         100000   choices\n",
      "node  1-slot                                          400000   choices\n",
      "Performance parameters:\n",
      "\tyarnRatio            =    1.25\n",
      "\ttryLimitFrom         =      40\n",
      "\ttryLimitTo           =      40\n",
      "Instantiations are computed along the following relations:\n",
      "node                                  0-chunk         100000   choices\n",
      "edge        0-chunk          .num.    1-slot               0.0 choices\n",
      "  3.46s The results are connected to the original search template as follows:\n",
      " 0     \n",
      " 1 R0  chunk\n",
      " 2 R1  .num. slot\n",
      " 3     \n"
     ]
    }
   ],
   "source": [
    "S.showPlan(details=True)"
   ]
  },
  {
   "cell_type": "code",
   "execution_count": 117,
   "metadata": {},
   "outputs": [
    {
     "name": "stdout",
     "output_type": "stream",
     "text": [
      "  0.00s Counting results per 1 up to 10 ...\n",
      "   |     0.00s 1\n",
      "   |     0.24s 2\n",
      "   |     0.46s 3\n",
      "   |     0.68s 4\n",
      "   |     0.90s 5\n",
      "   |     1.12s 6\n",
      "   |     1.34s 7\n",
      "   |     1.56s 8\n",
      "   |     1.78s 9\n",
      "   |     2.01s 10\n",
      "  2.01s Done: 10 results\n"
     ]
    }
   ],
   "source": [
    "S.count(progress=1, limit=10)"
   ]
  },
  {
   "cell_type": "markdown",
   "metadata": {},
   "source": [
    "## Strategy: small choice multi"
   ]
  },
  {
   "cell_type": "code",
   "execution_count": 118,
   "metadata": {},
   "outputs": [
    {
     "name": "stdout",
     "output_type": "stream",
     "text": [
      "  0.00s Checking search template ...\n",
      "  0.00s Setting up search space for 2 objects ...\n",
      "  0.07s Constraining search space with 1 relations ...\n",
      "  0.10s \t0 edges thinned\n",
      "  0.10s Setting up retrieval plan with strategy small_choice_multi ...\n",
      "  0.12s Ready to deliver results from 500000 nodes\n",
      "Iterate over S.fetch() to get the results\n",
      "See S.showPlan() to interpret the results\n"
     ]
    }
   ],
   "source": [
    "S.study(query, strategy='small_choice_multi')"
   ]
  },
  {
   "cell_type": "code",
   "execution_count": 119,
   "metadata": {},
   "outputs": [
    {
     "name": "stdout",
     "output_type": "stream",
     "text": [
      "Search with 2 objects and 1 relations\n",
      "Results are instantiations of the following objects:\n",
      "node  0-chunk                                         100000   choices\n",
      "node  1-slot                                          400000   choices\n",
      "Performance parameters:\n",
      "\tyarnRatio            =    1.25\n",
      "\ttryLimitFrom         =      40\n",
      "\ttryLimitTo           =      40\n",
      "Instantiations are computed along the following relations:\n",
      "node                                  0-chunk         100000   choices\n",
      "edge        0-chunk          .num.    1-slot               0.0 choices\n",
      "  3.16s The results are connected to the original search template as follows:\n",
      " 0     \n",
      " 1 R0  chunk\n",
      " 2 R1  .num. slot\n",
      " 3     \n"
     ]
    }
   ],
   "source": [
    "S.showPlan(details=True)"
   ]
  },
  {
   "cell_type": "code",
   "execution_count": 120,
   "metadata": {},
   "outputs": [
    {
     "name": "stdout",
     "output_type": "stream",
     "text": [
      "  0.00s Counting results per 1 up to 10 ...\n",
      "   |     0.00s 1\n",
      "   |     0.24s 2\n",
      "   |     0.46s 3\n",
      "   |     0.68s 4\n",
      "   |     0.90s 5\n",
      "   |     1.12s 6\n",
      "   |     1.37s 7\n",
      "   |     1.65s 8\n",
      "   |     1.90s 9\n",
      "   |     2.12s 10\n",
      "  2.13s Done: 10 results\n"
     ]
    }
   ],
   "source": [
    "S.count(progress=1, limit=10)"
   ]
  },
  {
   "cell_type": "markdown",
   "metadata": {},
   "source": [
    "## Strategy: by yarn size"
   ]
  },
  {
   "cell_type": "code",
   "execution_count": 121,
   "metadata": {},
   "outputs": [
    {
     "name": "stdout",
     "output_type": "stream",
     "text": [
      "  0.00s Checking search template ...\n",
      "  0.00s Setting up search space for 2 objects ...\n",
      "  0.08s Constraining search space with 1 relations ...\n",
      "  0.10s \t0 edges thinned\n",
      "  0.10s Setting up retrieval plan with strategy by_yarn_size ...\n",
      "  0.12s Ready to deliver results from 500000 nodes\n",
      "Iterate over S.fetch() to get the results\n",
      "See S.showPlan() to interpret the results\n"
     ]
    }
   ],
   "source": [
    "S.study(query, strategy='by_yarn_size')"
   ]
  },
  {
   "cell_type": "code",
   "execution_count": 122,
   "metadata": {},
   "outputs": [
    {
     "name": "stdout",
     "output_type": "stream",
     "text": [
      "Search with 2 objects and 1 relations\n",
      "Results are instantiations of the following objects:\n",
      "node  0-chunk                                         100000   choices\n",
      "node  1-slot                                          400000   choices\n",
      "Performance parameters:\n",
      "\tyarnRatio            =    1.25\n",
      "\ttryLimitFrom         =      40\n",
      "\ttryLimitTo           =      40\n",
      "Instantiations are computed along the following relations:\n",
      "node                                  0-chunk         100000   choices\n",
      "edge        0-chunk          .num.    1-slot               0.0 choices\n",
      "  1.80s The results are connected to the original search template as follows:\n",
      " 0     \n",
      " 1 R0  chunk\n",
      " 2 R1  .num. slot\n",
      " 3     \n"
     ]
    }
   ],
   "source": [
    "S.showPlan(details=True)"
   ]
  },
  {
   "cell_type": "code",
   "execution_count": 123,
   "metadata": {},
   "outputs": [
    {
     "name": "stdout",
     "output_type": "stream",
     "text": [
      "  0.00s Counting results per 1 up to 10 ...\n",
      "   |     0.00s 1\n",
      "   |     0.24s 2\n",
      "   |     0.46s 3\n",
      "   |     0.68s 4\n",
      "   |     0.90s 5\n",
      "   |     1.12s 6\n",
      "   |     1.34s 7\n",
      "   |     1.56s 8\n",
      "   |     1.84s 9\n",
      "   |     2.09s 10\n",
      "  2.10s Done: 10 results\n"
     ]
    }
   ],
   "source": [
    "S.count(progress=1, limit=10)"
   ]
  },
  {
   "cell_type": "markdown",
   "metadata": {},
   "source": [
    "# Main test 5\n",
    "\n",
    "Yet another feature comparison query."
   ]
  },
  {
   "cell_type": "code",
   "execution_count": 135,
   "metadata": {},
   "outputs": [],
   "source": [
    "query = '''\n",
    "a:chunk\n",
    "  n:slot\n",
    "< b:chunk\n",
    "  m:slot\n",
    "\n",
    "n .cat. m\n",
    "'''"
   ]
  },
  {
   "cell_type": "markdown",
   "metadata": {},
   "source": [
    "## Strategy: small choice first"
   ]
  },
  {
   "cell_type": "code",
   "execution_count": 136,
   "metadata": {},
   "outputs": [
    {
     "name": "stdout",
     "output_type": "stream",
     "text": [
      "  0.00s Checking search template ...\n",
      "  0.00s Setting up search space for 4 objects ...\n",
      "  0.15s Constraining search space with 4 relations ...\n",
      "  0.52s \t0 edges thinned\n",
      "  0.52s Setting up retrieval plan with strategy small_choice_first ...\n",
      "  0.56s Ready to deliver results from 1000000 nodes\n",
      "Iterate over S.fetch() to get the results\n",
      "See S.showPlan() to interpret the results\n"
     ]
    }
   ],
   "source": [
    "S.study(query, strategy='small_choice_first')"
   ]
  },
  {
   "cell_type": "code",
   "execution_count": 137,
   "metadata": {},
   "outputs": [
    {
     "name": "stdout",
     "output_type": "stream",
     "text": [
      "Search with 4 objects and 4 relations\n",
      "Results are instantiations of the following objects:\n",
      "node  0-chunk                                         100000   choices\n",
      "node  1-slot                                          400000   choices\n",
      "node  2-chunk                                         100000   choices\n",
      "node  3-slot                                          400000   choices\n",
      "Performance parameters:\n",
      "\tyarnRatio            =    1.25\n",
      "\ttryLimitFrom         =      40\n",
      "\ttryLimitTo           =      40\n",
      "Instantiations are computed along the following relations:\n",
      "node                                  0-chunk         100000   choices\n",
      "edge        0-chunk            [[     1-slot               4.0 choices\n",
      "edge        0-chunk            <      2-chunk          50000.0 choices\n",
      "edge        2-chunk            [[     3-slot               4.0 choices\n",
      "edge        3-slot           .cat.    1-slot               0   choices\n",
      "  3.04s The results are connected to the original search template as follows:\n",
      " 0     \n",
      " 1 R0  a:chunk\n",
      " 2 R1    n:slot\n",
      " 3 R2  < b:chunk\n",
      " 4 R3    m:slot\n",
      " 5     \n",
      " 6     n .cat. m\n",
      " 7     \n"
     ]
    }
   ],
   "source": [
    "S.showPlan(details=True)"
   ]
  },
  {
   "cell_type": "code",
   "execution_count": 138,
   "metadata": {},
   "outputs": [
    {
     "name": "stdout",
     "output_type": "stream",
     "text": [
      "  0.00s Counting results per 1 up to 10 ...\n",
      "   |     0.00s 1\n",
      "   |     0.00s 2\n",
      "   |     0.00s 3\n",
      "   |     0.00s 4\n",
      "   |     0.00s 5\n",
      "   |     0.00s 6\n",
      "   |     0.00s 7\n",
      "   |     0.00s 8\n",
      "   |     0.01s 9\n",
      "   |     0.01s 10\n",
      "  0.01s Done: 10 results\n"
     ]
    }
   ],
   "source": [
    "S.count(progress=1, limit=10)"
   ]
  },
  {
   "cell_type": "markdown",
   "metadata": {},
   "source": [
    "## Strategy: small choice multi"
   ]
  },
  {
   "cell_type": "code",
   "execution_count": 129,
   "metadata": {},
   "outputs": [
    {
     "name": "stdout",
     "output_type": "stream",
     "text": [
      "  0.00s Checking search template ...\n",
      "  0.04s Setting up search space for 3 objects ...\n",
      "  0.16s Constraining search space with 4 relations ...\n",
      "  0.53s \t0 edges thinned\n",
      "  0.53s Setting up retrieval plan with strategy small_choice_multi ...\n",
      "  0.56s Ready to deliver results from 900000 nodes\n",
      "Iterate over S.fetch() to get the results\n",
      "See S.showPlan() to interpret the results\n"
     ]
    }
   ],
   "source": [
    "S.study(query, strategy='small_choice_multi')"
   ]
  },
  {
   "cell_type": "code",
   "execution_count": 130,
   "metadata": {},
   "outputs": [
    {
     "name": "stdout",
     "output_type": "stream",
     "text": [
      "Search with 3 objects and 4 relations\n",
      "Results are instantiations of the following objects:\n",
      "node  0-chunk                                         100000   choices\n",
      "node  1-slot                                          400000   choices\n",
      "node  2-slot                                          400000   choices\n",
      "Performance parameters:\n",
      "\tyarnRatio            =    1.25\n",
      "\ttryLimitFrom         =      40\n",
      "\ttryLimitTo           =      40\n",
      "Instantiations are computed along the following relations:\n",
      "node                                  0-chunk         100000   choices\n",
      "edge        0-chunk            [[     1-slot               4.0 choices\n",
      "edge        0-chunk            [[     2-slot               4.0 choices\n",
      "edge        2-slot           .cat.    1-slot               0   choices\n",
      "edge        1-slot             <      2-slot               0   choices\n",
      "  2.35s The results are connected to the original search template as follows:\n",
      " 0     \n",
      " 1 R0  chunk\n",
      " 2 R1    a:slot\n",
      " 3 R2    .cat. b:slot\n",
      " 4     \n",
      " 5     a < b\n",
      " 6     \n"
     ]
    }
   ],
   "source": [
    "S.showPlan(details=True)"
   ]
  },
  {
   "cell_type": "code",
   "execution_count": 131,
   "metadata": {},
   "outputs": [
    {
     "name": "stdout",
     "output_type": "stream",
     "text": [
      "  0.00s Counting results per 1 up to 10 ...\n",
      "   |     0.00s 1\n",
      "   |     0.00s 2\n",
      "   |     0.00s 3\n",
      "   |     0.00s 4\n",
      "   |     0.00s 5\n",
      "   |     0.00s 6\n",
      "   |     0.00s 7\n",
      "   |     0.00s 8\n",
      "   |     0.01s 9\n",
      "   |     0.01s 10\n",
      "  0.01s Done: 10 results\n"
     ]
    }
   ],
   "source": [
    "S.count(progress=1, limit=10)"
   ]
  },
  {
   "cell_type": "markdown",
   "metadata": {},
   "source": [
    "## Strategy: by yarn size"
   ]
  },
  {
   "cell_type": "code",
   "execution_count": 132,
   "metadata": {},
   "outputs": [
    {
     "name": "stdout",
     "output_type": "stream",
     "text": [
      "  0.00s Checking search template ...\n",
      "  0.00s Setting up search space for 3 objects ...\n",
      "  0.13s Constraining search space with 4 relations ...\n",
      "  0.50s \t0 edges thinned\n",
      "  0.50s Setting up retrieval plan with strategy by_yarn_size ...\n",
      "  0.54s Ready to deliver results from 900000 nodes\n",
      "Iterate over S.fetch() to get the results\n",
      "See S.showPlan() to interpret the results\n"
     ]
    }
   ],
   "source": [
    "S.study(query, strategy='by_yarn_size')"
   ]
  },
  {
   "cell_type": "code",
   "execution_count": 133,
   "metadata": {},
   "outputs": [
    {
     "name": "stdout",
     "output_type": "stream",
     "text": [
      "Search with 3 objects and 4 relations\n",
      "Results are instantiations of the following objects:\n",
      "node  0-chunk                                         100000   choices\n",
      "node  1-slot                                          400000   choices\n",
      "node  2-slot                                          400000   choices\n",
      "Performance parameters:\n",
      "\tyarnRatio            =    1.25\n",
      "\ttryLimitFrom         =      40\n",
      "\ttryLimitTo           =      40\n",
      "Instantiations are computed along the following relations:\n",
      "node                                  0-chunk         100000   choices\n",
      "edge        0-chunk            [[     1-slot               4.0 choices\n",
      "edge        0-chunk            [[     2-slot               4.0 choices\n",
      "edge        1-slot           .cat.    2-slot               0   choices\n",
      "edge        1-slot             <      2-slot               0   choices\n",
      "  3.21s The results are connected to the original search template as follows:\n",
      " 0     \n",
      " 1 R0  chunk\n",
      " 2 R1    a:slot\n",
      " 3 R2    .cat. b:slot\n",
      " 4     \n",
      " 5     a < b\n",
      " 6     \n"
     ]
    }
   ],
   "source": [
    "S.showPlan(details=True)"
   ]
  },
  {
   "cell_type": "code",
   "execution_count": 134,
   "metadata": {},
   "outputs": [
    {
     "name": "stdout",
     "output_type": "stream",
     "text": [
      "  0.00s Counting results per 1 up to 10 ...\n",
      "   |     0.00s 1\n",
      "   |     0.00s 2\n",
      "   |     0.00s 3\n",
      "   |     0.00s 4\n",
      "   |     0.00s 5\n",
      "   |     0.00s 6\n",
      "   |     0.00s 7\n",
      "   |     0.01s 8\n",
      "   |     0.01s 9\n",
      "   |     0.01s 10\n",
      "  0.01s Done: 10 results\n"
     ]
    }
   ],
   "source": [
    "S.count(progress=1, limit=10)"
   ]
  },
  {
   "cell_type": "code",
   "execution_count": null,
   "metadata": {},
   "outputs": [],
   "source": []
  }
 ],
 "metadata": {
  "kernelspec": {
   "display_name": "Python 3",
   "language": "python",
   "name": "python3"
  },
  "language_info": {
   "codemirror_mode": {
    "name": "ipython",
    "version": 3
   },
   "file_extension": ".py",
   "mimetype": "text/x-python",
   "name": "python",
   "nbconvert_exporter": "python",
   "pygments_lexer": "ipython3",
   "version": "3.7.2"
  }
 },
 "nbformat": 4,
 "nbformat_minor": 2
}
