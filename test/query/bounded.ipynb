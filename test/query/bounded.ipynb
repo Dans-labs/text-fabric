{
 "cells": [
  {
   "cell_type": "code",
   "execution_count": 21,
   "metadata": {},
   "outputs": [
    {
     "name": "stdout",
     "output_type": "stream",
     "text": [
      "The autoreload extension is already loaded. To reload it, use:\n",
      "  %reload_ext autoreload\n"
     ]
    }
   ],
   "source": [
    "%load_ext autoreload\n",
    "%autoreload 2"
   ]
  },
  {
   "cell_type": "code",
   "execution_count": 154,
   "metadata": {},
   "outputs": [],
   "source": [
    "from tf.fabric import Fabric\n",
    "from tf.convert.walker import CV\n",
    "import cProfile, pstats, io\n",
    "from pstats import SortKey"
   ]
  },
  {
   "cell_type": "code",
   "execution_count": 23,
   "metadata": {},
   "outputs": [],
   "source": [
    "TF_PATH = '_temp/tf'"
   ]
  },
  {
   "cell_type": "markdown",
   "metadata": {},
   "source": [
    "# Make test set"
   ]
  },
  {
   "cell_type": "code",
   "execution_count": 24,
   "metadata": {},
   "outputs": [],
   "source": [
    "TF = Fabric(locations=TF_PATH, silent=True)"
   ]
  },
  {
   "cell_type": "code",
   "execution_count": 142,
   "metadata": {},
   "outputs": [
    {
     "name": "stdout",
     "output_type": "stream",
     "text": [
      "  0.00s Importing data from walking through the source ...\n",
      "   |     0.00s Preparing metadata... \n",
      "   |     0.00s No structure nodes will be set up\n",
      "   |   SECTION   TYPES:    chunk\n",
      "   |   SECTION   FEATURES: num\n",
      "   |   STRUCTURE TYPES:    \n",
      "   |   STRUCTURE FEATURES: \n",
      "   |   TEXT      FEATURES:\n",
      "   |      |   text-orig-full       cat, num\n",
      "   |     0.01s OK\n",
      "   |     0.00s Following director... \n",
      "   |     1.65s \"edge\" actions: 0\n",
      "   |     1.65s \"feature\" actions: 500000\n",
      "   |     1.65s \"node\" actions: 100000\n",
      "   |     1.65s \"resume\" actions: 0\n",
      "   |     1.65s \"slot\" actions: 400000\n",
      "   |     1.65s \"terminate\" actions: 100001\n",
      "   |     100000 x \"chunk\" node \n",
      "   |     400000 x \"slot\" node  = slot type\n",
      "   |     500000 nodes of all types\n",
      "   |     1.71s OK\n",
      "   |     0.00s checking for nodes and edges ... \n",
      "   |     0.00s OK\n",
      "   |     0.00s checking features ... \n",
      "   |     0.12s OK\n",
      "   |     0.00s reordering nodes ...\n",
      "   |     0.10s Sorting 100000 nodes of type \"chunk\"\n",
      "   |     0.25s Max node = 500000\n",
      "   |     0.25s OK\n",
      "   |     0.00s reassigning feature values ...\n",
      "   |      |       32s node feature \"cat\" with 400000 nodes\n",
      "   |      |       32s node feature \"num\" with 500000 nodes\n",
      "   |     0.32s OK\n",
      "  0.00s Exporting 3 node and 1 edge and 1 config features to _temp/tf:\n",
      "  0.00s VALIDATING oslots feature\n",
      "  0.06s VALIDATING oslots feature\n",
      "  0.06s maxSlot=     400000\n",
      "  0.06s maxNode=     500000\n",
      "  0.08s OK: oslots is valid\n",
      "   |     0.50s T cat                  to _temp/tf\n",
      "   |     0.58s T num                  to _temp/tf\n",
      "   |     0.13s T otype                to _temp/tf\n",
      "   |     0.27s T oslots               to _temp/tf\n",
      "   |     0.00s M otext                to _temp/tf\n",
      "  1.57s Exported 3 node features and 1 edge features and 1 config features to _temp/tf\n"
     ]
    }
   ],
   "source": [
    "slotType = 'slot'\n",
    "generic = {\n",
    "    'name': 'test set for query strategy testing',\n",
    "    'compiler': 'Dirk Roorda',\n",
    "}\n",
    "otext = {\n",
    "    'fmt:text-orig-full': '{num}{cat} ',\n",
    "    'sectionTypes': 'chunk',\n",
    "    'sectionFeatures': 'num',\n",
    "}\n",
    "intFeatures = {\n",
    "  'num',\n",
    "}\n",
    "featureMeta = {\n",
    "    'num': {\n",
    "        'description': 'node number',\n",
    "    },\n",
    "    'cat': {\n",
    "        'description': 'category: m f n',\n",
    "    },\n",
    "}\n",
    "\n",
    "nSlots = 400000\n",
    "chunkSize = 4\n",
    "cats = ['m', 'f', 'n']\n",
    "\n",
    "def director(cv):\n",
    "  c = None\n",
    "  for n in range(nSlots):\n",
    "    if n % chunkSize == 0:\n",
    "      cv.terminate(c)\n",
    "      c = cv.node('chunk')\n",
    "      cv.feature(c, num=n // chunkSize)\n",
    "    s = cv.slot()\n",
    "    cv.feature(s, num=n, cat=cats[n % 3])\n",
    "  cv.terminate(c)\n",
    "    \n",
    "cv = CV(TF)\n",
    "\n",
    "good = cv.walk(\n",
    "    director,\n",
    "    slotType,\n",
    "    otext=otext,\n",
    "    generic=generic,\n",
    "    intFeatures=intFeatures,\n",
    "    featureMeta=featureMeta,\n",
    ")"
   ]
  },
  {
   "cell_type": "markdown",
   "metadata": {},
   "source": [
    "# Load test set"
   ]
  },
  {
   "cell_type": "code",
   "execution_count": 165,
   "metadata": {},
   "outputs": [],
   "source": [
    "TF = Fabric(locations=TF_PATH, silent='deep')\n",
    "api = TF.loadAll()\n",
    "docs = api.makeAvailableIn(globals())\n",
    "silentOff()"
   ]
  },
  {
   "cell_type": "code",
   "execution_count": 187,
   "metadata": {},
   "outputs": [],
   "source": [
    "query = '''\n",
    "slot\n",
    "<: slot\n",
    "< slot\n",
    "<: slot\n",
    "< slot\n",
    "<: slot\n",
    "'''"
   ]
  },
  {
   "cell_type": "code",
   "execution_count": 203,
   "metadata": {},
   "outputs": [],
   "source": [
    "query = '''\n",
    "chunk\n",
    "  =: a:slot\n",
    "  b:slot\n",
    "  :=\n",
    "\n",
    "c:slot\n",
    "<: d:slot\n",
    "\n",
    "a < c\n",
    "b > d\n",
    "'''"
   ]
  },
  {
   "cell_type": "code",
   "execution_count": 216,
   "metadata": {},
   "outputs": [
    {
     "name": "stdout",
     "output_type": "stream",
     "text": [
      "  0.00s Checking search template ...\n",
      "  0.00s Setting up search space for 5 objects ...\n",
      "  0.22s Constraining search space with 7 relations ...\n",
      "  0.60s \t2 edges thinned\n",
      "{frozenset({0, 1, 2}): {frozenset({3, 4}): [5]}, frozenset({3, 4}): {frozenset({0, 1, 2}): [6]}}\n",
      "{frozenset({3, 4}): {frozenset({0, 1, 2}): [5]}, frozenset({0, 1, 2}): {frozenset({3, 4}): [6]}}\n",
      "  0.60s complexity: 2.4e+11\n",
      "2 internally bounded chunks\n",
      "  0.60s Chunk 3,4 with 800000 nodes in its yarns\n",
      "edge  3-slot          <:  4-slot          (     1.0 choices)\n",
      "  0.60s Chunk 0,1,2 with 300000 nodes in its yarns\n",
      "edge  1-slot          ]]  0-chunk         (     1.0 choices)\n",
      "edge  0-chunk         =:  1-slot          (     1.0 choices (thinned))\n",
      "edge  2-slot          ]]  0-chunk         (     1.0 choices)\n",
      "edge  2-slot          :=  0-chunk         (     0.2 choices (thinned))\n",
      "  0.60s Edges between chunks:\n",
      "  0.61s   from 0,1,2 to 3,4\n",
      "edge  1-slot          <   3-slot          (200000.0 choices)\n",
      "edge  4-slot          <   2-slot          (200000.0 choices)\n",
      "  0.61s Setting up retrieval plan with strategy small_choice_first ...\n",
      "  0.65s Ready to deliver results from 1100000 nodes\n",
      "Iterate over S.fetch() to get the results\n",
      "See S.showPlan() to interpret the results\n"
     ]
    }
   ],
   "source": [
    "S.study(query)"
   ]
  },
  {
   "cell_type": "code",
   "execution_count": 214,
   "metadata": {},
   "outputs": [
    {
     "name": "stdout",
     "output_type": "stream",
     "text": [
      "Search with 5 objects and 7 relations\n",
      "Results are instantiations of the following objects:\n",
      "node  0-chunk                             (100000   choices)\n",
      "node  1-slot                              (100000   choices)\n",
      "node  2-slot                              (100000   choices)\n",
      "node  3-slot                              (400000   choices)\n",
      "node  4-slot                              (400000   choices)\n",
      "Performance parameters:\n",
      "\tyarnRatio            =    1.25\n",
      "\ttryLimitFrom         =      40\n",
      "\ttryLimitTo           =      40\n",
      "Instantiations are computed along the following relations:\n",
      "node                      0-chunk         (100000   choices)\n",
      "edge  0-chunk         [[  2-slot          (     1.0 choices)\n",
      "edge  2-slot          :=  0-chunk         (     1.0 choices (thinned))\n",
      "edge  0-chunk         [[  1-slot          (     1.0 choices)\n",
      "edge  1-slot          =:  0-chunk         (     1.0 choices (thinned))\n",
      "edge  1-slot          <   3-slot          (200000.0 choices)\n",
      "edge  3-slot          <:  4-slot          (     1.0 choices)\n",
      "edge  4-slot          <   2-slot          ( 50000.0 choices)\n",
      "    11s The results are connected to the original search template as follows:\n",
      " 0     \n",
      " 1 R0  chunk\n",
      " 2 R1    =: a:slot\n",
      " 3 R2    b:slot\n",
      " 4       :=\n",
      " 5     \n",
      " 6 R3  c:slot\n",
      " 7 R4  <: d:slot\n",
      " 8     \n",
      " 9     a < c\n",
      "10     b > d\n",
      "11     \n"
     ]
    }
   ],
   "source": [
    "S.showPlan(details=True)"
   ]
  },
  {
   "cell_type": "code",
   "execution_count": 201,
   "metadata": {},
   "outputs": [
    {
     "name": "stdout",
     "output_type": "stream",
     "text": [
      "         4000107 function calls (3200080 primitive calls) in 1.377 seconds\n",
      "\n",
      "   Ordered by: cumulative time\n",
      "\n",
      "   ncalls  tottime  percall  cumtime  percall filename:lineno(function)\n",
      "        2    0.000    0.000    1.377    0.689 /Library/Frameworks/Python.framework/Versions/3.7/lib/python3.7/site-packages/IPython/core/interactiveshell.py:3230(run_code)\n",
      "        2    0.000    0.000    1.377    0.689 {built-in method builtins.exec}\n",
      "        1    0.000    0.000    1.377    1.377 <ipython-input-201-f769f1ab4bfb>:3(<module>)\n",
      "        1    0.000    0.000    1.377    1.377 /Users/dirk/github/annotation/text-fabric/tf/search/search.py:151(fetch)\n",
      "        1    0.000    0.000    1.377    1.377 /Users/dirk/github/annotation/text-fabric/tf/search/searchexe.py:90(fetch)\n",
      "        3    0.000    0.000    1.377    0.459 /Users/dirk/github/annotation/text-fabric/tf/search/stitch.py:519(deliver)\n",
      " 800030/3    1.011    0.000    1.377    0.459 /Users/dirk/github/annotation/text-fabric/tf/search/stitch.py:526(stitchOn)\n",
      "   400002    0.108    0.000    0.140    0.000 /Users/dirk/github/annotation/text-fabric/tf/search/stitch.py:558(<genexpr>)\n",
      "   800007    0.090    0.000    0.090    0.000 /Users/dirk/github/annotation/text-fabric/tf/search/stitch.py:556(<genexpr>)\n",
      "   800005    0.068    0.000    0.068    0.000 /Users/dirk/github/annotation/text-fabric/tf/search/relations.py:72(<lambda>)\n",
      "   400000    0.051    0.000    0.051    0.000 /Users/dirk/github/annotation/text-fabric/tf/search/relations.py:614(<lambda>)\n",
      "   800016    0.049    0.000    0.049    0.000 {built-in method builtins.len}\n",
      "        2    0.000    0.000    0.000    0.000 /Library/Frameworks/Python.framework/Versions/3.7/lib/python3.7/codeop.py:132(__call__)\n",
      "        2    0.000    0.000    0.000    0.000 {built-in method builtins.compile}\n",
      "        1    0.000    0.000    0.000    0.000 <ipython-input-201-f769f1ab4bfb>:4(<module>)\n",
      "        2    0.000    0.000    0.000    0.000 /Library/Frameworks/Python.framework/Versions/3.7/lib/python3.7/site-packages/IPython/core/hooks.py:142(__call__)\n",
      "        4    0.000    0.000    0.000    0.000 /Users/dirk/github/annotation/text-fabric/tf/search/relations.py:301(<lambda>)\n",
      "        2    0.000    0.000    0.000    0.000 /Library/Frameworks/Python.framework/Versions/3.7/lib/python3.7/site-packages/IPython/utils/ipstruct.py:125(__getattr__)\n",
      "       12    0.000    0.000    0.000    0.000 /Users/dirk/github/annotation/text-fabric/tf/search/stitch.py:529(<genexpr>)\n",
      "        2    0.000    0.000    0.000    0.000 {method 'append' of 'list' objects}\n",
      "        2    0.000    0.000    0.000    0.000 /Users/dirk/github/annotation/text-fabric/tf/search/relations.py:378(<lambda>)\n",
      "        2    0.000    0.000    0.000    0.000 /Library/Frameworks/Python.framework/Versions/3.7/lib/python3.7/site-packages/IPython/core/interactiveshell.py:1258(user_global_ns)\n",
      "        2    0.000    0.000    0.000    0.000 /Library/Frameworks/Python.framework/Versions/3.7/lib/python3.7/site-packages/IPython/core/hooks.py:207(pre_run_code_hook)\n",
      "        1    0.000    0.000    0.000    0.000 /Users/dirk/github/annotation/text-fabric/tf/search/stitch.py:520(<listcomp>)\n",
      "        1    0.000    0.000    0.000    0.000 {method 'disable' of '_lsprof.Profiler' objects}\n",
      "        2    0.000    0.000    0.000    0.000 /Users/dirk/github/annotation/text-fabric/tf/search/relations.py:353(<lambda>)\n",
      "\n",
      "\n",
      "\n"
     ]
    }
   ],
   "source": [
    "pr = cProfile.Profile()\n",
    "pr.enable()\n",
    "results = S.fetch(limit=2)\n",
    "pr.disable()\n",
    "s = io.StringIO()\n",
    "sortby = SortKey.CUMULATIVE\n",
    "ps = pstats.Stats(pr, stream=s).sort_stats(sortby)\n",
    "ps.print_stats()\n",
    "print(s.getvalue())"
   ]
  },
  {
   "cell_type": "code",
   "execution_count": 191,
   "metadata": {},
   "outputs": [
    {
     "name": "stdout",
     "output_type": "stream",
     "text": [
      "((1, 2, 3, 4, 5, 6), (1, 2, 3, 4, 6, 7), (1, 2, 3, 4, 7, 8), (1, 2, 3, 4, 8, 9), (1, 2, 3, 4, 9, 10), (1, 2, 3, 4, 10, 11), (1, 2, 3, 4, 11, 12), (1, 2, 3, 4, 12, 13), (1, 2, 3, 4, 13, 14), (1, 2, 3, 4, 14, 15))\n"
     ]
    }
   ],
   "source": [
    "print(results)"
   ]
  },
  {
   "cell_type": "code",
   "execution_count": 150,
   "metadata": {},
   "outputs": [
    {
     "name": "stdout",
     "output_type": "stream",
     "text": [
      "  0.00s Counting results per 1 up to 10 ...\n",
      "   |     0.00s 1\n",
      "   |     0.00s 2\n",
      "   |     0.43s 3\n",
      "   |     0.43s 4\n",
      "   |     0.86s 5\n",
      "   |     0.86s 6\n",
      "   |     1.28s 7\n",
      "   |     1.28s 8\n",
      "   |     1.70s 9\n",
      "   |     1.70s 10\n",
      "  1.70s Done: 10 results\n"
     ]
    }
   ],
   "source": [
    "S.count(progress=1, limit=10)"
   ]
  },
  {
   "cell_type": "code",
   "execution_count": null,
   "metadata": {},
   "outputs": [],
   "source": []
  }
 ],
 "metadata": {
  "kernelspec": {
   "display_name": "Python 3",
   "language": "python",
   "name": "python3"
  },
  "language_info": {
   "codemirror_mode": {
    "name": "ipython",
    "version": 3
   },
   "file_extension": ".py",
   "mimetype": "text/x-python",
   "name": "python",
   "nbconvert_exporter": "python",
   "pygments_lexer": "ipython3",
   "version": "3.7.2"
  }
 },
 "nbformat": 4,
 "nbformat_minor": 2
}
