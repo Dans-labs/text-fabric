{
 "cells": [
  {
   "cell_type": "code",
   "execution_count": 1,
   "metadata": {},
   "outputs": [],
   "source": [
    "%load_ext autoreload\n",
    "%autoreload 2"
   ]
  },
  {
   "cell_type": "code",
   "execution_count": 2,
   "metadata": {},
   "outputs": [],
   "source": [
    "from tf.fabric import Fabric\n",
    "from tf.convert.walker import CV\n",
    "import cProfile, pstats, io\n",
    "from pstats import SortKey"
   ]
  },
  {
   "cell_type": "code",
   "execution_count": 3,
   "metadata": {},
   "outputs": [],
   "source": [
    "TF_PATH = '_temp/tf'"
   ]
  },
  {
   "cell_type": "markdown",
   "metadata": {},
   "source": [
    "# Make test set"
   ]
  },
  {
   "cell_type": "code",
   "execution_count": 4,
   "metadata": {},
   "outputs": [],
   "source": [
    "TF = Fabric(locations=TF_PATH, silent=True)"
   ]
  },
  {
   "cell_type": "code",
   "execution_count": 5,
   "metadata": {},
   "outputs": [
    {
     "name": "stdout",
     "output_type": "stream",
     "text": [
      "  0.00s Importing data from walking through the source ...\n",
      "   |     0.00s Preparing metadata... \n",
      "   |     0.00s No structure nodes will be set up\n",
      "   |   SECTION   TYPES:    chunk\n",
      "   |   SECTION   FEATURES: num\n",
      "   |   STRUCTURE TYPES:    \n",
      "   |   STRUCTURE FEATURES: \n",
      "   |   TEXT      FEATURES:\n",
      "   |      |   text-orig-full       cat, num\n",
      "   |     0.01s OK\n",
      "   |     0.00s Following director... \n",
      "   |     1.43s \"edge\" actions: 0\n",
      "   |     1.44s \"feature\" actions: 500000\n",
      "   |     1.44s \"node\" actions: 100000\n",
      "   |     1.44s \"resume\" actions: 0\n",
      "   |     1.44s \"slot\" actions: 400000\n",
      "   |     1.44s \"terminate\" actions: 100001\n",
      "   |     100000 x \"chunk\" node \n",
      "   |     400000 x \"slot\" node  = slot type\n",
      "   |     500000 nodes of all types\n",
      "   |     1.51s OK\n",
      "   |     0.00s checking for nodes and edges ... \n",
      "   |     0.00s OK\n",
      "   |     0.00s checking features ... \n",
      "   |     0.11s OK\n",
      "   |     0.00s reordering nodes ...\n",
      "   |     0.09s Sorting 100000 nodes of type \"chunk\"\n",
      "   |     0.23s Max node = 500000\n",
      "   |     0.24s OK\n",
      "   |     0.00s reassigning feature values ...\n",
      "   |      |     0.00s node feature \"cat\" with 400000 nodes\n",
      "   |      |     0.09s node feature \"num\" with 500000 nodes\n",
      "   |     0.30s OK\n",
      "  0.00s Exporting 3 node and 1 edge and 1 config features to _temp/tf:\n",
      "  0.00s VALIDATING oslots feature\n",
      "  0.07s VALIDATING oslots feature\n",
      "  0.07s maxSlot=     400000\n",
      "  0.07s maxNode=     500000\n",
      "  0.08s OK: oslots is valid\n",
      "   |     0.56s T cat                  to _temp/tf\n",
      "   |     0.69s T num                  to _temp/tf\n",
      "   |     0.17s T otype                to _temp/tf\n",
      "   |     0.24s T oslots               to _temp/tf\n",
      "   |     0.00s M otext                to _temp/tf\n",
      "  1.75s Exported 3 node features and 1 edge features and 1 config features to _temp/tf\n"
     ]
    }
   ],
   "source": [
    "slotType = 'slot'\n",
    "generic = {\n",
    "    'name': 'test set for query strategy testing',\n",
    "    'compiler': 'Dirk Roorda',\n",
    "}\n",
    "otext = {\n",
    "    'fmt:text-orig-full': '{num}{cat} ',\n",
    "    'sectionTypes': 'chunk',\n",
    "    'sectionFeatures': 'num',\n",
    "}\n",
    "intFeatures = {\n",
    "  'num',\n",
    "}\n",
    "featureMeta = {\n",
    "    'num': {\n",
    "        'description': 'node number',\n",
    "    },\n",
    "    'cat': {\n",
    "        'description': 'category: m f n',\n",
    "    },\n",
    "}\n",
    "\n",
    "nSlots = 400000\n",
    "chunkSize = 4\n",
    "cats = ['m', 'f', 'n']\n",
    "\n",
    "def director(cv):\n",
    "  c = None\n",
    "  for n in range(nSlots):\n",
    "    if n % chunkSize == 0:\n",
    "      cv.terminate(c)\n",
    "      c = cv.node('chunk')\n",
    "      cv.feature(c, num=n // chunkSize)\n",
    "    s = cv.slot()\n",
    "    cv.feature(s, num=n, cat=cats[n % 3])\n",
    "  cv.terminate(c)\n",
    "    \n",
    "cv = CV(TF)\n",
    "\n",
    "good = cv.walk(\n",
    "    director,\n",
    "    slotType,\n",
    "    otext=otext,\n",
    "    generic=generic,\n",
    "    intFeatures=intFeatures,\n",
    "    featureMeta=featureMeta,\n",
    ")"
   ]
  },
  {
   "cell_type": "markdown",
   "metadata": {},
   "source": [
    "# Load test set"
   ]
  },
  {
   "cell_type": "code",
   "execution_count": 6,
   "metadata": {},
   "outputs": [],
   "source": [
    "TF = Fabric(locations=TF_PATH, silent='deep')\n",
    "api = TF.loadAll()\n",
    "docs = api.makeAvailableIn(globals())\n",
    "silentOff()"
   ]
  },
  {
   "cell_type": "markdown",
   "metadata": {},
   "source": [
    "# Test use of shallow"
   ]
  },
  {
   "cell_type": "code",
   "execution_count": 7,
   "metadata": {},
   "outputs": [],
   "source": [
    "query = '''\n",
    "chunk\n",
    "  slot num=1\n",
    "  < slot\n",
    "'''"
   ]
  },
  {
   "cell_type": "code",
   "execution_count": 8,
   "metadata": {},
   "outputs": [
    {
     "data": {
      "text/plain": [
       "[(400001, 2, 3), (400001, 2, 4)]"
      ]
     },
     "execution_count": 8,
     "metadata": {},
     "output_type": "execute_result"
    }
   ],
   "source": [
    "list(S.search(query))"
   ]
  },
  {
   "cell_type": "code",
   "execution_count": 9,
   "metadata": {},
   "outputs": [
    {
     "data": {
      "text/plain": [
       "[(400001, 2)]"
      ]
     },
     "execution_count": 9,
     "metadata": {},
     "output_type": "execute_result"
    }
   ],
   "source": [
    "list(S.search(query, shallow=2))"
   ]
  },
  {
   "cell_type": "code",
   "execution_count": 10,
   "metadata": {},
   "outputs": [],
   "source": [
    "query = '''\n",
    "slot\n",
    "<: slot\n",
    "< slot\n",
    "<: slot\n",
    "< slot\n",
    "<: slot\n",
    "'''"
   ]
  },
  {
   "cell_type": "code",
   "execution_count": 11,
   "metadata": {},
   "outputs": [],
   "source": [
    "query = '''\n",
    "chunk\n",
    "  =: a:slot\n",
    "  < b:slot\n",
    "  < c:slot\n",
    "  :=\n",
    "\n",
    "s:slot\n",
    "\n",
    "a < s\n",
    "s < b\n",
    "s < c\n",
    "'''"
   ]
  },
  {
   "cell_type": "code",
   "execution_count": 12,
   "metadata": {},
   "outputs": [
    {
     "name": "stdout",
     "output_type": "stream",
     "text": [
      "  0.00s Checking search template ...\n",
      "  0.00s Setting up search space for 5 objects ...\n",
      "  0.24s Constraining search space with 10 relations ...\n",
      "  0.75s \t2 edges thinned\n",
      "  0.75s Setting up retrieval plan with strategy small_choice_multi ...\n",
      "  0.77s Ready to deliver results from 1100000 nodes\n",
      "Iterate over S.fetch() to get the results\n",
      "See S.showPlan() to interpret the results\n"
     ]
    }
   ],
   "source": [
    "S.study(query)"
   ]
  },
  {
   "cell_type": "code",
   "execution_count": 13,
   "metadata": {},
   "outputs": [
    {
     "name": "stdout",
     "output_type": "stream",
     "text": [
      "Search with 5 objects and 8 relations\n",
      "Results are instantiations of the following objects:\n",
      "node  0-chunk                                         100000   choices\n",
      "node  1-slot                                          100000   choices\n",
      "node  2-slot                                          400000   choices\n",
      "node  3-slot                                          100000   choices\n",
      "node  4-slot                                          400000   choices\n",
      "Performance parameters:\n",
      "\tyarnRatio            =    1.25\n",
      "\ttryLimitFrom         =      40\n",
      "\ttryLimitTo           =      40\n",
      "Instantiations are computed along the following relations:\n",
      "node                                  0-chunk         100000   choices\n",
      "edge        0-chunk            [[     3-slot               1.0 choices\n",
      "edge        3-slot             :=     0-chunk              0   choices\n",
      "edge        0-chunk            =:     1-slot               1.0 choices (thinned)\n",
      "edge        1-slot             ]]     0-chunk              0   choices\n",
      "edge        0-chunk            [[     2-slot               4.0 choices\n",
      "edge        2-slot             <      3-slot               0   choices\n",
      "edge        2-slot             >      1-slot               0   choices\n",
      "edge    2,3,1-slot           >,>,<    4-slot           20000.0 choices\n",
      "  2.10s The results are connected to the original search template as follows:\n",
      " 0     \n",
      " 1 R0  chunk\n",
      " 2 R1    =: a:slot\n",
      " 3 R2    < b:slot\n",
      " 4 R3    < c:slot\n",
      " 5       :=\n",
      " 6     \n",
      " 7 R4  s:slot\n",
      " 8     \n",
      " 9     a < s\n",
      "10     s < b\n",
      "11     s < c\n",
      "12     \n"
     ]
    }
   ],
   "source": [
    "S.showPlan(details=True)"
   ]
  },
  {
   "cell_type": "code",
   "execution_count": 14,
   "metadata": {},
   "outputs": [
    {
     "name": "stdout",
     "output_type": "stream",
     "text": [
      "         2400209 function calls (2400162 primitive calls) in 0.976 seconds\n",
      "\n",
      "   Ordered by: cumulative time\n",
      "\n",
      "   ncalls  tottime  percall  cumtime  percall filename:lineno(function)\n",
      "        2    0.000    0.000    1.395    0.698 /Library/Frameworks/Python.framework/Versions/3.7/lib/python3.7/site-packages/IPython/core/interactiveshell.py:3230(run_code)\n",
      "        2    0.000    0.000    1.395    0.698 {built-in method builtins.exec}\n",
      "        1    0.000    0.000    1.395    1.395 <ipython-input-14-f769f1ab4bfb>:3(<module>)\n",
      "        1    0.000    0.000    1.395    1.395 /Users/dirk/github/annotation/text-fabric/tf/search/search.py:151(fetch)\n",
      "        1    0.000    0.000    1.395    1.395 /Users/dirk/github/annotation/text-fabric/tf/search/searchexe.py:89(fetch)\n",
      "        3    0.000    0.000    1.395    0.465 /Users/dirk/github/annotation/text-fabric/tf/search/stitch.py:683(deliver)\n",
      "     50/3    0.000    0.000    1.395    0.465 /Users/dirk/github/annotation/text-fabric/tf/search/stitch.py:690(stitchOn)\n",
      "        6    0.720    0.120    1.395    0.232 /Users/dirk/github/annotation/text-fabric/tf/search/stitch.py:724(<genexpr>)\n",
      "  1200006    0.154    0.000    0.572    0.000 {built-in method builtins.all}\n",
      "  1200026    0.101    0.000    0.101    0.000 /Users/dirk/github/annotation/text-fabric/tf/search/relations.py:82(<lambda>)\n",
      "        2    0.000    0.000    0.000    0.000 /Library/Frameworks/Python.framework/Versions/3.7/lib/python3.7/codeop.py:132(__call__)\n",
      "        2    0.000    0.000    0.000    0.000 {built-in method builtins.compile}\n",
      "       17    0.000    0.000    0.000    0.000 /Users/dirk/github/annotation/text-fabric/tf/search/stitch.py:727(<genexpr>)\n",
      "        2    0.000    0.000    0.000    0.000 /Library/Frameworks/Python.framework/Versions/3.7/lib/python3.7/site-packages/IPython/core/hooks.py:142(__call__)\n",
      "        1    0.000    0.000    0.000    0.000 <ipython-input-14-f769f1ab4bfb>:4(<module>)\n",
      "       12    0.000    0.000    0.000    0.000 /Users/dirk/github/annotation/text-fabric/tf/search/stitch.py:693(<genexpr>)\n",
      "       34    0.000    0.000    0.000    0.000 {built-in method builtins.len}\n",
      "        2    0.000    0.000    0.000    0.000 /Library/Frameworks/Python.framework/Versions/3.7/lib/python3.7/site-packages/IPython/core/hooks.py:207(pre_run_code_hook)\n",
      "        2    0.000    0.000    0.000    0.000 /Library/Frameworks/Python.framework/Versions/3.7/lib/python3.7/site-packages/IPython/core/interactiveshell.py:1258(user_global_ns)\n",
      "        2    0.000    0.000    0.000    0.000 /Library/Frameworks/Python.framework/Versions/3.7/lib/python3.7/site-packages/IPython/utils/ipstruct.py:125(__getattr__)\n",
      "        2    0.000    0.000    0.000    0.000 /Users/dirk/github/annotation/text-fabric/tf/search/relations.py:287(<lambda>)\n",
      "        4    0.000    0.000    0.000    0.000 /Users/dirk/github/annotation/text-fabric/tf/search/relations.py:301(<lambda>)\n",
      "        1    0.000    0.000    0.000    0.000 {method 'disable' of '_lsprof.Profiler' objects}\n",
      "       21    0.000    0.000    0.000    0.000 /Users/dirk/github/annotation/text-fabric/tf/search/relations.py:72(<lambda>)\n",
      "        2    0.000    0.000    0.000    0.000 /Users/dirk/github/annotation/text-fabric/tf/search/relations.py:378(<lambda>)\n",
      "        2    0.000    0.000    0.000    0.000 {method 'append' of 'list' objects}\n",
      "        2    0.000    0.000    0.000    0.000 /Users/dirk/github/annotation/text-fabric/tf/search/relations.py:355(<lambda>)\n",
      "        1    0.000    0.000    0.000    0.000 /Users/dirk/github/annotation/text-fabric/tf/search/stitch.py:684(<listcomp>)\n",
      "\n",
      "\n",
      "\n"
     ]
    }
   ],
   "source": [
    "pr = cProfile.Profile()\n",
    "pr.enable()\n",
    "results = S.fetch(limit=2)\n",
    "pr.disable()\n",
    "s = io.StringIO()\n",
    "sortby = SortKey.CUMULATIVE\n",
    "ps = pstats.Stats(pr, stream=s).sort_stats(sortby)\n",
    "ps.print_stats()\n",
    "print(s.getvalue())"
   ]
  },
  {
   "cell_type": "code",
   "execution_count": 15,
   "metadata": {},
   "outputs": [
    {
     "name": "stdout",
     "output_type": "stream",
     "text": [
      "((400001, 1, 3, 4, 2), (400002, 5, 7, 8, 6))\n"
     ]
    }
   ],
   "source": [
    "print(results)"
   ]
  },
  {
   "cell_type": "code",
   "execution_count": 16,
   "metadata": {},
   "outputs": [
    {
     "name": "stdout",
     "output_type": "stream",
     "text": [
      "  0.00s Counting results per 1 up to 10 ...\n",
      "   |     0.30s 1\n",
      "   |     0.88s 2\n",
      "   |     1.46s 3\n",
      "   |     2.03s 4\n",
      "   |     2.60s 5\n",
      "   |     3.17s 6\n",
      "   |     3.74s 7\n",
      "   |     4.32s 8\n",
      "   |     4.89s 9\n",
      "   |     5.46s 10\n",
      "  5.46s Done: 10 results\n"
     ]
    }
   ],
   "source": [
    "S.count(progress=1, limit=10)"
   ]
  },
  {
   "cell_type": "code",
   "execution_count": null,
   "metadata": {},
   "outputs": [],
   "source": []
  }
 ],
 "metadata": {
  "kernelspec": {
   "display_name": "Python 3",
   "language": "python",
   "name": "python3"
  },
  "language_info": {
   "codemirror_mode": {
    "name": "ipython",
    "version": 3
   },
   "file_extension": ".py",
   "mimetype": "text/x-python",
   "name": "python",
   "nbconvert_exporter": "python",
   "pygments_lexer": "ipython3",
   "version": "3.7.2"
  }
 },
 "nbformat": 4,
 "nbformat_minor": 2
}
