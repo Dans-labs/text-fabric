{
 "cells": [
  {
   "cell_type": "code",
   "execution_count": 1,
   "metadata": {},
   "outputs": [],
   "source": [
    "%load_ext autoreload\n",
    "%autoreload 2"
   ]
  },
  {
   "cell_type": "code",
   "execution_count": 2,
   "metadata": {},
   "outputs": [],
   "source": [
    "from tf.fabric import Fabric"
   ]
  },
  {
   "cell_type": "code",
   "execution_count": 6,
   "metadata": {},
   "outputs": [
    {
     "name": "stdout",
     "output_type": "stream",
     "text": [
      "This is Text-Fabric 7.8.0\n",
      "Api reference : https://annotation.github.io/text-fabric/Api/Fabric/\n",
      "\n",
      "10 features found and 0 ignored\n"
     ]
    }
   ],
   "source": [
    "TF = Fabric(locations='~/github/annotation//banks/tf/0.2')"
   ]
  },
  {
   "cell_type": "code",
   "execution_count": 7,
   "metadata": {},
   "outputs": [],
   "source": [
    "allFeatures = TF.explore(silent=True, show=True)\n",
    "loadableFeatures = allFeatures['nodes'] + allFeatures['edges']"
   ]
  },
  {
   "cell_type": "markdown",
   "metadata": {},
   "source": [
    "We load all features:"
   ]
  },
  {
   "cell_type": "code",
   "execution_count": 9,
   "metadata": {},
   "outputs": [
    {
     "name": "stdout",
     "output_type": "stream",
     "text": [
      "  0.00s loading features ...\n",
      "  0.00s All features loaded/computed - for details use loadLog()\n"
     ]
    }
   ],
   "source": [
    "api = TF.load(loadableFeatures)\n",
    "docs = api.makeAvailableIn(globals())"
   ]
  },
  {
   "cell_type": "code",
   "execution_count": 10,
   "metadata": {},
   "outputs": [
    {
     "name": "stdout",
     "output_type": "stream",
     "text": [
      "  0.00s Checking search template ...\n"
     ]
    },
    {
     "name": "stderr",
     "output_type": "stream",
     "text": [
      " 0 \n",
      " 1 line\n",
      " 2 .number. sentence\n",
      " 3 \n",
      "line 2: Unknown relation: \".number.\"\n",
      "Allowed relations:\n",
      "                      = left equal to right (as node)\n",
      "                      # left unequal to right (as node)\n",
      "                      < left before right (in canonical node ordering)\n",
      "                      > left after right (in canonical node ordering)\n",
      "                     == left occupies same slots as right\n",
      "                     && left has overlapping slots with right\n",
      "                     ## left and right do not have the same slot set\n",
      "                     || left and right do not have common slots\n",
      "                     [[ left embeds right\n",
      "                     ]] left embedded in right\n",
      "                     << left completely before right\n",
      "                     >> left completely after right\n",
      "                     =: left and right start at the same slot\n",
      "                     := left and right end at the same slot\n",
      "                     :: left and right start and end at the same slot\n",
      "                     <: left immediately before right\n",
      "                     :> left immediately after right\n",
      "                    =k: left and right start at k-nearly the same slot\n",
      "                    :k= left and right end at k-nearly the same slot\n",
      "                    :k: left and right start and end at k-near slots\n",
      "                    <k: left k-nearly before right\n",
      "                    :k> left k-nearly after right\n",
      "The warp feature \"oslots\" cannot be used in searches.\n",
      "One of the above relations on nodes and/or slots will suit you better.\n",
      "\n"
     ]
    }
   ],
   "source": [
    "query = '''\n",
    "line\n",
    ".number. sentence\n",
    "'''\n",
    "S.study(query)\n",
    "S.showPlan(details=True)"
   ]
  },
  {
   "cell_type": "code",
   "execution_count": 12,
   "metadata": {},
   "outputs": [
    {
     "data": {
      "text/plain": [
       "[(0, '.number.', 1)]"
      ]
     },
     "execution_count": 12,
     "metadata": {},
     "output_type": "execute_result"
    }
   ],
   "source": [
    "S.exe.qedgesRaw"
   ]
  },
  {
   "cell_type": "code",
   "execution_count": 7,
   "metadata": {},
   "outputs": [
    {
     "name": "stdout",
     "output_type": "stream",
     "text": [
      "   |     0.00s Feature overview: 8 for nodes; 1 for edges; 1 configs; 7 computed\n",
      "  0.00s Checking search template ...\n",
      "  0.00s Setting up search space for 4 objects ...\n",
      "  0.00s Constraining search space with 3 relations ...\n",
      "  0.00s Setting up retrieval plan ...\n",
      "  0.00s Ready to deliver results from 3 nodes\n",
      "Iterate over S.fetch() to get the results\n",
      "See S.showPlan() to interpret the results\n",
      "Search with 4 objects and 3 relations\n",
      "Results are instantiations of the following objects:\n",
      "node  0-sentence                          (     1   choices)\n",
      "node  1-word                              (     2   choices)\n",
      "node  2-sentence                          (     0   choices)\n",
      "node  3-word                              (     0   choices)\n",
      "Instantiations are computed along the following relations:\n",
      "node                      2-sentence      (     0   choices)\n",
      "edge  2-sentence      [[  3-word          (     0.0 choices)\n",
      "edge  2-sentence      :>  0-sentence      (     0.0 choices)\n",
      "edge  0-sentence      [[  1-word          (     2.0 choices)\n",
      "  0.01s The results are connected to the original search template as follows:\n",
      " 0     \n",
      " 1 R0  sentence\n",
      " 2 R1    word letters=everything\n",
      " 3 R2  <: sentence\n",
      " 4 R3    word letters=everything\n",
      " 5     \n"
     ]
    }
   ],
   "source": [
    "query = '''\n",
    "sentence\n",
    "  word letters=everything\n",
    "<: sentence\n",
    "  word letters=everything\n",
    "'''\n",
    "S.study(query)\n",
    "S.showPlan(details=True)"
   ]
  },
  {
   "cell_type": "code",
   "execution_count": 8,
   "metadata": {},
   "outputs": [
    {
     "name": "stdout",
     "output_type": "stream",
     "text": [
      "   |     0.00s Feature overview: 8 for nodes; 1 for edges; 1 configs; 7 computed\n",
      "  0.00s Checking search template ...\n",
      "  0.00s Setting up search space for 5 objects ...\n",
      "  0.00s Constraining search space with 5 relations ...\n",
      "  0.00s Setting up retrieval plan ...\n",
      "  0.00s Ready to deliver results from 4 nodes\n",
      "Iterate over S.fetch() to get the results\n",
      "See S.showPlan() to interpret the results\n",
      "Search with 5 objects and 5 relations\n",
      "Results are instantiations of the following objects:\n",
      "node  0-book                              (     1   choices)\n",
      "node  1-sentence                          (     1   choices)\n",
      "node  2-word                              (     2   choices)\n",
      "node  3-sentence                          (     0   choices)\n",
      "node  4-word                              (     0   choices)\n",
      "Instantiations are computed along the following relations:\n",
      "node                      3-sentence      (     0   choices)\n",
      "edge  3-sentence      [[  4-word          (     0.0 choices)\n",
      "edge  3-sentence      :>  1-sentence      (     0.0 choices)\n",
      "edge  3-sentence      ]]  0-book          (     0.0 choices)\n",
      "edge  1-sentence      ]]  0-book          (     1.0 choices)\n",
      "edge  1-sentence      [[  2-word          (     2.0 choices)\n",
      "  0.02s The results are connected to the original search template as follows:\n",
      " 0     \n",
      " 1 R0  book\n",
      " 2 R1    sentence\n",
      " 3 R2      word letters=everything\n",
      " 4 R3    <: sentence\n",
      " 5 R4      word letters=everything\n",
      " 6     \n"
     ]
    }
   ],
   "source": [
    "query = '''\n",
    "book\n",
    "  sentence\n",
    "    word letters=everything\n",
    "  <: sentence\n",
    "    word letters=everything\n",
    "'''\n",
    "S.study(query)\n",
    "S.showPlan(details=True)"
   ]
  },
  {
   "cell_type": "code",
   "execution_count": null,
   "metadata": {},
   "outputs": [],
   "source": []
  }
 ],
 "metadata": {
  "kernelspec": {
   "display_name": "Python 3",
   "language": "python",
   "name": "python3"
  },
  "language_info": {
   "codemirror_mode": {
    "name": "ipython",
    "version": 3
   },
   "file_extension": ".py",
   "mimetype": "text/x-python",
   "name": "python",
   "nbconvert_exporter": "python",
   "pygments_lexer": "ipython3",
   "version": "3.7.2"
  }
 },
 "nbformat": 4,
 "nbformat_minor": 2
}
