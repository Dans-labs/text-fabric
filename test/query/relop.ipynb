{
 "cells": [
  {
   "cell_type": "code",
   "execution_count": 1,
   "metadata": {},
   "outputs": [],
   "source": [
    "%load_ext autoreload\n",
    "%autoreload 2"
   ]
  },
  {
   "cell_type": "code",
   "execution_count": 2,
   "metadata": {},
   "outputs": [],
   "source": [
    "from tf.fabric import Fabric"
   ]
  },
  {
   "cell_type": "code",
   "execution_count": 3,
   "metadata": {},
   "outputs": [
    {
     "name": "stdout",
     "output_type": "stream",
     "text": [
      "This is Text-Fabric 7.8.0\n",
      "Api reference : https://annotation.github.io/text-fabric/Api/Fabric/\n",
      "\n",
      "10 features found and 0 ignored\n"
     ]
    }
   ],
   "source": [
    "TF = Fabric(locations='~/github/annotation//banks/tf/0.2')"
   ]
  },
  {
   "cell_type": "code",
   "execution_count": 4,
   "metadata": {},
   "outputs": [],
   "source": [
    "allFeatures = TF.explore(silent=True, show=True)\n",
    "loadableFeatures = allFeatures['nodes'] + allFeatures['edges']"
   ]
  },
  {
   "cell_type": "markdown",
   "metadata": {},
   "source": [
    "We load all features:"
   ]
  },
  {
   "cell_type": "code",
   "execution_count": 5,
   "metadata": {},
   "outputs": [
    {
     "name": "stdout",
     "output_type": "stream",
     "text": [
      "  0.00s loading features ...\n",
      "  0.03s All features loaded/computed - for details use loadLog()\n"
     ]
    }
   ],
   "source": [
    "api = TF.load(loadableFeatures)\n",
    "docs = api.makeAvailableIn(globals())"
   ]
  },
  {
   "cell_type": "code",
   "execution_count": 9,
   "metadata": {},
   "outputs": [
    {
     "name": "stdout",
     "output_type": "stream",
     "text": [
      "XXX {'=': 1, '#': 3, '<': 4, '>': 5, '==': 7, '&&': 9, '##': 11, '||': 13, '[[': 14, ']]': 15, '<<': 16, '>>': 17, '=:': 19, ':=': 21, '::': 23, '<:': 24, ':>': 25, '=k:': 27, ':k=': 29, ':k:': 31, '<k:': 32, ':k>': 33, '.f.': 35, '.f=g.': 36, '.g=f.': 37, '.number=number.': 39}\n"
     ]
    },
    {
     "data": {
      "text/plain": [
       "6"
      ]
     },
     "execution_count": 9,
     "metadata": {},
     "output_type": "execute_result"
    }
   ],
   "source": [
    "query = '''\n",
    "line\n",
    ".number=number. sentence\n",
    "'''\n",
    "results = list(S.search(query))\n",
    "len(results)"
   ]
  },
  {
   "cell_type": "code",
   "execution_count": 10,
   "metadata": {},
   "outputs": [
    {
     "name": "stdout",
     "output_type": "stream",
     "text": [
      "line 110 has number 1 = 1 of sentence 115\n",
      "line 103 has number 1 = 1 of sentence 115\n",
      "line 104 has number 2 = 2 of sentence 116\n",
      "line 111 has number 2 = 2 of sentence 116\n",
      "line 110 has number 1 = 1 of sentence 117\n",
      "line 103 has number 1 = 1 of sentence 117\n"
     ]
    }
   ],
   "source": [
    "for (l, s) in results:\n",
    "  print(f'{F.otype.v(l)} {l} has number {F.number.v(l)} = {F.number.v(s)} of {F.otype.v(s)} {s}')"
   ]
  },
  {
   "cell_type": "code",
   "execution_count": 8,
   "metadata": {},
   "outputs": [
    {
     "data": {
      "text/plain": [
       "[(0, '.number.', 1)]"
      ]
     },
     "execution_count": 8,
     "metadata": {},
     "output_type": "execute_result"
    }
   ],
   "source": [
    "S.exe.qedgesRaw"
   ]
  },
  {
   "cell_type": "code",
   "execution_count": 16,
   "metadata": {},
   "outputs": [
    {
     "name": "stdout",
     "output_type": "stream",
     "text": [
      "This is Text-Fabric 7.8.0\n",
      "Api reference : https://annotation.github.io/text-fabric/Api/Fabric/\n",
      "\n",
      "6 features found and 0 ignored\n",
      "  0.00s Warp feature \"otext\" not found. Working without Text-API\n",
      "\n"
     ]
    }
   ],
   "source": [
    "TF = Fabric(locations='/Users/dirk/github/annotation/text-fabric/test/generic/tf')"
   ]
  },
  {
   "cell_type": "code",
   "execution_count": 17,
   "metadata": {},
   "outputs": [],
   "source": [
    "allFeatures = TF.explore(silent=True, show=True)\n",
    "loadableFeatures = allFeatures['nodes'] + allFeatures['edges']"
   ]
  },
  {
   "cell_type": "code",
   "execution_count": 18,
   "metadata": {},
   "outputs": [
    {
     "name": "stdout",
     "output_type": "stream",
     "text": [
      "  0.00s loading features ...\n",
      "   |     0.00s No section config in otext, the section part of the T-API cannot be used\n",
      "   |     0.00s No structure info in otext, the structure part of the T-API cannot be used\n",
      "   |     0.00s T namepart             from /Users/dirk/github/annotation/text-fabric/test/generic/tf\n",
      "   |     0.00s T namesign             from /Users/dirk/github/annotation/text-fabric/test/generic/tf\n",
      "  0.02s All features loaded/computed - for details use loadLog()\n"
     ]
    }
   ],
   "source": [
    "api = TF.load(loadableFeatures)\n",
    "docs = api.makeAvailableIn(globals())"
   ]
  },
  {
   "cell_type": "code",
   "execution_count": 34,
   "metadata": {},
   "outputs": [
    {
     "data": {
      "text/plain": [
       "(('special', 1),)"
      ]
     },
     "execution_count": 34,
     "metadata": {},
     "output_type": "execute_result"
    }
   ],
   "source": [
    "F.namesign.freqList()"
   ]
  },
  {
   "cell_type": "code",
   "execution_count": 43,
   "metadata": {},
   "outputs": [],
   "source": [
    "query = '''\n",
    "part name=s1\n",
    ".namepart=namesign. sign name=a\n",
    "'''"
   ]
  },
  {
   "cell_type": "code",
   "execution_count": 44,
   "metadata": {},
   "outputs": [
    {
     "data": {
      "text/plain": [
       "[(11, 1)]"
      ]
     },
     "execution_count": 44,
     "metadata": {},
     "output_type": "execute_result"
    }
   ],
   "source": [
    "results = list(S.search(query))\n",
    "results"
   ]
  },
  {
   "cell_type": "code",
   "execution_count": 56,
   "metadata": {},
   "outputs": [],
   "source": [
    "query = '''\n",
    "sign name=a\n",
    ".namesign=namepart. part name=s1\n",
    "'''"
   ]
  },
  {
   "cell_type": "code",
   "execution_count": 61,
   "metadata": {},
   "outputs": [
    {
     "name": "stdout",
     "output_type": "stream",
     "text": [
      "XXX {'=': 1, '#': 3, '<': 4, '>': 5, '==': 7, '&&': 9, '##': 11, '||': 13, '[[': 14, ']]': 15, '<<': 16, '>>': 17, '=:': 19, ':=': 21, '::': 23, '<:': 24, ':>': 25, '=k:': 27, ':k=': 29, ':k:': 31, '<k:': 32, ':k>': 33, '.f.': 35, '.f=g.': 36, '.g=f.': 37, '.namesign=namepart.': 38, '.namepart=namesign.': 39}\n"
     ]
    },
    {
     "data": {
      "text/plain": [
       "[(1, 11)]"
      ]
     },
     "execution_count": 61,
     "metadata": {},
     "output_type": "execute_result"
    }
   ],
   "source": [
    "results = list(S.search(query))\n",
    "results"
   ]
  },
  {
   "cell_type": "code",
   "execution_count": null,
   "metadata": {},
   "outputs": [],
   "source": []
  }
 ],
 "metadata": {
  "kernelspec": {
   "display_name": "Python 3",
   "language": "python",
   "name": "python3"
  },
  "language_info": {
   "codemirror_mode": {
    "name": "ipython",
    "version": 3
   },
   "file_extension": ".py",
   "mimetype": "text/x-python",
   "name": "python",
   "nbconvert_exporter": "python",
   "pygments_lexer": "ipython3",
   "version": "3.7.2"
  }
 },
 "nbformat": 4,
 "nbformat_minor": 2
}
