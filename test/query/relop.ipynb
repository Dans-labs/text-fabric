{
 "cells": [
  {
   "cell_type": "code",
   "execution_count": 1,
   "metadata": {},
   "outputs": [],
   "source": [
    "%load_ext autoreload\n",
    "%autoreload 2"
   ]
  },
  {
   "cell_type": "code",
   "execution_count": 2,
   "metadata": {},
   "outputs": [],
   "source": [
    "from tf.fabric import Fabric"
   ]
  },
  {
   "cell_type": "code",
   "execution_count": 3,
   "metadata": {},
   "outputs": [
    {
     "name": "stdout",
     "output_type": "stream",
     "text": [
      "This is Text-Fabric 7.5.4\n",
      "Api reference : https://annotation.github.io/text-fabric/Api/Fabric/\n",
      "\n",
      "10 features found and 0 ignored\n"
     ]
    }
   ],
   "source": [
    "TF = Fabric(locations='~/github/annotation/tutorials/text-fabric/examples/banks/tf')"
   ]
  },
  {
   "cell_type": "code",
   "execution_count": 4,
   "metadata": {},
   "outputs": [],
   "source": [
    "allFeatures = TF.explore(silent=True, show=True)\n",
    "loadableFeatures = allFeatures['nodes'] + allFeatures['edges']"
   ]
  },
  {
   "cell_type": "markdown",
   "metadata": {},
   "source": [
    "We load all features:"
   ]
  },
  {
   "cell_type": "code",
   "execution_count": 5,
   "metadata": {},
   "outputs": [
    {
     "name": "stdout",
     "output_type": "stream",
     "text": [
      "  0.00s loading features ...\n",
      "   |     0.00s B otype                from /Users/dirk/github/annotation/tutorials/text-fabric/examples/banks/tf\n",
      "   |     0.00s B oslots               from /Users/dirk/github/annotation/tutorials/text-fabric/examples/banks/tf\n",
      "   |     0.00s B title                from /Users/dirk/github/annotation/tutorials/text-fabric/examples/banks/tf\n",
      "   |     0.00s B number               from /Users/dirk/github/annotation/tutorials/text-fabric/examples/banks/tf\n",
      "   |     0.00s B letters              from /Users/dirk/github/annotation/tutorials/text-fabric/examples/banks/tf\n",
      "   |     0.00s B punc                 from /Users/dirk/github/annotation/tutorials/text-fabric/examples/banks/tf\n",
      "   |     0.00s B author               from /Users/dirk/github/annotation/tutorials/text-fabric/examples/banks/tf\n",
      "   |     0.00s B gap                  from /Users/dirk/github/annotation/tutorials/text-fabric/examples/banks/tf\n",
      "   |     0.00s B terminator           from /Users/dirk/github/annotation/tutorials/text-fabric/examples/banks/tf\n",
      "  0.04s All features loaded/computed - for details use loadLog()\n"
     ]
    },
    {
     "data": {
      "text/plain": [
       "[('Computed',\n",
       "  'computed-data',\n",
       "  ('C Computed', 'Call AllComputeds', 'Cs ComputedString')),\n",
       " ('Features', 'edge-features', ('E Edge', 'Eall AllEdges', 'Es EdgeString')),\n",
       " ('Fabric', 'loading', ('ensureLoaded', 'TF', 'ignored', 'loadLog')),\n",
       " ('Locality', 'locality', ('L Locality',)),\n",
       " ('Misc', 'messaging', ('cache', 'error', 'indent', 'info', 'reset')),\n",
       " ('Nodes',\n",
       "  'navigating-nodes',\n",
       "  ('N Nodes', 'sortKey', 'sortKeyTuple', 'otypeRank', 'sortNodes')),\n",
       " ('Features',\n",
       "  'node-features',\n",
       "  ('F Feature', 'Fall AllFeatures', 'Fs FeatureString')),\n",
       " ('Search', 'search', ('S Search',)),\n",
       " ('Text', 'text', ('T Text',))]"
      ]
     },
     "execution_count": 5,
     "metadata": {},
     "output_type": "execute_result"
    }
   ],
   "source": [
    "api = TF.load(loadableFeatures)\n",
    "api.makeAvailableIn(globals())"
   ]
  },
  {
   "cell_type": "code",
   "execution_count": 6,
   "metadata": {},
   "outputs": [
    {
     "name": "stdout",
     "output_type": "stream",
     "text": [
      "   |     0.00s Feature overview: 8 for nodes; 1 for edges; 1 configs; 7 computed\n",
      "  0.00s Checking search template ...\n",
      "  0.00s Setting up search space for 2 objects ...\n",
      "  0.00s Constraining search space with 1 relations ...\n",
      "  0.00s Setting up retrieval plan ...\n",
      "  0.00s Ready to deliver results from 4 nodes\n",
      "Iterate over S.fetch() to get the results\n",
      "See S.showPlan() to interpret the results\n",
      "Search with 2 objects and 1 relations\n",
      "Results are instantiations of the following objects:\n",
      "node  0-sentence                          (     2   choices)\n",
      "node  1-sentence                          (     2   choices)\n",
      "Instantiations are computed along the following relations:\n",
      "node                      0-sentence      (     2   choices)\n",
      "edge  0-sentence      <:  1-sentence      (     1.0 choices)\n",
      "  0.01s The results are connected to the original search template as follows:\n",
      " 0     \n",
      " 1 R0  sentence\n",
      " 2 R1  <: sentence\n",
      " 3     \n"
     ]
    }
   ],
   "source": [
    "query = '''\n",
    "sentence\n",
    "<: sentence\n",
    "'''\n",
    "S.study(query)\n",
    "S.showPlan(details=True)"
   ]
  },
  {
   "cell_type": "code",
   "execution_count": 7,
   "metadata": {},
   "outputs": [
    {
     "name": "stdout",
     "output_type": "stream",
     "text": [
      "   |     0.00s Feature overview: 8 for nodes; 1 for edges; 1 configs; 7 computed\n",
      "  0.00s Checking search template ...\n",
      "  0.00s Setting up search space for 4 objects ...\n",
      "  0.00s Constraining search space with 3 relations ...\n",
      "  0.00s Setting up retrieval plan ...\n",
      "  0.00s Ready to deliver results from 3 nodes\n",
      "Iterate over S.fetch() to get the results\n",
      "See S.showPlan() to interpret the results\n",
      "Search with 4 objects and 3 relations\n",
      "Results are instantiations of the following objects:\n",
      "node  0-sentence                          (     1   choices)\n",
      "node  1-word                              (     2   choices)\n",
      "node  2-sentence                          (     0   choices)\n",
      "node  3-word                              (     0   choices)\n",
      "Instantiations are computed along the following relations:\n",
      "node                      2-sentence      (     0   choices)\n",
      "edge  2-sentence      [[  3-word          (     0.0 choices)\n",
      "edge  2-sentence      :>  0-sentence      (     0.0 choices)\n",
      "edge  0-sentence      [[  1-word          (     2.0 choices)\n",
      "  0.01s The results are connected to the original search template as follows:\n",
      " 0     \n",
      " 1 R0  sentence\n",
      " 2 R1    word letters=everything\n",
      " 3 R2  <: sentence\n",
      " 4 R3    word letters=everything\n",
      " 5     \n"
     ]
    }
   ],
   "source": [
    "query = '''\n",
    "sentence\n",
    "  word letters=everything\n",
    "<: sentence\n",
    "  word letters=everything\n",
    "'''\n",
    "S.study(query)\n",
    "S.showPlan(details=True)"
   ]
  },
  {
   "cell_type": "code",
   "execution_count": 8,
   "metadata": {},
   "outputs": [
    {
     "name": "stdout",
     "output_type": "stream",
     "text": [
      "   |     0.00s Feature overview: 8 for nodes; 1 for edges; 1 configs; 7 computed\n",
      "  0.00s Checking search template ...\n",
      "  0.00s Setting up search space for 5 objects ...\n",
      "  0.00s Constraining search space with 5 relations ...\n",
      "  0.00s Setting up retrieval plan ...\n",
      "  0.00s Ready to deliver results from 4 nodes\n",
      "Iterate over S.fetch() to get the results\n",
      "See S.showPlan() to interpret the results\n",
      "Search with 5 objects and 5 relations\n",
      "Results are instantiations of the following objects:\n",
      "node  0-book                              (     1   choices)\n",
      "node  1-sentence                          (     1   choices)\n",
      "node  2-word                              (     2   choices)\n",
      "node  3-sentence                          (     0   choices)\n",
      "node  4-word                              (     0   choices)\n",
      "Instantiations are computed along the following relations:\n",
      "node                      3-sentence      (     0   choices)\n",
      "edge  3-sentence      [[  4-word          (     0.0 choices)\n",
      "edge  3-sentence      :>  1-sentence      (     0.0 choices)\n",
      "edge  3-sentence      ]]  0-book          (     0.0 choices)\n",
      "edge  1-sentence      ]]  0-book          (     1.0 choices)\n",
      "edge  1-sentence      [[  2-word          (     2.0 choices)\n",
      "  0.02s The results are connected to the original search template as follows:\n",
      " 0     \n",
      " 1 R0  book\n",
      " 2 R1    sentence\n",
      " 3 R2      word letters=everything\n",
      " 4 R3    <: sentence\n",
      " 5 R4      word letters=everything\n",
      " 6     \n"
     ]
    }
   ],
   "source": [
    "query = '''\n",
    "book\n",
    "  sentence\n",
    "    word letters=everything\n",
    "  <: sentence\n",
    "    word letters=everything\n",
    "'''\n",
    "S.study(query)\n",
    "S.showPlan(details=True)"
   ]
  },
  {
   "cell_type": "code",
   "execution_count": null,
   "metadata": {},
   "outputs": [],
   "source": []
  }
 ],
 "metadata": {
  "kernelspec": {
   "display_name": "Python 3",
   "language": "python",
   "name": "python3"
  },
  "language_info": {
   "codemirror_mode": {
    "name": "ipython",
    "version": 3
   },
   "file_extension": ".py",
   "mimetype": "text/x-python",
   "name": "python",
   "nbconvert_exporter": "python",
   "pygments_lexer": "ipython3",
   "version": "3.7.2"
  }
 },
 "nbformat": 4,
 "nbformat_minor": 2
}
