{
 "cells": [
  {
   "cell_type": "markdown",
   "metadata": {},
   "source": [
    "# Reading node feature in Julia\n",
    "\n",
    "We read the BHSA feature `g_word_utf8`, which maps nearly half a million integers to Hebrew word occurrences\n",
    "in the Hebrew Bible.\n",
    "\n",
    "We measure the execution time of a second run of the last cell, so that we do not count warming up effects."
   ]
  },
  {
   "cell_type": "code",
   "execution_count": 5,
   "metadata": {
    "ExecuteTime": {
     "end_time": "2018-07-19T10:40:31.217000+02:00",
     "start_time": "2018-07-19T08:40:31.213Z"
    }
   },
   "outputs": [
    {
     "data": {
      "text/plain": [
       "error (generic function with 1 method)"
      ]
     },
     "execution_count": 5,
     "metadata": {},
     "output_type": "execute_result"
    }
   ],
   "source": [
    "function error(msg)\n",
    "    write(STDERR, \"$msg\\n\")\n",
    "end"
   ]
  },
  {
   "cell_type": "code",
   "execution_count": 6,
   "metadata": {
    "ExecuteTime": {
     "end_time": "2018-07-19T10:40:32.533000+02:00",
     "start_time": "2018-07-19T08:40:32.527Z"
    }
   },
   "outputs": [
    {
     "data": {
      "text/plain": [
       "valueFromTf (generic function with 1 method)"
      ]
     },
     "execution_count": 6,
     "metadata": {},
     "output_type": "execute_result"
    }
   ],
   "source": [
    "function valueFromTf(tf)\n",
    "  join([replace(replace(x, \"\\\\t\", \"\\t\"), \"\\\\n\", \"\\n\") for x in split(tf, \"\\\\\\\\\")], \"\\\\\")\n",
    "end"
   ]
  },
  {
   "cell_type": "code",
   "execution_count": 7,
   "metadata": {
    "ExecuteTime": {
     "end_time": "2018-07-19T10:40:34.790000+02:00",
     "start_time": "2018-07-19T08:40:34.669Z"
    }
   },
   "outputs": [
    {
     "data": {
      "text/plain": [
       "setFromSpec (generic function with 1 method)"
      ]
     },
     "execution_count": 7,
     "metadata": {},
     "output_type": "execute_result"
    }
   ],
   "source": [
    "function setFromSpec(spec)\n",
    "  covered = Set()\n",
    "  for r_str in split(spec, \",\")\n",
    "    bounds = split(r_str, \"-\")\n",
    "    if length(bounds) == 1\n",
    "      push!(covered, parse(Int, r_str))\n",
    "    else\n",
    "      b = parse(Int, bounds[1])\n",
    "      e = parse(Int, bounds[2])\n",
    "      if e < b\n",
    "        (b, e) = (e, b)\n",
    "      end\n",
    "      for n in b:e\n",
    "        push!(covered, n)\n",
    "      end\n",
    "    end\n",
    "  end\n",
    "  covered\n",
    "end"
   ]
  },
  {
   "cell_type": "code",
   "execution_count": 8,
   "metadata": {
    "ExecuteTime": {
     "end_time": "2018-07-19T10:40:36.908000+02:00",
     "start_time": "2018-07-19T08:40:36.785Z"
    }
   },
   "outputs": [
    {
     "data": {
      "text/plain": [
       "readTf (generic function with 1 method)"
      ]
     },
     "execution_count": 8,
     "metadata": {},
     "output_type": "execute_result"
    }
   ],
   "source": [
    "function readTf(path)\n",
    "  if !isfile(path)\n",
    "    error(\"TF reading: feature file '$path' does not exist\")\n",
    "    return false\n",
    "  end\n",
    "  fh = open(path)\n",
    "  i = 0\n",
    "  for line in eachline(fh)\n",
    "    i += 1\n",
    "    text = rstrip(line)\n",
    "    if startswith(text, \"@\")\n",
    "      continue\n",
    "    else\n",
    "      if text != \"\"\n",
    "        error(\"Line $i: missing blank line after metadata\")\n",
    "        close(fh)\n",
    "        return false\n",
    "      else\n",
    "        break\n",
    "      end\n",
    "    end\n",
    "  end\n",
    "  result = readDataTf(fh, i)\n",
    "  close(fh)\n",
    "  result\n",
    "end"
   ]
  },
  {
   "cell_type": "code",
   "execution_count": 9,
   "metadata": {
    "ExecuteTime": {
     "end_time": "2018-07-19T10:40:44.966000+02:00",
     "start_time": "2018-07-19T08:40:44.854Z"
    }
   },
   "outputs": [
    {
     "data": {
      "text/plain": [
       "readDataTf (generic function with 1 method)"
      ]
     },
     "execution_count": 9,
     "metadata": {},
     "output_type": "execute_result"
    }
   ],
   "source": [
    "function readDataTf(fh, firstI)\n",
    "  i = firstI\n",
    "  implicit_node = 1\n",
    "  data = Dict()\n",
    "  normFields = 2\n",
    "  isNum = false\n",
    "  errors = 0\n",
    "  for line in eachline(fh)\n",
    "    i += 1\n",
    "    fields = split(rstrip(line, '\\n'), \"\\t\")\n",
    "    lfields = length(fields)\n",
    "    if lfields > normFields\n",
    "      error(\"$(i) : wrongFields\")\n",
    "      errors += 1\n",
    "      continue\n",
    "    end\n",
    "    if lfields == normFields\n",
    "      nodes = setFromSpec(fields[1])\n",
    "      valTf = fields[end]\n",
    "    else\n",
    "      nodes = Set([implicit_node])\n",
    "      if lfields == 1\n",
    "        valTf = fields[1]\n",
    "      else\n",
    "        valTf = \"\"\n",
    "      end\n",
    "    end\n",
    "    implicit_node = maximum(nodes) + 1\n",
    "    value = (\n",
    "        valTf == \"\" ?\n",
    "          (isNum && valTf != \"\") ? parse(Int, valTf) : (isNum ? nothing : \"\") :\n",
    "          valueFromTf(valTf)\n",
    "    )\n",
    "    for n in nodes\n",
    "      if value !== nothing\n",
    "        data[n] = value\n",
    "      end\n",
    "    end\n",
    "  end\n",
    "  (errors, data)\n",
    "end"
   ]
  },
  {
   "cell_type": "code",
   "execution_count": 11,
   "metadata": {
    "ExecuteTime": {
     "end_time": "2018-07-19T10:41:12.971000+02:00",
     "start_time": "2018-07-19T08:41:09.475Z"
    }
   },
   "outputs": [
    {
     "name": "stdout",
     "output_type": "stream",
     "text": [
      "426584\n",
      "רֵאשִׁ֖ית"
     ]
    }
   ],
   "source": [
    "base = \"$(homedir())/text-fabric-data/etcbc/bhsa/tf/c\"\n",
    "feature = \"g_word_utf8\"\n",
    "featurePath = \"$base/$feature.tf\"\n",
    "(errors, data) = readTf(featurePath)\n",
    "if errors == 0\n",
    "    print(\"$(length(data))\\n\")\n",
    "    print(data[2])\n",
    "else\n",
    "    print(\"no results\")\n",
    "end"
   ]
  },
  {
   "cell_type": "markdown",
   "metadata": {},
   "source": [
    "Execution time: around 3.5s"
   ]
  }
 ],
 "metadata": {
  "kernelspec": {
   "display_name": "Julia 0.6.4",
   "language": "julia",
   "name": "julia-0.6"
  },
  "language_info": {
   "file_extension": ".jl",
   "mimetype": "application/julia",
   "name": "julia",
   "version": "0.6.4"
  }
 },
 "nbformat": 4,
 "nbformat_minor": 2
}
