{
 "cells": [
  {
   "cell_type": "markdown",
   "metadata": {},
   "source": [
    "# Reading node feature in Python\n",
    "\n",
    "We read the BHSA feature `g_word_utf8`, which maps nearly half a million integers to Hebrew word occurrences\n",
    "in the Hebrew Bible.\n",
    "\n",
    "We measure the execution time of a second run of the last cell, so that we do not count warming up effects."
   ]
  },
  {
   "cell_type": "code",
   "execution_count": 2,
   "metadata": {
    "ExecuteTime": {
     "end_time": "2018-07-19T08:41:28.831403Z",
     "start_time": "2018-07-19T08:41:28.826860Z"
    }
   },
   "outputs": [],
   "source": [
    "import os\n",
    "import sys"
   ]
  },
  {
   "cell_type": "code",
   "execution_count": 3,
   "metadata": {
    "ExecuteTime": {
     "end_time": "2018-07-19T08:41:30.204224Z",
     "start_time": "2018-07-19T08:41:30.198994Z"
    }
   },
   "outputs": [],
   "source": [
    "def error(msg):\n",
    "    sys.stderr.write(f'{msg}\\n')"
   ]
  },
  {
   "cell_type": "code",
   "execution_count": 4,
   "metadata": {
    "ExecuteTime": {
     "end_time": "2018-07-19T08:41:31.823822Z",
     "start_time": "2018-07-19T08:41:31.817398Z"
    }
   },
   "outputs": [],
   "source": [
    "def valueFromTf(tf):\n",
    "  return '\\\\'.join(x.replace('\\\\t', '\\t').replace('\\\\n', '\\n') for x in tf.split('\\\\\\\\'))\n",
    "\n",
    "def setFromSpec(spec):\n",
    "  covered = set()\n",
    "  for r_str in spec.split(','):\n",
    "    bounds = r_str.split('-')\n",
    "    if len(bounds) == 1:\n",
    "      covered.add(int(r_str))\n",
    "    else:\n",
    "      b = int(bounds[0])\n",
    "      e = int(bounds[1])\n",
    "      if (e < b):\n",
    "        (b, e) = (e, b)\n",
    "      for n in range(b, e + 1):\n",
    "        covered.add(n)\n",
    "  return covered"
   ]
  },
  {
   "cell_type": "code",
   "execution_count": 5,
   "metadata": {
    "ExecuteTime": {
     "end_time": "2018-07-19T08:41:33.130343Z",
     "start_time": "2018-07-19T08:41:33.124738Z"
    }
   },
   "outputs": [],
   "source": [
    "def readTf(path):\n",
    "  if not os.path.exists(path):\n",
    "    error('TF reading: feature file \"{}\" does not exist'.format(path))\n",
    "    return False\n",
    "  fh = open(path, encoding='utf8')\n",
    "  i = 0\n",
    "  for line in fh:\n",
    "    i += 1\n",
    "    text = line.rstrip()\n",
    "    if text.startswith('@'):\n",
    "      continue\n",
    "    else:\n",
    "      if text != '':\n",
    "        error('Line {}: missing blank line after metadata'.format(i))\n",
    "        fh.close()\n",
    "        return False\n",
    "      else:\n",
    "        break\n",
    "  result = readDataTf(fh, i)\n",
    "  fh.close()\n",
    "  return result"
   ]
  },
  {
   "cell_type": "code",
   "execution_count": 6,
   "metadata": {
    "ExecuteTime": {
     "end_time": "2018-07-19T08:41:35.762137Z",
     "start_time": "2018-07-19T08:41:35.752080Z"
    }
   },
   "outputs": [],
   "source": [
    "def readDataTf(fh, firstI):\n",
    "  i = firstI\n",
    "  implicit_node = 1\n",
    "  data = {}\n",
    "  normFields = 2\n",
    "  isNum = False\n",
    "  errors = 0\n",
    "  for line in fh:\n",
    "    i += 1\n",
    "    fields = line.rstrip('\\n').split('\\t')\n",
    "    lfields = len(fields)\n",
    "    if lfields > normFields:\n",
    "      error(f'{i}: wrongFields')\n",
    "      errors += 1\n",
    "      continue\n",
    "    if lfields == normFields:\n",
    "      nodes = setFromSpec(fields[0])\n",
    "      valTf = fields[-1]\n",
    "    else:\n",
    "      nodes = {implicit_node}\n",
    "      if lfields == 1:\n",
    "        valTf = fields[0]\n",
    "      else:\n",
    "        valTf = ''\n",
    "    implicit_node = max(nodes) + 1\n",
    "    value = (\n",
    "        int(valTf) if isNum and valTf != '' else None if isNum else ''\n",
    "        if valTf == '' else valueFromTf(valTf)\n",
    "    )\n",
    "    for n in nodes:\n",
    "      if value is not None:\n",
    "        data[n] = value\n",
    "  return not errors and data"
   ]
  },
  {
   "cell_type": "code",
   "execution_count": 8,
   "metadata": {
    "ExecuteTime": {
     "end_time": "2018-07-19T08:41:56.890131Z",
     "start_time": "2018-07-19T08:41:55.679806Z"
    }
   },
   "outputs": [
    {
     "name": "stdout",
     "output_type": "stream",
     "text": [
      "426584\n",
      "רֵאשִׁ֖ית\n"
     ]
    }
   ],
   "source": [
    "base = f'~/text-fabric-data/etcbc/bhsa/tf/c'\n",
    "feature = 'g_word_utf8'\n",
    "featurePath = f'{os.path.expanduser(base)}/{feature}.tf'\n",
    "result = readTf(featurePath)\n",
    "if result:\n",
    "    print(len(result))\n",
    "    print(result[2])\n",
    "else:\n",
    "    print('no results')"
   ]
  },
  {
   "cell_type": "markdown",
   "metadata": {},
   "source": [
    "Execution time: arond 1.2s"
   ]
  }
 ],
 "metadata": {
  "kernelspec": {
   "display_name": "Python 3",
   "language": "python",
   "name": "python3"
  },
  "language_info": {
   "codemirror_mode": {
    "name": "ipython",
    "version": 3
   },
   "file_extension": ".py",
   "mimetype": "text/x-python",
   "name": "python",
   "nbconvert_exporter": "python",
   "pygments_lexer": "ipython3",
   "version": "3.7.0"
  }
 },
 "nbformat": 4,
 "nbformat_minor": 2
}
