{
 "cells": [
  {
   "cell_type": "code",
   "execution_count": 3,
   "metadata": {},
   "outputs": [],
   "source": [
    "from timeit import timeit"
   ]
  },
  {
   "cell_type": "code",
   "execution_count": 9,
   "metadata": {},
   "outputs": [],
   "source": [
    "tmpList = []\n",
    "tmpDict = {}"
   ]
  },
  {
   "cell_type": "code",
   "execution_count": 11,
   "metadata": {},
   "outputs": [
    {
     "name": "stdout",
     "output_type": "stream",
     "text": [
      "0.0875243080000132\n"
     ]
    }
   ],
   "source": [
    "timeListAdd = timeit(\"\"\"\n",
    "for i in range(1000000):\n",
    "    tmpList.append(True)\n",
    "\"\"\", globals=locals(), number=1)\n",
    "print(timeListAdd)"
   ]
  },
  {
   "cell_type": "code",
   "execution_count": 13,
   "metadata": {},
   "outputs": [
    {
     "name": "stdout",
     "output_type": "stream",
     "text": [
      "0.13271183100005146\n"
     ]
    }
   ],
   "source": [
    "timeDictAdd = timeit(\"\"\"\n",
    "for i in range(1000000):\n",
    "    tmpDict[i]= True\n",
    "\"\"\", globals=locals(), number=1)\n",
    "print(timeDictAdd)"
   ]
  },
  {
   "cell_type": "code",
   "execution_count": 14,
   "metadata": {},
   "outputs": [],
   "source": [
    "key = 500000"
   ]
  },
  {
   "cell_type": "code",
   "execution_count": 15,
   "metadata": {},
   "outputs": [
    {
     "name": "stdout",
     "output_type": "stream",
     "text": [
      "0.05443728900002043\n"
     ]
    }
   ],
   "source": [
    "timeListAccess = timeit(\"tmpList[key]\", globals=locals(), number=1000000)\n",
    "print(timeListAccess)"
   ]
  },
  {
   "cell_type": "code",
   "execution_count": 16,
   "metadata": {},
   "outputs": [
    {
     "name": "stdout",
     "output_type": "stream",
     "text": [
      "0.07112917199992808\n"
     ]
    }
   ],
   "source": [
    "timeDictAccess = timeit(\"tmpDict[key]\", globals=locals(), number=1000000)\n",
    "print(timeDictAccess)"
   ]
  },
  {
   "cell_type": "code",
   "execution_count": null,
   "metadata": {},
   "outputs": [],
   "source": []
  }
 ],
 "metadata": {
  "kernelspec": {
   "display_name": "Python3.9",
   "language": "python",
   "name": "python3"
  },
  "language_info": {
   "codemirror_mode": {
    "name": "ipython",
    "version": 3
   },
   "file_extension": ".py",
   "mimetype": "text/x-python",
   "name": "python",
   "nbconvert_exporter": "python",
   "pygments_lexer": "ipython3",
   "version": "3.9.0"
  }
 },
 "nbformat": 4,
 "nbformat_minor": 4
}
