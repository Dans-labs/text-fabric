{
 "cells": [
  {
   "cell_type": "markdown",
   "metadata": {},
   "source": [
    "# Annotation outside TF\n",
    "\n",
    "Task: \n",
    "\n",
    "* prepare a text file based on TF data.\n",
    "* annotate the text file by assigning values to pieces of text\n",
    "* generate TF features based on these annotations"
   ]
  },
  {
   "cell_type": "code",
   "execution_count": 1,
   "metadata": {},
   "outputs": [],
   "source": [
    "%load_ext autoreload\n",
    "%autoreload 2"
   ]
  },
  {
   "cell_type": "code",
   "execution_count": 2,
   "metadata": {},
   "outputs": [],
   "source": [
    "from tf.app import use\n",
    "from tf.convert.recorder import Recorder"
   ]
  },
  {
   "cell_type": "code",
   "execution_count": 3,
   "metadata": {},
   "outputs": [
    {
     "data": {
      "text/html": [
       "<style>\n",
       "@font-face {\n",
       "  font-family: \"Ezra SIL\";\n",
       "  src:\n",
       "    local(\"SILEOT.ttf\"),\n",
       "    url(\"https://github.com/annotation/text-fabric/blob/master/tf/server/static/fonts/SILEOT.woff?raw=true\");\n",
       "}\n",
       ".features {\n",
       "    font-family: monospace;\n",
       "    font-size: medium;\n",
       "    font-weight: bold;\n",
       "    color: #0a6611;\n",
       "    display: flex;\n",
       "    flex-flow: column nowrap;\n",
       "    padding: 0.1em;\n",
       "    margin: 0.1em;\n",
       "    direction: ltr;\n",
       "}\n",
       ".features div,.features span {\n",
       "    padding: 0;\n",
       "    margin: -0.1rem 0;\n",
       "}\n",
       ".features .f {\n",
       "    font-family: sans-serif;\n",
       "    font-size: x-small;\n",
       "    font-weight: normal;\n",
       "    color: #5555bb;\n",
       "}\n",
       ".features .xft {\n",
       "  color: #000000;\n",
       "  background-color: #eeeeee;\n",
       "  font-size: medium;\n",
       "  margin: 0.1em 0em;\n",
       "}\n",
       ".features .xft .f {\n",
       "  color: #000000;\n",
       "  background-color: #eeeeee;\n",
       "  font-style: italic;\n",
       "  font-size: small;\n",
       "  font-weight: normal;\n",
       "}\n",
       ".ltr {\n",
       "    direction: ltr ! important;\n",
       "}\n",
       ".verse {\n",
       "    display: flex;\n",
       "    flex-flow: row wrap;\n",
       "    direction: rtl;\n",
       "}\n",
       ".vl {\n",
       "    display: flex;\n",
       "    flex-flow: column nowrap;\n",
       "    justify-content: flex-end;\n",
       "    align-items: flex-end;\n",
       "    direction: ltr;\n",
       "    width: 100%;\n",
       "}\n",
       ".outeritem {\n",
       "    display: flex;\n",
       "    flex-flow: row wrap;\n",
       "    direction: rtl;\n",
       "}\n",
       ".sentence,.clause,.phrase {\n",
       "    margin-top: -1.2em;\n",
       "    margin-left: 1em;\n",
       "    background: #ffffff none repeat scroll 0 0;\n",
       "    padding: 0 0.3em;\n",
       "    border-style: solid;\n",
       "    border-radius: 0.2em;\n",
       "    font-size: small;\n",
       "    display: block;\n",
       "    width: fit-content;\n",
       "    max-width: fit-content;\n",
       "    direction: ltr;\n",
       "}\n",
       ".atoms {\n",
       "    display: flex;\n",
       "    flex-flow: row wrap;\n",
       "    margin: 0.3em;\n",
       "    padding: 0.3em;\n",
       "    direction: rtl;\n",
       "    background-color: #ffffff;\n",
       "}\n",
       ".satom,.catom,.patom {\n",
       "    margin: 0.3em;\n",
       "    padding: 0.3em;\n",
       "    border-radius: 0.3em;\n",
       "    border-style: solid;\n",
       "    display: flex;\n",
       "    flex-flow: column nowrap;\n",
       "    direction: rtl;\n",
       "    background-color: #ffffff;\n",
       "}\n",
       ".sentence {\n",
       "    border-color: #aa3333;\n",
       "    border-width: 1px;\n",
       "}\n",
       ".clause {\n",
       "    border-color: #aaaa33;\n",
       "    border-width: 1px;\n",
       "}\n",
       ".phrase {\n",
       "    border-color: #33aaaa;\n",
       "    border-width: 1px;\n",
       "}\n",
       ".satom {\n",
       "    border-color: #aa3333;\n",
       "    border-width: 4px;\n",
       "}\n",
       ".catom {\n",
       "    border-color: #aaaa33;\n",
       "    border-width: 3px;\n",
       "}\n",
       ".patom {\n",
       "    border-color: #33aaaa;\n",
       "    border-width: 3px;\n",
       "}\n",
       ".word {\n",
       "    padding: 0.1em;\n",
       "    margin: 0.1em;\n",
       "    border-radius: 0.1em;\n",
       "    border: 1px solid #cccccc;\n",
       "    display: flex;\n",
       "    flex-flow: column nowrap;\n",
       "    direction: rtl;\n",
       "    background-color: #ffffff;\n",
       "}\n",
       ".lextp {\n",
       "    padding: 0.1em;\n",
       "    margin: 0.1em;\n",
       "    border-radius: 0.1em;\n",
       "    border: 2px solid #888888;\n",
       "    width: fit-content;\n",
       "    display: flex;\n",
       "    flex-flow: column nowrap;\n",
       "    direction: rtl;\n",
       "    background-color: #ffffff;\n",
       "}\n",
       ".occs {\n",
       "    font-size: x-small;\n",
       "}\n",
       ".satom.l,.catom.l,.patom.l {\n",
       "    border-left-style: dotted\n",
       "}\n",
       ".satom.r,.catom.r,.patom.r {\n",
       "    border-right-style: dotted\n",
       "}\n",
       ".satom.lno,.catom.lno,.patom.lno {\n",
       "    border-left-style: none\n",
       "}\n",
       ".satom.rno,.catom.rno,.patom.rno {\n",
       "    border-right-style: none\n",
       "}\n",
       ".tr,.tr a:visited,.tr a:link {\n",
       "    font-family: sans-serif;\n",
       "    font-size: large;\n",
       "    color: #000044;\n",
       "    direction: ltr;\n",
       "    text-decoration: none;\n",
       "}\n",
       ".trb,.trb a:visited,.trb a:link {\n",
       "    font-family: sans-serif;\n",
       "    font-size: normal;\n",
       "    direction: ltr;\n",
       "    text-decoration: none;\n",
       "}\n",
       ".prb,.prb a:visited,.prb a:link {\n",
       "    font-family: sans-serif;\n",
       "    font-size: large;\n",
       "    direction: ltr;\n",
       "    text-decoration: none;\n",
       "}\n",
       ".h,.h a:visited,.h a:link {\n",
       "    font-family: \"Ezra SIL\", \"SBL Hebrew\", sans-serif;\n",
       "    font-size: large;\n",
       "    color: #000044;\n",
       "    direction: rtl;\n",
       "    text-decoration: none;\n",
       "}\n",
       ".hb,.hb a:visited,.hb a:link {\n",
       "    font-family: \"Ezra SIL\", \"SBL Hebrew\", sans-serif;\n",
       "    font-size: large;\n",
       "    line-height: 2;\n",
       "    direction: rtl;\n",
       "    text-decoration: none;\n",
       "}\n",
       ".vn {\n",
       "  font-size: small !important;\n",
       "  padding-right: 1em;\n",
       "}\n",
       ".rela,.function,.typ {\n",
       "    font-family: monospace;\n",
       "    font-size: small;\n",
       "    color: #0000bb;\n",
       "}\n",
       ".pdp,.pdp a:visited,.pdp a:link {\n",
       "    font-family: monospace;\n",
       "    font-size: medium;\n",
       "    color: #0000bb;\n",
       "    text-decoration: none;\n",
       "}\n",
       ".voc_lex {\n",
       "    font-family: monospace;\n",
       "    font-size: medium;\n",
       "    color: #0000bb;\n",
       "}\n",
       ".vs {\n",
       "    font-family: monospace;\n",
       "    font-size: medium;\n",
       "    font-weight: bold;\n",
       "    color: #0000bb;\n",
       "}\n",
       ".vt {\n",
       "    font-family: monospace;\n",
       "    font-size: medium;\n",
       "    font-weight: bold;\n",
       "    color: #0000bb;\n",
       "}\n",
       ".gloss {\n",
       "    font-family: sans-serif;\n",
       "    font-size: small;\n",
       "    font-weight: normal;\n",
       "    color: #444444;\n",
       "}\n",
       ".vrs {\n",
       "    font-family: sans-serif;\n",
       "    font-size: small;\n",
       "    font-weight: bold;\n",
       "    color: #444444;\n",
       "}\n",
       ".nd {\n",
       "    font-family: monospace;\n",
       "    font-size: x-small;\n",
       "    color: #999999;\n",
       "}\n",
       ".hl {\n",
       "    background-color: #ffee66;\n",
       "}\n",
       "\n",
       "tr.tf, td.tf, th.tf {\n",
       "  text-align: left;\n",
       "}\n",
       "\n",
       "span.hldot {\n",
       "\tbackground-color: var(--hl-strong);\n",
       "\tborder: 0.2rem solid var(--hl-rim);\n",
       "\tborder-radius: 0.4rem;\n",
       "\t/*\n",
       "\tdisplay: inline-block;\n",
       "\twidth: 0.8rem;\n",
       "\theight: 0.8rem;\n",
       "\t*/\n",
       "}\n",
       "span.hl {\n",
       "\tbackground-color: var(--hl-strong);\n",
       "\tborder-width: 0;\n",
       "\tborder-radius: 0.1rem;\n",
       "\tborder-style: solid;\n",
       "}\n",
       "\n",
       "span.hlup {\n",
       "\tborder-color: var(--hl-dark);\n",
       "\tborder-width: 0.1rem;\n",
       "\tborder-style: solid;\n",
       "\tborder-radius: 0.2rem;\n",
       "  padding: 0.2rem;\n",
       "}\n",
       "\n",
       ":root {\n",
       "\t--hl-strong:        hsla( 60, 100%,  70%, 0.9  );\n",
       "\t--hl-rim:           hsla( 55, 100%,  60%, 0.9  );\n",
       "\t--hl-dark:          hsla( 55, 100%,  40%, 0.9  );\n",
       "}\n",
       "</style>"
      ],
      "text/plain": [
       "<IPython.core.display.HTML object>"
      ]
     },
     "metadata": {},
     "output_type": "display_data"
    }
   ],
   "source": [
    "A = use('bhsa', hoist=globals(), silent='deep')\n",
    "silentOff()"
   ]
  },
  {
   "cell_type": "markdown",
   "metadata": {},
   "source": [
    "We work with Genesis 1 (in fact, only the first 10 clauses)."
   ]
  },
  {
   "cell_type": "code",
   "execution_count": 4,
   "metadata": {},
   "outputs": [],
   "source": [
    "gen1 = T.nodeFromSection(('Genesis', 1))"
   ]
  },
  {
   "cell_type": "markdown",
   "metadata": {},
   "source": [
    "We prepare our portion of text for annotation outside TF.\n",
    "\n",
    "What needs to happen is, that we produce a text file and that we remember the postions of the relevant\n",
    "nodes in that text file."
   ]
  },
  {
   "cell_type": "markdown",
   "metadata": {},
   "source": [
    "The Recorder is a new thing in TF (in development) that lets you create a string from nodes,\n",
    "where the positions of the nodes in that string are remembered.\n",
    "You may add all kinds of material in between the texts of the nodes.\n",
    "And it is up to you how you represent the nodes."
   ]
  },
  {
   "cell_type": "markdown",
   "metadata": {},
   "source": [
    "We start a recorder."
   ]
  },
  {
   "cell_type": "code",
   "execution_count": 5,
   "metadata": {},
   "outputs": [],
   "source": [
    "rec = Recorder()"
   ]
  },
  {
   "cell_type": "markdown",
   "metadata": {},
   "source": [
    "We can add strings to the recorder, and we can tell nodes to start and to stop.\n",
    "\n",
    "We add clause atoms and phrase atoms to the recorder."
   ]
  },
  {
   "cell_type": "code",
   "execution_count": 6,
   "metadata": {},
   "outputs": [],
   "source": [
    "LIMIT = 10\n",
    "\n",
    "for (i, cla) in enumerate(L.d(gen1, otype='clause_atom')):\n",
    "  if i >= LIMIT: # only first ten clause atoms\n",
    "    break\n",
    "    \n",
    "  # we want a label in front of each clause atom\n",
    "  label = '{} {}:{}'.format(*T.sectionFromNode(cla))\n",
    "  rec.add(f'{label}@{i} ')\n",
    "\n",
    "  # we start a clause atom node:\n",
    "  #   until we end this node, all text that we add counts as material for this clause atom\n",
    "  rec.start(cla)\n",
    "  \n",
    "  for pa in L.d(cla, otype='phrase_atom'):\n",
    "    # we start a phrase node\n",
    "    #   until we end this node, all text that we add also counts as material for this phrase atom\n",
    "    rec.start(pa)\n",
    "    \n",
    "    # we add text, it belongs to the current clause atom and to the current phrase atom\n",
    "    rec.add(T.text(pa, fmt='text-trans-plain'))\n",
    "    \n",
    "    # we end the phrase atom\n",
    "    rec.end(pa)\n",
    "    \n",
    "  # we end the clause atom\n",
    "  rec.end(cla)\n",
    "  \n",
    "  # very clause atom on its own line\n",
    "  #  this return character does not belong to any node\n",
    "  rec.add('\\n')"
   ]
  },
  {
   "cell_type": "markdown",
   "metadata": {},
   "source": [
    "We can print the recorded text."
   ]
  },
  {
   "cell_type": "code",
   "execution_count": 7,
   "metadata": {},
   "outputs": [
    {
     "name": "stdout",
     "output_type": "stream",
     "text": [
      "Genesis 1:1@0 BR>CJT BR> >LHJM >T HCMJM W>T H>RY00 \n",
      "Genesis 1:2@1 WH>RY HJTH THW WBHW \n",
      "Genesis 1:2@2 WXCK <L&PNJ THWM \n",
      "Genesis 1:2@3 WRWX >LHJM MRXPT <L&PNJ HMJM00 \n",
      "Genesis 1:3@4 WJ>MR >LHJM \n",
      "Genesis 1:3@5 JHJ >WR \n",
      "Genesis 1:3@6 WJHJ&>WR00 \n",
      "Genesis 1:4@7 WJR> >LHJM >T&H>WR \n",
      "Genesis 1:4@8 KJ&VWB \n",
      "Genesis 1:4@9 WJBDL >LHJM BJN H>WR WBJN HXCK00 \n",
      "\n"
     ]
    }
   ],
   "source": [
    "print(rec.text())"
   ]
  },
  {
   "cell_type": "markdown",
   "metadata": {},
   "source": [
    "We can print the recorded node positions."
   ]
  },
  {
   "cell_type": "code",
   "execution_count": 8,
   "metadata": {},
   "outputs": [
    {
     "name": "stdout",
     "output_type": "stream",
     "text": [
      "pos 14: frozenset({515674, 904749})\n",
      "pos 15: frozenset({515674, 904749})\n",
      "pos 16: frozenset({515674, 904749})\n",
      "pos 17: frozenset({515674, 904749})\n",
      "pos 18: frozenset({515674, 904749})\n",
      "pos 19: frozenset({515674, 904749})\n",
      "pos 20: frozenset({515674, 904749})\n",
      "pos 21: frozenset({515674, 904750})\n",
      "pos 22: frozenset({515674, 904750})\n",
      "pos 23: frozenset({515674, 904750})\n",
      "pos 24: frozenset({515674, 904750})\n",
      "pos 25: frozenset({515674, 904751})\n",
      "pos 26: frozenset({515674, 904751})\n",
      "pos 27: frozenset({515674, 904751})\n",
      "pos 28: frozenset({515674, 904751})\n",
      "pos 29: frozenset({515674, 904751})\n",
      "pos 30: frozenset({515674, 904751})\n",
      "pos 31: frozenset({904752, 515674})\n",
      "pos 32: frozenset({904752, 515674})\n",
      "pos 33: frozenset({904752, 515674})\n",
      "pos 34: frozenset({904752, 515674})\n",
      "pos 35: frozenset({904752, 515674})\n",
      "pos 36: frozenset({904752, 515674})\n",
      "pos 37: frozenset({904752, 515674})\n",
      "pos 38: frozenset({904752, 515674})\n",
      "pos 39: frozenset({904752, 515674})\n",
      "pos 40: frozenset({904752, 515674})\n",
      "pos 41: frozenset({904752, 515674})\n",
      "pos 42: frozenset({904752, 515674})\n",
      "pos 43: frozenset({904752, 515674})\n",
      "pos 44: frozenset({904752, 515674})\n",
      "pos 45: frozenset({904752, 515674})\n",
      "pos 46: frozenset({904752, 515674})\n",
      "pos 47: frozenset({904752, 515674})\n",
      "pos 48: frozenset({904752, 515674})\n",
      "pos 49: frozenset({904752, 515674})\n",
      "pos 50: frozenset({904752, 515674})\n",
      "pos 66: frozenset({904753, 515675})\n",
      "pos 67: frozenset({904754, 515675})\n",
      "pos 68: frozenset({904754, 515675})\n",
      "pos 69: frozenset({904754, 515675})\n",
      "pos 70: frozenset({904754, 515675})\n",
      "pos 71: frozenset({904754, 515675})\n",
      "pos 72: frozenset({515675, 904755})\n",
      "pos 73: frozenset({515675, 904755})\n",
      "pos 74: frozenset({515675, 904755})\n",
      "pos 75: frozenset({515675, 904755})\n",
      "pos 76: frozenset({515675, 904755})\n",
      "pos 77: frozenset({515675, 904756})\n",
      "pos 78: frozenset({515675, 904756})\n",
      "pos 79: frozenset({515675, 904756})\n",
      "pos 80: frozenset({515675, 904756})\n",
      "pos 81: frozenset({515675, 904756})\n",
      "pos 82: frozenset({515675, 904756})\n",
      "pos 83: frozenset({515675, 904756})\n",
      "pos 84: frozenset({515675, 904756})\n",
      "pos 85: frozenset({515675, 904756})\n",
      "pos 101: frozenset({515676, 904757})\n",
      "pos 102: frozenset({515676, 904758})\n",
      "pos 103: frozenset({515676, 904758})\n",
      "pos 104: frozenset({515676, 904758})\n",
      "pos 105: frozenset({515676, 904758})\n",
      "pos 106: frozenset({515676, 904759})\n",
      "pos 107: frozenset({515676, 904759})\n",
      "pos 108: frozenset({515676, 904759})\n",
      "pos 109: frozenset({515676, 904759})\n",
      "pos 110: frozenset({515676, 904759})\n",
      "pos 111: frozenset({515676, 904759})\n",
      "pos 112: frozenset({515676, 904759})\n",
      "pos 113: frozenset({515676, 904759})\n",
      "pos 114: frozenset({515676, 904759})\n",
      "pos 115: frozenset({515676, 904759})\n",
      "pos 116: frozenset({515676, 904759})\n",
      "pos 117: frozenset({515676, 904759})\n",
      "pos 133: frozenset({904760, 515677})\n",
      "pos 134: frozenset({904761, 515677})\n",
      "pos 135: frozenset({904761, 515677})\n",
      "pos 136: frozenset({904761, 515677})\n",
      "pos 137: frozenset({904761, 515677})\n",
      "pos 138: frozenset({904761, 515677})\n",
      "pos 139: frozenset({904761, 515677})\n",
      "pos 140: frozenset({904761, 515677})\n",
      "pos 141: frozenset({904761, 515677})\n",
      "pos 142: frozenset({904761, 515677})\n",
      "pos 143: frozenset({904761, 515677})\n",
      "pos 144: frozenset({904762, 515677})\n",
      "pos 145: frozenset({904762, 515677})\n",
      "pos 146: frozenset({904762, 515677})\n",
      "pos 147: frozenset({904762, 515677})\n",
      "pos 148: frozenset({904762, 515677})\n",
      "pos 149: frozenset({904762, 515677})\n",
      "pos 150: frozenset({904763, 515677})\n",
      "pos 151: frozenset({904763, 515677})\n",
      "pos 152: frozenset({904763, 515677})\n",
      "pos 153: frozenset({904763, 515677})\n",
      "pos 154: frozenset({904763, 515677})\n",
      "pos 155: frozenset({904763, 515677})\n",
      "pos 156: frozenset({904763, 515677})\n",
      "pos 157: frozenset({904763, 515677})\n",
      "pos 158: frozenset({904763, 515677})\n",
      "pos 159: frozenset({904763, 515677})\n",
      "pos 160: frozenset({904763, 515677})\n",
      "pos 161: frozenset({904763, 515677})\n",
      "pos 162: frozenset({904763, 515677})\n",
      "pos 163: frozenset({904763, 515677})\n",
      "pos 179: frozenset({904764, 515678})\n",
      "pos 180: frozenset({904765, 515678})\n",
      "pos 181: frozenset({904765, 515678})\n",
      "pos 182: frozenset({904765, 515678})\n",
      "pos 183: frozenset({904765, 515678})\n",
      "pos 184: frozenset({904765, 515678})\n",
      "pos 185: frozenset({515678, 904766})\n",
      "pos 186: frozenset({515678, 904766})\n",
      "pos 187: frozenset({515678, 904766})\n",
      "pos 188: frozenset({515678, 904766})\n",
      "pos 189: frozenset({515678, 904766})\n",
      "pos 190: frozenset({515678, 904766})\n",
      "pos 206: frozenset({515679, 904767})\n",
      "pos 207: frozenset({515679, 904767})\n",
      "pos 208: frozenset({515679, 904767})\n",
      "pos 209: frozenset({515679, 904767})\n",
      "pos 210: frozenset({904768, 515679})\n",
      "pos 211: frozenset({904768, 515679})\n",
      "pos 212: frozenset({904768, 515679})\n",
      "pos 213: frozenset({904768, 515679})\n",
      "pos 229: frozenset({515680, 904769})\n",
      "pos 230: frozenset({515680, 904770})\n",
      "pos 231: frozenset({515680, 904770})\n",
      "pos 232: frozenset({515680, 904770})\n",
      "pos 233: frozenset({515680, 904770})\n",
      "pos 234: frozenset({515680, 904771})\n",
      "pos 235: frozenset({515680, 904771})\n",
      "pos 236: frozenset({515680, 904771})\n",
      "pos 237: frozenset({515680, 904771})\n",
      "pos 238: frozenset({515680, 904771})\n",
      "pos 239: frozenset({515680, 904771})\n",
      "pos 255: frozenset({515681, 904772})\n",
      "pos 256: frozenset({515681, 904773})\n",
      "pos 257: frozenset({515681, 904773})\n",
      "pos 258: frozenset({515681, 904773})\n",
      "pos 259: frozenset({515681, 904773})\n",
      "pos 260: frozenset({515681, 904774})\n",
      "pos 261: frozenset({515681, 904774})\n",
      "pos 262: frozenset({515681, 904774})\n",
      "pos 263: frozenset({515681, 904774})\n",
      "pos 264: frozenset({515681, 904774})\n",
      "pos 265: frozenset({515681, 904774})\n",
      "pos 266: frozenset({515681, 904775})\n",
      "pos 267: frozenset({515681, 904775})\n",
      "pos 268: frozenset({515681, 904775})\n",
      "pos 269: frozenset({515681, 904775})\n",
      "pos 270: frozenset({515681, 904775})\n",
      "pos 271: frozenset({515681, 904775})\n",
      "pos 272: frozenset({515681, 904775})\n",
      "pos 273: frozenset({515681, 904775})\n",
      "pos 289: frozenset({904776, 515682})\n",
      "pos 290: frozenset({904776, 515682})\n",
      "pos 291: frozenset({904776, 515682})\n",
      "pos 292: frozenset({904777, 515682})\n",
      "pos 293: frozenset({904777, 515682})\n",
      "pos 294: frozenset({904777, 515682})\n",
      "pos 295: frozenset({904777, 515682})\n",
      "pos 311: frozenset({904778, 515683})\n",
      "pos 312: frozenset({904779, 515683})\n",
      "pos 313: frozenset({904779, 515683})\n",
      "pos 314: frozenset({904779, 515683})\n",
      "pos 315: frozenset({904779, 515683})\n",
      "pos 316: frozenset({904779, 515683})\n",
      "pos 317: frozenset({515683, 904780})\n",
      "pos 318: frozenset({515683, 904780})\n",
      "pos 319: frozenset({515683, 904780})\n",
      "pos 320: frozenset({515683, 904780})\n",
      "pos 321: frozenset({515683, 904780})\n",
      "pos 322: frozenset({515683, 904780})\n",
      "pos 323: frozenset({515683, 904781})\n",
      "pos 324: frozenset({515683, 904781})\n",
      "pos 325: frozenset({515683, 904781})\n",
      "pos 326: frozenset({515683, 904781})\n",
      "pos 327: frozenset({515683, 904781})\n",
      "pos 328: frozenset({515683, 904781})\n",
      "pos 329: frozenset({515683, 904781})\n",
      "pos 330: frozenset({515683, 904781})\n",
      "pos 331: frozenset({515683, 904781})\n",
      "pos 332: frozenset({515683, 904781})\n",
      "pos 333: frozenset({515683, 904781})\n",
      "pos 334: frozenset({515683, 904781})\n",
      "pos 335: frozenset({515683, 904781})\n",
      "pos 336: frozenset({515683, 904781})\n",
      "pos 337: frozenset({515683, 904781})\n",
      "pos 338: frozenset({515683, 904781})\n",
      "pos 339: frozenset({515683, 904781})\n",
      "pos 340: frozenset({515683, 904781})\n",
      "pos 341: frozenset({515683, 904781})\n",
      "pos 342: frozenset({515683, 904781})\n",
      "pos 343: frozenset({515683, 904781})\n"
     ]
    }
   ],
   "source": [
    "print('\\n'.join(f'pos {i}: {p}' for (i, p) in enumerate(rec.positions()) if p))"
   ]
  },
  {
   "cell_type": "markdown",
   "metadata": {},
   "source": [
    "We can write the recorded text and the postions to two files:"
   ]
  },
  {
   "cell_type": "code",
   "execution_count": 9,
   "metadata": {},
   "outputs": [],
   "source": [
    "rec.write('gen1.txt')"
   ]
  },
  {
   "cell_type": "code",
   "execution_count": 10,
   "metadata": {},
   "outputs": [
    {
     "name": "stdout",
     "output_type": "stream",
     "text": [
      "Genesis 1:1@0 BR>CJT BR> >LHJM >T HCMJM W>T H>RY00 \n",
      "Genesis 1:2@1 WH>RY HJTH THW WBHW \n",
      "Genesis 1:2@2 WXCK <L&PNJ THWM \n",
      "Genesis 1:2@3 WRWX >LHJM MRXPT <L&PNJ HMJM00 \n",
      "Genesis 1:3@4 WJ>MR >LHJM \n",
      "Genesis 1:3@5 JHJ >WR \n",
      "Genesis 1:3@6 WJHJ&>WR00 \n",
      "Genesis 1:4@7 WJR> >LHJM >T&H>WR \n",
      "Genesis 1:4@8 KJ&VWB \n",
      "Genesis 1:4@9 WJBDL >LHJM BJN H>WR WBJN HXCK00 \n"
     ]
    }
   ],
   "source": [
    "!head -n 10 gen1.txt"
   ]
  },
  {
   "cell_type": "code",
   "execution_count": 11,
   "metadata": {},
   "outputs": [
    {
     "name": "stdout",
     "output_type": "stream",
     "text": [
      "\n",
      "\n",
      "\n",
      "\n",
      "\n",
      "\n",
      "\n",
      "\n",
      "\n",
      "\n",
      "\n",
      "\n",
      "\n",
      "\n",
      "515674\t904749\n",
      "515674\t904749\n",
      "515674\t904749\n",
      "515674\t904749\n",
      "515674\t904749\n",
      "515674\t904749\n",
      "515674\t904749\n",
      "515674\t904750\n",
      "515674\t904750\n",
      "515674\t904750\n",
      "515674\t904750\n",
      "515674\t904751\n",
      "515674\t904751\n",
      "515674\t904751\n",
      "515674\t904751\n",
      "515674\t904751\n"
     ]
    }
   ],
   "source": [
    "!head -n 30 gen1.txt.pos"
   ]
  },
  {
   "cell_type": "markdown",
   "metadata": {},
   "source": [
    "Now we produce a (fake) annotation file, based on the text.\n",
    "\n",
    "The file is tab delimited, the columns are:\n",
    "\n",
    "* start character position\n",
    "* end character position\n",
    "* feature1 value\n",
    "* feature2 value\n",
    "* etc"
   ]
  },
  {
   "cell_type": "markdown",
   "metadata": {},
   "source": [
    "We annotate as follows:\n",
    "\n",
    "* every word that starts with a `B` gets `bword=1`\n",
    "* every word that ends with a `T` gets `tword=1`\n",
    "\n",
    "Then we want every phrase with a b-word to get `bword=1` and likewise\n",
    "every clause with a b-word to get `bword=1`, \n",
    "and the same for `tword`."
   ]
  },
  {
   "cell_type": "code",
   "execution_count": 12,
   "metadata": {},
   "outputs": [],
   "source": [
    "def annotate(fileName):\n",
    "  annotations = {}\n",
    "\n",
    "  with open(fileName) as fh:\n",
    "    pos = 0\n",
    "    for line in fh:\n",
    "      words = line.split(' ')\n",
    "\n",
    "      for word in words[0:2]:\n",
    "        lWord = len(word)\n",
    "        pos += lWord + 1\n",
    "      for word in words[2:]:\n",
    "        word = word.rstrip('\\n')\n",
    "        lWord = len(word)\n",
    "        start = pos\n",
    "        end = pos + lWord - 1\n",
    "        pos += lWord + 1\n",
    "        if lWord:\n",
    "          if word[0] == 'B':\n",
    "            annotations.setdefault((start, end), {})['bword'] = 1\n",
    "          if word[-1] == 'T':\n",
    "            annotations.setdefault((start, end), {})['tword'] = 1\n",
    "\n",
    "  with open(f'{fileName}.ann', 'w') as fh:\n",
    "    fh.write('start\\tend\\tbword\\ttword\\n')\n",
    "    for ((start, end), features) in annotations.items():\n",
    "      row = '\\t'. join(str(a) for a in (start, end, features.get('bword', ''), features.get('tword', '')))\n",
    "      fh.write(f'{row}\\n')"
   ]
  },
  {
   "cell_type": "code",
   "execution_count": 13,
   "metadata": {},
   "outputs": [],
   "source": [
    "annotate('gen1.txt')"
   ]
  },
  {
   "cell_type": "markdown",
   "metadata": {},
   "source": [
    "Here is the annotation file."
   ]
  },
  {
   "cell_type": "code",
   "execution_count": 14,
   "metadata": {},
   "outputs": [
    {
     "name": "stdout",
     "output_type": "stream",
     "text": [
      "start\tend\tbword\ttword\n",
      "14\t19\t1\t1\n",
      "21\t23\t1\t\n",
      "31\t32\t\t1\n",
      "40\t42\t\t1\n",
      "144\t148\t\t1\n",
      "323\t325\t1\t\n"
     ]
    }
   ],
   "source": [
    "!cat gen1.txt.ann"
   ]
  },
  {
   "cell_type": "markdown",
   "metadata": {},
   "source": [
    "Now we want to feed back these annotations as TF features on phrase_atom and clause_atom nodes.\n",
    "\n",
    "Our recorder knows how to do that."
   ]
  },
  {
   "cell_type": "code",
   "execution_count": 15,
   "metadata": {},
   "outputs": [],
   "source": [
    "features = rec.makeFeatures('gen1.txt.ann')"
   ]
  },
  {
   "cell_type": "markdown",
   "metadata": {},
   "source": [
    "Let's see."
   ]
  },
  {
   "cell_type": "code",
   "execution_count": 16,
   "metadata": {},
   "outputs": [
    {
     "data": {
      "text/plain": [
       "{515674: '1', 904749: '1', 904750: '1', 515683: '1', 904781: '1'}"
      ]
     },
     "execution_count": 16,
     "metadata": {},
     "output_type": "execute_result"
    }
   ],
   "source": [
    "features['bword']"
   ]
  },
  {
   "cell_type": "code",
   "execution_count": 17,
   "metadata": {},
   "outputs": [
    {
     "data": {
      "text/plain": [
       "{515674: '1', 904749: '1', 904752: '1', 904762: '1', 515677: '1'}"
      ]
     },
     "execution_count": 17,
     "metadata": {},
     "output_type": "execute_result"
    }
   ],
   "source": [
    "features['tword']"
   ]
  },
  {
   "cell_type": "markdown",
   "metadata": {},
   "source": [
    "Let's check:"
   ]
  },
  {
   "cell_type": "code",
   "execution_count": 18,
   "metadata": {},
   "outputs": [
    {
     "name": "stdout",
     "output_type": "stream",
     "text": [
      "bword clause_atom 515674: BR>CJT BR> >LHJM >T HCMJM W>T H>RY00 \n",
      "bword phrase_atom 904749: BR>CJT \n",
      "bword phrase_atom 904750: BR> \n",
      "bword clause_atom 515683: WJBDL >LHJM BJN H>WR WBJN HXCK00 \n",
      "bword phrase_atom 904781: BJN H>WR WBJN HXCK00 \n",
      "tword clause_atom 515674: BR>CJT BR> >LHJM >T HCMJM W>T H>RY00 \n",
      "tword phrase_atom 904749: BR>CJT \n",
      "tword phrase_atom 904752: >T HCMJM W>T H>RY00 \n",
      "tword phrase_atom 904762: MRXPT \n",
      "tword clause_atom 515677: WRWX >LHJM MRXPT <L&PNJ HMJM00 \n"
     ]
    }
   ],
   "source": [
    "for feat in ('bword', 'tword'):\n",
    "  for n in features[feat]:\n",
    "    print(f'{feat} {F.otype.v(n)} {n}: {T.text(n, fmt=\"text-trans-plain\")}')"
   ]
  },
  {
   "cell_type": "markdown",
   "metadata": {},
   "source": [
    "What if we want to transform the annotations to word features instead to features on phrase and clause atoms?\n",
    "\n",
    "Then we should record the text differently.\n",
    "\n",
    "We only add slots to the mix."
   ]
  },
  {
   "cell_type": "code",
   "execution_count": 19,
   "metadata": {},
   "outputs": [],
   "source": [
    "rec = Recorder()\n",
    "LIMIT = 10\n",
    "\n",
    "for (i, cla) in enumerate(L.d(gen1, otype='clause_atom')):\n",
    "  if i >= LIMIT:\n",
    "    break\n",
    "  label = '{} {}:{}'.format(*T.sectionFromNode(cla))\n",
    "  rec.add(f'{label}@{i} ')\n",
    "\n",
    "  for w in L.d(cla, otype='word'):\n",
    "    rec.start(w)\n",
    "    rec.add(T.text(w, fmt='text-trans-plain'))\n",
    "    rec.end(w)\n",
    "  \n",
    "  rec.add('\\n')"
   ]
  },
  {
   "cell_type": "markdown",
   "metadata": {},
   "source": [
    "It gives the same text:"
   ]
  },
  {
   "cell_type": "code",
   "execution_count": 20,
   "metadata": {},
   "outputs": [
    {
     "name": "stdout",
     "output_type": "stream",
     "text": [
      "Genesis 1:1@0 BR>CJT BR> >LHJM >T HCMJM W>T H>RY00 \n",
      "Genesis 1:2@1 WH>RY HJTH THW WBHW \n",
      "Genesis 1:2@2 WXCK <L&PNJ THWM \n",
      "Genesis 1:2@3 WRWX >LHJM MRXPT <L&PNJ HMJM00 \n",
      "Genesis 1:3@4 WJ>MR >LHJM \n",
      "Genesis 1:3@5 JHJ >WR \n",
      "Genesis 1:3@6 WJHJ&>WR00 \n",
      "Genesis 1:4@7 WJR> >LHJM >T&H>WR \n",
      "Genesis 1:4@8 KJ&VWB \n",
      "Genesis 1:4@9 WJBDL >LHJM BJN H>WR WBJN HXCK00 \n",
      "\n"
     ]
    }
   ],
   "source": [
    "print(rec.text())"
   ]
  },
  {
   "cell_type": "markdown",
   "metadata": {},
   "source": [
    "but the node positions are different:"
   ]
  },
  {
   "cell_type": "code",
   "execution_count": 21,
   "metadata": {},
   "outputs": [
    {
     "name": "stdout",
     "output_type": "stream",
     "text": [
      "pos 14: frozenset({1})\n",
      "pos 15: frozenset({2})\n",
      "pos 16: frozenset({2})\n",
      "pos 17: frozenset({2})\n",
      "pos 18: frozenset({2})\n",
      "pos 19: frozenset({2})\n",
      "pos 20: frozenset({2})\n",
      "pos 21: frozenset({3})\n",
      "pos 22: frozenset({3})\n",
      "pos 23: frozenset({3})\n",
      "pos 24: frozenset({3})\n",
      "pos 25: frozenset({4})\n",
      "pos 26: frozenset({4})\n",
      "pos 27: frozenset({4})\n",
      "pos 28: frozenset({4})\n",
      "pos 29: frozenset({4})\n",
      "pos 30: frozenset({4})\n",
      "pos 31: frozenset({5})\n",
      "pos 32: frozenset({5})\n",
      "pos 33: frozenset({5})\n",
      "pos 34: frozenset({6})\n",
      "pos 35: frozenset({7})\n",
      "pos 36: frozenset({7})\n",
      "pos 37: frozenset({7})\n",
      "pos 38: frozenset({7})\n",
      "pos 39: frozenset({7})\n",
      "pos 40: frozenset({8})\n",
      "pos 41: frozenset({9})\n",
      "pos 42: frozenset({9})\n",
      "pos 43: frozenset({9})\n",
      "pos 44: frozenset({10})\n",
      "pos 45: frozenset({11})\n",
      "pos 46: frozenset({11})\n",
      "pos 47: frozenset({11})\n",
      "pos 48: frozenset({11})\n",
      "pos 49: frozenset({11})\n",
      "pos 50: frozenset({11})\n",
      "pos 66: frozenset({12})\n",
      "pos 67: frozenset({13})\n",
      "pos 68: frozenset({14})\n",
      "pos 69: frozenset({14})\n",
      "pos 70: frozenset({14})\n",
      "pos 71: frozenset({14})\n",
      "pos 72: frozenset({15})\n",
      "pos 73: frozenset({15})\n",
      "pos 74: frozenset({15})\n",
      "pos 75: frozenset({15})\n",
      "pos 76: frozenset({15})\n",
      "pos 77: frozenset({16})\n",
      "pos 78: frozenset({16})\n",
      "pos 79: frozenset({16})\n",
      "pos 80: frozenset({16})\n",
      "pos 81: frozenset({17})\n",
      "pos 82: frozenset({18})\n",
      "pos 83: frozenset({18})\n",
      "pos 84: frozenset({18})\n",
      "pos 85: frozenset({18})\n",
      "pos 101: frozenset({19})\n",
      "pos 102: frozenset({20})\n",
      "pos 103: frozenset({20})\n",
      "pos 104: frozenset({20})\n",
      "pos 105: frozenset({20})\n",
      "pos 106: frozenset({21})\n",
      "pos 107: frozenset({21})\n",
      "pos 108: frozenset({21})\n",
      "pos 109: frozenset({22})\n",
      "pos 110: frozenset({22})\n",
      "pos 111: frozenset({22})\n",
      "pos 112: frozenset({22})\n",
      "pos 113: frozenset({23})\n",
      "pos 114: frozenset({23})\n",
      "pos 115: frozenset({23})\n",
      "pos 116: frozenset({23})\n",
      "pos 117: frozenset({23})\n",
      "pos 133: frozenset({24})\n",
      "pos 134: frozenset({25})\n",
      "pos 135: frozenset({25})\n",
      "pos 136: frozenset({25})\n",
      "pos 137: frozenset({25})\n",
      "pos 138: frozenset({26})\n",
      "pos 139: frozenset({26})\n",
      "pos 140: frozenset({26})\n",
      "pos 141: frozenset({26})\n",
      "pos 142: frozenset({26})\n",
      "pos 143: frozenset({26})\n",
      "pos 144: frozenset({27})\n",
      "pos 145: frozenset({27})\n",
      "pos 146: frozenset({27})\n",
      "pos 147: frozenset({27})\n",
      "pos 148: frozenset({27})\n",
      "pos 149: frozenset({27})\n",
      "pos 150: frozenset({28})\n",
      "pos 151: frozenset({28})\n",
      "pos 152: frozenset({28})\n",
      "pos 153: frozenset({29})\n",
      "pos 154: frozenset({29})\n",
      "pos 155: frozenset({29})\n",
      "pos 156: frozenset({29})\n",
      "pos 157: frozenset({30})\n",
      "pos 158: frozenset({31})\n",
      "pos 159: frozenset({31})\n",
      "pos 160: frozenset({31})\n",
      "pos 161: frozenset({31})\n",
      "pos 162: frozenset({31})\n",
      "pos 163: frozenset({31})\n",
      "pos 179: frozenset({32})\n",
      "pos 180: frozenset({33})\n",
      "pos 181: frozenset({33})\n",
      "pos 182: frozenset({33})\n",
      "pos 183: frozenset({33})\n",
      "pos 184: frozenset({33})\n",
      "pos 185: frozenset({34})\n",
      "pos 186: frozenset({34})\n",
      "pos 187: frozenset({34})\n",
      "pos 188: frozenset({34})\n",
      "pos 189: frozenset({34})\n",
      "pos 190: frozenset({34})\n",
      "pos 206: frozenset({35})\n",
      "pos 207: frozenset({35})\n",
      "pos 208: frozenset({35})\n",
      "pos 209: frozenset({35})\n",
      "pos 210: frozenset({36})\n",
      "pos 211: frozenset({36})\n",
      "pos 212: frozenset({36})\n",
      "pos 213: frozenset({36})\n",
      "pos 229: frozenset({37})\n",
      "pos 230: frozenset({38})\n",
      "pos 231: frozenset({38})\n",
      "pos 232: frozenset({38})\n",
      "pos 233: frozenset({38})\n",
      "pos 234: frozenset({39})\n",
      "pos 235: frozenset({39})\n",
      "pos 236: frozenset({39})\n",
      "pos 237: frozenset({39})\n",
      "pos 238: frozenset({39})\n",
      "pos 239: frozenset({39})\n",
      "pos 255: frozenset({40})\n",
      "pos 256: frozenset({41})\n",
      "pos 257: frozenset({41})\n",
      "pos 258: frozenset({41})\n",
      "pos 259: frozenset({41})\n",
      "pos 260: frozenset({42})\n",
      "pos 261: frozenset({42})\n",
      "pos 262: frozenset({42})\n",
      "pos 263: frozenset({42})\n",
      "pos 264: frozenset({42})\n",
      "pos 265: frozenset({42})\n",
      "pos 266: frozenset({43})\n",
      "pos 267: frozenset({43})\n",
      "pos 268: frozenset({43})\n",
      "pos 269: frozenset({44})\n",
      "pos 270: frozenset({45})\n",
      "pos 271: frozenset({45})\n",
      "pos 272: frozenset({45})\n",
      "pos 273: frozenset({45})\n",
      "pos 289: frozenset({46})\n",
      "pos 290: frozenset({46})\n",
      "pos 291: frozenset({46})\n",
      "pos 292: frozenset({47})\n",
      "pos 293: frozenset({47})\n",
      "pos 294: frozenset({47})\n",
      "pos 295: frozenset({47})\n",
      "pos 311: frozenset({48})\n",
      "pos 312: frozenset({49})\n",
      "pos 313: frozenset({49})\n",
      "pos 314: frozenset({49})\n",
      "pos 315: frozenset({49})\n",
      "pos 316: frozenset({49})\n",
      "pos 317: frozenset({50})\n",
      "pos 318: frozenset({50})\n",
      "pos 319: frozenset({50})\n",
      "pos 320: frozenset({50})\n",
      "pos 321: frozenset({50})\n",
      "pos 322: frozenset({50})\n",
      "pos 323: frozenset({51})\n",
      "pos 324: frozenset({51})\n",
      "pos 325: frozenset({51})\n",
      "pos 326: frozenset({51})\n",
      "pos 327: frozenset({52})\n",
      "pos 328: frozenset({53})\n",
      "pos 329: frozenset({53})\n",
      "pos 330: frozenset({53})\n",
      "pos 331: frozenset({53})\n",
      "pos 332: frozenset({54})\n",
      "pos 333: frozenset({55})\n",
      "pos 334: frozenset({55})\n",
      "pos 335: frozenset({55})\n",
      "pos 336: frozenset({55})\n",
      "pos 337: frozenset({56})\n",
      "pos 338: frozenset({57})\n",
      "pos 339: frozenset({57})\n",
      "pos 340: frozenset({57})\n",
      "pos 341: frozenset({57})\n",
      "pos 342: frozenset({57})\n",
      "pos 343: frozenset({57})\n"
     ]
    }
   ],
   "source": [
    "print('\\n'.join(f'pos {i}: {p}' for (i, p) in enumerate(rec.positions()) if p))"
   ]
  },
  {
   "cell_type": "markdown",
   "metadata": {},
   "source": [
    "We have produced the same text,\n",
    "so we can use the earlier annotation file to create word features."
   ]
  },
  {
   "cell_type": "code",
   "execution_count": 22,
   "metadata": {},
   "outputs": [],
   "source": [
    "features = rec.makeFeatures('gen1.txt.ann')"
   ]
  },
  {
   "cell_type": "code",
   "execution_count": 23,
   "metadata": {},
   "outputs": [
    {
     "data": {
      "text/plain": [
       "{1: '1', 2: '1', 3: '1', 51: '1'}"
      ]
     },
     "execution_count": 23,
     "metadata": {},
     "output_type": "execute_result"
    }
   ],
   "source": [
    "features['bword']"
   ]
  },
  {
   "cell_type": "code",
   "execution_count": 24,
   "metadata": {},
   "outputs": [
    {
     "data": {
      "text/plain": [
       "{1: '1', 2: '1', 5: '1', 8: '1', 9: '1', 27: '1'}"
      ]
     },
     "execution_count": 24,
     "metadata": {},
     "output_type": "execute_result"
    }
   ],
   "source": [
    "features['tword']"
   ]
  },
  {
   "cell_type": "markdown",
   "metadata": {},
   "source": [
    "Let's check:"
   ]
  },
  {
   "cell_type": "code",
   "execution_count": 25,
   "metadata": {},
   "outputs": [
    {
     "name": "stdout",
     "output_type": "stream",
     "text": [
      "bword word 1: B\n",
      "bword word 2: R>CJT \n",
      "bword word 3: BR> \n",
      "bword word 51: BJN \n",
      "tword word 1: B\n",
      "tword word 2: R>CJT \n",
      "tword word 5: >T \n",
      "tword word 8: W\n",
      "tword word 9: >T \n",
      "tword word 27: MRXPT \n"
     ]
    }
   ],
   "source": [
    "for feat in ('bword', 'tword'):\n",
    "  for n in features[feat]:\n",
    "    print(f'{feat} {F.otype.v(n)} {n}: {T.text(n, fmt=\"text-trans-plain\")}')"
   ]
  },
  {
   "cell_type": "markdown",
   "metadata": {},
   "source": [
    "## Explanation:\n",
    "\n",
    "The annotator just looked at the string BR>CJT without knowing that it is two words."
   ]
  },
  {
   "cell_type": "code",
   "execution_count": 26,
   "metadata": {},
   "outputs": [
    {
     "name": "stdout",
     "output_type": "stream",
     "text": [
      "start\tend\tbword\ttword\n",
      "14\t19\t1\t1\n",
      "21\t23\t1\t\n",
      "31\t32\t\t1\n",
      "40\t42\t\t1\n",
      "144\t148\t\t1\n",
      "323\t325\t1\t\n"
     ]
    }
   ],
   "source": [
    "!cat gen1.txt.ann"
   ]
  },
  {
   "cell_type": "markdown",
   "metadata": {},
   "source": [
    "So it has annotated pos 14-19 as a bword and as a tword.\n",
    "\n",
    "But TF knows that 14-19 are slots 1 and 2, so when the annotations are applied,\n",
    "slots 1 and 2 are both set to b-words and t-words.\n",
    "\n",
    "We can remedy the situation by producing an other text to the annotator, one where \n",
    "slots are always separated by a space.\n",
    "\n",
    "Lets do that by always adding a space, so real words are separated by two spaces."
   ]
  },
  {
   "cell_type": "code",
   "execution_count": 27,
   "metadata": {},
   "outputs": [],
   "source": [
    "rec = Recorder()\n",
    "LIMIT = 10\n",
    "\n",
    "for (i, cla) in enumerate(L.d(gen1, otype='clause_atom')):\n",
    "  if i >= LIMIT:\n",
    "    break\n",
    "  label = '{} {}:{}'.format(*T.sectionFromNode(cla))\n",
    "  rec.add(f'{label}@{i} ')\n",
    "\n",
    "  for w in L.d(cla, otype='word'):\n",
    "    rec.start(w)\n",
    "    rec.add(T.text(w, fmt='text-trans-plain')+' ')\n",
    "    rec.end(w)\n",
    "  \n",
    "  rec.add('\\n')"
   ]
  },
  {
   "cell_type": "markdown",
   "metadata": {},
   "source": [
    "Here is the text"
   ]
  },
  {
   "cell_type": "code",
   "execution_count": 28,
   "metadata": {},
   "outputs": [
    {
     "name": "stdout",
     "output_type": "stream",
     "text": [
      "Genesis 1:1@0 B R>CJT  BR>  >LHJM  >T  H CMJM  W >T  H >RY00  \n",
      "Genesis 1:2@1 W H >RY  HJTH  THW  W BHW  \n",
      "Genesis 1:2@2 W XCK  <L& PNJ  THWM  \n",
      "Genesis 1:2@3 W RWX  >LHJM  MRXPT  <L& PNJ  H MJM00  \n",
      "Genesis 1:3@4 W J>MR  >LHJM  \n",
      "Genesis 1:3@5 JHJ  >WR  \n",
      "Genesis 1:3@6 W JHJ& >WR00  \n",
      "Genesis 1:4@7 W JR>  >LHJM  >T& H >WR  \n",
      "Genesis 1:4@8 KJ& VWB  \n",
      "Genesis 1:4@9 W JBDL  >LHJM  BJN  H >WR  W BJN  H XCK00  \n",
      "\n"
     ]
    }
   ],
   "source": [
    "print(rec.text())"
   ]
  },
  {
   "cell_type": "markdown",
   "metadata": {},
   "source": [
    "We write the text to file."
   ]
  },
  {
   "cell_type": "code",
   "execution_count": 29,
   "metadata": {},
   "outputs": [],
   "source": [
    "rec.write('gen1wx.txt')"
   ]
  },
  {
   "cell_type": "markdown",
   "metadata": {},
   "source": [
    "We run our annotator again, because we have a different text:"
   ]
  },
  {
   "cell_type": "code",
   "execution_count": 30,
   "metadata": {},
   "outputs": [],
   "source": [
    "annotate('gen1wx.txt')"
   ]
  },
  {
   "cell_type": "markdown",
   "metadata": {},
   "source": [
    "Here is the new annotation file."
   ]
  },
  {
   "cell_type": "code",
   "execution_count": 31,
   "metadata": {},
   "outputs": [
    {
     "name": "stdout",
     "output_type": "stream",
     "text": [
      "start\tend\tbword\ttword\n",
      "14\t14\t1\t\n",
      "16\t20\t\t1\n",
      "23\t25\t1\t\n",
      "35\t36\t\t1\n",
      "49\t50\t\t1\n",
      "99\t101\t1\t\n",
      "170\t174\t\t1\n",
      "373\t375\t1\t\n",
      "387\t389\t1\t\n"
     ]
    }
   ],
   "source": [
    "!cat gen1wx.txt.ann"
   ]
  },
  {
   "cell_type": "markdown",
   "metadata": {},
   "source": [
    "The features are no surprise:"
   ]
  },
  {
   "cell_type": "code",
   "execution_count": 32,
   "metadata": {},
   "outputs": [],
   "source": [
    "features = rec.makeFeatures('gen1wx.txt.ann')"
   ]
  },
  {
   "cell_type": "code",
   "execution_count": 33,
   "metadata": {},
   "outputs": [
    {
     "data": {
      "text/plain": [
       "{1: '1', 3: '1', 18: '1', 51: '1', 55: '1'}"
      ]
     },
     "execution_count": 33,
     "metadata": {},
     "output_type": "execute_result"
    }
   ],
   "source": [
    "features['bword']"
   ]
  },
  {
   "cell_type": "code",
   "execution_count": 34,
   "metadata": {},
   "outputs": [
    {
     "data": {
      "text/plain": [
       "{2: '1', 5: '1', 9: '1', 27: '1'}"
      ]
     },
     "execution_count": 34,
     "metadata": {},
     "output_type": "execute_result"
    }
   ],
   "source": [
    "features['tword']"
   ]
  },
  {
   "cell_type": "markdown",
   "metadata": {},
   "source": [
    "Let's check:"
   ]
  },
  {
   "cell_type": "code",
   "execution_count": 35,
   "metadata": {},
   "outputs": [
    {
     "name": "stdout",
     "output_type": "stream",
     "text": [
      "bword word 1: B\n",
      "bword word 3: BR> \n",
      "bword word 18: BHW \n",
      "bword word 51: BJN \n",
      "bword word 55: BJN \n",
      "tword word 2: R>CJT \n",
      "tword word 5: >T \n",
      "tword word 9: >T \n",
      "tword word 27: MRXPT \n"
     ]
    }
   ],
   "source": [
    "for feat in ('bword', 'tword'):\n",
    "  for n in features[feat]:\n",
    "    print(f'{feat} {F.otype.v(n)} {n}: {T.text(n, fmt=\"text-trans-plain\")}')"
   ]
  },
  {
   "cell_type": "code",
   "execution_count": null,
   "metadata": {},
   "outputs": [],
   "source": []
  }
 ],
 "metadata": {
  "kernelspec": {
   "display_name": "Python 3",
   "language": "python",
   "name": "python3"
  },
  "language_info": {
   "codemirror_mode": {
    "name": "ipython",
    "version": 3
   },
   "file_extension": ".py",
   "mimetype": "text/x-python",
   "name": "python",
   "nbconvert_exporter": "python",
   "pygments_lexer": "ipython3",
   "version": "3.7.2"
  }
 },
 "nbformat": 4,
 "nbformat_minor": 4
}
