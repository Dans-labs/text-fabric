{
 "cells": [
  {
   "cell_type": "markdown",
   "metadata": {},
   "source": [
    "# Memory of TF data\n",
    "\n",
    "Once TF features get loaded into memory, how much memory do they actually use?\n",
    "\n",
    "And can we reduce that footprint?\n",
    "\n",
    "In this notebook I am following this\n",
    "[Hands-On Exploration of Python Memory Usage](https://code.tutsplus.com/tutorials/understand-how-much-memory-your-python-objects-use--cms-25609)\n",
    "\n",
    "We take the\n",
    "[Dead Sea Scrolls](https://github.com/etcbc/dss) as our leading example."
   ]
  },
  {
   "cell_type": "code",
   "execution_count": 1,
   "metadata": {},
   "outputs": [],
   "source": [
    "from sys import getsizeof, stderr\n",
    "from itertools import chain\n",
    "from collections import deque\n",
    "from reprlib import repr\n",
    "from array import array\n",
    "from timeit import timeit"
   ]
  },
  {
   "cell_type": "code",
   "execution_count": 2,
   "metadata": {},
   "outputs": [],
   "source": [
    "from tf.app import use\n",
    "from tf.applib.helpers import dm"
   ]
  },
  {
   "cell_type": "code",
   "execution_count": 3,
   "metadata": {},
   "outputs": [
    {
     "name": "stdout",
     "output_type": "stream",
     "text": [
      "Using TF-app in /Users/dirk/github/annotation/app-dss/code:\n",
      "\trepo clone offline under ~/github (local github)\n",
      "Using data in /Users/dirk/github/etcbc/dss/tf/0.4:\n",
      "\trepo clone offline under ~/github (local github)\n",
      "Using data in /Users/dirk/github/etcbc/dss/parallels/tf/0.4:\n",
      "\trepo clone offline under ~/github (local github)\n"
     ]
    },
    {
     "data": {
      "text/html": [
       "<b>Documentation:</b> <a target=\"_blank\" href=\"https://github.com/etcbc/dss/blob/master/docs/\" title=\"provenance of Dead Sea Scrolls\">DSS</a> <a target=\"_blank\" href=\"https://annotation.github.io/text-fabric/Writing/Hebrew.html\" title=\"Hebrew characters and transcriptions\">Character table</a> <a target=\"_blank\" href=\"https://github.com/etcbc/dss/blob/master/docs//transcription.md\" title=\"DSS feature documentation\">Feature docs</a> <a target=\"_blank\" href=\"https://github.com/annotation/app-dss\" title=\"dss API documentation\">dss API</a> <a target=\"_blank\" href=\"https://annotation.github.io/text-fabric/Api/Fabric/\" title=\"text-fabric-api\">Text-Fabric API 7.7.3</a> <a target=\"_blank\" href=\"https://annotation.github.io/text-fabric/Use/Search/\" title=\"Search Templates Introduction and Reference\">Search Reference</a><details open><summary><b>Loaded features</b>:</summary>\n",
       "<p><b>Dead Sea Scrolls</b>: <a target=\"_blank\" href=\"https://github.com/etcbc/dss/blob/master/docs//transcription.md\" title=\"/Users/dirk/github/etcbc/dss/tf/0.4/after.tf\">after</a>  <a target=\"_blank\" href=\"https://github.com/etcbc/dss/blob/master/docs//transcription.md\" title=\"/Users/dirk/github/etcbc/dss/tf/0.4/alt.tf\">alt</a>  <a target=\"_blank\" href=\"https://github.com/etcbc/dss/blob/master/docs//transcription.md\" title=\"/Users/dirk/github/etcbc/dss/tf/0.4/biblical.tf\">biblical</a>  <a target=\"_blank\" href=\"https://github.com/etcbc/dss/blob/master/docs//transcription.md\" title=\"/Users/dirk/github/etcbc/dss/tf/0.4/book.tf\">book</a>  <a target=\"_blank\" href=\"https://github.com/etcbc/dss/blob/master/docs//transcription.md\" title=\"/Users/dirk/github/etcbc/dss/tf/0.4/chapter.tf\">chapter</a>  <a target=\"_blank\" href=\"https://github.com/etcbc/dss/blob/master/docs//transcription.md\" title=\"/Users/dirk/github/etcbc/dss/tf/0.4/cl.tf\">cl</a>  <a target=\"_blank\" href=\"https://github.com/etcbc/dss/blob/master/docs//transcription.md\" title=\"/Users/dirk/github/etcbc/dss/tf/0.4/cl2.tf\">cl2</a>  <a target=\"_blank\" href=\"https://github.com/etcbc/dss/blob/master/docs//transcription.md\" title=\"/Users/dirk/github/etcbc/dss/tf/0.4/cor.tf\">cor</a>  <a target=\"_blank\" href=\"https://github.com/etcbc/dss/blob/master/docs//transcription.md\" title=\"/Users/dirk/github/etcbc/dss/tf/0.4/fragment.tf\">fragment</a>  <a target=\"_blank\" href=\"https://github.com/etcbc/dss/blob/master/docs//transcription.md\" title=\"/Users/dirk/github/etcbc/dss/tf/0.4/full.tf\">full</a>  <a target=\"_blank\" href=\"https://github.com/etcbc/dss/blob/master/docs//transcription.md\" title=\"/Users/dirk/github/etcbc/dss/tf/0.4/fulle.tf\">fulle</a>  <a target=\"_blank\" href=\"https://github.com/etcbc/dss/blob/master/docs//transcription.md\" title=\"/Users/dirk/github/etcbc/dss/tf/0.4/fullo.tf\">fullo</a>  <a target=\"_blank\" href=\"https://github.com/etcbc/dss/blob/master/docs//transcription.md\" title=\"/Users/dirk/github/etcbc/dss/tf/0.4/glex.tf\">glex</a>  <a target=\"_blank\" href=\"https://github.com/etcbc/dss/blob/master/docs//transcription.md\" title=\"/Users/dirk/github/etcbc/dss/tf/0.4/glexe.tf\">glexe</a>  <a target=\"_blank\" href=\"https://github.com/etcbc/dss/blob/master/docs//transcription.md\" title=\"/Users/dirk/github/etcbc/dss/tf/0.4/glexo.tf\">glexo</a>  <a target=\"_blank\" href=\"https://github.com/etcbc/dss/blob/master/docs//transcription.md\" title=\"/Users/dirk/github/etcbc/dss/tf/0.4/glyph.tf\">glyph</a>  <a target=\"_blank\" href=\"https://github.com/etcbc/dss/blob/master/docs//transcription.md\" title=\"/Users/dirk/github/etcbc/dss/tf/0.4/glyphe.tf\">glyphe</a>  <a target=\"_blank\" href=\"https://github.com/etcbc/dss/blob/master/docs//transcription.md\" title=\"/Users/dirk/github/etcbc/dss/tf/0.4/glypho.tf\">glypho</a>  <a target=\"_blank\" href=\"https://github.com/etcbc/dss/blob/master/docs//transcription.md\" title=\"/Users/dirk/github/etcbc/dss/tf/0.4/gn.tf\">gn</a>  <a target=\"_blank\" href=\"https://github.com/etcbc/dss/blob/master/docs//transcription.md\" title=\"/Users/dirk/github/etcbc/dss/tf/0.4/gn2.tf\">gn2</a>  <a target=\"_blank\" href=\"https://github.com/etcbc/dss/blob/master/docs//transcription.md\" title=\"/Users/dirk/github/etcbc/dss/tf/0.4/gn3.tf\">gn3</a>  <a target=\"_blank\" href=\"https://github.com/etcbc/dss/blob/master/docs//transcription.md\" title=\"/Users/dirk/github/etcbc/dss/tf/0.4/halfverse.tf\">halfverse</a>  <a target=\"_blank\" href=\"https://github.com/etcbc/dss/blob/master/docs//transcription.md\" title=\"/Users/dirk/github/etcbc/dss/tf/0.4/intl.tf\">intl</a>  <a target=\"_blank\" href=\"https://github.com/etcbc/dss/blob/master/docs//transcription.md\" title=\"/Users/dirk/github/etcbc/dss/tf/0.4/lang.tf\">lang</a>  <a target=\"_blank\" href=\"https://github.com/etcbc/dss/blob/master/docs//transcription.md\" title=\"/Users/dirk/github/etcbc/dss/tf/0.4/lex.tf\">lex</a>  <a target=\"_blank\" href=\"https://github.com/etcbc/dss/blob/master/docs//transcription.md\" title=\"/Users/dirk/github/etcbc/dss/tf/0.4/lexe.tf\">lexe</a>  <a target=\"_blank\" href=\"https://github.com/etcbc/dss/blob/master/docs//transcription.md\" title=\"/Users/dirk/github/etcbc/dss/tf/0.4/lexo.tf\">lexo</a>  <a target=\"_blank\" href=\"https://github.com/etcbc/dss/blob/master/docs//transcription.md\" title=\"/Users/dirk/github/etcbc/dss/tf/0.4/line.tf\">line</a>  <a target=\"_blank\" href=\"https://github.com/etcbc/dss/blob/master/docs//transcription.md\" title=\"/Users/dirk/github/etcbc/dss/tf/0.4/md.tf\">md</a>  <a target=\"_blank\" href=\"https://github.com/etcbc/dss/blob/master/docs//transcription.md\" title=\"/Users/dirk/github/etcbc/dss/tf/0.4/merr.tf\">merr</a>  <a target=\"_blank\" href=\"https://github.com/etcbc/dss/blob/master/docs//transcription.md\" title=\"/Users/dirk/github/etcbc/dss/tf/0.4/morpho.tf\">morpho</a>  <a target=\"_blank\" href=\"https://github.com/etcbc/dss/blob/master/docs//transcription.md\" title=\"/Users/dirk/github/etcbc/dss/tf/0.4/nu.tf\">nu</a>  <a target=\"_blank\" href=\"https://github.com/etcbc/dss/blob/master/docs//transcription.md\" title=\"/Users/dirk/github/etcbc/dss/tf/0.4/nu2.tf\">nu2</a>  <a target=\"_blank\" href=\"https://github.com/etcbc/dss/blob/master/docs//transcription.md\" title=\"/Users/dirk/github/etcbc/dss/tf/0.4/nu3.tf\">nu3</a>  <a target=\"_blank\" href=\"https://github.com/etcbc/dss/blob/master/docs//transcription.md\" title=\"/Users/dirk/github/etcbc/dss/tf/0.4/otype.tf\">otype</a>  <a target=\"_blank\" href=\"https://github.com/etcbc/dss/blob/master/docs//transcription.md\" title=\"/Users/dirk/github/etcbc/dss/tf/0.4/ps.tf\">ps</a>  <a target=\"_blank\" href=\"https://github.com/etcbc/dss/blob/master/docs//transcription.md\" title=\"/Users/dirk/github/etcbc/dss/tf/0.4/ps2.tf\">ps2</a>  <a target=\"_blank\" href=\"https://github.com/etcbc/dss/blob/master/docs//transcription.md\" title=\"/Users/dirk/github/etcbc/dss/tf/0.4/ps3.tf\">ps3</a>  <a target=\"_blank\" href=\"https://github.com/etcbc/dss/blob/master/docs//transcription.md\" title=\"/Users/dirk/github/etcbc/dss/tf/0.4/punc.tf\">punc</a>  <a target=\"_blank\" href=\"https://github.com/etcbc/dss/blob/master/docs//transcription.md\" title=\"/Users/dirk/github/etcbc/dss/tf/0.4/punce.tf\">punce</a>  <a target=\"_blank\" href=\"https://github.com/etcbc/dss/blob/master/docs//transcription.md\" title=\"/Users/dirk/github/etcbc/dss/tf/0.4/punco.tf\">punco</a>  <a target=\"_blank\" href=\"https://github.com/etcbc/dss/blob/master/docs//transcription.md\" title=\"/Users/dirk/github/etcbc/dss/tf/0.4/rec.tf\">rec</a>  <a target=\"_blank\" href=\"https://github.com/etcbc/dss/blob/master/docs//transcription.md\" title=\"/Users/dirk/github/etcbc/dss/tf/0.4/rem.tf\">rem</a>  <a target=\"_blank\" href=\"https://github.com/etcbc/dss/blob/master/docs//transcription.md\" title=\"/Users/dirk/github/etcbc/dss/tf/0.4/script.tf\">script</a>  <a target=\"_blank\" href=\"https://github.com/etcbc/dss/blob/master/docs//transcription.md\" title=\"/Users/dirk/github/etcbc/dss/tf/0.4/scroll.tf\">scroll</a>  <a target=\"_blank\" href=\"https://github.com/etcbc/dss/blob/master/docs//transcription.md\" title=\"/Users/dirk/github/etcbc/dss/tf/0.4/sp.tf\">sp</a>  <a target=\"_blank\" href=\"https://github.com/etcbc/dss/blob/master/docs//transcription.md\" title=\"/Users/dirk/github/etcbc/dss/tf/0.4/srcLn.tf\">srcLn</a>  <a target=\"_blank\" href=\"https://github.com/etcbc/dss/blob/master/docs//transcription.md\" title=\"/Users/dirk/github/etcbc/dss/tf/0.4/st.tf\">st</a>  <a target=\"_blank\" href=\"https://github.com/etcbc/dss/blob/master/docs//transcription.md\" title=\"/Users/dirk/github/etcbc/dss/tf/0.4/type.tf\">type</a>  <a target=\"_blank\" href=\"https://github.com/etcbc/dss/blob/master/docs//transcription.md\" title=\"/Users/dirk/github/etcbc/dss/tf/0.4/unc.tf\">unc</a>  <a target=\"_blank\" href=\"https://github.com/etcbc/dss/blob/master/docs//transcription.md\" title=\"/Users/dirk/github/etcbc/dss/tf/0.4/vac.tf\">vac</a>  <a target=\"_blank\" href=\"https://github.com/etcbc/dss/blob/master/docs//transcription.md\" title=\"/Users/dirk/github/etcbc/dss/tf/0.4/verse.tf\">verse</a>  <a target=\"_blank\" href=\"https://github.com/etcbc/dss/blob/master/docs//transcription.md\" title=\"/Users/dirk/github/etcbc/dss/tf/0.4/vs.tf\">vs</a>  <a target=\"_blank\" href=\"https://github.com/etcbc/dss/blob/master/docs//transcription.md\" title=\"/Users/dirk/github/etcbc/dss/tf/0.4/vt.tf\">vt</a>  <b><i><a target=\"_blank\" href=\"https://github.com/etcbc/dss/blob/master/docs//transcription.md\" title=\"/Users/dirk/github/etcbc/dss/tf/0.4/occ.tf\">occ</a></i></b>  <b><i><a target=\"_blank\" href=\"https://github.com/etcbc/dss/blob/master/docs//transcription.md\" title=\"/Users/dirk/github/etcbc/dss/tf/0.4/oslots.tf\">oslots</a></i></b> </p><p><b>Parallel Passages</b>: <b><i><a target=\"_blank\" href=\"https://nbviewer.jupyter.org/github/etcbc/dss/blob/master/programs/parallels.ipynb\" title=\"/Users/dirk/github/etcbc/dss/parallels/tf/0.4/sim.tf\">sim</a></i></b> </p></details>"
      ],
      "text/plain": [
       "<IPython.core.display.HTML object>"
      ]
     },
     "metadata": {},
     "output_type": "display_data"
    },
    {
     "data": {
      "text/html": [
       "<style>\n",
       "@font-face {\n",
       "  font-family: \"Ezra SIL\";\n",
       "  src:\n",
       "    local(\"SILEOT.ttf\"),\n",
       "    url(\"https://github.com/annotation/text-fabric/blob/master/tf/server/static/fonts/SILEOT.woff?raw=true\");\n",
       "}\n",
       ".txtn,.txtn a:visited,.txtn a:link {\n",
       "    font-family: sans-serif;\n",
       "    font-size: normal;\n",
       "    text-decoration: none;\n",
       "    direction: ltr;\n",
       "}\n",
       ".txte,.txte a:visited,.txte a:link {\n",
       "    font-family: monospace;\n",
       "    font-size: normal;\n",
       "    text-decoration: none;\n",
       "    direction: ltr;\n",
       "}\n",
       ".txto,.txto a:visited,.txto a:link {\n",
       "    font-family: serif;\n",
       "    font-size: large;\n",
       "    text-decoration: none;\n",
       "    direction: ltr;\n",
       "}\n",
       ".txtu,.txtu a:visited,.txtu a:link {\n",
       "    font-family: \"Ezra SIL\", \"SBL Hebrew\", sans-serif;\n",
       "    font-size: x-large;\n",
       "    text-decoration: none;\n",
       "    direction: rtl;\n",
       "}\n",
       ".full,.glyph,.lex,.punc {\n",
       "    font-family: \"Ezra SIL\", \"SBL Hebrew\", sans-serif;\n",
       "}\n",
       ".lex {\n",
       "  color: mediumblue;\n",
       "}\n",
       ".features {\n",
       "    font-family: monospace;\n",
       "    font-size: medium;\n",
       "    font-weight: bold;\n",
       "    color: #0a6611;\n",
       "    display: flex;\n",
       "    flex-flow: column nowrap;\n",
       "    padding: 0.1em;\n",
       "    margin: 0.1em;\n",
       "    direction: ltr;\n",
       "}\n",
       ".features div,.features span {\n",
       "    padding: 0;\n",
       "    margin: -0.1rem 0;\n",
       "}\n",
       ".features .f {\n",
       "    font-family: sans-serif;\n",
       "    font-size: x-small;\n",
       "    font-weight: normal;\n",
       "    color: #5555bb;\n",
       "}\n",
       ".features .xft {\n",
       "  color: #000000;\n",
       "  background-color: #eeeeee;\n",
       "  font-size: medium;\n",
       "  margin: 0.1em 0em;\n",
       "}\n",
       ".features .xft .f {\n",
       "  color: #000000;\n",
       "  background-color: #eeeeee;\n",
       "  font-style: italic;\n",
       "  font-size: small;\n",
       "  font-weight: normal;\n",
       "}\n",
       ".ltr {\n",
       "    direction: ltr ! important;\n",
       "}\n",
       ".nd {\n",
       "    font-family: monospace;\n",
       "    font-size: x-small;\n",
       "    color: #999999;\n",
       "}\n",
       ".meta {\n",
       "    display: flex;\n",
       "    justify-content: flex-start;\n",
       "    align-items: flex-start;\n",
       "    align-content: flex-start;\n",
       "    flex-flow: row nowrap;\n",
       "}\n",
       ".features {\n",
       "    display: flex;\n",
       "    justify-content: flex-start;\n",
       "    align-items: flex-start;\n",
       "    align-content: flex-start;\n",
       "    flex-flow: column nowrap;\n",
       "}\n",
       ".children {\n",
       "    display: flex;\n",
       "    justify-content: flex-start;\n",
       "    align-items: flex-start;\n",
       "    align-content: flex-start;\n",
       "    border: 0;\n",
       "    background-color: #ffffff;\n",
       "}\n",
       ".children.scroll {\n",
       "    flex-flow: column nowrap;\n",
       "}\n",
       ".children.fragment {\n",
       "    flex-flow: column nowrap;\n",
       "}\n",
       ".children.line {\n",
       "    align-items: stretch;\n",
       "    flex-flow: row wrap;\n",
       "}\n",
       ".children.cluster {\n",
       "    flex-flow: row wrap;\n",
       "}\n",
       ".children.word {\n",
       "    align-items: stretch;\n",
       "    flex-flow: row nowrap;\n",
       "}\n",
       ".children.sign {\n",
       "    flex-flow: column nowrap;\n",
       "}\n",
       ".contnr {\n",
       "    width: fit-content;\n",
       "    direction: rtl;\n",
       "}\n",
       ".contnr.scroll,.contnr.fragment,\n",
       ".contnr.line,\n",
       ".contnr.cluster,\n",
       ".contnr.word,\n",
       ".contnr.sign {\n",
       "    display: flex;\n",
       "    justify-content: flex-start;\n",
       "    align-items: flex-start;\n",
       "    align-content: flex-start;\n",
       "    flex-flow: column nowrap;\n",
       "    background: #ffffff none repeat scroll 0 0;\n",
       "    padding:  0.5em 0.1em 0.1em 0.1em;\n",
       "    margin: 0.8em 0.1em 0.1em 0.1em;\n",
       "    border-radius: 0.2em;\n",
       "    border-style: solid;\n",
       "    border-width: 0.2em;\n",
       "    font-size: small;\n",
       "}\n",
       ".contnr.scroll,.contnr.fragment {\n",
       "    border-color: #bb8800;\n",
       "}\n",
       ".contnr.line {\n",
       "    border-color: #0088bb;\n",
       "}\n",
       ".contnr.cluster {\n",
       "    flex-flow: row wrap;\n",
       "    border: 0;\n",
       "}\n",
       ".contnr.word {\n",
       "    border-color: #44bbff;\n",
       "}\n",
       ".contnr.sign {\n",
       "    border-color: #bbbbbb;\n",
       "}\n",
       ".contnr.hl {\n",
       "    background-color: #ffee66;\n",
       "}\n",
       ".lbl.scroll,.lbl.fragment,\n",
       ".lbl.line,\n",
       ".lbl.cluster,\n",
       ".lbl.sign,.lbl.word {\n",
       "    margin-top: -1.2em;\n",
       "    margin-left: 1em;\n",
       "    background: #ffffff none repeat scroll 0 0;\n",
       "    padding: 0 0.3em;\n",
       "    border-style: solid;\n",
       "    font-size: small;\n",
       "    display: block;\n",
       "}\n",
       ".lbl.scroll,.lbl.fragment {\n",
       "    border-color: #bb8800;\n",
       "    border-width: 0.3em;\n",
       "    border-radius: 0.3em;\n",
       "    color: #bb8800;\n",
       "}\n",
       ".lbl.line {\n",
       "    border-color: #0088bb;\n",
       "    border-width: 0.3em;\n",
       "    border-radius: 0.3em;\n",
       "    color: #0088bb;\n",
       "}\n",
       ".lbl.cluster {\n",
       "    border-color: #dddddd;\n",
       "    border-width: 0.2em;\n",
       "    border-radius: 0.2em;\n",
       "    color: #0000cc;\n",
       "}\n",
       ".lbl.word {\n",
       "    border-color: #44bbff;\n",
       "    border-width: 0.2em;\n",
       "    border-radius: 0.2em;\n",
       "    font-size: medium;\n",
       "    color: #000000;\n",
       "}\n",
       ".lbl.sign {\n",
       "    border-color: #bbbbbb;\n",
       "    border-width: 0.1em;\n",
       "    border-radius: 0.1em;\n",
       "    font-size: small;\n",
       "    color: #000000;\n",
       "}\n",
       ".name {\n",
       "    font-family: monospace;\n",
       "    font-size: medium;\n",
       "    color: #0000bb;\n",
       "}\n",
       ".text {\n",
       "    font-family: sans-serif;\n",
       "    font-size: x-small;\n",
       "    color: #000000;\n",
       "}\n",
       ".srcln {\n",
       "    font-family: monospace;\n",
       "    font-size: x-small;\n",
       "    color: #0000bb;\n",
       "}\n",
       ".scriptpaleohebrew {\n",
       "    border: 1px dashed navy;\n",
       "}\n",
       ".scriptgreekcapital {\n",
       "    border: 1px dashed brown;\n",
       "}\n",
       ".langa {\n",
       "    text-decoration: underline;\n",
       "}\n",
       ".intl1 {\n",
       "    vertical-align: -0.25em;\n",
       "}\n",
       ".intl2 {\n",
       "    vertical-align: -0.5em;\n",
       "}\n",
       ".langg {\n",
       "    font-family: serif;\n",
       "    text-decoration: underline;\n",
       "}\n",
       ".vac1 {\n",
       "    background-color: #aaaaaa;\n",
       "    border 2pt solid #dd3333;\n",
       "    border-radius: 4pt;\n",
       "}\n",
       ".rem1 {\n",
       "    font-weight: bold;\n",
       "    color: red;\n",
       "    text-decoration: line-through;\n",
       "}\n",
       ".rem2 {\n",
       "    font-weight: bold;\n",
       "    color: maroon;\n",
       "    text-decoration: line-through;\n",
       "}\n",
       ".rec1 {\n",
       "    color: teal;\n",
       "    font-size: 80%;\n",
       "}\n",
       ".cor1 {\n",
       "    font-weight: bold;\n",
       "    color: dodgerblue;\n",
       "    text-decoration: overline;\n",
       "}\n",
       ".cor2 {\n",
       "    font-weight: bold;\n",
       "    color: navy;\n",
       "    text-decoration: overline;\n",
       "}\n",
       ".cor3 {\n",
       "    font-weight: bold;\n",
       "    color: navy;\n",
       "    text-decoration: overline;\n",
       "    vertical-align: super;\n",
       "}\n",
       ".alt1 {\n",
       "    text-decoration: overline;\n",
       "}\n",
       "\n",
       "/* UNSURE: italic*/\n",
       "\n",
       ".unc1 {\n",
       "    font-weight: bold;\n",
       "    color: #888888;\n",
       "}\n",
       ".unc2 {\n",
       "    font-weight: bold;\n",
       "    color: #bbbbbb;\n",
       "}\n",
       ".unc3 {\n",
       "    font-weight: bold;\n",
       "    color: #bbbbbb;\n",
       "    text-shadow: #cccccc 1px 1px;\n",
       "}\n",
       ".unc4 {\n",
       "    font-weight: bold;\n",
       "    color: #dddddd;\n",
       "    text-shadow: #eeeeee 2px 2px;\n",
       "}\n",
       "\n",
       "/* cluster */\n",
       ".empty {\n",
       "  color: #ff0000;\n",
       "}\n",
       "\n",
       "\n",
       "tr.tf, td.tf, th.tf {\n",
       "  text-align: left;\n",
       "}\n",
       "\n",
       "span.hldot {\n",
       "\tbackground-color: var(--hl-strong);\n",
       "\tborder: 0.2rem solid var(--hl-rim);\n",
       "\tborder-radius: 0.4rem;\n",
       "\t/*\n",
       "\tdisplay: inline-block;\n",
       "\twidth: 0.8rem;\n",
       "\theight: 0.8rem;\n",
       "\t*/\n",
       "}\n",
       "span.hl {\n",
       "\tbackground-color: var(--hl-strong);\n",
       "\tborder-width: 0;\n",
       "\tborder-radius: 0.1rem;\n",
       "\tborder-style: solid;\n",
       "}\n",
       "\n",
       "span.hlup {\n",
       "\tborder-color: var(--hl-dark);\n",
       "\tborder-width: 0.1rem;\n",
       "\tborder-style: solid;\n",
       "\tborder-radius: 0.2rem;\n",
       "  padding: 0.2rem;\n",
       "}\n",
       "\n",
       ":root {\n",
       "\t--hl-strong:        hsla( 60, 100%,  70%, 0.9  );\n",
       "\t--hl-rim:           hsla( 55, 100%,  60%, 0.9  );\n",
       "\t--hl-dark:          hsla( 55, 100%,  40%, 0.9  );\n",
       "}\n",
       "</style>"
      ],
      "text/plain": [
       "<IPython.core.display.HTML object>"
      ]
     },
     "metadata": {},
     "output_type": "display_data"
    },
    {
     "data": {
      "text/html": [
       "<details open><summary><b>API members</b>:</summary>\n",
       "<a target=\"_blank\" href=\"https://annotation.github.io/text-fabric/Api/Computed/#computed-data\" title=\"doc\">C Computed</a>, <a target=\"_blank\" href=\"https://annotation.github.io/text-fabric/Api/Computed/#computed-data\" title=\"doc\">Call AllComputeds</a>, <a target=\"_blank\" href=\"https://annotation.github.io/text-fabric/Api/Computed/#computed-data\" title=\"doc\">Cs ComputedString</a><br/>\n",
       "<a target=\"_blank\" href=\"https://annotation.github.io/text-fabric/Api/Features/#edge-features\" title=\"doc\">E Edge</a>, <a target=\"_blank\" href=\"https://annotation.github.io/text-fabric/Api/Features/#edge-features\" title=\"doc\">Eall AllEdges</a>, <a target=\"_blank\" href=\"https://annotation.github.io/text-fabric/Api/Features/#edge-features\" title=\"doc\">Es EdgeString</a><br/>\n",
       "<a target=\"_blank\" href=\"https://annotation.github.io/text-fabric/Api/Fabric/#loading\" title=\"doc\">ensureLoaded</a>, <a target=\"_blank\" href=\"https://annotation.github.io/text-fabric/Api/Fabric/#loading\" title=\"doc\">TF</a>, <a target=\"_blank\" href=\"https://annotation.github.io/text-fabric/Api/Fabric/#loading\" title=\"doc\">ignored</a>, <a target=\"_blank\" href=\"https://annotation.github.io/text-fabric/Api/Fabric/#loading\" title=\"doc\">loadLog</a><br/>\n",
       "<a target=\"_blank\" href=\"https://annotation.github.io/text-fabric/Api/Locality/#locality\" title=\"doc\">L Locality</a><br/>\n",
       "<a target=\"_blank\" href=\"https://annotation.github.io/text-fabric/Api/Misc/#messaging\" title=\"doc\">cache</a>, <a target=\"_blank\" href=\"https://annotation.github.io/text-fabric/Api/Misc/#messaging\" title=\"doc\">error</a>, <a target=\"_blank\" href=\"https://annotation.github.io/text-fabric/Api/Misc/#messaging\" title=\"doc\">indent</a>, <a target=\"_blank\" href=\"https://annotation.github.io/text-fabric/Api/Misc/#messaging\" title=\"doc\">info</a>, <a target=\"_blank\" href=\"https://annotation.github.io/text-fabric/Api/Misc/#messaging\" title=\"doc\">reset</a><br/>\n",
       "<a target=\"_blank\" href=\"https://annotation.github.io/text-fabric/Api/Nodes/#navigating-nodes\" title=\"doc\">N Nodes</a>, <a target=\"_blank\" href=\"https://annotation.github.io/text-fabric/Api/Nodes/#navigating-nodes\" title=\"doc\">sortKey</a>, <a target=\"_blank\" href=\"https://annotation.github.io/text-fabric/Api/Nodes/#navigating-nodes\" title=\"doc\">sortKeyTuple</a>, <a target=\"_blank\" href=\"https://annotation.github.io/text-fabric/Api/Nodes/#navigating-nodes\" title=\"doc\">otypeRank</a>, <a target=\"_blank\" href=\"https://annotation.github.io/text-fabric/Api/Nodes/#navigating-nodes\" title=\"doc\">sortNodes</a><br/>\n",
       "<a target=\"_blank\" href=\"https://annotation.github.io/text-fabric/Api/Features/#node-features\" title=\"doc\">F Feature</a>, <a target=\"_blank\" href=\"https://annotation.github.io/text-fabric/Api/Features/#node-features\" title=\"doc\">Fall AllFeatures</a>, <a target=\"_blank\" href=\"https://annotation.github.io/text-fabric/Api/Features/#node-features\" title=\"doc\">Fs FeatureString</a><br/>\n",
       "<a target=\"_blank\" href=\"https://annotation.github.io/text-fabric/Api/Search/#search\" title=\"doc\">S Search</a><br/>\n",
       "<a target=\"_blank\" href=\"https://annotation.github.io/text-fabric/Api/Text/#text\" title=\"doc\">T Text</a></details>"
      ],
      "text/plain": [
       "<IPython.core.display.HTML object>"
      ]
     },
     "metadata": {},
     "output_type": "display_data"
    }
   ],
   "source": [
    "A = use('dss:clone', checkout='clone', hoist=globals())"
   ]
  },
  {
   "cell_type": "code",
   "execution_count": 4,
   "metadata": {},
   "outputs": [],
   "source": [
    "def deepSize(o, handlers={}, verbose=False, seen=None):\n",
    "    \"\"\" Returns the approximate memory footprint an object and all of its contents.\n",
    "\n",
    "    Automatically finds the contents of the following builtin containers and\n",
    "    their subclasses:  tuple, list, deque, dict, set and frozenset.\n",
    "    To search other containers, add handlers to iterate over their contents:\n",
    "\n",
    "        handlers = {SomeContainerClass: iter,\n",
    "                    OtherContainerClass: OtherContainerClass.get_elements}\n",
    "\n",
    "    \"\"\"\n",
    "    dict_handler = lambda d: chain.from_iterable(d.items())\n",
    "    all_handlers = {tuple: iter,\n",
    "                    list: iter,\n",
    "                    deque: iter,\n",
    "                    dict: dict_handler,\n",
    "                    set: iter,\n",
    "                    frozenset: iter,\n",
    "                   }\n",
    "    all_handlers.update(handlers)     # user handlers take precedence\n",
    "    if seen is None:\n",
    "      seen = set()                      # track which object id's have already been seen\n",
    "    default_size = getsizeof(0)       # estimate sizeof object without __sizeof__\n",
    "\n",
    "    def sizeof(o):\n",
    "        if id(o) in seen:       # do not double count the same object\n",
    "            return 0\n",
    "        seen.add(id(o))\n",
    "        s = getsizeof(o, default_size)\n",
    "\n",
    "        if verbose:\n",
    "            print(s, type(o), repr(o), file=stderr)\n",
    "\n",
    "        for typ, handler in all_handlers.items():\n",
    "            if isinstance(o, typ):\n",
    "                s += sum(map(sizeof, handler(o)))\n",
    "                break\n",
    "        return s\n",
    "\n",
    "    return sizeof(o)\n",
    "\n",
    "\n",
    "##### Example call #####\n",
    "\n",
    "# if __name__ == '__main__':\n",
    "#    d = dict(a=1, b=2, c=3, d=[4,5,6,7], e='a string of chars')\n",
    "#    print(deepSize(d, verbose=True))"
   ]
  },
  {
   "cell_type": "code",
   "execution_count": 119,
   "metadata": {},
   "outputs": [],
   "source": [
    "def findStretches(sequence, threshold=1, amount=None):\n",
    "  if amount == 1:\n",
    "    return ((sequence[0], sequence[-1]),)\n",
    "  prevN = 1\n",
    "  gaps = []\n",
    "  for n in sequence:\n",
    "    gap = n - prevN\n",
    "    if gap > 1:\n",
    "      gaps.append((prevN, n))\n",
    "    prevN = n\n",
    "  nInGap = sum(e - b - 1 for (b, e) in gaps if b >= sequence[0] and e <= sequence[-1])\n",
    "  nTotal = sequence[-1] - sequence[0] + 1\n",
    "  print(f'gapped = {nInGap:>12,} of {nTotal:>12,}')\n",
    "  gaps = tuple((b, e) for (b, e) in gaps if e - b > threshold)\n",
    "  if len(gaps) == 0:\n",
    "    return ((sequence[0], sequence[-1]),)\n",
    "  if amount is not None and len(gaps) > amount:\n",
    "    gaps = sorted(\n",
    "      sorted(gaps, key=lambda x: (x[0] - x[1], x[0]))[0:amount],\n",
    "      key=lambda x: x[0],\n",
    "    )\n",
    "  stretches = []\n",
    "  if sequence[0] <= gaps[0][0]:\n",
    "    stretches.append((sequence[0], gaps[0][0]))\n",
    "  for (i, gap) in enumerate(gaps[0:-1]):\n",
    "    stretches.append((gap[1], gaps[i + 1][0]))\n",
    "  if sequence[-1] >= gaps[-1][1]:\n",
    "    stretches.append((gaps[-1][1], sequence[-1]))\n",
    "  return stretches"
   ]
  },
  {
   "cell_type": "code",
   "execution_count": 120,
   "metadata": {},
   "outputs": [
    {
     "data": {
      "text/plain": [
       "(1000, 1001, 1002, 1005, 1006, 1100, 1102, 1103, 1104, 1110, 1150, 1151)"
      ]
     },
     "execution_count": 120,
     "metadata": {},
     "output_type": "execute_result"
    }
   ],
   "source": [
    "x = (0, 1, 2, 5, 6, 100, 102, 103, 104, 110, 150, 151)\n",
    "x = tuple(1000 + n for n in x)\n",
    "x"
   ]
  },
  {
   "cell_type": "code",
   "execution_count": 121,
   "metadata": {},
   "outputs": [
    {
     "name": "stdout",
     "output_type": "stream",
     "text": [
      "gapped =          140 of          152\n"
     ]
    },
    {
     "data": {
      "text/plain": [
       "[(1000, 1002),\n",
       " (1005, 1006),\n",
       " (1100, 1100),\n",
       " (1102, 1104),\n",
       " (1110, 1110),\n",
       " (1150, 1151)]"
      ]
     },
     "execution_count": 121,
     "metadata": {},
     "output_type": "execute_result"
    }
   ],
   "source": [
    "findStretches(x)"
   ]
  },
  {
   "cell_type": "code",
   "execution_count": 122,
   "metadata": {},
   "outputs": [],
   "source": [
    "x = (\n",
    "  1,\n",
    "  2,\n",
    "  11,\n",
    "  12,\n",
    "  2001,\n",
    "  2002,\n",
    "  4001,\n",
    "  4002,\n",
    ")"
   ]
  },
  {
   "cell_type": "code",
   "execution_count": 123,
   "metadata": {},
   "outputs": [
    {
     "name": "stdout",
     "output_type": "stream",
     "text": [
      "gapped =        3,994 of        4,002\n"
     ]
    },
    {
     "data": {
      "text/plain": [
       "[(1, 2), (11, 12), (2001, 2002), (4001, 4002)]"
      ]
     },
     "execution_count": 123,
     "metadata": {},
     "output_type": "execute_result"
    }
   ],
   "source": [
    "findStretches(x)"
   ]
  },
  {
   "cell_type": "code",
   "execution_count": 124,
   "metadata": {},
   "outputs": [],
   "source": [
    "class ADictInt(object):\n",
    "  @classmethod\n",
    "  def sizeParts(cls):\n",
    "    def x(packed):\n",
    "      yield packed.pointers\n",
    "      yield packed.data\n",
    "    return x\n",
    "    \n",
    "  def __init__(self, dictInt, threshold=10000, amount=5):\n",
    "    pointers = array('I')\n",
    "    data = array('I')\n",
    "    data.append(0)\n",
    "    pointers.append(0)\n",
    "    pointer = 1\n",
    "    origKeys = sorted(dictInt)\n",
    "    firstKey = origKeys[0]\n",
    "    lastKey = origKeys[-1]\n",
    "    stretches = findStretches(origKeys, threshold=threshold, amount=amount)\n",
    "    offsets = []\n",
    "    valueIndex = {}\n",
    "    nKeys = 0\n",
    "    for (b, e) in stretches:\n",
    "      offset = b - len(pointers)\n",
    "      offsets.append((b, e, offset))\n",
    "      for n in range(b, e + 1):\n",
    "        val = dictInt.get(n, None)\n",
    "        if val is None:\n",
    "          pointers.append(0)\n",
    "        else:\n",
    "          nKeys += 1\n",
    "          thisPointer = valueIndex.get(val, None)\n",
    "          if thisPointer is None:\n",
    "            thisPointer = pointer\n",
    "            valueIndex[val] = pointer\n",
    "            pointer += 1\n",
    "            data.append(val)\n",
    "          pointers.append(thisPointer)\n",
    "    self.pointers = pointers\n",
    "    self.data = data\n",
    "    self.length = nKeys\n",
    "    self._length = len(pointers)\n",
    "    self.offsets = offsets\n",
    "  \n",
    "  def get(self, n):\n",
    "    pointers = self.pointers\n",
    "    data = self.data\n",
    "    offsets = self.offsets\n",
    "    for (b, e, offset) in offsets:\n",
    "      if b <= n <= e:\n",
    "        m = n - offset\n",
    "        pointer = pointers[m]\n",
    "        if pointer == 0:\n",
    "          return None\n",
    "        return data[pointer]\n",
    "    return None"
   ]
  },
  {
   "cell_type": "code",
   "execution_count": 250,
   "metadata": {},
   "outputs": [],
   "source": [
    "class ADictStr(object):\n",
    "  @classmethod\n",
    "  def sizeParts(cls):\n",
    "    def x(packed):\n",
    "      yield packed.pointers\n",
    "      yield packed.data\n",
    "    return x\n",
    "    \n",
    "  def __init__(self, dictStr, threshold=10000, amount=5):\n",
    "    pointers = array('I')\n",
    "    data = array('B')\n",
    "    data.append(0)\n",
    "    pointers.append(0)\n",
    "    pointer = 1\n",
    "    origKeys = sorted(dictStr)\n",
    "    firstKey = origKeys[0]\n",
    "    lastKey = origKeys[-1]\n",
    "    stretches = findStretches(origKeys, threshold=threshold, amount=amount)\n",
    "    offsets = []\n",
    "    valueIndex = {}\n",
    "    nKeys = 0\n",
    "    for (b, e) in stretches:\n",
    "      offset = b - len(pointers)\n",
    "      offsets.append((b, e, offset))\n",
    "      for n in range(b, e + 1):\n",
    "        val = dictStr.get(n, None)\n",
    "        if val is None:\n",
    "          pointers.append(0)\n",
    "        else:\n",
    "          nKeys += 1\n",
    "          thisPointer = valueIndex.get(val, None)\n",
    "          if thisPointer is None:\n",
    "            thisPointer = pointer\n",
    "            valueIndex[val] = pointer\n",
    "            bval = bytes(val, encoding ='utf8')\n",
    "            pointer += len(bval)\n",
    "            data.extend(bval)\n",
    "          pointers.append(thisPointer)\n",
    "    self.pointers = pointers\n",
    "    self.data = data\n",
    "    self.length = nKeys\n",
    "    self._length = len(pointers)\n",
    "    self.offsets = offsets\n",
    "    pointers.append(len(data))\n",
    "  \n",
    "  def get(self, n):\n",
    "    pointers = self.pointers\n",
    "    data = self.data\n",
    "    offsets = self.offsets\n",
    "    for (b, e, offset) in offsets:\n",
    "      if b <= n <= e:\n",
    "        m = n - offset\n",
    "        pointer = pointers[m]\n",
    "        if pointer == 0:\n",
    "          return None\n",
    "        return str(data[pointer:pointers[m + 1]], encoding='utf8')\n",
    "    return None"
   ]
  },
  {
   "cell_type": "code",
   "execution_count": 251,
   "metadata": {},
   "outputs": [],
   "source": [
    "class ATupStr(object):\n",
    "  @classmethod\n",
    "  def sizeParts(cls):\n",
    "    def x(packed):\n",
    "      yield packed.pointers\n",
    "      yield packed.data\n",
    "    return x\n",
    "    \n",
    "  def __init__(self, tupStr, threshold=10000, amount=5):\n",
    "    pointers = array('I')\n",
    "    data = array('B')\n",
    "    pointer = 0\n",
    "    valueIndex = {}\n",
    "    for val in tupStr:\n",
    "      if val is None:\n",
    "        pointers.append(0)\n",
    "      else:\n",
    "        thisPointer = valueIndex.get(val, None)\n",
    "        if thisPointer is None:\n",
    "          thisPointer = pointer\n",
    "          valueIndex[val] = pointer\n",
    "          pointer += len(val)\n",
    "          data.extend(ord(c) for c in val)\n",
    "        pointers.append(thisPointer)\n",
    "    self.pointers = pointers\n",
    "    self.data = data\n",
    "    self.length = len(pointers)\n",
    "    self._length = len(pointers)\n",
    "    pointers.append(len(data))\n",
    "  \n",
    "  def get(self, n):\n",
    "    pointers = self.pointers\n",
    "    data = self.data\n",
    "    pointer = pointers[n]\n",
    "    return ''.join(chr(c) for c in data[pointer:pointers[n + 1]])\n",
    "    return None"
   ]
  },
  {
   "cell_type": "markdown",
   "metadata": {},
   "source": [
    "Analysis:\n",
    "\n",
    "how many gaps\n",
    "how many non gaps\n",
    "\n",
    "what is the average gain per non gap: 90 for str, 45 for int\n",
    "\n",
    "the loss per gap is 4 bytes\n",
    "\n",
    "for string values:\n",
    "packed strings take 4 bytes per char\n"
   ]
  },
  {
   "cell_type": "code",
   "execution_count": null,
   "metadata": {},
   "outputs": [],
   "source": []
  },
  {
   "cell_type": "code",
   "execution_count": 252,
   "metadata": {},
   "outputs": [],
   "source": [
    "def sizeParts(packed):\n",
    "    yield packed.pointers\n",
    "    yield packed.data\n",
    "    \n",
    "handlers = {\n",
    "  ADictInt: sizeParts,\n",
    "  ADictStr: sizeParts,\n",
    "  ATupStr: sizeParts,\n",
    "}"
   ]
  },
  {
   "cell_type": "code",
   "execution_count": 253,
   "metadata": {},
   "outputs": [
    {
     "name": "stdout",
     "output_type": "stream",
     "text": [
      "gapped =            0 of            1\n",
      "gapped =            0 of            1\n",
      "gapped =            0 of            2\n",
      "gapped =            0 of            2\n",
      "int\n",
      "28 0\n",
      "str\n",
      "28 0\n"
     ]
    }
   ],
   "source": [
    "odi1 = {1: 1}\n",
    "ods1 = {1: ''}\n",
    "pdi1 = ADictInt(odi1)\n",
    "pds1 = ADictStr(ods1)\n",
    "dpodi1 = deepSize(odi1)\n",
    "dpods1 = deepSize(ods1)\n",
    "dppdi1 = deepSize(pdi1, handlers=handlers)\n",
    "dppds1 = deepSize(pds1, handlers=handlers)\n",
    "odi2 = {1: 1, 2: 2}\n",
    "ods2 = {1: '', 2: ''}\n",
    "pdi2 = ADictInt(odi2)\n",
    "pds2 = ADictStr(ods2)\n",
    "dpodi2 = deepSize(odi2)\n",
    "dpods2 = deepSize(ods2)\n",
    "dppdi2 = deepSize(pdi2, handlers=handlers)\n",
    "dppds2 = deepSize(pds2, handlers=handlers)\n",
    "print('int')\n",
    "print(f'{dpodi2-dpodi1} {dppdi2-dppdi1}')\n",
    "print('str')\n",
    "print(f'{dpods2-dpods1} {dppds2-dppds1}')"
   ]
  },
  {
   "cell_type": "code",
   "execution_count": 224,
   "metadata": {},
   "outputs": [
    {
     "data": {
      "text/plain": [
       "216"
      ]
     },
     "execution_count": 224,
     "metadata": {},
     "output_type": "execute_result"
    }
   ],
   "source": [
    "dppdi1"
   ]
  },
  {
   "cell_type": "code",
   "execution_count": 225,
   "metadata": {},
   "outputs": [
    {
     "data": {
      "text/plain": [
       "216"
      ]
     },
     "execution_count": 225,
     "metadata": {},
     "output_type": "execute_result"
    }
   ],
   "source": [
    "dppdi2"
   ]
  },
  {
   "cell_type": "code",
   "execution_count": 226,
   "metadata": {},
   "outputs": [
    {
     "data": {
      "text/plain": [
       "array('I', [0, 1])"
      ]
     },
     "execution_count": 226,
     "metadata": {},
     "output_type": "execute_result"
    }
   ],
   "source": [
    "pdi1.pointers"
   ]
  },
  {
   "cell_type": "code",
   "execution_count": 227,
   "metadata": {},
   "outputs": [
    {
     "data": {
      "text/plain": [
       "array('I', [0, 1])"
      ]
     },
     "execution_count": 227,
     "metadata": {},
     "output_type": "execute_result"
    }
   ],
   "source": [
    "pdi1.data"
   ]
  },
  {
   "cell_type": "code",
   "execution_count": 228,
   "metadata": {},
   "outputs": [
    {
     "data": {
      "text/plain": [
       "array('I', [0, 1, 2])"
      ]
     },
     "execution_count": 228,
     "metadata": {},
     "output_type": "execute_result"
    }
   ],
   "source": [
    "pdi2.pointers"
   ]
  },
  {
   "cell_type": "code",
   "execution_count": 229,
   "metadata": {},
   "outputs": [
    {
     "data": {
      "text/plain": [
       "array('I', [0, 1, 2])"
      ]
     },
     "execution_count": 229,
     "metadata": {},
     "output_type": "execute_result"
    }
   ],
   "source": [
    "pdi2.data"
   ]
  },
  {
   "cell_type": "code",
   "execution_count": 230,
   "metadata": {},
   "outputs": [
    {
     "data": {
      "text/plain": [
       "216"
      ]
     },
     "execution_count": 230,
     "metadata": {},
     "output_type": "execute_result"
    }
   ],
   "source": [
    "deepSize(pdi1, handlers=handlers)"
   ]
  },
  {
   "cell_type": "code",
   "execution_count": 231,
   "metadata": {},
   "outputs": [
    {
     "data": {
      "text/plain": [
       "56"
      ]
     },
     "execution_count": 231,
     "metadata": {},
     "output_type": "execute_result"
    }
   ],
   "source": [
    "deepSize(pdi2)"
   ]
  },
  {
   "cell_type": "code",
   "execution_count": 232,
   "metadata": {},
   "outputs": [],
   "source": [
    "cn = chr(0x12000)"
   ]
  },
  {
   "cell_type": "code",
   "execution_count": 233,
   "metadata": {},
   "outputs": [
    {
     "data": {
      "text/plain": [
       "'𒀀'"
      ]
     },
     "execution_count": 233,
     "metadata": {},
     "output_type": "execute_result"
    }
   ],
   "source": [
    "cn"
   ]
  },
  {
   "cell_type": "code",
   "execution_count": 243,
   "metadata": {},
   "outputs": [],
   "source": [
    "x = cn + 'è' + 'd'"
   ]
  },
  {
   "cell_type": "code",
   "execution_count": 244,
   "metadata": {},
   "outputs": [],
   "source": [
    "b = bytes(x, encoding='utf8')"
   ]
  },
  {
   "cell_type": "code",
   "execution_count": 248,
   "metadata": {},
   "outputs": [],
   "source": [
    "c = str(b, encoding='utf8')"
   ]
  },
  {
   "cell_type": "code",
   "execution_count": 249,
   "metadata": {},
   "outputs": [
    {
     "data": {
      "text/plain": [
       "'𒀀èd'"
      ]
     },
     "execution_count": 249,
     "metadata": {},
     "output_type": "execute_result"
    }
   ],
   "source": [
    "c"
   ]
  },
  {
   "cell_type": "code",
   "execution_count": 246,
   "metadata": {},
   "outputs": [
    {
     "data": {
      "text/plain": [
       "7"
      ]
     },
     "execution_count": 246,
     "metadata": {},
     "output_type": "execute_result"
    }
   ],
   "source": [
    "len(b)"
   ]
  },
  {
   "cell_type": "code",
   "execution_count": 257,
   "metadata": {},
   "outputs": [
    {
     "name": "stdout",
     "output_type": "stream",
     "text": [
      "gapped =            0 of        1,000\n"
     ]
    }
   ],
   "source": [
    "od = {i:cn+str(i)+'a'*1000 for i in range(1000)}\n",
    "pd = ADictStr(od)"
   ]
  },
  {
   "cell_type": "code",
   "execution_count": 258,
   "metadata": {},
   "outputs": [
    {
     "data": {
      "text/plain": [
       "4156524"
      ]
     },
     "execution_count": 258,
     "metadata": {},
     "output_type": "execute_result"
    }
   ],
   "source": [
    "deepSize(od)"
   ]
  },
  {
   "cell_type": "code",
   "execution_count": 259,
   "metadata": {},
   "outputs": [
    {
     "data": {
      "text/plain": [
       "1027271"
      ]
     },
     "execution_count": 259,
     "metadata": {},
     "output_type": "execute_result"
    }
   ],
   "source": [
    "deepSize(pd, handlers=handlers)"
   ]
  },
  {
   "cell_type": "code",
   "execution_count": 260,
   "metadata": {},
   "outputs": [
    {
     "data": {
      "text/plain": [
       "'𒀀500aaaaaaaaaaaaaaaaaaaaaaaaaaaaaaaaaaaaaaaaaaaaaaaaaaaaaaaaaaaaaaaaaaaaaaaaaaaaaaaaaaaaaaaaaaaaaaaaaaaaaaaaaaaaaaaaaaaaaaaaaaaaaaaaaaaaaaaaaaaaaaaaaaaaaaaaaaaaaaaaaaaaaaaaaaaaaaaaaaaaaaaaaaaaaaaaaaaaaaaaaaaaaaaaaaaaaaaaaaaaaaaaaaaaaaaaaaaaaaaaaaaaaaaaaaaaaaaaaaaaaaaaaaaaaaaaaaaaaaaaaaaaaaaaaaaaaaaaaaaaaaaaaaaaaaaaaaaaaaaaaaaaaaaaaaaaaaaaaaaaaaaaaaaaaaaaaaaaaaaaaaaaaaaaaaaaaaaaaaaaaaaaaaaaaaaaaaaaaaaaaaaaaaaaaaaaaaaaaaaaaaaaaaaaaaaaaaaaaaaaaaaaaaaaaaaaaaaaaaaaaaaaaaaaaaaaaaaaaaaaaaaaaaaaaaaaaaaaaaaaaaaaaaaaaaaaaaaaaaaaaaaaaaaaaaaaaaaaaaaaaaaaaaaaaaaaaaaaaaaaaaaaaaaaaaaaaaaaaaaaaaaaaaaaaaaaaaaaaaaaaaaaaaaaaaaaaaaaaaaaaaaaaaaaaaaaaaaaaaaaaaaaaaaaaaaaaaaaaaaaaaaaaaaaaaaaaaaaaaaaaaaaaaaaaaaaaaaaaaaaaaaaaaaaaaaaaaaaaaaaaaaaaaaaaaaaaaaaaaaaaaaaaaaaaaaaaaaaaaaaaaaaaaaaaaaaaaaaaaaaaaaaaaaaaaaaaaaaaaaaaaaaaaaaaaaaaaaaaaaaaaaaaaaaaaaaaaaaaaaaaaaaaaaaaaaaaaaaaaaaaaaaaaaaaaaaaaaaaaaaaaaaaaaaaaaaaaaaaaaaaaaaaaaaaaaaaaaaaaaaaaaaaaaaaaaaaaaaaaaaaaaaaaaaaaaaaaaaaaaaaaaaaaaaaaaaaaaaaaaaaaaaaaaaaaaaaaaaaaaa'"
      ]
     },
     "execution_count": 260,
     "metadata": {},
     "output_type": "execute_result"
    }
   ],
   "source": [
    "pd.get(500)"
   ]
  },
  {
   "cell_type": "code",
   "execution_count": 127,
   "metadata": {},
   "outputs": [],
   "source": [
    "maxNode = 4500\n",
    "orig = dict((\n",
    "  (1, 1),\n",
    "  (2, 2),\n",
    "  (11, 11),\n",
    "  (12, 12),\n",
    "  (2001, 2001),\n",
    "  (2002, 2002),\n",
    "  (4001, 4001),\n",
    "  (4002, 4002),\n",
    "))"
   ]
  },
  {
   "cell_type": "code",
   "execution_count": 128,
   "metadata": {},
   "outputs": [
    {
     "name": "stdout",
     "output_type": "stream",
     "text": [
      "gapped =        3,994 of        4,002\n"
     ]
    }
   ],
   "source": [
    "packed = ADictInt(orig)"
   ]
  },
  {
   "cell_type": "code",
   "execution_count": 145,
   "metadata": {},
   "outputs": [
    {
     "name": "stdout",
     "output_type": "stream",
     "text": [
      "<class 'tuple'>      677,617      677,617\n",
      "   5,421,310    2,844,186\n"
     ]
    }
   ],
   "source": [
    "maxNode = F.otype.maxNode\n",
    "orig = TF.features['otype'].data[0:-3]\n",
    "packed = ATupStr(orig)\n",
    "print(f'{type(orig)} {len(orig):>12,} {packed.length:>12,}')\n",
    "print(f'{deepSize(orig):>12,} {deepSize(packed, handlers=handlers):>12,}')"
   ]
  },
  {
   "cell_type": "code",
   "execution_count": 136,
   "metadata": {},
   "outputs": [
    {
     "name": "stdout",
     "output_type": "stream",
     "text": [
      "gapped =      471,054 of      500,981\n",
      "      29,927       29,927\n",
      "   4,423,260    2,100,364\n",
      "148 70\n"
     ]
    }
   ],
   "source": [
    "orig = TF.features['punc'].data\n",
    "packed = ADictStr(orig, threshold=10000, amount=5)\n",
    "lOrig = len(orig)\n",
    "lPacked = packed.length\n",
    "dsOrig = deepSize(orig)\n",
    "dsPacked = deepSize(packed, handlers=handlers)\n",
    "print(f'{lOrig:>12,} {lPacked:>12,}')\n",
    "print(f'{dsOrig:>12,} {dsPacked:>12,}') \n",
    "print(f'{int(round(dsOrig/lOrig))} {int(round(dsPacked/lPacked))}') "
   ]
  },
  {
   "cell_type": "code",
   "execution_count": 139,
   "metadata": {},
   "outputs": [
    {
     "name": "stdout",
     "output_type": "stream",
     "text": [
      "gapped =    1,425,892 of    1,429,416\n",
      "       3,524        3,524\n",
      "     246,232    5,887,428\n",
      "70 1671\n"
     ]
    }
   ],
   "source": [
    "orig = TF.features['vac'].data\n",
    "packed = ADictInt(orig, threshold=10000, amount=5)\n",
    "lOrig = len(orig)\n",
    "lPacked = packed.length\n",
    "dsOrig = deepSize(orig)\n",
    "dsPacked = deepSize(packed, handlers=handlers)\n",
    "print(f'{lOrig:>12,} {lPacked:>12,}')\n",
    "print(f'{dsOrig:>12,} {dsPacked:>12,}') \n",
    "print(f'{int(round(dsOrig/lOrig))} {int(round(dsPacked/lPacked))}') "
   ]
  },
  {
   "cell_type": "code",
   "execution_count": 327,
   "metadata": {},
   "outputs": [
    {
     "name": "stdout",
     "output_type": "stream",
     "text": [
      "clusterfragmentlexlinescrollword\n"
     ]
    }
   ],
   "source": [
    "print(''.join(chr(x) for x in packed.data))"
   ]
  },
  {
   "cell_type": "code",
   "execution_count": 320,
   "metadata": {},
   "outputs": [
    {
     "ename": "TypeError",
     "evalue": "an integer is required (got type str)",
     "output_type": "error",
     "traceback": [
      "\u001b[0;31m---------------------------------------------------------------------------\u001b[0m",
      "\u001b[0;31mTypeError\u001b[0m                                 Traceback (most recent call last)",
      "\u001b[0;32m<ipython-input-320-3a6b763bd859>\u001b[0m in \u001b[0;36m<module>\u001b[0;34m\u001b[0m\n\u001b[0;32m----> 1\u001b[0;31m \u001b[0mpacked\u001b[0m \u001b[0;34m=\u001b[0m \u001b[0mADictInt\u001b[0m\u001b[0;34m(\u001b[0m\u001b[0morig\u001b[0m\u001b[0;34m,\u001b[0m \u001b[0mthreshold\u001b[0m\u001b[0;34m=\u001b[0m\u001b[0;36m1000\u001b[0m\u001b[0;34m,\u001b[0m \u001b[0mamount\u001b[0m\u001b[0;34m=\u001b[0m\u001b[0;36m2\u001b[0m\u001b[0;34m)\u001b[0m\u001b[0;34m\u001b[0m\u001b[0;34m\u001b[0m\u001b[0m\n\u001b[0m\u001b[1;32m      2\u001b[0m \u001b[0mprint\u001b[0m\u001b[0;34m(\u001b[0m\u001b[0;34mf'{type(orig)} {len(orig):>12,} {packed.length:>12,}'\u001b[0m\u001b[0;34m)\u001b[0m\u001b[0;34m\u001b[0m\u001b[0;34m\u001b[0m\u001b[0m\n\u001b[1;32m      3\u001b[0m \u001b[0mprint\u001b[0m\u001b[0;34m(\u001b[0m\u001b[0;34mf'{deepSize(orig):>12,} {deepSize(packed, handlers={ADictInt: ADictInt.sizeParts()}):>12,}'\u001b[0m\u001b[0;34m)\u001b[0m\u001b[0;34m\u001b[0m\u001b[0;34m\u001b[0m\u001b[0m\n\u001b[1;32m      4\u001b[0m \u001b[0mpacked\u001b[0m\u001b[0;34m.\u001b[0m\u001b[0moffsets\u001b[0m\u001b[0;34m\u001b[0m\u001b[0;34m\u001b[0m\u001b[0m\n",
      "\u001b[0;32m<ipython-input-270-8002f6363de6>\u001b[0m in \u001b[0;36m__init__\u001b[0;34m(self, dictInt, threshold, amount)\u001b[0m\n\u001b[1;32m     34\u001b[0m             \u001b[0mvalueIndex\u001b[0m\u001b[0;34m[\u001b[0m\u001b[0mval\u001b[0m\u001b[0;34m]\u001b[0m \u001b[0;34m=\u001b[0m \u001b[0mpointer\u001b[0m\u001b[0;34m\u001b[0m\u001b[0;34m\u001b[0m\u001b[0m\n\u001b[1;32m     35\u001b[0m             \u001b[0mpointer\u001b[0m \u001b[0;34m+=\u001b[0m \u001b[0;36m1\u001b[0m\u001b[0;34m\u001b[0m\u001b[0;34m\u001b[0m\u001b[0m\n\u001b[0;32m---> 36\u001b[0;31m             \u001b[0mdata\u001b[0m\u001b[0;34m.\u001b[0m\u001b[0mappend\u001b[0m\u001b[0;34m(\u001b[0m\u001b[0mval\u001b[0m\u001b[0;34m)\u001b[0m\u001b[0;34m\u001b[0m\u001b[0;34m\u001b[0m\u001b[0m\n\u001b[0m\u001b[1;32m     37\u001b[0m           \u001b[0mpointers\u001b[0m\u001b[0;34m.\u001b[0m\u001b[0mappend\u001b[0m\u001b[0;34m(\u001b[0m\u001b[0mthisPointer\u001b[0m\u001b[0;34m)\u001b[0m\u001b[0;34m\u001b[0m\u001b[0;34m\u001b[0m\u001b[0m\n\u001b[1;32m     38\u001b[0m     \u001b[0mself\u001b[0m\u001b[0;34m.\u001b[0m\u001b[0mpointers\u001b[0m \u001b[0;34m=\u001b[0m \u001b[0mpointers\u001b[0m\u001b[0;34m\u001b[0m\u001b[0;34m\u001b[0m\u001b[0m\n",
      "\u001b[0;31mTypeError\u001b[0m: an integer is required (got type str)"
     ]
    }
   ],
   "source": [
    "packed = ADictInt(orig, threshold=1000, amount=2)\n",
    "print(f'{type(orig)} {len(orig):>12,} {packed.length:>12,}')\n",
    "print(f'{deepSize(orig):>12,} {deepSize(packed, handlers=handlers):>12,}')\n",
    "packed.offsets"
   ]
  },
  {
   "cell_type": "code",
   "execution_count": 275,
   "metadata": {},
   "outputs": [
    {
     "name": "stdout",
     "output_type": "stream",
     "text": [
      "orig        4,982 => 0.12814535399957094\n",
      "packed      4,982 => 0.39552630800062616\n",
      "orig      838,206 => 0.11129890800111752\n",
      "packed    838,206 => 0.4424262680004176\n",
      "orig      859,907 => 0.11307854299957398\n",
      "packed    859,907 => 0.5167321080007241\n"
     ]
    }
   ],
   "source": [
    "for (b, e, off) in packed.offsets:\n",
    "  print(f'orig   {b:>10,} => {timeit(\"orig.get(b + 10, None)\", globals=globals(), number=1000000)}')\n",
    "  print(f'packed {b:>10,} => {timeit(\"packed.get(b + 10)\", globals=globals(), number=1000000)}')"
   ]
  },
  {
   "cell_type": "code",
   "execution_count": 231,
   "metadata": {},
   "outputs": [
    {
     "name": "stdout",
     "output_type": "stream",
     "text": [
      "0 0\n"
     ]
    }
   ],
   "source": [
    "diff1 = []\n",
    "diff2 = []\n",
    "\n",
    "for n in range(1, maxNode + 1):\n",
    "  if n in orig:\n",
    "    if orig[n] != packed.get(n):\n",
    "      diff1.append(n)\n",
    "  else:\n",
    "    if packed.get(n) is not None:\n",
    "      diff2.append(n)\n",
    "      \n",
    "print(len(diff1), len(diff2))"
   ]
  },
  {
   "cell_type": "code",
   "execution_count": 18,
   "metadata": {},
   "outputs": [],
   "source": [
    "class ADictStr(object):\n",
    "  def __init__(self, dictInt):\n",
    "    keys = array('I')\n",
    "    pointers = array('I')\n",
    "    data = array('B')\n",
    "    data.append(0)\n",
    "    pointers.append(0)\n",
    "    pointer = 1\n",
    "    offset = 0\n",
    "    keys = sorted(dictInt)\n",
    "    firstKey = keys[0]\n",
    "    lastKey = keys[-1]\n",
    "    offset = firstKey - 1\n",
    "    for n in range(firstKey, lastKey + 1):\n",
    "      m = n - offset\n",
    "      if n in dictInt:\n",
    "        keys.append(m)\n",
    "        pointers.append(pointer)\n",
    "        val = dictInt[n]\n",
    "        data.extend(list(val))\n",
    "        pointer += len(val)\n",
    "      else:\n",
    "        pointers.append(0)\n",
    "    self.keys = keys\n",
    "    self.pointers = pointers\n",
    "    self.data = data\n",
    "    self.length = len(keys)\n",
    "    self._length = len(pointers)\n",
    "    self.offset = offset\n",
    "    pointers.append(len(data))\n",
    "    \n",
    "  def get(self, n):\n",
    "    pointers = self.pointers\n",
    "    data = self.data\n",
    "    offset = self.offset\n",
    "    m = n - offset\n",
    "    if m > self._length:\n",
    "      return None\n",
    "    pointer = pointers[m]\n",
    "    if pointer == 0:\n",
    "      return None\n",
    "    return ''.join(data[''.pointers[m]:pointers[m + 1]])\n",
    "  \n",
    "  def item(self):\n",
    "    keys = self.keys\n",
    "    pointers = self.pointers\n",
    "    data = self.data\n",
    "    offset = self.offset\n",
    "    for m in keys:\n",
    "      n = m + offset\n",
    "      yield (n, ''.join(data[pointers[m]:pointers[m + 1]]))"
   ]
  },
  {
   "cell_type": "code",
   "execution_count": 19,
   "metadata": {},
   "outputs": [],
   "source": [
    "class ATupTupInt(object):\n",
    "  def __init__(self, tupOfTup):\n",
    "    pointers = array('I')\n",
    "    data = array('I')\n",
    "    pointer = 0\n",
    "    for tup in tupOfTup:\n",
    "      pointers.append(pointer)\n",
    "      data.extend(tup)\n",
    "      pointer += len(tup)\n",
    "    self.keys = ()\n",
    "    self.pointers = pointers\n",
    "    self.data = data\n",
    "    self.length = len(pointers)\n",
    "    pointers.append(len(data))\n",
    "    \n",
    "  def get(self, n):\n",
    "    pointers = self.pointers\n",
    "    data = self.data\n",
    "    if n >= self.length:\n",
    "      return None\n",
    "    return data[pointers[n]:pointers[n + 1]]\n",
    "  \n",
    "  def item(self):\n",
    "    pointers = self.pointers\n",
    "    data = self.data\n",
    "    for n in range(self.length):\n",
    "      yield data[pointers[n]:pointers[n + 1]]"
   ]
  },
  {
   "cell_type": "code",
   "execution_count": 29,
   "metadata": {},
   "outputs": [],
   "source": [
    "def runDictInt(data):\n",
    "  total = 0\n",
    "  indent(reset=True)\n",
    "  for (n, v) in data.items():\n",
    "    total += v\n",
    "  info(total)\n",
    "  \n",
    "def runPacked1Int(data):\n",
    "  total = 0\n",
    "  indent(reset=True)\n",
    "  for n in data.keys:\n",
    "    total += data.get(n + data.offset)\n",
    "    break\n",
    "  info(total)\n",
    "  return TF.tm._elapsed()\n",
    "  \n",
    "def runPacked2Int(data):\n",
    "  total = 0\n",
    "  indent(reset=True)\n",
    "  for (n, v) in data.item():\n",
    "    total += v\n",
    "  info(total)\n",
    "  return TF.tm._elapsed()"
   ]
  },
  {
   "cell_type": "code",
   "execution_count": 30,
   "metadata": {},
   "outputs": [],
   "source": [
    "data = TF.features['rec'].data\n",
    "packed = ADictInt(data)"
   ]
  },
  {
   "cell_type": "code",
   "execution_count": 31,
   "metadata": {},
   "outputs": [
    {
     "data": {
      "text/plain": [
       "4982"
      ]
     },
     "execution_count": 31,
     "metadata": {},
     "output_type": "execute_result"
    }
   ],
   "source": [
    "min(data.keys())"
   ]
  },
  {
   "cell_type": "code",
   "execution_count": 33,
   "metadata": {},
   "outputs": [
    {
     "name": "stdout",
     "output_type": "stream",
     "text": [
      "  0.00s 659150\n"
     ]
    },
    {
     "data": {
      "text/plain": [
       "' 0.00s'"
      ]
     },
     "execution_count": 33,
     "metadata": {},
     "output_type": "execute_result"
    }
   ],
   "source": [
    "runPacked1Int(packed)"
   ]
  },
  {
   "cell_type": "code",
   "execution_count": 34,
   "metadata": {},
   "outputs": [
    {
     "data": {
      "text/plain": [
       "1"
      ]
     },
     "execution_count": 34,
     "metadata": {},
     "output_type": "execute_result"
    }
   ],
   "source": [
    "packed.get(4982)"
   ]
  },
  {
   "cell_type": "code",
   "execution_count": 35,
   "metadata": {},
   "outputs": [
    {
     "data": {
      "text/plain": [
       "1"
      ]
     },
     "execution_count": 35,
     "metadata": {},
     "output_type": "execute_result"
    }
   ],
   "source": [
    "packed.keys[0]"
   ]
  },
  {
   "cell_type": "code",
   "execution_count": 27,
   "metadata": {},
   "outputs": [],
   "source": [
    "def testFeature(ft):\n",
    "  info = TF.features[ft]\n",
    "  origData = info.data\n",
    "  valType = getattr(info, 'metaData', {}).get('valueType', None)\n",
    "  \n",
    "  print(f'Feature \"{ft}\" ({valType})')\n",
    "\n",
    "  packedData = ADictStr(origData) if valType == 'str' else ADictInt(origData) if valType == 'int' else ATupTupInt(origData)\n",
    "  testMember = list(origData.keys())[0] if valType else 0\n",
    "  \n",
    "  origVal = origData[testMember]\n",
    "  packedVal = packedData.get(testMember)\n",
    "  \n",
    "  equal = origVal == packedVal\n",
    "  \n",
    "  origLen = len(origData)\n",
    "  packedLen = packedData.length\n",
    "  \n",
    "  origSize = deepSize(origData)\n",
    "  packedSize = deepSize((packedData.keys, packedData.pointers, packedData.data))\n",
    "  \n",
    "  itemSize = packedData.data.itemsize\n",
    "  \n",
    "  runOrig = runDictInt(origData)\n",
    "  runPacked1 = runPacked1Int(packedData)\n",
    "  runPacked2 = runPacked2Int(packedData)\n",
    "        \n",
    "  md = f'''\n",
    "---\n",
    "\n",
    "# {ft}\n",
    "\n",
    "title | info | origData | packedData | status\n",
    "--- | --- | --- | --- | ---\n",
    "value | {testMember} | {origVal} | {packedVal} | {'OK' if equal else 'XX'}\n",
    "data | n-items | {origLen:,} | {packedLen:,} | -- \n",
    "data | size | {origSize:,} | {packedSize:,} | -- \n",
    "item | size | -- | {itemSize} | --\n",
    "run | acces all data | {runOrig} | {runPacked2} | {runPacked1}\n",
    "'''\n",
    "  dm(md)\n",
    "  \n",
    "  \n",
    "  "
   ]
  },
  {
   "cell_type": "code",
   "execution_count": 28,
   "metadata": {},
   "outputs": [
    {
     "name": "stdout",
     "output_type": "stream",
     "text": [
      "Feature \"rec\" (int)\n",
      "  0.03s 661786\n"
     ]
    },
    {
     "ename": "TypeError",
     "evalue": "unsupported operand type(s) for +=: 'int' and 'NoneType'",
     "output_type": "error",
     "traceback": [
      "\u001b[0;31m---------------------------------------------------------------------------\u001b[0m",
      "\u001b[0;31mTypeError\u001b[0m                                 Traceback (most recent call last)",
      "\u001b[0;32m<ipython-input-28-22b17a1280a6>\u001b[0m in \u001b[0;36m<module>\u001b[0;34m\u001b[0m\n\u001b[0;32m----> 1\u001b[0;31m \u001b[0mtestFeature\u001b[0m\u001b[0;34m(\u001b[0m\u001b[0;34m'rec'\u001b[0m\u001b[0;34m)\u001b[0m\u001b[0;34m\u001b[0m\u001b[0;34m\u001b[0m\u001b[0m\n\u001b[0m",
      "\u001b[0;32m<ipython-input-27-96f86fb743fa>\u001b[0m in \u001b[0;36mtestFeature\u001b[0;34m(ft)\u001b[0m\n\u001b[1;32m     47\u001b[0m \u001b[0;34m\u001b[0m\u001b[0m\n\u001b[1;32m     48\u001b[0m   \u001b[0mrunOrig\u001b[0m \u001b[0;34m=\u001b[0m \u001b[0mrunDictInt\u001b[0m\u001b[0;34m(\u001b[0m\u001b[0morigData\u001b[0m\u001b[0;34m)\u001b[0m\u001b[0;34m\u001b[0m\u001b[0;34m\u001b[0m\u001b[0m\n\u001b[0;32m---> 49\u001b[0;31m   \u001b[0mrunPacked1\u001b[0m \u001b[0;34m=\u001b[0m \u001b[0mrunPacked1Int\u001b[0m\u001b[0;34m(\u001b[0m\u001b[0mpackedData\u001b[0m\u001b[0;34m)\u001b[0m\u001b[0;34m\u001b[0m\u001b[0;34m\u001b[0m\u001b[0m\n\u001b[0m\u001b[1;32m     50\u001b[0m   \u001b[0mrunPacked2\u001b[0m \u001b[0;34m=\u001b[0m \u001b[0mrunPacked2Int\u001b[0m\u001b[0;34m(\u001b[0m\u001b[0mpackedData\u001b[0m\u001b[0;34m)\u001b[0m\u001b[0;34m\u001b[0m\u001b[0;34m\u001b[0m\u001b[0m\n\u001b[1;32m     51\u001b[0m \u001b[0;34m\u001b[0m\u001b[0m\n",
      "\u001b[0;32m<ipython-input-27-96f86fb743fa>\u001b[0m in \u001b[0;36mrunPacked1Int\u001b[0;34m(data)\u001b[0m\n\u001b[1;32m     10\u001b[0m   \u001b[0mindent\u001b[0m\u001b[0;34m(\u001b[0m\u001b[0mreset\u001b[0m\u001b[0;34m=\u001b[0m\u001b[0;32mTrue\u001b[0m\u001b[0;34m)\u001b[0m\u001b[0;34m\u001b[0m\u001b[0;34m\u001b[0m\u001b[0m\n\u001b[1;32m     11\u001b[0m   \u001b[0;32mfor\u001b[0m \u001b[0mn\u001b[0m \u001b[0;32min\u001b[0m \u001b[0mdata\u001b[0m\u001b[0;34m.\u001b[0m\u001b[0mkeys\u001b[0m\u001b[0;34m:\u001b[0m\u001b[0;34m\u001b[0m\u001b[0;34m\u001b[0m\u001b[0m\n\u001b[0;32m---> 12\u001b[0;31m     \u001b[0mtotal\u001b[0m \u001b[0;34m+=\u001b[0m \u001b[0mdata\u001b[0m\u001b[0;34m.\u001b[0m\u001b[0mget\u001b[0m\u001b[0;34m(\u001b[0m\u001b[0mn\u001b[0m\u001b[0;34m)\u001b[0m\u001b[0;34m\u001b[0m\u001b[0;34m\u001b[0m\u001b[0m\n\u001b[0m\u001b[1;32m     13\u001b[0m   \u001b[0minfo\u001b[0m\u001b[0;34m(\u001b[0m\u001b[0mtotal\u001b[0m\u001b[0;34m)\u001b[0m\u001b[0;34m\u001b[0m\u001b[0;34m\u001b[0m\u001b[0m\n\u001b[1;32m     14\u001b[0m   \u001b[0;32mreturn\u001b[0m \u001b[0mTF\u001b[0m\u001b[0;34m.\u001b[0m\u001b[0mtm\u001b[0m\u001b[0;34m.\u001b[0m\u001b[0m_elapsed\u001b[0m\u001b[0;34m(\u001b[0m\u001b[0;34m)\u001b[0m\u001b[0;34m\u001b[0m\u001b[0;34m\u001b[0m\u001b[0m\n",
      "\u001b[0;31mTypeError\u001b[0m: unsupported operand type(s) for +=: 'int' and 'NoneType'"
     ]
    }
   ],
   "source": [
    "testFeature('rec')"
   ]
  },
  {
   "cell_type": "markdown",
   "metadata": {},
   "source": [
    "# WARP features\n",
    "\n",
    "Every TF dataset has the `otype` and `oslots` features.\n",
    "Let's see how much memory space they consume."
   ]
  },
  {
   "cell_type": "markdown",
   "metadata": {},
   "source": [
    "However, this is not the whole story. We need a deep, recursive `getsizeof` and we use the approach from this\n",
    "[recipe](https://code.activestate.com/recipes/577504/)"
   ]
  },
  {
   "cell_type": "code",
   "execution_count": 74,
   "metadata": {},
   "outputs": [
    {
     "name": "stdout",
     "output_type": "stream",
     "text": [
      "after              798,546x =>   64,302,482 b   64,302,482 <class 'dict'>\n",
      "alt                    577x =>       34,712 b   64,337,194 <class 'dict'>\n",
      "biblical           267,671x =>   17,980,732 b   82,317,926 <class 'dict'>\n",
      "book               218,186x =>   27,923,866 b  110,241,792 <class 'dict'>\n",
      "chapter            218,186x =>   24,153,921 b  134,395,713 <class 'dict'>\n",
      "cl                 312,839x =>   35,669,337 b  170,065,050 <class 'dict'>\n",
      "cl2                  1,334x =>       76,598 b  170,141,648 <class 'dict'>\n",
      "cor                  5,698x =>      454,636 b  170,596,284 <class 'dict'>\n",
      "fragment            64,077x =>    7,498,336 b  178,094,620 <class 'dict'>\n",
      "full               500,992x =>   75,471,577 b  253,566,197 <class 'dict'>\n",
      "fulle              500,992x =>   56,845,294 b  310,411,491 <class 'dict'>\n",
      "fullo              500,992x =>   56,022,086 b  366,433,577 <class 'dict'>\n",
      "glex               481,281x =>   73,637,279 b  440,070,856 <class 'dict'>\n",
      "glexe              481,281x =>   58,501,283 b  498,572,139 <class 'dict'>\n",
      "glexo              481,281x =>   60,149,680 b  558,721,819 <class 'dict'>\n",
      "glyph            1,838,363x =>  268,732,701 b  827,454,520 <class 'dict'>\n",
      "glyphe           1,838,363x =>  157,531,402 b  984,985,922 <class 'dict'>\n",
      "glypho           1,838,363x =>  154,846,302 b 1,139,832,224 <class 'dict'>\n",
      "gn                 194,777x =>   15,997,164 b 1,155,829,388 <class 'dict'>\n",
      "gn2                 44,408x =>    3,866,350 b 1,159,695,738 <class 'dict'>\n",
      "gn3                     14x =>        1,190 b 1,159,696,928 <class 'dict'>\n",
      "halfverse              932x =>       63,164 b 1,159,760,092 <class 'dict'>\n",
      "intl                 1,632x =>      119,576 b 1,159,879,668 <class 'dict'>\n",
      "lang               185,139x =>   15,669,856 b 1,175,549,524 <class 'dict'>\n",
      "lex                481,288x =>   72,316,950 b 1,247,866,474 <class 'dict'>\n",
      "lexe               481,288x =>   60,122,064 b 1,307,988,538 <class 'dict'>\n",
      "lexo               481,288x =>   61,377,459 b 1,369,365,997 <class 'dict'>\n",
      "line                52,895x =>    4,752,297 b 1,374,118,294 <class 'dict'>\n",
      "md                   1,984x =>      234,534 b 1,374,352,828 <class 'dict'>\n",
      "merr                     2x =>          402 b 1,374,353,230 <class 'dict'>\n",
      "morpho             470,842x =>   54,871,512 b 1,429,224,742 <class 'dict'>\n",
      "nu                 194,670x =>   15,997,366 b 1,445,222,108 <class 'dict'>\n",
      "nu2                 44,406x =>    3,865,684 b 1,449,087,792 <class 'dict'>\n",
      "nu3                     14x =>        1,090 b 1,449,088,882 <class 'dict'>\n",
      "occ                 10,449x =>   42,189,344 b 1,491,278,226 <class 'dict'>\n",
      "oslots             677,619x =>  316,032,008 b 1,807,310,234 <class 'tuple'>\n",
      "otext           None\n",
      "otype              677,620x =>    5,421,415 b 1,812,731,649 <class 'tuple'>\n",
      "ps                  49,100x =>    4,024,718 b 1,816,756,367 <class 'dict'>\n",
      "ps2                 44,409x =>    3,865,146 b 1,820,621,513 <class 'dict'>\n",
      "ps3                     14x =>        1,190 b 1,820,622,703 <class 'dict'>\n",
      "punc                29,927x =>    4,423,260 b 1,825,045,963 <class 'dict'>\n",
      "punce               29,927x =>    3,675,085 b 1,828,721,048 <class 'dict'>\n",
      "punco               29,927x =>    2,148,896 b 1,830,869,944 <class 'dict'>\n",
      "rec                661,786x =>   39,501,652 b 1,870,371,596 <class 'dict'>\n",
      "rem                  2,264x =>      137,272 b 1,870,508,868 <class 'dict'>\n",
      "script               4,110x =>      509,263 b 1,871,018,131 <class 'dict'>\n",
      "scroll              65,078x =>    7,945,465 b 1,878,963,596 <class 'dict'>\n",
      "sim                 10,732x =>    5,727,608 b 1,884,691,204 <class 'dict'>\n",
      "sp                 470,841x =>   59,350,493 b 1,944,041,697 <class 'dict'>\n",
      "srcLn              500,992x =>   49,021,176 b 1,993,062,873 <class 'dict'>\n",
      "st                 107,481x =>    8,279,250 b 2,001,342,123 <class 'dict'>\n",
      "type             2,032,329x =>  249,123,881 b 2,250,466,004 <class 'dict'>\n",
      "unc                 92,266x =>    7,826,536 b 2,258,292,540 <class 'dict'>\n",
      "vac                  3,524x =>      246,232 b 2,258,538,772 <class 'dict'>\n",
      "verse                  932x =>       63,164 b 2,258,601,936 <class 'dict'>\n",
      "vs                  66,332x =>    7,976,057 b 2,266,577,993 <class 'dict'>\n",
      "vt                  66,317x =>    7,994,538 b 2,274,572,531 <class 'dict'>\n",
      "__levels__               7x =>        1,579 b 2,274,574,110 <class 'tuple'>\n",
      "__order__        2,107,856x =>    8,958,464 b 2,283,532,574 <class 'array.array'>\n",
      "__rank__         2,107,856x =>    8,958,464 b 2,292,491,038 <class 'array.array'>\n",
      "__levUp__        2,107,856x =>  494,912,728 b 2,787,403,766 <class 'tuple'>\n",
      "__levDown__        677,618x =>  114,895,720 b 2,902,299,486 <class 'tuple'>\n",
      "__boundary__             2x =>  123,237,760 b 3,025,537,246 <class 'tuple'>\n",
      "__sections__             2x =>    7,750,393 b 3,033,287,639 <class 'tuple'>\n",
      "__structure__   None\n"
     ]
    }
   ],
   "source": [
    "total = 0\n",
    "for (ft, ftInfo) in TF.features.items():\n",
    "  data = ftInfo.data\n",
    "  if data is None:\n",
    "    print(f'{ft:<15} None')\n",
    "    continue\n",
    "  lData = len(data)\n",
    "  tData = type(data)\n",
    "  sData = deepSize(data)\n",
    "  total += sData\n",
    "  print(f'{ft:<15} {lData:>10,}x => {sData:>12,} b {total:>12,} {tData}')"
   ]
  },
  {
   "cell_type": "code",
   "execution_count": 75,
   "metadata": {},
   "outputs": [
    {
     "name": "stdout",
     "output_type": "stream",
     "text": [
      "after              798,546x =>   64,302,482 b   64,302,482 <class 'dict'>\n",
      "alt                    577x =>       34,712 b   64,337,194 <class 'dict'>\n",
      "biblical           267,671x =>   17,980,732 b   82,317,926 <class 'dict'>\n",
      "book               218,186x =>   27,923,866 b  110,241,792 <class 'dict'>\n",
      "chapter            218,186x =>   24,153,921 b  134,395,713 <class 'dict'>\n",
      "cl                 312,839x =>   35,669,337 b  170,065,050 <class 'dict'>\n",
      "cl2                  1,334x =>       76,598 b  170,141,648 <class 'dict'>\n",
      "cor                  5,698x =>      454,636 b  170,596,284 <class 'dict'>\n",
      "fragment            64,077x =>    7,498,336 b  178,094,620 <class 'dict'>\n",
      "full               500,992x =>   75,471,577 b  253,566,197 <class 'dict'>\n",
      "fulle              500,992x =>   56,845,294 b  310,411,491 <class 'dict'>\n",
      "fullo              500,992x =>   56,022,086 b  366,433,577 <class 'dict'>\n",
      "glex               481,281x =>   73,637,279 b  440,070,856 <class 'dict'>\n",
      "glexe              481,281x =>   58,501,283 b  498,572,139 <class 'dict'>\n",
      "glexo              481,281x =>   60,149,680 b  558,721,819 <class 'dict'>\n",
      "glyph            1,838,363x =>  268,732,701 b  827,454,520 <class 'dict'>\n",
      "glyphe           1,838,363x =>  157,531,402 b  984,985,922 <class 'dict'>\n",
      "glypho           1,838,363x =>  154,846,302 b 1,139,832,224 <class 'dict'>\n",
      "gn                 194,777x =>   15,997,164 b 1,155,829,388 <class 'dict'>\n",
      "gn2                 44,408x =>    3,866,350 b 1,159,695,738 <class 'dict'>\n",
      "gn3                     14x =>        1,190 b 1,159,696,928 <class 'dict'>\n",
      "halfverse              932x =>       63,164 b 1,159,760,092 <class 'dict'>\n",
      "intl                 1,632x =>      119,576 b 1,159,879,668 <class 'dict'>\n",
      "lang               185,139x =>   15,669,856 b 1,175,549,524 <class 'dict'>\n",
      "lex                481,288x =>   72,316,950 b 1,247,866,474 <class 'dict'>\n",
      "lexe               481,288x =>   60,122,064 b 1,307,988,538 <class 'dict'>\n",
      "lexo               481,288x =>   61,377,459 b 1,369,365,997 <class 'dict'>\n",
      "line                52,895x =>    4,752,297 b 1,374,118,294 <class 'dict'>\n",
      "md                   1,984x =>      234,534 b 1,374,352,828 <class 'dict'>\n",
      "merr                     2x =>          402 b 1,374,353,230 <class 'dict'>\n",
      "morpho             470,842x =>   54,871,512 b 1,429,224,742 <class 'dict'>\n",
      "nu                 194,670x =>   15,997,366 b 1,445,222,108 <class 'dict'>\n",
      "nu2                 44,406x =>    3,865,684 b 1,449,087,792 <class 'dict'>\n",
      "nu3                     14x =>        1,090 b 1,449,088,882 <class 'dict'>\n",
      "occ                 10,449x =>   42,189,344 b 1,491,278,226 <class 'dict'>\n",
      "oslots             677,619x =>  316,032,008 b 1,807,310,234 <class 'tuple'>\n",
      "otext           None\n",
      "otype              677,620x =>    5,421,415 b 1,812,731,649 <class 'tuple'>\n",
      "ps                  49,100x =>    4,024,718 b 1,816,756,367 <class 'dict'>\n",
      "ps2                 44,409x =>    3,865,146 b 1,820,621,513 <class 'dict'>\n",
      "ps3                     14x =>        1,190 b 1,820,622,703 <class 'dict'>\n",
      "punc                29,927x =>    4,423,260 b 1,825,045,963 <class 'dict'>\n",
      "punce               29,927x =>    3,675,085 b 1,828,721,048 <class 'dict'>\n",
      "punco               29,927x =>    2,148,896 b 1,830,869,944 <class 'dict'>\n",
      "rec                661,786x =>   39,501,652 b 1,870,371,596 <class 'dict'>\n",
      "rem                  2,264x =>      137,272 b 1,870,508,868 <class 'dict'>\n",
      "script               4,110x =>      509,263 b 1,871,018,131 <class 'dict'>\n",
      "scroll              65,078x =>    7,945,465 b 1,878,963,596 <class 'dict'>\n",
      "sim                 10,732x =>    5,727,608 b 1,884,691,204 <class 'dict'>\n",
      "sp                 470,841x =>   59,350,493 b 1,944,041,697 <class 'dict'>\n",
      "srcLn              500,992x =>   49,021,176 b 1,993,062,873 <class 'dict'>\n",
      "st                 107,481x =>    8,279,250 b 2,001,342,123 <class 'dict'>\n",
      "type             2,032,329x =>  249,123,881 b 2,250,466,004 <class 'dict'>\n",
      "unc                 92,266x =>    7,826,536 b 2,258,292,540 <class 'dict'>\n",
      "vac                  3,524x =>      246,232 b 2,258,538,772 <class 'dict'>\n",
      "verse                  932x =>       63,164 b 2,258,601,936 <class 'dict'>\n",
      "vs                  66,332x =>    7,976,057 b 2,266,577,993 <class 'dict'>\n",
      "vt                  66,317x =>    7,994,538 b 2,274,572,531 <class 'dict'>\n",
      "__levels__               7x =>        1,579 b 2,274,574,110 <class 'tuple'>\n",
      "__order__        2,107,856x =>    8,958,464 b 2,283,532,574 <class 'array.array'>\n",
      "__rank__         2,107,856x =>    8,958,464 b 2,292,491,038 <class 'array.array'>\n",
      "__levUp__        2,107,856x =>  494,912,728 b 2,787,403,766 <class 'tuple'>\n",
      "__levDown__        677,618x =>  114,895,720 b 2,902,299,486 <class 'tuple'>\n",
      "__boundary__             2x =>  123,237,760 b 3,025,537,246 <class 'tuple'>\n",
      "__sections__             2x =>    7,750,393 b 3,033,287,639 <class 'tuple'>\n",
      "__structure__   None\n"
     ]
    }
   ],
   "source": [
    "total = 0\n",
    "seen = set()\n",
    "\n",
    "for (ft, ftInfo) in TF.features.items():\n",
    "  data = ftInfo.data\n",
    "  if data is None:\n",
    "    print(f'{ft:<15} None')\n",
    "    continue\n",
    "  lData = len(data)\n",
    "  tData = type(data)\n",
    "  sData = deepSize(data)\n",
    "  total += sData\n",
    "  print(f'{ft:<15} {lData:>10,}x => {sData:>12,} b {total:>12,} {tData}')\n"
   ]
  },
  {
   "cell_type": "code",
   "execution_count": 20,
   "metadata": {},
   "outputs": [
    {
     "data": {
      "text/plain": [
       "4"
      ]
     },
     "execution_count": 20,
     "metadata": {},
     "output_type": "execute_result"
    }
   ],
   "source": [
    "od = TF.features['__order__'].data\n",
    "od.itemsize"
   ]
  },
  {
   "cell_type": "code",
   "execution_count": 17,
   "metadata": {},
   "outputs": [
    {
     "name": "stdout",
     "output_type": "stream",
     "text": [
      "1,000,000,000\n"
     ]
    }
   ],
   "source": [
    "x = 1000000000\n",
    "print(f'{x:>7,}')"
   ]
  },
  {
   "cell_type": "code",
   "execution_count": 28,
   "metadata": {},
   "outputs": [],
   "source": [
    "from array import array"
   ]
  },
  {
   "cell_type": "code",
   "execution_count": 29,
   "metadata": {},
   "outputs": [],
   "source": [
    "data = (\n",
    "  (1, 2, 3),\n",
    "  (4, 5, 6, 7),\n",
    "  (8,),\n",
    "  (9, 10),\n",
    "  (100000000, 1000000000),\n",
    ")"
   ]
  },
  {
   "cell_type": "code",
   "execution_count": 30,
   "metadata": {},
   "outputs": [],
   "source": [
    "x = array('I', data[-1])"
   ]
  },
  {
   "cell_type": "code",
   "execution_count": 31,
   "metadata": {},
   "outputs": [
    {
     "data": {
      "text/plain": [
       "array('I', [100000000, 1000000000])"
      ]
     },
     "execution_count": 31,
     "metadata": {},
     "output_type": "execute_result"
    }
   ],
   "source": [
    "x"
   ]
  },
  {
   "cell_type": "code",
   "execution_count": 34,
   "metadata": {},
   "outputs": [],
   "source": [
    "def arrayify(tupOfTup):\n",
    "  pointers = array('I')\n",
    "  data = array('I')\n",
    "  pointer = 0\n",
    "  for tup in tupOfTup:\n",
    "    pointers.append(pointer)\n",
    "    data.extend(tup)\n",
    "    pointer += len(tup)\n",
    "  return (pointers, data)"
   ]
  },
  {
   "cell_type": "code",
   "execution_count": 36,
   "metadata": {},
   "outputs": [
    {
     "data": {
      "text/plain": [
       "(array('I', [0, 3, 7, 8, 10]),\n",
       " array('I', [1, 2, 3, 4, 5, 6, 7, 8, 9, 10, 100000000, 1000000000]))"
      ]
     },
     "execution_count": 36,
     "metadata": {},
     "output_type": "execute_result"
    }
   ],
   "source": [
    "aData = arrayify(data)\n",
    "aData"
   ]
  },
  {
   "cell_type": "code",
   "execution_count": 69,
   "metadata": {},
   "outputs": [],
   "source": [
    "def geta(aData, n):\n",
    "  (pointers, data) = aData\n",
    "  nPointers = len(pointers) - 1\n",
    "  if n > nPointers:\n",
    "    return None\n",
    "  pointer = pointers[n]\n",
    "  nextPointer = len(data) if n + 1 > nPointers else pointers[n + 1]\n",
    "  return data[pointer:nextPointer]"
   ]
  },
  {
   "cell_type": "code",
   "execution_count": 38,
   "metadata": {},
   "outputs": [
    {
     "data": {
      "text/plain": [
       "(1, 2, 3)"
      ]
     },
     "execution_count": 38,
     "metadata": {},
     "output_type": "execute_result"
    }
   ],
   "source": [
    "geta(aData, 0)"
   ]
  },
  {
   "cell_type": "code",
   "execution_count": 39,
   "metadata": {},
   "outputs": [
    {
     "name": "stdout",
     "output_type": "stream",
     "text": [
      "(1, 2, 3)\n",
      "(4, 5, 6, 7)\n",
      "(8,)\n",
      "(9, 10)\n",
      "(100000000, 1000000000)\n"
     ]
    }
   ],
   "source": [
    "for i in range(5):\n",
    "  print(geta(aData, i))"
   ]
  },
  {
   "cell_type": "code",
   "execution_count": 40,
   "metadata": {},
   "outputs": [
    {
     "data": {
      "text/plain": [
       "760"
      ]
     },
     "execution_count": 40,
     "metadata": {},
     "output_type": "execute_result"
    }
   ],
   "source": [
    "deepSize(data)"
   ]
  },
  {
   "cell_type": "code",
   "execution_count": 41,
   "metadata": {},
   "outputs": [
    {
     "data": {
      "text/plain": [
       "288"
      ]
     },
     "execution_count": 41,
     "metadata": {},
     "output_type": "execute_result"
    }
   ],
   "source": [
    "deepSize(aData)"
   ]
  },
  {
   "cell_type": "code",
   "execution_count": 104,
   "metadata": {},
   "outputs": [],
   "source": [
    "data = tuple(tuple(range(i, i + 5)) for i in range(1000000))"
   ]
  },
  {
   "cell_type": "code",
   "execution_count": 43,
   "metadata": {},
   "outputs": [
    {
     "data": {
      "text/plain": [
       "235971540"
      ]
     },
     "execution_count": 43,
     "metadata": {},
     "output_type": "execute_result"
    }
   ],
   "source": [
    "deepSize(data)"
   ]
  },
  {
   "cell_type": "code",
   "execution_count": 56,
   "metadata": {},
   "outputs": [],
   "source": [
    "aData = arrayify(data)"
   ]
  },
  {
   "cell_type": "code",
   "execution_count": 57,
   "metadata": {},
   "outputs": [
    {
     "data": {
      "text/plain": [
       "25122300"
      ]
     },
     "execution_count": 57,
     "metadata": {},
     "output_type": "execute_result"
    }
   ],
   "source": [
    "deepSize(aData)"
   ]
  },
  {
   "cell_type": "code",
   "execution_count": 58,
   "metadata": {},
   "outputs": [
    {
     "name": "stdout",
     "output_type": "stream",
     "text": [
      "  0.12s 499999500000\n"
     ]
    }
   ],
   "source": [
    "indent(reset=True)\n",
    "total = 0\n",
    "for x in data:\n",
    "  total += x[0]\n",
    "info(total)"
   ]
  },
  {
   "cell_type": "code",
   "execution_count": 70,
   "metadata": {},
   "outputs": [
    {
     "name": "stdout",
     "output_type": "stream",
     "text": [
      "  0.59s 499999500000\n"
     ]
    }
   ],
   "source": [
    "indent(reset=True)\n",
    "total = 0\n",
    "for i in range(len(aData[0])):\n",
    "  total += geta(aData, i)[0]\n",
    "info(total)"
   ]
  },
  {
   "cell_type": "code",
   "execution_count": 102,
   "metadata": {},
   "outputs": [],
   "source": [
    "maxNode = F.otype.maxNode"
   ]
  },
  {
   "cell_type": "code",
   "execution_count": 157,
   "metadata": {},
   "outputs": [],
   "source": [
    "recData = TF.features['rec'].data"
   ]
  },
  {
   "cell_type": "code",
   "execution_count": 174,
   "metadata": {},
   "outputs": [],
   "source": [
    "orec = ADictInt(recData)"
   ]
  },
  {
   "cell_type": "code",
   "execution_count": 146,
   "metadata": {},
   "outputs": [
    {
     "data": {
      "text/plain": [
       "13823792"
      ]
     },
     "execution_count": 146,
     "metadata": {},
     "output_type": "execute_result"
    }
   ],
   "source": [
    "deepSize((orec.keys, orec.pointers, orec.data))"
   ]
  },
  {
   "cell_type": "code",
   "execution_count": 168,
   "metadata": {},
   "outputs": [
    {
     "name": "stdout",
     "output_type": "stream",
     "text": [
      "  0.08s 661786\n"
     ]
    }
   ],
   "source": [
    "total = 0\n",
    "indent(reset=True)\n",
    "for (n, rec) in recData.items():\n",
    "  total += rec\n",
    "info(total)"
   ]
  },
  {
   "cell_type": "code",
   "execution_count": 177,
   "metadata": {},
   "outputs": [],
   "source": [
    "corData = TF.features['cor'].data"
   ]
  },
  {
   "cell_type": "code",
   "execution_count": 178,
   "metadata": {},
   "outputs": [],
   "source": [
    "ocor = ADictInt(corData)"
   ]
  },
  {
   "cell_type": "code",
   "execution_count": 179,
   "metadata": {},
   "outputs": [
    {
     "data": {
      "text/plain": [
       "8516840"
      ]
     },
     "execution_count": 179,
     "metadata": {},
     "output_type": "execute_result"
    }
   ],
   "source": [
    "deepSize((ocor.keys, ocor.pointers, ocor.data))"
   ]
  },
  {
   "cell_type": "code",
   "execution_count": 180,
   "metadata": {},
   "outputs": [
    {
     "name": "stdout",
     "output_type": "stream",
     "text": [
      "  0.00s 15139\n"
     ]
    }
   ],
   "source": [
    "total = 0\n",
    "indent(reset=True)\n",
    "for (n, rec) in corData.items():\n",
    "  total += rec\n",
    "info(total)"
   ]
  },
  {
   "cell_type": "code",
   "execution_count": 169,
   "metadata": {},
   "outputs": [
    {
     "data": {
      "text/plain": [
       "4982"
      ]
     },
     "execution_count": 169,
     "metadata": {},
     "output_type": "execute_result"
    }
   ],
   "source": [
    "min(recData.keys())"
   ]
  },
  {
   "cell_type": "code",
   "execution_count": 170,
   "metadata": {},
   "outputs": [
    {
     "data": {
      "text/plain": [
       "2107857"
      ]
     },
     "execution_count": 170,
     "metadata": {},
     "output_type": "execute_result"
    }
   ],
   "source": [
    "orec.length"
   ]
  },
  {
   "cell_type": "code",
   "execution_count": 171,
   "metadata": {},
   "outputs": [
    {
     "data": {
      "text/plain": [
       "0"
      ]
     },
     "execution_count": 171,
     "metadata": {},
     "output_type": "execute_result"
    }
   ],
   "source": [
    "orec.pointers[4981]"
   ]
  },
  {
   "cell_type": "code",
   "execution_count": 181,
   "metadata": {},
   "outputs": [
    {
     "name": "stdout",
     "output_type": "stream",
     "text": [
      "  0.00s 15139\n"
     ]
    }
   ],
   "source": [
    "total = 0\n",
    "indent(reset=True)\n",
    "for n in ocor.keys:\n",
    "  total += ocor.get(n)\n",
    "info(total)"
   ]
  },
  {
   "cell_type": "code",
   "execution_count": 182,
   "metadata": {},
   "outputs": [
    {
     "name": "stdout",
     "output_type": "stream",
     "text": [
      "  0.00s 15139\n"
     ]
    }
   ],
   "source": [
    "total = 0\n",
    "indent(reset=True)\n",
    "for (n, x) in ocor.item():\n",
    "  total += x\n",
    "info(total)"
   ]
  },
  {
   "cell_type": "code",
   "execution_count": 92,
   "metadata": {},
   "outputs": [
    {
     "data": {
      "text/plain": [
       "(1,)"
      ]
     },
     "execution_count": 92,
     "metadata": {},
     "output_type": "execute_result"
    }
   ],
   "source": [
    "osData[0]"
   ]
  },
  {
   "cell_type": "code",
   "execution_count": 94,
   "metadata": {},
   "outputs": [],
   "source": [
    "oacData = ATuple(osData[0:-1])"
   ]
  },
  {
   "cell_type": "code",
   "execution_count": 100,
   "metadata": {},
   "outputs": [
    {
     "name": "stdout",
     "output_type": "stream",
     "text": [
      "__levUp__\n",
      "  52,001,232\n",
      "__levDown__\n",
      "  14,313,712\n",
      "__boundary__\n"
     ]
    },
    {
     "ename": "TypeError",
     "evalue": "an integer is required (got type tuple)",
     "output_type": "error",
     "traceback": [
      "\u001b[0;31m---------------------------------------------------------------------------\u001b[0m",
      "\u001b[0;31mTypeError\u001b[0m                                 Traceback (most recent call last)",
      "\u001b[0;32m<ipython-input-100-7e8240d57aaa>\u001b[0m in \u001b[0;36m<module>\u001b[0;34m\u001b[0m\n\u001b[1;32m      1\u001b[0m \u001b[0;32mfor\u001b[0m \u001b[0mft\u001b[0m \u001b[0;32min\u001b[0m \u001b[0;34m(\u001b[0m\u001b[0;34m'__levUp__'\u001b[0m\u001b[0;34m,\u001b[0m \u001b[0;34m'__levDown__'\u001b[0m\u001b[0;34m,\u001b[0m \u001b[0;34m'__boundary__'\u001b[0m\u001b[0;34m,\u001b[0m \u001b[0;34m'__sections__'\u001b[0m\u001b[0;34m)\u001b[0m\u001b[0;34m:\u001b[0m\u001b[0;34m\u001b[0m\u001b[0;34m\u001b[0m\u001b[0m\n\u001b[1;32m      2\u001b[0m   \u001b[0mprint\u001b[0m\u001b[0;34m(\u001b[0m\u001b[0mft\u001b[0m\u001b[0;34m)\u001b[0m\u001b[0;34m\u001b[0m\u001b[0;34m\u001b[0m\u001b[0m\n\u001b[0;32m----> 3\u001b[0;31m   \u001b[0maData\u001b[0m \u001b[0;34m=\u001b[0m \u001b[0mATuple\u001b[0m\u001b[0;34m(\u001b[0m\u001b[0mTF\u001b[0m\u001b[0;34m.\u001b[0m\u001b[0mfeatures\u001b[0m\u001b[0;34m[\u001b[0m\u001b[0mft\u001b[0m\u001b[0;34m]\u001b[0m\u001b[0;34m.\u001b[0m\u001b[0mdata\u001b[0m\u001b[0;34m)\u001b[0m\u001b[0;34m\u001b[0m\u001b[0;34m\u001b[0m\u001b[0m\n\u001b[0m\u001b[1;32m      4\u001b[0m   \u001b[0mprint\u001b[0m\u001b[0;34m(\u001b[0m\u001b[0;34mf'{deepSize((aData.pointers, aData.data)):>12,}'\u001b[0m\u001b[0;34m)\u001b[0m\u001b[0;34m\u001b[0m\u001b[0;34m\u001b[0m\u001b[0m\n",
      "\u001b[0;32m<ipython-input-81-de82c7fd4deb>\u001b[0m in \u001b[0;36m__init__\u001b[0;34m(self, tupOfTup)\u001b[0m\n\u001b[1;32m      6\u001b[0m     \u001b[0;32mfor\u001b[0m \u001b[0mtup\u001b[0m \u001b[0;32min\u001b[0m \u001b[0mtupOfTup\u001b[0m\u001b[0;34m:\u001b[0m\u001b[0;34m\u001b[0m\u001b[0;34m\u001b[0m\u001b[0m\n\u001b[1;32m      7\u001b[0m       \u001b[0mpointers\u001b[0m\u001b[0;34m.\u001b[0m\u001b[0mappend\u001b[0m\u001b[0;34m(\u001b[0m\u001b[0mpointer\u001b[0m\u001b[0;34m)\u001b[0m\u001b[0;34m\u001b[0m\u001b[0;34m\u001b[0m\u001b[0m\n\u001b[0;32m----> 8\u001b[0;31m       \u001b[0mdata\u001b[0m\u001b[0;34m.\u001b[0m\u001b[0mextend\u001b[0m\u001b[0;34m(\u001b[0m\u001b[0mtup\u001b[0m\u001b[0;34m)\u001b[0m\u001b[0;34m\u001b[0m\u001b[0;34m\u001b[0m\u001b[0m\n\u001b[0m\u001b[1;32m      9\u001b[0m       \u001b[0mpointer\u001b[0m \u001b[0;34m+=\u001b[0m \u001b[0mlen\u001b[0m\u001b[0;34m(\u001b[0m\u001b[0mtup\u001b[0m\u001b[0;34m)\u001b[0m\u001b[0;34m\u001b[0m\u001b[0;34m\u001b[0m\u001b[0m\n\u001b[1;32m     10\u001b[0m     \u001b[0mself\u001b[0m\u001b[0;34m.\u001b[0m\u001b[0mpointers\u001b[0m \u001b[0;34m=\u001b[0m \u001b[0mpointers\u001b[0m\u001b[0;34m\u001b[0m\u001b[0;34m\u001b[0m\u001b[0m\n",
      "\u001b[0;31mTypeError\u001b[0m: an integer is required (got type tuple)"
     ]
    }
   ],
   "source": [
    "for ft in ('__levUp__', '__levDown__', '__boundary__', '__sections__'):\n",
    "  print(ft)\n",
    "  aData = ATuple(TF.features[ft].data)\n",
    "  print(f'{deepSize((aData.pointers, aData.data)):>12,}')"
   ]
  },
  {
   "cell_type": "code",
   "execution_count": 131,
   "metadata": {},
   "outputs": [],
   "source": [
    "acData = ATupTupInt(data)"
   ]
  },
  {
   "cell_type": "code",
   "execution_count": 132,
   "metadata": {},
   "outputs": [
    {
     "data": {
      "text/plain": [
       "array('I', [10, 11, 12, 13, 14])"
      ]
     },
     "execution_count": 132,
     "metadata": {},
     "output_type": "execute_result"
    }
   ],
   "source": [
    "acData.get(10)"
   ]
  },
  {
   "cell_type": "code",
   "execution_count": 133,
   "metadata": {},
   "outputs": [
    {
     "name": "stdout",
     "output_type": "stream",
     "text": [
      "  0.57s 499999500000\n"
     ]
    }
   ],
   "source": [
    "indent(reset=True)\n",
    "total = 0\n",
    "for i in range(acData.length):\n",
    "  total += acData.get(i)[0]\n",
    "info(total)"
   ]
  },
  {
   "cell_type": "code",
   "execution_count": 134,
   "metadata": {},
   "outputs": [
    {
     "name": "stdout",
     "output_type": "stream",
     "text": [
      "  0.37s 499999500000\n"
     ]
    }
   ],
   "source": [
    "indent(reset=True)\n",
    "total = 0\n",
    "for x in acData.elem():\n",
    "  total += x[0]\n",
    "info(total)"
   ]
  },
  {
   "cell_type": "code",
   "execution_count": 135,
   "metadata": {},
   "outputs": [
    {
     "name": "stdout",
     "output_type": "stream",
     "text": [
      "  0.38s 499999500000\n"
     ]
    }
   ],
   "source": [
    "indent(reset=True)\n",
    "total = 0\n",
    "for x in acData.elem2():\n",
    "  total += x[0]\n",
    "info(total)"
   ]
  },
  {
   "cell_type": "code",
   "execution_count": null,
   "metadata": {},
   "outputs": [],
   "source": []
  }
 ],
 "metadata": {
  "kernelspec": {
   "display_name": "Python 3",
   "language": "python",
   "name": "python3"
  },
  "language_info": {
   "codemirror_mode": {
    "name": "ipython",
    "version": 3
   },
   "file_extension": ".py",
   "mimetype": "text/x-python",
   "name": "python",
   "nbconvert_exporter": "python",
   "pygments_lexer": "ipython3",
   "version": "3.7.2"
  }
 },
 "nbformat": 4,
 "nbformat_minor": 2
}
