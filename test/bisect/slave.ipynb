{
 "cells": [
  {
   "cell_type": "code",
   "execution_count": 1,
   "metadata": {},
   "outputs": [],
   "source": [
    "from multiprocessing import shared_memory\n",
    "from bisect import bisect_left\n",
    "from timeit import timeit\n",
    "from pack import deepSize"
   ]
  },
  {
   "cell_type": "code",
   "execution_count": 2,
   "metadata": {},
   "outputs": [],
   "source": [
    "indices = shared_memory.ShareableList(name=\"inds\")\n",
    "values = shared_memory.ShareableList(name=\"vals\")"
   ]
  },
  {
   "cell_type": "code",
   "execution_count": 3,
   "metadata": {},
   "outputs": [
    {
     "name": "stdout",
     "output_type": "stream",
     "text": [
      "48\n",
      "48\n"
     ]
    }
   ],
   "source": [
    "print(deepSize(indices))\n",
    "print(deepSize(values))"
   ]
  },
  {
   "cell_type": "code",
   "execution_count": 4,
   "metadata": {},
   "outputs": [
    {
     "data": {
      "text/plain": [
       "740"
      ]
     },
     "execution_count": 4,
     "metadata": {},
     "output_type": "execute_result"
    }
   ],
   "source": [
    "indices[0]"
   ]
  },
  {
   "cell_type": "code",
   "execution_count": 5,
   "metadata": {},
   "outputs": [
    {
     "data": {
      "text/plain": [
       "'pers'"
      ]
     },
     "execution_count": 5,
     "metadata": {},
     "output_type": "execute_result"
    }
   ],
   "source": [
    "values[0]"
   ]
  },
  {
   "cell_type": "code",
   "execution_count": 6,
   "metadata": {},
   "outputs": [
    {
     "data": {
      "text/plain": [
       "(0.9822451649999948, 0.9091109529999954)"
      ]
     },
     "execution_count": 6,
     "metadata": {},
     "output_type": "execute_result"
    }
   ],
   "source": [
    "def testPerformanceBs():\n",
    "    times = 100\n",
    "    inds = indices\n",
    "    vals = values\n",
    "    \n",
    "    def v(i):\n",
    "        j = bisect_left(inds, i)\n",
    "        k = inds[j]\n",
    "        return vals[j] if k == i else None\n",
    "    \n",
    "    def w():\n",
    "        for i in range(700, 1700):\n",
    "            x = v(i)\n",
    "            \n",
    "    key = 740\n",
    "    t1 = timeit(\"v(key)\", globals=locals(), number=times)\n",
    "    key = 739\n",
    "    t2 = timeit(\"v(key)\", globals=locals(), number=times)\n",
    "    # t3 = timeit(\"w()\", globals=locals(), number=1)\n",
    "    return (t1, t2)\n",
    "    # return (t1, t2, t3)\n",
    "\n",
    "testPerformanceBs()"
   ]
  },
  {
   "cell_type": "markdown",
   "metadata": {},
   "source": [
    "Roughly 20,000 times as slow as on the master."
   ]
  },
  {
   "cell_type": "code",
   "execution_count": null,
   "metadata": {},
   "outputs": [],
   "source": []
  }
 ],
 "metadata": {
  "kernelspec": {
   "display_name": "Python 3",
   "language": "python",
   "name": "python3"
  },
  "language_info": {
   "codemirror_mode": {
    "name": "ipython",
    "version": 3
   },
   "file_extension": ".py",
   "mimetype": "text/x-python",
   "name": "python",
   "nbconvert_exporter": "python",
   "pygments_lexer": "ipython3",
   "version": "3.8.3"
  }
 },
 "nbformat": 4,
 "nbformat_minor": 4
}
