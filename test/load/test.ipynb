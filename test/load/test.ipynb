{
 "cells": [
  {
   "cell_type": "code",
   "execution_count": 1,
   "metadata": {},
   "outputs": [],
   "source": [
    "%load_ext autoreload\n",
    "%autoreload 2"
   ]
  },
  {
   "cell_type": "code",
   "execution_count": 2,
   "metadata": {},
   "outputs": [],
   "source": [
    "from tf.applib.repo import RepoData, getData"
   ]
  },
  {
   "cell_type": "code",
   "execution_count": 3,
   "metadata": {},
   "outputs": [],
   "source": [
    "ORG = 'annotation'\n",
    "REPO = 'tutorials'\n",
    "RELATIVE = 'text-fabric/examples/banks/tf'"
   ]
  },
  {
   "cell_type": "code",
   "execution_count": 10,
   "metadata": {},
   "outputs": [
    {
     "name": "stdout",
     "output_type": "stream",
     "text": [
      "A clone\n",
      "B clone\n",
      "C clone\n",
      "D clone\n",
      "Using data in /Users/dirk/github/annotation/tutorials/text-fabric/examples/banks/tf:\n",
      "\tunknown release or commit offline under ~/github\n"
     ]
    },
    {
     "data": {
      "text/plain": [
       "(None, None, 'clone', '/Users/dirk/github')"
      ]
     },
     "execution_count": 10,
     "metadata": {},
     "output_type": "execute_result"
    }
   ],
   "source": [
    "getData(ORG, REPO, RELATIVE, '', 'clone')"
   ]
  },
  {
   "cell_type": "code",
   "execution_count": 16,
   "metadata": {},
   "outputs": [
    {
     "name": "stderr",
     "output_type": "stream",
     "text": [
      "The requested data is not available offline\n"
     ]
    },
    {
     "data": {
      "text/plain": [
       "(None, None, False, False)"
      ]
     },
     "execution_count": 16,
     "metadata": {},
     "output_type": "execute_result"
    }
   ],
   "source": [
    "getData(ORG, REPO, RELATIVE, '', 'local')"
   ]
  },
  {
   "cell_type": "code",
   "execution_count": 22,
   "metadata": {},
   "outputs": [
    {
     "name": "stderr",
     "output_type": "stream",
     "text": [
      "\tno releases\n"
     ]
    },
    {
     "name": "stdout",
     "output_type": "stream",
     "text": [
      "The requested data is not available offline\n"
     ]
    },
    {
     "name": "stderr",
     "output_type": "stream",
     "text": [
      "The requested data is not available online\n"
     ]
    },
    {
     "data": {
      "text/plain": [
       "(None, None, False, False)"
      ]
     },
     "execution_count": 22,
     "metadata": {},
     "output_type": "execute_result"
    }
   ],
   "source": [
    "getData(ORG, REPO, RELATIVE, '', 'latest')"
   ]
  },
  {
   "cell_type": "code",
   "execution_count": 27,
   "metadata": {},
   "outputs": [
    {
     "name": "stdout",
     "output_type": "stream",
     "text": [
      "The requested data is not available offline\n",
      "\ttext-fabric/examples/banks/tf/author.tf...\n",
      "/Users/dirk/text-fabric-data/annotation/tutorials ==== text-fabric/examples/banks/tf/author.tf\n",
      "downloaded\n",
      "\ttext-fabric/examples/banks/tf/gap.tf...\n",
      "/Users/dirk/text-fabric-data/annotation/tutorials ==== text-fabric/examples/banks/tf/gap.tf\n",
      "downloaded\n",
      "\ttext-fabric/examples/banks/tf/letters.tf...\n",
      "/Users/dirk/text-fabric-data/annotation/tutorials ==== text-fabric/examples/banks/tf/letters.tf\n",
      "downloaded\n",
      "\ttext-fabric/examples/banks/tf/number.tf...\n",
      "/Users/dirk/text-fabric-data/annotation/tutorials ==== text-fabric/examples/banks/tf/number.tf\n",
      "downloaded\n",
      "\ttext-fabric/examples/banks/tf/oslots.tf...\n",
      "/Users/dirk/text-fabric-data/annotation/tutorials ==== text-fabric/examples/banks/tf/oslots.tf\n",
      "downloaded\n",
      "\ttext-fabric/examples/banks/tf/otext.tf...\n",
      "/Users/dirk/text-fabric-data/annotation/tutorials ==== text-fabric/examples/banks/tf/otext.tf\n",
      "downloaded\n",
      "\ttext-fabric/examples/banks/tf/otype.tf...\n",
      "/Users/dirk/text-fabric-data/annotation/tutorials ==== text-fabric/examples/banks/tf/otype.tf\n",
      "downloaded\n",
      "\ttext-fabric/examples/banks/tf/punc.tf...\n",
      "/Users/dirk/text-fabric-data/annotation/tutorials ==== text-fabric/examples/banks/tf/punc.tf\n",
      "downloaded\n",
      "\ttext-fabric/examples/banks/tf/terminator.tf...\n",
      "/Users/dirk/text-fabric-data/annotation/tutorials ==== text-fabric/examples/banks/tf/terminator.tf\n",
      "downloaded\n",
      "\ttext-fabric/examples/banks/tf/title.tf...\n",
      "/Users/dirk/text-fabric-data/annotation/tutorials ==== text-fabric/examples/banks/tf/title.tf\n",
      "downloaded\n",
      "\tOK\n"
     ]
    },
    {
     "data": {
      "text/plain": [
       "(None, None, False, False)"
      ]
     },
     "execution_count": 27,
     "metadata": {},
     "output_type": "execute_result"
    }
   ],
   "source": [
    "getData(ORG, REPO, RELATIVE, '', 'hot')"
   ]
  },
  {
   "cell_type": "code",
   "execution_count": null,
   "metadata": {},
   "outputs": [],
   "source": []
  }
 ],
 "metadata": {
  "kernelspec": {
   "display_name": "Python 3",
   "language": "python",
   "name": "python3"
  },
  "language_info": {
   "codemirror_mode": {
    "name": "ipython",
    "version": 3
   },
   "file_extension": ".py",
   "mimetype": "text/x-python",
   "name": "python",
   "nbconvert_exporter": "python",
   "pygments_lexer": "ipython3",
   "version": "3.7.2"
  }
 },
 "nbformat": 4,
 "nbformat_minor": 2
}
