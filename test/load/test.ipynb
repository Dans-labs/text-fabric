{
 "cells": [
  {
   "cell_type": "code",
   "execution_count": 1,
   "metadata": {},
   "outputs": [],
   "source": [
    "%load_ext autoreload\n",
    "%autoreload 2"
   ]
  },
  {
   "cell_type": "code",
   "execution_count": 2,
   "metadata": {},
   "outputs": [],
   "source": [
    "import os\n",
    "from tf.applib.repo import Checkout, syncData"
   ]
  },
  {
   "cell_type": "code",
   "execution_count": 3,
   "metadata": {},
   "outputs": [],
   "source": [
    "ORG = 'annotation'\n",
    "REPO = 'tutorials'\n",
    "RELATIVE = 'text-fabric/examples/banks/tf'"
   ]
  },
  {
   "cell_type": "code",
   "execution_count": 4,
   "metadata": {},
   "outputs": [
    {
     "name": "stdout",
     "output_type": "stream",
     "text": [
      "Using data in /Users/dirk/github/annotation/tutorials/text-fabric/examples/banks/tf:\n",
      "\tunknown release or commit offline under ~/github (local github - without online check)\n"
     ]
    },
    {
     "data": {
      "text/plain": [
       "(None, None, 'clone', '/Users/dirk/github')"
      ]
     },
     "execution_count": 4,
     "metadata": {},
     "output_type": "execute_result"
    }
   ],
   "source": [
    "syncData(ORG, REPO, RELATIVE, '', 'clone')"
   ]
  },
  {
   "cell_type": "code",
   "execution_count": 7,
   "metadata": {},
   "outputs": [
    {
     "name": "stdout",
     "output_type": "stream",
     "text": [
      "Using data in /Users/dirk/text-fabric-data/annotation/tutorials/text-fabric/examples/banks/tf:\n",
      "\trv1.0=#9a66aa2351c07de9163f86294be3f47d792ffd24 offline under ~/text-fabric-data (local - without online check)\n"
     ]
    },
    {
     "data": {
      "text/plain": [
       "('9a66aa2351c07de9163f86294be3f47d792ffd24',\n",
       " 'v1.0',\n",
       " 'local',\n",
       " '/Users/dirk/text-fabric-data')"
      ]
     },
     "execution_count": 7,
     "metadata": {},
     "output_type": "execute_result"
    }
   ],
   "source": [
    "syncData(ORG, REPO, RELATIVE, '', 'local')"
   ]
  },
  {
   "cell_type": "code",
   "execution_count": 8,
   "metadata": {},
   "outputs": [
    {
     "name": "stdout",
     "output_type": "stream",
     "text": [
      "GH 187884f63b7e3a6a5058 25bf1803269cf40cb4626a5d92be3a1e38e93a97\n",
      "Using data in /Users/dirk/text-fabric-data/annotation/tutorials/text-fabric/examples/banks/tf:\n",
      "\trv1.0=#9a66aa2351c07de9163f86294be3f47d792ffd24 (latest release)\n"
     ]
    },
    {
     "data": {
      "text/plain": [
       "('9a66aa2351c07de9163f86294be3f47d792ffd24',\n",
       " 'v1.0',\n",
       " None,\n",
       " '/Users/dirk/text-fabric-data')"
      ]
     },
     "execution_count": 8,
     "metadata": {},
     "output_type": "execute_result"
    }
   ],
   "source": [
    "syncData(ORG, REPO, RELATIVE, '', '')"
   ]
  },
  {
   "cell_type": "code",
   "execution_count": 9,
   "metadata": {},
   "outputs": [
    {
     "name": "stdout",
     "output_type": "stream",
     "text": [
      "GH 187884f63b7e3a6a5058 25bf1803269cf40cb4626a5d92be3a1e38e93a97\n",
      "Using data in /Users/dirk/text-fabric-data/annotation/tutorials/text-fabric/examples/banks/tf:\n",
      "\trv1.0=#9a66aa2351c07de9163f86294be3f47d792ffd24 (latest release)\n"
     ]
    },
    {
     "data": {
      "text/plain": [
       "('9a66aa2351c07de9163f86294be3f47d792ffd24',\n",
       " 'v1.0',\n",
       " None,\n",
       " '/Users/dirk/text-fabric-data')"
      ]
     },
     "execution_count": 9,
     "metadata": {},
     "output_type": "execute_result"
    }
   ],
   "source": [
    "syncData(ORG, REPO, RELATIVE, '', 'latest')"
   ]
  },
  {
   "cell_type": "code",
   "execution_count": 11,
   "metadata": {},
   "outputs": [
    {
     "name": "stdout",
     "output_type": "stream",
     "text": [
      "GH 187884f63b7e3a6a5058 25bf1803269cf40cb4626a5d92be3a1e38e93a97\n",
      "Using data in /Users/dirk/text-fabric-data/annotation/tutorials/text-fabric/examples/banks/tf:\n",
      "\t#6098326e7800b056fcdf1643b45d54273dc72d3c (latest commit)\n"
     ]
    },
    {
     "data": {
      "text/plain": [
       "('6098326e7800b056fcdf1643b45d54273dc72d3c',\n",
       " None,\n",
       " None,\n",
       " '/Users/dirk/text-fabric-data')"
      ]
     },
     "execution_count": 11,
     "metadata": {},
     "output_type": "execute_result"
    }
   ],
   "source": [
    "syncData(ORG, REPO, RELATIVE, '', 'hot')"
   ]
  },
  {
   "cell_type": "code",
   "execution_count": null,
   "metadata": {},
   "outputs": [],
   "source": []
  }
 ],
 "metadata": {
  "kernelspec": {
   "display_name": "Python 3",
   "language": "python",
   "name": "python3"
  },
  "language_info": {
   "codemirror_mode": {
    "name": "ipython",
    "version": 3
   },
   "file_extension": ".py",
   "mimetype": "text/x-python",
   "name": "python",
   "nbconvert_exporter": "python",
   "pygments_lexer": "ipython3",
   "version": "3.7.2"
  }
 },
 "nbformat": 4,
 "nbformat_minor": 2
}
