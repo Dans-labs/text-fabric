{
 "cells": [
  {
   "cell_type": "code",
   "execution_count": 1,
   "metadata": {},
   "outputs": [],
   "source": [
    "%load_ext autoreload\n",
    "%autoreload 2"
   ]
  },
  {
   "cell_type": "code",
   "execution_count": 2,
   "metadata": {},
   "outputs": [],
   "source": [
    "import os\n",
    "from tf.applib.repo import Checkout, checkoutRepo"
   ]
  },
  {
   "cell_type": "code",
   "execution_count": 3,
   "metadata": {},
   "outputs": [],
   "source": [
    "ORG = 'annotation'\n",
    "REPO = 'tutorials'\n",
    "RELATIVE = 'text-fabric/examples/banks/tf'"
   ]
  },
  {
   "cell_type": "code",
   "execution_count": 4,
   "metadata": {},
   "outputs": [
    {
     "name": "stdout",
     "output_type": "stream",
     "text": [
      "Using data in /Users/dirk/github/annotation/tutorials/text-fabric/examples/banks/tf/0.1:\n",
      "\tunknown release or commit offline under ~/github (local github - without online check)\n"
     ]
    },
    {
     "data": {
      "text/plain": [
       "(None,\n",
       " None,\n",
       " 'clone',\n",
       " '/Users/dirk/github',\n",
       " 'annotation/tutorials/text-fabric/examples/banks/tf')"
      ]
     },
     "execution_count": 4,
     "metadata": {},
     "output_type": "execute_result"
    }
   ],
   "source": [
    "checkoutRepo(org=ORG, repo=REPO, folder=RELATIVE, version='0.1', checkout='clone')"
   ]
  },
  {
   "cell_type": "code",
   "execution_count": 5,
   "metadata": {},
   "outputs": [
    {
     "name": "stdout",
     "output_type": "stream",
     "text": [
      "Using data in /Users/dirk/text-fabric-data/annotation/tutorials/text-fabric/examples/banks/tf/0.1:\n",
      "\t#5bb4ecbc287ad8637153321c8783beb3343521f8 offline under ~/text-fabric-data (local - without online check)\n"
     ]
    },
    {
     "data": {
      "text/plain": [
       "('5bb4ecbc287ad8637153321c8783beb3343521f8',\n",
       " None,\n",
       " 'local',\n",
       " '/Users/dirk/text-fabric-data',\n",
       " 'annotation/tutorials/text-fabric/examples/banks/tf')"
      ]
     },
     "execution_count": 5,
     "metadata": {},
     "output_type": "execute_result"
    }
   ],
   "source": [
    "checkoutRepo(org=ORG, repo=REPO, folder=RELATIVE, version='0.1', checkout='local')"
   ]
  },
  {
   "cell_type": "code",
   "execution_count": 8,
   "metadata": {},
   "outputs": [
    {
     "name": "stdout",
     "output_type": "stream",
     "text": [
      "Using data in /Users/dirk/text-fabric-data/annotation/tutorials/text-fabric/examples/banks/tf/0.1:\n",
      "\t#5bb4ecbc287ad8637153321c8783beb3343521f8 (latest commit)\n"
     ]
    },
    {
     "data": {
      "text/plain": [
       "('5bb4ecbc287ad8637153321c8783beb3343521f8',\n",
       " None,\n",
       " None,\n",
       " '/Users/dirk/text-fabric-data',\n",
       " 'annotation/tutorials/text-fabric/examples/banks/tf')"
      ]
     },
     "execution_count": 8,
     "metadata": {},
     "output_type": "execute_result"
    }
   ],
   "source": [
    "checkoutRepo(org=ORG, repo=REPO, folder=RELATIVE, version='0.1', checkout='')"
   ]
  },
  {
   "cell_type": "code",
   "execution_count": 11,
   "metadata": {},
   "outputs": [
    {
     "name": "stdout",
     "output_type": "stream",
     "text": [
      "The requested data is not available offline\n",
      "No directory text-fabric/examples/banks/tf/0.1 in #9a66aa2351c07de9163f86294be3f47d792ffd24\n",
      "404 {'message': 'Not Found', 'documentation_url': 'https://developer.github.com/v3/repos/contents/#get-contents'}\n",
      "\tDone. There were errors\n"
     ]
    },
    {
     "data": {
      "text/plain": [
       "(None, None, False, False, None)"
      ]
     },
     "execution_count": 11,
     "metadata": {},
     "output_type": "execute_result"
    }
   ],
   "source": [
    "checkoutRepo(org=ORG, repo=REPO, folder=RELATIVE, version='0.1', checkout='latest')"
   ]
  },
  {
   "cell_type": "code",
   "execution_count": 12,
   "metadata": {},
   "outputs": [
    {
     "name": "stdout",
     "output_type": "stream",
     "text": [
      "Using data in /Users/dirk/text-fabric-data/annotation/tutorials/text-fabric/examples/banks/tf/0.1:\n",
      "\t#5bb4ecbc287ad8637153321c8783beb3343521f8 (latest commit)\n"
     ]
    },
    {
     "data": {
      "text/plain": [
       "('5bb4ecbc287ad8637153321c8783beb3343521f8',\n",
       " None,\n",
       " None,\n",
       " '/Users/dirk/text-fabric-data',\n",
       " 'annotation/tutorials/text-fabric/examples/banks/tf')"
      ]
     },
     "execution_count": 12,
     "metadata": {},
     "output_type": "execute_result"
    }
   ],
   "source": [
    "checkoutRepo(org=ORG, repo=REPO, folder=RELATIVE, version='0.1', checkout='hot')"
   ]
  },
  {
   "cell_type": "code",
   "execution_count": null,
   "metadata": {},
   "outputs": [],
   "source": []
  }
 ],
 "metadata": {
  "kernelspec": {
   "display_name": "Python 3",
   "language": "python",
   "name": "python3"
  },
  "language_info": {
   "codemirror_mode": {
    "name": "ipython",
    "version": 3
   },
   "file_extension": ".py",
   "mimetype": "text/x-python",
   "name": "python",
   "nbconvert_exporter": "python",
   "pygments_lexer": "ipython3",
   "version": "3.7.2"
  }
 },
 "nbformat": 4,
 "nbformat_minor": 2
}
