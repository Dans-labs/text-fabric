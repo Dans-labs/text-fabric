{
 "cells": [
  {
   "cell_type": "code",
   "execution_count": 1,
   "metadata": {},
   "outputs": [],
   "source": [
    "%load_ext autoreload\n",
    "%autoreload 2"
   ]
  },
  {
   "cell_type": "code",
   "execution_count": 2,
   "metadata": {
    "ExecuteTime": {
     "end_time": "2018-05-18T09:17:16.202764Z",
     "start_time": "2018-05-18T09:17:16.197546Z"
    }
   },
   "outputs": [],
   "source": [
    "import sys, os, collections\n",
    "from IPython.display import HTML"
   ]
  },
  {
   "cell_type": "code",
   "execution_count": 3,
   "metadata": {
    "ExecuteTime": {
     "end_time": "2018-05-18T09:17:17.537171Z",
     "start_time": "2018-05-18T09:17:17.517809Z"
    }
   },
   "outputs": [],
   "source": [
    "from tf.fabric import Fabric\n",
    "from tf.extra.bhsa import Bhsa"
   ]
  },
  {
   "cell_type": "code",
   "execution_count": 4,
   "metadata": {
    "ExecuteTime": {
     "end_time": "2018-05-18T09:17:19.878701Z",
     "start_time": "2018-05-18T09:17:19.859972Z"
    }
   },
   "outputs": [
    {
     "name": "stdout",
     "output_type": "stream",
     "text": [
      "This is Text-Fabric 4.4.0\n",
      "Api reference : https://dans-labs.github.io/text-fabric/Api/General/\n",
      "Tutorial      : https://github.com/Dans-labs/text-fabric/blob/master/docs/tutorial.ipynb\n",
      "Example data  : https://github.com/Dans-labs/text-fabric-data\n",
      "\n",
      "119 features found and 0 ignored\n"
     ]
    }
   ],
   "source": [
    "VERSION = '2017'\n",
    "DATABASE = '~/github/etcbc'\n",
    "BHSA = f'{DATABASE}/bhsa/tf/{VERSION}'\n",
    "PHONO = f'{DATABASE}/phono/tf/{VERSION}'\n",
    "TEST = '.'\n",
    "TF = Fabric(locations=[BHSA, PHONO, TEST], silent=False )"
   ]
  },
  {
   "cell_type": "code",
   "execution_count": 5,
   "metadata": {
    "ExecuteTime": {
     "end_time": "2018-05-18T09:17:31.204738Z",
     "start_time": "2018-05-18T09:17:25.793730Z"
    },
    "scrolled": true
   },
   "outputs": [
    {
     "name": "stdout",
     "output_type": "stream",
     "text": [
      "  0.00s loading features ...\n",
      "   |     0.00s B test                 from /Users/dirk/github/Dans-labs/text-fabric\n",
      "  4.98s All features loaded/computed - for details use loadLog()\n"
     ]
    }
   ],
   "source": [
    "api = TF.load('''\n",
    "    test\n",
    "''')\n",
    "api.makeAvailableIn(globals())"
   ]
  },
  {
   "cell_type": "code",
   "execution_count": null,
   "metadata": {
    "ExecuteTime": {
     "end_time": "2018-05-18T09:17:35.677198Z",
     "start_time": "2018-05-18T09:17:34.694968Z"
    }
   },
   "outputs": [],
   "source": [
    "B = Bhsa(api, 'start', version=VERSION)"
   ]
  },
  {
   "cell_type": "markdown",
   "metadata": {},
   "source": [
    "Here is a test feature with values with dangerous characters in it."
   ]
  },
  {
   "cell_type": "code",
   "execution_count": 18,
   "metadata": {},
   "outputs": [
    {
     "name": "stdout",
     "output_type": "stream",
     "text": [
      " 1 = 1.003001005|1.003001009\n",
      " 2 = 1a003001005|1a003001009\n",
      " 3 = 1.003001005b1.003001009\n",
      " 4 = 1a003001005b1a003001009\n",
      " 5 = 1.003001005\n",
      " 6 = 1.003001009\n",
      " 7 = 2.003001005\n",
      " 8 = 2.003001009\n",
      " 9 = 1c003001005\n",
      "10 = 1c003001009\n",
      "11 = 2c003001005\n",
      "12 = 2c003001009\n"
     ]
    }
   ],
   "source": [
    "for n in F.otype.s('word'):\n",
    "    test = F.test.v(n)\n",
    "    if test is not None:\n",
    "        print(f'{n:>2} = {F.test.v(n)}')"
   ]
  },
  {
   "cell_type": "markdown",
   "metadata": {},
   "source": [
    "Here are some queries that try to match the exact value of node 1.\n",
    "\n",
    "Query 1 succeeds, note that you just have to escape the `|` and the `.`\n",
    "\n",
    "No extra escapes of backslashes are needed.\n",
    "\n",
    "But if you do not escape them at all, the special meanings of them will be used, which\n",
    "leads to more results."
   ]
  },
  {
   "cell_type": "code",
   "execution_count": 21,
   "metadata": {},
   "outputs": [],
   "source": [
    "queries = [\n",
    "'''\n",
    "word test~1\\.003001005\\|1\\.003001009\n",
    "''', # 0\n",
    "'''\n",
    "word test~1.003001005\\|1.003001009\n",
    "''', # 1\n",
    "'''\n",
    "word test~1.003001005|1.003001009\n",
    "''', # 2\n",
    "]"
   ]
  },
  {
   "cell_type": "code",
   "execution_count": 22,
   "metadata": {},
   "outputs": [
    {
     "name": "stdout",
     "output_type": "stream",
     "text": [
      "Query0: 1 results\n",
      "\t 1 = 1.003001005|1.003001009\n",
      "Query1: 2 results\n",
      "\t 1 = 1.003001005|1.003001009\n",
      "\t 2 = 1a003001005|1a003001009\n",
      "Query2: 8 results\n",
      "\t 1 = 1.003001005|1.003001009\n",
      "\t 2 = 1a003001005|1a003001009\n",
      "\t 3 = 1.003001005b1.003001009\n",
      "\t 4 = 1a003001005b1a003001009\n",
      "\t 5 = 1.003001005\n",
      "\t 6 = 1.003001009\n",
      "\t 9 = 1c003001005\n",
      "\t10 = 1c003001009\n"
     ]
    }
   ],
   "source": [
    "for (i, query) in enumerate(queries):\n",
    "    results = sorted(S.search(query, shallow=True))\n",
    "    print(f'Query{i}: {len(results)} results')\n",
    "    for n in results:\n",
    "        print(f'\\t{n:>2} = {F.test.v(n)}')"
   ]
  },
  {
   "cell_type": "code",
   "execution_count": null,
   "metadata": {},
   "outputs": [],
   "source": []
  }
 ],
 "metadata": {
  "kernelspec": {
   "display_name": "Python 3",
   "language": "python",
   "name": "python3"
  },
  "language_info": {
   "codemirror_mode": {
    "name": "ipython",
    "version": 3
   },
   "file_extension": ".py",
   "mimetype": "text/x-python",
   "name": "python",
   "nbconvert_exporter": "python",
   "pygments_lexer": "ipython3",
   "version": "3.6.5"
  },
  "toc": {
   "base_numbering": 1,
   "nav_menu": {},
   "number_sections": true,
   "sideBar": true,
   "skip_h1_title": false,
   "title_cell": "Table of Contents",
   "title_sidebar": "Contents",
   "toc_cell": false,
   "toc_position": {},
   "toc_section_display": "block",
   "toc_window_display": false
  }
 },
 "nbformat": 4,
 "nbformat_minor": 2
}
