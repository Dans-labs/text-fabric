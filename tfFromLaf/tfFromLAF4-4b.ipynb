{
 "cells": [
  {
   "cell_type": "markdown",
   "metadata": {},
   "source": [
    "<img align=\"right\" src=\"tf-small.png\"/>\n",
    "\n",
    "# From LAF-Fabric to Text-Fabric\n",
    "\n",
    "This notebook turns the older ETCBC4 and ETCBC4B datasets from LAF-Fabric into Text-Fabric."
   ]
  },
  {
   "cell_type": "code",
   "execution_count": 21,
   "metadata": {
    "collapsed": false
   },
   "outputs": [
    {
     "name": "stdout",
     "output_type": "stream",
     "text": [
      "The autoreload extension is already loaded. To reload it, use:\n",
      "  %reload_ext autoreload\n"
     ]
    }
   ],
   "source": [
    "%load_ext autoreload\n",
    "%autoreload 2"
   ]
  },
  {
   "cell_type": "code",
   "execution_count": 22,
   "metadata": {
    "collapsed": true
   },
   "outputs": [],
   "source": [
    "import collections,sys"
   ]
  },
  {
   "cell_type": "code",
   "execution_count": 23,
   "metadata": {
    "collapsed": false
   },
   "outputs": [
    {
     "name": "stderr",
     "output_type": "stream",
     "text": [
      "  0.00s This is LAF-Fabric 4.8.3\n",
      "API reference: http://laf-fabric.readthedocs.org/en/latest/texts/API-reference.html\n",
      "Feature doc: https://shebanq.ancient-data.org/static/docs/featuredoc/texts/welcome.html\n",
      "\n"
     ]
    }
   ],
   "source": [
    "from laf.fabric import LafFabric\n",
    "from etcbc.lib import Transcription\n",
    "from etcbc.blang import booklangs, booknames\n",
    "fabric = LafFabric()"
   ]
  },
  {
   "cell_type": "markdown",
   "metadata": {},
   "source": [
    "# ETCBC4 and ETCBC4B\n",
    "\n",
    "The data of the ETCBC4 and ETCBC4B versions are complete with extra data and multilingual book names.\n",
    "\n",
    "The features differ a little bit."
   ]
  },
  {
   "cell_type": "code",
   "execution_count": 24,
   "metadata": {
    "collapsed": true
   },
   "outputs": [],
   "source": [
    "source = 'etcbc'\n",
    "version = '4b'\n",
    "ETCBC = 'hebrew/{}{}'.format(source, version)"
   ]
  },
  {
   "cell_type": "code",
   "execution_count": 25,
   "metadata": {
    "collapsed": true
   },
   "outputs": [],
   "source": [
    "nodeFeaturesList = {\n",
    "    '4': '''\n",
    "        otype\n",
    "        monads\n",
    "        book\n",
    "        chapter\n",
    "        dist\n",
    "        dist_unit\n",
    "        domain\n",
    "        entry_heb\n",
    "        entryid\n",
    "        entry\n",
    "        freq_lex\n",
    "        freq_occ\n",
    "        function\n",
    "        g_cons\n",
    "        g_cons_utf8\n",
    "        g_entry_heb\n",
    "        g_entry\n",
    "        g_lex\n",
    "        g_lex_utf8\n",
    "        g_nme\n",
    "        g_nme_utf8\n",
    "        g_pfm\n",
    "        g_pfm_utf8\n",
    "        g_prs\n",
    "        g_prs_utf8\n",
    "        g_qere_utf8\n",
    "        g_uvf\n",
    "        g_uvf_utf8\n",
    "        g_vbe\n",
    "        g_vbe_utf8\n",
    "        g_vbs\n",
    "        g_vbs_utf8\n",
    "        g_word\n",
    "        g_word_utf8\n",
    "        gloss\n",
    "        gn\n",
    "        id\n",
    "        instruction\n",
    "        is_root\n",
    "        clause_kind\n",
    "        label\n",
    "        lan\n",
    "        language\n",
    "        lex\n",
    "        lex_utf8\n",
    "        ls\n",
    "        nametype\n",
    "        mother_object_type\n",
    "        nme\n",
    "        nu\n",
    "        number\n",
    "        number_in_ch\n",
    "        pargr\n",
    "        pdp\n",
    "        pfm\n",
    "        phono_sep\n",
    "        phono\n",
    "        pos\n",
    "        prs\n",
    "        ps\n",
    "        qtrailer_utf8\n",
    "        rank_lex\n",
    "        rank_occ\n",
    "        rela\n",
    "        root\n",
    "        sp\n",
    "        st\n",
    "        subpos\n",
    "        tab\n",
    "        trailer_utf8\n",
    "        txt\n",
    "        typ\n",
    "        uvf\n",
    "        vbe\n",
    "        vbs\n",
    "        verse\n",
    "        vs\n",
    "        vt    \n",
    "    ''',\n",
    "    '4b': '''\n",
    "        otype\n",
    "        monads\n",
    "        book\n",
    "        chapter\n",
    "        dist\n",
    "        dist_unit\n",
    "        domain\n",
    "        entry_heb\n",
    "        entryid\n",
    "        entry\n",
    "        freq_lex\n",
    "        freq_occ\n",
    "        function\n",
    "        g_cons\n",
    "        g_cons_utf8\n",
    "        g_entry_heb\n",
    "        g_entry\n",
    "        g_lex\n",
    "        g_lex_utf8\n",
    "        g_nme\n",
    "        g_nme_utf8\n",
    "        g_pfm\n",
    "        g_pfm_utf8\n",
    "        g_prs\n",
    "        g_prs_utf8\n",
    "        g_qere_utf8\n",
    "        g_uvf\n",
    "        g_uvf_utf8\n",
    "        g_vbe\n",
    "        g_vbe_utf8\n",
    "        g_vbs\n",
    "        g_vbs_utf8\n",
    "        g_word\n",
    "        g_word_utf8\n",
    "        gloss\n",
    "        gn\n",
    "        id\n",
    "        instruction\n",
    "        is_root\n",
    "        kind\n",
    "        label\n",
    "        lan\n",
    "        language\n",
    "        lex\n",
    "        lex_utf8\n",
    "        ls\n",
    "        nametype\n",
    "        mother_object_type\n",
    "        nme\n",
    "        nu\n",
    "        number\n",
    "        number_in_ch\n",
    "        pargr\n",
    "        pdp\n",
    "        pfm\n",
    "        phono_sep\n",
    "        phono\n",
    "        pos\n",
    "        prs\n",
    "        ps\n",
    "        qtrailer_utf8\n",
    "        rank_lex\n",
    "        rank_occ\n",
    "        rela\n",
    "        root\n",
    "        sp\n",
    "        st\n",
    "        subpos\n",
    "        tab\n",
    "        trailer_utf8\n",
    "        txt\n",
    "        typ\n",
    "        uvf\n",
    "        vbe\n",
    "        vbs\n",
    "        verse\n",
    "        vs\n",
    "        vt    \n",
    "    '''\n",
    "}\n",
    "edgeFeaturesList = {\n",
    "    '4': '''\n",
    "        mother functional_parent distributional_parent\n",
    "    ''',\n",
    "    '4b': '''\n",
    "        mother functional_parent distributional_parent\n",
    "    '''\n",
    "}\n",
    "\n",
    "intFeatures = set('''\n",
    "    dist\n",
    "    number\n",
    "    number_in_ch\n",
    "    tab\n",
    "    chapter\n",
    "    verse\n",
    "    freq_lex\n",
    "    freq_occ\n",
    "    rank_lex\n",
    "    rank_occ\n",
    "'''.strip().split())"
   ]
  },
  {
   "cell_type": "code",
   "execution_count": 26,
   "metadata": {
    "collapsed": false
   },
   "outputs": [
    {
     "name": "stderr",
     "output_type": "stream",
     "text": [
      "  0.00s LOADING API: please wait ... \n",
      "  0.00s USING main: etcbc4b DATA COMPILED AT: 2015-11-02T15-08-56\n",
      "  0.01s USING annox: lexicon DATA COMPILED AT: 2016-07-08T14-32-54\n",
      "  0.02s USING annox: para DATA COMPILED AT: 2016-07-08T14-38-37\n",
      "    17s LOGFILE=/Users/dirk/laf/laf-fabric-output/etcbc4b/TF4b/__log__TF4b.txt\n",
      "    17s INFO: DATA LOADED FROM SOURCE etcbc4b AND ANNOX lexicon, para FOR TASK TF4b AT 2017-01-11T13-27-32\n"
     ]
    }
   ],
   "source": [
    "API = fabric.load(source+version, 'lexicon,para', 'TF'+version, {\n",
    "    \"xmlids\": {\"node\": False, \"edge\": False},\n",
    "    \"features\": (nodeFeaturesList[version], edgeFeaturesList[version]),\n",
    "    \"primary\": False,\n",
    "})\n",
    "exec(fabric.localnames.format(var='fabric'))"
   ]
  },
  {
   "cell_type": "markdown",
   "metadata": {},
   "source": [
    "# Preparations"
   ]
  },
  {
   "cell_type": "code",
   "execution_count": 27,
   "metadata": {
    "collapsed": true
   },
   "outputs": [],
   "source": [
    "nodeFeatures = {}\n",
    "edgeFeatures = {}\n",
    "metaData = {}"
   ]
  },
  {
   "cell_type": "markdown",
   "metadata": {},
   "source": [
    "## Map slot numbers\n",
    "In TF we make sure that the slots go from 1-maxSlot consecutively.\n",
    "Maybe we have to map the original LAF-Fabric monad numbers to the node numbers of the words in TF.\n",
    "Maybe there are holes in the original monad sequence.\n",
    "\n",
    "In TF the slots start at 1, and there are no holes.\n",
    "\n",
    "We create the following mappings:\n",
    "\n",
    "* `lfFromMonad`: original monad number => LAF-Fabric node number\n",
    "* `tfFromMonad`: original monad number => Text-Fabric slot number\n",
    "* `tfFromLf   `: LAF-Fabric node number => Text-Fabric node number (only for monads/slots) "
   ]
  },
  {
   "cell_type": "code",
   "execution_count": 28,
   "metadata": {
    "collapsed": false
   },
   "outputs": [],
   "source": [
    "lfFromMonad = {}\n",
    "tfFromMonad = {}\n",
    "tfFromLf = {}\n",
    "\n",
    "for w in F.otype.s('word'):\n",
    "    m = int(F.monads.v(w))\n",
    "    lfFromMonad[m] = w\n",
    "\n",
    "for (i, (m, w)) in enumerate(sorted(lfFromMonad.items())):\n",
    "    tfFromLf[w] = i+1\n",
    "    tfFromMonad[m] = i+1"
   ]
  },
  {
   "cell_type": "code",
   "execution_count": 29,
   "metadata": {
    "collapsed": false
   },
   "outputs": [],
   "source": [
    "maxLfNode = max(lfn for lfn in NN())\n",
    "maxMonadNode = max(lfFromMonad.values())\n",
    "maxMonad = max(lfn for lfn in tfFromMonad.keys())\n",
    "maxSlot = max(tfn for tfn in tfFromMonad.values())"
   ]
  },
  {
   "cell_type": "markdown",
   "metadata": {},
   "source": [
    "## Map all nodes\n",
    "\n",
    "After the last slot, the other nodes start. We map the remaining LAF-Fabric nodes to Text-Fabric nodes."
   ]
  },
  {
   "cell_type": "code",
   "execution_count": 30,
   "metadata": {
    "collapsed": false
   },
   "outputs": [],
   "source": [
    "tfn = maxSlot\n",
    "for lfn in range(maxMonadNode+1, maxLfNode+1):\n",
    "    tfn += 1\n",
    "    tfFromLf[lfn] = tfn\n",
    "maxNode = tfn"
   ]
  },
  {
   "cell_type": "markdown",
   "metadata": {},
   "source": [
    "I suspect that the LF monads correspond 1-1-identical to the TF slots,\n",
    "and the TF nodes are all 1 higher than the LF nodes.\n",
    "Let us check that."
   ]
  },
  {
   "cell_type": "code",
   "execution_count": 31,
   "metadata": {
    "collapsed": false
   },
   "outputs": [
    {
     "name": "stdout",
     "output_type": "stream",
     "text": [
      "True\n"
     ]
    }
   ],
   "source": [
    "good = True\n",
    "for ln in tfFromLf:\n",
    "    if ln+1 != tfFromLf[ln]:\n",
    "        good = False\n",
    "for m in tfFromMonad:\n",
    "    if m != tfFromMonad[m]:\n",
    "        good = False\n",
    "print(good)"
   ]
  },
  {
   "cell_type": "markdown",
   "metadata": {},
   "source": [
    "## Final correspondence between LF and TF\n",
    "With this out of the way, we can make simple mappings between monads, LF nodes, slots and TF nodes.\n",
    "We free up some memory and define some simple mapping functions.\n",
    "These mapping functions must be used to translate LF nodes/monads into TF nodes/slots.\n",
    "\n",
    "Remember that the following are already defined:\n",
    "\n",
    "* `maxMonad` : maximum monad in LF\n",
    "* `maxSlot`  : maximum slot in TF\n",
    "* `maxLfNode`: maximum node in LF\n",
    "* `maxNode`  : maximum node in TF"
   ]
  },
  {
   "cell_type": "code",
   "execution_count": 32,
   "metadata": {
    "collapsed": false
   },
   "outputs": [
    {
     "name": "stdout",
     "output_type": "stream",
     "text": [
      "\n",
      "LAF-Fabric:\n",
      "  maxMonad     =  426568\n",
      "  maxMonadNode =  426567\n",
      "  maxLfNode    = 1436857\n",
      "Text-Fabric\n",
      "  maxSlot      =  426568\n",
      "  maxNode      = 1436858\n",
      "\n"
     ]
    }
   ],
   "source": [
    "lfFromMonad = None\n",
    "tfFromMonad = None\n",
    "tfFromLf = None\n",
    "\n",
    "tFm = lambda x: x\n",
    "tFn = lambda x: x+1\n",
    "\n",
    "def tFms(monadList): return set(monadList)\n",
    "def tFns(lfNodeList): return {n+1 for n in lfNodeList}\n",
    "\n",
    "print('''\n",
    "LAF-Fabric:\n",
    "  {:<12} = {:>7}\n",
    "  {:<12} = {:>7}\n",
    "  {:<12} = {:>7}\n",
    "Text-Fabric\n",
    "  {:<12} = {:>7}\n",
    "  {:<12} = {:>7}\n",
    "'''.format(\n",
    "    'maxMonad', maxMonad,\n",
    "    'maxMonadNode', maxMonadNode,\n",
    "    'maxLfNode', maxLfNode, \n",
    "    'maxSlot', maxSlot, \n",
    "    'maxNode', maxNode,\n",
    "))"
   ]
  },
  {
   "cell_type": "markdown",
   "metadata": {},
   "source": [
    "## oslots\n",
    "\n",
    "Here is code to write the oslots edge information in a compact text file."
   ]
  },
  {
   "cell_type": "code",
   "execution_count": 33,
   "metadata": {
    "collapsed": true
   },
   "outputs": [],
   "source": [
    "from tf.helpers import *"
   ]
  },
  {
   "cell_type": "code",
   "execution_count": 34,
   "metadata": {
    "collapsed": false
   },
   "outputs": [
    {
     "name": "stderr",
     "output_type": "stream",
     "text": [
      " 2m 01s END\n"
     ]
    }
   ],
   "source": [
    "oslotsData = {}\n",
    "\n",
    "for n in range(maxMonadNode+1, maxLfNode+1):\n",
    "    oslotsData[tFn(n)] = tFms(setFromSpec(F.monads.v(n)))"
   ]
  },
  {
   "cell_type": "markdown",
   "metadata": {
    "collapsed": true
   },
   "source": [
    "# Additional data\n",
    "\n",
    "## Book names international\n",
    "\n",
    "For each language in which book names have been translated, we add a feature `book_ll` where \n",
    "`ll` is the two letter language code.\n",
    "The feature gives for each book node the name of that book in that language."
   ]
  },
  {
   "cell_type": "code",
   "execution_count": 35,
   "metadata": {
    "collapsed": false
   },
   "outputs": [
    {
     "name": "stdout",
     "output_type": "stream",
     "text": [
      "26 book name languages\n"
     ]
    }
   ],
   "source": [
    "langs = booklangs['Hebrew']\n",
    "names = booknames['Hebrew']\n",
    "books = [b for b in F.otype.s('book')]\n",
    "bookIndex = dict(((b,i) for (i,b) in enumerate(books)))\n",
    "\n",
    "textConfig = {\n",
    "    'sectionTypes':              'book,chapter,verse',\n",
    "    'sectionFeatures':           'book,chapter,verse',\n",
    "    'fmt:text-orig-full':        '{g_qere_utf8/g_word_utf8}{qtrailer_utf8/trailer_utf8}',\n",
    "    'fmt:text-orig-full-ketiv':  '{g_word_utf8}{trailer_utf8}',\n",
    "    'fmt:text-orig-plain':       '{g_cons_utf8}{trailer_utf8}',\n",
    "    'fmt:text-trans-full':       '{g_word} ',\n",
    "    'fmt:text-trans-full-ketiv': '{g_word} ',\n",
    "    'fmt:text-trans-plain':      '{g_cons} ',\n",
    "    'fmt:lex-orig-full':         '{g_lex_utf8} ',\n",
    "    'fmt:lex-orig-plain':        '{lex_utf8} ',\n",
    "    'fmt:lex-trans-full':        '{g_lex} ',\n",
    "    'fmt:lex-trans-plain':       '{lex0} ',\n",
    "}\n",
    "\n",
    "metaData.update(dict(otext=textConfig))\n",
    "\n",
    "for (code, (langEng, langOwn)) in sorted(booklangs['Hebrew'].items()):\n",
    "    fName = 'book@{}'.format(code)\n",
    "    metaData[fName] = dict(\n",
    "        valueType = 'str',\n",
    "        source='blang.py in LAF-Fabric',\n",
    "        languageCode=code,\n",
    "        languageEnglish=langEng,\n",
    "        language=langOwn\n",
    "    )\n",
    "    nodeFeatures[fName] = dict(((tFn(b), names[code][bookIndex[b]]) for b in books))\n",
    "print('{} book name languages'.format(len(nodeFeatures)))"
   ]
  },
  {
   "cell_type": "markdown",
   "metadata": {},
   "source": [
    "# All node and edge features"
   ]
  },
  {
   "cell_type": "code",
   "execution_count": 36,
   "metadata": {
    "collapsed": false
   },
   "outputs": [],
   "source": [
    "metaData.update({'': dict(source='ETCBC{} via LAF-Fabric'.format(version))})\n",
    "for nf in nodeFeaturesList[version].strip().split():\n",
    "    metaData.setdefault(nf, {})['valueType'] = 'int' if nf in intFeatures else 'str'\n",
    "\n",
    "metaData.setdefault('oslots', {})['valueType'] = 'str'\n",
    "for ef in edgeFeaturesList[version].strip().split():\n",
    "    metaData.setdefault(ef, {})['valueType'] = 'str'\n",
    "    \n",
    "for nf in nodeFeaturesList[version].strip().split():\n",
    "    nodeFeatures[nf] = dict(((tFn(n), v) for (n,v) in F.item[nf].lookup.items()))\n",
    "\n",
    "edgeFeatures['oslots'] = oslotsData\n",
    "for ef in edgeFeaturesList[version].strip().split():    \n",
    "    edgeFeatures[ef] = dict(((tFn(n), tFns(set(nDict.keys()))) for (n, nDict) in C.item[ef].lookup.items()))"
   ]
  },
  {
   "cell_type": "markdown",
   "metadata": {},
   "source": [
    "## Last minute changes\n",
    "Some features that come from the ETCBC core have obvious defects, or we need a feature next to it that is just a little bit different. This is what we do\n",
    "\n",
    "1. `lex` contains the lexeme (in transcription) with disambiguation marks (`[/=`) appended.\n",
    "   For text transformations we prefer the bare lexeme\n",
    "1. `language` has values `Hebrew` and `Aramaic`. We prefer ISO language codes: `hbo` and `arc` instead.\n",
    "   By adding `language` for lexeme nodes we already have switched to ISO codes. Here we do the rest."
   ]
  },
  {
   "cell_type": "code",
   "execution_count": 37,
   "metadata": {
    "collapsed": false
   },
   "outputs": [],
   "source": [
    "lang_map = {\n",
    "    'Hebrew': 'hbo',\n",
    "    'Aramaic': 'arc',\n",
    "}\n",
    "\n",
    "nodeFeatures['lex0'] = {}\n",
    "\n",
    "nfl = nodeFeatures['lex0']\n",
    "lnf = nodeFeatures['language']\n",
    "\n",
    "for (n, v) in nodeFeatures['lex'].items():\n",
    "    vv = v.rstrip('[/=')\n",
    "    nfl[n] = vv\n",
    "\n",
    "for (n, v) in F.language.lookup.items():\n",
    "    lnf[tFn(n)] = lang_map[v]\n",
    "\n",
    "metaData.setdefault('lex0', {})['valueType'] = 'str'\n",
    "metaData.setdefault('language', {})['valueType'] = 'str'"
   ]
  },
  {
   "cell_type": "markdown",
   "metadata": {},
   "source": [
    "# Save everything"
   ]
  },
  {
   "cell_type": "code",
   "execution_count": 38,
   "metadata": {
    "collapsed": false
   },
   "outputs": [],
   "source": [
    "from tf.fabric import Fabric"
   ]
  },
  {
   "cell_type": "code",
   "execution_count": 39,
   "metadata": {
    "collapsed": false
   },
   "outputs": [
    {
     "name": "stdout",
     "output_type": "stream",
     "text": [
      "This is Text-Fabric 2.2.1\n",
      "Api reference : https://github.com/ETCBC/text-fabric/wiki/Api\n",
      "Tutorial      : https://github.com/ETCBC/text-fabric/blob/master/docs/tutorial.ipynb\n",
      "Data sources  : https://github.com/ETCBC/text-fabric-data\n",
      "Data docs     : https://etcbc.github.io/text-fabric-data\n",
      "Shebanq docs  : https://shebanq.ancient-data.org/text\n",
      "Slack team    : https://shebanq.slack.com/signup\n",
      "Questions? Ask shebanq@ancient-data.org for an invite to Slack\n",
      "110 features found and 0 ignored\n"
     ]
    }
   ],
   "source": [
    "TF = Fabric(locations='~/github/text-fabric-data-legacy', modules=ETCBC)"
   ]
  },
  {
   "cell_type": "code",
   "execution_count": 40,
   "metadata": {
    "collapsed": false,
    "scrolled": false
   },
   "outputs": [
    {
     "name": "stdout",
     "output_type": "stream",
     "text": [
      "  0.00s Exporting 105 node and 4 edge and 1 config features to /Users/dirk/github/text-fabric-data-legacy/hebrew/etcbc4b:\n",
      "   |     0.05s T book                 to /Users/dirk/github/text-fabric-data-legacy/hebrew/etcbc4b\n",
      "   |     0.00s T book@am              to /Users/dirk/github/text-fabric-data-legacy/hebrew/etcbc4b\n",
      "   |     0.00s T book@ar              to /Users/dirk/github/text-fabric-data-legacy/hebrew/etcbc4b\n",
      "   |     0.00s T book@bn              to /Users/dirk/github/text-fabric-data-legacy/hebrew/etcbc4b\n",
      "   |     0.00s T book@da              to /Users/dirk/github/text-fabric-data-legacy/hebrew/etcbc4b\n",
      "   |     0.00s T book@de              to /Users/dirk/github/text-fabric-data-legacy/hebrew/etcbc4b\n",
      "   |     0.00s T book@el              to /Users/dirk/github/text-fabric-data-legacy/hebrew/etcbc4b\n",
      "   |     0.00s T book@en              to /Users/dirk/github/text-fabric-data-legacy/hebrew/etcbc4b\n",
      "   |     0.00s T book@es              to /Users/dirk/github/text-fabric-data-legacy/hebrew/etcbc4b\n",
      "   |     0.00s T book@fa              to /Users/dirk/github/text-fabric-data-legacy/hebrew/etcbc4b\n",
      "   |     0.00s T book@fr              to /Users/dirk/github/text-fabric-data-legacy/hebrew/etcbc4b\n",
      "   |     0.00s T book@he              to /Users/dirk/github/text-fabric-data-legacy/hebrew/etcbc4b\n",
      "   |     0.00s T book@hi              to /Users/dirk/github/text-fabric-data-legacy/hebrew/etcbc4b\n",
      "   |     0.00s T book@id              to /Users/dirk/github/text-fabric-data-legacy/hebrew/etcbc4b\n",
      "   |     0.00s T book@ja              to /Users/dirk/github/text-fabric-data-legacy/hebrew/etcbc4b\n",
      "   |     0.00s T book@ko              to /Users/dirk/github/text-fabric-data-legacy/hebrew/etcbc4b\n",
      "   |     0.00s T book@la              to /Users/dirk/github/text-fabric-data-legacy/hebrew/etcbc4b\n",
      "   |     0.00s T book@nl              to /Users/dirk/github/text-fabric-data-legacy/hebrew/etcbc4b\n",
      "   |     0.00s T book@pa              to /Users/dirk/github/text-fabric-data-legacy/hebrew/etcbc4b\n",
      "   |     0.00s T book@pt              to /Users/dirk/github/text-fabric-data-legacy/hebrew/etcbc4b\n",
      "   |     0.00s T book@ru              to /Users/dirk/github/text-fabric-data-legacy/hebrew/etcbc4b\n",
      "   |     0.00s T book@sw              to /Users/dirk/github/text-fabric-data-legacy/hebrew/etcbc4b\n",
      "   |     0.00s T book@syc             to /Users/dirk/github/text-fabric-data-legacy/hebrew/etcbc4b\n",
      "   |     0.00s T book@tr              to /Users/dirk/github/text-fabric-data-legacy/hebrew/etcbc4b\n",
      "   |     0.00s T book@ur              to /Users/dirk/github/text-fabric-data-legacy/hebrew/etcbc4b\n",
      "   |     0.00s T book@yo              to /Users/dirk/github/text-fabric-data-legacy/hebrew/etcbc4b\n",
      "   |     0.00s T book@zh              to /Users/dirk/github/text-fabric-data-legacy/hebrew/etcbc4b\n",
      "   |     0.09s T chapter              to /Users/dirk/github/text-fabric-data-legacy/hebrew/etcbc4b\n",
      "   |     2.11s T dist                 to /Users/dirk/github/text-fabric-data-legacy/hebrew/etcbc4b\n",
      "   |     1.84s T dist_unit            to /Users/dirk/github/text-fabric-data-legacy/hebrew/etcbc4b\n",
      "   |     0.18s T domain               to /Users/dirk/github/text-fabric-data-legacy/hebrew/etcbc4b\n",
      "   |     0.00s T entry                to /Users/dirk/github/text-fabric-data-legacy/hebrew/etcbc4b\n",
      "   |     0.00s T entry_heb            to /Users/dirk/github/text-fabric-data-legacy/hebrew/etcbc4b\n",
      "   |     0.00s T entryid              to /Users/dirk/github/text-fabric-data-legacy/hebrew/etcbc4b\n",
      "   |     0.00s T freq_lex             to /Users/dirk/github/text-fabric-data-legacy/hebrew/etcbc4b\n",
      "   |     0.00s T freq_occ             to /Users/dirk/github/text-fabric-data-legacy/hebrew/etcbc4b\n",
      "   |     0.49s T function             to /Users/dirk/github/text-fabric-data-legacy/hebrew/etcbc4b\n",
      "   |     0.66s T g_cons               to /Users/dirk/github/text-fabric-data-legacy/hebrew/etcbc4b\n",
      "   |     0.73s T g_cons_utf8          to /Users/dirk/github/text-fabric-data-legacy/hebrew/etcbc4b\n",
      "   |     0.00s T g_entry              to /Users/dirk/github/text-fabric-data-legacy/hebrew/etcbc4b\n",
      "   |     0.00s T g_entry_heb          to /Users/dirk/github/text-fabric-data-legacy/hebrew/etcbc4b\n",
      "   |     0.73s T g_lex                to /Users/dirk/github/text-fabric-data-legacy/hebrew/etcbc4b\n",
      "   |     0.73s T g_lex_utf8           to /Users/dirk/github/text-fabric-data-legacy/hebrew/etcbc4b\n",
      "   |     0.66s T g_nme                to /Users/dirk/github/text-fabric-data-legacy/hebrew/etcbc4b\n",
      "   |     0.69s T g_nme_utf8           to /Users/dirk/github/text-fabric-data-legacy/hebrew/etcbc4b\n",
      "   |     0.64s T g_pfm                to /Users/dirk/github/text-fabric-data-legacy/hebrew/etcbc4b\n",
      "   |     0.68s T g_pfm_utf8           to /Users/dirk/github/text-fabric-data-legacy/hebrew/etcbc4b\n",
      "   |     0.65s T g_prs                to /Users/dirk/github/text-fabric-data-legacy/hebrew/etcbc4b\n",
      "   |     0.86s T g_prs_utf8           to /Users/dirk/github/text-fabric-data-legacy/hebrew/etcbc4b\n",
      "   |     0.00s T g_qere_utf8          to /Users/dirk/github/text-fabric-data-legacy/hebrew/etcbc4b\n",
      "   |     0.96s T g_uvf                to /Users/dirk/github/text-fabric-data-legacy/hebrew/etcbc4b\n",
      "   |     0.98s T g_uvf_utf8           to /Users/dirk/github/text-fabric-data-legacy/hebrew/etcbc4b\n",
      "   |     0.69s T g_vbe                to /Users/dirk/github/text-fabric-data-legacy/hebrew/etcbc4b\n",
      "   |     0.67s T g_vbe_utf8           to /Users/dirk/github/text-fabric-data-legacy/hebrew/etcbc4b\n",
      "   |     0.66s T g_vbs                to /Users/dirk/github/text-fabric-data-legacy/hebrew/etcbc4b\n",
      "   |     0.69s T g_vbs_utf8           to /Users/dirk/github/text-fabric-data-legacy/hebrew/etcbc4b\n",
      "   |     0.74s T g_word               to /Users/dirk/github/text-fabric-data-legacy/hebrew/etcbc4b\n",
      "   |     0.79s T g_word_utf8          to /Users/dirk/github/text-fabric-data-legacy/hebrew/etcbc4b\n",
      "   |     0.00s T gloss                to /Users/dirk/github/text-fabric-data-legacy/hebrew/etcbc4b\n",
      "   |     0.73s T gn                   to /Users/dirk/github/text-fabric-data-legacy/hebrew/etcbc4b\n",
      "   |     0.00s T id                   to /Users/dirk/github/text-fabric-data-legacy/hebrew/etcbc4b\n",
      "   |     0.00s T instruction          to /Users/dirk/github/text-fabric-data-legacy/hebrew/etcbc4b\n",
      "   |     0.18s T is_root              to /Users/dirk/github/text-fabric-data-legacy/hebrew/etcbc4b\n",
      "   |     0.17s T kind                 to /Users/dirk/github/text-fabric-data-legacy/hebrew/etcbc4b\n",
      "   |     0.16s T label                to /Users/dirk/github/text-fabric-data-legacy/hebrew/etcbc4b\n",
      "   |     0.00s T lan                  to /Users/dirk/github/text-fabric-data-legacy/hebrew/etcbc4b\n",
      "   |     0.77s T language             to /Users/dirk/github/text-fabric-data-legacy/hebrew/etcbc4b\n",
      "   |     0.69s T lex                  to /Users/dirk/github/text-fabric-data-legacy/hebrew/etcbc4b\n",
      "   |     0.71s T lex0                 to /Users/dirk/github/text-fabric-data-legacy/hebrew/etcbc4b\n",
      "   |     0.74s T lex_utf8             to /Users/dirk/github/text-fabric-data-legacy/hebrew/etcbc4b\n",
      "   |     0.69s T ls                   to /Users/dirk/github/text-fabric-data-legacy/hebrew/etcbc4b\n",
      "   |     3.96s T monads               to /Users/dirk/github/text-fabric-data-legacy/hebrew/etcbc4b\n",
      "   |     0.36s T mother_object_type   to /Users/dirk/github/text-fabric-data-legacy/hebrew/etcbc4b\n",
      "   |     0.00s T nametype             to /Users/dirk/github/text-fabric-data-legacy/hebrew/etcbc4b\n",
      "   |     0.71s T nme                  to /Users/dirk/github/text-fabric-data-legacy/hebrew/etcbc4b\n",
      "   |     0.67s T nu                   to /Users/dirk/github/text-fabric-data-legacy/hebrew/etcbc4b\n",
      "   |     2.01s T number               to /Users/dirk/github/text-fabric-data-legacy/hebrew/etcbc4b\n",
      "   |     0.00s T number_in_ch         to /Users/dirk/github/text-fabric-data-legacy/hebrew/etcbc4b\n",
      "   |     0.70s T otype                to /Users/dirk/github/text-fabric-data-legacy/hebrew/etcbc4b\n",
      "   |     0.00s T pargr                to /Users/dirk/github/text-fabric-data-legacy/hebrew/etcbc4b\n",
      "   |     1.07s T pdp                  to /Users/dirk/github/text-fabric-data-legacy/hebrew/etcbc4b\n",
      "   |     1.21s T pfm                  to /Users/dirk/github/text-fabric-data-legacy/hebrew/etcbc4b\n",
      "   |     0.00s T phono                to /Users/dirk/github/text-fabric-data-legacy/hebrew/etcbc4b\n",
      "   |     0.00s T phono_sep            to /Users/dirk/github/text-fabric-data-legacy/hebrew/etcbc4b\n",
      "   |     0.00s T pos                  to /Users/dirk/github/text-fabric-data-legacy/hebrew/etcbc4b\n",
      "   |     1.36s T prs                  to /Users/dirk/github/text-fabric-data-legacy/hebrew/etcbc4b\n",
      "   |     0.70s T ps                   to /Users/dirk/github/text-fabric-data-legacy/hebrew/etcbc4b\n",
      "   |     0.00s T qtrailer_utf8        to /Users/dirk/github/text-fabric-data-legacy/hebrew/etcbc4b\n",
      "   |     0.00s T rank_lex             to /Users/dirk/github/text-fabric-data-legacy/hebrew/etcbc4b\n",
      "   |     0.00s T rank_occ             to /Users/dirk/github/text-fabric-data-legacy/hebrew/etcbc4b\n",
      "   |     1.47s T rela                 to /Users/dirk/github/text-fabric-data-legacy/hebrew/etcbc4b\n",
      "   |     0.00s T root                 to /Users/dirk/github/text-fabric-data-legacy/hebrew/etcbc4b\n",
      "   |     1.12s T sp                   to /Users/dirk/github/text-fabric-data-legacy/hebrew/etcbc4b\n",
      "   |     1.64s T st                   to /Users/dirk/github/text-fabric-data-legacy/hebrew/etcbc4b\n",
      "   |     0.00s T subpos               to /Users/dirk/github/text-fabric-data-legacy/hebrew/etcbc4b\n",
      "   |     0.18s T tab                  to /Users/dirk/github/text-fabric-data-legacy/hebrew/etcbc4b\n",
      "   |     0.73s T trailer_utf8         to /Users/dirk/github/text-fabric-data-legacy/hebrew/etcbc4b\n",
      "   |     0.17s T txt                  to /Users/dirk/github/text-fabric-data-legacy/hebrew/etcbc4b\n",
      "   |     1.12s T typ                  to /Users/dirk/github/text-fabric-data-legacy/hebrew/etcbc4b\n",
      "   |     0.91s T uvf                  to /Users/dirk/github/text-fabric-data-legacy/hebrew/etcbc4b\n",
      "   |     0.68s T vbe                  to /Users/dirk/github/text-fabric-data-legacy/hebrew/etcbc4b\n",
      "   |     0.71s T vbs                  to /Users/dirk/github/text-fabric-data-legacy/hebrew/etcbc4b\n",
      "   |     0.05s T verse                to /Users/dirk/github/text-fabric-data-legacy/hebrew/etcbc4b\n",
      "   |     0.70s T vs                   to /Users/dirk/github/text-fabric-data-legacy/hebrew/etcbc4b\n",
      "   |     0.70s T vt                   to /Users/dirk/github/text-fabric-data-legacy/hebrew/etcbc4b\n",
      "   |     2.54s T distributional_parent to /Users/dirk/github/text-fabric-data-legacy/hebrew/etcbc4b\n",
      "   |     4.36s T functional_parent    to /Users/dirk/github/text-fabric-data-legacy/hebrew/etcbc4b\n",
      "   |     0.59s T mother               to /Users/dirk/github/text-fabric-data-legacy/hebrew/etcbc4b\n",
      "   |     4.12s T oslots               to /Users/dirk/github/text-fabric-data-legacy/hebrew/etcbc4b\n",
      "   |     0.00s M otext                to /Users/dirk/github/text-fabric-data-legacy/hebrew/etcbc4b\n",
      "    58s Exported 105 node features and 4 edge features and 1 config features to /Users/dirk/github/text-fabric-data-legacy/hebrew/etcbc4b\n"
     ]
    }
   ],
   "source": [
    "TF.save(\n",
    "    nodeFeatures=nodeFeatures,\n",
    "    edgeFeatures=edgeFeatures,\n",
    "    metaData=metaData,\n",
    ")"
   ]
  },
  {
   "cell_type": "code",
   "execution_count": null,
   "metadata": {
    "collapsed": true
   },
   "outputs": [],
   "source": []
  }
 ],
 "metadata": {
  "kernelspec": {
   "display_name": "Python 3",
   "language": "python",
   "name": "python3"
  },
  "language_info": {
   "codemirror_mode": {
    "name": "ipython",
    "version": 3
   },
   "file_extension": ".py",
   "mimetype": "text/x-python",
   "name": "python",
   "nbconvert_exporter": "python",
   "pygments_lexer": "ipython3",
   "version": "3.6.0"
  }
 },
 "nbformat": 4,
 "nbformat_minor": 1
}
