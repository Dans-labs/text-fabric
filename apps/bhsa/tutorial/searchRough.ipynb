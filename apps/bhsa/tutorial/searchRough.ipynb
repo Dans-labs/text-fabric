{
 "cells": [
  {
   "cell_type": "markdown",
   "metadata": {},
   "source": [
    "<img align=\"right\" src=\"images/tf-small.png\" width=\"128\"/>\n",
    "<img align=\"right\" src=\"images/etcbc.png\"/>\n",
    "<img align=\"right\" src=\"images/dans-small.png\"/>\n",
    "\n",
    "You might want to consider the [start](search.ipynb) of this tutorial."
   ]
  },
  {
   "cell_type": "code",
   "execution_count": 1,
   "metadata": {},
   "outputs": [],
   "source": [
    "%load_ext autoreload\n",
    "%autoreload 2"
   ]
  },
  {
   "cell_type": "code",
   "execution_count": 2,
   "metadata": {
    "ExecuteTime": {
     "end_time": "2018-05-24T10:06:39.818664Z",
     "start_time": "2018-05-24T10:06:39.796588Z"
    }
   },
   "outputs": [],
   "source": [
    "from tf.app import use"
   ]
  },
  {
   "cell_type": "code",
   "execution_count": 3,
   "metadata": {
    "ExecuteTime": {
     "end_time": "2018-05-24T10:06:41.254515Z",
     "start_time": "2018-05-24T10:06:41.238046Z"
    }
   },
   "outputs": [],
   "source": [
    "VERSION = '2017'"
   ]
  },
  {
   "cell_type": "code",
   "execution_count": 4,
   "metadata": {
    "ExecuteTime": {
     "end_time": "2018-05-24T10:06:48.865143Z",
     "start_time": "2018-05-24T10:06:44.712958Z"
    }
   },
   "outputs": [
    {
     "name": "stdout",
     "output_type": "stream",
     "text": [
      "Using etcbc/bhsa - 2017 r1.4 in ~/text-fabric-data/etcbc/bhsa/tf/2017\n",
      "Using etcbc/phono - 2017 r1.1 in ~/text-fabric-data/etcbc/phono/tf/2017\n",
      "Using etcbc/parallels - 2017 r1.1 in ~/text-fabric-data/etcbc/parallels/tf/2017\n"
     ]
    },
    {
     "data": {
      "text/markdown": [
       "**Documentation:** <a target=\"_blank\" href=\"https://etcbc.github.io/bhsa\" title=\"provenance of BHSA = Biblia Hebraica Stuttgartensia Amstelodamensis\">BHSA</a> <a target=\"_blank\" href=\"https://dans-labs.github.io/text-fabric/Writing/Hebrew\" title=\"('Hebrew characters and transcriptions',)\">Character table</a> <a target=\"_blank\" href=\"https://etcbc.github.io/bhsa/features/hebrew/2017/0_home.html\" title=\"BHSA feature documentation\">Feature docs</a> <a target=\"_blank\" href=\"https://dans-labs.github.io/text-fabric/Api/Bhsa/\" title=\"bhsa API documentation\">bhsa API</a> <a target=\"_blank\" href=\"https://dans-labs.github.io/text-fabric/Api/General/\" title=\"text-fabric-api\">Text-Fabric API 6.4.6</a> <a target=\"_blank\" href=\"https://dans-labs.github.io/text-fabric/Api/General/#search-templates\" title=\"Search Templates Introduction and Reference\">Search Reference</a>"
      ],
      "text/plain": [
       "<IPython.core.display.Markdown object>"
      ]
     },
     "metadata": {},
     "output_type": "display_data"
    },
    {
     "data": {
      "text/html": [
       "<details open><summary><b>Loaded features</b>:</summary>\n",
       "<p><b>BHSA = Biblia Hebraica Stuttgartensia Amstelodamensis</b>: <a target=\"_blank\" href=\"https://etcbc.github.io/bhsa/features/hebrew/2017/oslots.html\" title=\"info\">book</a> <a target=\"_blank\" href=\"https://etcbc.github.io/bhsa/features/hebrew/2017/oslots.html\" title=\"info\">book@ll</a> <a target=\"_blank\" href=\"https://etcbc.github.io/bhsa/features/hebrew/2017/oslots.html\" title=\"info\">chapter</a> <a target=\"_blank\" href=\"https://etcbc.github.io/bhsa/features/hebrew/2017/oslots.html\" title=\"info\">code</a> <a target=\"_blank\" href=\"https://etcbc.github.io/bhsa/features/hebrew/2017/oslots.html\" title=\"info\">det</a> <a target=\"_blank\" href=\"https://etcbc.github.io/bhsa/features/hebrew/2017/oslots.html\" title=\"info\">dist</a> <a target=\"_blank\" href=\"https://etcbc.github.io/bhsa/features/hebrew/2017/oslots.html\" title=\"info\">dist_unit</a> <a target=\"_blank\" href=\"https://etcbc.github.io/bhsa/features/hebrew/2017/oslots.html\" title=\"info\">distributional_parent</a> <a target=\"_blank\" href=\"https://etcbc.github.io/bhsa/features/hebrew/2017/oslots.html\" title=\"info\">domain</a> <a target=\"_blank\" href=\"https://etcbc.github.io/bhsa/features/hebrew/2017/oslots.html\" title=\"info\">freq_lex</a> <a target=\"_blank\" href=\"https://etcbc.github.io/bhsa/features/hebrew/2017/oslots.html\" title=\"info\">freq_occ</a> <a target=\"_blank\" href=\"https://etcbc.github.io/bhsa/features/hebrew/2017/oslots.html\" title=\"info\">function</a> <a target=\"_blank\" href=\"https://etcbc.github.io/bhsa/features/hebrew/2017/oslots.html\" title=\"info\">functional_parent</a> <a target=\"_blank\" href=\"https://etcbc.github.io/bhsa/features/hebrew/2017/oslots.html\" title=\"info\">g_word</a> <a target=\"_blank\" href=\"https://etcbc.github.io/bhsa/features/hebrew/2017/oslots.html\" title=\"info\">g_word_utf8</a> <a target=\"_blank\" href=\"https://etcbc.github.io/bhsa/features/hebrew/2017/oslots.html\" title=\"info\">gloss</a> <a target=\"_blank\" href=\"https://etcbc.github.io/bhsa/features/hebrew/2017/oslots.html\" title=\"info\">gn</a> <a target=\"_blank\" href=\"https://etcbc.github.io/bhsa/features/hebrew/2017/oslots.html\" title=\"info\">instruction</a> <a target=\"_blank\" href=\"https://etcbc.github.io/bhsa/features/hebrew/2017/oslots.html\" title=\"info\">is_root</a> <a target=\"_blank\" href=\"https://etcbc.github.io/bhsa/features/hebrew/2017/oslots.html\" title=\"info\">kind</a> <a target=\"_blank\" href=\"https://etcbc.github.io/bhsa/features/hebrew/2017/oslots.html\" title=\"info\">label</a> <a target=\"_blank\" href=\"https://etcbc.github.io/bhsa/features/hebrew/2017/oslots.html\" title=\"info\">language</a> <a target=\"_blank\" href=\"https://etcbc.github.io/bhsa/features/hebrew/2017/oslots.html\" title=\"info\">lex</a> <a target=\"_blank\" href=\"https://etcbc.github.io/bhsa/features/hebrew/2017/oslots.html\" title=\"info\">lex_utf8</a> <a target=\"_blank\" href=\"https://etcbc.github.io/bhsa/features/hebrew/2017/oslots.html\" title=\"info\">ls</a> <a target=\"_blank\" href=\"https://etcbc.github.io/bhsa/features/hebrew/2017/oslots.html\" title=\"info\">mother</a> <a target=\"_blank\" href=\"https://etcbc.github.io/bhsa/features/hebrew/2017/oslots.html\" title=\"info\">nametype</a> <a target=\"_blank\" href=\"https://etcbc.github.io/bhsa/features/hebrew/2017/oslots.html\" title=\"info\">nme</a> <a target=\"_blank\" href=\"https://etcbc.github.io/bhsa/features/hebrew/2017/oslots.html\" title=\"info\">nu</a> <a target=\"_blank\" href=\"https://etcbc.github.io/bhsa/features/hebrew/2017/oslots.html\" title=\"info\">number</a> <a target=\"_blank\" href=\"https://etcbc.github.io/bhsa/features/hebrew/2017/oslots.html\" title=\"info\">oslots</a> <a target=\"_blank\" href=\"https://etcbc.github.io/bhsa/features/hebrew/2017/oslots.html\" title=\"info\">otype</a> <a target=\"_blank\" href=\"https://etcbc.github.io/bhsa/features/hebrew/2017/oslots.html\" title=\"info\">pargr</a> <a target=\"_blank\" href=\"https://etcbc.github.io/bhsa/features/hebrew/2017/oslots.html\" title=\"info\">pdp</a> <a target=\"_blank\" href=\"https://etcbc.github.io/bhsa/features/hebrew/2017/oslots.html\" title=\"info\">pfm</a> <a target=\"_blank\" href=\"https://etcbc.github.io/bhsa/features/hebrew/2017/oslots.html\" title=\"info\">prs</a> <a target=\"_blank\" href=\"https://etcbc.github.io/bhsa/features/hebrew/2017/oslots.html\" title=\"info\">prs_gn</a> <a target=\"_blank\" href=\"https://etcbc.github.io/bhsa/features/hebrew/2017/oslots.html\" title=\"info\">prs_nu</a> <a target=\"_blank\" href=\"https://etcbc.github.io/bhsa/features/hebrew/2017/oslots.html\" title=\"info\">prs_ps</a> <a target=\"_blank\" href=\"https://etcbc.github.io/bhsa/features/hebrew/2017/oslots.html\" title=\"info\">ps</a> <a target=\"_blank\" href=\"https://etcbc.github.io/bhsa/features/hebrew/2017/oslots.html\" title=\"info\">qere</a> <a target=\"_blank\" href=\"https://etcbc.github.io/bhsa/features/hebrew/2017/oslots.html\" title=\"info\">qere_trailer</a> <a target=\"_blank\" href=\"https://etcbc.github.io/bhsa/features/hebrew/2017/oslots.html\" title=\"info\">qere_trailer_utf8</a> <a target=\"_blank\" href=\"https://etcbc.github.io/bhsa/features/hebrew/2017/oslots.html\" title=\"info\">qere_utf8</a> <a target=\"_blank\" href=\"https://etcbc.github.io/bhsa/features/hebrew/2017/oslots.html\" title=\"info\">rank_lex</a> <a target=\"_blank\" href=\"https://etcbc.github.io/bhsa/features/hebrew/2017/oslots.html\" title=\"info\">rank_occ</a> <a target=\"_blank\" href=\"https://etcbc.github.io/bhsa/features/hebrew/2017/oslots.html\" title=\"info\">rela</a> <a target=\"_blank\" href=\"https://etcbc.github.io/bhsa/features/hebrew/2017/oslots.html\" title=\"info\">root</a> <a target=\"_blank\" href=\"https://etcbc.github.io/bhsa/features/hebrew/2017/oslots.html\" title=\"info\">sp</a> <a target=\"_blank\" href=\"https://etcbc.github.io/bhsa/features/hebrew/2017/oslots.html\" title=\"info\">st</a> <a target=\"_blank\" href=\"https://etcbc.github.io/bhsa/features/hebrew/2017/oslots.html\" title=\"info\">tab</a> <a target=\"_blank\" href=\"https://etcbc.github.io/bhsa/features/hebrew/2017/oslots.html\" title=\"info\">trailer</a> <a target=\"_blank\" href=\"https://etcbc.github.io/bhsa/features/hebrew/2017/oslots.html\" title=\"info\">trailer_utf8</a> <a target=\"_blank\" href=\"https://etcbc.github.io/bhsa/features/hebrew/2017/oslots.html\" title=\"info\">txt</a> <a target=\"_blank\" href=\"https://etcbc.github.io/bhsa/features/hebrew/2017/oslots.html\" title=\"info\">typ</a> <a target=\"_blank\" href=\"https://etcbc.github.io/bhsa/features/hebrew/2017/oslots.html\" title=\"info\">uvf</a> <a target=\"_blank\" href=\"https://etcbc.github.io/bhsa/features/hebrew/2017/oslots.html\" title=\"info\">vbe</a> <a target=\"_blank\" href=\"https://etcbc.github.io/bhsa/features/hebrew/2017/oslots.html\" title=\"info\">vbs</a> <a target=\"_blank\" href=\"https://etcbc.github.io/bhsa/features/hebrew/2017/oslots.html\" title=\"info\">verse</a> <a target=\"_blank\" href=\"https://etcbc.github.io/bhsa/features/hebrew/2017/oslots.html\" title=\"info\">voc_lex</a> <a target=\"_blank\" href=\"https://etcbc.github.io/bhsa/features/hebrew/2017/oslots.html\" title=\"info\">voc_lex_utf8</a> <a target=\"_blank\" href=\"https://etcbc.github.io/bhsa/features/hebrew/2017/oslots.html\" title=\"info\">vs</a> <a target=\"_blank\" href=\"https://etcbc.github.io/bhsa/features/hebrew/2017/oslots.html\" title=\"info\">vt</a></p><p><b>Phonetic Transcriptions</b>: <a target=\"_blank\" href=\"https://github.com/etcbc/phono/tree/master/tf\" title=\"info\">phono</a> <a target=\"_blank\" href=\"https://github.com/etcbc/phono/tree/master/tf\" title=\"info\">phono_trailer</a></p><p><b>Parallel Passages</b>: <a target=\"_blank\" href=\"https://github.com/etcbc/parallels/tree/master/tf\" title=\"info\">crossref</a></p></details>"
      ],
      "text/plain": [
       "<IPython.core.display.HTML object>"
      ]
     },
     "metadata": {},
     "output_type": "display_data"
    },
    {
     "data": {
      "text/markdown": [
       "\n",
       "This notebook online:\n",
       "<a target=\"_blank\" href=\"https://nbviewer.jupyter.org/github/etcbc/bhsa/blob/master/tutorial/searchRough.ipynb\">NBViewer</a>\n",
       "<a target=\"_blank\" href=\"https://github.com/etcbc/bhsa/blob/master/tutorial/searchRough.ipynb\">GitHub</a>\n"
      ],
      "text/plain": [
       "<IPython.core.display.Markdown object>"
      ]
     },
     "metadata": {},
     "output_type": "display_data"
    },
    {
     "data": {
      "text/html": [
       "\n",
       "<style>\n",
       "@font-face {\n",
       "  font-family: \"Ezra SIL\";\n",
       "  src: url('https://github.com/Dans-labs/text-fabric/blob/master/tf/server/static/fonts/SILEOT.ttf?raw=true');\n",
       "  src: url('https://github.com/Dans-labs/text-fabric/blob/master/tf/server/static/fonts/SILEOT.woff?raw=true') format('woff');\n",
       "}\n",
       "</style>\n",
       "\n",
       "<style type=\"text/css\">\n",
       ".features {\n",
       "    font-family: monospace;\n",
       "    font-size: medium;\n",
       "    font-weight: bold;\n",
       "    color: #0a6611;\n",
       "    display: flex;\n",
       "    flex-flow: column nowrap;\n",
       "    padding: 0.1em;\n",
       "    margin: 0.1em;\n",
       "    direction: ltr;\n",
       "}\n",
       ".features div,.features span {\n",
       "    padding: 0;\n",
       "    margin: -0.1rem 0;\n",
       "}\n",
       ".features .f {\n",
       "    font-family: sans-serif;\n",
       "    font-size: x-small;\n",
       "    font-weight: normal;\n",
       "    color: #5555bb;\n",
       "}\n",
       ".features .xft {\n",
       "  color: #000000;\n",
       "  background-color: #eeeeee;\n",
       "  font-size: medium;\n",
       "  margin: 0.1em 0em;\n",
       "}\n",
       ".features .xft .f {\n",
       "  color: #000000;\n",
       "  background-color: #eeeeee;\n",
       "  font-style: italic;\n",
       "  font-size: small;\n",
       "  font-weight: normal;\n",
       "}\n",
       ".verse {\n",
       "    display: flex;\n",
       "    flex-flow: row wrap;\n",
       "    direction: rtl;\n",
       "}\n",
       ".vl {\n",
       "    display: flex;\n",
       "    flex-flow: column nowrap;\n",
       "    justify-content: flex-end;\n",
       "    align-items: flex-end;\n",
       "    direction: ltr;\n",
       "    width: 100%;\n",
       "}\n",
       ".outeritem {\n",
       "    display: flex;\n",
       "    flex-flow: row wrap;\n",
       "    direction: rtl;\n",
       "}\n",
       ".sentence,.clause,.phrase {\n",
       "    margin-top: -1.2em;\n",
       "    margin-left: 1em;\n",
       "    background: #ffffff none repeat scroll 0 0;\n",
       "    padding: 0 0.3em;\n",
       "    border-style: solid;\n",
       "    border-radius: 0.2em;\n",
       "    font-size: small;\n",
       "    display: block;\n",
       "    width: fit-content;\n",
       "    max-width: fit-content;\n",
       "    direction: ltr;\n",
       "}\n",
       ".atoms {\n",
       "    display: flex;\n",
       "    flex-flow: row wrap;\n",
       "    margin: 0.3em;\n",
       "    padding: 0.3em;\n",
       "    direction: rtl;\n",
       "    background-color: #ffffff;\n",
       "}\n",
       ".satom,.catom,.patom {\n",
       "    margin: 0.3em;\n",
       "    padding: 0.3em;\n",
       "    border-radius: 0.3em;\n",
       "    border-style: solid;\n",
       "    display: flex;\n",
       "    flex-flow: column nowrap;\n",
       "    direction: rtl;\n",
       "    background-color: #ffffff;\n",
       "}\n",
       ".sentence {\n",
       "    border-color: #aa3333;\n",
       "    border-width: 1px;\n",
       "}\n",
       ".clause {\n",
       "    border-color: #aaaa33;\n",
       "    border-width: 1px;\n",
       "}\n",
       ".phrase {\n",
       "    border-color: #33aaaa;\n",
       "    border-width: 1px;\n",
       "}\n",
       ".satom {\n",
       "    border-color: #aa3333;\n",
       "    border-width: 4px;\n",
       "}\n",
       ".catom {\n",
       "    border-color: #aaaa33;\n",
       "    border-width: 3px;\n",
       "}\n",
       ".patom {\n",
       "    border-color: #33aaaa;\n",
       "    border-width: 3px;\n",
       "}\n",
       ".word {\n",
       "    padding: 0.1em;\n",
       "    margin: 0.1em;\n",
       "    border-radius: 0.1em;\n",
       "    border: 1px solid #cccccc;\n",
       "    display: flex;\n",
       "    flex-flow: column nowrap;\n",
       "    direction: rtl;\n",
       "    background-color: #ffffff;\n",
       "}\n",
       ".lextp {\n",
       "    padding: 0.1em;\n",
       "    margin: 0.1em;\n",
       "    border-radius: 0.1em;\n",
       "    border: 2px solid #888888;\n",
       "    width: fit-content;\n",
       "    display: flex;\n",
       "    flex-flow: column nowrap;\n",
       "    direction: rtl;\n",
       "    background-color: #ffffff;\n",
       "}\n",
       ".occs {\n",
       "    font-size: x-small;\n",
       "}\n",
       ".satom.l,.catom.l,.patom.l {\n",
       "    border-left-style: dotted\n",
       "}\n",
       ".satom.r,.catom.r,.patom.r {\n",
       "    border-right-style: dotted\n",
       "}\n",
       ".satom.L,.catom.L,.patom.L {\n",
       "    border-left-style: none\n",
       "}\n",
       ".satom.R,.catom.R,.patom.R {\n",
       "    border-right-style: none\n",
       "}\n",
       ".tr,.tr a:visited,.tr a:link {\n",
       "    font-family: sans-serif;\n",
       "    font-size: large;\n",
       "    color: #000044;\n",
       "    direction: ltr;\n",
       "    text-decoration: none;\n",
       "}\n",
       ".trb,.trb a:visited,.trb a:link {\n",
       "    font-family: sans-serif;\n",
       "    font-size: normal;\n",
       "    direction: ltr;\n",
       "    text-decoration: none;\n",
       "}\n",
       ".prb,.prb a:visited,.prb a:link {\n",
       "    font-family: sans-serif;\n",
       "    font-size: large;\n",
       "    direction: ltr;\n",
       "    text-decoration: none;\n",
       "}\n",
       ".h,.h a:visited,.h a:link {\n",
       "    font-family: \"Ezra SIL\", \"SBL Hebrew\", sans-serif;\n",
       "    font-size: large;\n",
       "    color: #000044;\n",
       "    direction: rtl;\n",
       "    text-decoration: none;\n",
       "}\n",
       ".hb,.hb a:visited,.hb a:link {\n",
       "    font-family: \"Ezra SIL\", \"SBL Hebrew\", sans-serif;\n",
       "    font-size: large;\n",
       "    line-height: 1.8;\n",
       "    direction: rtl;\n",
       "    text-decoration: none;\n",
       "}\n",
       ".vn {\n",
       "  font-size: small !important;\n",
       "  padding-right: 1em;\n",
       "}\n",
       ".rela,.function,.typ {\n",
       "    font-family: monospace;\n",
       "    font-size: small;\n",
       "    color: #0000bb;\n",
       "}\n",
       ".pdp,.pdp a:visited,.pdp a:link {\n",
       "    font-family: monospace;\n",
       "    font-size: medium;\n",
       "    color: #0000bb;\n",
       "    text-decoration: none;\n",
       "}\n",
       ".voc_lex {\n",
       "    font-family: monospace;\n",
       "    font-size: medium;\n",
       "    color: #0000bb;\n",
       "}\n",
       ".vs {\n",
       "    font-family: monospace;\n",
       "    font-size: medium;\n",
       "    font-weight: bold;\n",
       "    color: #0000bb;\n",
       "}\n",
       ".vt {\n",
       "    font-family: monospace;\n",
       "    font-size: medium;\n",
       "    font-weight: bold;\n",
       "    color: #0000bb;\n",
       "}\n",
       ".gloss {\n",
       "    font-family: sans-serif;\n",
       "    font-size: small;\n",
       "    font-weight: normal;\n",
       "    color: #444444;\n",
       "}\n",
       ".vrs {\n",
       "    font-family: sans-serif;\n",
       "    font-size: small;\n",
       "    font-weight: bold;\n",
       "    color: #444444;\n",
       "}\n",
       ".nd {\n",
       "    font-family: monospace;\n",
       "    font-size: x-small;\n",
       "    color: #999999;\n",
       "}\n",
       ".hl {\n",
       "    background-color: #ffee66;\n",
       "}\n",
       "</style>\n"
      ],
      "text/plain": [
       "<IPython.core.display.HTML object>"
      ]
     },
     "metadata": {},
     "output_type": "display_data"
    },
    {
     "data": {
      "text/html": [
       "<details open><summary><b>API members</b>:</summary>\n",
       "<a target=\"_blank\" href=\"https://dans-labs.github.io/text-fabric/Api/General/#computed-data\" title=\"doc\">C Computed</a>, <a target=\"_blank\" href=\"https://dans-labs.github.io/text-fabric/Api/General/#computed-data\" title=\"doc\">Call AllComputeds</a>, <a target=\"_blank\" href=\"https://dans-labs.github.io/text-fabric/Api/General/#computed-data\" title=\"doc\">Cs ComputedString</a><br/>\n",
       "<a target=\"_blank\" href=\"https://dans-labs.github.io/text-fabric/Api/General/#edge-features\" title=\"doc\">E Edge</a>, <a target=\"_blank\" href=\"https://dans-labs.github.io/text-fabric/Api/General/#edge-features\" title=\"doc\">Eall AllEdges</a>, <a target=\"_blank\" href=\"https://dans-labs.github.io/text-fabric/Api/General/#edge-features\" title=\"doc\">Es EdgeString</a><br/>\n",
       "<a target=\"_blank\" href=\"https://dans-labs.github.io/text-fabric/Api/General/#loading\" title=\"doc\">TF</a>, <a target=\"_blank\" href=\"https://dans-labs.github.io/text-fabric/Api/General/#loading\" title=\"doc\">ensureLoaded</a>, <a target=\"_blank\" href=\"https://dans-labs.github.io/text-fabric/Api/General/#loading\" title=\"doc\">ignored</a>, <a target=\"_blank\" href=\"https://dans-labs.github.io/text-fabric/Api/General/#loading\" title=\"doc\">loadLog</a><br/>\n",
       "<a target=\"_blank\" href=\"https://dans-labs.github.io/text-fabric/Api/General/#locality\" title=\"doc\">L Locality</a><br/>\n",
       "<a target=\"_blank\" href=\"https://dans-labs.github.io/text-fabric/Api/General/#messaging\" title=\"doc\">cache</a>, <a target=\"_blank\" href=\"https://dans-labs.github.io/text-fabric/Api/General/#messaging\" title=\"doc\">error</a>, <a target=\"_blank\" href=\"https://dans-labs.github.io/text-fabric/Api/General/#messaging\" title=\"doc\">indent</a>, <a target=\"_blank\" href=\"https://dans-labs.github.io/text-fabric/Api/General/#messaging\" title=\"doc\">info</a>, <a target=\"_blank\" href=\"https://dans-labs.github.io/text-fabric/Api/General/#messaging\" title=\"doc\">reset</a><br/>\n",
       "<a target=\"_blank\" href=\"https://dans-labs.github.io/text-fabric/Api/General/#navigating-nodes\" title=\"doc\">N Nodes</a>, <a target=\"_blank\" href=\"https://dans-labs.github.io/text-fabric/Api/General/#navigating-nodes\" title=\"doc\">sortKey</a>, <a target=\"_blank\" href=\"https://dans-labs.github.io/text-fabric/Api/General/#navigating-nodes\" title=\"doc\">otypeRank</a>, <a target=\"_blank\" href=\"https://dans-labs.github.io/text-fabric/Api/General/#navigating-nodes\" title=\"doc\">sortNodes</a><br/>\n",
       "<a target=\"_blank\" href=\"https://dans-labs.github.io/text-fabric/Api/General/#node-features\" title=\"doc\">F Feature</a>, <a target=\"_blank\" href=\"https://dans-labs.github.io/text-fabric/Api/General/#node-features\" title=\"doc\">Fall AllFeatures</a>, <a target=\"_blank\" href=\"https://dans-labs.github.io/text-fabric/Api/General/#node-features\" title=\"doc\">Fs FeatureString</a><br/>\n",
       "<a target=\"_blank\" href=\"https://dans-labs.github.io/text-fabric/Api/General/#searching\" title=\"doc\">S Search</a><br/>\n",
       "<a target=\"_blank\" href=\"https://dans-labs.github.io/text-fabric/Api/General/#text\" title=\"doc\">T Text</a></details>"
      ],
      "text/plain": [
       "<IPython.core.display.HTML object>"
      ]
     },
     "metadata": {},
     "output_type": "display_data"
    }
   ],
   "source": [
    "A = use('bhsa', hoist=globals(), version=VERSION)"
   ]
  },
  {
   "cell_type": "markdown",
   "metadata": {},
   "source": [
    "## Rough edges\n",
    "\n",
    "It might be helpful to peek under the hood, especially when exploring searches that go slow.\n",
    "\n",
    "If you went through the previous parts of the tutorial you have encountered cases where things come\n",
    "to a grinding halt.\n",
    "\n",
    "Yet we can get a hunch of what is going on, even in those cases.\n",
    "For that, we use the lower-level search api `S` of Text-Fabric, and not the \n",
    "wrappers that the corpus specific `A` api provides.\n",
    "\n",
    "The main difference is, that `S.search()` returns a *generator* of the results, \n",
    "whereas `A.search()` returns a list of the results.\n",
    "In fact, `A.search()` calls the generator function delivered by `S.search()` as often as needed.\n",
    "\n",
    "For some queries, the fetching of results is quite costly, so costly that we do not want to fetch\n",
    "all results up-front. Rather we want to fetch a few, to see how it goes.\n",
    "In these cases, directly using `S.search()` is preferred over `A.search()`."
   ]
  },
  {
   "cell_type": "code",
   "execution_count": 5,
   "metadata": {
    "ExecuteTime": {
     "end_time": "2018-05-24T08:49:43.870215Z",
     "start_time": "2018-05-24T08:49:43.866722Z"
    }
   },
   "outputs": [],
   "source": [
    "query = '''\n",
    "book\n",
    "  chapter\n",
    "    verse\n",
    "      phrase det=und\n",
    "        word lex=>LHJM/\n",
    "'''"
   ]
  },
  {
   "cell_type": "markdown",
   "metadata": {},
   "source": [
    "### Study\n",
    "\n",
    "First we call `S.study(query)`.\n",
    "\n",
    "The syntax will be checked, features loaded, the search space will be set up, narrowed down, \n",
    "and the fetching of results will be prepared, but not yet executed.\n",
    "\n",
    "In order to make the query a bit more interesting, we lift the constraint that the results must be in Genesis 1-2."
   ]
  },
  {
   "cell_type": "code",
   "execution_count": 6,
   "metadata": {
    "ExecuteTime": {
     "end_time": "2018-05-24T08:49:46.451394Z",
     "start_time": "2018-05-24T08:49:45.192096Z"
    }
   },
   "outputs": [
    {
     "name": "stdout",
     "output_type": "stream",
     "text": [
      "   |     0.00s Feature overview: 111 for nodes; 8 for edges; 2 configs; 7 computed\n",
      "  0.00s Checking search template ...\n",
      "  0.00s Setting up search space for 5 objects ...\n",
      "  0.69s Constraining search space with 4 relations ...\n",
      "  0.70s Setting up retrieval plan ...\n",
      "  0.71s Ready to deliver results from 2735 nodes\n",
      "Iterate over S.fetch() to get the results\n",
      "See S.showPlan() to interpret the results\n"
     ]
    }
   ],
   "source": [
    "S.study(query)"
   ]
  },
  {
   "cell_type": "markdown",
   "metadata": {},
   "source": [
    "Before we rush to the results, lets have a look at the *plan*."
   ]
  },
  {
   "cell_type": "code",
   "execution_count": 7,
   "metadata": {
    "ExecuteTime": {
     "end_time": "2018-05-24T08:49:49.104091Z",
     "start_time": "2018-05-24T08:49:49.088781Z"
    }
   },
   "outputs": [
    {
     "name": "stdout",
     "output_type": "stream",
     "text": [
      "  2.63s The results are connected to the original search template as follows:\n",
      " 0     \n",
      " 1 R0  book\n",
      " 2 R1    chapter\n",
      " 3 R2      verse\n",
      " 4 R3        phrase det=und\n",
      " 5 R4          word lex=>LHJM/\n",
      " 6     \n"
     ]
    }
   ],
   "source": [
    "S.showPlan()"
   ]
  },
  {
   "cell_type": "markdown",
   "metadata": {},
   "source": [
    "Here you see already what your results will look like.\n",
    "Each result `r` is a *tuple* of nodes:\n",
    "```\n",
    "(R0, R1, R2, R3, R4)\n",
    "```\n",
    "that instantiate the objects in your template.\n",
    "\n",
    "In case you are curious, you can get details about the search space as well:"
   ]
  },
  {
   "cell_type": "code",
   "execution_count": 8,
   "metadata": {
    "ExecuteTime": {
     "end_time": "2018-05-24T08:50:03.622134Z",
     "start_time": "2018-05-24T08:50:03.589828Z"
    }
   },
   "outputs": [
    {
     "name": "stdout",
     "output_type": "stream",
     "text": [
      "Search with 5 objects and 4 relations\n",
      "Results are instantiations of the following objects:\n",
      "node  0-book                              (    29   choices)\n",
      "node  1-chapter                           (   329   choices)\n",
      "node  2-verse                             (   754   choices)\n",
      "node  3-phrase                            (   805   choices)\n",
      "node  4-word                              (   818   choices)\n",
      "Instantiations are computed along the following relations:\n",
      "node                      0-book          (    29   choices)\n",
      "edge  0-book          [[  1-chapter       (     8.2 choices)\n",
      "edge  1-chapter       [[  2-verse         (     2.3 choices)\n",
      "edge  2-verse         [[  3-phrase        (     1.0 choices)\n",
      "edge  3-phrase        [[  4-word          (     1.1 choices)\n",
      "  5.55s The results are connected to the original search template as follows:\n",
      " 0     \n",
      " 1 R0  book\n",
      " 2 R1    chapter\n",
      " 3 R2      verse\n",
      " 4 R3        phrase det=und\n",
      " 5 R4          word lex=>LHJM/\n",
      " 6     \n"
     ]
    }
   ],
   "source": [
    "S.showPlan(details=True)"
   ]
  },
  {
   "cell_type": "markdown",
   "metadata": {},
   "source": [
    "The part about the *nodes* shows you how many possible instantiations for each object in your template\n",
    "has been found.\n",
    "These are not results yet, because only combinations of instantiations\n",
    "that satisfy all constraints are results.\n",
    "\n",
    "The constraints come from the relations between the objects that you specified.\n",
    "In this case, there is only an implicit relation: embedding `[[`. \n",
    "Later on we'll examine all basic relations.\n",
    "\n",
    "The part about the *edges* shows you the constraints,\n",
    "and in what order they will be computed when stitching results together.\n",
    "In this case the order is exactly the order by which the relations appear in the template,\n",
    "but that will not always be the case.\n",
    "Text-Fabric spends some time and ingenuity to find out an optimal *stitch plan*.\n",
    "Fetching results is like selecting a node, stitching it to another node with an edge,\n",
    "and so on, until a full stitch of nodes intersects with all the node sets from which they\n",
    "must be chosen (the yarns).\n",
    "\n",
    "Fetching results may take time. \n",
    "\n",
    "For some queries, it can take a large amount of time to walk through all results.\n",
    "Even worse, it may happen that it takes a large amount of time before getting the *first* result.\n",
    "During stitching, many stitchings will be tried and fail before they can be completed.\n",
    "\n",
    "This has to do with search strategies on the one hand,\n",
    "and the very likely possibility to encounter *pathological* search patterns,\n",
    "which have billions of results, mostly unintended.\n",
    "For example, a simple query that asks for 5 words in the Hebrew Bible without further constraints,\n",
    "will have 425,000 to the power of 5 results.\n",
    "That is 10-e28 (a one with 28 zeros),\n",
    "roughly the number of molecules in a few hundred liters of air.\n",
    "That may not sound much, but it is 10,000 times the amount of bytes\n",
    "that can be currently stored on the whole Internet.\n",
    "\n",
    "Text-Fabric search is not yet done with finding optimal search strategies,\n",
    "and I hope to refine its arsenal of methods in the future, depending on what you report."
   ]
  },
  {
   "cell_type": "markdown",
   "metadata": {},
   "source": [
    "### Counting results\n",
    "It is always a good idea to get a feel for the amount of results, before you dive into them head-on."
   ]
  },
  {
   "cell_type": "code",
   "execution_count": 9,
   "metadata": {
    "ExecuteTime": {
     "end_time": "2018-05-24T08:50:45.871673Z",
     "start_time": "2018-05-24T08:50:45.847217Z"
    }
   },
   "outputs": [
    {
     "name": "stdout",
     "output_type": "stream",
     "text": [
      "  0.00s Counting results per 1 up to 5 ...\n",
      "   |     0.00s 1\n",
      "   |     0.01s 2\n",
      "   |     0.01s 3\n",
      "   |     0.01s 4\n",
      "   |     0.01s 5\n",
      "  0.01s Done: 5 results\n"
     ]
    }
   ],
   "source": [
    "S.count(progress=1, limit=5)"
   ]
  },
  {
   "cell_type": "markdown",
   "metadata": {},
   "source": [
    "We asked for 5 results in total, with a progress message for every one.\n",
    "That was a bit conservative."
   ]
  },
  {
   "cell_type": "code",
   "execution_count": 10,
   "metadata": {
    "ExecuteTime": {
     "end_time": "2018-05-24T08:50:48.710519Z",
     "start_time": "2018-05-24T08:50:48.598126Z"
    }
   },
   "outputs": [
    {
     "name": "stdout",
     "output_type": "stream",
     "text": [
      "  0.00s Counting results per 100 up to 500 ...\n",
      "   |     0.01s 100\n",
      "   |     0.02s 200\n",
      "   |     0.03s 300\n",
      "   |     0.05s 400\n",
      "   |     0.07s 500\n",
      "  0.07s Done: 500 results\n"
     ]
    }
   ],
   "source": [
    "S.count(progress=100, limit=500)"
   ]
  },
  {
   "cell_type": "markdown",
   "metadata": {},
   "source": [
    "Still pretty quick, now we want to count all results."
   ]
  },
  {
   "cell_type": "code",
   "execution_count": 11,
   "metadata": {
    "ExecuteTime": {
     "end_time": "2018-05-24T08:50:50.003468Z",
     "start_time": "2018-05-24T08:50:49.859589Z"
    }
   },
   "outputs": [
    {
     "name": "stdout",
     "output_type": "stream",
     "text": [
      "  0.00s Counting results per 200 up to  the end of the results ...\n",
      "   |     0.02s 200\n",
      "   |     0.04s 400\n",
      "   |     0.06s 600\n",
      "   |     0.08s 800\n",
      "  0.08s Done: 818 results\n"
     ]
    }
   ],
   "source": [
    "S.count(progress=200, limit=-1)"
   ]
  },
  {
   "cell_type": "markdown",
   "metadata": {},
   "source": [
    "### Fetching results\n",
    "\n",
    "It is time to see something of those results."
   ]
  },
  {
   "cell_type": "code",
   "execution_count": 12,
   "metadata": {
    "ExecuteTime": {
     "end_time": "2018-05-24T08:51:06.009618Z",
     "start_time": "2018-05-24T08:51:05.993571Z"
    }
   },
   "outputs": [
    {
     "data": {
      "text/plain": [
       "((426585, 426624, 1414190, 651505, 4),\n",
       " (426585, 426624, 1414191, 651515, 26),\n",
       " (426585, 426624, 1414192, 651520, 34),\n",
       " (426585, 426624, 1414193, 651528, 42),\n",
       " (426585, 426624, 1414193, 651534, 50),\n",
       " (426585, 426624, 1414194, 651538, 60),\n",
       " (426585, 426624, 1414195, 651554, 81),\n",
       " (426585, 426624, 1414196, 651564, 97),\n",
       " (426585, 426624, 1414197, 651578, 127),\n",
       " (426585, 426624, 1414198, 651590, 142))"
      ]
     },
     "execution_count": 12,
     "metadata": {},
     "output_type": "execute_result"
    }
   ],
   "source": [
    "S.fetch(limit=10)"
   ]
  },
  {
   "cell_type": "markdown",
   "metadata": {},
   "source": [
    "Not very informative.\n",
    "Just a quick observation: look at the last column.\n",
    "These are the result nodes for the `word` part in the query, indicated as `R7` by `showPlan()` before.\n",
    "And indeed, they are all below 425,000, the number of words in the Hebrew Bible.\n",
    "\n",
    "Nevertheless, we want to glean a bit more information off them."
   ]
  },
  {
   "cell_type": "code",
   "execution_count": 13,
   "metadata": {
    "ExecuteTime": {
     "end_time": "2018-05-24T08:51:14.214022Z",
     "start_time": "2018-05-24T08:51:14.118975Z"
    }
   },
   "outputs": [
    {
     "name": "stdout",
     "output_type": "stream",
     "text": [
      "  Genesis 1:1 phrase[אֱלֹהִ֑ים ] אֱלֹהִ֑ים \n",
      "  Genesis 1:2 phrase[ר֣וּחַ אֱלֹהִ֔ים ] אֱלֹהִ֔ים \n",
      "  Genesis 1:3 phrase[אֱלֹהִ֖ים ] אֱלֹהִ֖ים \n",
      "  Genesis 1:4 phrase[אֱלֹהִ֛ים ] אֱלֹהִ֛ים \n",
      "  Genesis 1:4 phrase[אֱלֹהִ֔ים ] אֱלֹהִ֔ים \n",
      "  Genesis 1:5 phrase[אֱלֹהִ֤ים׀ ] אֱלֹהִ֤ים׀ \n",
      "  Genesis 1:6 phrase[אֱלֹהִ֔ים ] אֱלֹהִ֔ים \n",
      "  Genesis 1:7 phrase[אֱלֹהִים֮ ] אֱלֹהִים֮ \n",
      "  Genesis 1:8 phrase[אֱלֹהִ֛ים ] אֱלֹהִ֛ים \n",
      "  Genesis 1:9 phrase[אֱלֹהִ֗ים ] אֱלֹהִ֗ים \n"
     ]
    }
   ],
   "source": [
    "for r in S.fetch(limit=10):\n",
    "    print(S.glean(r))"
   ]
  },
  {
   "cell_type": "markdown",
   "metadata": {},
   "source": [
    "##### Caution\n",
    "> It is not possible to do `len(S.fetch())`.\n",
    "Because `fetch()` is a *generator*, not a list.\n",
    "It will deliver a result every time it is being asked and for as long as there are results,\n",
    "but it does not know in advance how many there will be.\n",
    "\n",
    ">Fetching a result can be costly, because due to the constraints, a lot of possibilities\n",
    "may have to be tried and rejected before a the next result is found.\n",
    "\n",
    "> That is why you often see results coming in at varying speeds when counting them."
   ]
  },
  {
   "cell_type": "markdown",
   "metadata": {},
   "source": [
    "We can also use `A.table()` to make a list of results.\n",
    "This function is part of the `Bhsa` API, not of the generic Text-Fabric machinery, as opposed to `S.glean()`.\n",
    "\n",
    "So, you can use `S.glean()` for every Text-Fabric corpus, but the output is still not very nice.\n",
    "`A.table()` gives much nicer output, but works only for the BHSA corpus.\n",
    "\n",
    "We put hyperlinks to SHEBANQ under column 3."
   ]
  },
  {
   "cell_type": "code",
   "execution_count": 14,
   "metadata": {
    "ExecuteTime": {
     "end_time": "2018-05-24T08:51:19.071119Z",
     "start_time": "2018-05-24T08:51:18.970211Z"
    }
   },
   "outputs": [
    {
     "data": {
      "text/markdown": [
       "n | book | chapter | verse | phrase | word\n",
       "--- | --- | --- | --- | --- | ---\n",
       "1|<span class=\"trb\">Genesis</span>|<span class=\"trb\">Genesis 1</span>|<span class=\"hb\"><a class=\"vn\" href=\"https://shebanq.ancient-data.org/hebrew/text?book=Genesis&chapter=1&verse=1&version=2017&mr=m&qw=q&tp=txt_p&tr=hb&wget=v&qget=v&nget=vt\" title=\"Genesis 1:1\" sec=\"Genesis 1:1\">Genesis 1:1</a>בְּרֵאשִׁ֖ית בָּרָ֣א אֱלֹהִ֑ים אֵ֥ת הַשָּׁמַ֖יִם וְאֵ֥ת הָאָֽרֶץ׃ </span>|<span class=\"hb\">אֱלֹהִ֑ים </span>|<span class=\"hb\">אֱלֹהִ֑ים </span>\n",
       "2|<span class=\"trb\">Genesis</span>|<span class=\"trb\">Genesis 1</span>|<span class=\"hb\"><a class=\"vn\" href=\"https://shebanq.ancient-data.org/hebrew/text?book=Genesis&chapter=1&verse=2&version=2017&mr=m&qw=q&tp=txt_p&tr=hb&wget=v&qget=v&nget=vt\" title=\"Genesis 1:2\" sec=\"Genesis 1:2\">Genesis 1:2</a>וְהָאָ֗רֶץ הָיְתָ֥ה תֹ֨הוּ֙ וָבֹ֔הוּ וְחֹ֖שֶׁךְ עַל־פְּנֵ֣י תְהֹ֑ום וְר֣וּחַ אֱלֹהִ֔ים מְרַחֶ֖פֶת עַל־פְּנֵ֥י הַמָּֽיִם׃ </span>|<span class=\"hb\">ר֣וּחַ אֱלֹהִ֔ים </span>|<span class=\"hb\">אֱלֹהִ֔ים </span>\n",
       "3|<span class=\"trb\">Genesis</span>|<span class=\"trb\">Genesis 1</span>|<span class=\"hb\"><a class=\"vn\" href=\"https://shebanq.ancient-data.org/hebrew/text?book=Genesis&chapter=1&verse=3&version=2017&mr=m&qw=q&tp=txt_p&tr=hb&wget=v&qget=v&nget=vt\" title=\"Genesis 1:3\" sec=\"Genesis 1:3\">Genesis 1:3</a>וַיֹּ֥אמֶר אֱלֹהִ֖ים יְהִ֣י אֹ֑ור וַֽיְהִי־אֹֽור׃ </span>|<span class=\"hb\">אֱלֹהִ֖ים </span>|<span class=\"hb\">אֱלֹהִ֖ים </span>\n",
       "4|<span class=\"trb\">Genesis</span>|<span class=\"trb\">Genesis 1</span>|<span class=\"hb\"><a class=\"vn\" href=\"https://shebanq.ancient-data.org/hebrew/text?book=Genesis&chapter=1&verse=4&version=2017&mr=m&qw=q&tp=txt_p&tr=hb&wget=v&qget=v&nget=vt\" title=\"Genesis 1:4\" sec=\"Genesis 1:4\">Genesis 1:4</a>וַיַּ֧רְא אֱלֹהִ֛ים אֶת־הָאֹ֖ור כִּי־טֹ֑וב וַיַּבְדֵּ֣ל אֱלֹהִ֔ים בֵּ֥ין הָאֹ֖ור וּבֵ֥ין הַחֹֽשֶׁךְ׃ </span>|<span class=\"hb\">אֱלֹהִ֛ים </span>|<span class=\"hb\">אֱלֹהִ֛ים </span>\n",
       "5|<span class=\"trb\">Genesis</span>|<span class=\"trb\">Genesis 1</span>|<span class=\"hb\"><a class=\"vn\" href=\"https://shebanq.ancient-data.org/hebrew/text?book=Genesis&chapter=1&verse=4&version=2017&mr=m&qw=q&tp=txt_p&tr=hb&wget=v&qget=v&nget=vt\" title=\"Genesis 1:4\" sec=\"Genesis 1:4\">Genesis 1:4</a>וַיַּ֧רְא אֱלֹהִ֛ים אֶת־הָאֹ֖ור כִּי־טֹ֑וב וַיַּבְדֵּ֣ל אֱלֹהִ֔ים בֵּ֥ין הָאֹ֖ור וּבֵ֥ין הַחֹֽשֶׁךְ׃ </span>|<span class=\"hb\">אֱלֹהִ֔ים </span>|<span class=\"hb\">אֱלֹהִ֔ים </span>\n",
       "6|<span class=\"trb\">Genesis</span>|<span class=\"trb\">Genesis 1</span>|<span class=\"hb\"><a class=\"vn\" href=\"https://shebanq.ancient-data.org/hebrew/text?book=Genesis&chapter=1&verse=5&version=2017&mr=m&qw=q&tp=txt_p&tr=hb&wget=v&qget=v&nget=vt\" title=\"Genesis 1:5\" sec=\"Genesis 1:5\">Genesis 1:5</a>וַיִּקְרָ֨א אֱלֹהִ֤ים׀ לָאֹור֙ יֹ֔ום וְלַחֹ֖שֶׁךְ קָ֣רָא לָ֑יְלָה וַֽיְהִי־עֶ֥רֶב וַֽיְהִי־בֹ֖קֶר יֹ֥ום אֶחָֽד׃ פ </span>|<span class=\"hb\">אֱלֹהִ֤ים׀ </span>|<span class=\"hb\">אֱלֹהִ֤ים׀ </span>\n",
       "7|<span class=\"trb\">Genesis</span>|<span class=\"trb\">Genesis 1</span>|<span class=\"hb\"><a class=\"vn\" href=\"https://shebanq.ancient-data.org/hebrew/text?book=Genesis&chapter=1&verse=6&version=2017&mr=m&qw=q&tp=txt_p&tr=hb&wget=v&qget=v&nget=vt\" title=\"Genesis 1:6\" sec=\"Genesis 1:6\">Genesis 1:6</a>וַיֹּ֣אמֶר אֱלֹהִ֔ים יְהִ֥י רָקִ֖יעַ בְּתֹ֣וךְ הַמָּ֑יִם וִיהִ֣י מַבְדִּ֔יל בֵּ֥ין מַ֖יִם לָמָֽיִם׃ </span>|<span class=\"hb\">אֱלֹהִ֔ים </span>|<span class=\"hb\">אֱלֹהִ֔ים </span>\n",
       "8|<span class=\"trb\">Genesis</span>|<span class=\"trb\">Genesis 1</span>|<span class=\"hb\"><a class=\"vn\" href=\"https://shebanq.ancient-data.org/hebrew/text?book=Genesis&chapter=1&verse=7&version=2017&mr=m&qw=q&tp=txt_p&tr=hb&wget=v&qget=v&nget=vt\" title=\"Genesis 1:7\" sec=\"Genesis 1:7\">Genesis 1:7</a>וַיַּ֣עַשׂ אֱלֹהִים֮ אֶת־הָרָקִיעַ֒ וַיַּבְדֵּ֗ל בֵּ֤ין הַמַּ֨יִם֙ אֲשֶׁר֙ מִתַּ֣חַת לָרָקִ֔יעַ וּבֵ֣ין הַמַּ֔יִם אֲשֶׁ֖ר מֵעַ֣ל לָרָקִ֑יעַ וַֽיְהִי־כֵֽן׃ </span>|<span class=\"hb\">אֱלֹהִים֮ </span>|<span class=\"hb\">אֱלֹהִים֮ </span>\n",
       "9|<span class=\"trb\">Genesis</span>|<span class=\"trb\">Genesis 1</span>|<span class=\"hb\"><a class=\"vn\" href=\"https://shebanq.ancient-data.org/hebrew/text?book=Genesis&chapter=1&verse=8&version=2017&mr=m&qw=q&tp=txt_p&tr=hb&wget=v&qget=v&nget=vt\" title=\"Genesis 1:8\" sec=\"Genesis 1:8\">Genesis 1:8</a>וַיִּקְרָ֧א אֱלֹהִ֛ים לָֽרָקִ֖יעַ שָׁמָ֑יִם וַֽיְהִי־עֶ֥רֶב וַֽיְהִי־בֹ֖קֶר יֹ֥ום שֵׁנִֽי׃ פ </span>|<span class=\"hb\">אֱלֹהִ֛ים </span>|<span class=\"hb\">אֱלֹהִ֛ים </span>\n",
       "10|<span class=\"trb\">Genesis</span>|<span class=\"trb\">Genesis 1</span>|<span class=\"hb\"><a class=\"vn\" href=\"https://shebanq.ancient-data.org/hebrew/text?book=Genesis&chapter=1&verse=9&version=2017&mr=m&qw=q&tp=txt_p&tr=hb&wget=v&qget=v&nget=vt\" title=\"Genesis 1:9\" sec=\"Genesis 1:9\">Genesis 1:9</a>וַיֹּ֣אמֶר אֱלֹהִ֗ים יִקָּו֨וּ הַמַּ֜יִם מִתַּ֤חַת הַשָּׁמַ֨יִם֙ אֶל־מָקֹ֣ום אֶחָ֔ד וְתֵרָאֶ֖ה הַיַּבָּשָׁ֑ה וַֽיְהִי־כֵֽן׃ </span>|<span class=\"hb\">אֱלֹהִ֗ים </span>|<span class=\"hb\">אֱלֹהִ֗ים </span>"
      ],
      "text/plain": [
       "<IPython.core.display.Markdown object>"
      ]
     },
     "metadata": {},
     "output_type": "display_data"
    }
   ],
   "source": [
    "A.table(S.fetch(limit=10), linked=3)"
   ]
  },
  {
   "cell_type": "markdown",
   "metadata": {},
   "source": [
    "## Slow queries\n",
    "\n",
    "The search template above has some pretty tight constraints on one of its objects,\n",
    "so the amount of data to deal with is pretty limited.\n",
    "\n",
    "If the constraints are weak, search may become slow.\n",
    "\n",
    "For example:"
   ]
  },
  {
   "cell_type": "code",
   "execution_count": 15,
   "metadata": {
    "ExecuteTime": {
     "end_time": "2018-05-24T08:53:35.245388Z",
     "start_time": "2018-05-24T08:53:35.241669Z"
    }
   },
   "outputs": [],
   "source": [
    "query = '''\n",
    "% test\n",
    "% verse book=Genesis chapter=2 verse=25\n",
    "verse\n",
    "  clause\n",
    "                                 \n",
    "    p1:phrase\n",
    "        w1:word\n",
    "        w3:word\n",
    "        w1 < w3\n",
    "\n",
    "    p2:phrase\n",
    "        w2:word\n",
    "        w1 < w2 \n",
    "        w3 > w2\n",
    "    \n",
    "    p1 < p2   \n",
    "'''"
   ]
  },
  {
   "cell_type": "markdown",
   "metadata": {},
   "source": [
    "A couple of remarks you may have encountered before.\n",
    "\n",
    "* some objects have got a name\n",
    "* there are additional relations specified between named objects\n",
    "* `<` means: *comes before*, and `>`: *comes after* in the canonical order for nodes,\n",
    "  which for words means: comes textually before/after, but for other nodes the meaning\n",
    "  is explained [here](https://dans-labs.github.io/text-fabric/Api/General/#navigating-nodes)\n",
    "* later on we describe those relations in more detail\n",
    "\n",
    "> **Note on order**\n",
    "Look at the words `w1` and `w3` below phrase `p1`.\n",
    "Although in the template `w1` comes before `w3`, this is not \n",
    "translated in a search constraint of the same nature.\n",
    "\n",
    "> Order between objects in a template is never significant, only embedding is.\n",
    "\n",
    "Because order is not significant, you have to specify order yourself, using relations.\n",
    "\n",
    "It turns out that this is better than the other way around.\n",
    "In MQL order *is* significant, and it is very difficult to \n",
    "search for `w1` and `w2` in any order.\n",
    "Especially if your are looking for more than 2 complex objects with lots of feature\n",
    "conditions, your search template would explode if you had to spell out all\n",
    "possible permutations. See the example of Reinoud Oosting below.\n",
    "\n",
    "> **Note on gaps**\n",
    "Look at the phrases `p1` and `p2`.\n",
    "We do not specify an order here, only that they are different.\n",
    "In order to prevent duplicated searches with `p1` and `p2` interchanged, we even \n",
    "stipulate that `p1 < p2`.\n",
    "There are many spatial relationships possible between different objects.\n",
    "In many cases, neither the one comes before the other, nor vice versa.\n",
    "They can overlap, one can occur in a gap of the other, they can be completely disjoint\n",
    "and interleaved, etc."
   ]
  },
  {
   "cell_type": "code",
   "execution_count": 16,
   "metadata": {
    "ExecuteTime": {
     "end_time": "2018-05-24T08:53:38.402967Z",
     "start_time": "2018-05-24T08:53:37.837161Z"
    }
   },
   "outputs": [
    {
     "name": "stdout",
     "output_type": "stream",
     "text": [
      "   |     0.00s Feature overview: 111 for nodes; 8 for edges; 2 configs; 7 computed\n",
      "  0.00s Checking search template ...\n",
      "  0.00s Setting up search space for 7 objects ...\n",
      "  0.30s Constraining search space with 10 relations ...\n",
      "  0.32s Setting up retrieval plan ...\n",
      "  0.37s Ready to deliver results from 1897440 nodes\n",
      "Iterate over S.fetch() to get the results\n",
      "See S.showPlan() to interpret the results\n"
     ]
    }
   ],
   "source": [
    "S.study(query)"
   ]
  },
  {
   "cell_type": "markdown",
   "metadata": {},
   "source": [
    "That was quick!\n",
    "Well, Text-Fabric knows that narrowing down the search space in this case would take ages,\n",
    "without resulting in a significantly shrunken space.\n",
    "So it skips doing so for most constraints.\n",
    "\n",
    "Let us see the plan, with details."
   ]
  },
  {
   "cell_type": "code",
   "execution_count": 17,
   "metadata": {
    "ExecuteTime": {
     "end_time": "2018-05-24T08:53:40.974372Z",
     "start_time": "2018-05-24T08:53:40.920239Z"
    }
   },
   "outputs": [
    {
     "name": "stdout",
     "output_type": "stream",
     "text": [
      "Search with 7 objects and 10 relations\n",
      "Results are instantiations of the following objects:\n",
      "node  0-verse                             ( 23213   choices)\n",
      "node  1-clause                            ( 88101   choices)\n",
      "node  2-phrase                            (253187   choices)\n",
      "node  3-word                              (426584   choices)\n",
      "node  4-word                              (426584   choices)\n",
      "node  5-phrase                            (253187   choices)\n",
      "node  6-word                              (426584   choices)\n",
      "Instantiations are computed along the following relations:\n",
      "node                      0-verse         ( 23213   choices)\n",
      "edge  0-verse         [[  1-clause        (     3.7 choices)\n",
      "edge  1-clause        [[  5-phrase        (     2.4 choices)\n",
      "edge  5-phrase        [[  6-word          (     1.3 choices)\n",
      "edge  1-clause        [[  2-phrase        (     3.0 choices)\n",
      "edge  2-phrase        <   5-phrase        (126593.5 choices)\n",
      "edge  2-phrase        [[  3-word          (     1.1 choices)\n",
      "edge  6-word          >   3-word          (213292.0 choices)\n",
      "edge  2-phrase        [[  4-word          (     1.5 choices)\n",
      "edge  4-word          >   6-word          (213292.0 choices)\n",
      "edge  3-word          <   4-word          (213292.0 choices)\n",
      "  2.37s The results are connected to the original search template as follows:\n",
      " 0     \n",
      " 1     % test\n",
      " 2     % verse book=Genesis chapter=2 verse=25\n",
      " 3 R0  verse\n",
      " 4 R1    clause\n",
      " 5                                      \n",
      " 6 R2      p1:phrase\n",
      " 7 R3          w1:word\n",
      " 8 R4          w3:word\n",
      " 9             w1 < w3\n",
      "10     \n",
      "11 R5      p2:phrase\n",
      "12 R6          w2:word\n",
      "13             w1 < w2 \n",
      "14             w3 > w2\n",
      "15         \n",
      "16         p1 < p2   \n",
      "17     \n"
     ]
    }
   ],
   "source": [
    "S.showPlan(details=True)"
   ]
  },
  {
   "cell_type": "markdown",
   "metadata": {},
   "source": [
    "As you see, we have a hefty search space here.\n",
    "Let us play with the `count()` function."
   ]
  },
  {
   "cell_type": "code",
   "execution_count": 18,
   "metadata": {
    "ExecuteTime": {
     "end_time": "2018-05-24T08:53:43.176732Z",
     "start_time": "2018-05-24T08:53:42.972063Z"
    }
   },
   "outputs": [
    {
     "name": "stdout",
     "output_type": "stream",
     "text": [
      "  0.00s Counting results per 10 up to 100 ...\n",
      "   |     0.10s 10\n",
      "   |     0.10s 20\n",
      "   |     0.10s 30\n",
      "   |     0.12s 40\n",
      "   |     0.12s 50\n",
      "   |     0.12s 60\n",
      "   |     0.14s 70\n",
      "   |     0.14s 80\n",
      "   |     0.14s 90\n",
      "   |     0.14s 100\n",
      "  0.14s Done: 100 results\n"
     ]
    }
   ],
   "source": [
    "S.count(progress=10, limit=100)"
   ]
  },
  {
   "cell_type": "markdown",
   "metadata": {},
   "source": [
    "We can be bolder than this!"
   ]
  },
  {
   "cell_type": "code",
   "execution_count": 19,
   "metadata": {
    "ExecuteTime": {
     "end_time": "2018-05-24T08:53:45.993373Z",
     "start_time": "2018-05-24T08:53:45.182241Z"
    }
   },
   "outputs": [
    {
     "name": "stdout",
     "output_type": "stream",
     "text": [
      "  0.00s Counting results per 100 up to 1000 ...\n",
      "   |     0.12s 100\n",
      "   |     0.16s 200\n",
      "   |     0.16s 300\n",
      "   |     0.32s 400\n",
      "   |     0.36s 500\n",
      "   |     0.37s 600\n",
      "   |     0.43s 700\n",
      "   |     0.55s 800\n",
      "   |     0.57s 900\n",
      "   |     0.74s 1000\n",
      "  0.74s Done: 1000 results\n"
     ]
    }
   ],
   "source": [
    "S.count(progress=100, limit=1000)"
   ]
  },
  {
   "cell_type": "markdown",
   "metadata": {},
   "source": [
    "OK, not too bad, but note that it takes a big fraction of a second to get just 100 results.\n",
    "\n",
    "Now let us go for all of them by the thousand."
   ]
  },
  {
   "cell_type": "code",
   "execution_count": 20,
   "metadata": {
    "ExecuteTime": {
     "end_time": "2018-05-24T08:53:59.440736Z",
     "start_time": "2018-05-24T08:53:51.899813Z"
    }
   },
   "outputs": [
    {
     "name": "stdout",
     "output_type": "stream",
     "text": [
      "  0.00s Counting results per 1000 up to  the end of the results ...\n",
      "   |     0.70s 1000\n",
      "   |     1.12s 2000\n",
      "   |     1.58s 3000\n",
      "   |     2.00s 4000\n",
      "   |     2.49s 5000\n",
      "   |     3.36s 6000\n",
      "   |     5.25s 7000\n",
      "  6.25s Done: 7618 results\n"
     ]
    }
   ],
   "source": [
    "S.count(progress=1000, limit=-1)"
   ]
  },
  {
   "cell_type": "markdown",
   "metadata": {},
   "source": [
    "See? This is substantial work."
   ]
  },
  {
   "cell_type": "code",
   "execution_count": 21,
   "metadata": {
    "ExecuteTime": {
     "end_time": "2018-05-24T08:54:02.778931Z",
     "start_time": "2018-05-24T08:54:02.657595Z"
    }
   },
   "outputs": [
    {
     "data": {
      "text/markdown": [
       "n | verse | clause | phrase | word | word | phrase | word\n",
       "--- | --- | --- | --- | --- | --- | --- | ---\n",
       "1|<span class=\"hb\"><a class=\"vn\" href=\"https://shebanq.ancient-data.org/hebrew/text?book=Genesis&chapter=2&verse=25&version=2017&mr=m&qw=q&tp=txt_p&tr=hb&wget=v&qget=v&nget=vt\" title=\"Genesis 2:25\" sec=\"Genesis 2:25\">Genesis 2:25</a>וַיִּֽהְי֤וּ שְׁנֵיהֶם֙ עֲרוּמִּ֔ים הָֽאָדָ֖ם וְאִשְׁתֹּ֑ו וְלֹ֖א יִתְבֹּשָֽׁשׁוּ׃ </span>|<span class=\"hb\">וַיִּֽהְי֤וּ שְׁנֵיהֶם֙ עֲרוּמִּ֔ים הָֽאָדָ֖ם וְאִשְׁתֹּ֑ו </span>|<span class=\"hb\">שְׁנֵיהֶם֙ הָֽאָדָ֖ם וְאִשְׁתֹּ֑ו </span>|<span class=\"hb\">שְׁנֵיהֶם֙ </span>|<span class=\"hb\">הָֽ</span>|<span class=\"hb\">עֲרוּמִּ֔ים </span>|<span class=\"hb\">עֲרוּמִּ֔ים </span>\n",
       "2|<span class=\"hb\"><a class=\"vn\" href=\"https://shebanq.ancient-data.org/hebrew/text?book=Genesis&chapter=2&verse=25&version=2017&mr=m&qw=q&tp=txt_p&tr=hb&wget=v&qget=v&nget=vt\" title=\"Genesis 2:25\" sec=\"Genesis 2:25\">Genesis 2:25</a>וַיִּֽהְי֤וּ שְׁנֵיהֶם֙ עֲרוּמִּ֔ים הָֽאָדָ֖ם וְאִשְׁתֹּ֑ו וְלֹ֖א יִתְבֹּשָֽׁשׁוּ׃ </span>|<span class=\"hb\">וַיִּֽהְי֤וּ שְׁנֵיהֶם֙ עֲרוּמִּ֔ים הָֽאָדָ֖ם וְאִשְׁתֹּ֑ו </span>|<span class=\"hb\">שְׁנֵיהֶם֙ הָֽאָדָ֖ם וְאִשְׁתֹּ֑ו </span>|<span class=\"hb\">שְׁנֵיהֶם֙ </span>|<span class=\"hb\">אָדָ֖ם </span>|<span class=\"hb\">עֲרוּמִּ֔ים </span>|<span class=\"hb\">עֲרוּמִּ֔ים </span>\n",
       "3|<span class=\"hb\"><a class=\"vn\" href=\"https://shebanq.ancient-data.org/hebrew/text?book=Genesis&chapter=2&verse=25&version=2017&mr=m&qw=q&tp=txt_p&tr=hb&wget=v&qget=v&nget=vt\" title=\"Genesis 2:25\" sec=\"Genesis 2:25\">Genesis 2:25</a>וַיִּֽהְי֤וּ שְׁנֵיהֶם֙ עֲרוּמִּ֔ים הָֽאָדָ֖ם וְאִשְׁתֹּ֑ו וְלֹ֖א יִתְבֹּשָֽׁשׁוּ׃ </span>|<span class=\"hb\">וַיִּֽהְי֤וּ שְׁנֵיהֶם֙ עֲרוּמִּ֔ים הָֽאָדָ֖ם וְאִשְׁתֹּ֑ו </span>|<span class=\"hb\">שְׁנֵיהֶם֙ הָֽאָדָ֖ם וְאִשְׁתֹּ֑ו </span>|<span class=\"hb\">שְׁנֵיהֶם֙ </span>|<span class=\"hb\">וְ</span>|<span class=\"hb\">עֲרוּמִּ֔ים </span>|<span class=\"hb\">עֲרוּמִּ֔ים </span>\n",
       "4|<span class=\"hb\"><a class=\"vn\" href=\"https://shebanq.ancient-data.org/hebrew/text?book=Genesis&chapter=2&verse=25&version=2017&mr=m&qw=q&tp=txt_p&tr=hb&wget=v&qget=v&nget=vt\" title=\"Genesis 2:25\" sec=\"Genesis 2:25\">Genesis 2:25</a>וַיִּֽהְי֤וּ שְׁנֵיהֶם֙ עֲרוּמִּ֔ים הָֽאָדָ֖ם וְאִשְׁתֹּ֑ו וְלֹ֖א יִתְבֹּשָֽׁשׁוּ׃ </span>|<span class=\"hb\">וַיִּֽהְי֤וּ שְׁנֵיהֶם֙ עֲרוּמִּ֔ים הָֽאָדָ֖ם וְאִשְׁתֹּ֑ו </span>|<span class=\"hb\">שְׁנֵיהֶם֙ הָֽאָדָ֖ם וְאִשְׁתֹּ֑ו </span>|<span class=\"hb\">שְׁנֵיהֶם֙ </span>|<span class=\"hb\">אִשְׁתֹּ֑ו </span>|<span class=\"hb\">עֲרוּמִּ֔ים </span>|<span class=\"hb\">עֲרוּמִּ֔ים </span>\n",
       "5|<span class=\"hb\"><a class=\"vn\" href=\"https://shebanq.ancient-data.org/hebrew/text?book=Genesis&chapter=4&verse=4&version=2017&mr=m&qw=q&tp=txt_p&tr=hb&wget=v&qget=v&nget=vt\" title=\"Genesis 4:4\" sec=\"Genesis 4:4\">Genesis 4:4</a>וְהֶ֨בֶל הֵבִ֥יא גַם־ה֛וּא מִבְּכֹרֹ֥ות צֹאנֹ֖ו וּמֵֽחֶלְבֵהֶ֑ן וַיִּ֣שַׁע יְהוָ֔ה אֶל־הֶ֖בֶל וְאֶל־מִנְחָתֹֽו׃ </span>|<span class=\"hb\">וְהֶ֨בֶל הֵבִ֥יא גַם־ה֛וּא מִבְּכֹרֹ֥ות צֹאנֹ֖ו וּמֵֽחֶלְבֵהֶ֑ן </span>|<span class=\"hb\">הֶ֨בֶל גַם־ה֛וּא </span>|<span class=\"hb\">הֶ֨בֶל </span>|<span class=\"hb\">גַם־</span>|<span class=\"hb\">הֵבִ֥יא </span>|<span class=\"hb\">הֵבִ֥יא </span>\n",
       "6|<span class=\"hb\"><a class=\"vn\" href=\"https://shebanq.ancient-data.org/hebrew/text?book=Genesis&chapter=4&verse=4&version=2017&mr=m&qw=q&tp=txt_p&tr=hb&wget=v&qget=v&nget=vt\" title=\"Genesis 4:4\" sec=\"Genesis 4:4\">Genesis 4:4</a>וְהֶ֨בֶל הֵבִ֥יא גַם־ה֛וּא מִבְּכֹרֹ֥ות צֹאנֹ֖ו וּמֵֽחֶלְבֵהֶ֑ן וַיִּ֣שַׁע יְהוָ֔ה אֶל־הֶ֖בֶל וְאֶל־מִנְחָתֹֽו׃ </span>|<span class=\"hb\">וְהֶ֨בֶל הֵבִ֥יא גַם־ה֛וּא מִבְּכֹרֹ֥ות צֹאנֹ֖ו וּמֵֽחֶלְבֵהֶ֑ן </span>|<span class=\"hb\">הֶ֨בֶל גַם־ה֛וּא </span>|<span class=\"hb\">הֶ֨בֶל </span>|<span class=\"hb\">ה֛וּא </span>|<span class=\"hb\">הֵבִ֥יא </span>|<span class=\"hb\">הֵבִ֥יא </span>\n",
       "7|<span class=\"hb\"><a class=\"vn\" href=\"https://shebanq.ancient-data.org/hebrew/text?book=Genesis&chapter=10&verse=21&version=2017&mr=m&qw=q&tp=txt_p&tr=hb&wget=v&qget=v&nget=vt\" title=\"Genesis 10:21\" sec=\"Genesis 10:21\">Genesis 10:21</a>וּלְשֵׁ֥ם יֻלַּ֖ד גַּם־ה֑וּא אֲבִי֙ כָּל־בְּנֵי־עֵ֔בֶר אֲחִ֖י יֶ֥פֶת הַגָּדֹֽול׃ </span>|<span class=\"hb\">גַּם־ה֑וּא אֲבִי֙ כָּל־בְּנֵי־עֵ֔בֶר אֲחִ֖י יֶ֥פֶת הַגָּדֹֽול׃ </span>|<span class=\"hb\">גַּם־ה֑וּא אֲחִ֖י יֶ֥פֶת הַגָּדֹֽול׃ </span>|<span class=\"hb\">גַּם־</span>|<span class=\"hb\">אֲחִ֖י </span>|<span class=\"hb\">אֲבִי֙ כָּל־בְּנֵי־עֵ֔בֶר </span>|<span class=\"hb\">עֵ֔בֶר </span>\n",
       "8|<span class=\"hb\"><a class=\"vn\" href=\"https://shebanq.ancient-data.org/hebrew/text?book=Genesis&chapter=10&verse=21&version=2017&mr=m&qw=q&tp=txt_p&tr=hb&wget=v&qget=v&nget=vt\" title=\"Genesis 10:21\" sec=\"Genesis 10:21\">Genesis 10:21</a>וּלְשֵׁ֥ם יֻלַּ֖ד גַּם־ה֑וּא אֲבִי֙ כָּל־בְּנֵי־עֵ֔בֶר אֲחִ֖י יֶ֥פֶת הַגָּדֹֽול׃ </span>|<span class=\"hb\">גַּם־ה֑וּא אֲבִי֙ כָּל־בְּנֵי־עֵ֔בֶר אֲחִ֖י יֶ֥פֶת הַגָּדֹֽול׃ </span>|<span class=\"hb\">גַּם־ה֑וּא אֲחִ֖י יֶ֥פֶת הַגָּדֹֽול׃ </span>|<span class=\"hb\">גַּם־</span>|<span class=\"hb\">יֶ֥פֶת </span>|<span class=\"hb\">אֲבִי֙ כָּל־בְּנֵי־עֵ֔בֶר </span>|<span class=\"hb\">עֵ֔בֶר </span>\n",
       "9|<span class=\"hb\"><a class=\"vn\" href=\"https://shebanq.ancient-data.org/hebrew/text?book=Genesis&chapter=10&verse=21&version=2017&mr=m&qw=q&tp=txt_p&tr=hb&wget=v&qget=v&nget=vt\" title=\"Genesis 10:21\" sec=\"Genesis 10:21\">Genesis 10:21</a>וּלְשֵׁ֥ם יֻלַּ֖ד גַּם־ה֑וּא אֲבִי֙ כָּל־בְּנֵי־עֵ֔בֶר אֲחִ֖י יֶ֥פֶת הַגָּדֹֽול׃ </span>|<span class=\"hb\">גַּם־ה֑וּא אֲבִי֙ כָּל־בְּנֵי־עֵ֔בֶר אֲחִ֖י יֶ֥פֶת הַגָּדֹֽול׃ </span>|<span class=\"hb\">גַּם־ה֑וּא אֲחִ֖י יֶ֥פֶת הַגָּדֹֽול׃ </span>|<span class=\"hb\">גַּם־</span>|<span class=\"hb\">הַ</span>|<span class=\"hb\">אֲבִי֙ כָּל־בְּנֵי־עֵ֔בֶר </span>|<span class=\"hb\">עֵ֔בֶר </span>\n",
       "10|<span class=\"hb\"><a class=\"vn\" href=\"https://shebanq.ancient-data.org/hebrew/text?book=Genesis&chapter=10&verse=21&version=2017&mr=m&qw=q&tp=txt_p&tr=hb&wget=v&qget=v&nget=vt\" title=\"Genesis 10:21\" sec=\"Genesis 10:21\">Genesis 10:21</a>וּלְשֵׁ֥ם יֻלַּ֖ד גַּם־ה֑וּא אֲבִי֙ כָּל־בְּנֵי־עֵ֔בֶר אֲחִ֖י יֶ֥פֶת הַגָּדֹֽול׃ </span>|<span class=\"hb\">גַּם־ה֑וּא אֲבִי֙ כָּל־בְּנֵי־עֵ֔בֶר אֲחִ֖י יֶ֥פֶת הַגָּדֹֽול׃ </span>|<span class=\"hb\">גַּם־ה֑וּא אֲחִ֖י יֶ֥פֶת הַגָּדֹֽול׃ </span>|<span class=\"hb\">גַּם־</span>|<span class=\"hb\">גָּדֹֽול׃ </span>|<span class=\"hb\">אֲבִי֙ כָּל־בְּנֵי־עֵ֔בֶר </span>|<span class=\"hb\">עֵ֔בֶר </span>"
      ],
      "text/plain": [
       "<IPython.core.display.Markdown object>"
      ]
     },
     "metadata": {},
     "output_type": "display_data"
    }
   ],
   "source": [
    "A.table(S.fetch(limit=10))"
   ]
  },
  {
   "cell_type": "markdown",
   "metadata": {},
   "source": [
    "## Hand-coding\n",
    "\n",
    "As a check, here is some code that looks for basically the same phenomenon:\n",
    "a phrase within the gap of another phrase.\n",
    "It does not use search, and it gets a bit more focused results, in half the time compared\n",
    "to the search with the template.\n",
    "\n",
    "> **Hint**\n",
    "If you are comfortable with programming, and what you look for is fairly generic,\n",
    "you may be better off without search, provided you can translate your insight in the\n",
    "data into an effective procedure within Text-Fabric.\n",
    "But wait till we are completely done with this example!"
   ]
  },
  {
   "cell_type": "code",
   "execution_count": 22,
   "metadata": {
    "ExecuteTime": {
     "end_time": "2018-05-24T08:54:13.108437Z",
     "start_time": "2018-05-24T08:54:10.074685Z"
    }
   },
   "outputs": [
    {
     "name": "stdout",
     "output_type": "stream",
     "text": [
      "  0.00s Getting gapped phrases\n",
      "  2.04s 368 results\n"
     ]
    }
   ],
   "source": [
    "indent(reset=True)\n",
    "info('Getting gapped phrases')\n",
    "results = []\n",
    "for v in F.otype.s('verse'):\n",
    "    for c in L.d(v, otype='clause'):\n",
    "        ps = L.d(c, otype='phrase')\n",
    "        first = {}\n",
    "        last = {}\n",
    "        slots = {}\n",
    "        # make index of phrase boundaries\n",
    "        for p in ps:\n",
    "            words = L.d(p, otype='word')\n",
    "            first[p] = words[0]\n",
    "            last[p] = words[-1]\n",
    "            slots[p] = set(words)\n",
    "        for p1 in ps:\n",
    "            for p2 in ps:\n",
    "                if p2 < p1: continue\n",
    "                if len(slots[p1] & slots[p2]) != 0: continue\n",
    "                if first[p1] < first[p2] and last[p2] < last[p1]:\n",
    "                    results.append((v, c, p1, p2, first[p1], first[p2], last[p2], last[p1]))\n",
    "info('{} results'.format(len(results)))"
   ]
  },
  {
   "cell_type": "markdown",
   "metadata": {},
   "source": [
    "## Pretty printing\n",
    "\n",
    "We can use the pretty printing of `A.table()` and `A.show()` here as well, even though we have\n",
    "not used search!\n",
    "\n",
    "Not that you can show the node numbers. In this case it helps to see where the gaps are."
   ]
  },
  {
   "cell_type": "code",
   "execution_count": 23,
   "metadata": {
    "ExecuteTime": {
     "end_time": "2018-05-24T08:54:34.120441Z",
     "start_time": "2018-05-24T08:54:34.112139Z"
    }
   },
   "outputs": [
    {
     "data": {
      "text/markdown": [
       "n | verse | clause | phrase | phrase | word | word | word | word\n",
       "--- | --- | --- | --- | --- | --- | --- | --- | ---\n",
       "1|<span class=\"hb\"><a class=\"vn\" href=\"https://shebanq.ancient-data.org/hebrew/text?book=Genesis&chapter=2&verse=25&version=2017&mr=m&qw=q&tp=txt_p&tr=hb&wget=v&qget=v&nget=vt\" title=\"Genesis 2:25\" sec=\"Genesis 2:25\">Genesis 2:25</a>וַיִּֽהְי֤וּ שְׁנֵיהֶם֙ עֲרוּמִּ֔ים הָֽאָדָ֖ם וְאִשְׁתֹּ֑ו וְלֹ֖א יִתְבֹּשָֽׁשׁוּ׃ </span> *1414245* |<span class=\"hb\">וַיִּֽהְי֤וּ שְׁנֵיהֶם֙ עֲרוּמִּ֔ים הָֽאָדָ֖ם וְאִשְׁתֹּ֑ו </span> *427767* |<span class=\"hb\">שְׁנֵיהֶם֙ הָֽאָדָ֖ם וְאִשְׁתֹּ֑ו </span> *652147* |<span class=\"hb\">עֲרוּמִּ֔ים </span> *652148* |<span class=\"hb\">שְׁנֵיהֶם֙ </span> *1159* |<span class=\"hb\">עֲרוּמִּ֔ים </span> *1160* |<span class=\"hb\">עֲרוּמִּ֔ים </span> *1160* |<span class=\"hb\">אִשְׁתֹּ֑ו </span> *1164* \n",
       "2|<span class=\"hb\"><a class=\"vn\" href=\"https://shebanq.ancient-data.org/hebrew/text?book=Genesis&chapter=4&verse=4&version=2017&mr=m&qw=q&tp=txt_p&tr=hb&wget=v&qget=v&nget=vt\" title=\"Genesis 4:4\" sec=\"Genesis 4:4\">Genesis 4:4</a>וְהֶ֨בֶל הֵבִ֥יא גַם־ה֛וּא מִבְּכֹרֹ֥ות צֹאנֹ֖ו וּמֵֽחֶלְבֵהֶ֑ן וַיִּ֣שַׁע יְהוָ֔ה אֶל־הֶ֖בֶל וְאֶל־מִנְחָתֹֽו׃ </span> *1414273* |<span class=\"hb\">וְהֶ֨בֶל הֵבִ֥יא גַם־ה֛וּא מִבְּכֹרֹ֥ות צֹאנֹ֖ו וּמֵֽחֶלְבֵהֶ֑ן </span> *427889* |<span class=\"hb\">הֶ֨בֶל גַם־ה֛וּא </span> *652504* |<span class=\"hb\">הֵבִ֥יא </span> *652505* |<span class=\"hb\">הֶ֨בֶל </span> *1720* |<span class=\"hb\">הֵבִ֥יא </span> *1721* |<span class=\"hb\">הֵבִ֥יא </span> *1721* |<span class=\"hb\">ה֛וּא </span> *1723* \n",
       "3|<span class=\"hb\"><a class=\"vn\" href=\"https://shebanq.ancient-data.org/hebrew/text?book=Genesis&chapter=10&verse=21&version=2017&mr=m&qw=q&tp=txt_p&tr=hb&wget=v&qget=v&nget=vt\" title=\"Genesis 10:21\" sec=\"Genesis 10:21\">Genesis 10:21</a>וּלְשֵׁ֥ם יֻלַּ֖ד גַּם־ה֑וּא אֲבִי֙ כָּל־בְּנֵי־עֵ֔בֶר אֲחִ֖י יֶ֥פֶת הַגָּדֹֽול׃ </span> *1414445* |<span class=\"hb\">גַּם־ה֑וּא אֲבִי֙ כָּל־בְּנֵי־עֵ֔בֶר אֲחִ֖י יֶ֥פֶת הַגָּדֹֽול׃ </span> *428386* |<span class=\"hb\">גַּם־ה֑וּא אֲחִ֖י יֶ֥פֶת הַגָּדֹֽול׃ </span> *654102* |<span class=\"hb\">אֲבִי֙ כָּל־בְּנֵי־עֵ֔בֶר </span> *654103* |<span class=\"hb\">גַּם־</span> *4819* |<span class=\"hb\">אֲבִי֙ </span> *4821* |<span class=\"hb\">עֵ֔בֶר </span> *4824* |<span class=\"hb\">גָּדֹֽול׃ </span> *4828* \n",
       "4|<span class=\"hb\"><a class=\"vn\" href=\"https://shebanq.ancient-data.org/hebrew/text?book=Genesis&chapter=12&verse=17&version=2017&mr=m&qw=q&tp=txt_p&tr=hb&wget=v&qget=v&nget=vt\" title=\"Genesis 12:17\" sec=\"Genesis 12:17\">Genesis 12:17</a>וַיְנַגַּ֨ע יְהוָ֧ה׀ אֶת־פַּרְעֹ֛ה נְגָעִ֥ים גְּדֹלִ֖ים וְאֶת־בֵּיתֹ֑ו עַל־דְּבַ֥ר שָׂרַ֖י אֵ֥שֶׁת אַבְרָֽם׃ </span> *1414505* |<span class=\"hb\">וַיְנַגַּ֨ע יְהוָ֧ה׀ אֶת־פַּרְעֹ֛ה נְגָעִ֥ים גְּדֹלִ֖ים וְאֶת־בֵּיתֹ֑ו עַל־דְּבַ֥ר שָׂרַ֖י אֵ֥שֶׁת אַבְרָֽם׃ </span> *428569* |<span class=\"hb\">אֶת־פַּרְעֹ֛ה וְאֶת־בֵּיתֹ֑ו </span> *654678* |<span class=\"hb\">נְגָעִ֥ים גְּדֹלִ֖ים </span> *654679* |<span class=\"hb\">אֶת־</span> *5803* |<span class=\"hb\">נְגָעִ֥ים </span> *5805* |<span class=\"hb\">גְּדֹלִ֖ים </span> *5806* |<span class=\"hb\">בֵּיתֹ֑ו </span> *5809* \n",
       "5|<span class=\"hb\"><a class=\"vn\" href=\"https://shebanq.ancient-data.org/hebrew/text?book=Genesis&chapter=13&verse=1&version=2017&mr=m&qw=q&tp=txt_p&tr=hb&wget=v&qget=v&nget=vt\" title=\"Genesis 13:1\" sec=\"Genesis 13:1\">Genesis 13:1</a>וַיַּעַל֩ אַבְרָ֨ם מִמִּצְרַ֜יִם ה֠וּא וְאִשְׁתֹּ֧ו וְכָל־אֲשֶׁר־לֹ֛ו וְלֹ֥וט עִמֹּ֖ו הַנֶּֽגְבָּה׃ </span> *1414509* |<span class=\"hb\">וַיַּעַל֩ אַבְרָ֨ם מִמִּצְרַ֜יִם ה֠וּא וְאִשְׁתֹּ֧ו וְכָל־הַנֶּֽגְבָּה׃ </span> *428585* |<span class=\"hb\">אַבְרָ֨ם ה֠וּא וְאִשְׁתֹּ֧ו וְכָל־</span> *654725* |<span class=\"hb\">מִמִּצְרַ֜יִם </span> *654726* |<span class=\"hb\">אַבְרָ֨ם </span> *5868* |<span class=\"hb\">מִ</span> *5869* |<span class=\"hb\">מִּצְרַ֜יִם </span> *5870* |<span class=\"hb\">כָל־</span> *5875* \n",
       "6|<span class=\"hb\"><a class=\"vn\" href=\"https://shebanq.ancient-data.org/hebrew/text?book=Genesis&chapter=14&verse=16&version=2017&mr=m&qw=q&tp=txt_p&tr=hb&wget=v&qget=v&nget=vt\" title=\"Genesis 14:16\" sec=\"Genesis 14:16\">Genesis 14:16</a>וַיָּ֕שֶׁב אֵ֖ת כָּל־הָרְכֻ֑שׁ וְגַם֩ אֶת־לֹ֨וט אָחִ֤יו וּרְכֻשֹׁו֙ הֵשִׁ֔יב וְגַ֥ם אֶת־הַנָּשִׁ֖ים וְאֶת־הָעָֽם׃ </span> *1414542* |<span class=\"hb\">וְגַם֩ אֶת־לֹ֨וט אָחִ֤יו וּרְכֻשֹׁו֙ הֵשִׁ֔יב וְגַ֥ם אֶת־הַנָּשִׁ֖ים וְאֶת־הָעָֽם׃ </span> *428692* |<span class=\"hb\">גַם֩ אֶת־לֹ֨וט אָחִ֤יו וּרְכֻשֹׁו֙ וְגַ֥ם אֶת־הַנָּשִׁ֖ים וְאֶת־הָעָֽם׃ </span> *655061* |<span class=\"hb\">הֵשִׁ֔יב </span> *655062* |<span class=\"hb\">גַם֩ </span> *6515* |<span class=\"hb\">הֵשִׁ֔יב </span> *6521* |<span class=\"hb\">הֵשִׁ֔יב </span> *6521* |<span class=\"hb\">עָֽם׃ </span> *6530* \n",
       "7|<span class=\"hb\"><a class=\"vn\" href=\"https://shebanq.ancient-data.org/hebrew/text?book=Genesis&chapter=17&verse=7&version=2017&mr=m&qw=q&tp=txt_p&tr=hb&wget=v&qget=v&nget=vt\" title=\"Genesis 17:7\" sec=\"Genesis 17:7\">Genesis 17:7</a>וַהֲקִמֹתִ֨י אֶת־בְּרִיתִ֜י בֵּינִ֣י וּבֵינֶ֗ךָ וּבֵ֨ין זַרְעֲךָ֧ אַחֲרֶ֛יךָ לְדֹרֹתָ֖ם לִבְרִ֣ית עֹולָ֑ם לִהְיֹ֤ות לְךָ֙ לֵֽאלֹהִ֔ים וּֽלְזַרְעֲךָ֖ אַחֲרֶֽיךָ׃ </span> *1414594* |<span class=\"hb\">לִהְיֹ֤ות לְךָ֙ לֵֽאלֹהִ֔ים וּֽלְזַרְעֲךָ֖ אַחֲרֶֽיךָ׃ </span> *428886* |<span class=\"hb\">לְךָ֙ וּֽלְזַרְעֲךָ֖ אַחֲרֶֽיךָ׃ </span> *655642* |<span class=\"hb\">לֵֽאלֹהִ֔ים </span> *655643* |<span class=\"hb\">לְךָ֙ </span> *7431* |<span class=\"hb\">לֵֽ</span> *7432* |<span class=\"hb\">אלֹהִ֔ים </span> *7433* |<span class=\"hb\">אַחֲרֶֽיךָ׃ </span> *7437* \n",
       "8|<span class=\"hb\"><a class=\"vn\" href=\"https://shebanq.ancient-data.org/hebrew/text?book=Genesis&chapter=19&verse=4&version=2017&mr=m&qw=q&tp=txt_p&tr=hb&wget=v&qget=v&nget=vt\" title=\"Genesis 19:4\" sec=\"Genesis 19:4\">Genesis 19:4</a>טֶרֶם֮ יִשְׁכָּבוּ֒ וְאַנְשֵׁ֨י הָעִ֜יר אַנְשֵׁ֤י סְדֹם֙ נָסַ֣בּוּ עַל־הַבַּ֔יִת מִנַּ֖עַר וְעַד־זָקֵ֑ן כָּל־הָעָ֖ם מִקָּצֶֽה׃ </span> *1414651* |<span class=\"hb\">וְאַנְשֵׁ֨י הָעִ֜יר אַנְשֵׁ֤י סְדֹם֙ נָסַ֣בּוּ עַל־הַבַּ֔יִת מִנַּ֖עַר וְעַד־זָקֵ֑ן כָּל־הָעָ֖ם מִקָּצֶֽה׃ </span> *429128* |<span class=\"hb\">אַנְשֵׁ֨י הָעִ֜יר אַנְשֵׁ֤י סְדֹם֙ מִנַּ֖עַר וְעַד־זָקֵ֑ן כָּל־הָעָ֖ם מִקָּצֶֽה׃ </span> *656353* |<span class=\"hb\">נָסַ֣בּוּ </span> *656354* |<span class=\"hb\">אַנְשֵׁ֨י </span> *8502* |<span class=\"hb\">נָסַ֣בּוּ </span> *8507* |<span class=\"hb\">נָסַ֣בּוּ </span> *8507* |<span class=\"hb\">קָּצֶֽה׃ </span> *8520* \n",
       "9|<span class=\"hb\"><a class=\"vn\" href=\"https://shebanq.ancient-data.org/hebrew/text?book=Genesis&chapter=19&verse=4&version=2017&mr=m&qw=q&tp=txt_p&tr=hb&wget=v&qget=v&nget=vt\" title=\"Genesis 19:4\" sec=\"Genesis 19:4\">Genesis 19:4</a>טֶרֶם֮ יִשְׁכָּבוּ֒ וְאַנְשֵׁ֨י הָעִ֜יר אַנְשֵׁ֤י סְדֹם֙ נָסַ֣בּוּ עַל־הַבַּ֔יִת מִנַּ֖עַר וְעַד־זָקֵ֑ן כָּל־הָעָ֖ם מִקָּצֶֽה׃ </span> *1414651* |<span class=\"hb\">וְאַנְשֵׁ֨י הָעִ֜יר אַנְשֵׁ֤י סְדֹם֙ נָסַ֣בּוּ עַל־הַבַּ֔יִת מִנַּ֖עַר וְעַד־זָקֵ֑ן כָּל־הָעָ֖ם מִקָּצֶֽה׃ </span> *429128* |<span class=\"hb\">אַנְשֵׁ֨י הָעִ֜יר אַנְשֵׁ֤י סְדֹם֙ מִנַּ֖עַר וְעַד־זָקֵ֑ן כָּל־הָעָ֖ם מִקָּצֶֽה׃ </span> *656353* |<span class=\"hb\">עַל־הַבַּ֔יִת </span> *656355* |<span class=\"hb\">אַנְשֵׁ֨י </span> *8502* |<span class=\"hb\">עַל־</span> *8508* |<span class=\"hb\">בַּ֔יִת </span> *8510* |<span class=\"hb\">קָּצֶֽה׃ </span> *8520* \n",
       "10|<span class=\"hb\"><a class=\"vn\" href=\"https://shebanq.ancient-data.org/hebrew/text?book=Genesis&chapter=22&verse=3&version=2017&mr=m&qw=q&tp=txt_p&tr=hb&wget=v&qget=v&nget=vt\" title=\"Genesis 22:3\" sec=\"Genesis 22:3\">Genesis 22:3</a>וַיַּשְׁכֵּ֨ם אַבְרָהָ֜ם בַּבֹּ֗קֶר וַֽיַּחֲבֹשׁ֙ אֶת־חֲמֹרֹ֔ו וַיִּקַּ֞ח אֶת־שְׁנֵ֤י נְעָרָיו֙ אִתֹּ֔ו וְאֵ֖ת יִצְחָ֣ק בְּנֹ֑ו וַיְבַקַּע֙ עֲצֵ֣י עֹלָ֔ה וַיָּ֣קָם וַיֵּ֔לֶךְ אֶל־הַמָּקֹ֖ום אֲשֶׁר־אָֽמַר־לֹ֥ו הָאֱלֹהִֽים׃ </span> *1414740* |<span class=\"hb\">וַיִּקַּ֞ח אֶת־שְׁנֵ֤י נְעָרָיו֙ אִתֹּ֔ו וְאֵ֖ת יִצְחָ֣ק בְּנֹ֑ו </span> *429497* |<span class=\"hb\">אֶת־שְׁנֵ֤י נְעָרָיו֙ וְאֵ֖ת יִצְחָ֣ק בְּנֹ֑ו </span> *657505* |<span class=\"hb\">אִתֹּ֔ו </span> *657506* |<span class=\"hb\">אֶת־</span> *10284* |<span class=\"hb\">אִתֹּ֔ו </span> *10287* |<span class=\"hb\">אִתֹּ֔ו </span> *10287* |<span class=\"hb\">בְּנֹ֑ו </span> *10291* "
      ],
      "text/plain": [
       "<IPython.core.display.Markdown object>"
      ]
     },
     "metadata": {},
     "output_type": "display_data"
    },
    {
     "data": {
      "text/markdown": [
       "\n",
       "\n",
       "**verse** *1*\n",
       "\n"
      ],
      "text/plain": [
       "<IPython.core.display.Markdown object>"
      ]
     },
     "metadata": {},
     "output_type": "display_data"
    },
    {
     "data": {
      "text/html": [
       "<div class=\"verse \" style=\"background-color: None;\">\n",
       "\n",
       "    <div class=\"vl\">\n",
       "        <div class=\"vrs\"><a href=\"https://shebanq.ancient-data.org/hebrew/text?book=Genesis&chapter=2&verse=25&version=2017&mr=m&qw=q&tp=txt_p&tr=hb&wget=v&qget=v&nget=vt\" title=\"show this passage in SHEBANQ\" sec=\"Genesis 2:25\">Genesis 2:25</a></div>\n",
       "        \n",
       "    </div>\n",
       "\n",
       "<div class=\"satom \" style=\"background-color: None;\">\n",
       "\n",
       "    <div class=\"sentence\">\n",
       "        <a href=\"https://shebanq.ancient-data.org/hebrew/text?book=Genesis&chapter=2&verse=25&version=2017&mr=m&qw=q&tp=txt_p&tr=hb&wget=v&qget=v&nget=vt\" title=\"Genesis 2:25\" sec=\"Genesis 2:25\">sentence</a>   <span class=\"number\">59</span>\n",
       "    </div>\n",
       "    <div class=\"atoms\">\n",
       "\n",
       "<div class=\"catom  hl\">\n",
       "\n",
       "    <div class=\"clause hl\">\n",
       "        <a href=\"https://shebanq.ancient-data.org/hebrew/text?book=Genesis&chapter=2&verse=25&version=2017&mr=m&qw=q&tp=txt_p&tr=hb&wget=v&qget=v&nget=vt\" title=\"Genesis 2:25\" sec=\"Genesis 2:25\">clause</a>   <span class=\"typ\">WayX</span>\n",
       "    </div>\n",
       "    <div class=\"atoms\">\n",
       "\n",
       "<div class=\"patom \" style=\"background-color: None;\">\n",
       "\n",
       "    <div class=\"phrase\">\n",
       "        <a href=\"https://shebanq.ancient-data.org/hebrew/text?book=Genesis&chapter=2&verse=25&version=2017&mr=m&qw=q&tp=txt_p&tr=hb&wget=v&qget=v&nget=vt\" title=\"Genesis 2:25\" sec=\"Genesis 2:25\">phrase</a>   <span class=\"function\">Conj</span> <span class=\"typ\">CP</span>\n",
       "    </div>\n",
       "    <div class=\"atoms\">\n",
       "\n",
       "<div class=\"word \" style=\"background-color: None;\">\n",
       "<div class=\"h\"><a target=\"_blank\" href=\"https://shebanq.ancient-data.org/hebrew/word?version=2017&id=1W\" title=\"show this lexeme in SHEBANQ\">וַ</a></div>\n",
       "<div class=\"features\"> <span class=\"pdp\"><a href=\"https://shebanq.ancient-data.org/hebrew/text?book=Genesis&chapter=2&verse=25&version=2017&mr=m&qw=q&tp=txt_p&tr=hb&wget=v&qget=v&nget=vt\" title=\"Genesis 2:25\" sec=\"Genesis 2:25\">conj</a></span> <span class=\"gloss\">and</span></div>\n",
       "\n",
       "\n",
       "</div>\n",
       "\n",
       "\n",
       "    </div>\n",
       "\n",
       "\n",
       "</div>\n",
       "\n",
       "<div class=\"patom \" style=\"background-color: None;\">\n",
       "\n",
       "    <div class=\"phrase\">\n",
       "        <a href=\"https://shebanq.ancient-data.org/hebrew/text?book=Genesis&chapter=2&verse=25&version=2017&mr=m&qw=q&tp=txt_p&tr=hb&wget=v&qget=v&nget=vt\" title=\"Genesis 2:25\" sec=\"Genesis 2:25\">phrase</a>   <span class=\"function\">Pred</span> <span class=\"typ\">VP</span>\n",
       "    </div>\n",
       "    <div class=\"atoms\">\n",
       "\n",
       "<div class=\"word \" style=\"background-color: None;\">\n",
       "<div class=\"h\"><a target=\"_blank\" href=\"https://shebanq.ancient-data.org/hebrew/word?version=2017&id=1HJHv\" title=\"show this lexeme in SHEBANQ\">יִּֽהְי֤וּ </a></div>\n",
       "<div class=\"features\"> <span class=\"pdp\"><a href=\"https://shebanq.ancient-data.org/hebrew/text?book=Genesis&chapter=2&verse=25&version=2017&mr=m&qw=q&tp=txt_p&tr=hb&wget=v&qget=v&nget=vt\" title=\"Genesis 2:25\" sec=\"Genesis 2:25\">verb</a></span> <span class=\"gloss\">be</span> <span class=\"vs\">qal</span> <span class=\"vt\">wayq</span></div>\n",
       "\n",
       "\n",
       "</div>\n",
       "\n",
       "\n",
       "    </div>\n",
       "\n",
       "\n",
       "</div>\n",
       "\n",
       "<div class=\"patom  l hl\">\n",
       "\n",
       "    <div class=\"phrase hl\">\n",
       "        <a href=\"https://shebanq.ancient-data.org/hebrew/text?book=Genesis&chapter=2&verse=25&version=2017&mr=m&qw=q&tp=txt_p&tr=hb&wget=v&qget=v&nget=vt\" title=\"Genesis 2:25\" sec=\"Genesis 2:25\">phrase</a>   <span class=\"function\">Subj</span> <span class=\"typ\">NP</span>\n",
       "    </div>\n",
       "    <div class=\"atoms\">\n",
       "\n",
       "<div class=\"word  hl\">\n",
       "<div class=\"h\"><a target=\"_blank\" href=\"https://shebanq.ancient-data.org/hebrew/word?version=2017&id=1CNJMn\" title=\"show this lexeme in SHEBANQ\">שְׁנֵיהֶם֙ </a></div>\n",
       "<div class=\"features\"> <span class=\"pdp\"><a href=\"https://shebanq.ancient-data.org/hebrew/text?book=Genesis&chapter=2&verse=25&version=2017&mr=m&qw=q&tp=txt_p&tr=hb&wget=v&qget=v&nget=vt\" title=\"Genesis 2:25\" sec=\"Genesis 2:25\">subs</a></span> <span class=\"gloss\">two</span></div>\n",
       "\n",
       "\n",
       "</div>\n",
       "\n",
       "\n",
       "    </div>\n",
       "\n",
       "\n",
       "</div>\n",
       "\n",
       "<div class=\"patom  hl\">\n",
       "\n",
       "    <div class=\"phrase hl\">\n",
       "        <a href=\"https://shebanq.ancient-data.org/hebrew/text?book=Genesis&chapter=2&verse=25&version=2017&mr=m&qw=q&tp=txt_p&tr=hb&wget=v&qget=v&nget=vt\" title=\"Genesis 2:25\" sec=\"Genesis 2:25\">phrase</a>   <span class=\"function\">PreC</span> <span class=\"typ\">AdjP</span>\n",
       "    </div>\n",
       "    <div class=\"atoms\">\n",
       "\n",
       "<div class=\"word  hl\">\n",
       "<div class=\"h\"><a target=\"_blank\" href=\"https://shebanq.ancient-data.org/hebrew/word?version=2017&id=1ORWMn\" title=\"show this lexeme in SHEBANQ\">עֲרוּמִּ֔ים </a></div>\n",
       "<div class=\"features\"> <span class=\"pdp\"><a href=\"https://shebanq.ancient-data.org/hebrew/text?book=Genesis&chapter=2&verse=25&version=2017&mr=m&qw=q&tp=txt_p&tr=hb&wget=v&qget=v&nget=vt\" title=\"Genesis 2:25\" sec=\"Genesis 2:25\">adjv</a></span> <span class=\"gloss\">naked</span></div>\n",
       "\n",
       "\n",
       "</div>\n",
       "\n",
       "\n",
       "    </div>\n",
       "\n",
       "\n",
       "</div>\n",
       "\n",
       "<div class=\"patom  r hl\">\n",
       "\n",
       "    <div class=\"phrase hl\">\n",
       "        <a href=\"https://shebanq.ancient-data.org/hebrew/text?book=Genesis&chapter=2&verse=25&version=2017&mr=m&qw=q&tp=txt_p&tr=hb&wget=v&qget=v&nget=vt\" title=\"Genesis 2:25\" sec=\"Genesis 2:25\">phrase</a>   <span class=\"function\">Subj</span> <span class=\"typ\">NP</span>\n",
       "    </div>\n",
       "    <div class=\"atoms\">\n",
       "\n",
       "<div class=\"word \" style=\"background-color: None;\">\n",
       "<div class=\"h\"><a target=\"_blank\" href=\"https://shebanq.ancient-data.org/hebrew/word?version=2017&id=1H\" title=\"show this lexeme in SHEBANQ\">הָֽ</a></div>\n",
       "<div class=\"features\"> <span class=\"pdp\"><a href=\"https://shebanq.ancient-data.org/hebrew/text?book=Genesis&chapter=2&verse=25&version=2017&mr=m&qw=q&tp=txt_p&tr=hb&wget=v&qget=v&nget=vt\" title=\"Genesis 2:25\" sec=\"Genesis 2:25\">art</a></span> <span class=\"gloss\">the</span></div>\n",
       "\n",
       "\n",
       "</div>\n",
       "\n",
       "<div class=\"word \" style=\"background-color: None;\">\n",
       "<div class=\"h\"><a target=\"_blank\" href=\"https://shebanq.ancient-data.org/hebrew/word?version=2017&id=1ADMn\" title=\"show this lexeme in SHEBANQ\">אָדָ֖ם </a></div>\n",
       "<div class=\"features\"> <span class=\"pdp\"><a href=\"https://shebanq.ancient-data.org/hebrew/text?book=Genesis&chapter=2&verse=25&version=2017&mr=m&qw=q&tp=txt_p&tr=hb&wget=v&qget=v&nget=vt\" title=\"Genesis 2:25\" sec=\"Genesis 2:25\">subs</a></span> <span class=\"gloss\">human, mankind</span></div>\n",
       "\n",
       "\n",
       "</div>\n",
       "\n",
       "<div class=\"word \" style=\"background-color: None;\">\n",
       "<div class=\"h\"><a target=\"_blank\" href=\"https://shebanq.ancient-data.org/hebrew/word?version=2017&id=1W\" title=\"show this lexeme in SHEBANQ\">וְ</a></div>\n",
       "<div class=\"features\"> <span class=\"pdp\"><a href=\"https://shebanq.ancient-data.org/hebrew/text?book=Genesis&chapter=2&verse=25&version=2017&mr=m&qw=q&tp=txt_p&tr=hb&wget=v&qget=v&nget=vt\" title=\"Genesis 2:25\" sec=\"Genesis 2:25\">conj</a></span> <span class=\"gloss\">and</span></div>\n",
       "\n",
       "\n",
       "</div>\n",
       "\n",
       "<div class=\"word  hl\">\n",
       "<div class=\"h\"><a target=\"_blank\" href=\"https://shebanq.ancient-data.org/hebrew/word?version=2017&id=1ACHn\" title=\"show this lexeme in SHEBANQ\">אִשְׁתֹּ֑ו </a></div>\n",
       "<div class=\"features\"> <span class=\"pdp\"><a href=\"https://shebanq.ancient-data.org/hebrew/text?book=Genesis&chapter=2&verse=25&version=2017&mr=m&qw=q&tp=txt_p&tr=hb&wget=v&qget=v&nget=vt\" title=\"Genesis 2:25\" sec=\"Genesis 2:25\">subs</a></span> <span class=\"gloss\">woman</span></div>\n",
       "\n",
       "\n",
       "</div>\n",
       "\n",
       "\n",
       "    </div>\n",
       "\n",
       "\n",
       "</div>\n",
       "\n",
       "\n",
       "    </div>\n",
       "\n",
       "\n",
       "</div>\n",
       "\n",
       "\n",
       "    </div>\n",
       "\n",
       "\n",
       "</div>\n",
       "\n",
       "<div class=\"satom \" style=\"background-color: None;\">\n",
       "\n",
       "    <div class=\"sentence\">\n",
       "        <a href=\"https://shebanq.ancient-data.org/hebrew/text?book=Genesis&chapter=2&verse=25&version=2017&mr=m&qw=q&tp=txt_p&tr=hb&wget=v&qget=v&nget=vt\" title=\"Genesis 2:25\" sec=\"Genesis 2:25\">sentence</a>   <span class=\"number\">60</span>\n",
       "    </div>\n",
       "    <div class=\"atoms\">\n",
       "\n",
       "<div class=\"catom \" style=\"background-color: None;\">\n",
       "\n",
       "    <div class=\"clause\">\n",
       "        <a href=\"https://shebanq.ancient-data.org/hebrew/text?book=Genesis&chapter=2&verse=25&version=2017&mr=m&qw=q&tp=txt_p&tr=hb&wget=v&qget=v&nget=vt\" title=\"Genesis 2:25\" sec=\"Genesis 2:25\">clause</a>   <span class=\"typ\">WxY0</span>\n",
       "    </div>\n",
       "    <div class=\"atoms\">\n",
       "\n",
       "<div class=\"patom \" style=\"background-color: None;\">\n",
       "\n",
       "    <div class=\"phrase\">\n",
       "        <a href=\"https://shebanq.ancient-data.org/hebrew/text?book=Genesis&chapter=2&verse=25&version=2017&mr=m&qw=q&tp=txt_p&tr=hb&wget=v&qget=v&nget=vt\" title=\"Genesis 2:25\" sec=\"Genesis 2:25\">phrase</a>   <span class=\"function\">Conj</span> <span class=\"typ\">CP</span>\n",
       "    </div>\n",
       "    <div class=\"atoms\">\n",
       "\n",
       "<div class=\"word \" style=\"background-color: None;\">\n",
       "<div class=\"h\"><a target=\"_blank\" href=\"https://shebanq.ancient-data.org/hebrew/word?version=2017&id=1W\" title=\"show this lexeme in SHEBANQ\">וְ</a></div>\n",
       "<div class=\"features\"> <span class=\"pdp\"><a href=\"https://shebanq.ancient-data.org/hebrew/text?book=Genesis&chapter=2&verse=25&version=2017&mr=m&qw=q&tp=txt_p&tr=hb&wget=v&qget=v&nget=vt\" title=\"Genesis 2:25\" sec=\"Genesis 2:25\">conj</a></span> <span class=\"gloss\">and</span></div>\n",
       "\n",
       "\n",
       "</div>\n",
       "\n",
       "\n",
       "    </div>\n",
       "\n",
       "\n",
       "</div>\n",
       "\n",
       "<div class=\"patom \" style=\"background-color: None;\">\n",
       "\n",
       "    <div class=\"phrase\">\n",
       "        <a href=\"https://shebanq.ancient-data.org/hebrew/text?book=Genesis&chapter=2&verse=25&version=2017&mr=m&qw=q&tp=txt_p&tr=hb&wget=v&qget=v&nget=vt\" title=\"Genesis 2:25\" sec=\"Genesis 2:25\">phrase</a>   <span class=\"function\">Nega</span> <span class=\"typ\">NegP</span>\n",
       "    </div>\n",
       "    <div class=\"atoms\">\n",
       "\n",
       "<div class=\"word \" style=\"background-color: None;\">\n",
       "<div class=\"h\"><a target=\"_blank\" href=\"https://shebanq.ancient-data.org/hebrew/word?version=2017&id=1LA\" title=\"show this lexeme in SHEBANQ\">לֹ֖א </a></div>\n",
       "<div class=\"features\"> <span class=\"pdp\"><a href=\"https://shebanq.ancient-data.org/hebrew/text?book=Genesis&chapter=2&verse=25&version=2017&mr=m&qw=q&tp=txt_p&tr=hb&wget=v&qget=v&nget=vt\" title=\"Genesis 2:25\" sec=\"Genesis 2:25\">nega</a></span> <span class=\"gloss\">not</span></div>\n",
       "\n",
       "\n",
       "</div>\n",
       "\n",
       "\n",
       "    </div>\n",
       "\n",
       "\n",
       "</div>\n",
       "\n",
       "<div class=\"patom \" style=\"background-color: None;\">\n",
       "\n",
       "    <div class=\"phrase\">\n",
       "        <a href=\"https://shebanq.ancient-data.org/hebrew/text?book=Genesis&chapter=2&verse=25&version=2017&mr=m&qw=q&tp=txt_p&tr=hb&wget=v&qget=v&nget=vt\" title=\"Genesis 2:25\" sec=\"Genesis 2:25\">phrase</a>   <span class=\"function\">Pred</span> <span class=\"typ\">VP</span>\n",
       "    </div>\n",
       "    <div class=\"atoms\">\n",
       "\n",
       "<div class=\"word \" style=\"background-color: None;\">\n",
       "<div class=\"h\"><a target=\"_blank\" href=\"https://shebanq.ancient-data.org/hebrew/word?version=2017&id=1BWCv\" title=\"show this lexeme in SHEBANQ\">יִתְבֹּשָֽׁשׁוּ׃ </a></div>\n",
       "<div class=\"features\"> <span class=\"pdp\"><a href=\"https://shebanq.ancient-data.org/hebrew/text?book=Genesis&chapter=2&verse=25&version=2017&mr=m&qw=q&tp=txt_p&tr=hb&wget=v&qget=v&nget=vt\" title=\"Genesis 2:25\" sec=\"Genesis 2:25\">verb</a></span> <span class=\"gloss\">be ashamed</span> <span class=\"vs\">hit</span> <span class=\"vt\">impf</span></div>\n",
       "\n",
       "\n",
       "</div>\n",
       "\n",
       "\n",
       "    </div>\n",
       "\n",
       "\n",
       "</div>\n",
       "\n",
       "\n",
       "    </div>\n",
       "\n",
       "\n",
       "</div>\n",
       "\n",
       "\n",
       "    </div>\n",
       "\n",
       "\n",
       "</div>\n",
       "\n",
       "\n",
       "</div>\n"
      ],
      "text/plain": [
       "<IPython.core.display.HTML object>"
      ]
     },
     "metadata": {},
     "output_type": "display_data"
    }
   ],
   "source": [
    "A.table(results, withNodes=True, end=10)\n",
    "A.show(results, start=1, end=1)"
   ]
  },
  {
   "cell_type": "markdown",
   "metadata": {},
   "source": [
    "**NB**\n",
    "Gaps are a tricky phenomenon. In [gaps](searchGaps.ipynb) we will deal with them cruelly."
   ]
  },
  {
   "cell_type": "markdown",
   "metadata": {},
   "source": [
    "## An other gap example\n",
    "\n",
    "Here is an example by Yanniek van der Schans (2018-09-21)."
   ]
  },
  {
   "cell_type": "code",
   "execution_count": 24,
   "metadata": {},
   "outputs": [],
   "source": [
    "query = '''\n",
    "c:clause\n",
    " PreGap:phrase_atom\n",
    " LastPhrase:phrase_atom\n",
    " :=\n",
    "\n",
    "Gap:clause_atom\n",
    " :: word\n",
    "\n",
    "PreGap < Gap\n",
    "Gap < LastPhrase\n",
    "c || Gap\n",
    "'''"
   ]
  },
  {
   "cell_type": "code",
   "execution_count": 25,
   "metadata": {},
   "outputs": [
    {
     "name": "stdout",
     "output_type": "stream",
     "text": [
      "   |     0.00s Feature overview: 111 for nodes; 8 for edges; 2 configs; 7 computed\n",
      "  0.00s Checking search template ...\n",
      "  0.00s Setting up search space for 5 objects ...\n",
      "  0.19s Constraining search space with 8 relations ...\n",
      "  0.27s Setting up retrieval plan ...\n",
      "  0.28s Ready to deliver results from 633541 nodes\n",
      "Iterate over S.fetch() to get the results\n",
      "See S.showPlan() to interpret the results\n"
     ]
    }
   ],
   "source": [
    "S.study(query)"
   ]
  },
  {
   "cell_type": "code",
   "execution_count": 26,
   "metadata": {},
   "outputs": [
    {
     "name": "stdout",
     "output_type": "stream",
     "text": [
      "Search with 5 objects and 8 relations\n",
      "Results are instantiations of the following objects:\n",
      "node  0-clause                            ( 88101   choices)\n",
      "node  1-phrase_atom                       (267519   choices)\n",
      "node  2-phrase_atom                       (267519   choices)\n",
      "node  3-clause_atom                       (  5201   choices)\n",
      "node  4-word                              (  5201   choices)\n",
      "Instantiations are computed along the following relations:\n",
      "node                      3-clause_atom   (  5201   choices)\n",
      "edge  3-clause_atom   ::  4-word          (     1.0 choices)\n",
      "edge  4-word          ]]  3-clause_atom   (     1.0 choices)\n",
      "edge  3-clause_atom   ||  0-clause        ( 79290.9 choices)\n",
      "edge  0-clause        :=  2-phrase_atom   (     1.0 choices)\n",
      "edge  2-phrase_atom   ]]  0-clause        (     1.0 choices)\n",
      "edge  2-phrase_atom   >   3-clause_atom   (  2600.5 choices)\n",
      "edge  0-clause        [[  1-phrase_atom   (     2.9 choices)\n",
      "edge  1-phrase_atom   <   3-clause_atom   (  2600.5 choices)\n",
      "  3.58s The results are connected to the original search template as follows:\n",
      " 0     \n",
      " 1 R0  c:clause\n",
      " 2 R1   PreGap:phrase_atom\n",
      " 3 R2   LastPhrase:phrase_atom\n",
      " 4      :=\n",
      " 5     \n",
      " 6 R3  Gap:clause_atom\n",
      " 7 R4   :: word\n",
      " 8     \n",
      " 9     PreGap < Gap\n",
      "10     Gap < LastPhrase\n",
      "11     c || Gap\n",
      "12     \n"
     ]
    }
   ],
   "source": [
    "S.showPlan(details=True)"
   ]
  },
  {
   "cell_type": "code",
   "execution_count": 27,
   "metadata": {},
   "outputs": [
    {
     "name": "stdout",
     "output_type": "stream",
     "text": [
      "  0.00s Counting results per 1 up to 1 ...\n",
      "   |     4.15s 1\n",
      "  4.15s Done: 1 results\n"
     ]
    }
   ],
   "source": [
    "S.count(progress=1, limit=1)"
   ]
  },
  {
   "cell_type": "markdown",
   "metadata": {},
   "source": [
    "# Next\n",
    "\n",
    "You have seen cases where the implementation is to blame.\n",
    "\n",
    "Now I want to point to gaps in your understanding:\n",
    "[gaps](searchGaps.ipynb)\n",
    "\n",
    "---\n",
    "\n",
    "[basic](search.ipynb)\n",
    "[advanced](searchAdvanced.ipynb)\n",
    "[sets](searchSets.ipynb)\n",
    "[relations](searchRelations.ipynb)\n",
    "[quantifiers](searchQuantifiers.ipynb)\n",
    "rough\n",
    "[gaps](searchGaps.ipynb)"
   ]
  },
  {
   "cell_type": "code",
   "execution_count": null,
   "metadata": {},
   "outputs": [],
   "source": []
  }
 ],
 "metadata": {
  "kernelspec": {
   "display_name": "Python 3",
   "language": "python",
   "name": "python3"
  },
  "language_info": {
   "codemirror_mode": {
    "name": "ipython",
    "version": 3
   },
   "file_extension": ".py",
   "mimetype": "text/x-python",
   "name": "python",
   "nbconvert_exporter": "python",
   "pygments_lexer": "ipython3",
   "version": "3.7.1"
  }
 },
 "nbformat": 4,
 "nbformat_minor": 2
}
