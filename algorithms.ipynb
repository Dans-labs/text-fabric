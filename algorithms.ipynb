{
 "cells": [
  {
   "cell_type": "markdown",
   "metadata": {},
   "source": [
    "# Text-Fabric\n",
    "\n",
    "This is testing ground for algorithms to be used in Text-Fabric."
   ]
  },
  {
   "cell_type": "markdown",
   "metadata": {},
   "source": [
    "## Range manipulation\n",
    "\n",
    "### Convert iterable to ranges\n",
    "Convert an iterable of numbers to a comma separated optimal list of ranges\n",
    "optimal means:\n",
    "1. the ranges are sorted\n",
    "2. adjacent ranges do not share a boundary, i.e. there is a real gap\n",
    "   between adjacent ranges\n",
    "**NB:** Unlike in Python, ranges include their boundary values.\n",
    "\n",
    "The parameter `nlist` can be any iterable, arrays, lists, \n",
    "dictionary keys, sets but the items must be numbers, not strings.\n",
    "The iterable will be sorted and stripped of duplicates.\n",
    "\n",
    "We also define the converse: from a list of number ranges to an iterable, in this case: a list. The `ranges` parameter is a list of tuples `start` and `end`, which are the boundaries of a range. The boundaries are inclusive. Instead of a tuple, a single integer may be provided.\n",
    "If `end` is bigger than `start`, the two will be swapped around.\n",
    "The result will be a sorted list without duplicates."
   ]
  },
  {
   "cell_type": "code",
   "execution_count": 6,
   "metadata": {
    "collapsed": true
   },
   "outputs": [],
   "source": [
    "import collections"
   ]
  },
  {
   "cell_type": "code",
   "execution_count": 40,
   "metadata": {
    "collapsed": true
   },
   "outputs": [],
   "source": [
    "def convert_to_ranges(nlist):\n",
    "    ranges = []\n",
    "    curstart = None\n",
    "    curend = None\n",
    "    for n in sorted(set(nlist)):\n",
    "        if curstart == None:\n",
    "            curstart = n\n",
    "            curend = n\n",
    "        elif n == curend + 1:\n",
    "            curend = n\n",
    "        else:\n",
    "            ranges.append((curstart, curend))\n",
    "            curstart = n\n",
    "            curend = n\n",
    "    if curstart != None:\n",
    "        ranges.append((curstart, curend))\n",
    "    return ranges"
   ]
  },
  {
   "cell_type": "code",
   "execution_count": 41,
   "metadata": {
    "collapsed": false
   },
   "outputs": [],
   "source": [
    "def ranges_to_list(ranges):\n",
    "    covered = set()\n",
    "    for r in ranges:\n",
    "        if type(r) is tuple:\n",
    "            (start, end) = r\n",
    "            if start > end:\n",
    "                (end, start) = r\n",
    "            for i in range(start, end+1):\n",
    "                covered.add(i)\n",
    "        else:\n",
    "            covered.add(r)\n",
    "    return sorted(covered)"
   ]
  },
  {
   "cell_type": "code",
   "execution_count": 42,
   "metadata": {
    "collapsed": false
   },
   "outputs": [],
   "source": [
    "tests_r2l = dict(\n",
    "    a_empty = [],\n",
    "    b_simple = [(5,10)],\n",
    "    c_swapped = [(10,5)],\n",
    "    d_single = [1,2,3,4,5],\n",
    "    e_mixed = [1,2, (10,15), 16],\n",
    "    f_duplicate = [1, (1,5), (3,7), 7],\n",
    "    g_order = [7, (1,5), (7,3), 1],\n",
    ")"
   ]
  },
  {
   "cell_type": "code",
   "execution_count": 43,
   "metadata": {
    "collapsed": false
   },
   "outputs": [
    {
     "name": "stdout",
     "output_type": "stream",
     "text": [
      "[a_empty     ] []\n",
      "[b_simple    ] [5, 6, 7, 8, 9, 10]\n",
      "[c_swapped   ] [5, 6, 7, 8, 9, 10]\n",
      "[d_single    ] [1, 2, 3, 4, 5]\n",
      "[e_mixed     ] [1, 2, 10, 11, 12, 13, 14, 15, 16]\n",
      "[f_duplicate ] [1, 2, 3, 4, 5, 6, 7]\n",
      "[g_order     ] [1, 2, 3, 4, 5, 6, 7]\n"
     ]
    }
   ],
   "source": [
    "for (t, data) in sorted(tests_r2l.items()):\n",
    "    print('[{:<12}] {}'.format(t, ranges_to_list(data)))"
   ]
  },
  {
   "cell_type": "code",
   "execution_count": 44,
   "metadata": {
    "collapsed": false
   },
   "outputs": [],
   "source": [
    "tests_l2r = dict(\n",
    "    a_empty = [],\n",
    "    b_consec = range(5,10),\n",
    "    c_mixed = ranges_to_list([(1,4), (5,8), (10,12), (100, 110)]),\n",
    "    d_mixed_up = [1,2, 5,6,7, 2,3, 3,4, 12,11,10],\n",
    ")"
   ]
  },
  {
   "cell_type": "code",
   "execution_count": 45,
   "metadata": {
    "collapsed": false
   },
   "outputs": [
    {
     "name": "stdout",
     "output_type": "stream",
     "text": [
      "[a_empty     ] []\n",
      "[b_consec    ] [(5, 9)]\n",
      "[c_mixed     ] [(1, 8), (10, 12), (100, 110)]\n",
      "[d_mixed_up  ] [(1, 7), (10, 12)]\n"
     ]
    }
   ],
   "source": [
    "for (t, data) in sorted(tests_l2r.items()):\n",
    "    print('[{:<12}] {}'.format(t, convert_to_ranges(data)))"
   ]
  },
  {
   "cell_type": "markdown",
   "metadata": {},
   "source": [
    "# Exporting otype\n",
    "We want to export the `otype` feature in compact form, like this:\n",
    "\n",
    "    0-425000 word\n",
    "    500-700000 phrase\n",
    "\n",
    "and so on for each object type.\n",
    "\n",
    "We do the exercise for the brandnew data version ETCBC4c."
   ]
  },
  {
   "cell_type": "code",
   "execution_count": 46,
   "metadata": {
    "collapsed": false
   },
   "outputs": [
    {
     "name": "stderr",
     "output_type": "stream",
     "text": [
      "  0.00s This is LAF-Fabric 4.8.3\n",
      "API reference: http://laf-fabric.readthedocs.org/en/latest/texts/API-reference.html\n",
      "Feature doc: https://shebanq.ancient-data.org/static/docs/featuredoc/texts/welcome.html\n",
      "\n"
     ]
    }
   ],
   "source": [
    "from laf.fabric import LafFabric\n",
    "#from etcbc.preprocess import prepare\n",
    "fabric = LafFabric()"
   ]
  },
  {
   "cell_type": "code",
   "execution_count": 57,
   "metadata": {
    "collapsed": false
   },
   "outputs": [
    {
     "name": "stderr",
     "output_type": "stream",
     "text": [
      "  0.00s LOADING API: please wait ... \n",
      "  0.00s USING main: etcbc4c DATA COMPILED AT: 2016-11-09T19-16-37\n",
      "  1.06s INFO: DATA LOADED FROM SOURCE etcbc4c AND ANNOX  FOR TASK TF AT 2016-11-14T10-29-06\n"
     ]
    }
   ],
   "source": [
    "fabric.load('etcbc4c', '--', 'TF', {\n",
    "    \"xmlids\": {\"node\": False, \"edge\": False},\n",
    "    \"features\": ('''\n",
    "        otype monads g_word_utf8 trailer_utf8\n",
    "    ''',''),\n",
    "#    \"prepare\": prepare,\n",
    "    \"primary\": False,\n",
    "})\n",
    "exec(fabric.localnames.format(var='fabric'))"
   ]
  },
  {
   "cell_type": "code",
   "execution_count": 48,
   "metadata": {
    "collapsed": true
   },
   "outputs": [],
   "source": [
    "otypes = '''\n",
    "    word\n",
    "    subphrase\n",
    "    phrase_atom\n",
    "    phrase\n",
    "    clause_atom\n",
    "    clause\n",
    "    sentence_atom\n",
    "    sentence\n",
    "    half_verse\n",
    "    verse\n",
    "    chapter\n",
    "    book\n",
    "'''.strip().split()"
   ]
  },
  {
   "cell_type": "code",
   "execution_count": 55,
   "metadata": {
    "collapsed": false
   },
   "outputs": [
    {
     "name": "stdout",
     "output_type": "stream",
     "text": [
      "11m 07s word                1 ranges\n",
      "11m 08s subphrase           1 ranges\n",
      "11m 09s phrase_atom         1 ranges\n",
      "11m 10s phrase              1 ranges\n",
      "11m 11s clause_atom         1 ranges\n",
      "11m 12s clause              1 ranges\n",
      "11m 13s sentence_atom       1 ranges\n",
      "11m 14s sentence            1 ranges\n",
      "11m 15s half_verse          1 ranges\n",
      "11m 17s verse               1 ranges\n",
      "11m 18s chapter             1 ranges\n",
      "11m 19s book                1 ranges\n",
      "word            from       0 to  426580\n",
      "clause          from  426581 to  514580\n",
      "clause_atom     from  514581 to  605142\n",
      "phrase          from  605143 to  858316\n",
      "phrase_atom     from  858317 to 1125831\n",
      "sentence        from 1125832 to 1189401\n",
      "sentence_atom   from 1189402 to 1253740\n",
      "subphrase       from 1253741 to 1367532\n",
      "book            from 1367533 to 1367571\n",
      "chapter         from 1367572 to 1368500\n",
      "half_verse      from 1368501 to 1413680\n",
      "verse           from 1413681 to 1436893\n"
     ]
    }
   ],
   "source": [
    "ranges = {}\n",
    "for otype in otypes:\n",
    "    these_ranges = convert_to_ranges(F.otype.s(otype))\n",
    "    inf('{:<15} {:>5} ranges'.format(\n",
    "        otype, len(these_ranges),\n",
    "    ), withtime=True)\n",
    "    ranges[otype] = these_ranges\n",
    "for (otype, ((start, end),)) in sorted(ranges.items(), key=lambda x: x[1][0][0]):\n",
    "    print('{:<15} from {:>7} to {:>7}'.format(otype, start, end))"
   ]
  },
  {
   "cell_type": "markdown",
   "metadata": {},
   "source": [
    "# Exporting a TF set\n",
    "\n",
    "We will export the ETCBC4c as a Text-Fabric dataset.\n",
    "\n",
    "That means: a *backbone* consisting of the `otype` feature and the `extent` edge.\n",
    "\n",
    "On top of that: the feature files. At first, we just pick two: `g_word_utf8` and `trailer_utf8`.\n",
    "Together they form exactly the plain text of the Hebrew Bible in ETCBC4b.\n",
    "\n",
    "The `otype` feature maps every node id onto it object type (otype).\n",
    "\n",
    "The `extent` edge feature contains unlabeled edges between each object and every *monad* belonging to it."
   ]
  },
  {
   "cell_type": "code",
   "execution_count": null,
   "metadata": {
    "collapsed": true
   },
   "outputs": [],
   "source": [
    "def tf_otype():"
   ]
  }
 ],
 "metadata": {
  "kernelspec": {
   "display_name": "Python 3",
   "language": "python",
   "name": "python3"
  },
  "language_info": {
   "codemirror_mode": {
    "name": "ipython",
    "version": 3
   },
   "file_extension": ".py",
   "mimetype": "text/x-python",
   "name": "python",
   "nbconvert_exporter": "python",
   "pygments_lexer": "ipython3",
   "version": "3.5.2"
  }
 },
 "nbformat": 4,
 "nbformat_minor": 1
}
