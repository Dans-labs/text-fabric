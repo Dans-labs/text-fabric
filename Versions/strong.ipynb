{
 "cells": [
  {
   "cell_type": "markdown",
   "metadata": {},
   "source": [
    "<img align=\"right\" src=\"tf-small.png\"/>\n",
    "\n",
    "# Strong numbers\n",
    "\n",
    "Stephen Ku has prepared a Strong number mapping for version 4, based on \n",
    "[OpenScriptures Bible Lexicon](https://github.com/openscriptures/HebrewLexicon).\n",
    "\n",
    "Using the \n",
    "[maps](https://github.com/ETCBC/text-fabric/blob/master/Versions/etcbc-versions.ipynb)\n",
    "between the slots of versions 4, 4b and 4c,\n",
    "we add the Strong numbers to versions 4b and 4c\n",
    "as well."
   ]
  },
  {
   "cell_type": "code",
   "execution_count": 18,
   "metadata": {
    "collapsed": false
   },
   "outputs": [],
   "source": [
    "import os,collections\n",
    "from tf.fabric import Fabric"
   ]
  },
  {
   "cell_type": "markdown",
   "metadata": {},
   "source": [
    "We need a map from a version to its previous version."
   ]
  },
  {
   "cell_type": "code",
   "execution_count": 19,
   "metadata": {
    "collapsed": false
   },
   "outputs": [
    {
     "data": {
      "text/plain": [
       "{'4b': '4', '4c': '4b'}"
      ]
     },
     "execution_count": 19,
     "metadata": {},
     "output_type": "execute_result"
    }
   ],
   "source": [
    "versions = ['4', '4b', '4c']\n",
    "locations = {\n",
    "    '4': '~/github/text-fabric-data-legacy',\n",
    "    '4b': '~/github/text-fabric-data-legacy',\n",
    "    '4c': '~/github/text-fabric-data', \n",
    "}\n",
    "\n",
    "preVersion = dict(((v, versions[i]) for (i,v) in enumerate(versions[1:])))\n",
    "preVersion"
   ]
  },
  {
   "cell_type": "markdown",
   "metadata": {},
   "source": [
    "Load all versions in one go!\n",
    "For each version we load the `omap` feature that maps the slots from the previous version to the slots of this version."
   ]
  },
  {
   "cell_type": "code",
   "execution_count": 20,
   "metadata": {
    "collapsed": false
   },
   "outputs": [
    {
     "name": "stdout",
     "output_type": "stream",
     "text": [
      "This is Text-Fabric 2.2.1\n",
      "Api reference : https://github.com/ETCBC/text-fabric/wiki/Api\n",
      "Tutorial      : https://github.com/ETCBC/text-fabric/blob/master/docs/tutorial.ipynb\n",
      "Data sources  : https://github.com/ETCBC/text-fabric-data\n",
      "Data docs     : https://etcbc.github.io/text-fabric-data\n",
      "Shebanq docs  : https://shebanq.ancient-data.org/text\n",
      "Slack team    : https://shebanq.slack.com/signup\n",
      "Questions? Ask shebanq@ancient-data.org for an invite to Slack\n",
      "110 features found and 0 ignored\n",
      "  0.00s loading features ...\n",
      "   |     0.16s B lex                  from /Users/dirk/github/text-fabric-data-legacy/hebrew/etcbc4\n",
      "   |     0.00s Feature overview: 105 nodes; 4 edges; 1 configs; 7 computeds\n",
      "  5.55s All features loaded/computed - for details use loadLog()\n",
      "This is Text-Fabric 2.2.1\n",
      "Api reference : https://github.com/ETCBC/text-fabric/wiki/Api\n",
      "Tutorial      : https://github.com/ETCBC/text-fabric/blob/master/docs/tutorial.ipynb\n",
      "Data sources  : https://github.com/ETCBC/text-fabric-data\n",
      "Data docs     : https://etcbc.github.io/text-fabric-data\n",
      "Shebanq docs  : https://shebanq.ancient-data.org/text\n",
      "Slack team    : https://shebanq.slack.com/signup\n",
      "Questions? Ask shebanq@ancient-data.org for an invite to Slack\n",
      "111 features found and 0 ignored\n",
      "  0.00s loading features ...\n",
      "   |     0.79s B omap@4-4b            from /Users/dirk/github/text-fabric-data-legacy/hebrew/etcbc4b\n",
      "   |     0.14s B lex                  from /Users/dirk/github/text-fabric-data-legacy/hebrew/etcbc4b\n",
      "   |     0.00s Feature overview: 105 nodes; 5 edges; 1 configs; 7 computeds\n",
      "  6.38s All features loaded/computed - for details use loadLog()\n",
      "This is Text-Fabric 2.2.1\n",
      "Api reference : https://github.com/ETCBC/text-fabric/wiki/Api\n",
      "Tutorial      : https://github.com/ETCBC/text-fabric/blob/master/docs/tutorial.ipynb\n",
      "Data sources  : https://github.com/ETCBC/text-fabric-data\n",
      "Data docs     : https://etcbc.github.io/text-fabric-data\n",
      "Shebanq docs  : https://shebanq.ancient-data.org/text\n",
      "Slack team    : https://shebanq.slack.com/signup\n",
      "Questions? Ask shebanq@ancient-data.org for an invite to Slack\n",
      "108 features found and 0 ignored\n",
      "  0.00s loading features ...\n",
      "   |     1.15s B omap@4b-4c           from /Users/dirk/github/text-fabric-data/hebrew/etcbc4c\n",
      "   |     0.18s B lex                  from /Users/dirk/github/text-fabric-data/hebrew/etcbc4c\n",
      "   |     0.00s Feature overview: 102 nodes; 5 edges; 1 configs; 7 computeds\n",
      "  8.24s All features loaded/computed - for details use loadLog()\n"
     ]
    }
   ],
   "source": [
    "TF = {}\n",
    "api = {}\n",
    "for v in versions:\n",
    "    omap = '' if v == '4' else 'omap@{}-{}'.format(preVersion[v], v)\n",
    "    TF[v] = Fabric(locations=locations[v], modules='hebrew/etcbc{}'.format(v))\n",
    "    api[v] = TF[v].load('''\n",
    "        {} lex\n",
    "    '''.format(omap))\n",
    "\n",
    "A4 = api['4']\n",
    "A4b = api['4b']\n",
    "A4c = api['4c']"
   ]
  },
  {
   "cell_type": "markdown",
   "metadata": {},
   "source": [
    "# Strong numbers\n",
    "\n",
    "Let us apply the maps for the purpose of assigning Strong numbers to the words of the versions 4b and 4c.\n",
    "We have a mapping for 4, compiled as a csv file by Stephen Ku from the OpenScriptures data.\n",
    "\n",
    "First we perform a basic check on the Strong numbers as provided for version 4."
   ]
  },
  {
   "cell_type": "code",
   "execution_count": 21,
   "metadata": {
    "collapsed": false
   },
   "outputs": [],
   "source": [
    "STRONG = 'hebrew/strong'\n",
    "strongDir = '{}/{}'.format(os.path.expanduser(locations['4c']), STRONG)\n",
    "strongFile = '{}/{}'.format(strongDir, 'MonadStrong.csv')\n",
    "strongs = {}"
   ]
  },
  {
   "cell_type": "code",
   "execution_count": 22,
   "metadata": {
    "collapsed": false
   },
   "outputs": [],
   "source": [
    "strongs['4'] = {}\n",
    "first = True\n",
    "with open(strongFile, encoding='utf-16') as fh:\n",
    "    for line in fh:\n",
    "        if first:\n",
    "            first = False\n",
    "            continue\n",
    "        (slot, strong) = line.rstrip().split(',', 1)\n",
    "        strongs['4'][int(slot)] = strong"
   ]
  },
  {
   "cell_type": "markdown",
   "metadata": {},
   "source": [
    "## Consistency check\n",
    "\n",
    "Do slots with the same lexemes get identical Strong numbers?"
   ]
  },
  {
   "cell_type": "code",
   "execution_count": 23,
   "metadata": {
    "collapsed": false
   },
   "outputs": [],
   "source": [
    "def checkConsistency(v):\n",
    "    strongFromLex = collections.defaultdict(set)\n",
    "    lexFromStrong = collections.defaultdict(set)\n",
    "\n",
    "    for n in api[v].F.otype.s('word'):\n",
    "        if n in strongs[v]:\n",
    "            strongFromLex[api[v].F.lex.v(n)].add(strongs[v][n])\n",
    "            lexFromStrong[strongs[v][n]].add(api[v].F.lex.v(n))\n",
    "\n",
    "\n",
    "    multipleStrongs = set()\n",
    "    for (lx, strongset) in strongFromLex.items():\n",
    "        if len(strongset) > 1:\n",
    "            multipleStrongs.add(lx)\n",
    "\n",
    "    multipleLexs = set()\n",
    "    for (st, lexset) in lexFromStrong.items():\n",
    "        if len(lexset) > 1:\n",
    "            multipleLexs.add(lx)\n",
    "\n",
    "    print('{} lexemes with multiple Strong numbers'.format(len(multipleStrongs)))\n",
    "    print('{} Strong numbers with multiple lexemes'.format(len(multipleStrongs)))\n",
    "    for lx in sorted(multipleStrongs)[0:10]:\n",
    "        print('{}: {}'.format(lx, ', '.join(sorted(strongFromLex[lx]))))"
   ]
  },
  {
   "cell_type": "code",
   "execution_count": 24,
   "metadata": {
    "collapsed": false
   },
   "outputs": [
    {
     "name": "stdout",
     "output_type": "stream",
     "text": [
      "1226 lexemes with multiple Strong numbers\n",
      "1226 Strong numbers with multiple lexemes\n",
      "<BD/: 5649, 5650\n",
      "<BD[: 5647, 5648\n",
      "<BD_NGW/: 5665, 5838\n",
      "<BJ/: 5645, 5672\n",
      "<BR/: 5675, 5676\n",
      "<CQ[: 6217, 6231\n",
      "<CT[: 6245 b, 6246\n",
      "<D: 5703, 5704, 5705\n",
      "<D/: 5703, 5704\n",
      "<DH[: 5709, 5710 b\n"
     ]
    }
   ],
   "source": [
    "checkConsistency('4')"
   ]
  },
  {
   "cell_type": "markdown",
   "metadata": {},
   "source": [
    "Obviously not. The ETCBC lexemes and the Strong numbers are different classification systems for word occurrences in the Bible!"
   ]
  },
  {
   "cell_type": "markdown",
   "metadata": {},
   "source": [
    "# Map the Strong numbers"
   ]
  },
  {
   "cell_type": "code",
   "execution_count": 25,
   "metadata": {
    "collapsed": false
   },
   "outputs": [],
   "source": [
    "strongs['4b'] = {}\n",
    "for (n, s) in strongs['4'].items():\n",
    "    for m in A4b.Es('omap@4-4b').f(n):\n",
    "        strongs['4b'][m] = s"
   ]
  },
  {
   "cell_type": "code",
   "execution_count": 26,
   "metadata": {
    "collapsed": true
   },
   "outputs": [],
   "source": [
    "strongs['4c'] = {}\n",
    "for (n, s) in strongs['4b'].items():\n",
    "    for m in A4c.Es('omap@4b-4c').f(n):\n",
    "        strongs['4c'][m] = s"
   ]
  },
  {
   "cell_type": "markdown",
   "metadata": {},
   "source": [
    "# Check consistency again\n",
    "\n",
    "Now in the new versions."
   ]
  },
  {
   "cell_type": "code",
   "execution_count": 27,
   "metadata": {
    "collapsed": false
   },
   "outputs": [
    {
     "name": "stdout",
     "output_type": "stream",
     "text": [
      "1219 lexemes with multiple Strong numbers\n",
      "1219 Strong numbers with multiple lexemes\n",
      "<BD/: 5649, 5650\n",
      "<BD[: 5647, 5648\n",
      "<BD_NGW/: 5665, 5838\n",
      "<BJ/: 5645, 5672\n",
      "<BR/: 5675, 5676\n",
      "<CQ[: 6217, 6231\n",
      "<CT[: 6245 b, 6246\n",
      "<D: 5703, 5704, 5705\n",
      "<D/: 5703, 5704\n",
      "<DH[: 5709, 5710 b\n"
     ]
    }
   ],
   "source": [
    "checkConsistency('4b')"
   ]
  },
  {
   "cell_type": "code",
   "execution_count": 28,
   "metadata": {
    "collapsed": false
   },
   "outputs": [
    {
     "name": "stdout",
     "output_type": "stream",
     "text": [
      "1219 lexemes with multiple Strong numbers\n",
      "1219 Strong numbers with multiple lexemes\n",
      "<BD/: 5649, 5650\n",
      "<BD[: 5647, 5648\n",
      "<BD_NGW/: 5665, 5838\n",
      "<BJ/: 5645, 5672\n",
      "<BR/: 5675, 5676\n",
      "<CQ[: 6217, 6231\n",
      "<CT[: 6245 b, 6246\n",
      "<D: 5703, 5704, 5705\n",
      "<D/: 5703, 5704\n",
      "<DH[: 5709, 5710 b\n"
     ]
    }
   ],
   "source": [
    "checkConsistency('4c')"
   ]
  },
  {
   "cell_type": "markdown",
   "metadata": {},
   "source": [
    "That looks good.\n",
    "\n",
    "# Writing the Strong numbers"
   ]
  },
  {
   "cell_type": "code",
   "execution_count": 29,
   "metadata": {
    "collapsed": false
   },
   "outputs": [
    {
     "name": "stdout",
     "output_type": "stream",
     "text": [
      "  0.00s Exporting 1 node and 0 edge and 1 config features to /Users/dirk/github/text-fabric-data-legacy/hebrew/strong/4:\n",
      "   |     0.73s T strong               to /Users/dirk/github/text-fabric-data-legacy/hebrew/strong/4\n",
      "   |     0.00s M otext@strong         to /Users/dirk/github/text-fabric-data-legacy/hebrew/strong/4\n",
      "  0.74s Exported 1 node features and 0 edge features and 1 config features to /Users/dirk/github/text-fabric-data-legacy/hebrew/strong/4\n",
      "  0.00s Exporting 1 node and 0 edge and 1 config features to /Users/dirk/github/text-fabric-data-legacy/hebrew/strong/4b:\n",
      "   |     0.72s T strong               to /Users/dirk/github/text-fabric-data-legacy/hebrew/strong/4b\n",
      "   |     0.00s M otext@strong         to /Users/dirk/github/text-fabric-data-legacy/hebrew/strong/4b\n",
      "  0.72s Exported 1 node features and 0 edge features and 1 config features to /Users/dirk/github/text-fabric-data-legacy/hebrew/strong/4b\n",
      "  0.00s Exporting 1 node and 0 edge and 1 config features to /Users/dirk/github/text-fabric-data/hebrew/strong/4c:\n",
      "   |     0.71s T strong               to /Users/dirk/github/text-fabric-data/hebrew/strong/4c\n",
      "   |     0.00s M otext@strong         to /Users/dirk/github/text-fabric-data/hebrew/strong/4c\n",
      "  0.71s Exported 1 node features and 0 edge features and 1 config features to /Users/dirk/github/text-fabric-data/hebrew/strong/4c\n"
     ]
    }
   ],
   "source": [
    "nodeFeatures = {}\n",
    "provenance = dict(\n",
    "    source='Strong numbers provided by https://github.com/openscriptures/HebrewLexicon',\n",
    "    author='Compiled for ETCBC by Stephen Ku; transferred across versions by Dirk Roorda',\n",
    ")\n",
    "\n",
    "for v in versions:\n",
    "    metaData = {\n",
    "        '': provenance,\n",
    "        'otext@strong': {\n",
    "            'about': 'Provides Strong numbers to Hebrew Words',\n",
    "            'see': 'https://github.com/ETCBC/text-fabric/blob/master/Versions/strong.ipynb',\n",
    "            'fmt:lex-strong-plain': '{strong} ',\n",
    "        },\n",
    "        'strong': {\n",
    "            'valueType': 'str',\n",
    "        },\n",
    "    }\n",
    "    nodeFeatures = dict(strong=strongs[v])\n",
    "    TF[v].save(\n",
    "        module='hebrew/strong/{}'.format(v),\n",
    "        nodeFeatures=nodeFeatures,\n",
    "        metaData=metaData,\n",
    "    )"
   ]
  },
  {
   "cell_type": "markdown",
   "metadata": {},
   "source": [
    "# Using Strong numbers\n",
    "\n",
    "Let us load the new `strong` feature in the newest ETCBC version, `4c`."
   ]
  },
  {
   "cell_type": "code",
   "execution_count": 30,
   "metadata": {
    "collapsed": false
   },
   "outputs": [
    {
     "name": "stdout",
     "output_type": "stream",
     "text": [
      "This is Text-Fabric 2.2.1\n",
      "Api reference : https://github.com/ETCBC/text-fabric/wiki/Api\n",
      "Tutorial      : https://github.com/ETCBC/text-fabric/blob/master/docs/tutorial.ipynb\n",
      "Data sources  : https://github.com/ETCBC/text-fabric-data\n",
      "Data docs     : https://etcbc.github.io/text-fabric-data\n",
      "Shebanq docs  : https://shebanq.ancient-data.org/text\n",
      "Slack team    : https://shebanq.slack.com/signup\n",
      "Questions? Ask shebanq@ancient-data.org for an invite to Slack\n",
      "110 features found and 0 ignored\n",
      "  0.00s loading features ...\n",
      "   |     1.94s T strong               from /Users/dirk/github/text-fabric-data/hebrew/strong/4c\n",
      "   |     0.16s B lex                  from /Users/dirk/github/text-fabric-data/hebrew/etcbc4c\n",
      "   |     0.00s Feature overview: 103 nodes; 5 edges; 2 configs; 7 computeds\n",
      "  7.75s All features loaded/computed - for details use loadLog()\n"
     ]
    }
   ],
   "source": [
    "TF = Fabric(modules=['hebrew/etcbc4c', 'hebrew/strong/4c'])\n",
    "api = TF.load('''\n",
    "        lex strong\n",
    "''')\n",
    "api.makeAvailableIn(globals())"
   ]
  },
  {
   "cell_type": "markdown",
   "metadata": {},
   "source": [
    "We print a few verses of Genesis in lexeme and in strong representation.\n",
    "The module `strong` defines a new text format!"
   ]
  },
  {
   "cell_type": "code",
   "execution_count": 31,
   "metadata": {
    "collapsed": false
   },
   "outputs": [
    {
     "name": "stdout",
     "output_type": "stream",
     "text": [
      "Genesis 1:1 (lex-trans-plain)\n",
      "\tB R>CJT BR> >LHJM >T H CMJM W >T H >RY \n",
      "Genesis 1:1 (lex-strong-plain)\n",
      "\t8675 7225 1254 a 430 853 8676 8064 8678 853 8676 776 \n",
      "Genesis 1:2 (lex-trans-plain)\n",
      "\tW H >RY HJH THW W BHW W XCK <L PNH THWM W RWX >LHJM RXP <L PNH H MJM \n",
      "Genesis 1:2 (lex-strong-plain)\n",
      "\t8678 8676 776 1961 8414 8678 922 8678 2822 5921 a 6440 8415 8678 7307 430 7363 b 5921 a 6440 8676 4325 \n",
      "Genesis 1:3 (lex-trans-plain)\n",
      "\tW >MR >LHJM HJH >WR W HJH >WR \n",
      "Genesis 1:3 (lex-strong-plain)\n",
      "\t8678 559 430 1961 216 8678 1961 216 \n"
     ]
    }
   ],
   "source": [
    "(book, chapter) = ('Genesis', 1)\n",
    "\n",
    "for verse in range(1,4):\n",
    "    vn = T.nodeFromSection((book, chapter, verse))\n",
    "    words = L.d(vn, otype='word')\n",
    "    for fmt in ('lex-trans-plain', 'lex-strong-plain'):\n",
    "        print('{} {}:{} ({})\\n\\t{}'.format(\n",
    "            book, chapter, verse, fmt,\n",
    "            T.text(words, fmt=fmt)\n",
    "        ))"
   ]
  },
  {
   "cell_type": "code",
   "execution_count": null,
   "metadata": {
    "collapsed": true
   },
   "outputs": [],
   "source": []
  }
 ],
 "metadata": {
  "kernelspec": {
   "display_name": "Python 3",
   "language": "python",
   "name": "python3"
  },
  "language_info": {
   "codemirror_mode": {
    "name": "ipython",
    "version": 3
   },
   "file_extension": ".py",
   "mimetype": "text/x-python",
   "name": "python",
   "nbconvert_exporter": "python",
   "pygments_lexer": "ipython3",
   "version": "3.6.0"
  }
 },
 "nbformat": 4,
 "nbformat_minor": 2
}
