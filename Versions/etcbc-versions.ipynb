{
 "cells": [
  {
   "cell_type": "markdown",
   "metadata": {},
   "source": [
    "<img align=\"right\" src=\"tf-small.png\"/>\n",
    "\n",
    "# ETCBC versions\n",
    "\n",
    "In this notebook we try to map the nodes between the versions 4, 4b and 4c of the ETCBC dataset.\n",
    "\n",
    "If we succeed, then text-fabric notebooks that are based on an older version of the data, can also be used unmodified on newer versions of the data.\n",
    "\n",
    "In general, node mappings between versions can not be perfect. We try and see how far we get.\n",
    "\n",
    "Let us start with *slot* mappings.\n",
    "We map the slots of a version to the slots of the next version.\n",
    "Mappings go from old to new, and they are between successive versions.\n",
    "\n",
    "We have data in text-fabric format for the ETCBC Hebrew Bible Database, versions 4, 4b, and 4c.\n",
    "\n",
    "Stephen Ku has prepared a Strong number mapping for version 4, based on \n",
    "[]().\n",
    "\n",
    "This provides us with a nice use case: can we apply the Strong number mapping for version 4 to versions 4b and 4c\n",
    "as well?"
   ]
  },
  {
   "cell_type": "code",
   "execution_count": 1,
   "metadata": {
    "collapsed": false
   },
   "outputs": [],
   "source": [
    "import os,collections\n",
    "from tf.fabric import Fabric"
   ]
  },
  {
   "cell_type": "code",
   "execution_count": 3,
   "metadata": {
    "collapsed": false
   },
   "outputs": [
    {
     "name": "stdout",
     "output_type": "stream",
     "text": [
      "This is Text-Fabric 2.2.1\n",
      "Api reference : https://github.com/ETCBC/text-fabric/wiki/Api\n",
      "Tutorial      : https://github.com/ETCBC/text-fabric/blob/master/docs/tutorial.ipynb\n",
      "Data sources  : https://github.com/ETCBC/text-fabric-data\n",
      "Data docs     : https://etcbc.github.io/text-fabric-data\n",
      "Shebanq docs  : https://shebanq.ancient-data.org/text\n",
      "Slack team    : https://shebanq.slack.com/signup\n",
      "Questions? Ask shebanq@ancient-data.org for an invite to Slack\n",
      "110 features found and 0 ignored\n",
      "  0.00s loading features ...\n",
      "   |     0.25s B g_word               from /Users/dirk/github/text-fabric-data-legacy/hebrew/etcbc4\n",
      "   |     0.16s B lex                  from /Users/dirk/github/text-fabric-data-legacy/hebrew/etcbc4\n",
      "   |     0.00s Feature overview: 105 nodes; 4 edges; 1 configs; 7 computeds\n",
      "  5.77s All features loaded/computed - for details use loadLog()\n",
      "This is Text-Fabric 2.2.1\n",
      "Api reference : https://github.com/ETCBC/text-fabric/wiki/Api\n",
      "Tutorial      : https://github.com/ETCBC/text-fabric/blob/master/docs/tutorial.ipynb\n",
      "Data sources  : https://github.com/ETCBC/text-fabric-data\n",
      "Data docs     : https://etcbc.github.io/text-fabric-data\n",
      "Shebanq docs  : https://shebanq.ancient-data.org/text\n",
      "Slack team    : https://shebanq.slack.com/signup\n",
      "Questions? Ask shebanq@ancient-data.org for an invite to Slack\n",
      "110 features found and 0 ignored\n",
      "  0.00s loading features ...\n",
      "   |     0.18s B g_word               from /Users/dirk/github/text-fabric-data-legacy/hebrew/etcbc4b\n",
      "   |     0.16s B lex                  from /Users/dirk/github/text-fabric-data-legacy/hebrew/etcbc4b\n",
      "   |     0.00s Feature overview: 105 nodes; 4 edges; 1 configs; 7 computeds\n",
      "  6.34s All features loaded/computed - for details use loadLog()\n",
      "This is Text-Fabric 2.2.1\n",
      "Api reference : https://github.com/ETCBC/text-fabric/wiki/Api\n",
      "Tutorial      : https://github.com/ETCBC/text-fabric/blob/master/docs/tutorial.ipynb\n",
      "Data sources  : https://github.com/ETCBC/text-fabric-data\n",
      "Data docs     : https://etcbc.github.io/text-fabric-data\n",
      "Shebanq docs  : https://shebanq.ancient-data.org/text\n",
      "Slack team    : https://shebanq.slack.com/signup\n",
      "Questions? Ask shebanq@ancient-data.org for an invite to Slack\n",
      "107 features found and 0 ignored\n",
      "  0.00s loading features ...\n",
      "   |     0.19s B g_word               from /Users/dirk/github/text-fabric-data/hebrew/etcbc4c\n",
      "   |     0.16s B lex                  from /Users/dirk/github/text-fabric-data/hebrew/etcbc4c\n",
      "   |     0.00s Feature overview: 102 nodes; 4 edges; 1 configs; 7 computeds\n",
      "  6.78s All features loaded/computed - for details use loadLog()\n"
     ]
    }
   ],
   "source": [
    "locations = ['~/github/text-fabric-data', '~/github/text-fabric-data-legacy']\n",
    "versions = ['4', '4b', '4c']\n",
    "TF = {}\n",
    "api = {}\n",
    "for v in versions:\n",
    "    TF[v] = Fabric(locations=locations, modules='hebrew/etcbc{}'.format(v))\n",
    "    api[v] = TF[v].load('''\n",
    "        g_word lex\n",
    "    ''')\n",
    "A4 = api['4']\n",
    "A4b = api['4b']\n",
    "A4c = api['4c']"
   ]
  },
  {
   "cell_type": "code",
   "execution_count": 7,
   "metadata": {
    "collapsed": false
   },
   "outputs": [
    {
     "data": {
      "text/plain": [
       "{'4': 426555, '4b': 426568, '4c': 426581}"
      ]
     },
     "execution_count": 7,
     "metadata": {},
     "output_type": "execute_result"
    }
   ],
   "source": [
    "nSlots = {}\n",
    "for v in versions:\n",
    "    nSlots[v] = api[v].F.otype.maxSlot\n",
    "nSlots"
   ]
  },
  {
   "cell_type": "code",
   "execution_count": 8,
   "metadata": {
    "collapsed": true
   },
   "outputs": [],
   "source": [
    "lexemes = {}\n",
    "for v in versions:\n",
    "    lexemes[v] = [api[v].F.lex.v(n) for n in api[v].F.otype.s('word')]"
   ]
  },
  {
   "cell_type": "code",
   "execution_count": 10,
   "metadata": {
    "collapsed": false
   },
   "outputs": [
    {
     "name": "stdout",
     "output_type": "stream",
     "text": [
      "4 : B R>CJT/ BR>[ >LHJM/ >T H CMJM/ W >T H >RY/ W H >RY/ HJH[\n",
      "4b: B R>CJT/ BR>[ >LHJM/ >T H CMJM/ W >T H >RY/ W H >RY/ HJH[\n",
      "4c: B R>CJT/ BR>[ >LHJM/ >T H CMJM/ W >T H >RY/ W H >RY/ HJH[\n"
     ]
    }
   ],
   "source": [
    "for v in versions:\n",
    "    print('{:<2}: {}'.format(\n",
    "        v,\n",
    "        ' '.join(lexemes[v][0:15])\n",
    "    ))"
   ]
  },
  {
   "cell_type": "code",
   "execution_count": null,
   "metadata": {
    "collapsed": true
   },
   "outputs": [],
   "source": []
  }
 ],
 "metadata": {
  "kernelspec": {
   "display_name": "Python 3",
   "language": "python",
   "name": "python3"
  },
  "language_info": {
   "codemirror_mode": {
    "name": "ipython",
    "version": 3
   },
   "file_extension": ".py",
   "mimetype": "text/x-python",
   "name": "python",
   "nbconvert_exporter": "python",
   "pygments_lexer": "ipython3",
   "version": "3.6.0"
  }
 },
 "nbformat": 4,
 "nbformat_minor": 2
}
