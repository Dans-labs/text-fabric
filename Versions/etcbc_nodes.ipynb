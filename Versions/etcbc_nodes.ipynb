{
 "cells": [
  {
   "cell_type": "markdown",
   "metadata": {},
   "source": [
    "<img align=\"right\" src=\"tf-small.png\"/>\n",
    "\n",
    "# ETCBC nodes\n",
    "\n",
    "In this notebook we try to map the **non-slot** nodes between the versions 4, 4b and 4c of the ETCBC dataset.\n",
    "An other notebook has produced a mapping between the **slots** of those versions, and we want to extend that\n",
    "mapping to nodes in general.\n",
    "\n",
    "If we succeed, then text-fabric notebooks that are based on an older version of the data, can also be used unmodified on newer versions of the data.\n",
    "\n",
    "In general, node mappings between versions can not be perfect. We try and see how far we get.\n",
    "\n",
    "# Basic idea\n",
    "\n",
    "We start out with a very simple idea: nodes are linked to slots. In order to map a node in version x, we look at its slots in version x, map those to slots in version y, and see which nodes in version y are linked to those slots.\n",
    "They are good candidates for the mapping."
   ]
  },
  {
   "cell_type": "code",
   "execution_count": 1,
   "metadata": {
    "collapsed": true
   },
   "outputs": [],
   "source": [
    "import os,collections\n",
    "from functools import reduce\n",
    "from tf.fabric import Fabric"
   ]
  },
  {
   "cell_type": "code",
   "execution_count": 2,
   "metadata": {
    "collapsed": false
   },
   "outputs": [
    {
     "name": "stdout",
     "output_type": "stream",
     "text": [
      "This is Text-Fabric 2.3.1\n",
      "Api reference : https://github.com/ETCBC/text-fabric/wiki/Api\n",
      "Tutorial      : https://github.com/ETCBC/text-fabric/blob/master/docs/tutorial.ipynb\n",
      "Data sources  : https://github.com/ETCBC/text-fabric-data\n",
      "Data docs     : https://etcbc.github.io/text-fabric-data\n",
      "Shebanq docs  : https://shebanq.ancient-data.org/text\n",
      "Slack team    : https://shebanq.slack.com/signup\n",
      "Questions? Ask shebanq@ancient-data.org for an invite to Slack\n",
      "110 features found and 0 ignored\n",
      "  0.00s loading features ...\n",
      "   |     0.15s B g_word               from /Users/dirk/github/text-fabric-data-legacy/hebrew/etcbc4\n",
      "   |     0.13s B lex                  from /Users/dirk/github/text-fabric-data-legacy/hebrew/etcbc4\n",
      "   |     0.00s Feature overview: 105 nodes; 4 edges; 1 configs; 7 computeds\n",
      "  4.99s All features loaded/computed - for details use loadLog()\n",
      "This is Text-Fabric 2.3.1\n",
      "Api reference : https://github.com/ETCBC/text-fabric/wiki/Api\n",
      "Tutorial      : https://github.com/ETCBC/text-fabric/blob/master/docs/tutorial.ipynb\n",
      "Data sources  : https://github.com/ETCBC/text-fabric-data\n",
      "Data docs     : https://etcbc.github.io/text-fabric-data\n",
      "Shebanq docs  : https://shebanq.ancient-data.org/text\n",
      "Slack team    : https://shebanq.slack.com/signup\n",
      "Questions? Ask shebanq@ancient-data.org for an invite to Slack\n",
      "111 features found and 0 ignored\n",
      "  0.00s loading features ...\n",
      "   |     0.15s B g_word               from /Users/dirk/github/text-fabric-data-legacy/hebrew/etcbc4b\n",
      "   |     0.12s B lex                  from /Users/dirk/github/text-fabric-data-legacy/hebrew/etcbc4b\n",
      "   |     0.00s Feature overview: 105 nodes; 5 edges; 1 configs; 7 computeds\n",
      "  4.84s All features loaded/computed - for details use loadLog()\n",
      "This is Text-Fabric 2.3.1\n",
      "Api reference : https://github.com/ETCBC/text-fabric/wiki/Api\n",
      "Tutorial      : https://github.com/ETCBC/text-fabric/blob/master/docs/tutorial.ipynb\n",
      "Data sources  : https://github.com/ETCBC/text-fabric-data\n",
      "Data docs     : https://etcbc.github.io/text-fabric-data\n",
      "Shebanq docs  : https://shebanq.ancient-data.org/text\n",
      "Slack team    : https://shebanq.slack.com/signup\n",
      "Questions? Ask shebanq@ancient-data.org for an invite to Slack\n",
      "108 features found and 0 ignored\n",
      "  0.00s loading features ...\n",
      "   |     0.15s B g_word               from /Users/dirk/github/text-fabric-data/hebrew/etcbc4c\n",
      "   |     0.13s B lex                  from /Users/dirk/github/text-fabric-data/hebrew/etcbc4c\n",
      "   |     0.00s Feature overview: 102 nodes; 5 edges; 1 configs; 7 computeds\n",
      "  5.09s All features loaded/computed - for details use loadLog()\n"
     ]
    }
   ],
   "source": [
    "locations = {\n",
    "    '4': '~/github/text-fabric-data-legacy',\n",
    "    '4b': '~/github/text-fabric-data-legacy',\n",
    "    '4c': '~/github/text-fabric-data', \n",
    "}\n",
    "versions = ['4', '4b', '4c']\n",
    "TF = {}\n",
    "api = {}\n",
    "for v in versions:\n",
    "    TF[v] = Fabric(locations=locations[v], modules='hebrew/etcbc{}'.format(v))\n",
    "    api[v] = TF[v].load('''\n",
    "        g_word lex\n",
    "    ''')\n",
    "A4 = api['4']\n",
    "A4b = api['4b']\n",
    "A4c = api['4c']"
   ]
  },
  {
   "cell_type": "markdown",
   "metadata": {},
   "source": [
    "# Exploration\n",
    "\n",
    "Let us see what has happened to the phrases between 4 and 4b."
   ]
  },
  {
   "cell_type": "code",
   "execution_count": 3,
   "metadata": {
    "collapsed": false
   },
   "outputs": [
    {
     "name": "stdout",
     "output_type": "stream",
     "text": [
      "  0.00s loading features ...\n",
      "   |     0.64s B omap@4-4b            from /Users/dirk/github/text-fabric-data-legacy/hebrew/etcbc4b\n",
      "  1.48s All additional features loaded - for details use loadLog()\n"
     ]
    }
   ],
   "source": [
    "TF['4b'].load('omap@4-4b', add=True)"
   ]
  },
  {
   "cell_type": "code",
   "execution_count": null,
   "metadata": {
    "collapsed": true
   },
   "outputs": [],
   "source": [
    "mapping = {}\n",
    "for p in A4.F.otype.s('phrase'):\n",
    "    slots = E.oslots.f(p)\n",
    "    mappedSlots = reduce(\n",
    "        lambda x,y: x+y,\n",
    "        [A4b.Es('omap@4-4b').f(s) for s in slots],\n",
    "        [],\n",
    "    )"
   ]
  },
  {
   "cell_type": "code",
   "execution_count": 4,
   "metadata": {
    "collapsed": false
   },
   "outputs": [
    {
     "data": {
      "text/plain": [
       "(100002,)"
      ]
     },
     "execution_count": 4,
     "metadata": {},
     "output_type": "execute_result"
    }
   ],
   "source": [
    "A4b.Es('omap@4-4b').f(100000)"
   ]
  },
  {
   "cell_type": "code",
   "execution_count": 5,
   "metadata": {
    "collapsed": false
   },
   "outputs": [],
   "source": [
    "mappedSlots = reduce(\n",
    "    lambda x,y: x+y,\n",
    "    [A4b.Es('omap@4-4b').f(s) for s in range(100)],\n",
    "    (),\n",
    ")"
   ]
  },
  {
   "cell_type": "code",
   "execution_count": 6,
   "metadata": {
    "collapsed": false
   },
   "outputs": [
    {
     "name": "stdout",
     "output_type": "stream",
     "text": [
      "()\n",
      "(1,)\n",
      "(2,)\n",
      "(3,)\n",
      "(4,)\n",
      "(5,)\n",
      "(6,)\n",
      "(7,)\n",
      "(8,)\n",
      "(9,)\n",
      "(10,)\n",
      "(11,)\n",
      "(12,)\n",
      "(13,)\n",
      "(14,)\n",
      "(15,)\n",
      "(16,)\n",
      "(17,)\n",
      "(18,)\n",
      "(19,)\n",
      "(20,)\n",
      "(21,)\n",
      "(22,)\n",
      "(23,)\n",
      "(24,)\n",
      "(25,)\n",
      "(26,)\n",
      "(27,)\n",
      "(28,)\n",
      "(29,)\n",
      "(30,)\n",
      "(31,)\n",
      "(32,)\n",
      "(33,)\n",
      "(34,)\n",
      "(35,)\n",
      "(36,)\n",
      "(37,)\n",
      "(38,)\n",
      "(39,)\n",
      "(40,)\n",
      "(41,)\n",
      "(42,)\n",
      "(43,)\n",
      "(44,)\n",
      "(45,)\n",
      "(46,)\n",
      "(47,)\n",
      "(48,)\n",
      "(49,)\n",
      "(50,)\n",
      "(51,)\n",
      "(52,)\n",
      "(53,)\n",
      "(54,)\n",
      "(55,)\n",
      "(56,)\n",
      "(57,)\n",
      "(58,)\n",
      "(59,)\n",
      "(60,)\n",
      "(61,)\n",
      "(62,)\n",
      "(63,)\n",
      "(64,)\n",
      "(65,)\n",
      "(66,)\n",
      "(67,)\n",
      "(68,)\n",
      "(69,)\n",
      "(70,)\n",
      "(71,)\n",
      "(72,)\n",
      "(73,)\n",
      "(74,)\n",
      "(75,)\n",
      "(76,)\n",
      "(77,)\n",
      "(78,)\n",
      "(79,)\n",
      "(80,)\n",
      "(81,)\n",
      "(82,)\n",
      "(83,)\n",
      "(84,)\n",
      "(85,)\n",
      "(86,)\n",
      "(87,)\n",
      "(88,)\n",
      "(89,)\n",
      "(90,)\n",
      "(91,)\n",
      "(92,)\n",
      "(93,)\n",
      "(94,)\n",
      "(95,)\n",
      "(96,)\n",
      "(97,)\n",
      "(98,)\n",
      "(99,)\n"
     ]
    }
   ],
   "source": [
    "for x in [A4b.Es('omap@4-4b').f(s) for s in range(100)]:\n",
    "    print(x)"
   ]
  },
  {
   "cell_type": "code",
   "execution_count": null,
   "metadata": {
    "collapsed": true
   },
   "outputs": [],
   "source": []
  }
 ],
 "metadata": {
  "kernelspec": {
   "display_name": "Python 3",
   "language": "python",
   "name": "python3"
  },
  "language_info": {
   "codemirror_mode": {
    "name": "ipython",
    "version": 3
   },
   "file_extension": ".py",
   "mimetype": "text/x-python",
   "name": "python",
   "nbconvert_exporter": "python",
   "pygments_lexer": "ipython3",
   "version": "3.6.0"
  }
 },
 "nbformat": 4,
 "nbformat_minor": 2
}
