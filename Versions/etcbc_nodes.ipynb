{
 "cells": [
  {
   "cell_type": "markdown",
   "metadata": {},
   "source": [
    "<img align=\"right\" src=\"tf-small.png\"/>\n",
    "\n",
    "# ETCBC nodes\n",
    "\n",
    "In this notebook we try to map the **non-slot** nodes between the versions 4, 4b and 4c of the ETCBC dataset.\n",
    "An other notebook has produced a mapping between the **slots** of those versions, and we want to extend that\n",
    "mapping to nodes in general.\n",
    "\n",
    "If we succeed, then text-fabric notebooks that are based on an older version of the data, can also be used unmodified on newer versions of the data.\n",
    "\n",
    "In general, node mappings between versions can not be perfect. We try and see how far we get.\n",
    "\n",
    "# Basic idea\n",
    "\n",
    "We start out with a very simple idea: nodes are linked to slots. In order to map a node in version x, we look at its slots in version x, map those to slots in version y, and see which nodes in version y are linked to those slots.\n",
    "They are good candidates for the mapping."
   ]
  },
  {
   "cell_type": "code",
   "execution_count": 1,
   "metadata": {
    "collapsed": true
   },
   "outputs": [],
   "source": [
    "import os,collections\n",
    "from functools import reduce\n",
    "from tf.fabric import Fabric"
   ]
  },
  {
   "cell_type": "code",
   "execution_count": 2,
   "metadata": {
    "collapsed": false
   },
   "outputs": [
    {
     "name": "stdout",
     "output_type": "stream",
     "text": [
      "This is Text-Fabric 2.3.1\n",
      "Api reference : https://github.com/ETCBC/text-fabric/wiki/Api\n",
      "Tutorial      : https://github.com/ETCBC/text-fabric/blob/master/docs/tutorial.ipynb\n",
      "Data sources  : https://github.com/ETCBC/text-fabric-data\n",
      "Data docs     : https://etcbc.github.io/text-fabric-data\n",
      "Shebanq docs  : https://shebanq.ancient-data.org/text\n",
      "Slack team    : https://shebanq.slack.com/signup\n",
      "Questions? Ask shebanq@ancient-data.org for an invite to Slack\n",
      "110 features found and 0 ignored\n",
      "  0.00s loading features ...\n",
      "   |     0.15s B g_word               from /Users/dirk/github/text-fabric-data-legacy/hebrew/etcbc4\n",
      "   |     0.13s B lex                  from /Users/dirk/github/text-fabric-data-legacy/hebrew/etcbc4\n",
      "   |     0.00s Feature overview: 105 nodes; 4 edges; 1 configs; 7 computeds\n",
      "  4.99s All features loaded/computed - for details use loadLog()\n",
      "This is Text-Fabric 2.3.1\n",
      "Api reference : https://github.com/ETCBC/text-fabric/wiki/Api\n",
      "Tutorial      : https://github.com/ETCBC/text-fabric/blob/master/docs/tutorial.ipynb\n",
      "Data sources  : https://github.com/ETCBC/text-fabric-data\n",
      "Data docs     : https://etcbc.github.io/text-fabric-data\n",
      "Shebanq docs  : https://shebanq.ancient-data.org/text\n",
      "Slack team    : https://shebanq.slack.com/signup\n",
      "Questions? Ask shebanq@ancient-data.org for an invite to Slack\n",
      "111 features found and 0 ignored\n",
      "  0.00s loading features ...\n",
      "   |     0.15s B g_word               from /Users/dirk/github/text-fabric-data-legacy/hebrew/etcbc4b\n",
      "   |     0.12s B lex                  from /Users/dirk/github/text-fabric-data-legacy/hebrew/etcbc4b\n",
      "   |     0.00s Feature overview: 105 nodes; 5 edges; 1 configs; 7 computeds\n",
      "  4.84s All features loaded/computed - for details use loadLog()\n",
      "This is Text-Fabric 2.3.1\n",
      "Api reference : https://github.com/ETCBC/text-fabric/wiki/Api\n",
      "Tutorial      : https://github.com/ETCBC/text-fabric/blob/master/docs/tutorial.ipynb\n",
      "Data sources  : https://github.com/ETCBC/text-fabric-data\n",
      "Data docs     : https://etcbc.github.io/text-fabric-data\n",
      "Shebanq docs  : https://shebanq.ancient-data.org/text\n",
      "Slack team    : https://shebanq.slack.com/signup\n",
      "Questions? Ask shebanq@ancient-data.org for an invite to Slack\n",
      "108 features found and 0 ignored\n",
      "  0.00s loading features ...\n",
      "   |     0.15s B g_word               from /Users/dirk/github/text-fabric-data/hebrew/etcbc4c\n",
      "   |     0.13s B lex                  from /Users/dirk/github/text-fabric-data/hebrew/etcbc4c\n",
      "   |     0.00s Feature overview: 102 nodes; 5 edges; 1 configs; 7 computeds\n",
      "  5.09s All features loaded/computed - for details use loadLog()\n"
     ]
    }
   ],
   "source": [
    "locations = {\n",
    "    '4': '~/github/text-fabric-data-legacy',\n",
    "    '4b': '~/github/text-fabric-data-legacy',\n",
    "    '4c': '~/github/text-fabric-data', \n",
    "}\n",
    "versions = ['4', '4b', '4c']\n",
    "TF = {}\n",
    "api = {}\n",
    "for v in versions:\n",
    "    TF[v] = Fabric(locations=locations[v], modules=f'hebrew/etcbc{v}')\n",
    "    api[v] = TF[v].load('''\n",
    "        g_word lex\n",
    "    ''')\n",
    "A4 = api['4']\n",
    "A4b = api['4b']\n",
    "A4c = api['4c']"
   ]
  },
  {
   "cell_type": "markdown",
   "metadata": {},
   "source": [
    "# Exploration\n",
    "\n",
    "Let us see what has happened to the phrases between 4 and 4b.\n",
    "\n",
    "We load the slot mapping 4 => 4b, by the A4b API."
   ]
  },
  {
   "cell_type": "code",
   "execution_count": 20,
   "metadata": {
    "collapsed": false
   },
   "outputs": [
    {
     "name": "stdout",
     "output_type": "stream",
     "text": [
      "  0.00s loading features ...\n",
      "  0.01s All additional features loaded - for details use loadLog()\n",
      "  0.00s loading features ...\n",
      "   |     1.00s B omap@4b-4c           from /Users/dirk/github/text-fabric-data/hebrew/etcbc4c\n",
      "  1.78s All additional features loaded - for details use loadLog()\n"
     ]
    }
   ],
   "source": [
    "TF['4b'].load('omap@4-4b', add=True)\n",
    "TF['4c'].load('omap@4b-4c', add=True)"
   ]
  },
  {
   "cell_type": "markdown",
   "metadata": {},
   "source": [
    "We compute a 4-node type to 4b-node type mapping.\n",
    "\n",
    "A 4-node $p$ is mapped to all 4b-nodes of the same type $q$ that have a slot in the 4=>4b-image of the slots of $p$."
   ]
  },
  {
   "cell_type": "markdown",
   "metadata": {
    "deletable": true,
    "editable": true
   },
   "source": [
    "We compute the mappings and store them,\n",
    "after which we can explore them by listing to how many target nodes each source node maps."
   ]
  },
  {
   "cell_type": "markdown",
   "metadata": {},
   "source": [
    "# Subphrases\n",
    "Subphrases are different, because they overlap. That means that we cannot expect that\n",
    "the mapping of them between versions will be largely 1-1.\n",
    "We'll see that in a moment."
   ]
  },
  {
   "cell_type": "code",
   "execution_count": 49,
   "metadata": {
    "collapsed": true
   },
   "outputs": [],
   "source": [
    "nodeMapping = {}"
   ]
  },
  {
   "cell_type": "code",
   "execution_count": 52,
   "metadata": {
    "collapsed": false
   },
   "outputs": [],
   "source": [
    "def exploreMapping(ntype, sourceV, targetV, force=False):\n",
    "    slotMap = f'omap@{sourceV}-{targetV}'\n",
    "\n",
    "    if not force and slotMap in nodeMapping and ntype in nodeMapping[slotMap]:\n",
    "        mapping = nodeMapping[slotMap][ntype]\n",
    "    else:\n",
    "        mapping = {}\n",
    "        api[sourceV].indent(reset=True)\n",
    "        api[sourceV].info(f'Computing {slotMap} for {ntype} nodes')\n",
    "        for p in api[sourceV].F.otype.s(ntype):\n",
    "            slots = api[sourceV].E.oslots.s(p)\n",
    "            mappedSlots = reduce(\n",
    "                lambda x,y: x+y,\n",
    "                [api[targetV].Es(slotMap).f(s) for s in slots],\n",
    "                (),\n",
    "            )\n",
    "            mappedPhrases = reduce(\n",
    "                set.union,\n",
    "                [set(api[targetV].L.u(s, ntype)) for s in mappedSlots],\n",
    "                set(),\n",
    "            )\n",
    "            mapping[p] = mappedPhrases\n",
    "        nodeMapping.setdefault(slotMap, {})[ntype] = mapping\n",
    "        api[sourceV].info('Done')\n",
    "    \n",
    "    spread = collections.Counter()\n",
    "    for (p, qs) in mapping.items(): spread[len(qs)] += 1\n",
    "    lmap = len(mapping)\n",
    "    straight = sum(c[1] for c in spread.items() if c[0] == 1)\n",
    "    issues = lmap - straight\n",
    "    straightF = 100 * straight / lmap\n",
    "    issuesF = 100 * issues / lmap\n",
    "    print(f'{slotMap} {ntype}\\n\\t{lmap:>6} total          {straightF:5.2f}% straight, {issuesF:5.2f}% issues')\n",
    "    for (ln, n) in sorted(spread.items(), key=lambda x: (-x[1], x[0])):\n",
    "        print(f'\\t{n:>6} => {ln:>3} each')"
   ]
  },
  {
   "cell_type": "code",
   "execution_count": 53,
   "metadata": {
    "collapsed": false,
    "scrolled": false
   },
   "outputs": [
    {
     "name": "stdout",
     "output_type": "stream",
     "text": [
      "omap@4-4b book\n",
      "\t    39 total          100.00% straight,  0.00% issues\n",
      "\t    39 =>   1 each\n",
      "omap@4-4b chapter\n",
      "\t   929 total          100.00% straight,  0.00% issues\n",
      "\t   929 =>   1 each\n",
      "omap@4-4b verse\n",
      "\t 23213 total          100.00% straight,  0.00% issues\n",
      "\t 23213 =>   1 each\n",
      "omap@4-4b half_verse\n",
      "\t 44682 total          98.89% straight,  1.11% issues\n",
      "\t 44185 =>   1 each\n",
      "\t   496 =>   2 each\n",
      "\t     1 =>   3 each\n",
      "omap@4-4b sentence\n",
      "\t 66045 total          99.51% straight,  0.49% issues\n",
      "\t 65720 =>   1 each\n",
      "\t   279 =>   2 each\n",
      "\t    34 =>   3 each\n",
      "\t     7 =>   4 each\n",
      "\t     3 =>   5 each\n",
      "\t     1 =>   6 each\n",
      "\t     1 =>   8 each\n",
      "omap@4-4b sentence_atom\n",
      "\t 66701 total          99.53% straight,  0.47% issues\n",
      "\t 66390 =>   1 each\n",
      "\t   257 =>   2 each\n",
      "\t    37 =>   3 each\n",
      "\t    11 =>   4 each\n",
      "\t     3 =>   5 each\n",
      "\t     1 =>   6 each\n",
      "\t     1 =>   7 each\n",
      "\t     1 =>   8 each\n",
      "omap@4-4b clause\n",
      "\t 87978 total          99.01% straight,  0.99% issues\n",
      "\t 87111 =>   1 each\n",
      "\t   825 =>   2 each\n",
      "\t    31 =>   3 each\n",
      "\t    10 =>   4 each\n",
      "\t     1 =>   5 each\n",
      "omap@4-4b clause_atom\n",
      "\t 90144 total          99.08% straight,  0.92% issues\n",
      "\t 89312 =>   1 each\n",
      "\t   741 =>   2 each\n",
      "\t    79 =>   3 each\n",
      "\t    11 =>   4 each\n",
      "\t     1 =>   5 each\n",
      "omap@4-4b phrase\n",
      "\t254664 total          99.82% straight,  0.18% issues\n",
      "\t254214 =>   1 each\n",
      "\t   328 =>   2 each\n",
      "\t    94 =>   3 each\n",
      "\t    19 =>   4 each\n",
      "\t     9 =>   5 each\n",
      "omap@4-4b phrase_atom\n",
      "\t267965 total          99.82% straight,  0.18% issues\n",
      "\t267488 =>   1 each\n",
      "\t   309 =>   2 each\n",
      "\t   139 =>   3 each\n",
      "\t    13 =>   4 each\n",
      "\t    11 =>   5 each\n",
      "\t     4 =>   7 each\n",
      "\t     1 =>   6 each\n",
      "omap@4-4b subphrase\n",
      "\t112229 total          62.43% straight, 37.57% issues\n",
      "\t 70068 =>   1 each\n",
      "\t 20744 =>   2 each\n",
      "\t 13912 =>   3 each\n",
      "\t  2730 =>   4 each\n",
      "\t  2019 =>   5 each\n",
      "\t  1539 =>   0 each\n",
      "\t   489 =>   7 each\n",
      "\t   335 =>   6 each\n",
      "\t   117 =>   9 each\n",
      "\t    98 =>  11 each\n",
      "\t    55 =>   8 each\n",
      "\t    29 =>  10 each\n",
      "\t    28 =>  13 each\n",
      "\t    23 =>  15 each\n",
      "\t    12 =>  12 each\n",
      "\t    11 =>  17 each\n",
      "\t     7 =>  19 each\n",
      "\t     5 =>  14 each\n",
      "\t     3 =>  16 each\n",
      "\t     2 =>  22 each\n",
      "\t     1 =>  18 each\n",
      "\t     1 =>  20 each\n",
      "\t     1 =>  21 each\n",
      "  0.00s Computing omap@4b-4c for book nodes\n",
      "    37s Done\n",
      "omap@4b-4c book\n",
      "\t    39 total          100.00% straight,  0.00% issues\n",
      "\t    39 =>   1 each\n",
      "  0.00s Computing omap@4b-4c for chapter nodes\n",
      "  6.64s Done\n",
      "omap@4b-4c chapter\n",
      "\t   929 total          100.00% straight,  0.00% issues\n",
      "\t   929 =>   1 each\n",
      "  0.00s Computing omap@4b-4c for verse nodes\n",
      "  6.32s Done\n",
      "omap@4b-4c verse\n",
      "\t 23213 total          100.00% straight,  0.00% issues\n",
      "\t 23213 =>   1 each\n",
      "  0.00s Computing omap@4b-4c for half_verse nodes\n",
      "  6.42s Done\n",
      "omap@4b-4c half_verse\n",
      "\t 45180 total          100.00% straight,  0.00% issues\n",
      "\t 45180 =>   1 each\n",
      "  0.00s Computing omap@4b-4c for sentence nodes\n",
      "  6.59s Done\n",
      "omap@4b-4c sentence\n",
      "\t 63586 total          99.89% straight,  0.11% issues\n",
      "\t 63513 =>   1 each\n",
      "\t    63 =>   2 each\n",
      "\t     8 =>   3 each\n",
      "\t     2 =>   4 each\n",
      "  0.00s Computing omap@4b-4c for sentence_atom nodes\n",
      "  6.47s Done\n",
      "omap@4b-4c sentence_atom\n",
      "\t 64354 total          99.90% straight,  0.10% issues\n",
      "\t 64287 =>   1 each\n",
      "\t    53 =>   2 each\n",
      "\t    11 =>   3 each\n",
      "\t     2 =>   4 each\n",
      "\t     1 =>   5 each\n",
      "  0.00s Computing omap@4b-4c for clause nodes\n",
      "  6.68s Done\n",
      "omap@4b-4c clause\n",
      "\t 88011 total          99.92% straight,  0.08% issues\n",
      "\t 87939 =>   1 each\n",
      "\t    68 =>   2 each\n",
      "\t     4 =>   3 each\n",
      "  0.00s Computing omap@4b-4c for clause_atom nodes\n",
      "  6.62s Done\n",
      "omap@4b-4c clause_atom\n",
      "\t 90554 total          99.93% straight,  0.07% issues\n",
      "\t 90493 =>   1 each\n",
      "\t    56 =>   2 each\n",
      "\t     5 =>   3 each\n",
      "  0.00s Computing omap@4b-4c for phrase nodes\n",
      "  8.46s Done\n",
      "omap@4b-4c phrase\n",
      "\t253161 total          99.96% straight,  0.04% issues\n",
      "\t253063 =>   1 each\n",
      "\t    82 =>   2 each\n",
      "\t    13 =>   3 each\n",
      "\t     2 =>   5 each\n",
      "\t     1 =>   4 each\n",
      "  0.00s Computing omap@4b-4c for phrase_atom nodes\n",
      "  7.32s Done\n",
      "omap@4b-4c phrase_atom\n",
      "\t267499 total          99.98% straight,  0.02% issues\n",
      "\t267456 =>   1 each\n",
      "\t    36 =>   2 each\n",
      "\t     4 =>   3 each\n",
      "\t     2 =>   4 each\n",
      "\t     1 =>   6 each\n",
      "  0.00s Computing omap@4b-4c for subphrase nodes\n",
      "  3.13s Done\n",
      "omap@4b-4c subphrase\n",
      "\t113764 total          63.19% straight, 36.81% issues\n",
      "\t 71886 =>   1 each\n",
      "\t 22134 =>   2 each\n",
      "\t 14060 =>   3 each\n",
      "\t  3123 =>   4 each\n",
      "\t  1861 =>   5 each\n",
      "\t   346 =>   7 each\n",
      "\t   178 =>   6 each\n",
      "\t    50 =>   0 each\n",
      "\t    44 =>   9 each\n",
      "\t    36 =>  11 each\n",
      "\t    24 =>   8 each\n",
      "\t    12 =>  10 each\n",
      "\t     5 =>  13 each\n",
      "\t     3 =>  15 each\n",
      "\t     1 =>  12 each\n",
      "\t     1 =>  17 each\n"
     ]
    }
   ],
   "source": [
    "ntypes = A4.F.otype.all\n",
    "for (sourceV, targetV) in (('4', '4b'), ('4b', '4c')):\n",
    "    for ntype in ntypes[0:-1]: exploreMapping(ntype, sourceV, targetV)"
   ]
  },
  {
   "cell_type": "markdown",
   "metadata": {},
   "source": [
    "# Next steps\n",
    "\n",
    "1. We have to find a way to deal with subphrases.\n",
    "2. In those cases where there issues, we probably will see that one of the mapped nodes shares has the bulk\n",
    "   of the mapped slots, and the others just a marginal fraction. In those cases we can also confidently map one\n",
    "   node to a single other node."
   ]
  },
  {
   "cell_type": "code",
   "execution_count": null,
   "metadata": {
    "collapsed": true
   },
   "outputs": [],
   "source": []
  }
 ],
 "metadata": {
  "kernelspec": {
   "display_name": "Python 3",
   "language": "python",
   "name": "python3"
  },
  "language_info": {
   "codemirror_mode": {
    "name": "ipython",
    "version": 3
   },
   "file_extension": ".py",
   "mimetype": "text/x-python",
   "name": "python",
   "nbconvert_exporter": "python",
   "pygments_lexer": "ipython3",
   "version": "3.6.0"
  }
 },
 "nbformat": 4,
 "nbformat_minor": 2
}
