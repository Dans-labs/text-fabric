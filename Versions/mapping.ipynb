{
 "cells": [
  {
   "cell_type": "markdown",
   "metadata": {},
   "source": [
    "<img align=\"right\" src=\"tf-small.png\"/>\n",
    "\n",
    "# Using mappings between versions\n",
    "\n",
    "The notebook \n",
    "[etcbc_versions](https://github.com/ETCBC/text-fabric/blob/master/Versions/etcbc-versions.ipynb)\n",
    "has created slot mappings between the versions 4, 4b and 4c of the ETCBC dataset.\n",
    "\n",
    "The mappings are available in as features `omap@`*sourcev-targetv*`.tf`, where\n",
    "*sourcev* and *targetv* are the version numbers of the source and of the target respectively.\n",
    "\n",
    "These are files in \n",
    "[.tf](https://github.com/ETCBC/text-fabric/wiki/File-formats)\n",
    "format. \n",
    "\n",
    "That means that you can use them as *features* in your data set, like\n",
    "\n",
    "```\n",
    "nodesIn4b = Es('omap@4b-4c').t(nodeIn4c)\n",
    "```\n",
    "\n",
    "So, if you are using Text-Fabric, you do not have to do anything, the mappings are available.\n",
    "But if you want to use the mappings outside Text-Fabric, you might want them in `.csv` format.\n",
    "\n",
    "We give a minimal example how you can export a mapping feature as a csv file.\n",
    "\n",
    "Remember that mapping features are edge features: they map a node to a set of other nodes.\n",
    "The mapping cannot always be perfect, so it might happen that one source node is mapped to multiple target nodes, and vice versa.\n",
    "\n",
    "The file we produce has tab-delimited fields.\n",
    "The first field are nodes in the source version, and the second field are nodesets in the target version,\n",
    "given as comma-separated values.\n",
    "\n",
    "#### Note\n",
    "> If you are going to use the mapping 4 to 4b, you need the etcbc4b data, which is also on\n",
    "github, in\n",
    "[text-fabric-data-legacy](https://github.com/ETCBC/text-fabric-data-legacy)."
   ]
  },
  {
   "cell_type": "code",
   "execution_count": 1,
   "metadata": {
    "collapsed": true
   },
   "outputs": [],
   "source": [
    "import os, collections\n",
    "from tf.fabric import Fabric"
   ]
  },
  {
   "cell_type": "markdown",
   "metadata": {},
   "source": [
    "# 4b => 4c\n",
    "Do the next cell if you want to map from 4b to 4c.\n",
    "Skip it if you want to map from 4 to 4b."
   ]
  },
  {
   "cell_type": "code",
   "execution_count": 9,
   "metadata": {
    "collapsed": true
   },
   "outputs": [],
   "source": [
    "(vSource, vTarget) = ('4b', '4c')\n",
    "location = '~/github/text-fabric-data'"
   ]
  },
  {
   "cell_type": "markdown",
   "metadata": {},
   "source": [
    "# 4 => 4b\n",
    "Do the next cell if you want to map from 4 to 4b.\n",
    "Skip it if you want to map from 4b to 4c."
   ]
  },
  {
   "cell_type": "code",
   "execution_count": 6,
   "metadata": {
    "collapsed": false
   },
   "outputs": [],
   "source": [
    "(vSource, vTarget) = ('4', '4b')\n",
    "location='~/github/text-fabric-data-legacy'"
   ]
  },
  {
   "cell_type": "markdown",
   "metadata": {},
   "source": [
    "Continue with the common cells."
   ]
  },
  {
   "cell_type": "code",
   "execution_count": 10,
   "metadata": {
    "collapsed": false
   },
   "outputs": [
    {
     "name": "stdout",
     "output_type": "stream",
     "text": [
      "This is Text-Fabric 2.3.0\n",
      "Api reference : https://github.com/ETCBC/text-fabric/wiki/Api\n",
      "Tutorial      : https://github.com/ETCBC/text-fabric/blob/master/docs/tutorial.ipynb\n",
      "Data sources  : https://github.com/ETCBC/text-fabric-data\n",
      "Data docs     : https://etcbc.github.io/text-fabric-data\n",
      "Shebanq docs  : https://shebanq.ancient-data.org/text\n",
      "Slack team    : https://shebanq.slack.com/signup\n",
      "Questions? Ask shebanq@ancient-data.org for an invite to Slack\n",
      "108 features found and 0 ignored\n",
      "  0.00s loading features ...\n",
      "   |     0.67s B omap@4b-4c           from /Users/dirk/github/text-fabric-data/hebrew/etcbc4c\n",
      "   |     0.00s Feature overview: 102 nodes; 5 edges; 1 configs; 7 computeds\n",
      "  6.46s All features loaded/computed - for details use loadLog()\n"
     ]
    }
   ],
   "source": [
    "ETCBC = 'hebrew/etcbc'+vTarget\n",
    "TF = Fabric(locations=location, modules=ETCBC)\n",
    "mapFeature = 'omap@{}-{}'.format(vSource, vTarget)\n",
    "api = TF.load(mapFeature)\n",
    "api.makeAvailableIn(globals())"
   ]
  },
  {
   "cell_type": "markdown",
   "metadata": {},
   "source": [
    "We are going to walk through the nodes of the target version, \n",
    "and get the corresponding sets of nodes in the source version.\n",
    "Note that the mapping is an edge from source nodes to target nodes,\n",
    "so we use the mapping edge in the opposite direction, using `.t()` rather than `.f()`\n",
    "(see the\n",
    "[edge API](https://github.com/ETCBC/text-fabric/wiki/Api#edge-features).)\n",
    "\n",
    "We store the mapping in a dict, then output it as a csv file."
   ]
  },
  {
   "cell_type": "code",
   "execution_count": 11,
   "metadata": {
    "collapsed": false
   },
   "outputs": [
    {
     "name": "stdout",
     "output_type": "stream",
     "text": [
      "  0.00s fetching map info...\n",
      "  4.61s 426568 4b-nodes in map\n",
      "  4.61s writing mapping for omap@4b-4c as csv ...\n",
      "  5.94s Done\n"
     ]
    }
   ],
   "source": [
    "outputDir = os.path.expanduser('~/Downloads')\n",
    "mapCsv = '{}/{}.csv'.format(outputDir, mapFeature)\n",
    "\n",
    "mapping = collections.defaultdict(set)\n",
    "\n",
    "indent(reset=True)\n",
    "info('fetching map info...')\n",
    "for nTarget in N():\n",
    "    nSources = Es(mapFeature).t(nTarget)\n",
    "    if nSources != None:\n",
    "        for nSource in nSources:\n",
    "            mapping[nSource].add(nTarget)\n",
    "info('{} {}-nodes in map'.format(len(mapping), vSource))\n",
    "\n",
    "info('writing mapping for {} as csv ...'.format(mapFeature))\n",
    "with open(mapCsv, 'w') as fh:\n",
    "    for (nSource, nTargets) in sorted(mapping.items()):\n",
    "            fh.write('{}\\t{}\\n'.format(nSource, ','.join(str(nTarget) for nTarget in nTargets)))\n",
    "info('Done')"
   ]
  },
  {
   "cell_type": "code",
   "execution_count": null,
   "metadata": {
    "collapsed": true
   },
   "outputs": [],
   "source": []
  }
 ],
 "metadata": {
  "kernelspec": {
   "display_name": "Python 3",
   "language": "python",
   "name": "python3"
  },
  "language_info": {
   "codemirror_mode": {
    "name": "ipython",
    "version": 3
   },
   "file_extension": ".py",
   "mimetype": "text/x-python",
   "name": "python",
   "nbconvert_exporter": "python",
   "pygments_lexer": "ipython3",
   "version": "3.6.0"
  }
 },
 "nbformat": 4,
 "nbformat_minor": 2
}
