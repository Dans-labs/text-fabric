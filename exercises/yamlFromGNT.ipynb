{
 "cells": [
  {
   "cell_type": "markdown",
   "metadata": {},
   "source": [
    "<img align=\"right\" src=\"tf-small.png\"/>\n",
    "\n",
    "# SBLGNT and Text-Fabric\n",
    "\n",
    "The source of the SBLGNT data in TF is really a treebank, a hierarchical structure.\n",
    "We converted an XML representation of it into TF.\n",
    "\n",
    "As an exercise, we convert the TF back to a hierarchical structure, but not XML, we will produce\n",
    "[yaml](http://www.yaml.org)"
   ]
  },
  {
   "cell_type": "code",
   "execution_count": 17,
   "metadata": {
    "collapsed": true
   },
   "outputs": [],
   "source": [
    "import os,collections,yaml\n",
    "from tf.fabric import Fabric"
   ]
  },
  {
   "cell_type": "code",
   "execution_count": 2,
   "metadata": {
    "collapsed": false
   },
   "outputs": [
    {
     "name": "stdout",
     "output_type": "stream",
     "text": [
      "This is Text-Fabric 2.3.5\n",
      "Api reference : https://github.com/ETCBC/text-fabric/wiki/Api\n",
      "Tutorial      : https://github.com/ETCBC/text-fabric/blob/master/docs/tutorial.ipynb\n",
      "Data sources  : https://github.com/ETCBC/text-fabric-data\n",
      "Data docs     : https://etcbc.github.io/text-fabric-data\n",
      "Shebanq docs  : https://shebanq.ancient-data.org/text\n",
      "Slack team    : https://shebanq.slack.com/signup\n",
      "Questions? Ask shebanq@ancient-data.org for an invite to Slack\n",
      "60 features found and 0 ignored\n"
     ]
    }
   ],
   "source": [
    "TF = Fabric(modules='greek/sblgnt')"
   ]
  },
  {
   "cell_type": "code",
   "execution_count": 11,
   "metadata": {
    "collapsed": false
   },
   "outputs": [
    {
     "name": "stdout",
     "output_type": "stream",
     "text": [
      "  0.00s loading features ...\n",
      "   |     2.32s T nodeId               from /Users/dirk/github/text-fabric-data/greek/sblgnt\n",
      "   |     1.66s T child                from /Users/dirk/github/text-fabric-data/greek/sblgnt\n",
      "   |     0.00s Feature overview: 57 for nodes; 2 for edges; 1 configs; 7 computed\n",
      "  4.80s All features loaded/computed - for details use loadLog()\n"
     ]
    }
   ],
   "source": [
    "api = TF.load('''\n",
    "    Cat Gender Tense\n",
    "    Unicode UnicodeLemma Mood\n",
    "    book book@en chapter verse\n",
    "    otype function psp\n",
    "    freq_occ freq_lex\n",
    "    Head End\n",
    "    nodeId\n",
    "    child\n",
    "              ''')\n",
    "\n",
    "api.makeAvailableIn(globals())"
   ]
  },
  {
   "cell_type": "code",
   "execution_count": 27,
   "metadata": {
    "collapsed": false
   },
   "outputs": [],
   "source": [
    "outputDir = os.path.expanduser('~/Downloads/yamlFromTf')\n",
    "if not os.path.exists(outputDir): os.makedirs(outputDir)\n",
    "outFile = 'sblgnt.yaml'\n",
    "outPath = '{}/{}'.format(outputDir, outFile)"
   ]
  },
  {
   "cell_type": "code",
   "execution_count": 116,
   "metadata": {
    "collapsed": false
   },
   "outputs": [],
   "source": [
    "def addBooks(dest):\n",
    "    for b in F.otype.s('book'):\n",
    "        chapters = []\n",
    "        dest.append({Fs('book@en').v(b): chapters})\n",
    "        addChapters(b, chapters)\n",
    "\n",
    "def addChapters(b, dest):\n",
    "    for c in L.d(b, 'chapter'):\n",
    "        sentences = []\n",
    "        dest.append({F.chapter.v(c): sentences})\n",
    "        addSentences(c, sentences)\n",
    "\n",
    "curNodeId = None\n",
    "def addSentences(c, dest):\n",
    "    global curNodeId\n",
    "    for s in L.d(c, 'sentence'):\n",
    "        children = []\n",
    "        nodeId = F.nodeId.v(s)\n",
    "        curNodeId = nodeId\n",
    "        dest.append({nodeId: children})\n",
    "        addNodes(s, children, 0)\n",
    "\n",
    "maxK = 0\n",
    "\n",
    "def addNodes(n, dest, k):\n",
    "    global maxK\n",
    "    if k > maxK:\n",
    "        maxK = k\n",
    "        print('{} at {}'.format(k, curNodeId))\n",
    "    descendants = E.child.f(n)\n",
    "    if descendants == None or len(descendants) == 0:\n",
    "        dest.append(F.Unicode.v(n))\n",
    "    else:\n",
    "        for d in descendants:\n",
    "            children = []\n",
    "            if k > 20:\n",
    "                dest.append({F.Cat.v(d): ' '.join(F.Unicode.v(w) for w in L.d(d, 'word'))})\n",
    "            else:\n",
    "                dest.append({F.Cat.v(d): children})\n",
    "                addNodes(d, children, k+1)\n"
   ]
  },
  {
   "cell_type": "code",
   "execution_count": 117,
   "metadata": {
    "collapsed": false
   },
   "outputs": [
    {
     "name": "stdout",
     "output_type": "stream",
     "text": [
      "1 at 400010010010083\n",
      "2 at 400010010010083\n",
      "3 at 400010010010083\n",
      "4 at 400010010010083\n",
      "5 at 400010010010083\n",
      "6 at 400010010010083\n",
      "7 at 400010010010083\n",
      "8 at 400010010010083\n",
      "9 at 400010010010083\n",
      "10 at 400010120020741\n",
      "11 at 400010120020741\n",
      "12 at 400010120020741\n",
      "13 at 400010120020741\n",
      "14 at 400010120020741\n",
      "15 at 400010120020741\n",
      "16 at 400010120020741\n",
      "17 at 400010200020501\n",
      "18 at 400010220020361\n",
      "19 at 400010220020361\n",
      "20 at 400010220020361\n",
      "21 at 400010220020361\n"
     ]
    }
   ],
   "source": [
    "nest = []\n",
    "addBooks(nest)"
   ]
  },
  {
   "cell_type": "code",
   "execution_count": 119,
   "metadata": {
    "collapsed": false
   },
   "outputs": [
    {
     "name": "stdout",
     "output_type": "stream",
     "text": [
      "  0.00s writing yaml\n",
      "    54s Done\n"
     ]
    }
   ],
   "source": [
    "indent(reset=True)\n",
    "info('writing yaml')\n",
    "with open(outPath, 'w', encoding='utf8') as of:\n",
    "    yaml.dump(nest, of, allow_unicode=True, default_style=None)\n",
    "    of.close()\n",
    "info('Done')"
   ]
  },
  {
   "cell_type": "raw",
   "metadata": {},
   "source": [
    "- Matthew:\n",
    "  - 1:\n",
    "    - '400010010010083':\n",
    "      - CL:\n",
    "        - P:\n",
    "          - np:\n",
    "            - np:\n",
    "              - noun: [Βίβλος]\n",
    "            - np:\n",
    "              - np:\n",
    "                - noun: [γενέσεως]\n",
    "              - np:\n",
    "                - np:\n",
    "                  - np:\n",
    "                    - np:\n",
    "                      - noun: [Ἰησοῦ]\n",
    "                    - np:\n",
    "                      - noun: [χριστοῦ]\n",
    "                  - np:\n",
    "                    - np:\n",
    "                      - noun: [υἱοῦ]\n",
    "                    - np:\n",
    "                      - noun: [Δαυὶδ]\n",
    "                - np:\n",
    "                  - np:\n",
    "                    - noun: [υἱοῦ]\n",
    "                  - np:\n",
    "                    - noun: [Ἀβραάμ.]\n"
   ]
  },
  {
   "cell_type": "markdown",
   "metadata": {},
   "source": [
    "There is a tree with nesting depth 161 in the corpus. The YAML serializer complained about it.\n",
    "I have cut of levels at depth 20."
   ]
  },
  {
   "cell_type": "raw",
   "metadata": {},
   "source": [
    "    - '420030230011651':\n",
    "      - CL:\n",
    "        - conj: [Καὶ]\n",
    "        - CL:\n",
    "          - S:\n",
    "            - np:\n",
    "              - pron: [αὐτὸς]\n",
    "              - np:\n",
    "                - noun: [Ἰησοῦς]\n",
    "          - V:\n",
    "            - vp:\n",
    "              - verb: [ἦν]\n",
    "              - vp:\n",
    "                - verb: [ἀρχόμενος]\n",
    "          - ADV:\n",
    "            - np:\n",
    "              - advp:\n",
    "                - adv: [ὡσεὶ]\n",
    "              - np:\n",
    "                - np:\n",
    "                  - noun: [ἐτῶν]\n",
    "                - nump:\n",
    "                  - num: ['τριάκοντα,']\n",
    "          - ADV:\n",
    "            - CL:\n",
    "              - CL:\n",
    "                - conj: [ὡς]\n",
    "                - CL:\n",
    "                  - V:\n",
    "                    - vp:\n",
    "                      - verb: ['ἐνομίζετο,']\n",
    "              - CL:\n",
    "                - VC:\n",
    "                  - vp:\n",
    "                    - verb: [ὢν]\n",
    "                - P:\n",
    "                  - np:\n",
    "                    - np:\n",
    "                      - noun: ['υἱός,']\n",
    "                    - np:\n",
    "                      - np:\n",
    "                        - noun: [Ἰωσὴφ]\n",
    "                      - np:\n",
    "                        - np:\n",
    "                          - det: [τοῦ]\n",
    "                        - np:\n",
    "                          - np:\n",
    "                            - noun: [Ἠλὶ]\n",
    "                          - np:\n",
    "                            - np:\n",
    "                              - det: [τοῦ]\n",
    "                            - np:\n",
    "                              - np:\n",
    "                                - noun: [Μαθθὰτ]\n",
    "                              - np:\n",
    "                                - np:\n",
    "                                  - det: [τοῦ]\n",
    "                                - np:\n",
    "                                  - np:\n",
    "                                    - noun: [Λευὶ]\n",
    "                                  - np:\n",
    "                                    - np:\n",
    "                                      - det: [τοῦ]\n",
    "                                    - np:\n",
    "                                      - np:\n",
    "                                        - noun: [Μελχὶ]\n",
    "                                      - np:\n",
    "                                        - np:\n",
    "                                          - det: [τοῦ]\n",
    "                                        - np:\n",
    "                                          - np:\n",
    "                                            - noun: [Ἰανναὶ]\n",
    "                                          - np:\n",
    "                                            - np:\n",
    "                                              - det: [τοῦ]\n",
    "                                            - np:\n",
    "                                              - np:\n",
    "                                                - {noun: ''}\n",
    "                                              - np:\n",
    "                                                - {np: τοῦ}\n",
    "                                                - {np: Ματταθίου τοῦ Ἀμὼς τοῦ Ναοὺμ\n",
    "                                                    τοῦ Ἑσλὶ τοῦ Ναγγαὶ τοῦ Μάαθ τοῦ\n",
    "                                                    Ματταθίου τοῦ Σεμεῒν τοῦ Ἰωσὴχ\n",
    "                                                    τοῦ Ἰωδὰ τοῦ Ἰωανὰν τοῦ Ῥησὰ τοῦ\n",
    "                                                    Ζοροβαβὲλ τοῦ Σαλαθιὴλ τοῦ Νηρὶ\n",
    "                                                    τοῦ Μελχὶ τοῦ Ἀδδὶ τοῦ Κωσὰμ τοῦ\n",
    "                                                    Ἐλμαδὰμ τοῦ Ἢρ τοῦ Ἰησοῦ τοῦ Ἐλιέζερ\n",
    "                                                    τοῦ Ἰωρὶμ τοῦ Μαθθὰτ τοῦ Λευὶ\n",
    "                                                    τοῦ Συμεὼν τοῦ Ἰούδα τοῦ Ἰωσὴφ\n",
    "                                                    τοῦ Ἰωνὰμ τοῦ Ἐλιακὶμ τοῦ Μελεὰ\n",
    "                                                    τοῦ Μεννὰ τοῦ Ματταθὰ τοῦ Ναθὰμ\n",
    "                                                    τοῦ Δαυὶδ τοῦ Ἰεσσαὶ τοῦ Ἰωβὴλ\n",
    "                                                    τοῦ Βόος τοῦ Σαλὰ τοῦ Ναασσὼν\n",
    "                                                    τοῦ Ἀμιναδὰβ τοῦ Ἀδμὶν τοῦ Ἀρνὶ\n",
    "                                                    τοῦ Ἑσρὼμ τοῦ Φαρὲς τοῦ Ἰούδα\n",
    "                                                    τοῦ Ἰακὼβ τοῦ Ἰσαὰκ τοῦ Ἀβραὰμ\n",
    "                                                    τοῦ Θάρα τοῦ Ναχὼρ τοῦ Σεροὺχ\n",
    "                                                    τοῦ Ῥαγαὺ τοῦ Φάλεκ τοῦ Ἔβερ τοῦ\n",
    "                                                    Σαλὰ τοῦ Καϊνὰμ τοῦ Ἀρφαξὰδ τοῦ\n",
    "                                                    Σὴμ τοῦ Νῶε τοῦ Λάμεχ τοῦ Μαθουσαλὰ\n",
    "                                                    τοῦ Ἑνὼχ τοῦ Ἰάρετ τοῦ Μαλελεὴλ\n",
    "                                                    τοῦ Καϊνὰμ τοῦ Ἐνὼς τοῦ Σὴθ τοῦ\n",
    "                                                    Ἀδὰμ τοῦ θεοῦ.}\n"
   ]
  }
 ],
 "metadata": {
  "kernelspec": {
   "display_name": "Python 3",
   "language": "python",
   "name": "python3"
  },
  "language_info": {
   "codemirror_mode": {
    "name": "ipython",
    "version": 3
   },
   "file_extension": ".py",
   "mimetype": "text/x-python",
   "name": "python",
   "nbconvert_exporter": "python",
   "pygments_lexer": "ipython3",
   "version": "3.6.0"
  }
 },
 "nbformat": 4,
 "nbformat_minor": 2
}
