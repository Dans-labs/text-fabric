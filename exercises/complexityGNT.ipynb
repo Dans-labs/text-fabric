{
 "cells": [
  {
   "cell_type": "markdown",
   "metadata": {
    "deletable": true,
    "editable": true
   },
   "source": [
    "<img align=\"right\" src=\"tf-small.png\"/>\n",
    "\n",
    "# SBLGNT and Text-Fabric\n",
    "\n",
    "The source of the SBLGNT data in TF is really a treebank, a hierarchical structure.\n",
    "We converted an XML representation of it into TF.\n",
    "\n",
    "The question of this notebook is: how to measure syntactic complexity of sentences by their tree structure,\n",
    "and how is that complexity distributed over the text of the Greek New Testament.\n",
    "\n",
    "## Complexity\n",
    "It is too simple to equate complexity with the depth of the syntax trees.\n",
    "For example, the genealogy in Luke 3 has a depth of more than 100, but this is a *tail* embedding: after the \n",
    "embedded elements, the embedders do not resume.\n",
    "Real complexity arises when embedders resume after embeddings at many levels.\n",
    "\n",
    "<img align=\"left\" src=\"Complexity.png\" width=\"40%\"/>\n",
    "\n",
    "## Rank\n",
    "The following definition tries to capture the notion of complexity by weeding out chains of nodes that all branch in the same direction. The intuition is that every such chain only counts for one in terms of depth.\n",
    "\n",
    "1. The *rank* of a tree is the maximum of the ranks of its paths (all paths going from the root to a terminal node)\n",
    "2. The *rank* of a path is the rank of its terminal node\n",
    "3. The *rank* of a node is determined as follows:\n",
    "4. The *rank* of the root is 0\n",
    "5. The *rank* of the child of a unary node is the same as the rank of its parent\n",
    "6. If a node has rank 0, and has 2 or more children, all its children have rank 1\n",
    "7. If a node $n$ has a positive rank $r$ and it has at least two children, consider its ancestor $p$ with rank $r-1$.\n",
    "8. If the path from $p$ to $n$ did not start with a left-most or right-most child, then all children of $n$\n",
    "   have rank $r+1$.\n",
    "9. If the path from $p$ to $n$ started with a left-most child, then all children of $n$, except the left-most one,\n",
    "   have rank $r+1$, and the left-most one has rank $r$.\n",
    "10. If the path from $p$ to $n$ started with a right-most child, then all children of $n$, except the right-most one,\n",
    "   have rank $r+1$, and the right-most one has rank $r$.\n",
    "   \n",
    "## Distribution\n",
    "We will compute the rank of all terminal nodes in the GNT, and order them accordingly, and see how complexity is distributed over the chapters.\n",
    "\n",
    "Here is an \n",
    "[Excel Sheet](complexity.xlsx) of all words with rank >= 10 (2721 words)."
   ]
  },
  {
   "cell_type": "code",
   "execution_count": 1,
   "metadata": {
    "collapsed": true,
    "deletable": true,
    "editable": true
   },
   "outputs": [],
   "source": [
    "import os,collections,xlsxwriter\n",
    "from tf.fabric import Fabric"
   ]
  },
  {
   "cell_type": "code",
   "execution_count": 2,
   "metadata": {
    "collapsed": false,
    "deletable": true,
    "editable": true
   },
   "outputs": [
    {
     "name": "stdout",
     "output_type": "stream",
     "text": [
      "This is Text-Fabric 2.3.5\n",
      "Api reference : https://github.com/ETCBC/text-fabric/wiki/Api\n",
      "Tutorial      : https://github.com/ETCBC/text-fabric/blob/master/docs/tutorial.ipynb\n",
      "Data sources  : https://github.com/ETCBC/text-fabric-data\n",
      "Data docs     : https://etcbc.github.io/text-fabric-data\n",
      "Shebanq docs  : https://shebanq.ancient-data.org/text\n",
      "Slack team    : https://shebanq.slack.com/signup\n",
      "Questions? Ask shebanq@ancient-data.org for an invite to Slack\n",
      "60 features found and 0 ignored\n"
     ]
    }
   ],
   "source": [
    "TF = Fabric(modules='greek/sblgnt')"
   ]
  },
  {
   "cell_type": "code",
   "execution_count": 3,
   "metadata": {
    "collapsed": false,
    "deletable": true,
    "editable": true
   },
   "outputs": [
    {
     "name": "stdout",
     "output_type": "stream",
     "text": [
      "  0.00s loading features ...\n",
      "   |     0.02s B otype                from /Users/dirk/github/text-fabric-data/greek/sblgnt\n",
      "   |     0.00s B book                 from /Users/dirk/github/text-fabric-data/greek/sblgnt\n",
      "   |     0.00s B chapter              from /Users/dirk/github/text-fabric-data/greek/sblgnt\n",
      "   |     0.04s B verse                from /Users/dirk/github/text-fabric-data/greek/sblgnt\n",
      "   |     0.11s B Unicode              from /Users/dirk/github/text-fabric-data/greek/sblgnt\n",
      "   |     0.08s B UnicodeLemma         from /Users/dirk/github/text-fabric-data/greek/sblgnt\n",
      "   |     0.01s B Mood                 from /Users/dirk/github/text-fabric-data/greek/sblgnt\n",
      "   |     0.00s B book@en              from /Users/dirk/github/text-fabric-data/greek/sblgnt\n",
      "   |     0.21s B nodeId               from /Users/dirk/github/text-fabric-data/greek/sblgnt\n",
      "   |     0.38s B child                from /Users/dirk/github/text-fabric-data/greek/sblgnt\n",
      "   |     0.00s Feature overview: 57 for nodes; 2 for edges; 1 configs; 7 computed\n",
      "  2.83s All features loaded/computed - for details use loadLog()\n"
     ]
    }
   ],
   "source": [
    "api = TF.load('''\n",
    "    Unicode UnicodeLemma Mood\n",
    "    book book@en chapter verse\n",
    "    otype\n",
    "    nodeId\n",
    "    child\n",
    "''')\n",
    "\n",
    "api.makeAvailableIn(globals())"
   ]
  },
  {
   "cell_type": "code",
   "execution_count": 4,
   "metadata": {
    "collapsed": false,
    "deletable": true,
    "editable": true
   },
   "outputs": [],
   "source": [
    "def computeRanks():\n",
    "    for s in F.otype.s('sentence'):\n",
    "        computeRankNodes(s, 0, 0)\n",
    "\n",
    "def computeRankNodes(node, rank, branchType):\n",
    "    children = E.child.f(node)\n",
    "    if children == None or len(children) == 0:\n",
    "        ranks[node] = rank\n",
    "        return\n",
    "    lc = len(children)\n",
    "    if lc == 1:\n",
    "        computeRankNodes(children[0], rank, branchType)\n",
    "    else:\n",
    "        for (i, c) in enumerate(children):\n",
    "            newRank = rank + 1 if branchType == 0 or\\\n",
    "                                  (branchType == -1 and i > 0) or\\\n",
    "                                  (branchType == 1 and i < lc - 1)\\\n",
    "                               else rank\n",
    "            newBranchType = -1 if i == 0 else 1 if i == lc - 1 else 0\n",
    "            computeRankNodes(c, newRank, newBranchType)"
   ]
  },
  {
   "cell_type": "code",
   "execution_count": 5,
   "metadata": {
    "collapsed": false,
    "deletable": true,
    "editable": true
   },
   "outputs": [
    {
     "name": "stdout",
     "output_type": "stream",
     "text": [
      "  0.00s computing ranks ...\n",
      "  1.12s assigned ranks to 137794 terminals\n"
     ]
    }
   ],
   "source": [
    "indent(reset=True)\n",
    "info('computing ranks ...')\n",
    "ranks = dict()\n",
    "computeRanks()\n",
    "info('assigned ranks to {} terminals'.format(len(ranks)))"
   ]
  },
  {
   "cell_type": "markdown",
   "metadata": {
    "deletable": true,
    "editable": true
   },
   "source": [
    "# Distribution of ranks"
   ]
  },
  {
   "cell_type": "code",
   "execution_count": 6,
   "metadata": {
    "collapsed": false,
    "deletable": true,
    "editable": true,
    "scrolled": false
   },
   "outputs": [
    {
     "name": "stdout",
     "output_type": "stream",
     "text": [
      "Rank   0:      2 terminals\n",
      "Rank   1:  17105 terminals\n",
      "Rank   2:  46511 terminals\n",
      "Rank   3:  32770 terminals\n",
      "Rank   4:  29764 terminals\n",
      "Rank   5:   7783 terminals\n",
      "Rank   6:   3249 terminals\n",
      "Rank   7:    495 terminals\n",
      "Rank   8:    101 terminals\n",
      "Rank   9:     13 terminals\n",
      "Rank  10:      1 terminal\n"
     ]
    }
   ],
   "source": [
    "rankCounter = collections.Counter()\n",
    "for (n, r) in ranks.items(): rankCounter[r] += 1\n",
    "\n",
    "for (r, ns) in sorted(rankCounter.items(), key=lambda x: x[0]):\n",
    "    print('Rank {:>3}: {:>6} terminal{}'.format(r, ns, '' if ns == 1 else 's'))"
   ]
  },
  {
   "cell_type": "markdown",
   "metadata": {},
   "source": [
    "# Maximum and average rank per book"
   ]
  },
  {
   "cell_type": "code",
   "execution_count": 19,
   "metadata": {
    "collapsed": false
   },
   "outputs": [
    {
     "name": "stdout",
     "output_type": "stream",
     "text": [
      "book                  av mx #words\n",
      "Jude                3.26  8   459\n",
      "2_Thessalonians     3.18  9   820\n",
      "2_Peter             3.12  8  1098\n",
      "1_Thessalonians     3.12  8  1473\n",
      "Colossians          3.10  8  1580\n",
      "Ephesians           3.10  7  2416\n",
      "Philippians         3.04  9  1626\n",
      "Hebrews             3.03  9  4935\n",
      "1_Peter             3.02  7  1678\n",
      "Acts                2.98 10 18413\n",
      "Revelation          2.94  8  9833\n",
      "2_Corinthians       2.86  8  4473\n",
      "Romans              2.84  8  7055\n",
      "Philemon            2.84  6   334\n",
      "Luke                2.81  8 19446\n",
      "Galatians           2.81  9  2226\n",
      "Titus               2.80  7   659\n",
      "Mark                2.79  8 11286\n",
      "2_Timothy           2.75  7  1256\n",
      "2_John              2.73  6   245\n",
      "Matthew             2.72  8 18329\n",
      "1_Corinthians       2.70  8  6812\n",
      "1_Timothy           2.68  7  1591\n",
      "James               2.67  7  1770\n",
      "John                2.66  9 15625\n",
      "1_John              2.62  8  2137\n",
      "3_John              2.32  6   219\n"
     ]
    }
   ],
   "source": [
    "stats = []\n",
    "\n",
    "for b in F.otype.s('book'):\n",
    "    sumRank = 0\n",
    "    maxRank = 0\n",
    "    n = 0\n",
    "    for w in L.d(b, 'word'):\n",
    "        rank = ranks[w]\n",
    "        if rank > maxRank: maxRank = rank\n",
    "        sumRank += rank\n",
    "        n += 1\n",
    "    stats.append((Fs('book@en').v(b), sumRank / n, maxRank, n))\n",
    "\n",
    "print('{:<18} {:>5} {:>2} {:>5}'.format('book', 'av', 'mx', '#words'))\n",
    "for stat in sorted(stats, key=lambda x: (-x[1], -x[2], x[0])):\n",
    "    print('{:<18} {:>5.2f} {:>2} {:>5}'.format(*stat))"
   ]
  },
  {
   "cell_type": "markdown",
   "metadata": {},
   "source": [
    "# Top ranks\n",
    "We write out the top ranks in an Excel sheet.\n",
    "First we make a list of rows out if the ranks dicitionary."
   ]
  },
  {
   "cell_type": "code",
   "execution_count": 7,
   "metadata": {
    "collapsed": false,
    "deletable": true,
    "editable": true
   },
   "outputs": [
    {
     "name": "stdout",
     "output_type": "stream",
     "text": [
      "3859 rows\n"
     ]
    }
   ],
   "source": [
    "result = []\n",
    "for (t, r) in sorted((x for x in ranks.items() if x[1] >= 6), key=lambda y: -y[1]):\n",
    "    (book, chapter, verse) = T.sectionFromNode(t)\n",
    "    result.append(dict(\n",
    "        book=book,\n",
    "        chapter=chapter,\n",
    "        verse=verse,\n",
    "        node=t,\n",
    "        nodeId=F.nodeId.v(t),\n",
    "        word=F.Unicode.v(t),\n",
    "        rank=r,\n",
    "    ))\n",
    "    \n",
    "print('{} rows'.format(len(result)))"
   ]
  },
  {
   "cell_type": "markdown",
   "metadata": {},
   "source": [
    "Then we write it to an excel sheet."
   ]
  },
  {
   "cell_type": "code",
   "execution_count": 8,
   "metadata": {
    "collapsed": false,
    "deletable": true,
    "editable": true
   },
   "outputs": [],
   "source": [
    "workbook = xlsxwriter.Workbook('complexity.xlsx', {'strings_to_urls': False})\n",
    "worksheet = workbook.add_worksheet('complexity')\n",
    "\n",
    "greekFormat = workbook.add_format({'font_name': 'Times New Roman', 'font_size': 14})\n",
    "codeFormat = workbook.add_format({'font_name': 'Courier New', 'font_size': 11})\n",
    "smallFormat = workbook.add_format({'font_name': 'Arial', 'font_size': 10})\n",
    "nodeFormat = workbook.add_format({'font_name': 'Arial', 'font_size': 9})\n",
    "normalFormat = workbook.add_format({'font_name': 'Arial', 'font_size': 11})\n",
    "\n",
    "# book chapter node nodeId word rank\n",
    "fields = '''\n",
    "    book\n",
    "    chapter\n",
    "    verse\n",
    "    node\n",
    "    nodeId\n",
    "    word\n",
    "    rank\n",
    "'''.strip().split()\n",
    "\n",
    "fieldSpecs = dict(\n",
    "    book=(10, smallFormat),\n",
    "    chapter=(3, smallFormat),\n",
    "    verse=(3, smallFormat),\n",
    "    node=(7, nodeFormat),\n",
    "    nodeId=(20, codeFormat),\n",
    "    word=(30, greekFormat),\n",
    "    rank=(4, normalFormat),\n",
    ")\n",
    "\n",
    "fieldOrder = list(enumerate(fields))\n",
    "\n",
    "for (f, field) in fieldOrder:\n",
    "    (width, fmt) = fieldSpecs[field]\n",
    "    worksheet.set_column(f, f, width, fmt)\n",
    "\n",
    "for r in range(len(result)):\n",
    "    worksheet.set_row(r, 24)\n",
    "\n",
    "for (f, field) in fieldOrder: worksheet.write(0, f, field)\n",
    "for (r, row) in enumerate(result):\n",
    "    for (f, field) in fieldOrder:\n",
    "        worksheet.write(r+1, f, row[field])\n",
    "workbook.close()"
   ]
  },
  {
   "cell_type": "code",
   "execution_count": null,
   "metadata": {
    "collapsed": true,
    "deletable": true,
    "editable": true
   },
   "outputs": [],
   "source": []
  }
 ],
 "metadata": {
  "kernelspec": {
   "display_name": "Python 3",
   "language": "python",
   "name": "python3"
  },
  "language_info": {
   "codemirror_mode": {
    "name": "ipython",
    "version": 3
   },
   "file_extension": ".py",
   "mimetype": "text/x-python",
   "name": "python",
   "nbconvert_exporter": "python",
   "pygments_lexer": "ipython3",
   "version": "3.6.0"
  }
 },
 "nbformat": 4,
 "nbformat_minor": 2
}
