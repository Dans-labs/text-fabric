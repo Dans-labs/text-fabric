{
 "cells": [
  {
   "cell_type": "markdown",
   "metadata": {
    "deletable": true,
    "editable": true
   },
   "source": [
    "<img align=\"right\" src=\"tf-small.png\"/>\n",
    "\n",
    "# SBLGNT and Text-Fabric\n",
    "\n",
    "The source of the SBLGNT data in TF is really a treebank, a hierarchical structure.\n",
    "We converted an XML representation of it into TF.\n",
    "\n",
    "The question of this notebook is: how to measure syntactic complexity of sentences by their tree structure,\n",
    "and how is that complexity distributed over the text of the Greek New Testament.\n",
    "\n",
    "## Complexity\n",
    "It is too simple to equate complexity with the depth of the syntax trees.\n",
    "For example, the genealogy in Luke 3 has a depth of more than 100, but this is a *tail* embedding: after the \n",
    "embedded elements, the embedders do not resume.\n",
    "Real complexity arises when embedders resume after embeddings at many levels.\n",
    "\n",
    "<img align=\"left\" src=\"Complexity.png\" width=\"40%\"/>\n",
    "\n",
    "## Rank\n",
    "The following definition tries to capture the notion of complexity by weeding out chains of nodes that all branch in the same direction. The intuition is that every such chain only counts for one in terms of depth.\n",
    "\n",
    "1. The *rank* of a tree is the maximum of the ranks of its paths (all paths going from the root to a terminal node)\n",
    "2. The *rank* of a path is the rank of its terminal node\n",
    "3. The *rank* of a node is determined as follows:\n",
    "4. The *rank* of the root is 0\n",
    "5. The *rank* of the child of a unary node is the same as the rank of its parent\n",
    "6. If a node has rank 0, and has 2 or more children, all its children have rank 1\n",
    "7. If a node $n$ has a positive rank $r$ and it has at least two children, consider its ancestor $p$ with rank $r-1$.\n",
    "8. If the path from $p$ to $n$ did not start with a left-most or right-most child, then all children of $n$\n",
    "   have rank $r+1$.\n",
    "9. If the path from $p$ to $n$ started with a left-most child, then all children of $n$, except the left-most one,\n",
    "   have rank $r+1$, and the left-most one has rank $r$.\n",
    "10. If the path from $p$ to $n$ started with a right-most child, then all children of $n$, except the right-most one,\n",
    "   have rank $r+1$, and the right-most one has rank $r$.\n",
    "   \n",
    "## Distribution\n",
    "We will compute the rank of all terminal nodes in the GNT, and order them accordingly, and see how complexity is distributed over the books and chapters.\n",
    "\n",
    "Here is an \n",
    "[Excel Sheet](complexity.xlsx) of all words with rank >= 10 (2721 words)."
   ]
  },
  {
   "cell_type": "code",
   "execution_count": 1,
   "metadata": {
    "collapsed": true,
    "deletable": true,
    "editable": true
   },
   "outputs": [],
   "source": [
    "import os,collections,xlsxwriter\n",
    "from tf.fabric import Fabric"
   ]
  },
  {
   "cell_type": "code",
   "execution_count": 2,
   "metadata": {
    "collapsed": false,
    "deletable": true,
    "editable": true
   },
   "outputs": [
    {
     "name": "stdout",
     "output_type": "stream",
     "text": [
      "This is Text-Fabric 2.3.5\n",
      "Api reference : https://github.com/ETCBC/text-fabric/wiki/Api\n",
      "Tutorial      : https://github.com/ETCBC/text-fabric/blob/master/docs/tutorial.ipynb\n",
      "Data sources  : https://github.com/ETCBC/text-fabric-data\n",
      "Data docs     : https://etcbc.github.io/text-fabric-data\n",
      "Shebanq docs  : https://shebanq.ancient-data.org/text\n",
      "Slack team    : https://shebanq.slack.com/signup\n",
      "Questions? Ask shebanq@ancient-data.org for an invite to Slack\n",
      "60 features found and 0 ignored\n"
     ]
    }
   ],
   "source": [
    "TF = Fabric(modules='greek/sblgnt')"
   ]
  },
  {
   "cell_type": "code",
   "execution_count": 7,
   "metadata": {
    "collapsed": false,
    "deletable": true,
    "editable": true
   },
   "outputs": [
    {
     "name": "stdout",
     "output_type": "stream",
     "text": [
      "  0.00s loading features ...\n",
      "   |     0.00s Feature overview: 57 for nodes; 2 for edges; 1 configs; 7 computed\n",
      "  0.86s All features loaded/computed - for details use loadLog()\n"
     ]
    }
   ],
   "source": [
    "api = TF.load('''\n",
    "    Unicode\n",
    "    book book@en chapter\n",
    "    otype\n",
    "    nodeId\n",
    "    child\n",
    "''')\n",
    "\n",
    "api.makeAvailableIn(globals())"
   ]
  },
  {
   "cell_type": "code",
   "execution_count": 8,
   "metadata": {
    "collapsed": false,
    "deletable": true,
    "editable": true
   },
   "outputs": [],
   "source": [
    "def computeRanks():\n",
    "    for s in F.otype.s('sentence'):\n",
    "        computeRankNodes(s, 0, 0)\n",
    "\n",
    "def computeRankNodes(node, rank, branchType):\n",
    "    children = E.child.f(node)\n",
    "    if children == None or len(children) == 0:\n",
    "        ranks[node] = rank\n",
    "        return\n",
    "    lc = len(children)\n",
    "    if lc == 1:\n",
    "        computeRankNodes(children[0], rank, branchType)\n",
    "    else:\n",
    "        for (i, c) in enumerate(children):\n",
    "            newRank = rank + 1 if branchType == 0 or\\\n",
    "                                  (branchType == -1 and i > 0) or\\\n",
    "                                  (branchType == 1 and i < lc - 1)\\\n",
    "                               else rank\n",
    "            newBranchType = -1 if i == 0 else 1 if i == lc - 1 else 0\n",
    "            computeRankNodes(c, newRank, newBranchType)"
   ]
  },
  {
   "cell_type": "code",
   "execution_count": 9,
   "metadata": {
    "collapsed": false,
    "deletable": true,
    "editable": true
   },
   "outputs": [
    {
     "name": "stdout",
     "output_type": "stream",
     "text": [
      "  0.00s computing ranks ...\n",
      "  1.07s assigned ranks to 137794 terminals\n"
     ]
    }
   ],
   "source": [
    "indent(reset=True)\n",
    "info('computing ranks ...')\n",
    "ranks = dict()\n",
    "computeRanks()\n",
    "info('assigned ranks to {} terminals'.format(len(ranks)))"
   ]
  },
  {
   "cell_type": "markdown",
   "metadata": {
    "deletable": true,
    "editable": true
   },
   "source": [
    "# Distribution of ranks"
   ]
  },
  {
   "cell_type": "code",
   "execution_count": 10,
   "metadata": {
    "collapsed": false,
    "deletable": true,
    "editable": true,
    "scrolled": false
   },
   "outputs": [
    {
     "name": "stdout",
     "output_type": "stream",
     "text": [
      "Rank   0:      2 terminals\n",
      "Rank   1:  17105 terminals\n",
      "Rank   2:  46511 terminals\n",
      "Rank   3:  32770 terminals\n",
      "Rank   4:  29764 terminals\n",
      "Rank   5:   7783 terminals\n",
      "Rank   6:   3249 terminals\n",
      "Rank   7:    495 terminals\n",
      "Rank   8:    101 terminals\n",
      "Rank   9:     13 terminals\n",
      "Rank  10:      1 terminal\n"
     ]
    }
   ],
   "source": [
    "rankCounter = collections.Counter()\n",
    "for (n, r) in ranks.items(): rankCounter[r] += 1\n",
    "\n",
    "for (r, ns) in sorted(rankCounter.items(), key=lambda x: x[0]):\n",
    "    print('Rank {:>3}: {:>6} terminal{}'.format(r, ns, '' if ns == 1 else 's'))"
   ]
  },
  {
   "cell_type": "markdown",
   "metadata": {
    "deletable": true,
    "editable": true
   },
   "source": [
    "# Maximum and average rank per book"
   ]
  },
  {
   "cell_type": "code",
   "execution_count": 22,
   "metadata": {
    "collapsed": false,
    "deletable": true,
    "editable": true,
    "scrolled": false
   },
   "outputs": [
    {
     "name": "stdout",
     "output_type": "stream",
     "text": [
      "BOOKS\n",
      "book                  av mx #words\n",
      "Jude                3.26  8   459\n",
      "2_Thessalonians     3.18  9   820\n",
      "2_Peter             3.12  8  1098\n",
      "1_Thessalonians     3.12  8  1473\n",
      "Colossians          3.10  8  1580\n",
      "Ephesians           3.10  7  2416\n",
      "Philippians         3.04  9  1626\n",
      "Hebrews             3.03  9  4935\n",
      "1_Peter             3.02  7  1678\n",
      "Acts                2.98 10 18413\n",
      "Revelation          2.94  8  9833\n",
      "2_Corinthians       2.86  8  4473\n",
      "Romans              2.84  8  7055\n",
      "Philemon            2.84  6   334\n",
      "Luke                2.81  8 19446\n",
      "Galatians           2.81  9  2226\n",
      "Titus               2.80  7   659\n",
      "Mark                2.79  8 11286\n",
      "2_Timothy           2.75  7  1256\n",
      "2_John              2.73  6   245\n",
      "Matthew             2.72  8 18329\n",
      "1_Corinthians       2.70  8  6812\n",
      "1_Timothy           2.68  7  1591\n",
      "James               2.67  7  1770\n",
      "John                2.66  9 15625\n",
      "1_John              2.62  8  2137\n",
      "3_John              2.32  6   219\n",
      "\n",
      "chapter           ch    av mx #words\n",
      "\n",
      "Top 50 CHAPTERS\n",
      "2_Thessalonians    1  3.83  9   234\n",
      "Ephesians          3  3.76  7   324\n",
      "Hebrews            8  3.61  8   274\n",
      "Hebrews            7  3.50  8   454\n",
      "2_Peter            2  3.46  8   372\n",
      "Acts              26  3.39 10   593\n",
      "Colossians         1  3.39  8   538\n",
      "1_Peter            4  3.38  7   305\n",
      "Hebrews            9  3.37  7   507\n",
      "1_Thessalonians    4  3.34  8   309\n",
      "Revelation        18  3.29  7   625\n",
      "Hebrews            6  3.27  9   300\n",
      "1_Thessalonians    3  3.27  7   247\n",
      "Jude               1  3.26  8   459\n",
      "Acts               6  3.26  8   278\n",
      "Romans             2  3.25  8   449\n",
      "Galatians          2  3.24  8   385\n",
      "Revelation        10  3.23  8   291\n",
      "Colossians         2  3.22  7   388\n",
      "2_Timothy          3  3.22  7   235\n",
      "1_Thessalonians    1  3.21  7   210\n",
      "Acts              24  3.21  8   458\n",
      "Acts               4  3.21  7   686\n",
      "2_Thessalonians    2  3.20  8   312\n",
      "Romans            15  3.18  8   541\n",
      "Philippians        2  3.17  9   431\n",
      "Philippians        1  3.17  7   501\n",
      "2_Corinthians      8  3.16  6   410\n",
      "Acts              17  3.14  8   675\n",
      "1_Corinthians      5  3.14  8   221\n",
      "Ephesians          2  3.12  7   362\n",
      "Romans             1  3.10  7   543\n",
      "Philippians        3  3.10  8   337\n",
      "Revelation        20  3.10  7   406\n",
      "2_Corinthians      9  3.10  7   284\n",
      "Galatians          1  3.09  9   362\n",
      "Revelation        12  3.09  7   438\n",
      "Acts              25  3.09  7   530\n",
      "Acts              15  3.08  8   695\n",
      "1_Corinthians      1  3.08  7   497\n",
      "Ephesians          6  3.08  6   393\n",
      "Acts              23  3.07  7   661\n",
      "Ephesians          1  3.07  6   401\n",
      "1_Peter            3  3.07  7   368\n",
      "Acts              18  3.07  6   510\n",
      "Romans             5  3.05  7   432\n",
      "Acts              28  3.04  8   597\n",
      "1_Thessalonians    2  3.04  7   390\n",
      "2_Corinthians      1  3.03  7   487\n",
      "Revelation         4  3.03  6   293\n",
      "\n",
      "Bottom 50 CHAPTERS\n",
      "Matthew           20  2.63  7   539\n",
      "Galatians          6  2.63  6   267\n",
      "John              18  2.63  7   790\n",
      "Philippians        4  2.63  7   357\n",
      "Romans             7  2.63  6   467\n",
      "1_Corinthians     16  2.62  6   323\n",
      "Romans             3  2.62  6   428\n",
      "2_Timothy          1  2.62  6   317\n",
      "Matthew           10  2.62  7   720\n",
      "Mark              14  2.62  6  1200\n",
      "1_John             4  2.61  6   449\n",
      "John               3  2.61  6   657\n",
      "Matthew            3  2.61  6   331\n",
      "Matthew            9  2.61  6   647\n",
      "Matthew           22  2.61  7   662\n",
      "James              3  2.60  6   295\n",
      "1_John             3  2.60  8   467\n",
      "Luke              22  2.60  6  1082\n",
      "Galatians          3  2.59  7   455\n",
      "John              15  2.59  6   500\n",
      "2_Thessalonians    3  2.59  6   274\n",
      "2_Timothy          4  2.59  6   348\n",
      "2_Corinthians     11  2.58  6   500\n",
      "1_Corinthians     15  2.58  6   843\n",
      "John               8  2.58  7  1085\n",
      "Mark               8  2.57  6   632\n",
      "1_Corinthians     10  2.56  6   463\n",
      "2_Corinthians     12  2.56  6   412\n",
      "James              5  2.55  6   348\n",
      "John              21  2.55  6   549\n",
      "Romans            13  2.54  6   270\n",
      "John               7  2.53  6   857\n",
      "2_Corinthians     13  2.53  6   236\n",
      "1_John             5  2.52  5   429\n",
      "1_Timothy          3  2.52  7   207\n",
      "1_Timothy          4  2.52  6   221\n",
      "1_Corinthians      4  2.52  6   345\n",
      "John               1  2.51  6   826\n",
      "John              14  2.51  6   577\n",
      "Matthew            8  2.51  6   583\n",
      "John               9  2.49  6   689\n",
      "John              16  2.48  6   580\n",
      "John              10  2.48  7   697\n",
      "1_Timothy          5  2.45  6   328\n",
      "James              4  2.42  7   276\n",
      "1_Corinthians      9  2.42  5   449\n",
      "Galatians          5  2.35  5   313\n",
      "3_John             1  2.32  6   219\n",
      "Romans            14  2.31  6   379\n",
      "1_Corinthians      6  2.24  6   334\n"
     ]
    }
   ],
   "source": [
    "statsBook = []\n",
    "statsChapter = []\n",
    "\n",
    "for b in F.otype.s('book'):\n",
    "    sumRank = 0\n",
    "    maxRank = 0\n",
    "    n = 0\n",
    "    for w in L.d(b, 'word'):\n",
    "        rank = ranks[w]\n",
    "        if rank > maxRank: maxRank = rank\n",
    "        sumRank += rank\n",
    "        n += 1\n",
    "    statsBook.append((Fs('book@en').v(b), sumRank / n, maxRank, n))\n",
    "\n",
    "for c in F.otype.s('chapter'):\n",
    "    sumRank = 0\n",
    "    maxRank = 0\n",
    "    n = 0\n",
    "    for w in L.d(c, 'word'):\n",
    "        rank = ranks[w]\n",
    "        if rank > maxRank: maxRank = rank\n",
    "        sumRank += rank\n",
    "        n += 1\n",
    "    (book, chapter, verse) = T.sectionFromNode(c)\n",
    "    statsChapter.append((book, chapter, sumRank / n, maxRank, n))\n",
    "\n",
    "sortedBooks = sorted(statsBook, key=lambda x: (-x[1], -x[2], x[0]))\n",
    "print('BOOKS')\n",
    "print('{:<18} {:>5} {:>2} {:>5}'.format('book', 'av', 'mx', '#words'))\n",
    "for stat in sortedBooks:\n",
    "    print('{:<18} {:>5.2f} {:>2} {:>5}'.format(*stat))\n",
    "\n",
    "sortedChapters = sorted(statsChapter, key=lambda x: (-x[2], -x[3], x[0], x[1]))\n",
    "limit = 50\n",
    "print('\\n{:<18}{:>2} {:>5} {:>2} {:>5}'.format('chapter', 'ch', 'av', 'mx', '#words'))\n",
    "\n",
    "print('\\nTop {} CHAPTERS'.format(limit))\n",
    "for stat in sortedChapters[0:limit]:\n",
    "    print('{:<18}{:>2} {:>5.2f} {:>2} {:>5}'.format(*stat))\n",
    "\n",
    "print('\\nBottom {} CHAPTERS'.format(limit))\n",
    "for stat in sortedChapters[-limit:]:\n",
    "    print('{:<18}{:>2} {:>5.2f} {:>2} {:>5}'.format(*stat))"
   ]
  },
  {
   "cell_type": "markdown",
   "metadata": {
    "deletable": true,
    "editable": true
   },
   "source": [
    "# Top ranks\n",
    "We write out the top ranks in an Excel sheet.\n",
    "First we make a list of rows out if the ranks dicitionary."
   ]
  },
  {
   "cell_type": "code",
   "execution_count": 24,
   "metadata": {
    "collapsed": false,
    "deletable": true,
    "editable": true
   },
   "outputs": [
    {
     "name": "stdout",
     "output_type": "stream",
     "text": [
      "Word    3859 rows\n",
      "Chapter 260 rows\n",
      "Book    27 rows\n"
     ]
    }
   ],
   "source": [
    "resultW = []\n",
    "for (t, r) in sorted((x for x in ranks.items() if x[1] >= 6), key=lambda y: -y[1]):\n",
    "    (book, chapter, verse) = T.sectionFromNode(t)\n",
    "    resultW.append(dict(\n",
    "        book=book,\n",
    "        chapter=chapter,\n",
    "        verse=verse,\n",
    "        node=t,\n",
    "        nodeId=F.nodeId.v(t),\n",
    "        word=F.Unicode.v(t),\n",
    "        rank=r,\n",
    "    ))\n",
    "\n",
    "resultC = []\n",
    "for (book, chapter, av, mx, nw) in sortedChapters:\n",
    "    resultC.append(dict(\n",
    "        book=book,\n",
    "        chapter=chapter,\n",
    "        average=av,\n",
    "        max=mx,\n",
    "        words=nw,\n",
    "    ))\n",
    "\n",
    "resultB = []\n",
    "for (book, av, mx, nw) in sortedBooks:\n",
    "    resultB.append(dict(\n",
    "        book=book,\n",
    "        average=av,\n",
    "        max=mx,\n",
    "        words=nw,\n",
    "    ))\n",
    "    \n",
    "print('Word    {} rows'.format(len(resultW)))\n",
    "print('Chapter {} rows'.format(len(resultC)))\n",
    "print('Book    {} rows'.format(len(resultB)))"
   ]
  },
  {
   "cell_type": "markdown",
   "metadata": {
    "deletable": true,
    "editable": true
   },
   "source": [
    "Then we write it to an excel sheet."
   ]
  },
  {
   "cell_type": "code",
   "execution_count": 26,
   "metadata": {
    "collapsed": false,
    "deletable": true,
    "editable": true
   },
   "outputs": [],
   "source": [
    "workbook = xlsxwriter.Workbook('complexity.xlsx', {'strings_to_urls': False})\n",
    "worksheetW = workbook.add_worksheet('word')\n",
    "worksheetC = workbook.add_worksheet('chapter')\n",
    "worksheetB = workbook.add_worksheet('book')\n",
    "\n",
    "greekFormat = workbook.add_format({'font_name': 'Times New Roman', 'font_size': 14})\n",
    "codeFormat = workbook.add_format({'font_name': 'Courier New', 'font_size': 11})\n",
    "smallFormat = workbook.add_format({'font_name': 'Arial', 'font_size': 10})\n",
    "nodeFormat = workbook.add_format({'font_name': 'Arial', 'font_size': 9})\n",
    "normalFormat = workbook.add_format({'font_name': 'Arial', 'font_size': 11})\n",
    "\n",
    "# book chapter node nodeId word rank\n",
    "fieldsW = '''\n",
    "    book\n",
    "    chapter\n",
    "    verse\n",
    "    node\n",
    "    nodeId\n",
    "    word\n",
    "    rank\n",
    "'''.strip().split()\n",
    "\n",
    "fieldsC = '''\n",
    "    book\n",
    "    chapter\n",
    "    average\n",
    "    max\n",
    "    words\n",
    "'''.strip().split()\n",
    "\n",
    "fieldsB = '''\n",
    "    book\n",
    "    average\n",
    "    max\n",
    "    words\n",
    "'''.strip().split()\n",
    "\n",
    "\n",
    "fieldSpecs = dict(\n",
    "    book=(16, smallFormat),\n",
    "    chapter=(3, smallFormat),\n",
    "    verse=(3, smallFormat),\n",
    "    node=(7, nodeFormat),\n",
    "    nodeId=(20, codeFormat),\n",
    "    word=(30, greekFormat),\n",
    "    rank=(4, normalFormat),\n",
    "    average=(4, normalFormat),\n",
    "    max=(4, normalFormat),\n",
    "    words=(10, normalFormat)\n",
    ")\n",
    "\n",
    "for (fields, worksheet, result) in (\n",
    "    (fieldsW, worksheetW, resultW),\n",
    "    (fieldsC, worksheetC, resultC),\n",
    "    (fieldsB, worksheetB, resultB),\n",
    "):\n",
    "    fieldOrder = list(enumerate(fields))\n",
    "\n",
    "    for (f, field) in fieldOrder:\n",
    "        (width, fmt) = fieldSpecs[field]\n",
    "        worksheet.set_column(f, f, width, fmt)\n",
    "\n",
    "    for r in range(len(result)):\n",
    "        worksheet.set_row(r, 24)\n",
    "\n",
    "    for (f, field) in fieldOrder: worksheet.write(0, f, field)\n",
    "    for (r, row) in enumerate(result):\n",
    "        for (f, field) in fieldOrder:\n",
    "            worksheet.write(r+1, f, row[field])\n",
    "workbook.close()"
   ]
  },
  {
   "cell_type": "code",
   "execution_count": null,
   "metadata": {
    "collapsed": true,
    "deletable": true,
    "editable": true
   },
   "outputs": [],
   "source": []
  }
 ],
 "metadata": {
  "kernelspec": {
   "display_name": "Python 3",
   "language": "python",
   "name": "python3"
  },
  "language_info": {
   "codemirror_mode": {
    "name": "ipython",
    "version": 3
   },
   "file_extension": ".py",
   "mimetype": "text/x-python",
   "name": "python",
   "nbconvert_exporter": "python",
   "pygments_lexer": "ipython3",
   "version": "3.6.0"
  }
 },
 "nbformat": 4,
 "nbformat_minor": 2
}
