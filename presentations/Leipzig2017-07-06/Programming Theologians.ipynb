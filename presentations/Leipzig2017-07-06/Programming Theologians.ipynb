{
 "cells": [
  {
   "cell_type": "markdown",
   "metadata": {
    "slideshow": {
     "slide_type": "slide"
    }
   },
   "source": [
    "<img align=\"right\" src=\"tf-small.png\"/>\n",
    "\n",
    "# Programming theologians\n",
    "\n",
    "[Text-Fabric](https://github.com/ETCBC/text-fabric): Ancient texts as fabrics of source and annotations.\n",
    "\n",
    "[data model](https://github.com/ETCBC/text-fabric/wiki/Data-model): Text objects, relationships, features.\n",
    "\n",
    "Got it? Get it! [home page](https://github.com/ETCBC/text-fabric/wiki)"
   ]
  },
  {
   "cell_type": "markdown",
   "metadata": {
    "slideshow": {
     "slide_type": "subslide"
    }
   },
   "source": [
    "Join the computing\n",
    "\n",
    "1. go to [https://shebanq.jove.surfsara.nl](https://shebanq.jove.surfsara.nl) and log in (see paper ticket)\n",
    "1. select assignment `prog_theo`, fetch `leipzig` and click it\n",
    "1. click `Programming theologians.ipynb` and off-you-go\n",
    "\n",
    "![shot](jove.png)"
   ]
  },
  {
   "cell_type": "markdown",
   "metadata": {
    "slideshow": {
     "slide_type": "slide"
    }
   },
   "source": [
    "# Before the beginning"
   ]
  },
  {
   "cell_type": "code",
   "execution_count": null,
   "metadata": {
    "collapsed": true,
    "scrolled": true,
    "slideshow": {
     "slide_type": "subslide"
    }
   },
   "outputs": [],
   "source": [
    "import collections, pandas\n",
    "import matplotlib.pyplot as plt\n",
    "from IPython.display import display\n",
    "%matplotlib inline\n",
    "pandas.set_option('display.notebook_repr_html', True)"
   ]
  },
  {
   "cell_type": "code",
   "execution_count": null,
   "metadata": {
    "collapsed": true,
    "scrolled": true,
    "slideshow": {
     "slide_type": "subslide"
    }
   },
   "outputs": [],
   "source": [
    "from tf.fabric import Fabric\n",
    "\n",
    "ETCBC = 'hebrew/etcbc4c'\n",
    "PHONO = 'hebrew/phono'\n",
    "\n",
    "TF_H = Fabric( modules=[ETCBC, PHONO], silent=False )"
   ]
  },
  {
   "cell_type": "code",
   "execution_count": null,
   "metadata": {
    "collapsed": true,
    "scrolled": true,
    "slideshow": {
     "slide_type": "fragment"
    }
   },
   "outputs": [],
   "source": [
    "TF_G = Fabric(modules='greek/sblgnt')"
   ]
  },
  {
   "cell_type": "code",
   "execution_count": null,
   "metadata": {
    "collapsed": true,
    "scrolled": true,
    "slideshow": {
     "slide_type": "subslide"
    }
   },
   "outputs": [],
   "source": [
    "apiH = TF_H.load('sp')"
   ]
  },
  {
   "cell_type": "code",
   "execution_count": null,
   "metadata": {
    "collapsed": true,
    "scrolled": true,
    "slideshow": {
     "slide_type": "fragment"
    }
   },
   "outputs": [],
   "source": [
    "apiG = TF_G.load('psp')"
   ]
  },
  {
   "cell_type": "code",
   "execution_count": null,
   "metadata": {
    "collapsed": true,
    "scrolled": true,
    "slideshow": {
     "slide_type": "subslide"
    }
   },
   "outputs": [],
   "source": [
    "def doGreek():\n",
    "    global T\n",
    "    global L\n",
    "    global F\n",
    "    global Fs\n",
    "    T = apiG.T\n",
    "    L = apiG.L\n",
    "    F = apiG.F\n",
    "    Fs = apiG.Fs\n",
    "\n",
    "def doHebrew():\n",
    "    global T\n",
    "    global L\n",
    "    global F\n",
    "    global Fs\n",
    "    T = apiH.T\n",
    "    L = apiH.L\n",
    "    F = apiH.F\n",
    "    Fs = apiH.Fs\n",
    "    \n",
    "def doingHebrew():\n",
    "    return F is apiH.F\n",
    "def doingGreek():\n",
    "    return F is apiG.F"
   ]
  },
  {
   "cell_type": "markdown",
   "metadata": {
    "collapsed": true,
    "slideshow": {
     "slide_type": "slide"
    }
   },
   "source": [
    "# In the beginning\n",
    "\n",
    "The first verse"
   ]
  },
  {
   "cell_type": "code",
   "execution_count": null,
   "metadata": {
    "collapsed": true,
    "scrolled": true,
    "slideshow": {
     "slide_type": "subslide"
    }
   },
   "outputs": [],
   "source": [
    "doHebrew()"
   ]
  },
  {
   "cell_type": "code",
   "execution_count": null,
   "metadata": {
    "collapsed": true,
    "scrolled": true,
    "slideshow": {
     "slide_type": "fragment"
    }
   },
   "outputs": [],
   "source": [
    "T.text(range(1,12))"
   ]
  },
  {
   "cell_type": "code",
   "execution_count": null,
   "metadata": {
    "collapsed": true,
    "scrolled": true,
    "slideshow": {
     "slide_type": "fragment"
    }
   },
   "outputs": [],
   "source": [
    "T.text(range(1,12), fmt='text-phono-full')"
   ]
  },
  {
   "cell_type": "code",
   "execution_count": null,
   "metadata": {
    "collapsed": true,
    "scrolled": true,
    "slideshow": {
     "slide_type": "fragment"
    }
   },
   "outputs": [],
   "source": [
    "T.formats"
   ]
  },
  {
   "cell_type": "code",
   "execution_count": null,
   "metadata": {
    "collapsed": true,
    "scrolled": true,
    "slideshow": {
     "slide_type": "subslide"
    }
   },
   "outputs": [],
   "source": [
    "T.text(range(1,12), fmt='lex-orig-plain')"
   ]
  },
  {
   "cell_type": "code",
   "execution_count": null,
   "metadata": {
    "collapsed": true,
    "scrolled": true,
    "slideshow": {
     "slide_type": "subslide"
    }
   },
   "outputs": [],
   "source": [
    "doGreek()"
   ]
  },
  {
   "cell_type": "code",
   "execution_count": null,
   "metadata": {
    "collapsed": true,
    "scrolled": true,
    "slideshow": {
     "slide_type": "fragment"
    }
   },
   "outputs": [],
   "source": [
    "firstVerse = T.nodeFromSection(('Matthew', 1, 1))\n",
    "F.otype.v(firstVerse)"
   ]
  },
  {
   "cell_type": "code",
   "execution_count": null,
   "metadata": {
    "collapsed": true,
    "scrolled": true,
    "slideshow": {
     "slide_type": "fragment"
    }
   },
   "outputs": [],
   "source": [
    "words = L.d(firstVerse, otype='word')\n",
    "words"
   ]
  },
  {
   "cell_type": "code",
   "execution_count": null,
   "metadata": {
    "collapsed": true,
    "scrolled": true,
    "slideshow": {
     "slide_type": "fragment"
    }
   },
   "outputs": [],
   "source": [
    "T.text(words)"
   ]
  },
  {
   "cell_type": "code",
   "execution_count": null,
   "metadata": {
    "collapsed": true,
    "scrolled": true,
    "slideshow": {
     "slide_type": "fragment"
    }
   },
   "outputs": [],
   "source": [
    "T.formats"
   ]
  },
  {
   "cell_type": "code",
   "execution_count": null,
   "metadata": {
    "collapsed": true,
    "scrolled": true,
    "slideshow": {
     "slide_type": "subslide"
    }
   },
   "outputs": [],
   "source": [
    "T.text(words, fmt='text-orig-plain')"
   ]
  },
  {
   "cell_type": "code",
   "execution_count": null,
   "metadata": {
    "collapsed": true,
    "scrolled": true,
    "slideshow": {
     "slide_type": "fragment"
    }
   },
   "outputs": [],
   "source": [
    "T.text(words, fmt='lex-orig-full')"
   ]
  },
  {
   "cell_type": "markdown",
   "metadata": {
    "slideshow": {
     "slide_type": "slide"
    }
   },
   "source": [
    "# Man and woman\n",
    "God created the genders, we count them."
   ]
  },
  {
   "cell_type": "markdown",
   "metadata": {
    "slideshow": {
     "slide_type": "fragment"
    }
   },
   "source": [
    "Which genders have we?"
   ]
  },
  {
   "cell_type": "code",
   "execution_count": null,
   "metadata": {
    "collapsed": true,
    "scrolled": true,
    "slideshow": {
     "slide_type": "fragment"
    }
   },
   "outputs": [],
   "source": [
    "doHebrew()\n",
    "\n",
    "TF_H.load('gn', add=True)\n",
    "\n",
    "{F.gn.v(w) for w in F.otype.s('word')}"
   ]
  },
  {
   "cell_type": "code",
   "execution_count": null,
   "metadata": {
    "collapsed": true,
    "scrolled": true,
    "slideshow": {
     "slide_type": "subslide"
    }
   },
   "outputs": [],
   "source": [
    "def getGenders():\n",
    "    featureName = 'gn' if doingHebrew() else 'Gender'\n",
    "    return {Fs(featureName).v(w) for w in F.otype.s('word')}\n",
    "getGenders()"
   ]
  },
  {
   "cell_type": "code",
   "execution_count": null,
   "metadata": {
    "collapsed": true,
    "scrolled": true,
    "slideshow": {
     "slide_type": "fragment"
    }
   },
   "outputs": [],
   "source": [
    "doGreek()\n",
    "TF_G.load('Gender', add=True)\n",
    "print(getGenders())\n",
    "doHebrew()"
   ]
  },
  {
   "cell_type": "code",
   "execution_count": null,
   "metadata": {
    "collapsed": true,
    "scrolled": true,
    "slideshow": {
     "slide_type": "fragment"
    }
   },
   "outputs": [],
   "source": [
    "def countGenders():\n",
    "    featureName = 'gn' if doingHebrew() else 'Gender'\n",
    "    stats = collections.Counter()\n",
    "    for w in F.otype.s('word'):\n",
    "        stats[Fs(featureName).v(w)] += 1\n",
    "    print(stats)\n",
    "countGenders()"
   ]
  },
  {
   "cell_type": "markdown",
   "metadata": {
    "slideshow": {
     "slide_type": "subslide"
    }
   },
   "source": [
    "## ... in graphic detail ..."
   ]
  },
  {
   "cell_type": "code",
   "execution_count": null,
   "metadata": {
    "collapsed": true,
    "scrolled": true,
    "slideshow": {
     "slide_type": "subslide"
    }
   },
   "outputs": [],
   "source": [
    "def genderBias(book):\n",
    "    bookNode = T.nodeFromSection((book,))\n",
    "    chapterNodes = L.d(bookNode, otype='chapter')\n",
    "    x = [T.sectionFromNode(c)[1] for c in chapterNodes]\n",
    "    masc = dict((c, 0) for c in x)\n",
    "    fem = dict((c, 0) for c in x)\n",
    "    neut = dict((c, 0) for c in x)\n",
    "    absent = dict((c, 0) for c in x)\n",
    "    total = dict((c, 0) for c in x)\n",
    "\n",
    "    genderFeature = 'gn' if doingHebrew() else 'Gender'\n",
    "\n",
    "    for chapterNode in chapterNodes:\n",
    "        chapter = T.sectionFromNode(chapterNode)[1]\n",
    "        words = L.d(chapterNode, otype='word')\n",
    "        for w in words:\n",
    "            total[chapter] += 1\n",
    "            gender = Fs(genderFeature).v(w)\n",
    "            if gender in {'m', 'Masculine'}: masc[chapter] += 1\n",
    "            if gender in {'f', 'Feminine'}: fem[chapter] += 1\n",
    "            if gender in {'Neuter'}: neut[chapter] += 1\n",
    "            if gender in {'NA', 'unknown', None}: absent[chapter] += 1\n",
    "    m = [100 * masc[c] / total[c] for c in x]\n",
    "    f = [100 * fem[c] / total[c] for c in x]\n",
    "    n = [100 * neut[c] / total[c] for c in x]\n",
    "    a = [100 * absent[c] / total[c] for c in x]\n",
    "\n",
    "    fig = plt.figure()\n",
    "    plt.plot(x, m, 'b-', x, f, 'r-', x, n, 'g-', x, a, '0.5')\n",
    "    plt.axis([x[0], x[-1], 0, 70])\n",
    "    plt.xticks(x, x, rotation='vertical')\n",
    "    plt.margins(0.2)\n",
    "    plt.subplots_adjust(bottom=0.15);\n",
    "    plt.title('gender in {} {}-{}'.format(book, x[0], x[-1]))\n",
    "    "
   ]
  },
  {
   "cell_type": "code",
   "execution_count": null,
   "metadata": {
    "collapsed": true,
    "scrolled": true,
    "slideshow": {
     "slide_type": "subslide"
    }
   },
   "outputs": [],
   "source": [
    "genderBias('Leviticus')"
   ]
  },
  {
   "cell_type": "markdown",
   "metadata": {
    "slideshow": {
     "slide_type": "subslide"
    }
   },
   "source": [
    "## Inspect some peaks and dips"
   ]
  },
  {
   "cell_type": "code",
   "execution_count": null,
   "metadata": {
    "collapsed": true,
    "scrolled": true,
    "slideshow": {
     "slide_type": "fragment"
    }
   },
   "outputs": [],
   "source": [
    "TF_H.load('gloss', add=True)"
   ]
  },
  {
   "cell_type": "code",
   "execution_count": null,
   "metadata": {
    "collapsed": true,
    "slideshow": {
     "slide_type": "fragment"
    }
   },
   "outputs": [],
   "source": [
    "def atAGlance(book, chapter):\n",
    "    words = L.d(T.nodeFromSection((book, chapter)), otype='word')\n",
    "    freqs = collections.Counter()\n",
    "    for w in words:\n",
    "        if doingHebrew():\n",
    "            lexeme = L.u(w, otype='lex')[0]\n",
    "            freqs[F.gloss.v(lexeme)] += 1\n",
    "        else:\n",
    "            freqs[F.UnicodeLemma.v(w)] += 1\n",
    "    for (gloss, freq) in sorted(freqs.items(), key=lambda x: (-x[1], x[0])):\n",
    "        print('{:>3} {}'.format(freq, gloss))"
   ]
  },
  {
   "cell_type": "code",
   "execution_count": null,
   "metadata": {
    "collapsed": true,
    "scrolled": true,
    "slideshow": {
     "slide_type": "subslide"
    }
   },
   "outputs": [],
   "source": [
    "        \n",
    "def inDepth(book, chapter):\n",
    "    chapterNode = T.nodeFromSection((book, chapter))\n",
    "    verseNodes = L.d(chapterNode, otype='verse')\n",
    "    for verseNode in verseNodes:\n",
    "        words = L.d(verseNode, otype='word')\n",
    "        print('{}: {}'.format(T.sectionFromNode(verseNode)[2], T.text(words)))  "
   ]
  },
  {
   "cell_type": "code",
   "execution_count": null,
   "metadata": {
    "collapsed": true,
    "scrolled": true,
    "slideshow": {
     "slide_type": "subslide"
    }
   },
   "outputs": [],
   "source": [
    "genderBias('Leviticus')"
   ]
  },
  {
   "cell_type": "code",
   "execution_count": null,
   "metadata": {
    "collapsed": true,
    "scrolled": true,
    "slideshow": {
     "slide_type": "fragment"
    }
   },
   "outputs": [],
   "source": [
    "atAGlance('Leviticus', 18)"
   ]
  },
  {
   "cell_type": "code",
   "execution_count": null,
   "metadata": {
    "collapsed": true,
    "slideshow": {
     "slide_type": "subslide"
    }
   },
   "outputs": [],
   "source": [
    "genderBias('Leviticus')"
   ]
  },
  {
   "cell_type": "code",
   "execution_count": null,
   "metadata": {
    "collapsed": true,
    "scrolled": true,
    "slideshow": {
     "slide_type": "fragment"
    }
   },
   "outputs": [],
   "source": [
    "atAGlance('Leviticus', 26)"
   ]
  },
  {
   "cell_type": "code",
   "execution_count": null,
   "metadata": {
    "collapsed": true,
    "scrolled": true,
    "slideshow": {
     "slide_type": "subslide"
    }
   },
   "outputs": [],
   "source": [
    "inDepth('Leviticus', 26)"
   ]
  },
  {
   "cell_type": "markdown",
   "metadata": {
    "slideshow": {
     "slide_type": "subslide"
    }
   },
   "source": [
    "## Man, woman and thing"
   ]
  },
  {
   "cell_type": "code",
   "execution_count": null,
   "metadata": {
    "collapsed": true,
    "scrolled": true,
    "slideshow": {
     "slide_type": "fragment"
    }
   },
   "outputs": [],
   "source": [
    "doGreek()\n",
    "\n",
    "TF_G.load('UnicodeLemma', add=True)"
   ]
  },
  {
   "cell_type": "markdown",
   "metadata": {
    "slideshow": {
     "slide_type": "fragment"
    }
   },
   "source": [
    "The Greek genders"
   ]
  },
  {
   "cell_type": "code",
   "execution_count": null,
   "metadata": {
    "collapsed": true,
    "scrolled": true,
    "slideshow": {
     "slide_type": "fragment"
    }
   },
   "outputs": [],
   "source": [
    "getGenders()"
   ]
  },
  {
   "cell_type": "code",
   "execution_count": null,
   "metadata": {
    "collapsed": true,
    "scrolled": true,
    "slideshow": {
     "slide_type": "subslide"
    }
   },
   "outputs": [],
   "source": [
    "genderBias('Matthew')"
   ]
  },
  {
   "cell_type": "code",
   "execution_count": null,
   "metadata": {
    "collapsed": true,
    "scrolled": true,
    "slideshow": {
     "slide_type": "fragment"
    }
   },
   "outputs": [],
   "source": [
    "atAGlance('Matthew', 24)"
   ]
  },
  {
   "cell_type": "code",
   "execution_count": null,
   "metadata": {
    "collapsed": true,
    "scrolled": true,
    "slideshow": {
     "slide_type": "subslide"
    }
   },
   "outputs": [],
   "source": [
    "inDepth('Matthew', 24)"
   ]
  },
  {
   "cell_type": "code",
   "execution_count": null,
   "metadata": {
    "collapsed": true,
    "scrolled": true,
    "slideshow": {
     "slide_type": "subslide"
    }
   },
   "outputs": [],
   "source": [
    "genderBias('John')"
   ]
  },
  {
   "cell_type": "code",
   "execution_count": null,
   "metadata": {
    "collapsed": true,
    "scrolled": true,
    "slideshow": {
     "slide_type": "fragment"
    }
   },
   "outputs": [],
   "source": [
    "atAGlance('John', 16)\n"
   ]
  },
  {
   "cell_type": "markdown",
   "metadata": {
    "slideshow": {
     "slide_type": "slide"
    }
   },
   "source": [
    "# Six days of work\n",
    "\n",
    "Semantic plurals in the letter of Jude.\n",
    "\n",
    "Let's get all nominal phrases."
   ]
  },
  {
   "cell_type": "code",
   "execution_count": null,
   "metadata": {
    "collapsed": true,
    "scrolled": true,
    "slideshow": {
     "slide_type": "subslide"
    }
   },
   "outputs": [],
   "source": [
    "doGreek()\n",
    "\n",
    "TF_G.load('Cat', add=True)\n",
    "\n",
    "bookNode = T.nodeFromSection(('Jude',))\n",
    "phraseNodes = L.d(bookNode, otype='phrase')\n",
    "NPs = [p for p in phraseNodes if F.Cat.v(p) == 'np']\n",
    "\n",
    "print('{} NPs in Jude'.format(len(NPs)))"
   ]
  },
  {
   "cell_type": "markdown",
   "metadata": {
    "slideshow": {
     "slide_type": "subslide"
    }
   },
   "source": [
    "Export this data as CSV\n",
    "\n",
    "so that expert can add a feature: *semantically plural*."
   ]
  },
  {
   "cell_type": "code",
   "execution_count": null,
   "metadata": {
    "collapsed": true,
    "scrolled": true,
    "slideshow": {
     "slide_type": "subslide"
    }
   },
   "outputs": [],
   "source": [
    "enrichFile = 'np.csv'\n",
    "enrichedFile = 'np-enriched.csv'\n",
    "\n",
    "with open(enrichFile, 'w') as f:\n",
    "    fieldNames = ['passage', 'node', 'phrase', 'semantic plural', 'sentence']\n",
    "    f.write('{}\\n'.format('\\t'.join(fieldNames)))\n",
    "    for np in NPs:\n",
    "        sn = L.u(np, otype='sentence')[0]\n",
    "        sentence = L.d(sn, otype='word')\n",
    "        phrase = L.d(np, otype='word')\n",
    "        fields = [\n",
    "            '{} {}:{}'.format(*T.sectionFromNode(np)),\n",
    "            str(np),\n",
    "            T.text(phrase),\n",
    "            '',\n",
    "            T.text(sentence),\n",
    "        ]\n",
    "        f.write('{}\\n'.format('\\t'.join(fields)))\n",
    "\n",
    "dataFrame = pandas.read_csv(enrichFile, sep='\\t')\n",
    "\n",
    "dataFrame.head(100)"
   ]
  },
  {
   "cell_type": "code",
   "execution_count": null,
   "metadata": {
    "collapsed": true,
    "scrolled": true,
    "slideshow": {
     "slide_type": "subslide"
    }
   },
   "outputs": [],
   "source": [
    "semNumber = dict()\n",
    "\n",
    "with open(enrichedFile) as f:\n",
    "    for (i, line) in enumerate(f):\n",
    "        if i == 0: continue                    # header row\n",
    "\n",
    "        fields = line.rstrip('\\n').split(';')\n",
    "        value = fields[3]\n",
    "        if value == '': continue               # no data entered\n",
    "\n",
    "        node = int(fields[1])\n",
    "        semNumber[node] = value\n",
    "        \n",
    "for p in sorted(semNumber):\n",
    "    print('{} => {}'.format(p, semNumber[p]))"
   ]
  },
  {
   "cell_type": "markdown",
   "metadata": {
    "slideshow": {
     "slide_type": "subslide"
    }
   },
   "source": [
    "Save the new feature as a text-fabric file."
   ]
  },
  {
   "cell_type": "code",
   "execution_count": null,
   "metadata": {
    "collapsed": true,
    "slideshow": {
     "slide_type": "fragment"
    }
   },
   "outputs": [],
   "source": [
    "metaData = dict(\n",
    "    semNumber=dict(\n",
    "        valueType='str',\n",
    "        source='Semantic plurality training set',\n",
    "        author='J.S. Bach, Leipzig',\n",
    "    ),\n",
    ")\n",
    "TF_G = Fabric(locations='.', modules='semantic')\n",
    "TF_G.save(\n",
    "    nodeFeatures=dict(semNumber=semNumber),\n",
    "    metaData=metaData,\n",
    ")"
   ]
  },
  {
   "cell_type": "code",
   "execution_count": null,
   "metadata": {
    "collapsed": true,
    "scrolled": true,
    "slideshow": {
     "slide_type": "subslide"
    }
   },
   "outputs": [],
   "source": [
    "!cat semantic/semNumber.tf"
   ]
  },
  {
   "cell_type": "markdown",
   "metadata": {
    "slideshow": {
     "slide_type": "subslide"
    }
   },
   "source": [
    "## Use the new feature"
   ]
  },
  {
   "cell_type": "code",
   "execution_count": null,
   "metadata": {
    "collapsed": true,
    "scrolled": true,
    "slideshow": {
     "slide_type": "fragment"
    }
   },
   "outputs": [],
   "source": [
    "LOCATIONS = [\n",
    "    '~/Downloads/text-fabric-data',\n",
    "    '~/text-fabric-data',\n",
    "    '~/github/text-fabric-data',\n",
    "    '/mnt/shared/text-fabric-data',\n",
    "]\n",
    "\n",
    "TF_G = Fabric(\n",
    "    locations=LOCATIONS+['.'], \n",
    "    modules=['greek/sblgnt', 'semantic'],\n",
    ")"
   ]
  },
  {
   "cell_type": "code",
   "execution_count": null,
   "metadata": {
    "collapsed": true,
    "slideshow": {
     "slide_type": "subslide"
    }
   },
   "outputs": [],
   "source": [
    "apiG = TF_G.load('Number semNumber')\n",
    "doGreek()"
   ]
  },
  {
   "cell_type": "code",
   "execution_count": null,
   "metadata": {
    "collapsed": true,
    "slideshow": {
     "slide_type": "subslide"
    }
   },
   "outputs": [],
   "source": [
    "for np in NPs:\n",
    "    semNumber = F.semNumber.v(np)\n",
    "    if not semNumber: continue\n",
    "    words = L.d(np, otype='word')\n",
    "    print('NP {}: semantically \"{}\", words marked as {}'.format(\n",
    "        np,\n",
    "        semNumber,\n",
    "        ' '.join(F.Number.v(w) for w in words if F.Number.v(w)),\n",
    "    ))"
   ]
  },
  {
   "cell_type": "markdown",
   "metadata": {
    "slideshow": {
     "slide_type": "slide"
    }
   },
   "source": [
    "# Sabbath\n",
    "Have a look at the (un)finished work and see whether it is good."
   ]
  },
  {
   "cell_type": "markdown",
   "metadata": {
    "collapsed": true,
    "scrolled": true,
    "slideshow": {
     "slide_type": "subslide"
    }
   },
   "source": [
    "## Martijn Naaijer\n",
    "\n",
    "Won a grassroots price for setting up a theology course based on SHEBANQ, Jupyter, and R.\n",
    "See [Python course here](https://shebanq.jove.surfsara.nl/user/dirkr/notebooks/shared/martijn/Python_Course/Introduction_to_text_fabric.ipynb).\n",
    "\n",
    "![poster](PosterGrassroots_Naaijer.jpg)"
   ]
  },
  {
   "cell_type": "markdown",
   "metadata": {
    "slideshow": {
     "slide_type": "subslide"
    }
   },
   "source": [
    "## Christiaan Erwich\n",
    "\n",
    "Tries to track who is who in the Psalms, and is deeply into graph visualization.\n",
    "![doxo](doxology.pdf)"
   ]
  },
  {
   "cell_type": "markdown",
   "metadata": {
    "slideshow": {
     "slide_type": "subslide"
    }
   },
   "source": [
    "## Cody Kingham\n",
    "\n",
    "Helped to convert the SBL Greek New Testament to Text-Fabric format.\n",
    "Tries to\n",
    "[explain to the world](http://www.codykingham.com/etcbc/datacreation)\n",
    "how the ETCBC encoded the Hebrew Bible after 40 years of struggling with computers.\n",
    "\n",
    "![schema](ps4.p_description.png)"
   ]
  },
  {
   "cell_type": "markdown",
   "metadata": {
    "collapsed": true,
    "slideshow": {
     "slide_type": "subslide"
    }
   },
   "source": [
    "## Dirk Roorda\n",
    "\n",
    "Tries to recombine everything.\n",
    "\n",
    "[Phonetic transcription of Hebrew](https://rawgit.com/ETCBC/text-fabric/master/phono/phonoTf.html)\n",
    "\n",
    "![phono](phono_tests.png)"
   ]
  },
  {
   "cell_type": "markdown",
   "metadata": {
    "slideshow": {
     "slide_type": "subslide"
    }
   },
   "source": [
    "[Parallel passages](https://shebanq.ancient-data.org/shebanq/static/docs/tools/parallel/parallels.html)\n",
    "\n",
    "See it in action on SHEBANQ:\n",
    "[etcbc4b Genesis 10:1](https://shebanq.ancient-data.org/hebrew/text?qactive=hlcustom&qsel_one=grey&qpub=x&qget=x&wactive=hlcustom&wsel_one=gray&wpub=x&wget=x&nactive=hlcustom&nsel_one=black&npub=x&nget=v&chapter=10&lang=en&book=Genesis&qw=q&tr=hb&tp=txt_tb1&iid=Mnxjcm9zc3JlZg__&verse=1&version=4b&mr=m&page=1&wd4_statfl=v&ph_arela=v&wd4_statrl=v&sn_an=v&cl=v&wd1_lang=x&wd1_subpos=x&wd2_person=v&sp_rela=v&wd1_pdp=x&sn_n=v&wd3_uvf=x&ph_fun=v&wd1_nmtp=v&gl=v&sp_n=v&pt=v&ph_an=v&ph_typ=x&cl_typ=v&tt=v&wd4_statro=x&wd3_vbs=x&wd1=v&tl=x&wd3=x&wd4=v&wd2_gender=v&ph=v&wd3_vbe=v&wd1_pos=v&ph_det=v&ph_rela=x&wd4_statfo=x&tl_tlv=x&wd2_stem=v&wd2_state=v&ht=v&ph_n=v&tl_tlc=x&cl_tab=v&wd3_nme=x&hl=v&cl_par=v&cl_an=v&cl_n=v&wd3_prs=v&wd3_pfm=x&sp=v&cl_code=v&ht_hk=v&wd2=v&hl_hlc=x&cl_rela=v&wd2_gnumber=v&wd2_tense=v&cl_txt=v&wd1_n=x&sn=v&ht_ht=v&hl_hlv=v&pref=alt)\n",
    "\n",
    "![parallel](parallel.png)"
   ]
  },
  {
   "cell_type": "markdown",
   "metadata": {
    "collapsed": true,
    "slideshow": {
     "slide_type": "slide"
    }
   },
   "source": [
    "# Thanks\n",
    "\n",
    "Dirk Roorda\n",
    "\n",
    "[Linguistic Annotation and Philology Workshop](http://www.dh.uni-leipzig.de/wo/laphw/)\n",
    "\n",
    "Leipzig, July 6-7, 2017\n",
    "\n",
    "![logo](DANS-logo.png)\n",
    "\n",
    "[Data Archiving and Networked Services (DANS)](https://dans.knaw.nl/en/front-page?set_language=en)"
   ]
  }
 ],
 "metadata": {
  "celltoolbar": "Slideshow",
  "kernelspec": {
   "display_name": "Python 3",
   "language": "python",
   "name": "python3"
  },
  "language_info": {
   "codemirror_mode": {
    "name": "ipython",
    "version": 3
   },
   "file_extension": ".py",
   "mimetype": "text/x-python",
   "name": "python",
   "nbconvert_exporter": "python",
   "pygments_lexer": "ipython3",
   "version": "3.6.1"
  }
 },
 "nbformat": 4,
 "nbformat_minor": 2
}
