{
 "cells": [
  {
   "cell_type": "code",
   "execution_count": 1,
   "metadata": {
    "collapsed": false
   },
   "outputs": [
    {
     "name": "stderr",
     "output_type": "stream",
     "text": [
      "  0.00s This is LAF-Fabric 4.8.3\n",
      "API reference: http://laf-fabric.readthedocs.org/en/latest/texts/API-reference.html\n",
      "Feature doc: https://shebanq.ancient-data.org/static/docs/featuredoc/texts/welcome.html\n",
      "\n"
     ]
    }
   ],
   "source": [
    "from laf.fabric import LafFabric\n",
    "from etcbc.preprocess import prep\n",
    "fabric = LafFabric()"
   ]
  },
  {
   "cell_type": "code",
   "execution_count": 8,
   "metadata": {
    "collapsed": true
   },
   "outputs": [],
   "source": [
    "features = '''\n",
    "code\n",
    "det\n",
    "dist\n",
    "dist_unit\n",
    "domain\n",
    "function\n",
    "g_cons\n",
    "g_cons_utf8\n",
    "g_lex\n",
    "g_lex_utf8\n",
    "g_nme\n",
    "g_nme_utf8\n",
    "g_pfm\n",
    "g_pfm_utf8\n",
    "g_prs\n",
    "g_prs_utf8\n",
    "g_uvf\n",
    "g_uvf_utf8\n",
    "g_vbe\n",
    "g_vbe_utf8\n",
    "g_vbs\n",
    "g_vbs_utf8\n",
    "g_voc_lex\n",
    "g_voc_lex_utf8\n",
    "g_word\n",
    "g_word_utf8\n",
    "gn\n",
    "is_root\n",
    "kind\n",
    "language\n",
    "lex\n",
    "lex_utf8\n",
    "ls\n",
    "mother_object_type\n",
    "nme\n",
    "nu\n",
    "number\n",
    "pdp\n",
    "pfm\n",
    "prs\n",
    "prs_gn\n",
    "prs_nu\n",
    "prs_ps\n",
    "ps\n",
    "qere\n",
    "qere_utf8\n",
    "rela\n",
    "sp\n",
    "st\n",
    "tab\n",
    "trailer\n",
    "trailer_utf8\n",
    "txt\n",
    "typ\n",
    "uvf\n",
    "vbe\n",
    "vbs\n",
    "vs\n",
    "vt\n",
    "book\n",
    "chapter\n",
    "label\n",
    "verse\n",
    "'''"
   ]
  },
  {
   "cell_type": "code",
   "execution_count": 2,
   "metadata": {
    "collapsed": false
   },
   "outputs": [
    {
     "name": "stderr",
     "output_type": "stream",
     "text": [
      "  0.00s LOADING API: please wait ... \n",
      "  0.00s DETAIL: COMPILING m: etcbc4c: UP TO DATE\n",
      "  0.00s USING main: etcbc4c DATA COMPILED AT: 2016-11-09T19-16-37\n",
      "  0.02s DETAIL: load main: G.node_anchor_min\n",
      "  0.13s DETAIL: load main: G.node_anchor_max\n",
      "  0.19s DETAIL: load main: G.node_sort\n",
      "  0.24s DETAIL: load main: G.node_sort_inv\n",
      "  0.63s DETAIL: load main: G.edges_from\n",
      "  0.69s DETAIL: load main: G.edges_to\n",
      "  0.75s DETAIL: load main: F.etcbc4_ft_code [node] \n",
      "  0.80s DETAIL: load main: F.etcbc4_ft_det [node] \n",
      "  1.00s DETAIL: load main: F.etcbc4_ft_dist [node] \n",
      "  1.33s DETAIL: load main: F.etcbc4_ft_dist_unit [node] \n",
      "  1.86s DETAIL: load main: F.etcbc4_ft_domain [node] \n",
      "  1.90s DETAIL: load main: F.etcbc4_ft_function [node] \n",
      "  2.00s DETAIL: load main: F.etcbc4_ft_g_cons [node] \n",
      "  2.18s DETAIL: load main: F.etcbc4_ft_g_cons_utf8 [node] \n",
      "  2.42s DETAIL: load main: F.etcbc4_ft_g_lex [node] \n",
      "  2.61s DETAIL: load main: F.etcbc4_ft_g_lex_utf8 [node] \n",
      "  2.87s DETAIL: load main: F.etcbc4_ft_g_nme [node] \n",
      "  2.98s DETAIL: load main: F.etcbc4_ft_g_nme_utf8 [node] \n",
      "  3.17s DETAIL: load main: F.etcbc4_ft_g_pfm [node] \n",
      "  3.41s DETAIL: load main: F.etcbc4_ft_g_pfm_utf8 [node] \n",
      "  3.65s DETAIL: load main: F.etcbc4_ft_g_prs [node] \n",
      "  3.87s DETAIL: load main: F.etcbc4_ft_g_prs_utf8 [node] \n",
      "  4.02s DETAIL: load main: F.etcbc4_ft_g_uvf [node] \n",
      "  4.11s DETAIL: load main: F.etcbc4_ft_g_uvf_utf8 [node] \n",
      "  4.20s DETAIL: load main: F.etcbc4_ft_g_vbe [node] \n",
      "  4.29s DETAIL: load main: F.etcbc4_ft_g_vbe_utf8 [node] \n",
      "  4.39s DETAIL: load main: F.etcbc4_ft_g_vbs [node] \n",
      "  4.48s DETAIL: load main: F.etcbc4_ft_g_vbs_utf8 [node] \n",
      "  4.56s DETAIL: load main: F.etcbc4_ft_g_voc_lex [node] \n",
      "  4.75s DETAIL: load main: F.etcbc4_ft_g_voc_lex_utf8 [node] \n",
      "  5.00s DETAIL: load main: F.etcbc4_ft_g_word [node] \n",
      "  5.22s DETAIL: load main: F.etcbc4_ft_g_word_utf8 [node] \n",
      "  5.51s DETAIL: load main: F.etcbc4_ft_gn [node] \n",
      "  5.69s DETAIL: load main: F.etcbc4_ft_is_root [node] \n",
      "  5.79s DETAIL: load main: F.etcbc4_ft_kind [node] \n",
      "  5.89s DETAIL: load main: F.etcbc4_ft_language [node] \n",
      "  6.33s DETAIL: load main: F.etcbc4_ft_lex [node] \n",
      "  6.51s DETAIL: load main: F.etcbc4_ft_lex_utf8 [node] \n",
      "  6.76s DETAIL: load main: F.etcbc4_ft_ls [node] \n",
      "  6.94s DETAIL: load main: F.etcbc4_ft_mother_object_type [node] \n",
      "  7.03s DETAIL: load main: F.etcbc4_ft_nme [node] \n",
      "  7.19s DETAIL: load main: F.etcbc4_ft_nu [node] \n",
      "  7.36s DETAIL: load main: F.etcbc4_ft_number [node] \n",
      "  7.80s DETAIL: load main: F.etcbc4_ft_pdp [node] \n",
      "  7.98s DETAIL: load main: F.etcbc4_ft_pfm [node] \n",
      "  8.15s DETAIL: load main: F.etcbc4_ft_prs [node] \n",
      "  8.33s DETAIL: load main: F.etcbc4_ft_prs_gn [node] \n",
      "  8.51s DETAIL: load main: F.etcbc4_ft_prs_nu [node] \n",
      "  8.70s DETAIL: load main: F.etcbc4_ft_prs_ps [node] \n",
      "  8.96s DETAIL: load main: F.etcbc4_ft_ps [node] \n",
      "  9.39s DETAIL: load main: F.etcbc4_ft_qere [node] \n",
      "  9.58s DETAIL: load main: F.etcbc4_ft_qere_utf8 [node] \n",
      "  9.76s DETAIL: load main: F.etcbc4_ft_rela [node] \n",
      "    10s DETAIL: load main: F.etcbc4_ft_sp [node] \n",
      "    10s DETAIL: load main: F.etcbc4_ft_st [node] \n",
      "    10s DETAIL: load main: F.etcbc4_ft_tab [node] \n",
      "    10s DETAIL: load main: F.etcbc4_ft_trailer [node] \n",
      "    10s DETAIL: load main: F.etcbc4_ft_trailer_utf8 [node] \n",
      "    11s DETAIL: load main: F.etcbc4_ft_txt [node] \n",
      "    11s DETAIL: load main: F.etcbc4_ft_typ [node] \n",
      "    11s DETAIL: load main: F.etcbc4_ft_uvf [node] \n",
      "    12s DETAIL: load main: F.etcbc4_ft_vbe [node] \n",
      "    12s DETAIL: load main: F.etcbc4_ft_vbs [node] \n",
      "    12s DETAIL: load main: F.etcbc4_ft_vs [node] \n",
      "    12s DETAIL: load main: F.etcbc4_ft_vt [node] \n",
      "    12s DETAIL: load main: F.etcbc4_sft_book [node] \n",
      "    12s DETAIL: load main: F.etcbc4_sft_chapter [node] \n",
      "    12s DETAIL: load main: F.etcbc4_sft_label [node] \n",
      "    12s DETAIL: load main: F.etcbc4_sft_verse [node] \n",
      "    12s DETAIL: load main: F.etcbc4_ft_distributional_parent [e] \n",
      "    13s DETAIL: load main: F.etcbc4_ft_functional_parent [e] \n",
      "    13s DETAIL: load main: F.etcbc4_ft_mother [e] \n",
      "    13s DETAIL: load main: C.etcbc4_ft_distributional_parent -> \n",
      "    13s DETAIL: load main: C.etcbc4_ft_functional_parent -> \n",
      "    14s DETAIL: load main: C.etcbc4_ft_mother -> \n",
      "    14s DETAIL: load main: C.etcbc4_ft_distributional_parent <- \n",
      "    15s DETAIL: load main: C.etcbc4_ft_functional_parent <- \n",
      "    15s DETAIL: load main: C.etcbc4_ft_mother <- \n",
      "    16s LOGFILE=/Users/dirk/laf/laf-fabric-output/etcbc4c/TF/__log__TF.txt\n",
      "    16s INFO: LOADING PREPARED data: please wait ... \n",
      "    16s prep prep: G.node_sort\n",
      "    16s prep prep: G.node_sort_inv\n",
      "    17s prep prep: L.node_up\n",
      "    20s prep prep: L.node_down\n",
      "    27s prep prep: V.verses\n",
      "    27s prep prep: V.books_la\n",
      "    27s ETCBC reference: http://laf-fabric.readthedocs.org/en/latest/texts/ETCBC-reference.html\n",
      "    28s INFO: LOADED PREPARED data\n",
      "    28s INFO: DATA LOADED FROM SOURCE etcbc4c AND ANNOX  FOR TASK TF AT 2016-11-27T16-54-55\n"
     ]
    }
   ],
   "source": [
    "API = fabric.load('etcbc4c', '--', 'TF', {\n",
    "    \"xmlids\": {\"node\": False, \"edge\": False},\n",
    "    \"features\": (features,'''\n",
    "        mother\n",
    "        functional_parent\n",
    "        distributional_parent\n",
    "    '''),\n",
    "    \"prepare\": prep(select={'L'}),\n",
    "    \"primary\": False,\n",
    "}, verbose='DETAIL')\n",
    "exec(fabric.localnames.format(var='fabric'))"
   ]
  },
  {
   "cell_type": "code",
   "execution_count": 11,
   "metadata": {
    "collapsed": true
   },
   "outputs": [],
   "source": [
    "import sys\n",
    "sys.path.append('..')\n",
    "from tf.fabric import Fabric\n",
    "from tf.data import Data\n",
    "from tf.timestamp import Timestamp"
   ]
  },
  {
   "cell_type": "code",
   "execution_count": 15,
   "metadata": {
    "collapsed": false
   },
   "outputs": [
    {
     "name": "stdout",
     "output_type": "stream",
     "text": [
      "63 features\n"
     ]
    }
   ],
   "source": [
    "TFDIR = '/Users/dirk/tf/text-fabric-data/etcbc4c'\n",
    "featureList = features.strip().split()\n",
    "print('{} features'.format(len(featureList)))"
   ]
  },
  {
   "cell_type": "code",
   "execution_count": 13,
   "metadata": {
    "collapsed": false
   },
   "outputs": [
    {
     "name": "stdout",
     "output_type": "stream",
     "text": [
      "  0.00s Exporting features...\n",
      "  0.00s code ... \n",
      "  0.19s det ... \n",
      "  1.03s dist ... \n",
      "  2.09s dist_unit ... \n",
      "  3.13s domain ... \n",
      "  3.32s function ... \n",
      "  3.73s g_cons ... \n",
      "  4.39s g_cons_utf8 ... \n",
      "  5.33s g_lex ... \n",
      "  6.16s g_lex_utf8 ... \n",
      "  6.96s g_nme ... \n",
      "  7.62s g_nme_utf8 ... \n",
      "  8.44s g_pfm ... \n",
      "  9.16s g_pfm_utf8 ... \n",
      "  9.80s g_prs ... \n",
      "    11s g_prs_utf8 ... \n",
      "    11s g_uvf ... \n",
      "    12s g_uvf_utf8 ... \n",
      "    12s g_vbe ... \n",
      "    13s g_vbe_utf8 ... \n",
      "    14s g_vbs ... \n",
      "    14s g_vbs_utf8 ... \n",
      "    15s g_voc_lex ... \n",
      "    16s g_voc_lex_utf8 ... \n",
      "    17s g_word ... \n",
      "    17s g_word_utf8 ... \n",
      "    18s gn ... \n",
      "    19s is_root ... \n",
      "    19s kind ... \n",
      "    20s language ... \n",
      "    20s lex ... \n",
      "    21s lex_utf8 ... \n",
      "    22s ls ... \n",
      "    23s mother_object_type ... \n",
      "    23s nme ... \n",
      "    24s nu ... \n",
      "    25s number ... \n",
      "    27s pdp ... \n",
      "    27s pfm ... \n",
      "    28s prs ... \n",
      "    29s prs_gn ... \n",
      "    30s prs_nu ... \n",
      "    30s prs_ps ... \n",
      "    31s ps ... \n",
      "    32s qere ... \n",
      "    32s qere_utf8 ... \n",
      "    33s rela ... \n",
      "    34s sp ... \n",
      "    35s st ... \n",
      "    35s tab ... \n",
      "    36s trailer ... \n",
      "    36s trailer_utf8 ... \n",
      "    37s txt ... \n",
      "    37s typ ... \n",
      "    38s uvf ... \n",
      "    39s vbe ... \n",
      "    40s vbs ... \n",
      "    40s vs ... \n",
      "    41s vt ... \n",
      "    42s book ... \n",
      "    42s chapter ... \n",
      "    42s label ... \n",
      "    42s verse ... \n",
      "    42s Done (435 features)"
     ]
    }
   ],
   "source": [
    "tm = Timestamp()\n",
    "tm.info('Exporting features...\\n')\n",
    "for feat in featureList:\n",
    "    tm.info('{} ... \\n'.format(feat))\n",
    "    path = '{}/{}.tf'.format(TFDIR, feat)\n",
    "    Data(path, data=F.item[feat].lookup, metaData=dict(source='ETCBC4C')).writeTf()\n",
    "tm.info('Done ({} features)'.format(len(featureList)))"
   ]
  },
  {
   "cell_type": "code",
   "execution_count": null,
   "metadata": {
    "collapsed": true
   },
   "outputs": [],
   "source": []
  }
 ],
 "metadata": {
  "kernelspec": {
   "display_name": "Python 3",
   "language": "python",
   "name": "python3"
  },
  "language_info": {
   "codemirror_mode": {
    "name": "ipython",
    "version": 3
   },
   "file_extension": ".py",
   "mimetype": "text/x-python",
   "name": "python",
   "nbconvert_exporter": "python",
   "pygments_lexer": "ipython3",
   "version": "3.5.2"
  }
 },
 "nbformat": 4,
 "nbformat_minor": 1
}
