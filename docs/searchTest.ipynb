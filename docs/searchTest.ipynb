{
 "cells": [
  {
   "cell_type": "code",
   "execution_count": 1,
   "metadata": {
    "collapsed": false,
    "scrolled": false
   },
   "outputs": [
    {
     "name": "stdout",
     "output_type": "stream",
     "text": [
      "This is Text-Fabric 2.0.0\n",
      "Api reference : https://github.com/ETCBC/text-fabric/wiki/Api\n",
      "Tutorial      : https://github.com/ETCBC/text-fabric/blob/master/docs/tutorial.ipynb\n",
      "Data sources  : https://github.com/ETCBC/text-fabric-data\n",
      "Data docs     : https://etcbc.github.io/text-fabric-data/features/hebrew/etcbc4c/0_overview.html\n",
      "Shebanq docs  : https://shebanq.ancient-data.org/text\n",
      "Slack team    : https://shebanq.slack.com/signup\n",
      "Questions? Ask shebanq@ancient-data.org for an invite to Slack\n",
      "107 features found and 0 ignored\n",
      "  0.00s loading features ...\n",
      "   |     0.00s Feature overview: 102 nodes; 4 edges; 1 configs; 7 computeds\n",
      "  4.46s All features loaded/computed - for details use loadLog()\n"
     ]
    }
   ],
   "source": [
    "import sys\n",
    "from tf.fabric import Fabric\n",
    "ETCBC = 'hebrew/etcbc4c'\n",
    "TF = Fabric( modules=ETCBC )\n",
    "api = TF.load('')\n",
    "api.makeAvailableIn(globals())"
   ]
  },
  {
   "cell_type": "code",
   "execution_count": 5,
   "metadata": {
    "collapsed": true
   },
   "outputs": [],
   "source": [
    "query = '''\n",
    "verse book=Genesis chapter=1\n",
    "    clause\n",
    "        p1:phrase\n",
    "        p2:phrase\n",
    "p1 <: p2\n",
    "'''"
   ]
  },
  {
   "cell_type": "code",
   "execution_count": 6,
   "metadata": {
    "collapsed": false
   },
   "outputs": [
    {
     "name": "stdout",
     "output_type": "stream",
     "text": [
      "  0.00s Checking search template ...\n",
      "  0.00s Setting up search space for 4 objects ...\n",
      "  0.22s Constraining search space with 4 relations ...\n",
      "  0.33s Setting up retrieval plan ...\n",
      "  0.36s Ready to deliver results from 506508 nodes\n",
      "Iterate over S.fetch() to get the results\n",
      "See S.showPlan() to interpret the results\n",
      "Search with 4 objects and 4 relations\n",
      "Results are instantiations of the following objects:\n",
      "node  0-verse                             (    31   choices)\n",
      "node  1-clause                            (   129   choices)\n",
      "node  2-phrase                            (253174   choices)\n",
      "node  3-phrase                            (253174   choices)\n",
      "Instantiations are computed along the following relations:\n",
      "node                      0-verse         (    31   choices)\n",
      "edge  0-verse         [[  1-clause        (     4.1 choices)\n",
      "edge  1-clause        [[  2-phrase        (     2.7 choices)\n",
      "edge  2-phrase        <:  3-phrase        (     0.9 choices)\n",
      "edge  3-phrase        ]]  1-clause        (     0.0 choices)\n",
      "  0.40s The results are connected to the original search template as follows:\n",
      " 0     \n",
      " 1 R0  verse book=Genesis chapter=1\n",
      " 2 R1      clause\n",
      " 3 R2          p1:phrase\n",
      " 4 R3          p2:phrase\n",
      " 5     p1 <: p2\n",
      " 6     \n"
     ]
    }
   ],
   "source": [
    "S.study(query)\n",
    "S.showPlan(details=True)"
   ]
  },
  {
   "cell_type": "code",
   "execution_count": 7,
   "metadata": {
    "collapsed": false
   },
   "outputs": [
    {
     "name": "stdout",
     "output_type": "stream",
     "text": [
      "  0.00s Counting results per 100 up to 1000 ...\n",
      "   |     0.00s 100\n",
      "   |     0.00s 200\n",
      "  0.01s Done: 247 results\n"
     ]
    }
   ],
   "source": [
    "S.count(progress=100, limit=1000)"
   ]
  },
  {
   "cell_type": "code",
   "execution_count": 2,
   "metadata": {
    "collapsed": false
   },
   "outputs": [],
   "source": [
    "query = '''\n",
    "# test\n",
    "# verse book=Genesis chapter=2 verse=25\n",
    "verse\n",
    "  clause\n",
    "                                 \n",
    "    p1:phrase\n",
    "        w1:word\n",
    "        w3:word\n",
    "        w1 < w3\n",
    "\n",
    "    p2:phrase\n",
    "        w2:word\n",
    "        w1 < w2 \n",
    "        w3 > w2\n",
    "    \n",
    "    p1 # p2   \n",
    "'''"
   ]
  },
  {
   "cell_type": "code",
   "execution_count": 22,
   "metadata": {
    "collapsed": false
   },
   "outputs": [
    {
     "name": "stdout",
     "output_type": "stream",
     "text": [
      "  0.00s Checking search template ...\n",
      "  0.00s Setting up search space for 7 objects ...\n",
      "  0.50s Constraining search space with 10 relations ...\n",
      "  0.54s Setting up retrieval plan ...\n",
      "  0.62s Ready to deliver results from 1897304 nodes\n",
      "Iterate over S.fetch() to get the results\n",
      "See S.showPlan() to interpret the results\n"
     ]
    }
   ],
   "source": [
    "S.study(query, strategy='small_choice_first')"
   ]
  },
  {
   "cell_type": "code",
   "execution_count": 23,
   "metadata": {
    "collapsed": false
   },
   "outputs": [
    {
     "name": "stdout",
     "output_type": "stream",
     "text": [
      "Search with 7 objects and 10 relations\n",
      "Results are instantiations of the following objects:\n",
      "node  0-verse                             ( 23213   choices)\n",
      "node  1-clause                            ( 88000   choices)\n",
      "node  2-phrase                            (253174   choices)\n",
      "node  3-word                              (426581   choices)\n",
      "node  4-word                              (426581   choices)\n",
      "node  5-phrase                            (253174   choices)\n",
      "node  6-word                              (426581   choices)\n",
      "Instantiations are computed along the following relations:\n",
      "node                      0-verse         ( 23213   choices)\n",
      "edge  0-verse         [[  1-clause        (     4.9 choices)\n",
      "edge  1-clause        [[  5-phrase        (     2.9 choices)\n",
      "edge  5-phrase        [[  6-word          (     1.4 choices)\n",
      "edge  1-clause        [[  2-phrase        (     2.9 choices)\n",
      "edge  2-phrase        #   5-phrase        (252920.8 choices)\n",
      "edge  2-phrase        [[  3-word          (     1.9 choices)\n",
      "edge  3-word          <   6-word          (213290.5 choices)\n",
      "edge  2-phrase        [[  4-word          (     2.2 choices)\n",
      "edge  4-word          >   6-word          (213290.5 choices)\n",
      "edge  3-word          <   4-word          (213290.5 choices)\n",
      "  1.66s The results are connected to the original search template as follows:\n",
      " 0     \n",
      " 1     # test\n",
      " 2     # verse book=Genesis chapter=2 verse=25\n",
      " 3 R0  verse\n",
      " 4 R1    clause\n",
      " 5                                      \n",
      " 6 R2      p1:phrase\n",
      " 7 R3          w1:word\n",
      " 8 R4          w3:word\n",
      " 9             w1 < w3\n",
      "10     \n",
      "11 R5      p2:phrase\n",
      "12 R6          w2:word\n",
      "13             w1 < w2 \n",
      "14             w3 > w2\n",
      "15         \n",
      "16         p1 # p2   \n",
      "17     \n"
     ]
    }
   ],
   "source": [
    "S.showPlan(details=True)"
   ]
  },
  {
   "cell_type": "code",
   "execution_count": 24,
   "metadata": {
    "collapsed": false
   },
   "outputs": [
    {
     "name": "stdout",
     "output_type": "stream",
     "text": [
      "  0.00s Counting results per 10 up to 100 ...\n",
      "   |     0.17s 10\n",
      "   |     0.17s 20\n",
      "   |     0.17s 30\n",
      "   |     0.20s 40\n",
      "   |     0.21s 50\n",
      "   |     0.21s 60\n",
      "   |     0.24s 70\n",
      "   |     0.24s 80\n",
      "   |     0.24s 90\n",
      "   |     0.25s 100\n",
      "  0.25s Done: 100 results\n"
     ]
    }
   ],
   "source": [
    "S.count(progress=10, limit=100)"
   ]
  },
  {
   "cell_type": "code",
   "execution_count": 25,
   "metadata": {
    "collapsed": false
   },
   "outputs": [
    {
     "name": "stdout",
     "output_type": "stream",
     "text": [
      "  0.00s Counting results per 100 up to 1000 ...\n",
      "   |     0.21s 100\n",
      "   |     0.26s 200\n",
      "   |     0.26s 300\n",
      "   |     0.48s 400\n",
      "   |     0.60s 500\n",
      "   |     0.61s 600\n",
      "   |     0.76s 700\n",
      "   |     0.90s 800\n",
      "   |     1.10s 900\n",
      "   |     1.21s 1000\n",
      "  1.21s Done: 1000 results\n"
     ]
    }
   ],
   "source": [
    "S.count(progress=100, limit=1000)"
   ]
  },
  {
   "cell_type": "code",
   "execution_count": 26,
   "metadata": {
    "collapsed": false
   },
   "outputs": [
    {
     "name": "stdout",
     "output_type": "stream",
     "text": [
      "  0.00s Counting results per 1000 up to  the end of the results ...\n",
      "   |     1.14s 1000\n",
      "   |     2.15s 2000\n",
      "   |     3.17s 3000\n",
      "   |     3.65s 4000\n",
      "   |     4.74s 5000\n",
      "   |     6.08s 6000\n",
      "   |     9.22s 7000\n",
      "    11s Done: 7512 results\n"
     ]
    }
   ],
   "source": [
    "S.count(progress=1000, limit=-1)"
   ]
  },
  {
   "cell_type": "code",
   "execution_count": 8,
   "metadata": {
    "collapsed": false
   },
   "outputs": [
    {
     "name": "stdout",
     "output_type": "stream",
     "text": [
      "Genesis 2:25 clause[וַיִּֽהְי֤וּ שְׁנֵיהֶם֙ עֲרוּמִּ֔ים הָֽ...] phrase[שְׁנֵיהֶם֙ הָֽאָדָ֖ם וְאִשְׁתֹּ֑ו ]   phrase[עֲרוּמִּ֔ים ] \n",
      "Genesis 2:25 clause[וַיִּֽהְי֤וּ שְׁנֵיהֶם֙ עֲרוּמִּ֔ים הָֽ...] phrase[שְׁנֵיהֶם֙ הָֽאָדָ֖ם וְאִשְׁתֹּ֑ו ]   phrase[עֲרוּמִּ֔ים ] \n",
      "Genesis 2:25 clause[וַיִּֽהְי֤וּ שְׁנֵיהֶם֙ עֲרוּמִּ֔ים הָֽ...] phrase[שְׁנֵיהֶם֙ הָֽאָדָ֖ם וְאִשְׁתֹּ֑ו ]   phrase[עֲרוּמִּ֔ים ] \n",
      "Genesis 2:25 clause[וַיִּֽהְי֤וּ שְׁנֵיהֶם֙ עֲרוּמִּ֔ים הָֽ...] phrase[שְׁנֵיהֶם֙ הָֽאָדָ֖ם וְאִשְׁתֹּ֑ו ]   phrase[עֲרוּמִּ֔ים ] \n",
      "Genesis 4:4 clause[וְהֶ֨בֶל הֵבִ֥יא גַם־ה֛וּא ...] phrase[הֶ֨בֶל גַם־ה֛וּא ]   phrase[הֵבִ֥יא ] \n",
      "Genesis 4:4 clause[וְהֶ֨בֶל הֵבִ֥יא גַם־ה֛וּא ...] phrase[הֶ֨בֶל גַם־ה֛וּא ]   phrase[הֵבִ֥יא ] \n",
      "Genesis 10:21 clause[גַּם־ה֑וּא אֲבִי֙ כָּל־בְּנֵי־...] phrase[גַּם־ה֑וּא אֲחִ֖י יֶ֥פֶת הַ...]   phrase[אֲבִי֙ כָּל־בְּנֵי־עֵ֔בֶר ] \n",
      "Genesis 10:21 clause[גַּם־ה֑וּא אֲבִי֙ כָּל־בְּנֵי־...] phrase[גַּם־ה֑וּא אֲחִ֖י יֶ֥פֶת הַ...]   phrase[אֲבִי֙ כָּל־בְּנֵי־עֵ֔בֶר ] \n",
      "Genesis 10:21 clause[גַּם־ה֑וּא אֲבִי֙ כָּל־בְּנֵי־...] phrase[גַּם־ה֑וּא אֲחִ֖י יֶ֥פֶת הַ...]   phrase[אֲבִי֙ כָּל־בְּנֵי־עֵ֔בֶר ] \n",
      "Genesis 10:21 clause[גַּם־ה֑וּא אֲבִי֙ כָּל־בְּנֵי־...] phrase[גַּם־ה֑וּא אֲחִ֖י יֶ֥פֶת הַ...]   phrase[אֲבִי֙ כָּל־בְּנֵי־עֵ֔בֶר ] \n"
     ]
    }
   ],
   "source": [
    "for r in S.fetch(amount=10):\n",
    "    print(S.glean(r))"
   ]
  },
  {
   "cell_type": "code",
   "execution_count": null,
   "metadata": {
    "collapsed": true
   },
   "outputs": [],
   "source": []
  }
 ],
 "metadata": {
  "kernelspec": {
   "display_name": "Python 3",
   "language": "python",
   "name": "python3"
  },
  "language_info": {
   "codemirror_mode": {
    "name": "ipython",
    "version": 3
   },
   "file_extension": ".py",
   "mimetype": "text/x-python",
   "name": "python",
   "nbconvert_exporter": "python",
   "pygments_lexer": "ipython3",
   "version": "3.6.0"
  }
 },
 "nbformat": 4,
 "nbformat_minor": 1
}
