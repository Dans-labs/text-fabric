{
 "cells": [
  {
   "cell_type": "markdown",
   "metadata": {},
   "source": [
    "<img align=\"right\" src=\"tf-small.png\"/>\n",
    "\n",
    "# Tutorial\n",
    "\n",
    "This notebook gets you started with\n",
    "[Text-Fabric](https://github.com/ETCBC/text-fabric) an API on annotated text.\n",
    "Below we show some of its functions in action on a Sumerian data set, *etcsl*.\n",
    "\n",
    "The tutorial is best understood after having familiarized yourself with the underlying\n",
    "[data model](https://github.com/ETCBC/text-fabric/wiki/Data-model).\n",
    "\n",
    "If you want to *get* this all, see the \n",
    "[home page](https://github.com/ETCBC/text-fabric/wiki)\n",
    "of Text-Fabric wiki."
   ]
  },
  {
   "cell_type": "code",
   "execution_count": 1,
   "metadata": {
    "collapsed": true
   },
   "outputs": [],
   "source": [
    "import sys, os, collections\n",
    "from tf.fabric import Fabric"
   ]
  },
  {
   "cell_type": "markdown",
   "metadata": {},
   "source": [
    "# Call Text-Fabric\n",
    "\n",
    "Everything starts by setting up Text-Fabric.\n",
    "It needs to know where to look for data."
   ]
  },
  {
   "cell_type": "code",
   "execution_count": 2,
   "metadata": {},
   "outputs": [
    {
     "name": "stdout",
     "output_type": "stream",
     "text": [
      "This is Text-Fabric 2.3.9\n",
      "Api reference : https://github.com/ETCBC/text-fabric/wiki/Api\n",
      "Tutorial      : https://github.com/ETCBC/text-fabric/blob/master/docs/tutorial.ipynb\n",
      "Data sources  : https://github.com/ETCBC/text-fabric-data\n",
      "Data docs     : https://etcbc.github.io/text-fabric-data\n",
      "Shebanq docs  : https://shebanq.ancient-data.org/text\n",
      "Slack team    : https://shebanq.slack.com/signup\n",
      "Questions? Ask shebanq@ancient-data.org for an invite to Slack\n",
      "27 features found and 0 ignored\n"
     ]
    }
   ],
   "source": [
    "ETCSL = 'sumerian/etcsl'\n",
    "TF = Fabric( modules=[ETCSL], silent=False )"
   ]
  },
  {
   "cell_type": "markdown",
   "metadata": {},
   "source": [
    "Note that we have just one module: `etcsl`, the main data source. \n",
    "\n",
    "If you have additional data (features), you can just add them by pointing Text-Fabric to the right directory."
   ]
  },
  {
   "cell_type": "markdown",
   "metadata": {},
   "source": [
    "# Load Features\n",
    "Specify the features to load, and receive the API to work with that data."
   ]
  },
  {
   "cell_type": "code",
   "execution_count": 3,
   "metadata": {},
   "outputs": [
    {
     "name": "stdout",
     "output_type": "stream",
     "text": [
      "  0.00s loading features ...\n",
      "   |     0.00s B compNum              from /Users/dirk/Dropbox/text-fabric-data/sumerian/etcsl\n",
      "   |     0.01s B secNum               from /Users/dirk/Dropbox/text-fabric-data/sumerian/etcsl\n",
      "   |     0.03s B lineNum              from /Users/dirk/Dropbox/text-fabric-data/sumerian/etcsl\n",
      "   |     0.14s B ascii                from /Users/dirk/Dropbox/text-fabric-data/sumerian/etcsl\n",
      "   |     0.08s B form                 from /Users/dirk/Dropbox/text-fabric-data/sumerian/etcsl\n",
      "   |     0.07s B lemma                from /Users/dirk/Dropbox/text-fabric-data/sumerian/etcsl\n",
      "   |     0.09s B trailer              from /Users/dirk/Dropbox/text-fabric-data/sumerian/etcsl\n",
      "   |     0.00s B bound                from /Users/dirk/Dropbox/text-fabric-data/sumerian/etcsl\n",
      "   |     0.01s B det                  from /Users/dirk/Dropbox/text-fabric-data/sumerian/etcsl\n",
      "   |     0.00s B emesal-prefix        from /Users/dirk/Dropbox/text-fabric-data/sumerian/etcsl\n",
      "   |     0.01s B emesal               from /Users/dirk/Dropbox/text-fabric-data/sumerian/etcsl\n",
      "   |     0.01s B form-type            from /Users/dirk/Dropbox/text-fabric-data/sumerian/etcsl\n",
      "   |     0.09s B label                from /Users/dirk/Dropbox/text-fabric-data/sumerian/etcsl\n",
      "   |     0.00s B npart                from /Users/dirk/Dropbox/text-fabric-data/sumerian/etcsl\n",
      "   |     0.04s B pos                  from /Users/dirk/Dropbox/text-fabric-data/sumerian/etcsl\n",
      "   |     0.01s B type                 from /Users/dirk/Dropbox/text-fabric-data/sumerian/etcsl\n",
      "   |     0.05s B freq_lex             from /Users/dirk/Dropbox/text-fabric-data/sumerian/etcsl\n",
      "   |     0.13s B freq_occ             from /Users/dirk/Dropbox/text-fabric-data/sumerian/etcsl\n",
      "   |     0.04s B rank_lex             from /Users/dirk/Dropbox/text-fabric-data/sumerian/etcsl\n",
      "   |     0.12s B rank_occ             from /Users/dirk/Dropbox/text-fabric-data/sumerian/etcsl\n",
      "   |     0.00s B title                from /Users/dirk/Dropbox/text-fabric-data/sumerian/etcsl\n",
      "   |     0.00s B corr                 from /Users/dirk/Dropbox/text-fabric-data/sumerian/etcsl\n",
      "   |     0.01s B damage               from /Users/dirk/Dropbox/text-fabric-data/sumerian/etcsl\n",
      "   |     0.01s B supplied             from /Users/dirk/Dropbox/text-fabric-data/sumerian/etcsl\n",
      "   |     0.00s Feature overview: 25 for nodes; 1 for edges; 1 configs; 7 computed\n",
      "  1.73s All features loaded/computed - for details use loadLog()\n"
     ]
    }
   ],
   "source": [
    "api = TF.load('''\n",
    "    ascii trailer\n",
    "    bound det emesal-prefix emesal form-type form label lemma npart pos type\n",
    "    freq_lex freq_occ rank_lex rank_occ\n",
    "    title\n",
    "    compNum secNum lineNum\n",
    "    corr damage supplied\n",
    "''')\n",
    "api.makeAvailableIn(globals())"
   ]
  },
  {
   "cell_type": "markdown",
   "metadata": {},
   "source": [
    "We have made it so that the members of the API are directly accessible as global variables."
   ]
  },
  {
   "cell_type": "markdown",
   "metadata": {},
   "source": [
    "# More about the data\n",
    "See the\n",
    "[conversion notebook](https://github.com/ETCBC/text-fabric/blob/master/tfFromSumerianTEI/tfFromSumerianTEI.ipynb)\n",
    "for documentation on the features of this dataset."
   ]
  },
  {
   "cell_type": "markdown",
   "metadata": {},
   "source": [
    "# Counting\n",
    "\n",
    "In order to get acquainted with the data, we start with simple tasks: counting.\n",
    "\n",
    "## Count all nodes\n",
    "We use the \n",
    "[`N()` generator](https://github.com/ETCBC/text-fabric/wiki/Api#walking-through-nodes)\n",
    "to walk us through the nodes."
   ]
  },
  {
   "cell_type": "code",
   "execution_count": 4,
   "metadata": {},
   "outputs": [
    {
     "name": "stdout",
     "output_type": "stream",
     "text": [
      "  0.00s Counting nodes ...\n",
      "  0.17s 625393 nodes\n"
     ]
    }
   ],
   "source": [
    "indent(reset=True)\n",
    "info('Counting nodes ...')\n",
    "i = 0\n",
    "for n in N(): i += 1\n",
    "info('{} nodes'.format(i))"
   ]
  },
  {
   "cell_type": "markdown",
   "metadata": {},
   "source": [
    "## Sort some nodes\n",
    "\n",
    "Get some nodes, \n",
    "[slot](https://github.com/ETCBC/text-fabric/wiki/Data-model#summary)\n",
    "and non-slot, and sort them in the \n",
    "[canonical order](https://github.com/ETCBC/text-fabric/wiki/Api#sorting-nodes).\n",
    "\n",
    "The [`otype` feature](https://github.com/ETCBC/text-fabric/wiki/Data-model#otype-node-feature)\n",
    "is a\n",
    "[GRID feature](https://github.com/ETCBC/text-fabric/wiki/Data-model#more-about-the-grid),\n",
    "a special feature that provides defining characteristics for the\n",
    "data set as a whole. \n",
    "It tells us where the slots end and the other nodes start."
   ]
  },
  {
   "cell_type": "code",
   "execution_count": 5,
   "metadata": {},
   "outputs": [
    {
     "data": {
      "text/plain": [
       "[412193,\n",
       " 1,\n",
       " 2,\n",
       " 3,\n",
       " 4,\n",
       " 5,\n",
       " 6,\n",
       " 7,\n",
       " 8,\n",
       " 9,\n",
       " 10,\n",
       " 412194,\n",
       " 412195,\n",
       " 412196,\n",
       " 412197,\n",
       " 412198,\n",
       " 412199,\n",
       " 412200,\n",
       " 412201]"
      ]
     },
     "execution_count": 5,
     "metadata": {},
     "output_type": "execute_result"
    }
   ],
   "source": [
    "sortNodes(list(range(F.otype.maxSlot+1, F.otype.maxSlot+10))+list(range(1,11)))"
   ]
  },
  {
   "cell_type": "markdown",
   "metadata": {},
   "source": [
    "The slots correspond to glyphs. Words are a higher concept.\n",
    "In the list above you see first a word node, and then the nodes corresponding to its letters.\n",
    "These words are the words according to the word boundaries found in the source texts."
   ]
  },
  {
   "cell_type": "markdown",
   "metadata": {},
   "source": [
    "## Numbers in the otype feature\n",
    "Get more information that is readily available in the \n",
    "[GRID feature](https://github.com/ETCBC/text-fabric/wiki/Data-model#more-about-the-grid)\n",
    "[`otype`](https://github.com/ETCBC/text-fabric/wiki/Data-model#otype-node-feature),\n",
    "namely what types of objects there are in the dataset."
   ]
  },
  {
   "cell_type": "code",
   "execution_count": 6,
   "metadata": {},
   "outputs": [
    {
     "name": "stdout",
     "output_type": "stream",
     "text": [
      "slotType  = glyph\n",
      "maxSlot   = 412192\n",
      "maxNode   = 625393\n",
      "All otypes:\n",
      "\tcomposition\n",
      "\tsection\n",
      "\tline\n",
      "\tword\n",
      "\tglyph\n"
     ]
    }
   ],
   "source": [
    "info('{:<10}= {}\\n{:<10}= {}\\n{:<10}= {}'.format(\n",
    "    'slotType', F.otype.slotType,\n",
    "    'maxSlot', F.otype.maxSlot,\n",
    "    'maxNode', F.otype.maxNode,\n",
    "), tm=False)\n",
    "info('All otypes:\\n\\t', nl=False, tm=False)\n",
    "info('\\n\\t'.join(F.otype.all), tm=False)"
   ]
  },
  {
   "cell_type": "markdown",
   "metadata": {},
   "source": [
    "## Count individual object types"
   ]
  },
  {
   "cell_type": "code",
   "execution_count": 7,
   "metadata": {},
   "outputs": [
    {
     "name": "stdout",
     "output_type": "stream",
     "text": [
      "  0.00s counting objects ...\n",
      "   |     0.00s     394 compositions\n",
      "   |     0.00s    6512 sections\n",
      "   |     0.01s   36511 lines\n",
      "   |     0.04s  169784 words\n",
      "   |     0.07s  412192 glyphs\n",
      "  0.14s Done\n"
     ]
    }
   ],
   "source": [
    "indent(reset=True)\n",
    "info('counting objects ...')\n",
    "for otype in F.otype.all:\n",
    "    i = 0\n",
    "    indent(level=1, reset=True)\n",
    "    for n in F.otype.s(otype): i+=1\n",
    "    info('{:>7} {}s'.format(i, otype))\n",
    "indent(level=0)\n",
    "info('Done')"
   ]
  },
  {
   "cell_type": "markdown",
   "metadata": {},
   "source": [
    "# Feature statistics\n",
    "\n",
    "The content data resides in the features.\n",
    "The\n",
    "[`F` function](https://github.com/ETCBC/text-fabric/wiki/Api#node-features)\n",
    "gives access to that data.\n",
    "Every feature has a method\n",
    "[`freqList()`](https://github.com/ETCBC/text-fabric/wiki/Api#node-features)\n",
    "to generate a frequency list of its values, ordered by highest frequency first."
   ]
  },
  {
   "cell_type": "code",
   "execution_count": 8,
   "metadata": {},
   "outputs": [
    {
     "data": {
      "text/plain": [
       "(('', 34138),\n",
       " ('a', 12366),\n",
       " ('X', 10729),\n",
       " ('mu', 8841),\n",
       " ('{X}', 8634),\n",
       " ('e', 8471),\n",
       " ('{d}', 8015),\n",
       " ('na', 7974),\n",
       " ('ba', 7664),\n",
       " ('ra', 7551),\n",
       " ('en', 6615),\n",
       " ('an', 6505),\n",
       " ('ni', 6379),\n",
       " ('ga', 5902),\n",
       " ('da', 5766),\n",
       " ('bi', 5466),\n",
       " ('ma', 4890),\n",
       " ('ki', 4498),\n",
       " ('zu', 4281),\n",
       " ('me', 4071))"
      ]
     },
     "execution_count": 8,
     "metadata": {},
     "output_type": "execute_result"
    }
   ],
   "source": [
    "F.ascii.freqList()[0:20]"
   ]
  },
  {
   "cell_type": "markdown",
   "metadata": {},
   "source": [
    "The number of distinct glyphs is given here:"
   ]
  },
  {
   "cell_type": "code",
   "execution_count": 9,
   "metadata": {},
   "outputs": [
    {
     "data": {
      "text/plain": [
       "2514"
      ]
     },
     "execution_count": 9,
     "metadata": {},
     "output_type": "execute_result"
    }
   ],
   "source": [
    "len(F.ascii.freqList())"
   ]
  },
  {
   "cell_type": "markdown",
   "metadata": {},
   "source": [
    "Here are the parts of speech:"
   ]
  },
  {
   "cell_type": "code",
   "execution_count": 10,
   "metadata": {},
   "outputs": [
    {
     "data": {
      "text/plain": [
       "(('N', 87934),\n",
       " ('V', 48984),\n",
       " ('AJ', 3554),\n",
       " ('PD', 2833),\n",
       " ('NU', 1653),\n",
       " ('AV', 625),\n",
       " ('I', 258),\n",
       " ('C', 246),\n",
       " ('NEG', 35),\n",
       " ('X', 14))"
      ]
     },
     "execution_count": 10,
     "metadata": {},
     "output_type": "execute_result"
    }
   ],
   "source": [
    "F.pos.freqList()"
   ]
  },
  {
   "cell_type": "markdown",
   "metadata": {},
   "source": [
    "# Word distribution\n",
    "\n",
    "Let's do a bit more fancy word stuff.\n",
    "\n",
    "## Hapaxes\n",
    "\n",
    "A hapax is a word with frequency one.\n",
    "\n",
    "We count the number of hapaxes and print 10 of them.\n",
    "\n",
    "We use the `freq_lex` feature as our frequency measure.\n",
    "It is only defined on words, not on glyphs."
   ]
  },
  {
   "cell_type": "code",
   "execution_count": 11,
   "metadata": {},
   "outputs": [
    {
     "name": "stdout",
     "output_type": "stream",
     "text": [
      "1271 hapaxes found:\n",
      "\tan-ji6\n",
      "\tdim2-ma-ni-us2-a-ni\n",
      "\tIR3-suen\n",
      "\t67\n",
      "\tsu-mu-la-el\n",
      "\te-lu-lam\n",
      "\ttu-uk-ri-ic\n",
      "\tpec5-pec5\n",
      "\tugu-dilim2\n",
      "\tnam-NIR.PA\n"
     ]
    }
   ],
   "source": [
    "hapaxesL = F.freq_lex.s(1)\n",
    "print('{} hapaxes found:\\n\\t{}'.format(len(hapaxesL), '\\n\\t'.join(F.lemma.v(w) for w in hapaxesL[0:10])))"
   ]
  },
  {
   "cell_type": "markdown",
   "metadata": {},
   "source": [
    "There are very few hapaxes. Let's see what happens if we use the occurrences (`form`) instead of\n",
    "the lexemes (`lemma`). How many unique forms are there?\n",
    "\n",
    "We now use `freq_occ`, but this feature is also defined for *glyphs*.\n",
    "We filter out the word nodes."
   ]
  },
  {
   "cell_type": "code",
   "execution_count": 12,
   "metadata": {},
   "outputs": [
    {
     "name": "stdout",
     "output_type": "stream",
     "text": [
      "20662 hapaxes found:\n",
      "\ted3\n",
      "\tan-ji6\n",
      "\tzu\n",
      "\ted3\n",
      "\tli-li-a\n",
      "\tkur9\n",
      "\tgal\n",
      "\tli-li-a\n",
      "\tjiri3-jen-na\n",
      "\tpad3\n"
     ]
    }
   ],
   "source": [
    "hapaxesO = [n for n in F.freq_occ.s(1) if F.otype.v(n) == 'word']\n",
    "print('{} hapaxes found:\\n\\t{}'.format(len(hapaxesO), '\\n\\t'.join(F.lemma.v(w) for w in hapaxesO[0:10])))"
   ]
  },
  {
   "cell_type": "markdown",
   "metadata": {},
   "source": [
    "### Small occurrence base\n",
    "\n",
    "The occurrence base of a word are the lines, sections and compositions in which it occurs.\n",
    "Let's look for words that occur in a single composition and nowhere else.\n",
    "\n",
    "We compile a dictionary, keyed by word, and with values the set of compositions they occur in."
   ]
  },
  {
   "cell_type": "code",
   "execution_count": 13,
   "metadata": {},
   "outputs": [
    {
     "name": "stdout",
     "output_type": "stream",
     "text": [
      "23754 words are confined to their book\n"
     ]
    }
   ],
   "source": [
    "wordInComps = collections.defaultdict(set)\n",
    "\n",
    "for w in F.otype.s('word'):\n",
    "    word = F.form.v(w)\n",
    "    c = L.u(w, otype='composition')[0]\n",
    "    cNum = F.compNum.v(c)\n",
    "    wordInComps[word].add(cNum)\n",
    "\n",
    "singleCompWords = {word for word in wordInComps if len(wordInComps[word]) == 1}\n",
    "print('{} words are confined to their book'.format(len(singleCompWords)))"
   ]
  },
  {
   "cell_type": "markdown",
   "metadata": {},
   "source": [
    "Let's get some more information."
   ]
  },
  {
   "cell_type": "code",
   "execution_count": 14,
   "metadata": {},
   "outputs": [
    {
     "name": "stdout",
     "output_type": "stream",
     "text": [
      "Confined to   1 comps:   23754 words\n",
      "Confined to   2 comps:    3994 words\n",
      "Confined to   3 comps:    1547 words\n",
      "Confined to   4 comps:     899 words\n",
      "Confined to   5 comps:     591 words\n",
      "Confined to   6 comps:     395 words\n",
      "Confined to   7 comps:     228 words\n",
      "Confined to   8 comps:     254 words\n",
      "Confined to   9 comps:     168 words\n",
      "Confined to  10 comps:     128 words\n",
      "Confined to  11 comps:     128 words\n",
      "Confined to  12 comps:     108 words\n",
      "Confined to  13 comps:     113 words\n",
      "Confined to  14 comps:      65 words\n",
      "Confined to  15 comps:      77 words\n",
      "Confined to  16 comps:      56 words\n",
      "Confined to  17 comps:      44 words\n",
      "Confined to  18 comps:      44 words\n",
      "Confined to  19 comps:      55 words\n",
      "Confined to  20 comps:      40 words\n",
      "Confined to  21 comps:      30 words\n",
      "Confined to  22 comps:      42 words\n",
      "Confined to  23 comps:      24 words\n",
      "Confined to  24 comps:      24 words\n",
      "Confined to  25 comps:      20 words\n",
      "Confined to  26 comps:      17 words\n",
      "Confined to  27 comps:      26 words\n",
      "Confined to  28 comps:      22 words\n",
      "Confined to  29 comps:      19 words\n",
      "Confined to  30 comps:      18 words\n",
      "Confined to  31 comps:      10 words\n",
      "Confined to  32 comps:      21 words\n",
      "Confined to  33 comps:      14 words\n",
      "Confined to  34 comps:       9 words\n",
      "Confined to  35 comps:      10 words\n",
      "Confined to  36 comps:      10 words\n",
      "Confined to  37 comps:      20 words\n",
      "Confined to  38 comps:      10 words\n",
      "Confined to  39 comps:       9 words\n",
      "Confined to  40 comps:      12 words\n",
      "Confined to  41 comps:      10 words\n",
      "Confined to  42 comps:       9 words\n",
      "Confined to  43 comps:      10 words\n",
      "Confined to  44 comps:      12 words\n",
      "Confined to  45 comps:       7 words\n",
      "Confined to  46 comps:      11 words\n",
      "Confined to  47 comps:      10 words\n",
      "Confined to  48 comps:       7 words\n",
      "Confined to  49 comps:       4 words\n",
      "Confined to  50 comps:       4 words\n",
      "Confined to  51 comps:       4 words\n",
      "Confined to  52 comps:       5 words\n",
      "Confined to  53 comps:       7 words\n",
      "Confined to  54 comps:      10 words\n",
      "Confined to  55 comps:      12 words\n",
      "Confined to  56 comps:       5 words\n",
      "Confined to  57 comps:       6 words\n",
      "Confined to  58 comps:       3 words\n",
      "Confined to  59 comps:       3 words\n",
      "Confined to  60 comps:       2 words\n",
      "Confined to  61 comps:       4 words\n",
      "Confined to  62 comps:       1 words\n",
      "Confined to  63 comps:       3 words\n",
      "Confined to  64 comps:       2 words\n",
      "Confined to  65 comps:       1 words\n",
      "Confined to  66 comps:       1 words\n",
      "Confined to  68 comps:       2 words\n",
      "Confined to  69 comps:       1 words\n",
      "Confined to  70 comps:       5 words\n",
      "Confined to  71 comps:       2 words\n",
      "Confined to  72 comps:       1 words\n",
      "Confined to  73 comps:       1 words\n",
      "Confined to  74 comps:       4 words\n",
      "Confined to  75 comps:       1 words\n",
      "Confined to  78 comps:       2 words\n",
      "Confined to  79 comps:       2 words\n",
      "Confined to  82 comps:       2 words\n",
      "Confined to  83 comps:       2 words\n",
      "Confined to  84 comps:       2 words\n",
      "Confined to  85 comps:       1 words\n",
      "Confined to  86 comps:       1 words\n",
      "Confined to  88 comps:       3 words\n",
      "Confined to  90 comps:       1 words\n",
      "Confined to  91 comps:       3 words\n",
      "Confined to  94 comps:       3 words\n",
      "Confined to  95 comps:       2 words\n",
      "Confined to  98 comps:       1 words\n",
      "Confined to  99 comps:       1 words\n",
      "Confined to 100 comps:       1 words\n",
      "Confined to 101 comps:       1 words\n",
      "Confined to 102 comps:       1 words\n",
      "Confined to 103 comps:       3 words\n",
      "Confined to 105 comps:       1 words\n",
      "Confined to 107 comps:       1 words\n",
      "Confined to 109 comps:       2 words\n",
      "Confined to 110 comps:       3 words\n",
      "Confined to 112 comps:       1 words\n",
      "Confined to 114 comps:       1 words\n",
      "Confined to 116 comps:       1 words\n",
      "Confined to 117 comps:       1 words\n",
      "Confined to 119 comps:       2 words\n",
      "Confined to 121 comps:       1 words\n",
      "Confined to 122 comps:       1 words\n",
      "Confined to 123 comps:       1 words\n",
      "Confined to 125 comps:       1 words\n",
      "Confined to 128 comps:       1 words\n",
      "Confined to 130 comps:       1 words\n",
      "Confined to 131 comps:       1 words\n",
      "Confined to 140 comps:       1 words\n",
      "Confined to 143 comps:       1 words\n",
      "Confined to 147 comps:       1 words\n",
      "Confined to 148 comps:       1 words\n",
      "Confined to 152 comps:       1 words\n",
      "Confined to 157 comps:       1 words\n",
      "Confined to 159 comps:       2 words\n",
      "Confined to 162 comps:       1 words\n",
      "Confined to 163 comps:       1 words\n",
      "Confined to 167 comps:       1 words\n",
      "Confined to 171 comps:       1 words\n",
      "Confined to 173 comps:       1 words\n",
      "Confined to 181 comps:       1 words\n",
      "Confined to 183 comps:       2 words\n",
      "Confined to 184 comps:       1 words\n",
      "Confined to 186 comps:       1 words\n",
      "Confined to 188 comps:       1 words\n",
      "Confined to 194 comps:       1 words\n",
      "Confined to 196 comps:       2 words\n",
      "Confined to 200 comps:       1 words\n",
      "Confined to 211 comps:       1 words\n",
      "Confined to 215 comps:       1 words\n",
      "Confined to 217 comps:       1 words\n",
      "Confined to 230 comps:       2 words\n",
      "Confined to 248 comps:       1 words\n",
      "Confined to 279 comps:       1 words\n",
      "Confined to 287 comps:       1 words\n",
      "Confined to 322 comps:       1 words\n",
      "Confined to 343 comps:       1 words\n"
     ]
    }
   ],
   "source": [
    "wordAmountComps = collections.Counter()\n",
    "for (word, compSet) in wordInComps.items():\n",
    "    wordAmountComps[len(compSet)] += 1\n",
    "for (nComps, nWords) in sorted(wordAmountComps.items()):\n",
    "    print('Confined to {:>3} comps: {:>7} words'.format(nComps, nWords))"
   ]
  },
  {
   "cell_type": "markdown",
   "metadata": {},
   "source": [
    "The next thing to know is: which compositions are the most particular,\n",
    "in the sense that they have the highest fraction of lexemes that \n",
    "do not occur in other compositions?"
   ]
  },
  {
   "cell_type": "code",
   "execution_count": 15,
   "metadata": {},
   "outputs": [
    {
     "name": "stdout",
     "output_type": "stream",
     "text": [
      "#all #own  %own comp\n",
      " 128   90 70.3% 3.1.13.2\n",
      " 187  116 62.0% 3.1.08\n",
      " 476  284 59.7% 2.1.1\n",
      " 164   84 51.2% 5.6.5\n",
      "  86   44 51.2% 4.13.14\n",
      " 337  152 45.1% 5.6.3\n",
      "  41   18 43.9% 3.3.04\n",
      "  30   13 43.3% 4.13.d\n",
      "  70   30 42.9% 2.1.3\n",
      "2155  910 42.2% 2.1.7\n",
      " 330  135 40.9% 6.1.13\n",
      "  80   32 40.0% 3.3.05\n",
      " 128   50 39.1% 3.1.16\n",
      "  90   35 38.9% 4.13.13\n",
      " 457  177 38.7% 1.1.2\n",
      "  52   20 38.5% 3.1.10\n",
      " 238   91 38.2% 2.4.2.14\n",
      "  35   13 37.1% 5.7.3\n",
      "  87   32 36.8% 5.5.a\n",
      "1873  688 36.7% 1.6.2\n",
      " 844  308 36.5% 1.8.1.3\n",
      " 740  270 36.5% 5.6.1\n",
      " 147   53 36.1% 3.1.15\n",
      " 254   91 35.8% 1.4.1.1\n",
      "  73   26 35.6% 3.3.08\n",
      " 601  213 35.4% 6.1.05\n",
      " 235   83 35.3% 6.1.04\n",
      "  92   32 34.8% 4.08.23\n",
      " 101   35 34.7% 2.6.9.4\n",
      " 335  116 34.6% 6.1.08\n",
      " 292  101 34.6% 2.1.2\n",
      "1079  373 34.6% 2.4.2.02\n",
      " 881  304 34.5% 1.8.1.4\n",
      " 951  328 34.5% 2.2.4\n",
      "  41   14 34.1% 5.7.a\n",
      "1298  442 34.1% 1.8.2.1\n",
      " 396  134 33.8% 2.4.2.18\n",
      " 816  273 33.5% 5.3.6\n",
      " 162   54 33.3% 3.1.19\n",
      " 132   44 33.3% 3.1.02\n",
      "  72   24 33.3% 2.4.4.1\n",
      "  57   19 33.3% 3.1.11.1\n",
      "   6    2 33.3% 2.8.3.4\n",
      "1036  343 33.1% 2.2.2\n",
      " 687  226 32.9% 2.4.2.04\n",
      "  76   25 32.9% 3.1.06.1\n",
      " 194   63 32.5% 1.4.1.3\n",
      " 678  220 32.4% 2.4.2.03\n",
      " 564  183 32.4% 5.3.1\n",
      "  31   10 32.3% 2.8.2.5\n",
      " 958  306 31.9% 1.8.2.2\n",
      " 104   33 31.7% 2.4.2.26\n",
      " 175   55 31.4% 4.08.33\n",
      " 207   65 31.4% 6.1.12\n",
      " 157   49 31.2% 1.7.7\n",
      "  77   24 31.2% 4.08.26\n",
      " 337  105 31.2% 5.9.1\n",
      " 405  126 31.1% 5.9.2\n",
      " 251   78 31.1% 1.7.3\n",
      " 526  163 31.0% 1.1.1\n",
      " 356  110 30.9% 4.14.3\n",
      " 570  176 30.9% 1.8.1.2\n",
      " 486  150 30.9% 2.4.2.24\n",
      " 107   33 30.8% 4.08.06\n",
      "1150  351 30.5% 2.5.4.01\n",
      " 529  161 30.4% 5.3.2\n",
      " 506  154 30.4% 1.4.3\n",
      "  89   27 30.3% 4.08.09\n",
      " 976  296 30.3% 5.3.3\n",
      " 353  107 30.3% 5.1.3\n",
      " 768  232 30.2% 1.4.1\n",
      " 498  150 30.1% 4.07.4\n",
      "  83   25 30.1% 4.22.2\n",
      "  80   24 30.0% 4.08.01\n",
      " 797  239 30.0% 6.1.01\n",
      "1254  373 29.7% 1.8.2.3\n",
      " 459  136 29.6% 5.2.4\n",
      " 705  208 29.5% 4.14.1\n",
      " 119   35 29.4% 3.3.09\n",
      " 256   75 29.3% 1.3.5\n",
      "  24    7 29.2% 2.8.3.7\n",
      " 224   65 29.0% 1.6.3\n",
      " 194   56 28.9% 6.1.15\n",
      "  66   19 28.8% 4.14.2\n",
      "  73   21 28.8% 2.4.4.2\n",
      " 160   46 28.8% 3.1.07\n",
      " 283   81 28.6% 5.5.3\n",
      " 906  259 28.6% 2.1.5\n",
      " 147   42 28.6% 4.08.20\n",
      " 140   40 28.6% 2.4.2.22\n",
      "  56   16 28.6% 5.2.5\n",
      "1008  287 28.5% 2.4.1.1\n",
      " 144   41 28.5% 1.3.4\n",
      "1480  420 28.4% 2.2.3\n",
      " 462  131 28.4% 4.07.2\n",
      " 138   39 28.3% 2.8.3.6\n",
      "  85   24 28.2% 6.1.27\n",
      " 264   74 28.0% 1.8.1.1\n",
      " 800  224 28.0% 2.2.5\n",
      " 200   56 28.0% 4.07.7\n",
      " 100   28 28.0% 4.08.02\n",
      " 206   57 27.7% 3.1.20\n",
      "  47   13 27.7% 3.3.12\n",
      " 272   75 27.6% 2.4.2.16\n",
      " 127   35 27.6% 4.07.8\n",
      " 109   30 27.5% 2.8.3.1\n",
      " 149   41 27.5% 6.1.23\n",
      " 179   49 27.4% 6.2.2\n",
      " 831  227 27.3% 6.1.02\n",
      " 227   62 27.3% 4.07.a\n",
      " 491  134 27.3% 6.2.1\n",
      "  22    6 27.3% 4.08.13\n",
      "1097  298 27.2% 6.2.3\n",
      " 381  103 27.0% 1.5.1\n",
      " 185   50 27.0% 4.32.e\n",
      "  52   14 26.9% 4.08.07\n",
      "  67   18 26.9% 3.2.04\n",
      " 272   73 26.8% 1.2.1\n",
      " 395  106 26.8% 5.5.2\n",
      "  56   15 26.8% 5.3.7\n",
      " 721  193 26.8% 1.8.1.5\n",
      " 139   37 26.6% 3.1.01\n",
      " 139   37 26.6% 4.07.5\n",
      " 124   33 26.6% 4.08.10\n",
      " 109   29 26.6% 4.13.02\n",
      "  94   25 26.6% 4.32.f\n",
      " 309   82 26.5% 1.7.1\n",
      " 121   32 26.4% 4.13.06\n",
      "  72   19 26.4% 5.7.1\n",
      " 903  238 26.4% 6.1.03\n",
      " 129   34 26.4% 4.08.25\n",
      "  57   15 26.3% 3.2.03\n",
      " 696  183 26.3% 5.3.5\n",
      " 123   32 26.0% 4.08.18\n",
      " 262   68 26.0% 1.7.4\n",
      "  54   14 25.9% 2.4.2.12\n",
      " 534  138 25.8% 4.06.1\n",
      " 422  109 25.8% 4.22.1\n",
      " 508  131 25.8% 1.3.3\n",
      " 128   33 25.8% 3.1.11\n",
      " 128   33 25.8% 6.1.21\n",
      " 498  128 25.7% 6.2.5\n",
      " 226   58 25.7% 3.1.17\n",
      "  78   20 25.6% 6.1.18\n",
      "  51   13 25.5% 3.3.11\n",
      " 208   53 25.5% 4.08.29\n",
      "  59   15 25.4% 3.1.04\n",
      " 126   32 25.4% 4.08.03\n",
      " 400  101 25.2% 2.4.2.01\n",
      " 746  187 25.1% 1.8.2.4\n",
      " 272   68 25.0% 2.1.4\n",
      "  36    9 25.0% 3.3.06\n",
      " 177   44 24.9% 4.08.28\n",
      " 238   59 24.8% 4.13.05\n",
      " 266   65 24.4% 4.08.16\n",
      "  82   20 24.4% 5.7.2\n",
      " 702  170 24.2% 1.2.2\n",
      " 665  161 24.2% 2.4.2.05\n",
      "  54   13 24.1% 2.4.4.3\n",
      " 882  209 23.7% 4.07.3\n",
      " 174   41 23.6% 6.1.16\n",
      "  85   20 23.5% 4.23.1\n",
      " 175   41 23.4% 2.5.1.2\n",
      " 526  123 23.4% 1.3.2\n",
      " 107   25 23.4% 4.08.31\n",
      " 137   32 23.4% 6.1.28\n",
      " 582  135 23.2% 1.3.1\n",
      " 182   42 23.1% 5.5.5\n",
      " 104   24 23.1% 3.3.10\n",
      "  65   15 23.1% 2.8.5.b\n",
      " 204   47 23.0% 4.27.07\n",
      " 126   29 23.0% 2.6.9.1\n",
      "1127  254 22.5% 1.1.3\n",
      " 311   70 22.5% 5.5.4\n",
      " 187   42 22.5% 2.1.6\n",
      " 121   27 22.3% 4.08.08\n",
      " 314   70 22.3% 2.6.9.5\n",
      " 131   29 22.1% 2.5.4.a\n",
      " 163   36 22.1% 2.6.9.6\n",
      " 100   22 22.0% 2.4.2.b\n",
      " 278   61 21.9% 1.4.4\n",
      "  32    7 21.9% 3.3.07\n",
      "  32    7 21.9% 4.22.3\n",
      "  46   10 21.7% 4.08.05\n",
      " 235   51 21.7% 2.4.1.4\n",
      "  60   13 21.7% 2.8.2.2\n",
      " 522  113 21.6% 1.6.1\n",
      " 171   37 21.6% 4.15.2\n",
      "  93   20 21.5% 2.8.5.1\n",
      " 140   30 21.4% 3.3.02\n",
      " 492  105 21.3% 4.28.1\n",
      " 255   54 21.2% 6.1.11\n",
      "  76   16 21.1% 4.16.2\n",
      " 162   34 21.0% 2.6.9.7\n",
      " 193   40 20.7% 4.08.30\n",
      " 319   66 20.7% 1.8.1.5.1\n",
      " 145   30 20.7% 5.4.12\n",
      " 121   25 20.7% 2.6.9.3\n",
      " 287   59 20.6% 5.5.1\n",
      " 380   77 20.3% 1.1.4\n",
      " 377   76 20.2% 4.80.2\n",
      " 330   66 20.0% 6.1.22\n",
      " 105   21 20.0% 3.3.21\n",
      "  85   17 20.0% 4.25.2\n",
      "  65   13 20.0% 4.25.1\n",
      "  55   11 20.0% 0.1.1\n",
      "  35    7 20.0% 3.2.01\n",
      " 243   48 19.8% 3.2.05\n",
      " 117   23 19.7% 2.4.2.25\n",
      "  41    8 19.5% 2.4.2.a\n",
      "  36    7 19.4% 2.6.9.a\n",
      " 345   67 19.4% 6.1.07\n",
      " 197   38 19.3% 2.5.5.4\n",
      " 260   50 19.2% 2.5.4.09\n",
      " 130   25 19.2% 3.3.03\n",
      "  78   15 19.2% 2.4.2.21\n",
      " 536  103 19.2% 2.5.3.1\n",
      " 157   30 19.1% 6.1.14\n",
      " 242   46 19.0% 4.31.1\n",
      " 232   44 19.0% 2.4.1.2\n",
      " 264   50 18.9% 4.27.02\n",
      " 111   21 18.9% 2.3.1\n",
      " 509   96 18.9% 2.2.6\n",
      " 138   26 18.8% 4.15.3\n",
      "  69   13 18.8% 3.1.18\n",
      " 133   25 18.8% 3.1.21\n",
      " 288   54 18.8% 4.02.1\n",
      " 135   25 18.5% 2.6.6.1\n",
      " 119   22 18.5% 2.8.3.3\n",
      " 103   19 18.4% 1.7.6\n",
      "  76   14 18.4% 4.08.04\n",
      " 109   20 18.3% 4.13.11\n",
      "  60   11 18.3% 4.08.32\n",
      "  44    8 18.2% 4.13.b\n",
      " 288   52 18.1% 2.5.8.1\n",
      " 200   36 18.0% 2.5.4.24\n",
      " 100   18 18.0% 4.07.1\n",
      " 167   30 18.0% 2.5.4.19\n",
      "  95   17 17.9% 2.6.9.8\n",
      " 140   25 17.9% 3.3.39\n",
      " 185   33 17.8% 1.7.8\n",
      "  45    8 17.8% 2.4.2.23\n",
      " 152   27 17.8% 2.8.3.2\n",
      "1127  200 17.7% 4.80.1\n",
      "  79   14 17.7% 4.07.6\n",
      " 136   24 17.6% 4.07.9\n",
      " 136   24 17.6% 4.13.03\n",
      " 136   24 17.6% 4.13.15\n",
      "  85   15 17.6% 4.27.04\n",
      " 154   27 17.5% 2.5.3.3\n",
      "  69   12 17.4% 2.5.4.10\n",
      "  23    4 17.4% 2.99.b\n",
      " 213   37 17.4% 2.5.4.11\n",
      " 219   38 17.4% 6.1.09\n",
      " 156   27 17.3% 2.5.4.08\n",
      "  70   12 17.1% 3.3.01\n",
      "  88   15 17.0% 2.8.5.a\n",
      "  47    8 17.0% 3.1.05\n",
      " 159   27 17.0% 5.4.11\n",
      " 142   24 16.9% 2.4.3.1\n",
      " 249   42 16.9% 2.5.4.23\n",
      " 417   70 16.8% 2.4.1.3\n",
      " 574   96 16.7% 4.05.1\n",
      " 120   20 16.7% 4.17.1\n",
      "  66   11 16.7% 2.4.1.7\n",
      " 169   28 16.6% 2.8.2.4\n",
      " 153   25 16.3% 2.8.2.1\n",
      "  98   16 16.3% 4.19.3\n",
      " 288   47 16.3% 2.5.2.1\n",
      " 387   63 16.3% 2.4.2.15\n",
      " 112   18 16.1% 6.1.25\n",
      "  81   13 16.0% 4.08.a\n",
      " 268   43 16.0% 2.5.4.13\n",
      " 202   32 15.8% 2.4.5.2\n",
      " 152   24 15.8% 2.4.2.17\n",
      " 115   18 15.7% 4.33.2\n",
      "  45    7 15.6% 3.3.27\n",
      " 364   56 15.4% 2.5.6.1\n",
      " 234   36 15.4% 2.5.6.3\n",
      "  78   12 15.4% 4.80.4\n",
      "  13    2 15.4% 3.1.13.1\n",
      " 176   27 15.3% 2.5.6.4\n",
      "  72   11 15.3% 4.13.08\n",
      " 105   16 15.2% 2.5.4.27\n",
      " 250   38 15.2% 2.5.3.2\n",
      " 106   16 15.1% 4.13.04\n",
      "  53    8 15.1% 0.2.03\n",
      "  53    8 15.1% 2.5.5.8\n",
      " 274   41 15.0% 2.6.9.2\n",
      "  41    6 14.6% 2.8.3.8\n",
      "  41    6 14.6% 4.08.22\n",
      " 213   31 14.6% 6.1.26\n",
      " 124   18 14.5% 4.22.6\n",
      " 332   48 14.5% 2.5.5.1\n",
      "  70   10 14.3% 6.2.4\n",
      "  64    9 14.1% 2.5.4.21\n",
      "  43    6 14.0% 3.3.20\n",
      " 274   38 13.9% 2.4.2.07\n",
      " 152   21 13.8% 2.5.4.17\n",
      " 109   15 13.8% 4.32.2\n",
      "  51    7 13.7% 3.1.06\n",
      " 124   17 13.7% 4.29.2\n",
      "  66    9 13.6% 6.1.10\n",
      " 125   17 13.6% 2.5.5.5\n",
      "  59    8 13.6% 0.2.07\n",
      " 186   25 13.4% 2.4.5.3\n",
      " 105   14 13.3% 6.1.17\n",
      "  75   10 13.3% 3.2.02\n",
      " 113   15 13.3% 4.24.1\n",
      "  53    7 13.2% 4.30.1\n",
      " 304   40 13.2% 2.5.3.4\n",
      "  61    8 13.1% 2.5.1.4\n",
      "  92   12 13.0% 4.21.1\n",
      "  69    9 13.0% 3.1.03\n",
      "  69    9 13.0% 4.13.07\n",
      " 139   18 12.9% 4.01.1\n",
      "  78   10 12.8% 0.2.08\n",
      " 180   23 12.8% 2.4.1.6\n",
      " 103   13 12.6% 4.13.09\n",
      " 143   18 12.6% 2.7.1.1\n",
      " 215   27 12.6% 2.6.7.1\n",
      " 176   22 12.5% 2.5.6.5\n",
      "  24    3 12.5% 2.99.c\n",
      " 275   34 12.4% 2.5.4.02\n",
      " 106   13 12.3% 4.19.2\n",
      " 213   26 12.2% 4.16.1\n",
      " 157   19 12.1% 2.8.3.5\n",
      " 192   23 12.0% 2.6.6.5\n",
      " 185   22 11.9% 2.5.5.3\n",
      " 245   29 11.8% 4.12.1\n",
      "  17    2 11.8% 4.08.12\n",
      " 226   26 11.5% 6.1.19\n",
      "  87   10 11.5% 2.5.6.6\n",
      " 140   16 11.4% 2.5.4.04\n",
      " 176   20 11.4% 2.4.4.a\n",
      " 180   20 11.1% 4.13.01\n",
      " 171   19 11.1% 4.19.1\n",
      "  73    8 11.0% 4.26.1\n",
      " 102   11 10.8% 2.5.7.2\n",
      " 142   15 10.6% 2.4.4.6\n",
      " 134   14 10.4% 2.4.1.5\n",
      " 148   15 10.1% 2.5.1.3\n",
      "  89    9 10.1% 4.13.a\n",
      "  61    6  9.8% 2.6.2.a\n",
      "  72    7  9.7% 0.2.11\n",
      " 115   11  9.6% 4.12.2\n",
      "  64    6  9.4% 6.1.24\n",
      "  76    7  9.2% 2.5.4.03\n",
      " 239   21  8.8% 2.5.5.2\n",
      " 103    9  8.7% 0.2.04\n",
      " 232   20  8.6% 2.5.6.2\n",
      " 166   14  8.4% 4.13.12\n",
      "  83    7  8.4% 2.3.2\n",
      " 107    9  8.4% 2.4.5.1\n",
      " 131   11  8.4% 4.27.01\n",
      "  12    1  8.3% 2.5.2.3\n",
      "  73    6  8.2% 2.4.1.a\n",
      " 173   14  8.1% 2.4.4.4\n",
      " 149   12  8.1% 4.27.03\n",
      " 114    9  7.9% 0.2.01\n",
      "  89    7  7.9% 4.08.15\n",
      " 116    9  7.8% 2.5.4.05\n",
      " 196   15  7.7% 2.4.5.4\n",
      " 119    9  7.6% 2.6.2.1\n",
      "  40    3  7.5% 2.4.4.5\n",
      " 114    8  7.0% 4.13.10\n",
      "  87    6  6.9% 2.8.2.6\n",
      "  59    4  6.8% 2.5.4.29\n",
      " 224   15  6.7% 4.29.1\n",
      "  30    2  6.7% 0.2.12\n",
      "  63    4  6.3% 4.27.06\n",
      "  79    5  6.3% 0.2.13\n",
      "  95    6  6.3% 0.1.2\n",
      " 134    8  6.0% 4.22.4\n",
      "  68    4  5.9% 0.2.06\n",
      "  53    3  5.7% 2.5.4.b\n",
      "  71    4  5.6% 2.4.5.5\n",
      "  93    5  5.4% 4.03.1\n",
      " 208   10  4.8% 2.5.4.15\n",
      "  68    3  4.4% 4.33.1\n",
      "  69    3  4.3% 2.8.2.3\n",
      "  24    1  4.2% 2.4.1.8\n",
      " 137    5  3.6% 2.5.7.1\n",
      " 123    4  3.3% 0.2.02\n",
      "  68    2  2.9% 4.22.5\n",
      "  34    1  2.9% 0.2.05\n",
      " 108    3  2.8% 2.4.2.20\n",
      "  80    2  2.5% 3.3.22\n",
      "  44    1  2.3% 2.5.4.16\n",
      "  56    1  1.8% 4.13.c\n",
      "  32    0  0.0% 2.99.d\n",
      "  22    0  0.0% 4.19.4\n",
      "   6    0  0.0% 4.27.a\n",
      "   4    0  0.0% 2.4.4.9\n"
     ]
    }
   ],
   "source": [
    "compList = []\n",
    "\n",
    "for c in F.otype.s('composition'):\n",
    "    cNum = F.compNum.v(c)\n",
    "    allWords = {F.form.v(w) for w in L.d(c, otype='word')}\n",
    "    ownWords = allWords & singleCompWords\n",
    "    percentage = 100 * len(ownWords) / len(allWords)\n",
    "    compList.append((len(allWords), len(ownWords), percentage, cNum))\n",
    "\n",
    "print('{:>4} {:>4} {:>5} {}'.format('#all', '#own', '%own', 'comp'))\n",
    "for x in sorted(compList, key=lambda e: (-e[2], -e[0], e[3])):\n",
    "    print('{:>4} {:>4} {:>4.1f}% {}'.format(*x))"
   ]
  },
  {
   "cell_type": "markdown",
   "metadata": {},
   "source": [
    "# Layer API\n",
    "We travel upwards and downwards, forwards and backwards through the nodes.\n",
    "The Layer-API (`L`) provides functions: `u()` for going up, and `d()` for going down,\n",
    "`n()` for going to next nodes and `p()` for going to previous nodes.\n",
    "\n",
    "These directions are indirect notions: nodes are just numbers, but by means of the\n",
    "`oslots` feature they are linked to slots. One node *contains* an other node, if the one is linked to a set of slots that contains the set of slots that the other is linked to.\n",
    "And one if next or previous to an other, if its slots follow of precede the slots of the other one.\n",
    "\n",
    "`L.u(node)` **Up** is going to nodes that embed `node`.\n",
    "\n",
    "`L.d(node)` **Down** is the opposite direction, to those that are contained in `node`.\n",
    "\n",
    "`L.n(node)` **Next** are the next *adjacent* nodes, i.e. nodes whose first slot comes immediately after the last slot of `node`.\n",
    "\n",
    "`L.p(node)` **Previous** are the previous *adjacent* nodes, i.e. nodes whose last slot comes immediately before the first slot of `node`.\n",
    "\n",
    "All these functions yield nodes of all possible otypes.\n",
    "By passing an optional parameter, you can restrict the results to nodes of that type.\n",
    "\n",
    "The result is ordered in the canonical node ordering.\n",
    "The functions return always a tuple, even if there is just one node in the result.\n",
    "\n",
    "## Going up\n",
    "We go from the first glyph to the composition it contains."
   ]
  },
  {
   "cell_type": "code",
   "execution_count": 16,
   "metadata": {},
   "outputs": [
    {
     "name": "stdout",
     "output_type": "stream",
     "text": [
      "412193\n"
     ]
    }
   ],
   "source": [
    "firstComp = L.u(1, otype='composition')[0]\n",
    "print(firstComp)"
   ]
  },
  {
   "cell_type": "markdown",
   "metadata": {},
   "source": [
    "Which composition is this?"
   ]
  },
  {
   "cell_type": "code",
   "execution_count": 17,
   "metadata": {},
   "outputs": [
    {
     "name": "stdout",
     "output_type": "stream",
     "text": [
      "0.1.1 : Ur III catalogue from Nibru (N1) -- a composite transliteration\n"
     ]
    }
   ],
   "source": [
    "print('{} : {}'.format(F.compNum.v(firstComp), F.title.v(firstComp)))"
   ]
  },
  {
   "cell_type": "markdown",
   "metadata": {},
   "source": [
    "And let's see all the containing objects of glyph 3:"
   ]
  },
  {
   "cell_type": "code",
   "execution_count": 18,
   "metadata": {},
   "outputs": [
    {
     "name": "stdout",
     "output_type": "stream",
     "text": [
      "glyph ta is contained in composition 412193\n",
      "glyph ta is contained in section 449098\n",
      "glyph ta is contained in line 412587\n",
      "glyph ta is contained in word 455610\n"
     ]
    }
   ],
   "source": [
    "g = 3\n",
    "for otype in F.otype.all:\n",
    "    if otype == F.otype.slotType: continue\n",
    "    up = L.u(g, otype=otype)\n",
    "    upNode = 'x' if len(up) == 0 else up[0]\n",
    "    print('glyph {} is contained in {} {}'.format(F.ascii.v(g), otype, upNode))"
   ]
  },
  {
   "cell_type": "markdown",
   "metadata": {},
   "source": [
    "## Going next\n",
    "Let's go to the next nodes of the first book."
   ]
  },
  {
   "cell_type": "code",
   "execution_count": 19,
   "metadata": {},
   "outputs": [
    {
     "name": "stdout",
     "output_type": "stream",
     "text": [
      "    127: glyph         first slot=127   , last slot=127   \n",
      " 455679: word          first slot=127   , last slot=127   \n",
      " 412608: line          first slot=127   , last slot=133   \n",
      " 449099: section       first slot=127   , last slot=377   \n",
      " 412194: composition   first slot=127   , last slot=377   \n"
     ]
    }
   ],
   "source": [
    "afterFirstComp = L.n(firstComp)\n",
    "for n in afterFirstComp:\n",
    "    print('{:>7}: {:<13} first slot={:<6}, last slot={:<6}'.format(\n",
    "        n, F.otype.v(n),\n",
    "        E.oslots.s(n)[0],\n",
    "        E.oslots.s(n)[-1],\n",
    "    ))\n",
    "secondComp = L.n(firstComp, otype='composition')[0]"
   ]
  },
  {
   "cell_type": "markdown",
   "metadata": {},
   "source": [
    "## Going previous\n",
    "\n",
    "And let's see what is right before the second composition."
   ]
  },
  {
   "cell_type": "code",
   "execution_count": 20,
   "metadata": {},
   "outputs": [
    {
     "name": "stdout",
     "output_type": "stream",
     "text": [
      " 412193: composition   first slot=1     , last slot=126   \n",
      " 449098: section       first slot=1     , last slot=126   \n",
      " 412607: line          first slot=120   , last slot=126   \n",
      " 455678: word          first slot=124   , last slot=126   \n",
      "    126: glyph         first slot=126   , last slot=126   \n"
     ]
    }
   ],
   "source": [
    "for n in L.p(secondComp):\n",
    "    print('{:>7}: {:<13} first slot={:<6}, last slot={:<6}'.format(\n",
    "        n, F.otype.v(n),\n",
    "        E.oslots.s(n)[0],\n",
    "        E.oslots.s(n)[-1],\n",
    "    ))"
   ]
  },
  {
   "cell_type": "markdown",
   "metadata": {},
   "source": [
    "## Going down"
   ]
  },
  {
   "cell_type": "markdown",
   "metadata": {},
   "source": [
    "We go to the sections of composition 1.1.1 , and just count them."
   ]
  },
  {
   "cell_type": "code",
   "execution_count": 21,
   "metadata": {},
   "outputs": [
    {
     "name": "stdout",
     "output_type": "stream",
     "text": [
      "Composition 1.1.1 (Enki and Nin{h}ursa{g}a -- a composite transliteration) has 43 sections\n"
     ]
    }
   ],
   "source": [
    "comp111 = F.compNum.s('1.1.1')[0]\n",
    "sections = L.d(comp111, otype='section')\n",
    "print('Composition 1.1.1 ({}) has {} sections'.format(\n",
    "    F.title.v(comp111),\n",
    "    len(sections),\n",
    "))"
   ]
  },
  {
   "cell_type": "markdown",
   "metadata": {},
   "source": [
    "## The first line\n",
    "We pick the first glyph and the first line and explore what is above and below them."
   ]
  },
  {
   "cell_type": "code",
   "execution_count": 22,
   "metadata": {},
   "outputs": [
    {
     "name": "stdout",
     "output_type": "stream",
     "text": [
      "Node 1\n",
      "   |   UP\n",
      "   |      |   455610          word\n",
      "   |      |   412587          line\n",
      "   |      |   449098          section\n",
      "   |      |   412193          composition\n",
      "   |   DOWN\n",
      "   |      |   \n",
      "Node 412587\n",
      "   |   UP\n",
      "   |      |   449098          section\n",
      "   |      |   412193          composition\n",
      "   |   DOWN\n",
      "   |      |   455610          word\n",
      "   |      |   1               glyph\n",
      "   |      |   2               glyph\n",
      "   |      |   3               glyph\n",
      "Done\n"
     ]
    }
   ],
   "source": [
    "for n in [1, L.u(1, otype='line')[0]]:\n",
    "    indent(level=0)\n",
    "    info('Node {}'.format(n), tm=False)\n",
    "    indent(level=1)\n",
    "    info('UP', tm=False)\n",
    "    indent(level=2)\n",
    "    info('\\n'.join(['{:<15} {}'.format(u, F.otype.v(u)) for u in L.u(n)]), tm=False)\n",
    "    indent(level=1)\n",
    "    info('DOWN', tm=False)\n",
    "    indent(level=2)\n",
    "    info('\\n'.join(['{:<15} {}'.format(u, F.otype.v(u)) for u in L.d(n)]), tm=False)\n",
    "indent(level=0)\n",
    "info('Done', tm=False)"
   ]
  },
  {
   "cell_type": "markdown",
   "metadata": {},
   "source": [
    "# Text API\n",
    "\n",
    "We examine the functions of the Text API: `T`.\n",
    "\n",
    "## Formats\n",
    "First the formats that we have available to represent the actual text.\n",
    "These formats have been defined in the `otext` feature.\n",
    "This is an optional GRID config feature: it has only metadata."
   ]
  },
  {
   "cell_type": "code",
   "execution_count": 23,
   "metadata": {},
   "outputs": [
    {
     "data": {
      "text/plain": [
       "['form-orig-full', 'lex-orig-full', 'text-orig-full']"
      ]
     },
     "execution_count": 23,
     "metadata": {},
     "output_type": "execute_result"
    }
   ],
   "source": [
    "sorted(T.formats)"
   ]
  },
  {
   "cell_type": "markdown",
   "metadata": {},
   "source": [
    "## Using the formats\n",
    "\n",
    "The formats `form-orig-full` and `lex-orig-full` work for word nodes,\n",
    "the format `text-orig-full` works for glyph nodes.\n",
    "Now let's use those formats to print out the first 100 glyphs and the first 10 words of the corpus."
   ]
  },
  {
   "cell_type": "code",
   "execution_count": 24,
   "metadata": {},
   "outputs": [
    {
     "name": "stdout",
     "output_type": "stream",
     "text": [
      "form-orig-full:\n",
      "\tdub-saj-ta {d}en-ki unu2 gal im-ed3 an-zag-ce3 an-ji6 zu ama tu6 \n",
      "lex-orig-full:\n",
      "\tdub-saj en-ki unu2 gal ed3 an-zag an-ji6 zu ama tu6 \n",
      "text-orig-full:\n",
      "\tdub-saj-ta {d}en-ki unu2 gal im-ed3 an-zag-ce3 an-ji6 zu ama tu6 \n"
     ]
    }
   ],
   "source": [
    "for fmt in sorted(T.formats):\n",
    "    if fmt.startswith('text'):\n",
    "        print('{}:\\n\\t{}'.format(fmt, T.text(range(1,19), fmt=fmt)))\n",
    "    else:\n",
    "        print('{}:\\n\\t{}'.format(fmt, T.text(F.otype.s('word')[0:10], fmt=fmt)))"
   ]
  },
  {
   "cell_type": "markdown",
   "metadata": {},
   "source": [
    "If we do not specify a format, the **default** format is used (`text-orig-full`)."
   ]
  },
  {
   "cell_type": "code",
   "execution_count": 25,
   "metadata": {},
   "outputs": [
    {
     "name": "stdout",
     "output_type": "stream",
     "text": [
      "dub-saj-ta {d}en-ki unu2 gal im-ed3 an-zag-ce3 an-ji6 zu ama tu6 zu-ke4 jic-gi tuku4-e AN KAC4 AN KAC4 me3-ke4 mac-mac erim2 kur2-kur2 jiri3-jen-na {d}en -ki ki unu2 gal im-ed3-kam cag4 PU2 1(AC)-kam dub-saj-ta X X kaskal-la 7(IMIN) me-ce3 {d}li-li-a-ke4 igi X 7(IMIN)-na in-kur9-re-en cul a2 he2-la2 gu DI sig10- ga CA gal-kam jiri3-jen-na {d}li-li-a-kam cag4 PU2 1(AC)-kam \n"
     ]
    }
   ],
   "source": [
    "print(T.text(range(1,100)))"
   ]
  },
  {
   "cell_type": "markdown",
   "metadata": {},
   "source": [
    "## Whole text\n",
    "We are going to produce the complete text of the whole corpus with section numbers and composition titles."
   ]
  },
  {
   "cell_type": "code",
   "execution_count": 26,
   "metadata": {},
   "outputs": [
    {
     "name": "stdout",
     "output_type": "stream",
     "text": [
      "  0.00s writing plain text of whole Sumerian corpus\n",
      "  1.56s Done\n",
      "\n",
      "Composition 0.1.1: Ur III catalogue from Nibru (N1) -- a composite transliteration\n",
      "\n",
      "Section 0\n",
      "1: dub-saj-ta \n",
      "2: {d}en-ki unu2 gal im-ed3 \n",
      "3: an-zag-ce3 \n",
      "4: an-ji6 zu ama tu6 zu-ke4 \n",
      "5: jic-gi tuku4-e \n",
      "6: AN KAC4 AN KAC4 me3-ke4 \n"
     ]
    }
   ],
   "source": [
    "text = []\n",
    "indent(reset=True)\n",
    "info('writing plain text of whole Sumerian corpus')\n",
    "for c in F.otype.s('composition'):\n",
    "    text.append('')\n",
    "    text.append('Composition {}: {}'.format(F.compNum.v(c), F.title.v(c)))\n",
    "    for s in L.d(c, otype='section'):\n",
    "        text.append('')\n",
    "        text.append('Section {}'.format(F.secNum.v(s)))\n",
    "        for l in L.d(s, otype='line'):\n",
    "            text.append('{}: {}'.format(F.lineNum.v(l), T.text(L.d(l, otype='glyph'))))\n",
    "info('Done')\n",
    "print('\\n'.join(text[0:10]))"
   ]
  },
  {
   "cell_type": "markdown",
   "metadata": {},
   "source": [
    "Here is an other fragment."
   ]
  },
  {
   "cell_type": "code",
   "execution_count": 27,
   "metadata": {},
   "outputs": [
    {
     "name": "stdout",
     "output_type": "stream",
     "text": [
      "Composition 1.1.1: Enki and Nin{h}ursa{g}a -- a composite transliteration\n",
      "\n",
      "Section 1\n",
      "1: iri{ki kug-kug-ga-am3 e-ne ba-am3-me-en-ze2-en kur dilmun{ki kug-ga-am3 \n",
      "2: ki-en-gi kug-ga e-ne ba-am3-me-en-ze2-en kur dilmun{ki kug-ga-am3 \n",
      "3: kur dilmun{ki kug-ga-am3 kur dilmun sikil-am3 \n",
      "4: kur dilmun{ki sikil-am3 kur dilmun{ki dadag-ga-am3 \n",
      "\n",
      "Section 2\n",
      "5: dili-ni-ne dilmun{ki-a u3-bi2-in-nu2 \n",
      "6: ki {d}en-ki dam-a-ni-da ba-an-da-nu2-a-ba \n",
      "7: ki-bi sikil-am3 ki-bi dadag-ga-am3 \n",
      "8: dili-ni-ne dilmun{ki-a u3-bi2-in-nu2 \n",
      "9: ki {d}en-ki {d}nin-sikil-la ba-an-da-nu2-a-ba \n",
      "10: ki-bi sikil-am3 ki-bi dadag-ga-am3 \n",
      "\n",
      "Section 3\n",
      "11: dilmun{ki-a uga{mucen gu3-gu3 nu-mu-ni-be2 \n",
      "12: dar{mucen-e gu3 dar{mucen-re nu-mu-ni-ib-be2 \n",
      "13: ur-gu-la saj jic nu-ub-ra-ra \n",
      "14: ur-bar-ra-ke4 sila4 nu-ub-kar-re \n",
      "15: ur-gir15 mac2 gam-gam nu-ub-zu \n",
      "16: cah2 ce gu7-gu7-e nu-ub-zu \n",
      "\n",
      "Section 4\n",
      "17: nu-mu-un-su2 munu4 ur3-ra barag2-ga-ba \n",
      "18: mucen-e an-na munu4-bi na-an-gu7-e \n",
      "19: tum12{mucen-e saj nu-mu-un-da-RU-e \n",
      "\n",
      "Section 5\n",
      "20: igi-gig-e igi-gig-me-en nu-mu-ni-be2 \n",
      "21: saj-gig-e saj-gig-me-en nu-mu-ni-be2 \n",
      "22: um-ma-bi um-ma-me-en nu-mu-ni-be2 \n",
      "23: ab-ba-bi ab-ba-me-en nu-mu-ni-be2 \n",
      "24: ki-sikil a nu-tu5-a-ni iri-a nu-mu-ni-ib-sig10-ge \n",
      "25: lu2 id2-da bal-e ji6-de3 nu-mu-ni-be2 \n",
      "26: nijir-e zag-ga-na nu-um-nijin2-nijin2 \n",
      "\n",
      "Section 6\n",
      "27: nar-e e-lu-lam nu-mu-ni-be2 \n",
      "28: zag iri-ka i-lu nu-mu-ni-be2 \n",
      "\n",
      "Section 7\n",
      "29: {d}nin-sikil-la a-a-ni {d}en-ki-ra gu3 mu-na-de2-e \n",
      "30: iri mu-e-cum2 iri mu-e-cum2 nam-ju10 cum2-ma-zu \n",
      "31: dilmun iri mu-e-cum2 iri mu-e-cum2 nam-ju10 cum2-ma-zu \n",
      "32: X X mu-e-cum2 iri mu-e-cum2 nam-ju10 cum2-ma-zu \n",
      "\n",
      "Section 8\n",
      "33: iri kar id2-da nu-un-tuku-a \n",
      "34: X X mu-e-cum2 iri mu-e-cum2 nam-ju10 cum2-ma-zu \n",
      "35: {X} X {X} X \n",
      "36: iri a-cag4 a-gar3 ab-sin2 nu-un-tuku -a nu-un-tuku-a -a \n",
      "\n",
      "Section 9\n",
      "40: {d}utu an-na gub-be2-e \n",
      "41: gir16 DU-a gaba EZEN{ki-na-ta \n",
      "42: e2-suhur si {d}nanna-a-ta \n",
      "43: ka a ki-a DU.DU-ta a dug3 ki-ta {X} DU \n",
      "\n",
      "Section 10\n",
      "44: jiri3-ma-an gal-la-za a he2-em-ta-ed3-de3 \n",
      "45: iri-zu a he2-jal2-la hu-mu-ra-na8-na8 \n",
      "46: dilmun{ki a he2- jal2-la hu-mu-ra-na8-na8 \n",
      "47: pu2 a sis-a-zu pu2 a dug3-ga he2-em \n",
      "48: iri-zu e2-gun2 kar-ra kalam-ma-ka he2-a \n",
      "49: dilmun{ki e2- gun2 kar-ra kalam-ma-ka he2-a \n",
      "\n",
      "Section 11\n",
      "49A: kur tu- uk-ri-ic {ki} kug-sig17 ha-ra-li \n",
      "49B: {na4}za-gin3 X X X-ga hu-mu-ra-bal-bal- e \n",
      "49C: kur me-luh-ha{ki {na4}gug nij2 al di kal-la \n",
      "49D: {jic}mec3 cag4-gan jic-ab-ba sig5-ga \n",
      "49E: ma2 gal-gal hu-mu-ra-ab-sa2 \n",
      "49F: kur mar-ha-ci{ki na4 kal-la {na4} du8 - ci-a \n",
      "49G: gaba hu-mu-ra-ab- X \n",
      "49H: kur ma2-gan{ki urud nij2 kalag-ga usu- (X) \n",
      "49I: {na4}esi {na4}U {na4}cu-min3 hu-mu- X \n",
      "49K: kur ab-ba{ki-ke4 {jic}esi me-te- bi X lugal-la hu-mu-ra-ab- X (X) \n",
      "49L: kur za-lam-jar{ki siki gun3 sag9-ga X hu-mu-ra-ab- X \n",
      "49M: kur elam{ki-ma siki igi saj5 gu2- un - gu2-un hu-mu-ra-ab-bal- bal-e \n",
      "49N: ec3 urim2{ki barag nam-lugal-la iri {ki} {X} \n",
      "49O: ce-i3-jic tug2 mah tug2 sig5 ma2 gal- gal hu-mu-ra-ab- sa2 \n",
      "49P: a-ab-ba dajal-la he2-jal2-bi hu- mu - {X} \n",
      "\n",
      "Section 12\n",
      "49Q: iri{ki ki-tuc-bi ki-tuc dug3- ga - am3 \n",
      "49R: dilmun{ki ki-tuc-bi ki-tuc dug3- ga - am3 \n",
      "49S: ce-bi ce di4-di4-la2- am3 \n",
      "49T: zu2-lum-bi zu2-lum gu-ul- gu - la \n",
      "49U: buru14-bi 3-am3 {X} \n",
      "49V: jic-bi jic X X {X} \n",
      "\n",
      "Section 13\n",
      "50: i3-ne-ec2 {d}utu ud ne-a \n",
      "51: {d}utu an-na gub-be2-e \n",
      "52: gir16 DU-a gaba EZEN{ki-na-ta \n",
      "53: e2 -suhur si {d}nanna-a-ta \n",
      "54: ka a ki-a DU.DU-ta a dug3 ki-ta mu-na-ra-DU \n",
      "\n",
      "Section 14\n",
      "55: jiri3- ma-an gal-la-na a im-ta-ed3-de3 \n",
      "56: iri-ni a he2-jal2-la im-ta-na8-na8 \n",
      "57: dilmun{ki a he2- jal2-la im-ta-na8-na8 \n",
      "58: pu2 a sis-a-ni pu2 a dug3-ga na-nam \n",
      "59: a-cag4 a-gar3 ab-sin2-a-ni ce mu-na-ab- X- cum2 \n",
      "60: iri-ni e2-gun2 kar-ra kalam-ma-ka na-nam \n",
      "61: dilmun{ki e2-gun2 kar-ra kalam-ma-ka na-nam \n",
      "62: i3-ne-ec2 {d}utu ud ne-a ur5 he2-na-nam-ma \n",
      "\n",
      "Section 15\n",
      "63: dili-ni jectug2-ge tuku-a {d}nin-tur5 ama kalam-ma-ce3 \n",
      "64: {d}en-ki-ke4 jectug2-ge tuku-a {d}nin-tur5 ama kalam-ma-ce3 \n",
      "65: jic3-a-ni eg2-a ba-an-ci-in-dun-e \n",
      "66: jic3-a-ni gi-a gir5-gir5-e ba-an-ci-gir5-gir5-e \n",
      "67: jic3-a-ni bar-ce3 mah-he ca-ba-ra-an-zi-zi \n",
      "68: gu3 bi2-in-de2 ambar-ra lu2 nu-mu-un-dab-be2 \n",
      "\n",
      "Section 16\n",
      "69: {d}en-ki-ke4 gu3 bi2-in-de2 \n",
      "70: zi an-na i3-pad3 \n",
      "71: nu2-a ambar-ra nu2-a ambar-ra giri17-zal \n",
      "72: {d}en-ki-ke4 a {d}dam-gal-nun-na-ka-ni mi-ni-in-dug4 \n",
      "73: {d}nin-hur-saj-ja2-ke4 a cag4-ga ba-ni-in-ri \n",
      "74: a cag4-ga cu ba-ni-in-ti a {d}en-ki-ka3-ka \n",
      "\n",
      "Section 17\n",
      "75: ud 1-am3 itid 1-a-ni \n",
      "76: ud 2-am3 itid 2-a-ni \n",
      "77: ud 3-am3 itid 3-a-ni \n",
      "78: ud 4-am3 itid 4-a-ni \n",
      "79: ud 5-am3 itid 5-a-ni \n",
      "80: ud 6-am3 itid 6-a-ni \n",
      "81: ud 7-am3 itid 7-a-ni \n",
      "82: ud 8-am3 itid 8-a-ni \n",
      "83: ud 9-am3 itid 9-a-ni itid nam-munus-a-ka \n",
      "84: i3 li-gin7 i3 li -gin7 i3-he-nun-na-gin7 \n",
      "85: {d}nin-tur5 ama kalam-ma-ka \n",
      "86: i3 li-gin7 \n",
      "87: {d}nin-nisig in-tu-ud \n",
      "\n",
      "Section 18\n",
      "88: {d}nin-nisig gu2 id2-da-ke4 ce3-mi-ni-ib- e3 \n",
      "89: {d}en-ki-ke4 ambar-ra im-da-la2 e-ne im-da-la2 e-ne \n",
      "90: sukkal-a-ni {d}isimud4-de3 gu3 mu-na-de2-e \n",
      "91: lu2-tur sag9-ga-e ne nu-mu-un-su-ub-be2 \n",
      "92: {d}nin-nisig sag9-ga-e ne nu-mu-un-su-ub-be2 \n",
      "93: sukkal-a-ni {d}isimud4-de3 mu-na-ni-ib-gi4-gi4 \n",
      "94: lu2-tur sag9-ga-e ne nu-mu-un-su-ub-be2 \n",
      "95: {d}nin-nisig sag9- ga-e ne nu-mu-un-su-ub-be2 \n",
      "96: lugal-ju10 im-dirig ga-ri im-dirig ga-ri \n",
      "\n",
      "Section 19\n",
      "97: jiri3-ni 1-a {jic}ma2-a bi2-in-gub \n",
      "98: 2-kam-ma bar-rim4-ma nam-mi-in-gub \n",
      "99: gaba im-ma-an-tab ne im-ma-an-su-ub \n",
      "100: {d}en-ki-ke4 a cag4-ga ba-ni-in-ri \n",
      "101: a cag4-ga cu ba-ni-in-ti a {d}en-ki-ka3-ka \n",
      "102: ud 1-am3 itid 1-am3 \n",
      "103: ud 2-am3 itid 2-am3 \n",
      "104: ud 9-am3 itid 9-am3 itid nam-munus-a-ka \n",
      "105: i3 li - gin7 i3 li -gin7 i3-he-nun-na-gin7 \n",
      "106: {d}nin-nisig i3 li - gin7 i3 li-gin7 i3-he-nun-na-gin7 \n",
      "107: {d}nin- kur-ra in-tu-ud \n",
      "\n",
      "Section 20\n",
      "108: {d}nin-kur- ra gu2 id2-da-ke4 ce3-mi-ni-ib-e3 \n",
      "109: {d}en-ki-ke4 ambar-ra im- da-la2 e-ne im-da-la2 e-ne \n",
      "110: sukkal-a-ni {d}isimud4-de3 gu3 mu-na-de2-e \n",
      "111: lu2-tur sag9-ga-e ne nu-mu-un- su-ub-be2 \n",
      "112: {d}nin-kur-ra sag9-ga-e ne nu-mu-un-su-ub-be2 \n",
      "113: sukkal-a-ni {d}isimud4-de3 mu-na-ni-ib-gi4-gi4 \n",
      "114: lu2-tur sag9-ga-e ne su-ub-bu-ma-ni \n",
      "115: {d}nin-kur-ra sag9-ga-e ne su-ub-bu-ma-ni \n",
      "116: lugal-ju10 im-dirig ga-ri im-dirig ga-ri \n",
      "\n",
      "Section 21\n",
      "117: jiri3-ni 1-a {jic}ma2-a bi2-in-gub \n",
      "118: 2-kam-ma bar-rim4-ma nam-mi-in-gub \n",
      "119: gaba im-ma-an-tab ne im-ma-an-su-ub \n",
      "120: {d}en-ki-ke4 a cag4 ba-ni-in-ri \n",
      "121: a cag4-ga cu ba-ni-in-ti a {d}en-ki-ka3-ka \n",
      "122: ud 1-am3 itid 1-a-ni \n",
      "123: ud 9-am3 itid 9-a-ni itid nam-munus-a- ka \n",
      "124: i3 li -gin7 i3 li -gin7 i3-he-nun- na-gin7 \n",
      "125: {d}nin-kur-ra i3 li - gin7 i3 li-gin7 i3-he-nun-na \n",
      "126: {d}uttu munus NI-buluj3 in- tu-ud \n",
      "\n",
      "Section 22\n",
      "126A: {d}nin-kur-ra {d}nin-imma3 ci-im- ma - an-tu-ud \n",
      "126B: lu2-tur i3-buluj3-e ul im-ma-an- ti \n",
      "126C: {d}nin-imma3 gu2 id2-da-kam ce3 -em-mi- {X} \n",
      "126D: {d}en-ki-ke4 ma2-ta im-ta-gid2-de3 im-da-la2 X {X} \n",
      "126E: {d}nin-imma3 gu2 id2-da-kam igi im -ma-ni-in-X- {X} \n",
      "126F: sukkal-a-ni {d}isimudx(ENKUM)-ra gu3 mu-na- de2 - e \n",
      "126G: lu2-tur sag9-ga-gin7 je26-e ne nam-in-su-ub \n",
      "126H: {d}nin-imma3 sag9-ga-gin7 je26-e jic3 nam-in-du3 \n",
      "126I: sukkal-a-ni {d}isimudx(ENKUM)-e mu-na-ni-ib-gi4-gi4 \n",
      "126K: lugal-ju10 i-im-dirig ga-ri i-im-dirig ga-ri \n",
      "\n",
      "Section 23\n",
      "126L: jiri3-ni 1-am3 ma2-a bi2-gub \n",
      "126M: 2-kam-ma-am3 bar-rim4-ma u3-bi2-gub \n",
      "126N: gaba cu im-mi-in-dab5 ur2-ra-na nu2-a \n",
      "126O: lu2-tur jic3 im-mi-in-dug4 ne im-ma-ni-in-su- ub \n",
      "126P: {d}en-ki-ke4 {d}nin-imma3 a cag4 mu-ni-in-ri \n",
      "126Q: a cag4-ga cu ba-ni-in-ti a {d}en-ki-ka3-kam \n",
      "\n",
      "Section 24\n",
      "126R: munus-e ud 1-bi itid 1-bi na-nam \n",
      "126S: ud 2-bi itid 2- bi na-nam \n",
      "126T: ud 3-bi itid 3- bi na-nam \n",
      "126U: ud 4-bi itid 4- bi na-nam \n",
      "126V: ud 5-bi itid 5- bi na-nam \n",
      "126W: ud 6-bi itid 6- bi na-nam \n",
      "126X: ud 7 - bi itid 7-bi na-nam \n",
      "126Y: ud 8-bi itid 8-bi na -nam \n",
      "126Z: ud 9-bi itid nam-munus-a-ni na-nam \n",
      "126AA: i3 li-gin7 i3 li -gin7 i3-he-nun-na-gin7 \n",
      "126BB: {d}nin-imma3 i3 li-gin7 i3-he-nun-na- gin7 \n",
      "126CC: {d}uttu munus NI-buluj3 in-tu-ud \n",
      "\n",
      "Section 25\n",
      "127: {d}nin-tur5-re {d}uttu- ra gu3 mu-na-de2- e \n",
      "128: na ga-e-de5 na de5-ju10 he2-e-dab5 \n",
      "129: inim ga-ra-ab-dug4 inim-ju10- ce3 jectug2-zu \n",
      "130: lu2 1-am3 ambar-ra im-da-la2 e-ne im-da-la2 e-ne \n",
      "131: {d}en-ki-ke4 ambar-ra im- da-la2 e-ne im-da-la2 e-ne \n",
      "132: igi im-X X {X} \n",
      "142: {X} X {X} \n",
      "143: {X} {d}uttu munus NI-buluj3 X X {X} \n",
      "144: {X} X X {X} \n",
      "145: {X} X X X A NA X {X} \n",
      "146: {X} X X X cag4 -za {X} \n",
      "\n",
      "Section 26\n",
      "147: ukuc2 sur-ra-X de6-um \n",
      "148: {jic}hachur gu ul-ul -ba de6-um \n",
      "149: {jic}jectin ga-ra-an-ba de6-um \n",
      "150: e2 -a saman2-ju10 he2-dab5 \n",
      "151: {d}en-ki-ke4 saman2-ju10 he2-bi2-in-dab5 \n",
      "\n",
      "Section 27\n",
      "152: 2-kam-ma a si-si-da-ni \n",
      "153: eg2 a bi2-in-si \n",
      "154: pa5 a bi2-in-si \n",
      "155: kislah a bi2-in-si \n",
      "156: nu-{jic}kiri6 sahar -ra hul2-a-na bi2- {X} \n",
      "157: gu2-ni gu2-da im-ci-in-la2- e-de3 \n",
      "158: a-ba-me-en {jic}kiri6 {X} \n",
      "\n",
      "Section 28\n",
      "159: {d}en-ki-ke4 nu-{jic}kiri6- {X} \n",
      "164: ukuc2 sur-ra-na im-ma- na - an-de6 \n",
      "165: {jic}hachur gu ul-ul-ba im-ma-na-an-de6 \n",
      "166: {jic}jectin ga-ra-an-ba im-ma-na-an-de6 ur2-ra-ni bi2-in-si-si \n",
      "\n",
      "Section 29\n",
      "167: {d}en-ki-ke4 igi-ni im-ma-an-sig7-sig7 jidru cu bi2-in-du8 \n",
      "168: {d}en-ki-ke4 {d}uttu-ra jiri3 im-ma-an-gub \n",
      "169: e2-na al-dub2-dub2-e jal2-u3 jal2-u3 \n",
      "170: a-ba-me-en za-e-me-en \n",
      "171: je26-e nu-{jic}kiri6 ukuc2 {jic}hachur {jic}jectin he2-am3-ce3 ga-mu-ra-ab-cum2 \n",
      "172: {d}uttu cag4 hul2-la-ni-ta e2-e jal2 ba-an-taka4 \n",
      "173: {d}en-ki-ke4 {d}uttu-ra munus NI-buluj3 \n",
      "174: ukuc2 sur-ra-na ba-na-ab-cum2-mu \n",
      "175: {jic}hachur gu ul-ul-ba ba-na-ab-cum2-mu \n",
      "176: {jic}jectin ga-ra-an-ba ba-na-ab-cum2-mu \n",
      "177: kac {gi}ba-an gu-la im-ma-ab- {X} \n",
      "\n",
      "Section 30\n",
      "178: {d}uttu munus NI-buluj3 gabu2 mu-na-ab-sig10-ge cu mu-na-sag3-ge \n",
      "179: {d}en-ki-ke4 {d}uttu-ra ul im-ma-ni-in-ti \n",
      "180: gaba cu im-mi-in-dab ur2-ra-na nu2-a \n",
      "181: hac2 mu-un-tag-tag-ge cu mu-un-tag-tag-ge \n",
      "182: gaba cu im-mi-in- dab5 ur2-ra-na nu2-a \n",
      "183: lu2-tur jic3 im-in-du3 ne im-ma-ni-in-su-ub \n",
      "184: {d}en-ki-ke4 {d}uttu a cag4 mu-ni-in-ri \n",
      "185: a cag4-ga cu ba-ci-in-ti a {d}en-ki-ka3-kam \n",
      "\n",
      "Section 31\n",
      "186: {d}uttu munus sag9-ga a2 hac2-ju10 im-me a2 bar-ju10 a2 ca3 -ba-ju10 im- me \n",
      "187: {d}nin-hur-saj-ja2 a hac2-ta ba-an-tag-tag \n",
      "\n",
      "Section 32\n",
      "190: u2-jic im-ma-an-mu2 \n",
      "191: u2-lal3 im-ma -an-mu2 \n",
      "192: u2-sar-ra im-ma -an-mu2 \n",
      "193: {u2}A.NUMUN2 im -ma-an-mu2 \n",
      "194: {u2}a-tu-tu im -ma-an-mu2 \n",
      "195: {u2}ac-tal2-tal2 im -ma-an-mu2 \n",
      "196: {u2}{X} im -ma-an-mu2 \n",
      "197: {u2}am-ha-ru im-ma-an-mu2 \n",
      "\n",
      "Section 33\n",
      "198: {d}en-ki-ke4 ambar-ra im-da-la2 e-ne im-da-la2 e-ne \n",
      "199: sukkal-a-ni {d}isimud4-de3 gu3 mu-na-de2-e \n",
      "200: u2 je26-e nam-bi li -bi2-tar-re \n",
      "201: a-na-am3 ne-e a-na-am3 ne-e \n",
      "\n",
      "Section 34\n",
      "202: sukkal-a-ni {d}isimud4-de3 mu-na-ni-ib2-gi4-gi4 \n",
      "203: lugal -ju10 u2-jic mu-na-ab-be2 \n",
      "204: mu-na-kud-de3 ba- gu7 - e \n",
      "205: lugal-ju10 u2-lal3 mu-na-ab-be2 \n",
      "206: mu-na-bur12-re ba-gu7-e \n",
      "207: lugal-ju10 u2-sar-ra mu- na-ab-be2 \n",
      "208: mu-na-kud-de3 ba- gu7-e \n",
      "209: lugal-ju10 {u2}A.NUMUN2 mu- na-ab-be2 \n",
      "210: mu-na-bur12-re ba- gu7-e \n",
      "\n",
      "Section 35\n",
      "211: lugal-ju10 {u2}a -tu-tu mu- na-ab-be2 \n",
      "212: mu-na-kud-de3 ba- gu7-e \n",
      "213: lugal-ju10 {u2}ac-tal2 -tal2 mu- na-ab-be2 \n",
      "214: mu-na-bur12-re ba-gu7-e \n",
      "215: lugal-ju10 {u2}{X} mu-na-ab-be2 \n",
      "216: mu-na-kud-de3 ba - gu7-e \n",
      "217: lugal-ju10 {u2} am-ha-ru mu-na-ab-be2 \n",
      "218: mu-na-bu -re ba-gu7-e \n",
      "219: {d}en-ki - ke4 u2 nam-bi bi2-in-tar cag4-ba ba-ni-in-zu \n",
      "\n",
      "Section 36\n",
      "220: {d}nin-hur-saj-ja2-ke4 mu {d}en-ki nam-erim2 ba-an-kud \n",
      "221: i-bi2 na-aj2-til3-la en-na ba-ug5-ge-a i-bi2 ba-ra-an-bar-re-en \n",
      "222: {d}a-nun-na-ke4-ne sahar-ta im-mi-in-durunx(KU.KU)-ne-ec \n",
      "223: ka5-a {d}en-lil2-ra mu-na-da-ab-be2 \n",
      "224: je26-e {d}nin-hur-saj-ja2 mu-e-ci-tum2-mu-un a-na-am3 nij2-ba-ju10 \n",
      "225: {d}en-lil2-le ka5-a mu-na-ni-ib2-gi4-gi4 \n",
      "226: za-e {d}nin-hur-saj-ja2 mu-e-tum2-mu-un-nam \n",
      "227: iri-ja2 2 jic-gana2 ga-ri-du3 mu-zu he2-pad3-de3 \n",
      "\n",
      "Section 37\n",
      "228: ka5-a su-ni 1-am3 im-ma-an-pec5-pec5 \n",
      "229: siki -ni 1-am3 im-ma-an-bur2-bur2 \n",
      "230: igi-ni 1-am3 cembizid bi2-in-jar \n",
      "\n",
      "Section 38\n",
      "235: nibru{ki-ce3 mu -jen-ne-en {d}en-lil2 {X} \n",
      "236: urim2{ki - ce3 mu-jen-ne-en {d}nanna {X} \n",
      "237: larsam{ki -ce3 mu-jen-ne-en {d} utu {X} \n",
      "238: unug{ki -ce3 mu-jen-ne-en {d}inana X {X} \n",
      "239: {X} X i3-me-a zi -ju10 mu-X-tum2-mu {X} \n",
      "240: X X X {X} \n",
      "241: {d}nin-hur-saj-ja2 X {X} \n",
      "245: {X} NE {X} \n",
      "246: {X} BA NE DU \n",
      "\n",
      "Section 39\n",
      "247: {d}nin-hur-saj-ja2-ke4 e2 kac4 im-ma-an-dug4 \n",
      "248: {d}a-nun- na - ke4 - ne tug2-ga-ni ba-an-dab5-be2-ec \n",
      "249: LI im-ma-an-ak-ec \n",
      "250: nam im-ma-an-tar-ec \n",
      "251: cu LI im-ma-an-bur2-ru-uc \n",
      "252: {d}nin-hur-saj-ja2-ke4 {d}en-ki gal4-la-na ba-ni-in-tuc \n",
      "253: cu MUC3- ba {X} bar-ba NE X {X} \n",
      "\n",
      "Section 40\n",
      "254: cec-ju10 a-na-zu a-ra-gig \n",
      "255: ugu-dilim2-ju10 ma-gig \n",
      "256: {d}ab-u2 im-ma-ra-an-tu-ud \n",
      "257: cec-ju10 a-na-zu a-ra-gig \n",
      "258: pa siki-ju10 ma-gig \n",
      "259: {d}nin-siki-la2 im-ma-ra-an-tu-ud \n",
      "260: cec-ju10 a-na-zu a-ra-gig giri17-ju10 ma-gig \n",
      "261: {d}nin-giri17-u3-tud im-ma-ra-an-tu-ud \n",
      "262: cec-ju10 a-na-zu a-ra-gig ka-ju10 ma-gig \n",
      "263: {d}nin-ka-si im-ma-ra-an-tu- ud \n",
      "\n",
      "Section 41\n",
      "264: cec-ju10 a-na-zu a-ra-gig zi-ju10 ma-gig \n",
      "265: {d}na-zi im-ma-ra-an- tu - ud \n",
      "266: cec-ju10 a-na-zu a-ra-gig a2-ju10 ma- gig \n",
      "267: {d}a2-zi-mu2-a im-ma-ra-an- tu - ud \n",
      "268: cec-ju10 a-na-zu a-ra-gig ti-ju10 ma- gig \n",
      "269: {d}nin-ti im-ma-ra-an- tu-ud \n",
      "270: cec-ju10 a-na-zu a-ra-gig zag-ju10 ma-gig \n",
      "271: {d}en-sa6-ag im-ma-ra-an- tu-ud \n",
      "\n",
      "Section 42\n",
      "272: di4-di4-la2-la2 ba-tud-de3-en-na-ac nij2- ba nam - la2 \n",
      "273: {d}ab-u2 lugal u2 he2-a \n",
      "274: {d}nin-siki-la2 en ma2-gan-na he2-a \n",
      "275: {d}nin-giri17-u3-tud {d}nin-a-zu ha-ba-an-tuku-tuku \n",
      "276: {d}nin-ka-si nij2 cag4 si he2-a \n",
      "277: {d}na-zi u3-mu-un-dar-a ha-ba-an-tuku-tuku \n",
      "278: {d}a2-zi- mu2-a {d}nin -jic-zid-da ha-ba-an-tuku-tuku \n",
      "279: {d} nin - ti nin itid-e he2-a \n",
      "280: {d}en-sa6 - ag en dilmun-na he2-a \n",
      "\n",
      "Section 43\n",
      "281: {d}en-ki za3-mi2 \n",
      "\n",
      "Composition 1.1.2: Enki and Ninma{h} -- a composite transliteration\n"
     ]
    }
   ],
   "source": [
    "print('\\n'.join(text[561:955]))"
   ]
  },
  {
   "cell_type": "markdown",
   "metadata": {},
   "source": [
    "Write the whole text to file."
   ]
  },
  {
   "cell_type": "code",
   "execution_count": 28,
   "metadata": {
    "collapsed": true
   },
   "outputs": [],
   "source": [
    "with open(os.path.expanduser('~/Downloads/etcsl.txt'), 'w') as f:\n",
    "    f.write('\\n'.join(text))"
   ]
  },
  {
   "cell_type": "markdown",
   "metadata": {},
   "source": [
    "## Word forms versus glyphs\n",
    "We check where the `form` feature on words is different from the text representation based on its glyphs.\n",
    "Note that the `text-orig-full` text format puts a spurious space at the end of each word.\n",
    "That is fine for outputting running text, but for the comparison we will strip that space."
   ]
  },
  {
   "cell_type": "code",
   "execution_count": 29,
   "metadata": {},
   "outputs": [
    {
     "name": "stdout",
     "output_type": "stream",
     "text": [
      "There are 18267 differences\n"
     ]
    }
   ],
   "source": [
    "different = []\n",
    "for w in F.otype.s('word'):\n",
    "    form = F.form.v(w)\n",
    "    text = T.text(L.d(w, otype='glyph')).rstrip(' ')\n",
    "    if form != text:\n",
    "        different.append((w, form, text))\n",
    "print('There are {} differences'.format(len(different)))"
   ]
  },
  {
   "cell_type": "code",
   "execution_count": 30,
   "metadata": {},
   "outputs": [
    {
     "data": {
      "text/plain": [
       "[(455632, '{d}en-ki', '{d}en -ki'),\n",
       " (455639, '1-kam', '1(AC)-kam'),\n",
       " (455644, '7', '7(IMIN)'),\n",
       " (455649, '7-na', '7(IMIN)-na'),\n",
       " (455656, 'sig10-ga', 'sig10- ga'),\n",
       " (455663, '1-kam', '1(AC)-kam'),\n",
       " (455681, 'dar-a', 'dar -a'),\n",
       " (455683, 'dug4-ga-ni', 'dug4 -ga-ni'),\n",
       " (455714, 'an-cag4-ta', 'an - cag4 - ta'),\n",
       " (455715, 'hi-li', 'hi- li')]"
      ]
     },
     "execution_count": 30,
     "metadata": {},
     "output_type": "execute_result"
    }
   ],
   "source": [
    "different[0:10]"
   ]
  },
  {
   "cell_type": "markdown",
   "metadata": {},
   "source": [
    "Some differences have to do with spacing, which will require further inspection.\n",
    "It might be caused by the elements that we have ignored, so far."
   ]
  },
  {
   "cell_type": "code",
   "execution_count": null,
   "metadata": {
    "collapsed": true
   },
   "outputs": [],
   "source": []
  }
 ],
 "metadata": {
  "kernelspec": {
   "display_name": "Python 3",
   "language": "python",
   "name": "python3"
  },
  "language_info": {
   "codemirror_mode": {
    "name": "ipython",
    "version": 3
   },
   "file_extension": ".py",
   "mimetype": "text/x-python",
   "name": "python",
   "nbconvert_exporter": "python",
   "pygments_lexer": "ipython3",
   "version": "3.6.1"
  }
 },
 "nbformat": 4,
 "nbformat_minor": 1
}
