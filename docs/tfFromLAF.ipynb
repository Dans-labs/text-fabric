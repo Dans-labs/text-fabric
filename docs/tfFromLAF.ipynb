{
 "cells": [
  {
   "cell_type": "markdown",
   "metadata": {},
   "source": [
    "# From LAF-Fabric to Text-Fabric\n",
    "\n",
    "This notebook turns the ETCBC4C dataset from LAF-Fabric into Text-Fabric"
   ]
  },
  {
   "cell_type": "code",
   "execution_count": 33,
   "metadata": {
    "collapsed": false
   },
   "outputs": [
    {
     "name": "stdout",
     "output_type": "stream",
     "text": [
      "The autoreload extension is already loaded. To reload it, use:\n",
      "  %reload_ext autoreload\n"
     ]
    }
   ],
   "source": [
    "%load_ext autoreload\n",
    "%autoreload 2"
   ]
  },
  {
   "cell_type": "code",
   "execution_count": 34,
   "metadata": {
    "collapsed": false
   },
   "outputs": [
    {
     "name": "stderr",
     "output_type": "stream",
     "text": [
      "  0.00s This is LAF-Fabric 4.8.3\n",
      "API reference: http://laf-fabric.readthedocs.org/en/latest/texts/API-reference.html\n",
      "Feature doc: https://shebanq.ancient-data.org/static/docs/featuredoc/texts/welcome.html\n",
      "\n"
     ]
    }
   ],
   "source": [
    "from laf.fabric import LafFabric\n",
    "fabric = LafFabric()"
   ]
  },
  {
   "cell_type": "markdown",
   "metadata": {},
   "source": [
    "# Core etcbc data\n",
    "\n",
    "This is what came out of the live Emdros database running on the jakob server at the ETCBC, on 2016-11-04."
   ]
  },
  {
   "cell_type": "code",
   "execution_count": 35,
   "metadata": {
    "collapsed": true
   },
   "outputs": [],
   "source": [
    "nodeFeatures = '''\n",
    "otype\n",
    "code\n",
    "det\n",
    "dist\n",
    "dist_unit\n",
    "domain\n",
    "function\n",
    "g_cons\n",
    "g_cons_utf8\n",
    "g_lex\n",
    "g_lex_utf8\n",
    "g_nme\n",
    "g_nme_utf8\n",
    "g_pfm\n",
    "g_pfm_utf8\n",
    "g_prs\n",
    "g_prs_utf8\n",
    "g_uvf\n",
    "g_uvf_utf8\n",
    "g_vbe\n",
    "g_vbe_utf8\n",
    "g_vbs\n",
    "g_vbs_utf8\n",
    "g_voc_lex\n",
    "g_voc_lex_utf8\n",
    "g_word\n",
    "g_word_utf8\n",
    "gn\n",
    "is_root\n",
    "kind\n",
    "language\n",
    "lex\n",
    "lex_utf8\n",
    "ls\n",
    "mother_object_type\n",
    "nme\n",
    "nu\n",
    "number\n",
    "pdp\n",
    "pfm\n",
    "prs\n",
    "prs_gn\n",
    "prs_nu\n",
    "prs_ps\n",
    "ps\n",
    "qere\n",
    "qere_utf8\n",
    "rela\n",
    "sp\n",
    "st\n",
    "tab\n",
    "trailer\n",
    "trailer_utf8\n",
    "txt\n",
    "typ\n",
    "uvf\n",
    "vbe\n",
    "vbs\n",
    "vs\n",
    "vt\n",
    "book\n",
    "chapter\n",
    "label\n",
    "verse\n",
    "'''\n",
    "\n",
    "edgeFeatures = '''\n",
    "oslots\n",
    "mother\n",
    "functional_parent\n",
    "distributional_parent\n",
    "'''\n",
    "\n",
    "nodeFeatureList = nodeFeatures.strip().split()\n",
    "edgeFeatureList = edgeFeatures.strip().split()\n",
    "\n",
    "lfNodeFeatures = ' '.join(nodeFeatureList+['monads'])\n",
    "lfEdgeFeatures = ' '.join(set(edgeFeatureList) - {'oslots'})"
   ]
  },
  {
   "cell_type": "code",
   "execution_count": 36,
   "metadata": {
    "collapsed": false
   },
   "outputs": [
    {
     "name": "stderr",
     "output_type": "stream",
     "text": [
      "  0.00s LOADING API: please wait ... \n",
      "  0.00s DETAIL: COMPILING m: etcbc4c: UP TO DATE\n",
      "  0.00s USING main: etcbc4c DATA COMPILED AT: 2016-11-09T19-16-37\n",
      "  0.01s DETAIL: load main: G.node_anchor_min\n",
      "  0.13s DETAIL: load main: G.node_anchor_max\n",
      "  0.22s DETAIL: load main: G.node_sort\n",
      "  0.27s DETAIL: load main: G.node_sort_inv\n",
      "  0.67s DETAIL: load main: G.edges_from\n",
      "  0.72s DETAIL: load main: G.edges_to\n",
      "  0.79s DETAIL: load main: F.etcbc4_db_monads [node] \n",
      "  1.47s DETAIL: load main: F.etcbc4_db_otype [node] \n",
      "  2.07s DETAIL: load main: F.etcbc4_ft_code [node] \n",
      "  2.11s DETAIL: load main: F.etcbc4_ft_det [node] \n",
      "  2.32s DETAIL: load main: F.etcbc4_ft_dist [node] \n",
      "  2.49s DETAIL: load main: F.etcbc4_ft_dist_unit [node] \n",
      "  2.73s DETAIL: load main: F.etcbc4_ft_domain [node] \n",
      "  2.76s DETAIL: load main: F.etcbc4_ft_function [node] \n",
      "  2.86s DETAIL: load main: F.etcbc4_ft_g_cons [node] \n",
      "  3.04s DETAIL: load main: F.etcbc4_ft_g_cons_utf8 [node] \n",
      "  3.29s DETAIL: load main: F.etcbc4_ft_g_lex [node] \n",
      "  3.48s DETAIL: load main: F.etcbc4_ft_g_lex_utf8 [node] \n",
      "  3.74s DETAIL: load main: F.etcbc4_ft_g_nme [node] \n",
      "  3.85s DETAIL: load main: F.etcbc4_ft_g_nme_utf8 [node] \n",
      "  4.00s DETAIL: load main: F.etcbc4_ft_g_pfm [node] \n",
      "  4.10s DETAIL: load main: F.etcbc4_ft_g_pfm_utf8 [node] \n",
      "  4.20s DETAIL: load main: F.etcbc4_ft_g_prs [node] \n",
      "  4.30s DETAIL: load main: F.etcbc4_ft_g_prs_utf8 [node] \n",
      "  4.40s DETAIL: load main: F.etcbc4_ft_g_uvf [node] \n",
      "  4.82s DETAIL: load main: F.etcbc4_ft_g_uvf_utf8 [node] \n",
      "  4.97s DETAIL: load main: F.etcbc4_ft_g_vbe [node] \n",
      "  5.06s DETAIL: load main: F.etcbc4_ft_g_vbe_utf8 [node] \n",
      "  5.16s DETAIL: load main: F.etcbc4_ft_g_vbs [node] \n",
      "  5.25s DETAIL: load main: F.etcbc4_ft_g_vbs_utf8 [node] \n",
      "  5.34s DETAIL: load main: F.etcbc4_ft_g_voc_lex [node] \n",
      "  5.53s DETAIL: load main: F.etcbc4_ft_g_voc_lex_utf8 [node] \n",
      "  5.81s DETAIL: load main: F.etcbc4_ft_g_word [node] \n",
      "  6.05s DETAIL: load main: F.etcbc4_ft_g_word_utf8 [node] \n",
      "  6.36s DETAIL: load main: F.etcbc4_ft_gn [node] \n",
      "  6.55s DETAIL: load main: F.etcbc4_ft_is_root [node] \n",
      "  6.60s DETAIL: load main: F.etcbc4_ft_kind [node] \n",
      "  6.65s DETAIL: load main: F.etcbc4_ft_language [node] \n",
      "  6.85s DETAIL: load main: F.etcbc4_ft_lex [node] \n",
      "  7.04s DETAIL: load main: F.etcbc4_ft_lex_utf8 [node] \n",
      "  7.30s DETAIL: load main: F.etcbc4_ft_ls [node] \n",
      "  7.49s DETAIL: load main: F.etcbc4_ft_mother_object_type [node] \n",
      "  7.60s DETAIL: load main: F.etcbc4_ft_nme [node] \n",
      "  7.78s DETAIL: load main: F.etcbc4_ft_nu [node] \n",
      "  7.98s DETAIL: load main: F.etcbc4_ft_number [node] \n",
      "  8.45s DETAIL: load main: F.etcbc4_ft_pdp [node] \n",
      "  8.64s DETAIL: load main: F.etcbc4_ft_pfm [node] \n",
      "  8.83s DETAIL: load main: F.etcbc4_ft_prs [node] \n",
      "  9.03s DETAIL: load main: F.etcbc4_ft_prs_gn [node] \n",
      "  9.21s DETAIL: load main: F.etcbc4_ft_prs_nu [node] \n",
      "  9.39s DETAIL: load main: F.etcbc4_ft_prs_ps [node] \n",
      "  9.56s DETAIL: load main: F.etcbc4_ft_ps [node] \n",
      "  9.74s DETAIL: load main: F.etcbc4_ft_qere [node] \n",
      "  9.83s DETAIL: load main: F.etcbc4_ft_qere_utf8 [node] \n",
      "  9.92s DETAIL: load main: F.etcbc4_ft_rela [node] \n",
      "    10s DETAIL: load main: F.etcbc4_ft_sp [node] \n",
      "    10s DETAIL: load main: F.etcbc4_ft_st [node] \n",
      "    11s DETAIL: load main: F.etcbc4_ft_tab [node] \n",
      "    11s DETAIL: load main: F.etcbc4_ft_trailer [node] \n",
      "    11s DETAIL: load main: F.etcbc4_ft_trailer_utf8 [node] \n",
      "    11s DETAIL: load main: F.etcbc4_ft_txt [node] \n",
      "    11s DETAIL: load main: F.etcbc4_ft_typ [node] \n",
      "    11s DETAIL: load main: F.etcbc4_ft_uvf [node] \n",
      "    11s DETAIL: load main: F.etcbc4_ft_vbe [node] \n",
      "    12s DETAIL: load main: F.etcbc4_ft_vbs [node] \n",
      "    12s DETAIL: load main: F.etcbc4_ft_vs [node] \n",
      "    12s DETAIL: load main: F.etcbc4_ft_vt [node] \n",
      "    12s DETAIL: load main: F.etcbc4_sft_book [node] \n",
      "    12s DETAIL: load main: F.etcbc4_sft_chapter [node] \n",
      "    12s DETAIL: load main: F.etcbc4_sft_label [node] \n",
      "    12s DETAIL: load main: F.etcbc4_sft_verse [node] \n",
      "    12s DETAIL: load main: F.etcbc4_ft_distributional_parent [e] \n",
      "    13s DETAIL: load main: F.etcbc4_ft_functional_parent [e] \n",
      "    13s DETAIL: load main: F.etcbc4_ft_mother [e] \n",
      "    13s DETAIL: load main: C.etcbc4_ft_distributional_parent -> \n",
      "    14s DETAIL: load main: C.etcbc4_ft_functional_parent -> \n",
      "    15s DETAIL: load main: C.etcbc4_ft_mother -> \n",
      "    15s DETAIL: load main: C.etcbc4_ft_distributional_parent <- \n",
      "    15s DETAIL: load main: C.etcbc4_ft_functional_parent <- \n",
      "    16s DETAIL: load main: C.etcbc4_ft_mother <- \n",
      "    16s LOGFILE=/Users/dirk/laf/laf-fabric-output/etcbc4c/TF/__log__TF.txt\n",
      "    16s INFO: DATA LOADED FROM SOURCE etcbc4c AND ANNOX  FOR TASK TF AT 2016-12-01T16-48-10\n"
     ]
    }
   ],
   "source": [
    "API = fabric.load('etcbc4c', '--', 'TF', {\n",
    "    \"xmlids\": {\"node\": False, \"edge\": False},\n",
    "    \"features\": (lfNodeFeatures, lfEdgeFeatures),\n",
    "    \"primary\": False,\n",
    "}, verbose='DETAIL')\n",
    "exec(fabric.localnames.format(var='fabric'))"
   ]
  },
  {
   "cell_type": "code",
   "execution_count": 37,
   "metadata": {
    "collapsed": false
   },
   "outputs": [],
   "source": [
    "import sys\n",
    "from tf.fabric import Fabric\n",
    "from tf.helpers import *"
   ]
  },
  {
   "cell_type": "code",
   "execution_count": 38,
   "metadata": {
    "collapsed": false
   },
   "outputs": [],
   "source": [
    "TFDIR = '/Users/dirk/github/text-fabric-data/hebrew/etcbc4c'"
   ]
  },
  {
   "cell_type": "code",
   "execution_count": 39,
   "metadata": {
    "collapsed": false
   },
   "outputs": [
    {
     "name": "stdout",
     "output_type": "stream",
     "text": [
      "95 features found and 0 ignored\n"
     ]
    }
   ],
   "source": [
    "TF = Fabric(locations=TFDIR)"
   ]
  },
  {
   "cell_type": "markdown",
   "metadata": {},
   "source": [
    "## Preparations"
   ]
  },
  {
   "cell_type": "markdown",
   "metadata": {},
   "source": [
    "### Map slot numbers\n",
    "In TF we make sure that the slots go from 0-maxSlot consecutively.\n",
    "So we have to map the original LAF-Fabric monad numbers\n",
    "to the node numbers of the words in TF."
   ]
  },
  {
   "cell_type": "code",
   "execution_count": 14,
   "metadata": {
    "collapsed": true
   },
   "outputs": [],
   "source": [
    "slotsFromMonad = {}\n",
    "for w in F.otype.s('word'):\n",
    "    m = int(F.monads.v(w))\n",
    "    slotsFromMonad[m] = w"
   ]
  },
  {
   "cell_type": "code",
   "execution_count": 15,
   "metadata": {
    "collapsed": true
   },
   "outputs": [],
   "source": [
    "def slotsFromMonadList(mList): return {slotsFromMonad.get(m, m) for m in mList}"
   ]
  },
  {
   "cell_type": "markdown",
   "metadata": {},
   "source": [
    "## oslots\n",
    "\n",
    "Here is code to write the oslots aedge information in a compact text file."
   ]
  },
  {
   "cell_type": "code",
   "execution_count": 16,
   "metadata": {
    "collapsed": false
   },
   "outputs": [
    {
     "name": "stdout",
     "output_type": "stream",
     "text": [
      "max slot =  426580\n",
      "max node = 1436893\n"
     ]
    }
   ],
   "source": [
    "oslotsData = {}\n",
    "maxSlot = max(n for n in F.otype.s('word'))\n",
    "maxNode = max(n for n in NN())\n",
    "print('max slot = {:>7}\\nmax node = {:>7}'.format(maxSlot, maxNode))\n",
    "\n",
    "for n in range(maxSlot+1, maxNode+1):\n",
    "    oslotsData[n] = slotsFromMonadList(setFromSpec(F.monads.v(n)))"
   ]
  },
  {
   "cell_type": "code",
   "execution_count": 17,
   "metadata": {
    "collapsed": true
   },
   "outputs": [],
   "source": [
    "nodeFeatures=dict(((feat, F.item[feat].lookup) for feat in nodeFeatureList))"
   ]
  },
  {
   "cell_type": "code",
   "execution_count": 18,
   "metadata": {
    "collapsed": false
   },
   "outputs": [],
   "source": [
    "edgeFeatures = {}\n",
    "for ef in edgeFeatureList:    \n",
    "    if ef == 'oslots':\n",
    "        data = oslotsData\n",
    "    else:\n",
    "        data = dict(((n, set(nDict.keys())) for (n, nDict) in C.item[ef].lookup.items()))\n",
    "    edgeFeatures[ef] = data"
   ]
  },
  {
   "cell_type": "code",
   "execution_count": 19,
   "metadata": {
    "collapsed": false
   },
   "outputs": [
    {
     "name": "stdout",
     "output_type": "stream",
     "text": [
      "    24s Exporting 64 node and 4 edge features to /Users/dirk/github/text-fabric-data/hebrew/etcbc4c:\n",
      "   |     0.07s T book                 to /Users/dirk/github/text-fabric-data/hebrew/etcbc4c\n",
      "   |     0.05s T chapter              to /Users/dirk/github/text-fabric-data/hebrew/etcbc4c\n",
      "   |     0.15s T code                 to /Users/dirk/github/text-fabric-data/hebrew/etcbc4c\n",
      "   |     0.88s T det                  to /Users/dirk/github/text-fabric-data/hebrew/etcbc4c\n",
      "   |     1.09s T dist                 to /Users/dirk/github/text-fabric-data/hebrew/etcbc4c\n",
      "   |     1.02s T dist_unit            to /Users/dirk/github/text-fabric-data/hebrew/etcbc4c\n",
      "   |     0.20s T domain               to /Users/dirk/github/text-fabric-data/hebrew/etcbc4c\n",
      "   |     0.43s T function             to /Users/dirk/github/text-fabric-data/hebrew/etcbc4c\n",
      "   |     0.90s T g_cons               to /Users/dirk/github/text-fabric-data/hebrew/etcbc4c\n",
      "   |     0.84s T g_cons_utf8          to /Users/dirk/github/text-fabric-data/hebrew/etcbc4c\n",
      "   |     0.81s T g_lex                to /Users/dirk/github/text-fabric-data/hebrew/etcbc4c\n",
      "   |     0.83s T g_lex_utf8           to /Users/dirk/github/text-fabric-data/hebrew/etcbc4c\n",
      "   |     0.77s T g_nme                to /Users/dirk/github/text-fabric-data/hebrew/etcbc4c\n",
      "   |     0.85s T g_nme_utf8           to /Users/dirk/github/text-fabric-data/hebrew/etcbc4c\n",
      "   |     0.67s T g_pfm                to /Users/dirk/github/text-fabric-data/hebrew/etcbc4c\n",
      "   |     0.77s T g_pfm_utf8           to /Users/dirk/github/text-fabric-data/hebrew/etcbc4c\n",
      "   |     0.64s T g_prs                to /Users/dirk/github/text-fabric-data/hebrew/etcbc4c\n",
      "   |     0.66s T g_prs_utf8           to /Users/dirk/github/text-fabric-data/hebrew/etcbc4c\n",
      "   |     0.63s T g_uvf                to /Users/dirk/github/text-fabric-data/hebrew/etcbc4c\n",
      "   |     0.75s T g_uvf_utf8           to /Users/dirk/github/text-fabric-data/hebrew/etcbc4c\n",
      "   |     0.73s T g_vbe                to /Users/dirk/github/text-fabric-data/hebrew/etcbc4c\n",
      "   |     0.74s T g_vbe_utf8           to /Users/dirk/github/text-fabric-data/hebrew/etcbc4c\n",
      "   |     0.64s T g_vbs                to /Users/dirk/github/text-fabric-data/hebrew/etcbc4c\n",
      "   |     0.74s T g_vbs_utf8           to /Users/dirk/github/text-fabric-data/hebrew/etcbc4c\n",
      "   |     0.68s T g_voc_lex            to /Users/dirk/github/text-fabric-data/hebrew/etcbc4c\n",
      "   |     0.90s T g_voc_lex_utf8       to /Users/dirk/github/text-fabric-data/hebrew/etcbc4c\n",
      "   |     0.84s T g_word               to /Users/dirk/github/text-fabric-data/hebrew/etcbc4c\n",
      "   |     0.85s T g_word_utf8          to /Users/dirk/github/text-fabric-data/hebrew/etcbc4c\n",
      "   |     0.77s T gn                   to /Users/dirk/github/text-fabric-data/hebrew/etcbc4c\n",
      "   |     0.16s T is_root              to /Users/dirk/github/text-fabric-data/hebrew/etcbc4c\n",
      "   |     0.15s T kind                 to /Users/dirk/github/text-fabric-data/hebrew/etcbc4c\n",
      "   |     0.12s T label                to /Users/dirk/github/text-fabric-data/hebrew/etcbc4c\n",
      "   |     0.69s T language             to /Users/dirk/github/text-fabric-data/hebrew/etcbc4c\n",
      "   |     0.69s T lex                  to /Users/dirk/github/text-fabric-data/hebrew/etcbc4c\n",
      "   |     1.02s T lex_utf8             to /Users/dirk/github/text-fabric-data/hebrew/etcbc4c\n",
      "   |     0.67s T ls                   to /Users/dirk/github/text-fabric-data/hebrew/etcbc4c\n",
      "   |     0.35s T mother_object_type   to /Users/dirk/github/text-fabric-data/hebrew/etcbc4c\n",
      "   |     0.66s T nme                  to /Users/dirk/github/text-fabric-data/hebrew/etcbc4c\n",
      "   |     0.66s T nu                   to /Users/dirk/github/text-fabric-data/hebrew/etcbc4c\n",
      "   |     2.01s T number               to /Users/dirk/github/text-fabric-data/hebrew/etcbc4c\n",
      "   |     0.74s T otype                to /Users/dirk/github/text-fabric-data/hebrew/etcbc4c\n",
      "   |     0.91s T pdp                  to /Users/dirk/github/text-fabric-data/hebrew/etcbc4c\n",
      "   |     0.70s T pfm                  to /Users/dirk/github/text-fabric-data/hebrew/etcbc4c\n",
      "   |     0.83s T prs                  to /Users/dirk/github/text-fabric-data/hebrew/etcbc4c\n",
      "   |     0.72s T prs_gn               to /Users/dirk/github/text-fabric-data/hebrew/etcbc4c\n",
      "   |     0.68s T prs_nu               to /Users/dirk/github/text-fabric-data/hebrew/etcbc4c\n",
      "   |     0.69s T prs_ps               to /Users/dirk/github/text-fabric-data/hebrew/etcbc4c\n",
      "   |     0.66s T ps                   to /Users/dirk/github/text-fabric-data/hebrew/etcbc4c\n",
      "   |     0.87s T qere                 to /Users/dirk/github/text-fabric-data/hebrew/etcbc4c\n",
      "   |     0.67s T qere_utf8            to /Users/dirk/github/text-fabric-data/hebrew/etcbc4c\n",
      "   |     1.39s T rela                 to /Users/dirk/github/text-fabric-data/hebrew/etcbc4c\n",
      "   |     0.69s T sp                   to /Users/dirk/github/text-fabric-data/hebrew/etcbc4c\n",
      "   |     0.82s T st                   to /Users/dirk/github/text-fabric-data/hebrew/etcbc4c\n",
      "   |     0.14s T tab                  to /Users/dirk/github/text-fabric-data/hebrew/etcbc4c\n",
      "   |     0.64s T trailer              to /Users/dirk/github/text-fabric-data/hebrew/etcbc4c\n",
      "   |     0.70s T trailer_utf8         to /Users/dirk/github/text-fabric-data/hebrew/etcbc4c\n",
      "   |     0.16s T txt                  to /Users/dirk/github/text-fabric-data/hebrew/etcbc4c\n",
      "   |     1.41s T typ                  to /Users/dirk/github/text-fabric-data/hebrew/etcbc4c\n",
      "   |     0.69s T uvf                  to /Users/dirk/github/text-fabric-data/hebrew/etcbc4c\n",
      "   |     0.67s T vbe                  to /Users/dirk/github/text-fabric-data/hebrew/etcbc4c\n",
      "   |     0.68s T vbs                  to /Users/dirk/github/text-fabric-data/hebrew/etcbc4c\n",
      "   |     0.06s T verse                to /Users/dirk/github/text-fabric-data/hebrew/etcbc4c\n",
      "   |     0.67s T vs                   to /Users/dirk/github/text-fabric-data/hebrew/etcbc4c\n",
      "   |     0.71s T vt                   to /Users/dirk/github/text-fabric-data/hebrew/etcbc4c\n",
      "   |     3.38s T distributional_parent to /Users/dirk/github/text-fabric-data/hebrew/etcbc4c\n",
      "   |     4.56s T functional_parent    to /Users/dirk/github/text-fabric-data/hebrew/etcbc4c\n",
      "   |     0.72s T mother               to /Users/dirk/github/text-fabric-data/hebrew/etcbc4c\n",
      "   |     5.03s T oslots               to /Users/dirk/github/text-fabric-data/hebrew/etcbc4c\n",
      " 1m 22s Exported 0 features to /Users/dirk/github/text-fabric-data/hebrew/etcbc4c:\n"
     ]
    }
   ],
   "source": [
    "TF.save(\n",
    "    nodeFeatures=nodeFeatures,\n",
    "    edgeFeatures=edgeFeatures,\n",
    "    metaData={'': dict(source='ETCBC4c via LAF-Fabric')},\n",
    ")"
   ]
  },
  {
   "cell_type": "markdown",
   "metadata": {
    "collapsed": true
   },
   "source": [
    "# Additional data\n",
    "\n",
    "## Book names international\n",
    "\n",
    "For each language in which book names have been translated, we add a feature `book_ll` where \n",
    "`ll` is the two letter language code.\n",
    "The feature gives for each book node the name of that book in that language."
   ]
  },
  {
   "cell_type": "code",
   "execution_count": 40,
   "metadata": {
    "collapsed": true
   },
   "outputs": [],
   "source": [
    "from etcbc.blang import booklangs, booknames"
   ]
  },
  {
   "cell_type": "code",
   "execution_count": 31,
   "metadata": {
    "collapsed": false
   },
   "outputs": [
    {
     "name": "stdout",
     "output_type": "stream",
     "text": [
      "26 book name languages\n"
     ]
    }
   ],
   "source": [
    "langs = booklangs['Hebrew']\n",
    "names = booknames['Hebrew']\n",
    "books = [b for b in F.otype.s('book')]\n",
    "bookIndex = dict(((b,i) for (i,b) in enumerate(books)))\n",
    "\n",
    "textConfig = {\n",
    "    'sectionTypes':              'book,chapter,verse',\n",
    "    'sectionFeatures':           'book,chapter,verse',\n",
    "    'fmt:text-orig-full':        '{qere_utf8/g_word_utf8}{trailer_utf8}',\n",
    "    'fmt:text-orig-full-ketiv':  '{g_word_utf8}{trailer_utf8}',\n",
    "    'fmt:text-orig-plain':       '{g_cons_utf8}{trailer_utf8}',\n",
    "    'fmt:text-trans-full':       '{qere/g_word}{trailer}',\n",
    "    'fmt:text-trans-full-ketiv': '{g_word}{trailer}',\n",
    "    'fmt:text-trans-plain':      '{g_cons}{trailer}',\n",
    "    'fmt:lex-orig-full':         '{g_voc_lex_utf8} ',\n",
    "    'fmt:lex-orig-plain':        '{lex_utf8} ',\n",
    "    'fmt:lex-trans-full':        '{g_voc_lex} ',\n",
    "    'fmt:lex-trans-plain':       '{lex} ',\n",
    "}\n",
    "\n",
    "metaData = dict(otext=textConfig)\n",
    "\n",
    "nodeFeatures = {}\n",
    "for (code, (langEng, langOwn)) in sorted(booklangs['Hebrew'].items()):\n",
    "    fName = 'book@{}'.format(code)\n",
    "    metaData[fName] = dict(\n",
    "        source='blang.py in LAF-Fabric',\n",
    "        languageCode=code,\n",
    "        languageEnglish=langEng,\n",
    "        language=langOwn\n",
    "    )\n",
    "    nodeFeatures[fName] = dict(((b, names[code][bookIndex[b]]) for b in books))\n",
    "print('{} book name languages'.format(len(nodeFeatures)))"
   ]
  },
  {
   "cell_type": "code",
   "execution_count": 32,
   "metadata": {
    "collapsed": false
   },
   "outputs": [
    {
     "name": "stdout",
     "output_type": "stream",
     "text": [
      "  0.00s Exporting 26 node and 0 edge and 1 config features to /Users/dirk/github/text-fabric-data/hebrew/etcbc4c:\n",
      "   |     0.00s T book@am              to /Users/dirk/github/text-fabric-data/hebrew/etcbc4c\n",
      "   |     0.00s T book@ar              to /Users/dirk/github/text-fabric-data/hebrew/etcbc4c\n",
      "   |     0.00s T book@bn              to /Users/dirk/github/text-fabric-data/hebrew/etcbc4c\n",
      "   |     0.00s T book@da              to /Users/dirk/github/text-fabric-data/hebrew/etcbc4c\n",
      "   |     0.00s T book@de              to /Users/dirk/github/text-fabric-data/hebrew/etcbc4c\n",
      "   |     0.00s T book@el              to /Users/dirk/github/text-fabric-data/hebrew/etcbc4c\n",
      "   |     0.00s T book@en              to /Users/dirk/github/text-fabric-data/hebrew/etcbc4c\n",
      "   |     0.00s T book@es              to /Users/dirk/github/text-fabric-data/hebrew/etcbc4c\n",
      "   |     0.00s T book@fa              to /Users/dirk/github/text-fabric-data/hebrew/etcbc4c\n",
      "   |     0.00s T book@fr              to /Users/dirk/github/text-fabric-data/hebrew/etcbc4c\n",
      "   |     0.00s T book@he              to /Users/dirk/github/text-fabric-data/hebrew/etcbc4c\n",
      "   |     0.00s T book@hi              to /Users/dirk/github/text-fabric-data/hebrew/etcbc4c\n",
      "   |     0.01s T book@id              to /Users/dirk/github/text-fabric-data/hebrew/etcbc4c\n",
      "   |     0.00s T book@ja              to /Users/dirk/github/text-fabric-data/hebrew/etcbc4c\n",
      "   |     0.00s T book@ko              to /Users/dirk/github/text-fabric-data/hebrew/etcbc4c\n",
      "   |     0.00s T book@la              to /Users/dirk/github/text-fabric-data/hebrew/etcbc4c\n",
      "   |     0.00s T book@nl              to /Users/dirk/github/text-fabric-data/hebrew/etcbc4c\n",
      "   |     0.00s T book@pa              to /Users/dirk/github/text-fabric-data/hebrew/etcbc4c\n",
      "   |     0.00s T book@pt              to /Users/dirk/github/text-fabric-data/hebrew/etcbc4c\n",
      "   |     0.00s T book@ru              to /Users/dirk/github/text-fabric-data/hebrew/etcbc4c\n",
      "   |     0.00s T book@sw              to /Users/dirk/github/text-fabric-data/hebrew/etcbc4c\n",
      "   |     0.01s T book@syc             to /Users/dirk/github/text-fabric-data/hebrew/etcbc4c\n",
      "   |     0.00s T book@tr              to /Users/dirk/github/text-fabric-data/hebrew/etcbc4c\n",
      "   |     0.01s T book@ur              to /Users/dirk/github/text-fabric-data/hebrew/etcbc4c\n",
      "   |     0.00s T book@yo              to /Users/dirk/github/text-fabric-data/hebrew/etcbc4c\n",
      "   |     0.00s T book@zh              to /Users/dirk/github/text-fabric-data/hebrew/etcbc4c\n",
      "   |     0.00s M otext                to /Users/dirk/github/text-fabric-data/hebrew/etcbc4c\n",
      "  0.14s Exported 26 node features and 0 edge features and 1 config features to /Users/dirk/github/text-fabric-data/hebrew/etcbc4c:\n"
     ]
    }
   ],
   "source": [
    "TF.save(nodeFeatures=nodeFeatures, metaData=metaData)"
   ]
  },
  {
   "cell_type": "code",
   "execution_count": null,
   "metadata": {
    "collapsed": true
   },
   "outputs": [],
   "source": []
  }
 ],
 "metadata": {
  "kernelspec": {
   "display_name": "Python 3",
   "language": "python",
   "name": "python3"
  },
  "language_info": {
   "codemirror_mode": {
    "name": "ipython",
    "version": 3
   },
   "file_extension": ".py",
   "mimetype": "text/x-python",
   "name": "python",
   "nbconvert_exporter": "python",
   "pygments_lexer": "ipython3",
   "version": "3.5.2"
  }
 },
 "nbformat": 4,
 "nbformat_minor": 1
}
