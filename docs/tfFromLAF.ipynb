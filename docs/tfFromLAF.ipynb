{
 "cells": [
  {
   "cell_type": "markdown",
   "metadata": {},
   "source": [
    "# From LAF-Fabric to Text-Fabric\n",
    "\n",
    "This notebook turns the ETCBC4C dataset from LAF-Fabric into Text-Fabric"
   ]
  },
  {
   "cell_type": "code",
   "execution_count": 1,
   "metadata": {
    "collapsed": false
   },
   "outputs": [],
   "source": [
    "%load_ext autoreload\n",
    "%autoreload 2"
   ]
  },
  {
   "cell_type": "code",
   "execution_count": 2,
   "metadata": {
    "collapsed": false
   },
   "outputs": [
    {
     "name": "stderr",
     "output_type": "stream",
     "text": [
      "  0.00s This is LAF-Fabric 4.8.3\n",
      "API reference: http://laf-fabric.readthedocs.org/en/latest/texts/API-reference.html\n",
      "Feature doc: https://shebanq.ancient-data.org/static/docs/featuredoc/texts/welcome.html\n",
      "\n"
     ]
    }
   ],
   "source": [
    "from laf.fabric import LafFabric\n",
    "fabric = LafFabric()"
   ]
  },
  {
   "cell_type": "markdown",
   "metadata": {},
   "source": [
    "# Core etcbc data\n",
    "\n",
    "This is what came out of the live Emdros database running on the jakob server at the ETCBC, on 2016-11-04."
   ]
  },
  {
   "cell_type": "code",
   "execution_count": 3,
   "metadata": {
    "collapsed": true
   },
   "outputs": [],
   "source": [
    "nodeFeatures = '''\n",
    "otype\n",
    "code\n",
    "det\n",
    "dist\n",
    "dist_unit\n",
    "domain\n",
    "function\n",
    "g_cons\n",
    "g_cons_utf8\n",
    "g_lex\n",
    "g_lex_utf8\n",
    "g_nme\n",
    "g_nme_utf8\n",
    "g_pfm\n",
    "g_pfm_utf8\n",
    "g_prs\n",
    "g_prs_utf8\n",
    "g_uvf\n",
    "g_uvf_utf8\n",
    "g_vbe\n",
    "g_vbe_utf8\n",
    "g_vbs\n",
    "g_vbs_utf8\n",
    "g_voc_lex\n",
    "g_voc_lex_utf8\n",
    "g_word\n",
    "g_word_utf8\n",
    "gn\n",
    "is_root\n",
    "kind\n",
    "language\n",
    "lex\n",
    "lex_utf8\n",
    "ls\n",
    "mother_object_type\n",
    "nme\n",
    "nu\n",
    "number\n",
    "pdp\n",
    "pfm\n",
    "prs\n",
    "prs_gn\n",
    "prs_nu\n",
    "prs_ps\n",
    "ps\n",
    "qere\n",
    "qere_utf8\n",
    "rela\n",
    "sp\n",
    "st\n",
    "tab\n",
    "trailer\n",
    "trailer_utf8\n",
    "txt\n",
    "typ\n",
    "uvf\n",
    "vbe\n",
    "vbs\n",
    "vs\n",
    "vt\n",
    "book\n",
    "chapter\n",
    "label\n",
    "verse\n",
    "'''\n",
    "\n",
    "edgeFeatures = '''\n",
    "oslots\n",
    "mother\n",
    "functional_parent\n",
    "distributional_parent\n",
    "'''\n",
    "\n",
    "nodeFeatureList = nodeFeatures.strip().split()\n",
    "edgeFeatureList = edgeFeatures.strip().split()\n",
    "\n",
    "lfNodeFeatures = ' '.join(nodeFeatureList+['monads'])\n",
    "lfEdgeFeatures = ' '.join(set(edgeFeatureList) - {'oslots'})"
   ]
  },
  {
   "cell_type": "code",
   "execution_count": 4,
   "metadata": {
    "collapsed": false
   },
   "outputs": [
    {
     "name": "stderr",
     "output_type": "stream",
     "text": [
      "  0.00s LOADING API: please wait ... \n",
      "  0.00s DETAIL: COMPILING m: etcbc4c: UP TO DATE\n",
      "  0.00s USING main: etcbc4c DATA COMPILED AT: 2016-11-09T19-16-37\n",
      "  0.01s DETAIL: load main: G.node_anchor_min\n",
      "  0.10s DETAIL: load main: G.node_anchor_max\n",
      "  0.19s DETAIL: load main: G.node_sort\n",
      "  0.24s DETAIL: load main: G.node_sort_inv\n",
      "  0.64s DETAIL: load main: G.edges_from\n",
      "  0.70s DETAIL: load main: G.edges_to\n",
      "  0.76s DETAIL: load main: F.etcbc4_db_monads [node] \n",
      "  1.43s DETAIL: load main: F.etcbc4_db_otype [node] \n",
      "  2.01s DETAIL: load main: F.etcbc4_ft_code [node] \n",
      "  2.06s DETAIL: load main: F.etcbc4_ft_det [node] \n",
      "  2.27s DETAIL: load main: F.etcbc4_ft_dist [node] \n",
      "  2.46s DETAIL: load main: F.etcbc4_ft_dist_unit [node] \n",
      "  2.70s DETAIL: load main: F.etcbc4_ft_domain [node] \n",
      "  2.73s DETAIL: load main: F.etcbc4_ft_function [node] \n",
      "  2.84s DETAIL: load main: F.etcbc4_ft_g_cons [node] \n",
      "  3.02s DETAIL: load main: F.etcbc4_ft_g_cons_utf8 [node] \n",
      "  3.27s DETAIL: load main: F.etcbc4_ft_g_lex [node] \n",
      "  3.46s DETAIL: load main: F.etcbc4_ft_g_lex_utf8 [node] \n",
      "  3.94s DETAIL: load main: F.etcbc4_ft_g_nme [node] \n",
      "  4.26s DETAIL: load main: F.etcbc4_ft_g_nme_utf8 [node] \n",
      "  4.60s DETAIL: load main: F.etcbc4_ft_g_pfm [node] \n",
      "  4.71s DETAIL: load main: F.etcbc4_ft_g_pfm_utf8 [node] \n",
      "  4.81s DETAIL: load main: F.etcbc4_ft_g_prs [node] \n",
      "  4.91s DETAIL: load main: F.etcbc4_ft_g_prs_utf8 [node] \n",
      "  5.01s DETAIL: load main: F.etcbc4_ft_g_uvf [node] \n",
      "  5.10s DETAIL: load main: F.etcbc4_ft_g_uvf_utf8 [node] \n",
      "  5.19s DETAIL: load main: F.etcbc4_ft_g_vbe [node] \n",
      "  5.28s DETAIL: load main: F.etcbc4_ft_g_vbe_utf8 [node] \n",
      "  5.39s DETAIL: load main: F.etcbc4_ft_g_vbs [node] \n",
      "  5.48s DETAIL: load main: F.etcbc4_ft_g_vbs_utf8 [node] \n",
      "  5.57s DETAIL: load main: F.etcbc4_ft_g_voc_lex [node] \n",
      "  5.76s DETAIL: load main: F.etcbc4_ft_g_voc_lex_utf8 [node] \n",
      "  6.00s DETAIL: load main: F.etcbc4_ft_g_word [node] \n",
      "  6.22s DETAIL: load main: F.etcbc4_ft_g_word_utf8 [node] \n",
      "  6.50s DETAIL: load main: F.etcbc4_ft_gn [node] \n",
      "  6.65s DETAIL: load main: F.etcbc4_ft_is_root [node] \n",
      "  6.70s DETAIL: load main: F.etcbc4_ft_kind [node] \n",
      "  6.75s DETAIL: load main: F.etcbc4_ft_language [node] \n",
      "  6.93s DETAIL: load main: F.etcbc4_ft_lex [node] \n",
      "  7.11s DETAIL: load main: F.etcbc4_ft_lex_utf8 [node] \n",
      "  7.36s DETAIL: load main: F.etcbc4_ft_ls [node] \n",
      "  7.63s DETAIL: load main: F.etcbc4_ft_mother_object_type [node] \n",
      "  7.85s DETAIL: load main: F.etcbc4_ft_nme [node] \n",
      "  8.27s DETAIL: load main: F.etcbc4_ft_nu [node] \n",
      "  8.51s DETAIL: load main: F.etcbc4_ft_number [node] \n",
      "  8.91s DETAIL: load main: F.etcbc4_ft_pdp [node] \n",
      "  9.10s DETAIL: load main: F.etcbc4_ft_pfm [node] \n",
      "  9.27s DETAIL: load main: F.etcbc4_ft_prs [node] \n",
      "  9.45s DETAIL: load main: F.etcbc4_ft_prs_gn [node] \n",
      "  9.63s DETAIL: load main: F.etcbc4_ft_prs_nu [node] \n",
      "  9.81s DETAIL: load main: F.etcbc4_ft_prs_ps [node] \n",
      "    10s DETAIL: load main: F.etcbc4_ft_ps [node] \n",
      "    11s DETAIL: load main: F.etcbc4_ft_qere [node] \n",
      "    11s DETAIL: load main: F.etcbc4_ft_qere_utf8 [node] \n",
      "    11s DETAIL: load main: F.etcbc4_ft_rela [node] \n",
      "    11s DETAIL: load main: F.etcbc4_ft_sp [node] \n",
      "    11s DETAIL: load main: F.etcbc4_ft_st [node] \n",
      "    12s DETAIL: load main: F.etcbc4_ft_tab [node] \n",
      "    12s DETAIL: load main: F.etcbc4_ft_trailer [node] \n",
      "    12s DETAIL: load main: F.etcbc4_ft_trailer_utf8 [node] \n",
      "    12s DETAIL: load main: F.etcbc4_ft_txt [node] \n",
      "    12s DETAIL: load main: F.etcbc4_ft_typ [node] \n",
      "    12s DETAIL: load main: F.etcbc4_ft_uvf [node] \n",
      "    12s DETAIL: load main: F.etcbc4_ft_vbe [node] \n",
      "    12s DETAIL: load main: F.etcbc4_ft_vbs [node] \n",
      "    13s DETAIL: load main: F.etcbc4_ft_vs [node] \n",
      "    13s DETAIL: load main: F.etcbc4_ft_vt [node] \n",
      "    14s DETAIL: load main: F.etcbc4_sft_book [node] \n",
      "    14s DETAIL: load main: F.etcbc4_sft_chapter [node] \n",
      "    14s DETAIL: load main: F.etcbc4_sft_label [node] \n",
      "    14s DETAIL: load main: F.etcbc4_sft_verse [node] \n",
      "    14s DETAIL: load main: F.etcbc4_ft_distributional_parent [e] \n",
      "    14s DETAIL: load main: F.etcbc4_ft_functional_parent [e] \n",
      "    14s DETAIL: load main: F.etcbc4_ft_mother [e] \n",
      "    14s DETAIL: load main: C.etcbc4_ft_distributional_parent -> \n",
      "    15s DETAIL: load main: C.etcbc4_ft_functional_parent -> \n",
      "    15s DETAIL: load main: C.etcbc4_ft_mother -> \n",
      "    15s DETAIL: load main: C.etcbc4_ft_distributional_parent <- \n",
      "    16s DETAIL: load main: C.etcbc4_ft_functional_parent <- \n",
      "    16s DETAIL: load main: C.etcbc4_ft_mother <- \n",
      "    17s LOGFILE=/Users/dirk/laf/laf-fabric-output/etcbc4c/TF/__log__TF.txt\n",
      "    17s INFO: DATA LOADED FROM SOURCE etcbc4c AND ANNOX  FOR TASK TF AT 2016-11-30T11-46-30\n"
     ]
    }
   ],
   "source": [
    "API = fabric.load('etcbc4c', '--', 'TF', {\n",
    "    \"xmlids\": {\"node\": False, \"edge\": False},\n",
    "    \"features\": (lfNodeFeatures, lfEdgeFeatures),\n",
    "    \"primary\": False,\n",
    "}, verbose='DETAIL')\n",
    "exec(fabric.localnames.format(var='fabric'))"
   ]
  },
  {
   "cell_type": "code",
   "execution_count": 10,
   "metadata": {
    "collapsed": false
   },
   "outputs": [],
   "source": [
    "import sys\n",
    "from tf.fabric import Fabric\n",
    "from tf.helpers import *"
   ]
  },
  {
   "cell_type": "code",
   "execution_count": 11,
   "metadata": {
    "collapsed": false
   },
   "outputs": [
    {
     "name": "stdout",
     "output_type": "stream",
     "text": [
      "64 node features\n",
      "4 edge features\n"
     ]
    }
   ],
   "source": [
    "TFDIR = '/Users/dirk/github/text-fabric-data/hebrew/etcbc4c'\n",
    "print('{} node features'.format(len(nodeFeatureList)))\n",
    "print('{} edge features'.format(len(edgeFeatureList)))"
   ]
  },
  {
   "cell_type": "code",
   "execution_count": 12,
   "metadata": {
    "collapsed": false
   },
   "outputs": [
    {
     "name": "stdout",
     "output_type": "stream",
     "text": [
      "  0.00s Looking for available data features:\n",
      "  0.01s   book                 from /Users/dirk/github/text-fabric-data/hebrew/etcbc4c/book.tf\n",
      "  0.01s   book@am              from /Users/dirk/github/text-fabric-data/hebrew/etcbc4c/book@am.tf\n",
      "  0.01s   book@ar              from /Users/dirk/github/text-fabric-data/hebrew/etcbc4c/book@ar.tf\n",
      "  0.01s   book@bn              from /Users/dirk/github/text-fabric-data/hebrew/etcbc4c/book@bn.tf\n",
      "  0.01s   book@da              from /Users/dirk/github/text-fabric-data/hebrew/etcbc4c/book@da.tf\n",
      "  0.01s   book@de              from /Users/dirk/github/text-fabric-data/hebrew/etcbc4c/book@de.tf\n",
      "  0.01s   book@el              from /Users/dirk/github/text-fabric-data/hebrew/etcbc4c/book@el.tf\n",
      "  0.01s   book@en              from /Users/dirk/github/text-fabric-data/hebrew/etcbc4c/book@en.tf\n",
      "  0.02s   book@es              from /Users/dirk/github/text-fabric-data/hebrew/etcbc4c/book@es.tf\n",
      "  0.02s   book@fa              from /Users/dirk/github/text-fabric-data/hebrew/etcbc4c/book@fa.tf\n",
      "  0.02s   book@fr              from /Users/dirk/github/text-fabric-data/hebrew/etcbc4c/book@fr.tf\n",
      "  0.02s   book@he              from /Users/dirk/github/text-fabric-data/hebrew/etcbc4c/book@he.tf\n",
      "  0.02s   book@hi              from /Users/dirk/github/text-fabric-data/hebrew/etcbc4c/book@hi.tf\n",
      "  0.03s   book@id              from /Users/dirk/github/text-fabric-data/hebrew/etcbc4c/book@id.tf\n",
      "  0.03s   book@ja              from /Users/dirk/github/text-fabric-data/hebrew/etcbc4c/book@ja.tf\n",
      "  0.03s   book@ko              from /Users/dirk/github/text-fabric-data/hebrew/etcbc4c/book@ko.tf\n",
      "  0.03s   book@la              from /Users/dirk/github/text-fabric-data/hebrew/etcbc4c/book@la.tf\n",
      "  0.03s   book@nl              from /Users/dirk/github/text-fabric-data/hebrew/etcbc4c/book@nl.tf\n",
      "  0.04s   book@pa              from /Users/dirk/github/text-fabric-data/hebrew/etcbc4c/book@pa.tf\n",
      "  0.04s   book@pt              from /Users/dirk/github/text-fabric-data/hebrew/etcbc4c/book@pt.tf\n",
      "  0.04s   book@ru              from /Users/dirk/github/text-fabric-data/hebrew/etcbc4c/book@ru.tf\n",
      "  0.04s   book@sw              from /Users/dirk/github/text-fabric-data/hebrew/etcbc4c/book@sw.tf\n",
      "  0.04s   book@syc             from /Users/dirk/github/text-fabric-data/hebrew/etcbc4c/book@syc.tf\n",
      "  0.04s   book@tr              from /Users/dirk/github/text-fabric-data/hebrew/etcbc4c/book@tr.tf\n",
      "  0.04s   book@ur              from /Users/dirk/github/text-fabric-data/hebrew/etcbc4c/book@ur.tf\n",
      "  0.05s   book@yo              from /Users/dirk/github/text-fabric-data/hebrew/etcbc4c/book@yo.tf\n",
      "  0.05s   book@zh              from /Users/dirk/github/text-fabric-data/hebrew/etcbc4c/book@zh.tf\n",
      "  0.05s   chapter              from /Users/dirk/github/text-fabric-data/hebrew/etcbc4c/chapter.tf\n",
      "  0.05s   code                 from /Users/dirk/github/text-fabric-data/hebrew/etcbc4c/code.tf\n",
      "  0.05s   det                  from /Users/dirk/github/text-fabric-data/hebrew/etcbc4c/det.tf\n",
      "  0.05s   dist                 from /Users/dirk/github/text-fabric-data/hebrew/etcbc4c/dist.tf\n",
      "  0.05s   dist_unit            from /Users/dirk/github/text-fabric-data/hebrew/etcbc4c/dist_unit.tf\n",
      "  0.05s   distributional_parent from /Users/dirk/github/text-fabric-data/hebrew/etcbc4c/distributional_parent.tf\n",
      "  0.05s   domain               from /Users/dirk/github/text-fabric-data/hebrew/etcbc4c/domain.tf\n",
      "  0.06s   function             from /Users/dirk/github/text-fabric-data/hebrew/etcbc4c/function.tf\n",
      "  0.06s   functional_parent    from /Users/dirk/github/text-fabric-data/hebrew/etcbc4c/functional_parent.tf\n",
      "  0.06s   g_cons               from /Users/dirk/github/text-fabric-data/hebrew/etcbc4c/g_cons.tf\n",
      "  0.07s   g_cons_utf8          from /Users/dirk/github/text-fabric-data/hebrew/etcbc4c/g_cons_utf8.tf\n",
      "  0.07s   g_lex                from /Users/dirk/github/text-fabric-data/hebrew/etcbc4c/g_lex.tf\n",
      "  0.07s   g_lex_utf8           from /Users/dirk/github/text-fabric-data/hebrew/etcbc4c/g_lex_utf8.tf\n",
      "  0.07s   g_nme                from /Users/dirk/github/text-fabric-data/hebrew/etcbc4c/g_nme.tf\n",
      "  0.07s   g_nme_utf8           from /Users/dirk/github/text-fabric-data/hebrew/etcbc4c/g_nme_utf8.tf\n",
      "  0.07s   g_pfm                from /Users/dirk/github/text-fabric-data/hebrew/etcbc4c/g_pfm.tf\n",
      "  0.08s   g_pfm_utf8           from /Users/dirk/github/text-fabric-data/hebrew/etcbc4c/g_pfm_utf8.tf\n",
      "  0.08s   g_prs                from /Users/dirk/github/text-fabric-data/hebrew/etcbc4c/g_prs.tf\n",
      "  0.08s   g_prs_utf8           from /Users/dirk/github/text-fabric-data/hebrew/etcbc4c/g_prs_utf8.tf\n",
      "  0.08s   g_uvf                from /Users/dirk/github/text-fabric-data/hebrew/etcbc4c/g_uvf.tf\n",
      "  0.09s   g_uvf_utf8           from /Users/dirk/github/text-fabric-data/hebrew/etcbc4c/g_uvf_utf8.tf\n",
      "  0.09s   g_vbe                from /Users/dirk/github/text-fabric-data/hebrew/etcbc4c/g_vbe.tf\n",
      "  0.09s   g_vbe_utf8           from /Users/dirk/github/text-fabric-data/hebrew/etcbc4c/g_vbe_utf8.tf\n",
      "  0.09s   g_vbs                from /Users/dirk/github/text-fabric-data/hebrew/etcbc4c/g_vbs.tf\n",
      "  0.10s   g_vbs_utf8           from /Users/dirk/github/text-fabric-data/hebrew/etcbc4c/g_vbs_utf8.tf\n",
      "  0.10s   g_voc_lex            from /Users/dirk/github/text-fabric-data/hebrew/etcbc4c/g_voc_lex.tf\n",
      "  0.10s   g_voc_lex_utf8       from /Users/dirk/github/text-fabric-data/hebrew/etcbc4c/g_voc_lex_utf8.tf\n",
      "  0.11s   g_word               from /Users/dirk/github/text-fabric-data/hebrew/etcbc4c/g_word.tf\n",
      "  0.11s   g_word_utf8          from /Users/dirk/github/text-fabric-data/hebrew/etcbc4c/g_word_utf8.tf\n",
      "  0.11s   gn                   from /Users/dirk/github/text-fabric-data/hebrew/etcbc4c/gn.tf\n",
      "  0.11s   is_root              from /Users/dirk/github/text-fabric-data/hebrew/etcbc4c/is_root.tf\n",
      "  0.11s   kind                 from /Users/dirk/github/text-fabric-data/hebrew/etcbc4c/kind.tf\n",
      "  0.12s   label                from /Users/dirk/github/text-fabric-data/hebrew/etcbc4c/label.tf\n",
      "  0.12s   language             from /Users/dirk/github/text-fabric-data/hebrew/etcbc4c/language.tf\n",
      "  0.12s   lex                  from /Users/dirk/github/text-fabric-data/hebrew/etcbc4c/lex.tf\n",
      "  0.13s   lex_utf8             from /Users/dirk/github/text-fabric-data/hebrew/etcbc4c/lex_utf8.tf\n",
      "  0.14s   ls                   from /Users/dirk/github/text-fabric-data/hebrew/etcbc4c/ls.tf\n",
      "  0.14s   mother               from /Users/dirk/github/text-fabric-data/hebrew/etcbc4c/mother.tf\n",
      "  0.14s   mother_object_type   from /Users/dirk/github/text-fabric-data/hebrew/etcbc4c/mother_object_type.tf\n",
      "  0.14s   nme                  from /Users/dirk/github/text-fabric-data/hebrew/etcbc4c/nme.tf\n",
      "  0.14s   nu                   from /Users/dirk/github/text-fabric-data/hebrew/etcbc4c/nu.tf\n",
      "  0.15s   number               from /Users/dirk/github/text-fabric-data/hebrew/etcbc4c/number.tf\n",
      "  0.16s   oslots               from /Users/dirk/github/text-fabric-data/hebrew/etcbc4c/oslots.tf\n",
      "  0.16s   otype                from /Users/dirk/github/text-fabric-data/hebrew/etcbc4c/otype.tf\n",
      "  0.16s   pdp                  from /Users/dirk/github/text-fabric-data/hebrew/etcbc4c/pdp.tf\n",
      "  0.17s   pfm                  from /Users/dirk/github/text-fabric-data/hebrew/etcbc4c/pfm.tf\n",
      "  0.17s   prs                  from /Users/dirk/github/text-fabric-data/hebrew/etcbc4c/prs.tf\n",
      "  0.17s   prs_gn               from /Users/dirk/github/text-fabric-data/hebrew/etcbc4c/prs_gn.tf\n",
      "  0.18s   prs_nu               from /Users/dirk/github/text-fabric-data/hebrew/etcbc4c/prs_nu.tf\n",
      "  0.18s   prs_ps               from /Users/dirk/github/text-fabric-data/hebrew/etcbc4c/prs_ps.tf\n",
      "  0.18s   ps                   from /Users/dirk/github/text-fabric-data/hebrew/etcbc4c/ps.tf\n",
      "  0.19s   qere                 from /Users/dirk/github/text-fabric-data/hebrew/etcbc4c/qere.tf\n",
      "  0.19s   qere_utf8            from /Users/dirk/github/text-fabric-data/hebrew/etcbc4c/qere_utf8.tf\n",
      "  0.19s   rela                 from /Users/dirk/github/text-fabric-data/hebrew/etcbc4c/rela.tf\n",
      "  0.19s   sp                   from /Users/dirk/github/text-fabric-data/hebrew/etcbc4c/sp.tf\n",
      "  0.20s   st                   from /Users/dirk/github/text-fabric-data/hebrew/etcbc4c/st.tf\n",
      "  0.20s   tab                  from /Users/dirk/github/text-fabric-data/hebrew/etcbc4c/tab.tf\n",
      "  0.20s   trailer              from /Users/dirk/github/text-fabric-data/hebrew/etcbc4c/trailer.tf\n",
      "  0.21s   trailer_utf8         from /Users/dirk/github/text-fabric-data/hebrew/etcbc4c/trailer_utf8.tf\n",
      "  0.21s   txt                  from /Users/dirk/github/text-fabric-data/hebrew/etcbc4c/txt.tf\n",
      "  0.21s   typ                  from /Users/dirk/github/text-fabric-data/hebrew/etcbc4c/typ.tf\n",
      "  0.21s   uvf                  from /Users/dirk/github/text-fabric-data/hebrew/etcbc4c/uvf.tf\n",
      "  0.22s   vbe                  from /Users/dirk/github/text-fabric-data/hebrew/etcbc4c/vbe.tf\n",
      "  0.22s   vbs                  from /Users/dirk/github/text-fabric-data/hebrew/etcbc4c/vbs.tf\n",
      "  0.23s   verse                from /Users/dirk/github/text-fabric-data/hebrew/etcbc4c/verse.tf\n",
      "  0.23s   vs                   from /Users/dirk/github/text-fabric-data/hebrew/etcbc4c/vs.tf\n",
      "  0.24s   vt                   from /Users/dirk/github/text-fabric-data/hebrew/etcbc4c/vt.tf\n",
      "  0.24s 94 features found\n"
     ]
    }
   ],
   "source": [
    "TF = Fabric(locations=TFDIR)"
   ]
  },
  {
   "cell_type": "markdown",
   "metadata": {},
   "source": [
    "## Preparations"
   ]
  },
  {
   "cell_type": "markdown",
   "metadata": {},
   "source": [
    "### Map slot numbers\n",
    "In TF we make sure that the slots go from 0-maxSlot consecutively.\n",
    "So we have to map the original LAF-Fabric monad numbers\n",
    "to the node numbers of the words in TF."
   ]
  },
  {
   "cell_type": "code",
   "execution_count": 14,
   "metadata": {
    "collapsed": true
   },
   "outputs": [],
   "source": [
    "slotsFromMonad = {}\n",
    "for w in F.otype.s('word'):\n",
    "    m = int(F.monads.v(w))\n",
    "    slotsFromMonad[m] = w"
   ]
  },
  {
   "cell_type": "code",
   "execution_count": 15,
   "metadata": {
    "collapsed": true
   },
   "outputs": [],
   "source": [
    "def slotsFromMonadList(mList): return {slotsFromMonad.get(m, m) for m in mList}"
   ]
  },
  {
   "cell_type": "markdown",
   "metadata": {},
   "source": [
    "## oslots\n",
    "\n",
    "Here is code to write the oslots aedge information in a compact text file."
   ]
  },
  {
   "cell_type": "code",
   "execution_count": 16,
   "metadata": {
    "collapsed": false
   },
   "outputs": [
    {
     "name": "stdout",
     "output_type": "stream",
     "text": [
      "max slot =  426580\n",
      "max node = 1436893\n"
     ]
    }
   ],
   "source": [
    "oslotsData = {}\n",
    "maxSlot = max(n for n in F.otype.s('word'))\n",
    "maxNode = max(n for n in NN())\n",
    "print('max slot = {:>7}\\nmax node = {:>7}'.format(maxSlot, maxNode))\n",
    "\n",
    "for n in range(maxSlot+1, maxNode+1):\n",
    "    oslotsData[n] = slotsFromMonadList(setFromSpec(F.monads.v(n)))"
   ]
  },
  {
   "cell_type": "code",
   "execution_count": 17,
   "metadata": {
    "collapsed": true
   },
   "outputs": [],
   "source": [
    "nodeFeatures=dict(((feat, F.item[feat].lookup) for feat in nodeFeatureList))"
   ]
  },
  {
   "cell_type": "code",
   "execution_count": 18,
   "metadata": {
    "collapsed": false
   },
   "outputs": [],
   "source": [
    "edgeFeatures = {}\n",
    "for ef in edgeFeatureList:    \n",
    "    if ef == 'oslots':\n",
    "        data = oslotsData\n",
    "    else:\n",
    "        data = dict(((n, set(nDict.keys())) for (n, nDict) in C.item[ef].lookup.items()))\n",
    "    edgeFeatures[ef] = data"
   ]
  },
  {
   "cell_type": "code",
   "execution_count": 19,
   "metadata": {
    "collapsed": false
   },
   "outputs": [
    {
     "name": "stdout",
     "output_type": "stream",
     "text": [
      "    24s Exporting 64 node and 4 edge features to /Users/dirk/github/text-fabric-data/hebrew/etcbc4c:\n",
      "   |     0.07s T book                 to /Users/dirk/github/text-fabric-data/hebrew/etcbc4c\n",
      "   |     0.05s T chapter              to /Users/dirk/github/text-fabric-data/hebrew/etcbc4c\n",
      "   |     0.15s T code                 to /Users/dirk/github/text-fabric-data/hebrew/etcbc4c\n",
      "   |     0.88s T det                  to /Users/dirk/github/text-fabric-data/hebrew/etcbc4c\n",
      "   |     1.09s T dist                 to /Users/dirk/github/text-fabric-data/hebrew/etcbc4c\n",
      "   |     1.02s T dist_unit            to /Users/dirk/github/text-fabric-data/hebrew/etcbc4c\n",
      "   |     0.20s T domain               to /Users/dirk/github/text-fabric-data/hebrew/etcbc4c\n",
      "   |     0.43s T function             to /Users/dirk/github/text-fabric-data/hebrew/etcbc4c\n",
      "   |     0.90s T g_cons               to /Users/dirk/github/text-fabric-data/hebrew/etcbc4c\n",
      "   |     0.84s T g_cons_utf8          to /Users/dirk/github/text-fabric-data/hebrew/etcbc4c\n",
      "   |     0.81s T g_lex                to /Users/dirk/github/text-fabric-data/hebrew/etcbc4c\n",
      "   |     0.83s T g_lex_utf8           to /Users/dirk/github/text-fabric-data/hebrew/etcbc4c\n",
      "   |     0.77s T g_nme                to /Users/dirk/github/text-fabric-data/hebrew/etcbc4c\n",
      "   |     0.85s T g_nme_utf8           to /Users/dirk/github/text-fabric-data/hebrew/etcbc4c\n",
      "   |     0.67s T g_pfm                to /Users/dirk/github/text-fabric-data/hebrew/etcbc4c\n",
      "   |     0.77s T g_pfm_utf8           to /Users/dirk/github/text-fabric-data/hebrew/etcbc4c\n",
      "   |     0.64s T g_prs                to /Users/dirk/github/text-fabric-data/hebrew/etcbc4c\n",
      "   |     0.66s T g_prs_utf8           to /Users/dirk/github/text-fabric-data/hebrew/etcbc4c\n",
      "   |     0.63s T g_uvf                to /Users/dirk/github/text-fabric-data/hebrew/etcbc4c\n",
      "   |     0.75s T g_uvf_utf8           to /Users/dirk/github/text-fabric-data/hebrew/etcbc4c\n",
      "   |     0.73s T g_vbe                to /Users/dirk/github/text-fabric-data/hebrew/etcbc4c\n",
      "   |     0.74s T g_vbe_utf8           to /Users/dirk/github/text-fabric-data/hebrew/etcbc4c\n",
      "   |     0.64s T g_vbs                to /Users/dirk/github/text-fabric-data/hebrew/etcbc4c\n",
      "   |     0.74s T g_vbs_utf8           to /Users/dirk/github/text-fabric-data/hebrew/etcbc4c\n",
      "   |     0.68s T g_voc_lex            to /Users/dirk/github/text-fabric-data/hebrew/etcbc4c\n",
      "   |     0.90s T g_voc_lex_utf8       to /Users/dirk/github/text-fabric-data/hebrew/etcbc4c\n",
      "   |     0.84s T g_word               to /Users/dirk/github/text-fabric-data/hebrew/etcbc4c\n",
      "   |     0.85s T g_word_utf8          to /Users/dirk/github/text-fabric-data/hebrew/etcbc4c\n",
      "   |     0.77s T gn                   to /Users/dirk/github/text-fabric-data/hebrew/etcbc4c\n",
      "   |     0.16s T is_root              to /Users/dirk/github/text-fabric-data/hebrew/etcbc4c\n",
      "   |     0.15s T kind                 to /Users/dirk/github/text-fabric-data/hebrew/etcbc4c\n",
      "   |     0.12s T label                to /Users/dirk/github/text-fabric-data/hebrew/etcbc4c\n",
      "   |     0.69s T language             to /Users/dirk/github/text-fabric-data/hebrew/etcbc4c\n",
      "   |     0.69s T lex                  to /Users/dirk/github/text-fabric-data/hebrew/etcbc4c\n",
      "   |     1.02s T lex_utf8             to /Users/dirk/github/text-fabric-data/hebrew/etcbc4c\n",
      "   |     0.67s T ls                   to /Users/dirk/github/text-fabric-data/hebrew/etcbc4c\n",
      "   |     0.35s T mother_object_type   to /Users/dirk/github/text-fabric-data/hebrew/etcbc4c\n",
      "   |     0.66s T nme                  to /Users/dirk/github/text-fabric-data/hebrew/etcbc4c\n",
      "   |     0.66s T nu                   to /Users/dirk/github/text-fabric-data/hebrew/etcbc4c\n",
      "   |     2.01s T number               to /Users/dirk/github/text-fabric-data/hebrew/etcbc4c\n",
      "   |     0.74s T otype                to /Users/dirk/github/text-fabric-data/hebrew/etcbc4c\n",
      "   |     0.91s T pdp                  to /Users/dirk/github/text-fabric-data/hebrew/etcbc4c\n",
      "   |     0.70s T pfm                  to /Users/dirk/github/text-fabric-data/hebrew/etcbc4c\n",
      "   |     0.83s T prs                  to /Users/dirk/github/text-fabric-data/hebrew/etcbc4c\n",
      "   |     0.72s T prs_gn               to /Users/dirk/github/text-fabric-data/hebrew/etcbc4c\n",
      "   |     0.68s T prs_nu               to /Users/dirk/github/text-fabric-data/hebrew/etcbc4c\n",
      "   |     0.69s T prs_ps               to /Users/dirk/github/text-fabric-data/hebrew/etcbc4c\n",
      "   |     0.66s T ps                   to /Users/dirk/github/text-fabric-data/hebrew/etcbc4c\n",
      "   |     0.87s T qere                 to /Users/dirk/github/text-fabric-data/hebrew/etcbc4c\n",
      "   |     0.67s T qere_utf8            to /Users/dirk/github/text-fabric-data/hebrew/etcbc4c\n",
      "   |     1.39s T rela                 to /Users/dirk/github/text-fabric-data/hebrew/etcbc4c\n",
      "   |     0.69s T sp                   to /Users/dirk/github/text-fabric-data/hebrew/etcbc4c\n",
      "   |     0.82s T st                   to /Users/dirk/github/text-fabric-data/hebrew/etcbc4c\n",
      "   |     0.14s T tab                  to /Users/dirk/github/text-fabric-data/hebrew/etcbc4c\n",
      "   |     0.64s T trailer              to /Users/dirk/github/text-fabric-data/hebrew/etcbc4c\n",
      "   |     0.70s T trailer_utf8         to /Users/dirk/github/text-fabric-data/hebrew/etcbc4c\n",
      "   |     0.16s T txt                  to /Users/dirk/github/text-fabric-data/hebrew/etcbc4c\n",
      "   |     1.41s T typ                  to /Users/dirk/github/text-fabric-data/hebrew/etcbc4c\n",
      "   |     0.69s T uvf                  to /Users/dirk/github/text-fabric-data/hebrew/etcbc4c\n",
      "   |     0.67s T vbe                  to /Users/dirk/github/text-fabric-data/hebrew/etcbc4c\n",
      "   |     0.68s T vbs                  to /Users/dirk/github/text-fabric-data/hebrew/etcbc4c\n",
      "   |     0.06s T verse                to /Users/dirk/github/text-fabric-data/hebrew/etcbc4c\n",
      "   |     0.67s T vs                   to /Users/dirk/github/text-fabric-data/hebrew/etcbc4c\n",
      "   |     0.71s T vt                   to /Users/dirk/github/text-fabric-data/hebrew/etcbc4c\n",
      "   |     3.38s T distributional_parent to /Users/dirk/github/text-fabric-data/hebrew/etcbc4c\n",
      "   |     4.56s T functional_parent    to /Users/dirk/github/text-fabric-data/hebrew/etcbc4c\n",
      "   |     0.72s T mother               to /Users/dirk/github/text-fabric-data/hebrew/etcbc4c\n",
      "   |     5.03s T oslots               to /Users/dirk/github/text-fabric-data/hebrew/etcbc4c\n",
      " 1m 22s Exported 0 features to /Users/dirk/github/text-fabric-data/hebrew/etcbc4c:\n"
     ]
    }
   ],
   "source": [
    "TF.save(\n",
    "    nodeFeatures=nodeFeatures,\n",
    "    edgeFeatures=edgeFeatures,\n",
    "    metaData={'': dict(source='ETCBC4c via LAF-Fabric')},\n",
    ")"
   ]
  },
  {
   "cell_type": "markdown",
   "metadata": {
    "collapsed": true
   },
   "source": [
    "# Additional data\n",
    "\n",
    "## Book names international\n",
    "\n",
    "For each language in which book names have been translated, we add a feature `book_ll` where \n",
    "`ll` is the two letter language code.\n",
    "The feature gives for each book node the name of that book in that language."
   ]
  },
  {
   "cell_type": "code",
   "execution_count": 13,
   "metadata": {
    "collapsed": true
   },
   "outputs": [],
   "source": [
    "from etcbc.blang import booklangs, booknames"
   ]
  },
  {
   "cell_type": "code",
   "execution_count": 15,
   "metadata": {
    "collapsed": false
   },
   "outputs": [
    {
     "name": "stdout",
     "output_type": "stream",
     "text": [
      "book@am\n",
      "book@ar\n",
      "book@bn\n",
      "book@da\n",
      "book@de\n",
      "book@el\n",
      "book@en\n",
      "book@es\n",
      "book@fa\n",
      "book@fr\n",
      "book@he\n",
      "book@hi\n",
      "book@id\n",
      "book@ja\n",
      "book@ko\n",
      "book@la\n",
      "book@nl\n",
      "book@pa\n",
      "book@pt\n",
      "book@ru\n",
      "book@sw\n",
      "book@syc\n",
      "book@tr\n",
      "book@ur\n",
      "book@yo\n",
      "book@zh\n",
      "  0.00s Exporting 26 node and 0 edge features to /Users/dirk/github/text-fabric-data/hebrew/etcbc4c:\n",
      "   |     0.00s T book@am              to /Users/dirk/github/text-fabric-data/hebrew/etcbc4c\n",
      "   |     0.00s T book@ar              to /Users/dirk/github/text-fabric-data/hebrew/etcbc4c\n",
      "   |     0.00s T book@bn              to /Users/dirk/github/text-fabric-data/hebrew/etcbc4c\n",
      "   |     0.00s T book@da              to /Users/dirk/github/text-fabric-data/hebrew/etcbc4c\n",
      "   |     0.00s T book@de              to /Users/dirk/github/text-fabric-data/hebrew/etcbc4c\n",
      "   |     0.00s T book@el              to /Users/dirk/github/text-fabric-data/hebrew/etcbc4c\n",
      "   |     0.00s T book@en              to /Users/dirk/github/text-fabric-data/hebrew/etcbc4c\n",
      "   |     0.00s T book@es              to /Users/dirk/github/text-fabric-data/hebrew/etcbc4c\n",
      "   |     0.00s T book@fa              to /Users/dirk/github/text-fabric-data/hebrew/etcbc4c\n",
      "   |     0.00s T book@fr              to /Users/dirk/github/text-fabric-data/hebrew/etcbc4c\n",
      "   |     0.00s T book@he              to /Users/dirk/github/text-fabric-data/hebrew/etcbc4c\n",
      "   |     0.00s T book@hi              to /Users/dirk/github/text-fabric-data/hebrew/etcbc4c\n",
      "   |     0.00s T book@id              to /Users/dirk/github/text-fabric-data/hebrew/etcbc4c\n",
      "   |     0.00s T book@ja              to /Users/dirk/github/text-fabric-data/hebrew/etcbc4c\n",
      "   |     0.00s T book@ko              to /Users/dirk/github/text-fabric-data/hebrew/etcbc4c\n",
      "   |     0.00s T book@la              to /Users/dirk/github/text-fabric-data/hebrew/etcbc4c\n",
      "   |     0.00s T book@nl              to /Users/dirk/github/text-fabric-data/hebrew/etcbc4c\n",
      "   |     0.00s T book@pa              to /Users/dirk/github/text-fabric-data/hebrew/etcbc4c\n",
      "   |     0.00s T book@pt              to /Users/dirk/github/text-fabric-data/hebrew/etcbc4c\n",
      "   |     0.00s T book@ru              to /Users/dirk/github/text-fabric-data/hebrew/etcbc4c\n",
      "   |     0.00s T book@sw              to /Users/dirk/github/text-fabric-data/hebrew/etcbc4c\n",
      "   |     0.00s T book@syc             to /Users/dirk/github/text-fabric-data/hebrew/etcbc4c\n",
      "   |     0.00s T book@tr              to /Users/dirk/github/text-fabric-data/hebrew/etcbc4c\n",
      "   |     0.00s T book@ur              to /Users/dirk/github/text-fabric-data/hebrew/etcbc4c\n",
      "   |     0.00s T book@yo              to /Users/dirk/github/text-fabric-data/hebrew/etcbc4c\n",
      "   |     0.00s T book@zh              to /Users/dirk/github/text-fabric-data/hebrew/etcbc4c\n",
      "  0.06s Exported 26 node features and 0 edge features to /Users/dirk/github/text-fabric-data/hebrew/etcbc4c:\n"
     ]
    }
   ],
   "source": [
    "langs = booklangs['Hebrew']\n",
    "names = booknames['Hebrew']\n",
    "books = [b for b in F.otype.s('book')]\n",
    "bookIndex = dict(((b,i) for (i,b) in enumerate(books)))\n",
    "\n",
    "metaData = {}\n",
    "nodeFeatures = {}\n",
    "for (code, (langEng, langOwn)) in sorted(booklangs['Hebrew'].items()):\n",
    "    fName = 'book@{}'.format(code)\n",
    "    print(fName)\n",
    "    metaData[fName] = dict(\n",
    "        source='blang.py in LAF-Fabric',\n",
    "        languageCode=code,\n",
    "        languageEnglish=langEng,\n",
    "        language=langOwn\n",
    "    )\n",
    "    nodeFeatures[fName] = dict(((b, names[code][bookIndex[b]]) for b in books))\n",
    "\n",
    "TF.save(nodeFeatures=nodeFeatures, metaData=metaData)"
   ]
  },
  {
   "cell_type": "code",
   "execution_count": null,
   "metadata": {
    "collapsed": true
   },
   "outputs": [],
   "source": []
  }
 ],
 "metadata": {
  "kernelspec": {
   "display_name": "Python 3",
   "language": "python",
   "name": "python3"
  },
  "language_info": {
   "codemirror_mode": {
    "name": "ipython",
    "version": 3
   },
   "file_extension": ".py",
   "mimetype": "text/x-python",
   "name": "python",
   "nbconvert_exporter": "python",
   "pygments_lexer": "ipython3",
   "version": "3.5.2"
  }
 },
 "nbformat": 4,
 "nbformat_minor": 1
}
