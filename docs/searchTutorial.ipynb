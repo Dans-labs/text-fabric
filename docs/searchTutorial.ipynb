{
 "cells": [
  {
   "cell_type": "markdown",
   "metadata": {},
   "source": [
    "<img align=\"right\" src=\"tf-small.png\"/>\n",
    "\n",
    "# Search\n",
    "\n",
    "*Search* in Text-Fabric is a template based way of looking for structural patterns in your dataset.\n",
    "\n",
    "It is inspired by the idea of\n",
    "[topographic query](http://books.google.nl/books?id=9ggOBRz1dO4C),\n",
    "as worked out in \n",
    "[MQL](https://shebanq.ancient-data.org/shebanq/static/docs/MQL-Query-Guide.pdf)\n",
    "which has been implemented in \n",
    "[Emdros](http://emdros.org).\n",
    "See also [pitfalls of MQL](https://etcbc.github.io/text-fabric-data/features/hebrew/etcbc4c/0_mql.html)\n",
    "\n",
    "Within Text-Fabric we have the unique possibility to combine the ease of formulating search templates for\n",
    "complicated syntactical patterns with the power of programmatically processing the results.\n",
    "\n",
    "This notebook will show you how to get up and running.\n",
    "\n",
    "# Before we continue\n",
    "Search is a big feature in Text-Fabric.\n",
    "It is also a very recent addition.\n",
    "\n",
    "##### Caution:\n",
    "> There might be bugs.\n",
    "\n",
    "Search is also costly.\n",
    "A lot of work of implementing search has been dedicated to optimize performance.\n",
    "But the search templates are very powerful, and can be very diverse.\n",
    "I do not pretend to have found strategies that work optimally for all search templates.\n",
    "\n",
    "That being said, I think search might turn out useful in many cases, and I welcome your feedback.\n",
    "\n",
    "*Dirk Roorda, 2016-12-23*\n",
    "\n",
    "# Search command\n",
    "\n",
    "It al starts by saying (just an example)\n",
    "\n",
    "```\n",
    "S.study('''\n",
    "# here comes my search template:\n",
    "\n",
    "phrase det=und\n",
    "    w1:word sp=verb gn=f nu=pl ps=p3\n",
    "    w2:word sp=subs\n",
    "    \n",
    "  w1 < w2  \n",
    "''')\n",
    "```\n",
    "\n",
    "See also the complete reference to the\n",
    "[search template syntax](https://github.com/ETCBC/text-fabric/wiki/Api#search-template-syntax).\n",
    "\n",
    "All search related things use the\n",
    "[`S` api](https://github.com/ETCBC/text-fabric/wiki/Api#search)."
   ]
  },
  {
   "cell_type": "code",
   "execution_count": 1,
   "metadata": {
    "collapsed": false
   },
   "outputs": [],
   "source": [
    "%load_ext autoreload\n",
    "%autoreload 2"
   ]
  },
  {
   "cell_type": "code",
   "execution_count": 2,
   "metadata": {
    "collapsed": false
   },
   "outputs": [],
   "source": [
    "from tf.fabric import Fabric"
   ]
  },
  {
   "cell_type": "code",
   "execution_count": 3,
   "metadata": {
    "collapsed": false
   },
   "outputs": [
    {
     "name": "stdout",
     "output_type": "stream",
     "text": [
      "This is Text-Fabric 1.2.7\n",
      "Api reference : https://github.com/ETCBC/text-fabric/wiki/Api\n",
      "Tutorial      : https://github.com/ETCBC/text-fabric/blob/master/docs/tutorial.ipynb\n",
      "Data sources  : https://github.com/ETCBC/text-fabric-data\n",
      "Data docs     : https://etcbc.github.io/text-fabric-data/features/hebrew/etcbc4c/0_overview.html\n",
      "Shebanq docs  : https://shebanq.ancient-data.org/text\n",
      "Slack team    : https://shebanq.slack.com/signup\n",
      "Questions? Ask shebanq@ancient-data.org for an invite to Slack\n",
      "107 features found and 0 ignored\n"
     ]
    }
   ],
   "source": [
    "ETCBC = 'hebrew/etcbc4c'\n",
    "TF = Fabric( modules=ETCBC )"
   ]
  },
  {
   "cell_type": "markdown",
   "metadata": {},
   "source": [
    "Let us just *not* load any specific features."
   ]
  },
  {
   "cell_type": "code",
   "execution_count": 4,
   "metadata": {
    "collapsed": false
   },
   "outputs": [
    {
     "name": "stdout",
     "output_type": "stream",
     "text": [
      "  0.00s loading features ...\n",
      "   |     0.00s Feature overview: 102 nodes; 4 edges; 1 configs; 6 computeds\n",
      "  4.18s All features loaded/computed - for details use loadLog()\n"
     ]
    }
   ],
   "source": [
    "api = TF.load('')\n",
    "api.makeAvailableIn(globals())"
   ]
  },
  {
   "cell_type": "markdown",
   "metadata": {},
   "source": [
    "Here is a simple query to get started.\n",
    "We are interested in two lexemes, but we would also like to fetch the nodes in their context.\n",
    "\n",
    "##### Note\n",
    "> This is not a very good use case, \n",
    "because in Text-Fabric it is easy to find context nodes around your nodes of interest."
   ]
  },
  {
   "cell_type": "code",
   "execution_count": 5,
   "metadata": {
    "collapsed": false
   },
   "outputs": [],
   "source": [
    "query = '''\n",
    "book\n",
    "  chapter\n",
    "    verse\n",
    "      clause\n",
    "        clause_atom\n",
    "          phrase\n",
    "            phrase_atom\n",
    "              word lex=JC/|>JN/\n",
    "'''"
   ]
  },
  {
   "cell_type": "markdown",
   "metadata": {},
   "source": [
    "The next thing to do is to feed it to the search api, which will *study* it.\n",
    "The syntax will be checked, features loaded, the search space will be set up, narrowed down, \n",
    "and the fetching of results will be prepared, but not yet executed."
   ]
  },
  {
   "cell_type": "code",
   "execution_count": 6,
   "metadata": {
    "collapsed": false
   },
   "outputs": [
    {
     "name": "stdout",
     "output_type": "stream",
     "text": [
      "  0.00s Checking search template ...\n",
      "  0.00s loading features ...\n",
      "   |     0.21s B lex                  from /Users/dirk/github/text-fabric-data/hebrew/etcbc4c\n",
      "  0.21s All additional features loaded - for details use loadLog()\n",
      "  0.21s Setting up search space for 8 objects ...\n",
      "  0.94s Constraining search space with 7 relations ...\n",
      "  0.99s Setting up retrieval plan ...\n",
      "  1.01s Ready to deliver results from 5870 nodes\n",
      "Iterate over S.fetch() to get the results\n",
      "See S.showPlan() to interpret the results\n"
     ]
    }
   ],
   "source": [
    "S.study(query)"
   ]
  },
  {
   "cell_type": "markdown",
   "metadata": {},
   "source": [
    "Before we rush to the results, lets have a look at the *plan*."
   ]
  },
  {
   "cell_type": "code",
   "execution_count": 7,
   "metadata": {
    "collapsed": false
   },
   "outputs": [
    {
     "name": "stdout",
     "output_type": "stream",
     "text": [
      "  7.07s The results are connected to the original search template as follows:\n",
      " 0     \n",
      " 1 R0  book\n",
      " 2 R1    chapter\n",
      " 3 R2      verse\n",
      " 4 R3        clause\n",
      " 5 R4          clause_atom\n",
      " 6 R5            phrase\n",
      " 7 R6              phrase_atom\n",
      " 8 R7                word lex=JC/|>JN/\n",
      " 9     \n"
     ]
    }
   ],
   "source": [
    "S.showPlan()"
   ]
  },
  {
   "cell_type": "markdown",
   "metadata": {},
   "source": [
    "Here you see already what your results will look like.\n",
    "Each result `r` is a *tuple* of nodes:\n",
    "```\n",
    "(R0, R1, R2, R3, R4, R5, R6, R7)\n",
    "```\n",
    "that instantiate the objects in your template.\n",
    "\n",
    "## Excursion\n",
    "In case you are curious, you can get details about the search space as well:"
   ]
  },
  {
   "cell_type": "code",
   "execution_count": 8,
   "metadata": {
    "collapsed": false
   },
   "outputs": [
    {
     "name": "stdout",
     "output_type": "stream",
     "text": [
      "Search with 8 objects and 7 relations\n",
      "Results are instantiations of the following objects:\n",
      "node  0-book                              (    39   choices)\n",
      "node  1-chapter                           (   416   choices)\n",
      "node  2-verse                             (   799   choices)\n",
      "node  3-clause                            (   922   choices)\n",
      "node  4-clause_atom                       (   922   choices)\n",
      "node  5-phrase                            (   923   choices)\n",
      "node  6-phrase_atom                       (   923   choices)\n",
      "node  7-word                              (   926   choices)\n",
      "Instantiations are computed along the following relations:\n",
      "node                      0-book          (    39   choices)\n",
      "edge  0-book          [[  1-chapter       (     9.5 choices)\n",
      "edge  1-chapter       [[  2-verse         (     2.0 choices)\n",
      "edge  2-verse         [[  3-clause        (     1.0 choices)\n",
      "edge  3-clause        [[  4-clause_atom   (     1.0 choices)\n",
      "edge  4-clause_atom   [[  5-phrase        (     1.0 choices)\n",
      "edge  5-phrase        [[  6-phrase_atom   (     1.0 choices)\n",
      "edge  6-phrase_atom   [[  7-word          (     1.0 choices)\n",
      "    10s The results are connected to the original search template as follows:\n",
      " 0     \n",
      " 1 R0  book\n",
      " 2 R1    chapter\n",
      " 3 R2      verse\n",
      " 4 R3        clause\n",
      " 5 R4          clause_atom\n",
      " 6 R5            phrase\n",
      " 7 R6              phrase_atom\n",
      " 8 R7                word lex=JC/|>JN/\n",
      " 9     \n"
     ]
    }
   ],
   "source": [
    "S.showPlan(details=True)"
   ]
  },
  {
   "cell_type": "markdown",
   "metadata": {},
   "source": [
    "The part about the *nodes* shows you how many possible instantiations for each object in your template\n",
    "has been found.\n",
    "These are not results yet, because only combinations of instantiations\n",
    "that satisfy all constraints are results.\n",
    "\n",
    "The constraints come from the relations between the objects that you specified.\n",
    "In this case, there are only implicit relations: those of embedding `[[`. \n",
    "Later on we'll examine all basic relations.\n",
    "\n",
    "The part about the *edges* shows you the constraints, and in what order they will be computed\n",
    "when stitching results together.\n",
    "In this case the order is exactly the order by which the relations appear in the template,\n",
    "but that will not always be the case.\n",
    "Text-Fabric spends some time and ingenuity to find out an optimal *stitch plan*.\n",
    "\n",
    "Nevertheless, fetching results may take time. \n",
    "\n",
    "For some queries, it can take a large amount of time to walk through all results.\n",
    "Even worse, it may happen that it takes a large amount of time before getting the *first* result.\n",
    "\n",
    "This has to do with search strategies on the one hand,\n",
    "and the very likely possibility to encounter *pathological* search patterns,\n",
    "which have billions of results, mostly unintended.\n",
    "For example, a simple query that asks for 5 words in the Hebrew Bible without further constraints,\n",
    "will have 425,000 to the power of 5 results.\n",
    "That is 10-e28 (a one with 28 zeroes,\n",
    "roughly the number of molecules in a few hundred litres of air.\n",
    "That may not sound much, but it is 10,000 times the amount of bytes\n",
    "that can be currently stored on the whole internet.\n",
    "\n",
    "Text-Fabric search is not yet done with finding optimal search strategies,\n",
    "and I hope to refine its arsenal of methods in the future, depending on what you report.\n",
    "\n",
    "## Back to business\n",
    "It is always a good idea to get a feel for the amount of results, before you dive into them head-on."
   ]
  },
  {
   "cell_type": "code",
   "execution_count": 9,
   "metadata": {
    "collapsed": false
   },
   "outputs": [
    {
     "name": "stdout",
     "output_type": "stream",
     "text": [
      "  0.00s Counting results per 1 up to 5 ...\n",
      "   |     0.00s 1\n",
      "   |     0.00s 2\n",
      "   |     0.00s 3\n",
      "   |     0.01s 4\n",
      "   |     0.01s 5\n",
      "  0.01s Done: 5 results\n"
     ]
    }
   ],
   "source": [
    "S.count(progress=1, limit=5)"
   ]
  },
  {
   "cell_type": "markdown",
   "metadata": {},
   "source": [
    "We asked for 5 result in total, with a progress message for every one.\n",
    "That was a bit conservative."
   ]
  },
  {
   "cell_type": "code",
   "execution_count": 10,
   "metadata": {
    "collapsed": false
   },
   "outputs": [
    {
     "name": "stdout",
     "output_type": "stream",
     "text": [
      "  0.00s Counting results per 100 up to 500 ...\n",
      "   |     0.02s 100\n",
      "   |     0.05s 200\n",
      "   |     0.07s 300\n",
      "   |     0.12s 400\n",
      "   |     0.15s 500\n",
      "  0.15s Done: 500 results\n"
     ]
    }
   ],
   "source": [
    "S.count(progress=100, limit=500)"
   ]
  },
  {
   "cell_type": "markdown",
   "metadata": {},
   "source": [
    "Still pretty quick, now we want to count all results."
   ]
  },
  {
   "cell_type": "code",
   "execution_count": 11,
   "metadata": {
    "collapsed": false
   },
   "outputs": [
    {
     "name": "stdout",
     "output_type": "stream",
     "text": [
      "  0.00s Counting results per 200 up to  the end of the results ...\n",
      "   |     0.05s 200\n",
      "   |     0.09s 400\n",
      "   |     0.15s 600\n",
      "   |     0.19s 800\n",
      "  0.20s Done: 926 results\n"
     ]
    }
   ],
   "source": [
    "S.count(progress=200, limit=-1)"
   ]
  },
  {
   "cell_type": "markdown",
   "metadata": {},
   "source": [
    "Now it is time to see something of those results."
   ]
  },
  {
   "cell_type": "code",
   "execution_count": 12,
   "metadata": {
    "collapsed": false
   },
   "outputs": [
    {
     "data": {
      "text/plain": [
       "((1367552, 1368104, 1428265, 486532, 576266, 781925, 1045061, 299521),\n",
       " (1367553, 1368106, 1428282, 486600, 576336, 782114, 1045258, 299826),\n",
       " (1367553, 1368107, 1428301, 486694, 576432, 782371, 1045520, 300192),\n",
       " (1367553, 1368108, 1428315, 486756, 576495, 782555, 1045709, 300482),\n",
       " (1367553, 1368108, 1428310, 486735, 576473, 782501, 1045653, 300389),\n",
       " (1367553, 1368109, 1428327, 486823, 576563, 782738, 1045900, 300764),\n",
       " (1367553, 1368111, 1428352, 486915, 576657, 782998, 1046167, 301139),\n",
       " (1367553, 1368111, 1428351, 486910, 576652, 782986, 1046155, 301122),\n",
       " (1367554, 1368113, 1428393, 487091, 576838, 783442, 1046621, 301774),\n",
       " (1367554, 1368113, 1428394, 487094, 576841, 783449, 1046628, 301781))"
      ]
     },
     "execution_count": 12,
     "metadata": {},
     "output_type": "execute_result"
    }
   ],
   "source": [
    "S.fetch(amount=10)"
   ]
  },
  {
   "cell_type": "markdown",
   "metadata": {},
   "source": [
    "Not very informative.\n",
    "Just a quick observation: look at the last column.\n",
    "These are the result nodes for the `word` part in the query, indicated as `R7` by `showPlan()` before.\n",
    "And indeed, they are all below 425,000, the number of words in the Hebrew Bible.\n",
    "\n",
    "Nevertheless, we want to glean a bit more information off them."
   ]
  },
  {
   "cell_type": "code",
   "execution_count": 13,
   "metadata": {
    "collapsed": false
   },
   "outputs": [
    {
     "name": "stdout",
     "output_type": "stream",
     "text": [
      "  Jonah 4:11 clause[אֲשֶׁ֣ר יֶשׁ־בָּ֡הּ ] clause_atom[אֲשֶׁ֣ר יֶשׁ־בָּ֡הּ ] phrase[יֶשׁ־] phrase_atom[יֶשׁ־] \n",
      "  Micah 2:1 clause[כִּ֥י יֶשׁ־לְאֵ֖ל יָדָֽם׃ ] clause_atom[כִּ֥י יֶשׁ־לְאֵ֖ל יָדָֽם׃ ] phrase[יֶשׁ־] phrase_atom[יֶשׁ־] \n",
      "  Micah 3:7 clause[כִּ֛י אֵ֥ין מַעֲנֵ֖ה אֱלֹהִֽים׃ ] clause_atom[כִּ֛י אֵ֥ין מַעֲנֵ֖ה אֱלֹהִֽים׃ ] phrase[אֵ֥ין ] phrase_atom[אֵ֥ין ] \n",
      "  Micah 4:9 clause[הֲמֶ֣לֶךְ אֵֽין־בָּ֗ךְ ] clause_atom[הֲמֶ֣לֶךְ אֵֽין־בָּ֗ךְ ] phrase[אֵֽין־] phrase_atom[אֵֽין־] \n",
      "  Micah 4:4 clause[וְאֵ֣ין מַחֲרִ֑יד ] clause_atom[וְאֵ֣ין מַחֲרִ֑יד ] phrase[אֵ֣ין ] phrase_atom[אֵ֣ין ] \n",
      "  Micah 5:7 clause[וְאֵ֥ין מַצִּֽיל׃ ] clause_atom[וְאֵ֥ין מַצִּֽיל׃ ] phrase[אֵ֥ין ] phrase_atom[אֵ֥ין ] \n",
      "  Micah 7:2 clause[וְיָשָׁ֥ר בָּאָדָ֖ם ...] clause_atom[וְיָשָׁ֥ר בָּאָדָ֖ם ...] phrase[אָ֑יִן ] phrase_atom[אָ֑יִן ] \n",
      "  Micah 7:1 clause[אֵין־אֶשְׁכֹּ֣ול ] clause_atom[אֵין־אֶשְׁכֹּ֣ול ] phrase[אֵין־] phrase_atom[אֵין־] \n",
      "  Nahum 2:9 clause[וְאֵ֥ין מַפְנֶֽה׃ ] clause_atom[וְאֵ֥ין מַפְנֶֽה׃ ] phrase[אֵ֥ין ] phrase_atom[אֵ֥ין ] \n",
      "  Nahum 2:10 clause[וְאֵ֥ין קֵ֨צֶה֙ לַ...] clause_atom[וְאֵ֥ין קֵ֨צֶה֙ לַ...] phrase[אֵ֥ין ] phrase_atom[אֵ֥ין ] \n"
     ]
    }
   ],
   "source": [
    "for r in S.fetch(amount=10):\n",
    "    print(S.glean(r))"
   ]
  },
  {
   "cell_type": "markdown",
   "metadata": {},
   "source": [
    "##### Caution\n",
    "> It is not possible to do `len(S.fetch())`.\n",
    "Because it is a *generator*, not a list.\n",
    "It will deliver a result every time it is being asked and for as long as there are results,\n",
    "but it does not know in advance how many there will be.\n",
    "\n",
    ">Fetching a result can be costly, because due to the constraints, a lot of possibilities\n",
    "may have to be tried and rejected before a the next result is found.\n",
    "\n",
    "> That is why you often see results coming in at varying speeds when counting them."
   ]
  },
  {
   "cell_type": "markdown",
   "metadata": {},
   "source": [
    "This search template has some pretty tight constraints on one of its objects,\n",
    "so the amount of data to dealt with it pretty limited.\n",
    "\n",
    "Let us turn to a template where this is not so."
   ]
  },
  {
   "cell_type": "code",
   "execution_count": 14,
   "metadata": {
    "collapsed": false
   },
   "outputs": [],
   "source": [
    "query = '''\n",
    "# test\n",
    "# verse book=Genesis chapter=2 verse=25\n",
    "verse\n",
    "  clause\n",
    "                                 \n",
    "    p1:phrase\n",
    "        w1:word\n",
    "        w3:word\n",
    "        w1 < w3\n",
    "\n",
    "    p2:phrase\n",
    "        w2:word\n",
    "        w1 < w2 \n",
    "        w3 > w2\n",
    "    \n",
    "    p1 # p2   \n",
    "'''"
   ]
  },
  {
   "cell_type": "markdown",
   "metadata": {},
   "source": [
    "A couple of remarks.\n",
    "\n",
    "* some objects have got a name\n",
    "* there are additional relations specified between named objects\n",
    "* `<` means: *comes before*, and `>`: *comes after*\n",
    "* `#` means: *is not the same thing*\n",
    "* later on we describe those relations in more detail\n",
    "\n",
    "##### Note on order\n",
    "> Look at the words `w1` and `w3` below phrase `p1`.\n",
    "Although in the template `w1` comes before `w2`, this is not \n",
    "translated in a search constraint of the same nature.\n",
    "\n",
    "> Order between objects in a template is never significant, only embedding is.\n",
    "\n",
    "Because order is not significant, you have to specify order relations yourself.\n",
    "\n",
    "It turns out that this is better than the other way around.\n",
    "In MQL order *is* significant, and it is very difficult to \n",
    "search for `w1` and `w2` in any order.\n",
    "\n",
    "##### Note on gaps\n",
    "> Look at the phrases `p1` and `p2`.\n",
    "We do not specify an order here, only that they are different.\n",
    "There are many spatial relationships possible between different objects.\n",
    "In many cases, neither the one comes before the other, nor vice versa.\n",
    "They can overlap, one can occur in a gap of the other, they can be completely disjoint\n",
    "and interleaved, etc.\n",
    "\n",
    "> When we use `#`, we say: it does not matter what their spatial configuration is,\n",
    "as long as they are not the same."
   ]
  },
  {
   "cell_type": "code",
   "execution_count": 15,
   "metadata": {
    "collapsed": false
   },
   "outputs": [
    {
     "name": "stdout",
     "output_type": "stream",
     "text": [
      "  0.00s Checking search template ...\n",
      "  0.00s Setting up search space for 7 objects ...\n",
      "  0.51s Constraining search space with 10 relations ...\n",
      "  0.54s Setting up retrieval plan ...\n",
      "  0.60s Ready to deliver results from 1897304 nodes\n",
      "Iterate over S.fetch() to get the results\n",
      "See S.showPlan() to interpret the results\n"
     ]
    }
   ],
   "source": [
    "S.study(query)"
   ]
  },
  {
   "cell_type": "markdown",
   "metadata": {},
   "source": [
    "That was quick!\n",
    "Well, Text-Fabric knows that narrowing down the search space in this case would take ages,\n",
    "without resulting in a significantly shrunken space.\n",
    "So it skips doing so for most constraints.\n",
    "\n",
    "Let us see the plan, with details."
   ]
  },
  {
   "cell_type": "code",
   "execution_count": 16,
   "metadata": {
    "collapsed": false
   },
   "outputs": [
    {
     "name": "stdout",
     "output_type": "stream",
     "text": [
      "Search with 7 objects and 10 relations\n",
      "Results are instantiations of the following objects:\n",
      "node  0-verse                             ( 23213   choices)\n",
      "node  1-clause                            ( 88000   choices)\n",
      "node  2-phrase                            (253174   choices)\n",
      "node  3-word                              (426581   choices)\n",
      "node  4-word                              (426581   choices)\n",
      "node  5-phrase                            (253174   choices)\n",
      "node  6-word                              (426581   choices)\n",
      "Instantiations are computed along the following relations:\n",
      "node                      0-verse         ( 23213   choices)\n",
      "edge  0-verse         [[  1-clause        (     3.4 choices)\n",
      "edge  1-clause        [[  5-phrase        (     2.4 choices)\n",
      "edge  5-phrase        [[  6-word          (     1.4 choices)\n",
      "edge  1-clause        [[  2-phrase        (     3.3 choices)\n",
      "edge  2-phrase        #   5-phrase        (252920.8 choices)\n",
      "edge  2-phrase        [[  4-word          (     1.7 choices)\n",
      "edge  4-word          >   6-word          (213290.5 choices)\n",
      "edge  2-phrase        [[  3-word          (     1.8 choices)\n",
      "edge  3-word          <   6-word          (213290.5 choices)\n",
      "edge  3-word          <   4-word          (213290.5 choices)\n",
      "  4.46s The results are connected to the original search template as follows:\n",
      " 0     \n",
      " 1     # test\n",
      " 2     # verse book=Genesis chapter=2 verse=25\n",
      " 3 R0  verse\n",
      " 4 R1    clause\n",
      " 5                                      \n",
      " 6 R2      p1:phrase\n",
      " 7 R3          w1:word\n",
      " 8 R4          w3:word\n",
      " 9             w1 < w3\n",
      "10     \n",
      "11 R5      p2:phrase\n",
      "12 R6          w2:word\n",
      "13             w1 < w2 \n",
      "14             w3 > w2\n",
      "15         \n",
      "16         p1 # p2   \n",
      "17     \n"
     ]
    }
   ],
   "source": [
    "S.showPlan(details=True)"
   ]
  },
  {
   "cell_type": "markdown",
   "metadata": {},
   "source": [
    "As you see, we have a hefty search space here.\n",
    "Let us play with the `count()` function."
   ]
  },
  {
   "cell_type": "code",
   "execution_count": 17,
   "metadata": {
    "collapsed": false
   },
   "outputs": [
    {
     "name": "stdout",
     "output_type": "stream",
     "text": [
      "  0.00s Counting results per 10 up to 100 ...\n",
      "   |     0.21s 10\n",
      "   |     0.21s 20\n",
      "   |     0.21s 30\n",
      "   |     0.26s 40\n",
      "   |     0.26s 50\n",
      "   |     0.27s 60\n",
      "   |     0.30s 70\n",
      "   |     0.30s 80\n",
      "   |     0.30s 90\n",
      "   |     0.30s 100\n",
      "  0.31s Done: 100 results\n"
     ]
    }
   ],
   "source": [
    "S.count(progress=10, limit=100)"
   ]
  },
  {
   "cell_type": "markdown",
   "metadata": {},
   "source": [
    "We can be bolder than this!"
   ]
  },
  {
   "cell_type": "code",
   "execution_count": 18,
   "metadata": {
    "collapsed": false
   },
   "outputs": [
    {
     "name": "stdout",
     "output_type": "stream",
     "text": [
      "  0.00s Counting results per 100 up to 1000 ...\n",
      "   |     0.26s 100\n",
      "   |     0.32s 200\n",
      "   |     0.32s 300\n",
      "   |     0.59s 400\n",
      "   |     0.74s 500\n",
      "   |     0.76s 600\n",
      "   |     0.93s 700\n",
      "   |     1.11s 800\n",
      "   |     1.34s 900\n",
      "   |     1.47s 1000\n",
      "  1.47s Done: 1000 results\n"
     ]
    }
   ],
   "source": [
    "S.count(progress=100, limit=1000)"
   ]
  },
  {
   "cell_type": "markdown",
   "metadata": {},
   "source": [
    "Ok, not too bad, but note that it takes a big fraction of a second to get just 100 results.\n",
    "\n",
    "Now let us go for all of them by the thousand."
   ]
  },
  {
   "cell_type": "code",
   "execution_count": 19,
   "metadata": {
    "collapsed": false
   },
   "outputs": [
    {
     "name": "stdout",
     "output_type": "stream",
     "text": [
      "  0.00s Counting results per 1000 up to  the end of the results ...\n",
      "   |     1.37s 1000\n",
      "   |     2.23s 2000\n",
      "   |     3.77s 3000\n",
      "   |     4.47s 4000\n",
      "   |     5.80s 5000\n",
      "   |     7.41s 6000\n",
      "   |       11s 7000\n",
      "    13s Done: 7512 results\n"
     ]
    }
   ],
   "source": [
    "S.count(progress=1000, limit=-1)"
   ]
  },
  {
   "cell_type": "markdown",
   "metadata": {},
   "source": [
    "See? This is substantial work."
   ]
  },
  {
   "cell_type": "code",
   "execution_count": 20,
   "metadata": {
    "collapsed": false
   },
   "outputs": [
    {
     "name": "stdout",
     "output_type": "stream",
     "text": [
      "Genesis 2:25 clause[וַיִּֽהְי֤וּ שְׁנֵיהֶם֙ עֲרוּמִּ֔ים הָֽ...] phrase[שְׁנֵיהֶם֙ הָֽאָדָ֖ם וְאִשְׁתֹּ֑ו ]   phrase[עֲרוּמִּ֔ים ] \n",
      "Genesis 2:25 clause[וַיִּֽהְי֤וּ שְׁנֵיהֶם֙ עֲרוּמִּ֔ים הָֽ...] phrase[שְׁנֵיהֶם֙ הָֽאָדָ֖ם וְאִשְׁתֹּ֑ו ]   phrase[עֲרוּמִּ֔ים ] \n",
      "Genesis 2:25 clause[וַיִּֽהְי֤וּ שְׁנֵיהֶם֙ עֲרוּמִּ֔ים הָֽ...] phrase[שְׁנֵיהֶם֙ הָֽאָדָ֖ם וְאִשְׁתֹּ֑ו ]   phrase[עֲרוּמִּ֔ים ] \n",
      "Genesis 2:25 clause[וַיִּֽהְי֤וּ שְׁנֵיהֶם֙ עֲרוּמִּ֔ים הָֽ...] phrase[שְׁנֵיהֶם֙ הָֽאָדָ֖ם וְאִשְׁתֹּ֑ו ]   phrase[עֲרוּמִּ֔ים ] \n",
      "Genesis 4:4 clause[וְהֶ֨בֶל הֵבִ֥יא גַם־ה֛וּא ...] phrase[הֶ֨בֶל גַם־ה֛וּא ]   phrase[הֵבִ֥יא ] \n",
      "Genesis 4:4 clause[וְהֶ֨בֶל הֵבִ֥יא גַם־ה֛וּא ...] phrase[הֶ֨בֶל גַם־ה֛וּא ]   phrase[הֵבִ֥יא ] \n",
      "Genesis 10:21 clause[גַּם־ה֑וּא אֲבִי֙ כָּל־בְּנֵי־...] phrase[גַּם־ה֑וּא אֲחִ֖י יֶ֥פֶת הַ...]   phrase[אֲבִי֙ כָּל־בְּנֵי־עֵ֔בֶר ] \n",
      "Genesis 10:21 clause[גַּם־ה֑וּא אֲבִי֙ כָּל־בְּנֵי־...] phrase[גַּם־ה֑וּא אֲחִ֖י יֶ֥פֶת הַ...]   phrase[אֲבִי֙ כָּל־בְּנֵי־עֵ֔בֶר ] \n",
      "Genesis 10:21 clause[גַּם־ה֑וּא אֲבִי֙ כָּל־בְּנֵי־...] phrase[גַּם־ה֑וּא אֲחִ֖י יֶ֥פֶת הַ...]   phrase[אֲבִי֙ כָּל־בְּנֵי־עֵ֔בֶר ] \n",
      "Genesis 10:21 clause[גַּם־ה֑וּא אֲבִי֙ כָּל־בְּנֵי־...] phrase[גַּם־ה֑וּא אֲחִ֖י יֶ֥פֶת הַ...]   phrase[אֲבִי֙ כָּל־בְּנֵי־עֵ֔בֶר ] \n"
     ]
    }
   ],
   "source": [
    "for r in S.fetch(amount=10):\n",
    "    print(S.glean(r))"
   ]
  },
  {
   "cell_type": "markdown",
   "metadata": {},
   "source": [
    "By the way, here is some code that looks for basically the same phenomenon: a phrase within the\n",
    "gap of another phrase.\n",
    "It does not use search, and it gets a bit more focused results, in much less time.\n",
    "\n",
    "##### Hint\n",
    "> If you are comfortable with programming, and what you look for is fairly generic,\n",
    "you are better off without search, provided you can translate your insight in the\n",
    "data into an effective procedure within Text-Fabric."
   ]
  },
  {
   "cell_type": "code",
   "execution_count": 21,
   "metadata": {
    "collapsed": false
   },
   "outputs": [
    {
     "name": "stdout",
     "output_type": "stream",
     "text": [
      "    44s Getting gapped phrases\n",
      "    49s 369 results\n",
      "(1413737, 426799, 605793, 605794, 1159, 1160, 1164)\n",
      "(1413765, 426921, 606150, 606151, 1720, 1721, 1723)\n",
      "(1413937, 427418, 607746, 607747, 4819, 4821, 4828)\n",
      "(1413997, 427601, 608322, 608323, 5803, 5805, 5809)\n",
      "(1414001, 427616, 608369, 608370, 5868, 5869, 5875)\n",
      "(1414034, 427723, 608705, 608706, 6515, 6521, 6530)\n",
      "(1414086, 427917, 609286, 609287, 7431, 7432, 7437)\n",
      "(1414143, 428159, 609997, 609998, 8502, 8507, 8520)\n",
      "(1414143, 428159, 609997, 609999, 8502, 8508, 8520)\n",
      "(1414172, 428286, 610379, 610380, 9127, 9129, 9133)\n"
     ]
    }
   ],
   "source": [
    "info('Getting gapped phrases')\n",
    "results = []\n",
    "for v in F.otype.s('verse'):\n",
    "    for c in L.d(v, otype='clause'):\n",
    "        ps = L.d(c, otype='phrase')\n",
    "        for p in ps:\n",
    "            words = L.d(p, otype='word')\n",
    "            (bp, ep) = (words[0], words[-1])\n",
    "            for q in ps:\n",
    "                if p == q: continue\n",
    "                bq = L.d(q, 'word')[0]\n",
    "                if bp < bq and bq < ep:\n",
    "                    results.append((v, c, p, q, bp, bq, ep))\n",
    "info('{} results'.format(len(results)))\n",
    "for r in results[0:10]:\n",
    "    print(r)"
   ]
  },
  {
   "cell_type": "markdown",
   "metadata": {},
   "source": [
    "But we can use the pretty printing of `glean()` here as well!"
   ]
  },
  {
   "cell_type": "code",
   "execution_count": 22,
   "metadata": {
    "collapsed": false
   },
   "outputs": [
    {
     "name": "stdout",
     "output_type": "stream",
     "text": [
      "Genesis 2:25 clause[וַיִּֽהְי֤וּ שְׁנֵיהֶם֙ עֲרוּמִּ֔ים הָֽ...] phrase[שְׁנֵיהֶם֙ הָֽאָדָ֖ם וְאִשְׁתֹּ֑ו ] phrase[עֲרוּמִּ֔ים ]   \n",
      "Genesis 4:4 clause[וְהֶ֨בֶל הֵבִ֥יא גַם־ה֛וּא ...] phrase[הֶ֨בֶל גַם־ה֛וּא ] phrase[הֵבִ֥יא ]   \n",
      "Genesis 10:21 clause[גַּם־ה֑וּא אֲבִי֙ כָּל־בְּנֵי־...] phrase[גַּם־ה֑וּא אֲחִ֖י יֶ֥פֶת הַ...] phrase[אֲבִי֙ כָּל־בְּנֵי־עֵ֔בֶר ]   \n",
      "Genesis 12:17 clause[וַיְנַגַּ֨ע יְהוָ֧ה׀ אֶת־פַּרְעֹ֛ה ...] phrase[אֶת־פַּרְעֹ֛ה וְאֶת־בֵּיתֹ֑ו ] phrase[נְגָעִ֥ים גְּדֹלִ֖ים ]   \n",
      "Genesis 13:1 clause[וַיַּעַל֩ אַבְרָ֨ם מִמִּצְרַ֜יִם ...] phrase[אַבְרָ֨ם ה֠וּא וְאִשְׁתֹּ֧ו וְ...] phrase[מִמִּצְרַ֜יִם ]   \n",
      "Genesis 14:16 clause[וְגַם֩ אֶת־לֹ֨וט אָחִ֤יו ...] phrase[גַם֩ אֶת־לֹ֨וט אָחִ֤יו וּ...] phrase[הֵשִׁ֔יב ]   \n",
      "Genesis 17:7 clause[לִהְיֹ֤ות לְךָ֙ לֵֽאלֹהִ֔ים ...] phrase[לְךָ֙ וּֽלְזַרְעֲךָ֖ אַחֲרֶֽיךָ׃ ] phrase[לֵֽאלֹהִ֔ים ]   \n",
      "Genesis 19:4 clause[וְאַנְשֵׁ֨י הָעִ֜יר אַנְשֵׁ֤י ...] phrase[אַנְשֵׁ֨י הָעִ֜יר אַנְשֵׁ֤י סְדֹם֙ ...] phrase[נָסַ֣בּוּ ]   \n",
      "Genesis 19:4 clause[וְאַנְשֵׁ֨י הָעִ֜יר אַנְשֵׁ֤י ...] phrase[אַנְשֵׁ֨י הָעִ֜יר אַנְשֵׁ֤י סְדֹם֙ ...] phrase[עַל־הַבַּ֔יִת ]   \n",
      "Genesis 19:33 clause[וַתַּשְׁקֶ֧יןָ אֶת־אֲבִיהֶ֛ן יַ֖יִן ...] phrase[אֶת־אֲבִיהֶ֛ן ה֑וּא ] phrase[יַ֖יִן ]   \n"
     ]
    }
   ],
   "source": [
    "for r in results[0:10]:\n",
    "    print(S.glean(r))"
   ]
  },
  {
   "cell_type": "markdown",
   "metadata": {},
   "source": [
    "# Testing basic relations\n",
    "\n",
    "Basic relations are about the identity spatial ordering of objects.\n",
    "Are they the same, do they occupy the same slots, do they overlap, is one embedded in the other,\n",
    "does one come before the other?\n",
    "\n",
    "We also have edge features, that specify relationships between nodes.\n",
    "\n",
    "Although the basic relationships are easy to define, and even easy to implement,\n",
    "they may be very costly to use. \n",
    "When searching, most of them have to be computed very many times.\n",
    "\n",
    "Some of them have been precomputed and stored in an index, e.g. the embedding relationships.\n",
    "They can be used without penalty.\n",
    "\n",
    "Other relations are not suitable for precomputing: most inequality relations are of that kind.\n",
    "It would require an enormous amount of storage to precompute for each node the set of nodes that\n",
    "occupy different slots. This type of relation will not be used in narrowing down the search space,\n",
    "which means that it may take more time to get the results.\n",
    "\n",
    "We are going to test all of our basic relationships here.\n",
    "\n",
    "Let us first see what relations we have:"
   ]
  },
  {
   "cell_type": "code",
   "execution_count": 23,
   "metadata": {
    "collapsed": false
   },
   "outputs": [
    {
     "name": "stdout",
     "output_type": "stream",
     "text": [
      "                      = left equal to right (as node)\n",
      "                      # left unequal to right (as node)\n",
      "                      < left before right (in canonical node ordering)\n",
      "                      > left after right (in canonical node ordering)\n",
      "                     == left occupies same slots as right\n",
      "                     && left has overlapping slots with right\n",
      "                     ## left and right do not have the same slot set\n",
      "                     || left and right do not have common slots\n",
      "                     [[ left embeds right\n",
      "                     ]] left embedded in right\n",
      "                     << left completely before right\n",
      "                     >> left completely after right\n",
      "-distributional_parent> edge feature \"distributional_parent\"\n",
      "<distributional_parent- edge feature \"distributional_parent\" (opposite direction)\n",
      "    -functional_parent> edge feature \"functional_parent\"\n",
      "    <functional_parent- edge feature \"functional_parent\" (opposite direction)\n",
      "               -mother> edge feature \"mother\"\n",
      "               <mother- edge feature \"mother\" (opposite direction)\n",
      "The grid feature \"oslots\" cannot be used in searches.\n",
      "Surely, one of the above relations on nodes and/or slots will suit you better!\n"
     ]
    }
   ],
   "source": [
    "print(S.relationLegend)"
   ]
  },
  {
   "cell_type": "markdown",
   "metadata": {},
   "source": [
    "# = (equal as node)\n",
    "\n",
    "The `=` means that both parts are the same node. Left and right are not two things with similar properties,\n",
    "no, they are one and the same thing.\n",
    "\n",
    "Useful if the thing you search for it part of two wildly different patterns."
   ]
  },
  {
   "cell_type": "code",
   "execution_count": 24,
   "metadata": {
    "collapsed": false
   },
   "outputs": [
    {
     "name": "stdout",
     "output_type": "stream",
     "text": [
      "  0.00s Checking search template ...\n",
      "  0.00s loading features ...\n",
      "   |     0.18s B gn                   from /Users/dirk/github/text-fabric-data/hebrew/etcbc4c\n",
      "   |     0.15s B nu                   from /Users/dirk/github/text-fabric-data/hebrew/etcbc4c\n",
      "   |     0.24s B rela                 from /Users/dirk/github/text-fabric-data/hebrew/etcbc4c\n",
      "   |     0.14s B sp                   from /Users/dirk/github/text-fabric-data/hebrew/etcbc4c\n",
      "  0.72s All additional features loaded - for details use loadLog()\n",
      "  0.72s Setting up search space for 10 objects ...\n",
      "  1.59s Constraining search space with 11 relations ...\n",
      "  1.96s Setting up retrieval plan ...\n",
      "  2.00s Ready to deliver results from 327603 nodes\n",
      "Iterate over S.fetch() to get the results\n",
      "See S.showPlan() to interpret the results\n",
      "  2.00s The results are connected to the original search template as follows:\n",
      " 0     \n",
      " 1 R0  v1:verse\n",
      " 2 R1    sentence\n",
      " 3 R2      clause rela=Objc\n",
      " 4 R3        phrase\n",
      " 5 R4          word sp=verb gn=f nu=pl\n",
      " 6 R5  v2:verse\n",
      " 7 R6    sentence\n",
      " 8 R7      c1:clause\n",
      " 9 R8      c2:clause\n",
      "10 R9      c3:clause\n",
      "11         c1 < c2\n",
      "12         c2 < c3\n",
      "13     v1 = v2\n",
      "14     \n",
      "Hosea 4:14 sentence[לֹֽא־אֶפְקֹ֨וד עַל־בְּנֹותֵיכֶ֜ם כִּ֣י ...] clause[כִּ֣י תִזְנֶ֗ינָה ] phrase[תִזְנֶ֗ינָה ]  Hosea 4:14 sentence[לֹֽא־אֶפְקֹ֨וד עַל־בְּנֹותֵיכֶ֜ם כִּ֣י ...] clause[כִּ֣י תִזְנֶ֗ינָה ] clause[וְעַל־כַּלֹּֽותֵיכֶם֙ ] clause[כִּ֣י תְנָאַ֔פְנָה ]\n",
      "Hosea 4:14 sentence[לֹֽא־אֶפְקֹ֨וד עַל־בְּנֹותֵיכֶ֜ם כִּ֣י ...] clause[כִּ֣י תִזְנֶ֗ינָה ] phrase[תִזְנֶ֗ינָה ]  Hosea 4:14 sentence[לֹֽא־אֶפְקֹ֨וד עַל־בְּנֹותֵיכֶ֜ם כִּ֣י ...] clause[לֹֽא־אֶפְקֹ֨וד עַל־בְּנֹותֵיכֶ֜ם ] clause[כִּ֣י תִזְנֶ֗ינָה ] clause[וְעַל־כַּלֹּֽותֵיכֶם֙ ]\n",
      "Hosea 4:14 sentence[לֹֽא־אֶפְקֹ֨וד עַל־בְּנֹותֵיכֶ֜ם כִּ֣י ...] clause[כִּ֣י תִזְנֶ֗ינָה ] phrase[תִזְנֶ֗ינָה ]  Hosea 4:14 sentence[לֹֽא־אֶפְקֹ֨וד עַל־בְּנֹותֵיכֶ֜ם כִּ֣י ...] clause[לֹֽא־אֶפְקֹ֨וד עַל־בְּנֹותֵיכֶ֜ם ] clause[כִּ֣י תִזְנֶ֗ינָה ] clause[כִּ֣י תְנָאַ֔פְנָה ]\n",
      "Hosea 4:14 sentence[לֹֽא־אֶפְקֹ֨וד עַל־בְּנֹותֵיכֶ֜ם כִּ֣י ...] clause[כִּ֣י תִזְנֶ֗ינָה ] phrase[תִזְנֶ֗ינָה ]  Hosea 4:14 sentence[לֹֽא־אֶפְקֹ֨וד עַל־בְּנֹותֵיכֶ֜ם כִּ֣י ...] clause[לֹֽא־אֶפְקֹ֨וד עַל־בְּנֹותֵיכֶ֜ם ] clause[וְעַל־כַּלֹּֽותֵיכֶם֙ ] clause[כִּ֣י תְנָאַ֔פְנָה ]\n",
      "Hosea 4:14 sentence[לֹֽא־אֶפְקֹ֨וד עַל־בְּנֹותֵיכֶ֜ם כִּ֣י ...] clause[כִּ֣י תְנָאַ֔פְנָה ] phrase[תְנָאַ֔פְנָה ]  Hosea 4:14 sentence[לֹֽא־אֶפְקֹ֨וד עַל־בְּנֹותֵיכֶ֜ם כִּ֣י ...] clause[כִּ֣י תִזְנֶ֗ינָה ] clause[וְעַל־כַּלֹּֽותֵיכֶם֙ ] clause[כִּ֣י תְנָאַ֔פְנָה ]\n",
      "Hosea 4:14 sentence[לֹֽא־אֶפְקֹ֨וד עַל־בְּנֹותֵיכֶ֜ם כִּ֣י ...] clause[כִּ֣י תְנָאַ֔פְנָה ] phrase[תְנָאַ֔פְנָה ]  Hosea 4:14 sentence[לֹֽא־אֶפְקֹ֨וד עַל־בְּנֹותֵיכֶ֜ם כִּ֣י ...] clause[לֹֽא־אֶפְקֹ֨וד עַל־בְּנֹותֵיכֶ֜ם ] clause[כִּ֣י תִזְנֶ֗ינָה ] clause[וְעַל־כַּלֹּֽותֵיכֶם֙ ]\n",
      "Hosea 4:14 sentence[לֹֽא־אֶפְקֹ֨וד עַל־בְּנֹותֵיכֶ֜ם כִּ֣י ...] clause[כִּ֣י תְנָאַ֔פְנָה ] phrase[תְנָאַ֔פְנָה ]  Hosea 4:14 sentence[לֹֽא־אֶפְקֹ֨וד עַל־בְּנֹותֵיכֶ֜ם כִּ֣י ...] clause[לֹֽא־אֶפְקֹ֨וד עַל־בְּנֹותֵיכֶ֜ם ] clause[כִּ֣י תִזְנֶ֗ינָה ] clause[כִּ֣י תְנָאַ֔פְנָה ]\n",
      "Hosea 4:14 sentence[לֹֽא־אֶפְקֹ֨וד עַל־בְּנֹותֵיכֶ֜ם כִּ֣י ...] clause[כִּ֣י תְנָאַ֔פְנָה ] phrase[תְנָאַ֔פְנָה ]  Hosea 4:14 sentence[לֹֽא־אֶפְקֹ֨וד עַל־בְּנֹותֵיכֶ֜ם כִּ֣י ...] clause[לֹֽא־אֶפְקֹ֨וד עַל־בְּנֹותֵיכֶ֜ם ] clause[וְעַל־כַּלֹּֽותֵיכֶם֙ ] clause[כִּ֣י תְנָאַ֔פְנָה ]\n",
      "Ezekiel 36:36 sentence[וְיָדְע֣וּ הַגֹּויִ֗ם אֲשֶׁ֣ר ...] clause[הַנֶּ֣הֱרָסֹ֔ות ] phrase[נֶּ֣הֱרָסֹ֔ות ]  Ezekiel 36:36 sentence[וְיָדְע֣וּ הַגֹּויִ֗ם אֲשֶׁ֣ר ...] clause[וְיָדְע֣וּ הַגֹּויִ֗ם ] clause[אֲשֶׁ֣ר יִֽשָּׁאֲרוּ֮ סְבִיבֹותֵיכֶם֒ ] clause[כִּ֣י׀ אֲנִ֣י יְהוָ֗ה בָּנִ֨יתִי֙ ]\n",
      "Ezekiel 36:36 sentence[וְיָדְע֣וּ הַגֹּויִ֗ם אֲשֶׁ֣ר ...] clause[הַנֶּ֣הֱרָסֹ֔ות ] phrase[נֶּ֣הֱרָסֹ֔ות ]  Ezekiel 36:36 sentence[וְיָדְע֣וּ הַגֹּויִ֗ם אֲשֶׁ֣ר ...] clause[וְיָדְע֣וּ הַגֹּויִ֗ם ] clause[אֲשֶׁ֣ר יִֽשָּׁאֲרוּ֮ סְבִיבֹותֵיכֶם֒ ] clause[הַנֶּ֣הֱרָסֹ֔ות ]\n"
     ]
    }
   ],
   "source": [
    "query = '''\n",
    "v1:verse\n",
    "  sentence\n",
    "    clause rela=Objc\n",
    "      phrase\n",
    "        word sp=verb gn=f nu=pl\n",
    "v2:verse\n",
    "  sentence\n",
    "    c1:clause\n",
    "    c2:clause\n",
    "    c3:clause\n",
    "    c1 < c2\n",
    "    c2 < c3\n",
    "v1 = v2\n",
    "'''\n",
    "S.study(query)\n",
    "S.showPlan()\n",
    "for r in S.fetch(amount=10):\n",
    "    print(S.glean(r))"
   ]
  },
  {
   "cell_type": "markdown",
   "metadata": {},
   "source": [
    "# # (unequal as node)\n",
    "\n",
    "`n # m` if `n` and `m` are not the same node.\n",
    "\n",
    "If you write a template, and you know that the one should come before the other,\n",
    "consider using `<` or `>`, which will constrain the results better.\n",
    "\n",
    "We have seen this in action in the search for gapped phrases."
   ]
  },
  {
   "cell_type": "markdown",
   "metadata": {},
   "source": [
    "# < and > (canonical)\n",
    "\n",
    "`n < m` if `n` comes before `m` in the\n",
    "[canonical ordering](https://github.com/ETCBC/text-fabric/wiki/Api#sorting-nodes)\n",
    "of nodes.\n",
    "\n",
    "We have seen them in action before."
   ]
  },
  {
   "cell_type": "markdown",
   "metadata": {},
   "source": [
    "# == (same slots)\n",
    "\n",
    "Two objects are extensionally equal if they occupy exactly the same slots.\n",
    "\n",
    "Quite an expensive relation, as you will see: 30 seconds for 3608 results."
   ]
  },
  {
   "cell_type": "code",
   "execution_count": 25,
   "metadata": {
    "collapsed": false
   },
   "outputs": [
    {
     "name": "stdout",
     "output_type": "stream",
     "text": [
      "  0.00s Checking search template ...\n",
      "  0.00s Setting up search space for 2 objects ...\n",
      "  0.04s Constraining search space with 2 relations ...\n",
      "  0.91s Setting up retrieval plan ...\n",
      "  0.94s Ready to deliver results from 7216 nodes\n",
      "Iterate over S.fetch() to get the results\n",
      "See S.showPlan() to interpret the results\n",
      "  0.94s The results are connected to the original search template as follows:\n",
      " 0     \n",
      " 1 R0  v:verse\n",
      " 2 R1      s:sentence\n",
      " 3     v == s\n",
      " 4     \n",
      "Ecclesiastes 3:12 sentence[יָדַ֕עְתִּי כִּ֛י אֵ֥ין טֹ֖וב בָּ֑ם ...]\n",
      "Ecclesiastes 3:13 sentence[וְגַ֤ם כָּל־הָאָדָם֙ ...]\n",
      "Ecclesiastes 3:18 sentence[אָמַ֤רְתִּֽי אֲנִי֙ בְּלִבִּ֔י עַל־...]\n",
      "Jeremiah 10:17 sentence[אִסְפִּ֥י מֵאֶ֖רֶץ כִּנְעָתֵ֑ךְ יֹשֶׁ֖בֶת ...]\n",
      "Ecclesiastes 3:21 sentence[מִ֣י יֹודֵ֗עַ ר֚וּחַ בְּנֵ֣י הָ...]\n",
      "Jeremiah 10:22 sentence[קֹ֤ול שְׁמוּעָה֙ הִנֵּ֣ה בָאָ֔ה וְ...]\n",
      "Jeremiah 10:23 sentence[יָדַ֣עְתִּי יְהוָ֔ה כִּ֛י לֹ֥א לָ...]\n",
      "Ecclesiastes 4:3 sentence[וְטֹוב֙ מִשְּׁנֵיהֶ֔ם אֵ֥ת ...]\n",
      "Jeremiah 11:1 sentence[הַדָּבָר֙ אֲשֶׁ֣ר הָיָ֣ה אֶֽל־...]\n",
      "Ecclesiastes 4:9 sentence[טֹובִ֥ים הַשְּׁנַ֖יִם מִן־הָ...]\n",
      "  0.00s Counting results per 1000 up to 10000 ...\n",
      "   |     7.86s 1000\n",
      "   |       16s 2000\n",
      "   |       25s 3000\n",
      "    30s Done: 3608 results\n"
     ]
    }
   ],
   "source": [
    "query = '''\n",
    "v:verse\n",
    "    s:sentence\n",
    "v == s\n",
    "'''\n",
    "S.study(query)\n",
    "S.showPlan()\n",
    "for r in S.fetch(amount=10):\n",
    "    print(S.glean(r))\n",
    "S.count(progress=1000, limit=10000)"
   ]
  },
  {
   "cell_type": "markdown",
   "metadata": {},
   "source": [
    "# && (overlap)\n",
    "\n",
    "Two objects overlap if and only if they share at least one slot.\n",
    "This is quite costly to use in some cases."
   ]
  },
  {
   "cell_type": "code",
   "execution_count": 26,
   "metadata": {
    "collapsed": false
   },
   "outputs": [
    {
     "name": "stdout",
     "output_type": "stream",
     "text": [
      "  0.00s Checking search template ...\n",
      "  0.00s Setting up search space for 4 objects ...\n",
      "  0.17s Constraining search space with 5 relations ...\n",
      "  0.80s Setting up retrieval plan ...\n",
      "  1.10s Ready to deliver results from 503971 nodes\n",
      "Iterate over S.fetch() to get the results\n",
      "See S.showPlan() to interpret the results\n",
      "  1.10s The results are connected to the original search template as follows:\n",
      " 0     \n",
      " 1 R0  verse\n",
      " 2 R1      phrase\n",
      " 3 R2        s1:subphrase\n",
      " 4 R3        s2:subphrase\n",
      " 5           s1 # s2\n",
      " 6           s1 && s2\n",
      " 7     \n",
      "Genesis 1:14 phrase[לְאֹתֹת֙ וּלְמֹ֣ועֲדִ֔ים ...] subphrase[לְאֹתֹת֙ וּלְמֹ֣ועֲדִ֔ים ] subphrase[לְאֹתֹת֙ ]\n",
      "Genesis 1:14 phrase[לְאֹתֹת֙ וּלְמֹ֣ועֲדִ֔ים ...] subphrase[לְאֹתֹת֙ ] subphrase[לְאֹתֹת֙ וּלְמֹ֣ועֲדִ֔ים ]\n",
      "Genesis 1:14 phrase[לְאֹתֹת֙ וּלְמֹ֣ועֲדִ֔ים ...] subphrase[לְמֹ֣ועֲדִ֔ים ] subphrase[לְאֹתֹת֙ וּלְמֹ֣ועֲדִ֔ים ]\n",
      "Genesis 1:14 phrase[לְאֹתֹת֙ וּלְמֹ֣ועֲדִ֔ים ...] subphrase[לְאֹתֹת֙ וּלְמֹ֣ועֲדִ֔ים ] subphrase[לְמֹ֣ועֲדִ֔ים ]\n",
      "Genesis 1:14 phrase[לְאֹתֹת֙ וּלְמֹ֣ועֲדִ֔ים ...] subphrase[יָמִ֖ים ] subphrase[לְיָמִ֖ים וְשָׁנִֽים׃ ]\n",
      "Genesis 1:14 phrase[לְאֹתֹת֙ וּלְמֹ֣ועֲדִ֔ים ...] subphrase[שָׁנִֽים׃ ] subphrase[לְיָמִ֖ים וְשָׁנִֽים׃ ]\n",
      "Genesis 1:14 phrase[לְאֹתֹת֙ וּלְמֹ֣ועֲדִ֔ים ...] subphrase[לְיָמִ֖ים וְשָׁנִֽים׃ ] subphrase[יָמִ֖ים ]\n",
      "Genesis 1:14 phrase[לְאֹתֹת֙ וּלְמֹ֣ועֲדִ֔ים ...] subphrase[לְיָמִ֖ים וְשָׁנִֽים׃ ] subphrase[שָׁנִֽים׃ ]\n",
      "Genesis 1:16 phrase[אֶת־שְׁנֵ֥י הַמְּאֹרֹ֖ת הַ...] subphrase[הַמְּאֹרֹ֖ת ] subphrase[הַמְּאֹרֹ֖ת הַגְּדֹלִ֑ים ]\n",
      "Genesis 1:16 phrase[אֶת־שְׁנֵ֥י הַמְּאֹרֹ֖ת הַ...] subphrase[הַגְּדֹלִ֑ים ] subphrase[הַמְּאֹרֹ֖ת הַגְּדֹלִ֑ים ]\n"
     ]
    }
   ],
   "source": [
    "query = '''\n",
    "verse\n",
    "    phrase\n",
    "      s1:subphrase\n",
    "      s2:subphrase\n",
    "      s1 # s2\n",
    "      s1 && s2\n",
    "'''\n",
    "S.study(query)\n",
    "S.showPlan()\n",
    "for r in S.fetch(amount=10):\n",
    "    print(S.glean(r))"
   ]
  },
  {
   "cell_type": "markdown",
   "metadata": {},
   "source": [
    "# ## (not the same slots)\n",
    "\n",
    "True when the two objects in question do not occupy exactly the same set of slots.\n",
    "This is a very loose relationship.\n",
    "\n",
    "It is implemented, but not yet tested, and at the moment I have not a clear use case for it.\n",
    "\n",
    "# || (disjoint slots)\n",
    "\n",
    "True when the two objects in question do not share any slots.\n",
    "This is a rather loose relationship.\n",
    "\n",
    "It is implemented, but not yet tested, and at the moment I have not a clear use case for it."
   ]
  },
  {
   "cell_type": "markdown",
   "metadata": {},
   "source": [
    "# [[ and ]] (embedding)\n",
    "\n",
    "`n [[ m` if object `n` embeds `m`.\n",
    "\n",
    "`n ]] m` if object `n` lies embedded in `n`.\n",
    "\n",
    "These relations are used implicitly in templates when there is indentation:\n",
    "\n",
    "```\n",
    "s:sentence\n",
    "  p:phrase\n",
    "    w1:word gn=f\n",
    "    w2:word gn=m\n",
    "```\n",
    "\n",
    "implicitly states the following embeddings:\n",
    "\n",
    "* `s ]] p`\n",
    "* `p ]] w1`\n",
    "* `p ]] w2`\n",
    "\n",
    "We have seen these relations in action."
   ]
  },
  {
   "cell_type": "markdown",
   "metadata": {},
   "source": [
    "# << and >> (before and after with slots)\n",
    "\n",
    "These relations test whether one object comes before or after an other, in the sense that the slots\n",
    "occupied by the one object ly completely before or after the slots occupied by the other object."
   ]
  },
  {
   "cell_type": "code",
   "execution_count": 27,
   "metadata": {
    "collapsed": false
   },
   "outputs": [
    {
     "name": "stdout",
     "output_type": "stream",
     "text": [
      "  0.00s Checking search template ...\n",
      "  0.00s Setting up search space for 5 objects ...\n",
      "  0.17s Constraining search space with 6 relations ...\n",
      "  0.18s Setting up retrieval plan ...\n",
      "  0.19s Ready to deliver results from 515957 nodes\n",
      "Iterate over S.fetch() to get the results\n",
      "See S.showPlan() to interpret the results\n",
      "  0.20s The results are connected to the original search template as follows:\n",
      " 0     \n",
      " 1 R0  verse\n",
      " 2 R1    sentence\n",
      " 3 R2      c1:clause\n",
      " 4 R3      p:phrase\n",
      " 5 R4      c2:clause\n",
      " 6         c1 << p\n",
      " 7         c2 >> p\n",
      " 8     \n",
      "Genesis 1:11 sentence[תַּֽדְשֵׁ֤א הָאָ֨רֶץ֙ דֶּ֔שֶׁא עֵ֚שֶׂב ...] clause[תַּֽדְשֵׁ֤א הָאָ֨רֶץ֙ דֶּ֔שֶׁא עֵ֚שֶׂב ...] phrase[עֹ֤שֶׂה ] clause[אֲשֶׁ֥ר זַרְעֹו־בֹ֖ו ]\n",
      "Genesis 1:11 sentence[תַּֽדְשֵׁ֤א הָאָ֨רֶץ֙ דֶּ֔שֶׁא עֵ֚שֶׂב ...] clause[תַּֽדְשֵׁ֤א הָאָ֨רֶץ֙ דֶּ֔שֶׁא עֵ֚שֶׂב ...] phrase[פְּרִי֙ ] clause[אֲשֶׁ֥ר זַרְעֹו־בֹ֖ו ]\n",
      "Genesis 1:11 sentence[תַּֽדְשֵׁ֤א הָאָ֨רֶץ֙ דֶּ֔שֶׁא עֵ֚שֶׂב ...] clause[תַּֽדְשֵׁ֤א הָאָ֨רֶץ֙ דֶּ֔שֶׁא עֵ֚שֶׂב ...] phrase[לְמִינֹ֔ו ] clause[אֲשֶׁ֥ר זַרְעֹו־בֹ֖ו ]\n",
      "Genesis 1:11 sentence[תַּֽדְשֵׁ֤א הָאָ֨רֶץ֙ דֶּ֔שֶׁא עֵ֚שֶׂב ...] clause[מַזְרִ֣יעַ זֶ֔רַע ] phrase[עֹ֤שֶׂה ] clause[אֲשֶׁ֥ר זַרְעֹו־בֹ֖ו ]\n",
      "Genesis 1:11 sentence[תַּֽדְשֵׁ֤א הָאָ֨רֶץ֙ דֶּ֔שֶׁא עֵ֚שֶׂב ...] clause[מַזְרִ֣יעַ זֶ֔רַע ] phrase[פְּרִי֙ ] clause[אֲשֶׁ֥ר זַרְעֹו־בֹ֖ו ]\n",
      "Genesis 1:11 sentence[תַּֽדְשֵׁ֤א הָאָ֨רֶץ֙ דֶּ֔שֶׁא עֵ֚שֶׂב ...] clause[מַזְרִ֣יעַ זֶ֔רַע ] phrase[לְמִינֹ֔ו ] clause[אֲשֶׁ֥ר זַרְעֹו־בֹ֖ו ]\n",
      "Genesis 1:12 sentence[וַתֹּוצֵ֨א הָאָ֜רֶץ דֶּ֠שֶׁא ...] clause[מַזְרִ֤יעַ זֶ֨רַע֙ לְמִינֵ֔הוּ ] phrase[עֹ֥שֶׂה ] clause[אֲשֶׁ֥ר זַרְעֹו־בֹ֖ו ]\n",
      "Genesis 1:12 sentence[וַתֹּוצֵ֨א הָאָ֜רֶץ דֶּ֠שֶׁא ...] clause[מַזְרִ֤יעַ זֶ֨רַע֙ לְמִינֵ֔הוּ ] phrase[פְּרִ֛י ] clause[אֲשֶׁ֥ר זַרְעֹו־בֹ֖ו ]\n",
      "Genesis 1:12 sentence[וַתֹּוצֵ֨א הָאָ֜רֶץ דֶּ֠שֶׁא ...] clause[וַתֹּוצֵ֨א הָאָ֜רֶץ דֶּ֠שֶׁא ...] phrase[עֹ֥שֶׂה ] clause[אֲשֶׁ֥ר זַרְעֹו־בֹ֖ו ]\n",
      "Genesis 1:12 sentence[וַתֹּוצֵ֨א הָאָ֜רֶץ דֶּ֠שֶׁא ...] clause[וַתֹּוצֵ֨א הָאָ֜רֶץ דֶּ֠שֶׁא ...] phrase[פְּרִ֛י ] clause[אֲשֶׁ֥ר זַרְעֹו־בֹ֖ו ]\n"
     ]
    }
   ],
   "source": [
    "query = '''\n",
    "verse\n",
    "  sentence\n",
    "    c1:clause\n",
    "    p:phrase\n",
    "    c2:clause\n",
    "    c1 << p\n",
    "    c2 >> p\n",
    "'''\n",
    "S.study(query)\n",
    "S.showPlan()\n",
    "for r in S.fetch(amount=10):\n",
    "    print(S.glean(r))"
   ]
  },
  {
   "cell_type": "code",
   "execution_count": null,
   "metadata": {
    "collapsed": true
   },
   "outputs": [],
   "source": []
  }
 ],
 "metadata": {
  "kernelspec": {
   "display_name": "Python 3",
   "language": "python",
   "name": "python3"
  },
  "language_info": {
   "codemirror_mode": {
    "name": "ipython",
    "version": 3
   },
   "file_extension": ".py",
   "mimetype": "text/x-python",
   "name": "python",
   "nbconvert_exporter": "python",
   "pygments_lexer": "ipython3",
   "version": "3.5.2"
  }
 },
 "nbformat": 4,
 "nbformat_minor": 1
}
