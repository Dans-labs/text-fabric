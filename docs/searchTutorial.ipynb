{
 "cells": [
  {
   "cell_type": "markdown",
   "metadata": {
    "toc": true
   },
   "source": [
    "<h1>Table of Contents<span class=\"tocSkip\"></span></h1>\n",
    "<div class=\"toc\"><ul class=\"toc-item\"><li><span><a href=\"#Caution:\" data-toc-modified-id=\"Caution:-1\"><span class=\"toc-item-num\">1&nbsp;&nbsp;</span>Caution:</a></span></li></ul></div>"
   ]
  },
  {
   "cell_type": "markdown",
   "metadata": {},
   "source": [
    "<img align=\"right\" src=\"tf-small.png\"/>\n",
    "\n",
    "# Search\n",
    "\n",
    "*Search* in Text-Fabric is a template based way of looking for structural patterns in your dataset.\n",
    "\n",
    "It is inspired by the idea of\n",
    "[topographic query](http://books.google.nl/books?id=9ggOBRz1dO4C),\n",
    "as worked out in \n",
    "[MQL](https://shebanq.ancient-data.org/shebanq/static/docs/MQL-Query-Guide.pdf)\n",
    "which has been implemented in \n",
    "[Emdros](http://emdros.org).\n",
    "\n",
    "Search can be used as a streamlined way to extract refined classes of nodes from your corpus.\n",
    "It is often more insightful than obtaining those nodes by hand-coding.\n",
    "\n",
    "Within Text-Fabric we have the unique possibility to combine hand-coding with using search templates\n",
    "at both ends:\n",
    "\n",
    "* we can programmatically compose queries;\n",
    "* we can iterate over the results and refine/enrich them with other information at hand.\n",
    "\n",
    "##### Caution:\n",
    "> Search might be costly\n",
    "\n",
    "Quite a bit of the implementation work has been dedicated to optimize performance.\n",
    "But it is worth the price: search templates are powerful for a wide range of purposes.\n",
    "I do not pretend, however, to have found optimal strategies for all \n",
    "possible search templates.\n",
    "\n",
    "\n",
    "# Search command\n",
    "\n",
    "Search is as simple as saying (just an example)\n",
    "\n",
    "```python\n",
    "for r in S.search(template): print(S.glean(r))\n",
    "```\n",
    "\n",
    "See all ins and outs in the\n",
    "[search template reference](https://dans-labs.github.io/text-fabric/Api/General/#search-templates).\n",
    "\n",
    "While it is a generic feature of TF, we provide tutorials for specific corpora, the Hebrew Bible\n",
    "[bhsa](https://github.com/etcbc/bhsa) and a corpus of proto-cuneiform tablets\n",
    "[uruk](https://github.com/nino-cunei/uruk).\n",
    "because this is a feature best learned by examples.\n",
    "For these corpora we also provide a dedicated API on top of Text-Fabric, which has functions to \n",
    "tabulate and result lists and richly display individual results.\n",
    "\n",
    "* [bhsa search tutorial](http://nbviewer.jupyter.org/github/etcbc/bhsa/blob/master/tutorial/search.ipynb)\n",
    "* [uruk search tutorial](http://nbviewer.jupyter.org/github/nino-cunei/tutorials/blob/master/search.ipynb)\n",
    "\n",
    "# Author\n",
    "\n",
    "Dirk Roorda\n",
    "\n",
    "Updated:\n",
    "\n",
    "* 2018-04-29\n",
    "* 2017-10-10\n",
    "\n",
    "Created: \n",
    "\n",
    "* 2016-12-23"
   ]
  },
  {
   "cell_type": "code",
   "execution_count": null,
   "metadata": {},
   "outputs": [],
   "source": []
  }
 ],
 "metadata": {
  "kernelspec": {
   "display_name": "Python 3",
   "language": "python",
   "name": "python3"
  },
  "language_info": {
   "codemirror_mode": {
    "name": "ipython",
    "version": 3
   },
   "file_extension": ".py",
   "mimetype": "text/x-python",
   "name": "python",
   "nbconvert_exporter": "python",
   "pygments_lexer": "ipython3",
   "version": "3.6.5"
  },
  "toc": {
   "base_numbering": 1,
   "nav_menu": {},
   "number_sections": true,
   "sideBar": true,
   "skip_h1_title": true,
   "title_cell": "Table of Contents",
   "title_sidebar": "Contents",
   "toc_cell": true,
   "toc_position": {},
   "toc_section_display": true,
   "toc_window_display": false
  }
 },
 "nbformat": 4,
 "nbformat_minor": 1
}
