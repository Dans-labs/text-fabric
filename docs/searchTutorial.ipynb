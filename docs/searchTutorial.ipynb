{
 "cells": [
  {
   "cell_type": "markdown",
   "metadata": {},
   "source": [
    "<img align=\"right\" src=\"tf-small.png\"/>\n",
    "\n",
    "# Search\n",
    "\n",
    "*Search* in Text-Fabric is a template based way of looking for structural patterns in your dataset.\n",
    "\n",
    "It is inspired by the idea of\n",
    "[topographic query](http://books.google.nl/books?id=9ggOBRz1dO4C),\n",
    "as worked out in \n",
    "[MQL](https://shebanq.ancient-data.org/shebanq/static/docs/MQL-Query-Guide.pdf)\n",
    "which has been implemented in \n",
    "[Emdros](http://emdros.org).\n",
    "See also [pitfalls of MQL](https://etcbc.github.io/text-fabric-data/features/hebrew/etcbc4c/0_mql.html)\n",
    "\n",
    "Within Text-Fabric we have the unique possibility to combine the ease of formulating search templates for\n",
    "complicated syntactical patterns with the power of programmatically processing the results.\n",
    "\n",
    "This notebook will show you how to get up and running.\n",
    "\n",
    "See the notebook\n",
    "[searchFromMQL](https://github.com/etcbc/text-fabric/blob/master/docs/searchFromMQL.ipynb)\n",
    "for examples how MQL queries can be expressed in Text-Fabric search.\n",
    "\n",
    "# Before we continue\n",
    "Search is a big feature in Text-Fabric.\n",
    "It is also a very recent addition.\n",
    "\n",
    "##### Caution:\n",
    "> There might be bugs.\n",
    "\n",
    "Search is also costly.\n",
    "Quite a bit of the implementation work has been dedicated to optimize performance.\n",
    "But it is worth the price: search templates are powerful for a wide range of purposes.\n",
    "I do not pretend, however, to have found optimal strategies for all \n",
    "possible search templates.\n",
    "\n",
    "That being said, I think search might turn out helpful in many cases,\n",
    "and I welcome your feedback.\n",
    "\n",
    "*Dirk Roorda, 2016-12-23, updates 2017-01-04*\n",
    "\n",
    "# Search command\n",
    "\n",
    "It al starts by saying (just an example)\n",
    "\n",
    "```\n",
    "S.study('''\n",
    "# here comes my search template:\n",
    "\n",
    "clause\n",
    "    p1:phrase det=und\n",
    "        word sp=verb gn=f nu=pl ps=p3\n",
    "        word sp=subs\n",
    "\n",
    "    p2:phrase\n",
    "    \n",
    "  p1 < p2  \n",
    "''')\n",
    "```\n",
    "\n",
    "See all ins and outs in the\n",
    "[search template reference](https://github.com/ETCBC/text-fabric/wiki/Api#search-template-reference).\n",
    "\n",
    "All search related things use the\n",
    "[`S` api](https://github.com/ETCBC/text-fabric/wiki/Api#search)."
   ]
  },
  {
   "cell_type": "code",
   "execution_count": 1,
   "metadata": {
    "collapsed": false
   },
   "outputs": [],
   "source": [
    "%load_ext autoreload\n",
    "%autoreload 2"
   ]
  },
  {
   "cell_type": "code",
   "execution_count": 2,
   "metadata": {
    "collapsed": false
   },
   "outputs": [],
   "source": [
    "from tf.fabric import Fabric"
   ]
  },
  {
   "cell_type": "code",
   "execution_count": 3,
   "metadata": {
    "collapsed": false
   },
   "outputs": [
    {
     "name": "stdout",
     "output_type": "stream",
     "text": [
      "This is Text-Fabric 2.3.1\n",
      "Api reference : https://github.com/ETCBC/text-fabric/wiki/Api\n",
      "Tutorial      : https://github.com/ETCBC/text-fabric/blob/master/docs/tutorial.ipynb\n",
      "Data sources  : https://github.com/ETCBC/text-fabric-data\n",
      "Data docs     : https://etcbc.github.io/text-fabric-data\n",
      "Shebanq docs  : https://shebanq.ancient-data.org/text\n",
      "Slack team    : https://shebanq.slack.com/signup\n",
      "Questions? Ask shebanq@ancient-data.org for an invite to Slack\n",
      "108 features found and 0 ignored\n"
     ]
    }
   ],
   "source": [
    "ETCBC = 'hebrew/etcbc4c'\n",
    "TF = Fabric( modules=ETCBC )"
   ]
  },
  {
   "cell_type": "markdown",
   "metadata": {},
   "source": [
    "Let us just *not* load any specific features."
   ]
  },
  {
   "cell_type": "code",
   "execution_count": 4,
   "metadata": {
    "collapsed": false
   },
   "outputs": [
    {
     "name": "stdout",
     "output_type": "stream",
     "text": [
      "  0.00s loading features ...\n",
      "   |     0.00s Feature overview: 102 nodes; 5 edges; 1 configs; 7 computeds\n",
      "  4.49s All features loaded/computed - for details use loadLog()\n"
     ]
    }
   ],
   "source": [
    "api = TF.load('')\n",
    "api.makeAvailableIn(globals())"
   ]
  },
  {
   "cell_type": "markdown",
   "metadata": {},
   "source": [
    "Here is a simple query to get started.\n",
    "We are interested in two lexemes, but we would also like to fetch the nodes in their context.\n",
    "\n",
    "##### Note\n",
    "> This is not a very good use case, \n",
    "because in Text-Fabric it is easy to find context nodes around your nodes of interest."
   ]
  },
  {
   "cell_type": "code",
   "execution_count": 5,
   "metadata": {
    "collapsed": false
   },
   "outputs": [],
   "source": [
    "query = '''\n",
    "book\n",
    "  chapter\n",
    "    verse\n",
    "      clause\n",
    "        clause_atom\n",
    "          phrase\n",
    "            phrase_atom\n",
    "              word lex=JC/|>JN/\n",
    "'''"
   ]
  },
  {
   "cell_type": "markdown",
   "metadata": {},
   "source": [
    "The next thing to do is to feed it to the search api, which will *study* it.\n",
    "The syntax will be checked, features loaded, the search space will be set up, narrowed down, \n",
    "and the fetching of results will be prepared, but not yet executed."
   ]
  },
  {
   "cell_type": "code",
   "execution_count": 6,
   "metadata": {
    "collapsed": false
   },
   "outputs": [
    {
     "name": "stdout",
     "output_type": "stream",
     "text": [
      "  0.00s Checking search template ...\n",
      "  0.00s loading features ...\n",
      "   |     0.21s B lex                  from /Users/dirk/github/text-fabric-data/hebrew/etcbc4c\n",
      "  0.21s All additional features loaded - for details use loadLog()\n",
      "  0.21s Setting up search space for 8 objects ...\n",
      "  1.00s Constraining search space with 7 relations ...\n",
      "  1.05s Setting up retrieval plan ...\n",
      "  1.08s Ready to deliver results from 5870 nodes\n",
      "Iterate over S.fetch() to get the results\n",
      "See S.showPlan() to interpret the results\n"
     ]
    }
   ],
   "source": [
    "S.study(query)"
   ]
  },
  {
   "cell_type": "markdown",
   "metadata": {},
   "source": [
    "Before we rush to the results, lets have a look at the *plan*."
   ]
  },
  {
   "cell_type": "code",
   "execution_count": 7,
   "metadata": {
    "collapsed": false
   },
   "outputs": [
    {
     "name": "stdout",
     "output_type": "stream",
     "text": [
      "  3.88s The results are connected to the original search template as follows:\n",
      " 0     \n",
      " 1 R0  book\n",
      " 2 R1    chapter\n",
      " 3 R2      verse\n",
      " 4 R3        clause\n",
      " 5 R4          clause_atom\n",
      " 6 R5            phrase\n",
      " 7 R6              phrase_atom\n",
      " 8 R7                word lex=JC/|>JN/\n",
      " 9     \n"
     ]
    }
   ],
   "source": [
    "S.showPlan()"
   ]
  },
  {
   "cell_type": "markdown",
   "metadata": {},
   "source": [
    "Here you see already what your results will look like.\n",
    "Each result `r` is a *tuple* of nodes:\n",
    "```\n",
    "(R0, R1, R2, R3, R4, R5, R6, R7)\n",
    "```\n",
    "that instantiate the objects in your template.\n",
    "\n",
    "## Excursion\n",
    "In case you are curious, you can get details about the search space as well:"
   ]
  },
  {
   "cell_type": "code",
   "execution_count": 8,
   "metadata": {
    "collapsed": false
   },
   "outputs": [
    {
     "name": "stdout",
     "output_type": "stream",
     "text": [
      "Search with 8 objects and 7 relations\n",
      "Results are instantiations of the following objects:\n",
      "node  0-book                              (    39   choices)\n",
      "node  1-chapter                           (   416   choices)\n",
      "node  2-verse                             (   799   choices)\n",
      "node  3-clause                            (   922   choices)\n",
      "node  4-clause_atom                       (   922   choices)\n",
      "node  5-phrase                            (   923   choices)\n",
      "node  6-phrase_atom                       (   923   choices)\n",
      "node  7-word                              (   926   choices)\n",
      "Instantiations are computed along the following relations:\n",
      "node                      0-book          (    39   choices)\n",
      "edge  0-book          [[  1-chapter       (    17.5 choices)\n",
      "edge  1-chapter       [[  2-verse         (     2.0 choices)\n",
      "edge  2-verse         [[  3-clause        (     1.1 choices)\n",
      "edge  3-clause        [[  4-clause_atom   (     1.0 choices)\n",
      "edge  4-clause_atom   [[  5-phrase        (     1.0 choices)\n",
      "edge  5-phrase        [[  6-phrase_atom   (     1.0 choices)\n",
      "edge  6-phrase_atom   [[  7-word          (     1.0 choices)\n",
      "  7.18s The results are connected to the original search template as follows:\n",
      " 0     \n",
      " 1 R0  book\n",
      " 2 R1    chapter\n",
      " 3 R2      verse\n",
      " 4 R3        clause\n",
      " 5 R4          clause_atom\n",
      " 6 R5            phrase\n",
      " 7 R6              phrase_atom\n",
      " 8 R7                word lex=JC/|>JN/\n",
      " 9     \n"
     ]
    }
   ],
   "source": [
    "S.showPlan(details=True)"
   ]
  },
  {
   "cell_type": "markdown",
   "metadata": {},
   "source": [
    "The part about the *nodes* shows you how many possible instantiations for each object in your template\n",
    "has been found.\n",
    "These are not results yet, because only combinations of instantiations\n",
    "that satisfy all constraints are results.\n",
    "\n",
    "The constraints come from the relations between the objects that you specified.\n",
    "In this case, there is only an implicit relation: embedding `[[`. \n",
    "Later on we'll examine all basic relations.\n",
    "\n",
    "The part about the *edges* shows you the constraints,\n",
    "and in what order they will be computed when stitching results together.\n",
    "In this case the order is exactly the order by which the relations appear in the template,\n",
    "but that will not always be the case.\n",
    "Text-Fabric spends some time and ingenuity to find out an optimal *stitch plan*.\n",
    "\n",
    "Nevertheless, fetching results may take time. \n",
    "\n",
    "For some queries, it can take a large amount of time to walk through all results.\n",
    "Even worse, it may happen that it takes a large amount of time before getting the *first* result.\n",
    "\n",
    "This has to do with search strategies on the one hand,\n",
    "and the very likely possibility to encounter *pathological* search patterns,\n",
    "which have billions of results, mostly unintended.\n",
    "For example, a simple query that asks for 5 words in the Hebrew Bible without further constraints,\n",
    "will have 425,000 to the power of 5 results.\n",
    "That is 10-e28 (a one with 28 zeroes),\n",
    "roughly the number of molecules in a few hundred litres of air.\n",
    "That may not sound much, but it is 10,000 times the amount of bytes\n",
    "that can be currently stored on the whole internet.\n",
    "\n",
    "Text-Fabric search is not yet done with finding optimal search strategies,\n",
    "and I hope to refine its arsenal of methods in the future, depending on what you report.\n",
    "\n",
    "## Back to business\n",
    "It is always a good idea to get a feel for the amount of results, before you dive into them head-on."
   ]
  },
  {
   "cell_type": "code",
   "execution_count": 9,
   "metadata": {
    "collapsed": false
   },
   "outputs": [
    {
     "name": "stdout",
     "output_type": "stream",
     "text": [
      "  0.00s Counting results per 1 up to 5 ...\n",
      "   |     0.00s 1\n",
      "   |     0.00s 2\n",
      "   |     0.00s 3\n",
      "   |     0.01s 4\n",
      "   |     0.01s 5\n",
      "  0.01s Done: 5 results\n"
     ]
    }
   ],
   "source": [
    "S.count(progress=1, limit=5)"
   ]
  },
  {
   "cell_type": "markdown",
   "metadata": {},
   "source": [
    "We asked for 5 results in total, with a progress message for every one.\n",
    "That was a bit conservative."
   ]
  },
  {
   "cell_type": "code",
   "execution_count": 10,
   "metadata": {
    "collapsed": false
   },
   "outputs": [
    {
     "name": "stdout",
     "output_type": "stream",
     "text": [
      "  0.00s Counting results per 100 up to 500 ...\n",
      "   |     0.02s 100\n",
      "   |     0.04s 200\n",
      "   |     0.05s 300\n",
      "   |     0.09s 400\n",
      "   |     0.13s 500\n",
      "  0.14s Done: 500 results\n"
     ]
    }
   ],
   "source": [
    "S.count(progress=100, limit=500)"
   ]
  },
  {
   "cell_type": "markdown",
   "metadata": {},
   "source": [
    "Still pretty quick, now we want to count all results."
   ]
  },
  {
   "cell_type": "code",
   "execution_count": 11,
   "metadata": {
    "collapsed": false
   },
   "outputs": [
    {
     "name": "stdout",
     "output_type": "stream",
     "text": [
      "  0.00s Counting results per 200 up to  the end of the results ...\n",
      "   |     0.03s 200\n",
      "   |     0.09s 400\n",
      "   |     0.13s 600\n",
      "   |     0.17s 800\n",
      "  0.20s Done: 926 results\n"
     ]
    }
   ],
   "source": [
    "S.count(progress=200, limit=-1)"
   ]
  },
  {
   "cell_type": "markdown",
   "metadata": {},
   "source": [
    "It is time to see something of those results."
   ]
  },
  {
   "cell_type": "code",
   "execution_count": 12,
   "metadata": {
    "collapsed": false
   },
   "outputs": [
    {
     "data": {
      "text/plain": [
       "((1367552, 1368104, 1428265, 486532, 576266, 781925, 1045061, 299521),\n",
       " (1367553, 1368106, 1428282, 486600, 576336, 782114, 1045258, 299826),\n",
       " (1367553, 1368107, 1428301, 486694, 576432, 782371, 1045520, 300192),\n",
       " (1367553, 1368108, 1428315, 486756, 576495, 782555, 1045709, 300482),\n",
       " (1367553, 1368108, 1428310, 486735, 576473, 782501, 1045653, 300389),\n",
       " (1367553, 1368109, 1428327, 486823, 576563, 782738, 1045900, 300764),\n",
       " (1367553, 1368111, 1428352, 486915, 576657, 782998, 1046167, 301139),\n",
       " (1367553, 1368111, 1428351, 486910, 576652, 782986, 1046155, 301122),\n",
       " (1367554, 1368113, 1428393, 487091, 576838, 783442, 1046621, 301774),\n",
       " (1367554, 1368113, 1428394, 487094, 576841, 783449, 1046628, 301781))"
      ]
     },
     "execution_count": 12,
     "metadata": {},
     "output_type": "execute_result"
    }
   ],
   "source": [
    "S.fetch(amount=10)"
   ]
  },
  {
   "cell_type": "markdown",
   "metadata": {},
   "source": [
    "Not very informative.\n",
    "Just a quick observation: look at the last column.\n",
    "These are the result nodes for the `word` part in the query, indicated as `R7` by `showPlan()` before.\n",
    "And indeed, they are all below 425,000, the number of words in the Hebrew Bible.\n",
    "\n",
    "Nevertheless, we want to glean a bit more information off them."
   ]
  },
  {
   "cell_type": "code",
   "execution_count": 13,
   "metadata": {
    "collapsed": false
   },
   "outputs": [
    {
     "name": "stdout",
     "output_type": "stream",
     "text": [
      "  Jonah 4:11 clause[אֲשֶׁ֣ר יֶשׁ־בָּ֡הּ ] clause_atom[אֲשֶׁ֣ר יֶשׁ־בָּ֡הּ ] phrase[יֶשׁ־] phrase_atom[יֶשׁ־] יֶשׁ־\n",
      "  Micah 2:1 clause[כִּ֥י יֶשׁ־לְאֵ֖ל יָדָֽם׃ ] clause_atom[כִּ֥י יֶשׁ־לְאֵ֖ל יָדָֽם׃ ] phrase[יֶשׁ־] phrase_atom[יֶשׁ־] יֶשׁ־\n",
      "  Micah 3:7 clause[כִּ֛י אֵ֥ין מַעֲנֵ֖ה אֱלֹהִֽים׃ ] clause_atom[כִּ֛י אֵ֥ין מַעֲנֵ֖ה אֱלֹהִֽים׃ ] phrase[אֵ֥ין ] phrase_atom[אֵ֥ין ] אֵ֥ין \n",
      "  Micah 4:9 clause[הֲמֶ֣לֶךְ אֵֽין־בָּ֗ךְ ] clause_atom[הֲמֶ֣לֶךְ אֵֽין־בָּ֗ךְ ] phrase[אֵֽין־] phrase_atom[אֵֽין־] אֵֽין־\n",
      "  Micah 4:4 clause[וְאֵ֣ין מַחֲרִ֑יד ] clause_atom[וְאֵ֣ין מַחֲרִ֑יד ] phrase[אֵ֣ין ] phrase_atom[אֵ֣ין ] אֵ֣ין \n",
      "  Micah 5:7 clause[וְאֵ֥ין מַצִּֽיל׃ ] clause_atom[וְאֵ֥ין מַצִּֽיל׃ ] phrase[אֵ֥ין ] phrase_atom[אֵ֥ין ] אֵ֥ין \n",
      "  Micah 7:2 clause[וְיָשָׁ֥ר בָּאָדָ֖ם ...] clause_atom[וְיָשָׁ֥ר בָּאָדָ֖ם ...] phrase[אָ֑יִן ] phrase_atom[אָ֑יִן ] אָ֑יִן \n",
      "  Micah 7:1 clause[אֵין־אֶשְׁכֹּ֣ול ] clause_atom[אֵין־אֶשְׁכֹּ֣ול ] phrase[אֵין־] phrase_atom[אֵין־] אֵין־\n",
      "  Nahum 2:9 clause[וְאֵ֥ין מַפְנֶֽה׃ ] clause_atom[וְאֵ֥ין מַפְנֶֽה׃ ] phrase[אֵ֥ין ] phrase_atom[אֵ֥ין ] אֵ֥ין \n",
      "  Nahum 2:10 clause[וְאֵ֥ין קֵ֨צֶה֙ לַ...] clause_atom[וְאֵ֥ין קֵ֨צֶה֙ לַ...] phrase[אֵ֥ין ] phrase_atom[אֵ֥ין ] אֵ֥ין \n"
     ]
    }
   ],
   "source": [
    "for r in S.fetch(amount=10):\n",
    "    print(S.glean(r))"
   ]
  },
  {
   "cell_type": "markdown",
   "metadata": {},
   "source": [
    "##### Caution\n",
    "> It is not possible to do `len(S.fetch())`.\n",
    "Because `fetch()` is a *generator*, not a list.\n",
    "It will deliver a result every time it is being asked and for as long as there are results,\n",
    "but it does not know in advance how many there will be.\n",
    "\n",
    ">Fetching a result can be costly, because due to the constraints, a lot of possibilities\n",
    "may have to be tried and rejected before a the next result is found.\n",
    "\n",
    "> That is why you often see results coming in at varying speeds when counting them."
   ]
  },
  {
   "cell_type": "markdown",
   "metadata": {},
   "source": [
    "This search template has some pretty tight constraints on one of its objects,\n",
    "so the amount of data to deal with is pretty limited.\n",
    "\n",
    "Let us turn to a template where this is not so."
   ]
  },
  {
   "cell_type": "code",
   "execution_count": 14,
   "metadata": {
    "collapsed": false
   },
   "outputs": [],
   "source": [
    "query = '''\n",
    "# test\n",
    "# verse book=Genesis chapter=2 verse=25\n",
    "verse\n",
    "  clause\n",
    "                                 \n",
    "    p1:phrase\n",
    "        w1:word\n",
    "        w3:word\n",
    "        w1 < w3\n",
    "\n",
    "    p2:phrase\n",
    "        w2:word\n",
    "        w1 < w2 \n",
    "        w3 > w2\n",
    "    \n",
    "    p1 < p2   \n",
    "'''"
   ]
  },
  {
   "cell_type": "markdown",
   "metadata": {},
   "source": [
    "A couple of remarks.\n",
    "\n",
    "* some objects have got a name\n",
    "* there are additional relations specified between named objects\n",
    "* `<` means: *comes before*, and `>`: *comes after* in the canonical order for nodes,\n",
    "  which for words means: comes textually before/after, but for other nodes the meaning\n",
    "  is explained [here](https://github.com/ETCBC/text-fabric/wiki/Api#sorting-nodes)\n",
    "* later on we describe those relations in more detail\n",
    "\n",
    "##### Note on order\n",
    "> Look at the words `w1` and `w3` below phrase `p1`.\n",
    "Although in the template `w1` comes before `w3`, this is not \n",
    "translated in a search constraint of the same nature.\n",
    "\n",
    "> Order between objects in a template is never significant, only embedding is.\n",
    "\n",
    "Because order is not significant, you have to specify order yourself, using relations.\n",
    "\n",
    "It turns out that this is better than the other way around.\n",
    "In MQL order *is* significant, and it is very difficult to \n",
    "search for `w1` and `w2` in any order.\n",
    "Especially if your are looking for more than 2 complex objects with lots of feature\n",
    "conditions, your search template would explode if you had to spell out all\n",
    "possible permutations. See the example of Reinoud Oosting below.\n",
    "\n",
    "##### Note on gaps\n",
    "> Look at the phrases `p1` and `p2`.\n",
    "We do not specify an order here, only that they are different.\n",
    "In order to prevent duplicated searches with `p1` and `p2` interchanged, we even \n",
    "stipulate that `p1 < p2`.\n",
    "There are many spatial relationships possible between different objects.\n",
    "In many cases, neither the one comes before the other, nor vice versa.\n",
    "They can overlap, one can occur in a gap of the other, they can be completely disjoint\n",
    "and interleaved, etc."
   ]
  },
  {
   "cell_type": "code",
   "execution_count": 15,
   "metadata": {
    "collapsed": false
   },
   "outputs": [
    {
     "name": "stdout",
     "output_type": "stream",
     "text": [
      "  0.00s Checking search template ...\n",
      "  0.00s Setting up search space for 7 objects ...\n",
      "  0.50s Constraining search space with 10 relations ...\n",
      "  0.55s Setting up retrieval plan ...\n",
      "  0.60s Ready to deliver results from 1897304 nodes\n",
      "Iterate over S.fetch() to get the results\n",
      "See S.showPlan() to interpret the results\n"
     ]
    }
   ],
   "source": [
    "S.study(query)"
   ]
  },
  {
   "cell_type": "markdown",
   "metadata": {},
   "source": [
    "That was quick!\n",
    "Well, Text-Fabric knows that narrowing down the search space in this case would take ages,\n",
    "without resulting in a significantly shrunken space.\n",
    "So it skips doing so for most constraints.\n",
    "\n",
    "Let us see the plan, with details."
   ]
  },
  {
   "cell_type": "code",
   "execution_count": 16,
   "metadata": {
    "collapsed": false
   },
   "outputs": [
    {
     "name": "stdout",
     "output_type": "stream",
     "text": [
      "Search with 7 objects and 10 relations\n",
      "Results are instantiations of the following objects:\n",
      "node  0-verse                             ( 23213   choices)\n",
      "node  1-clause                            ( 88000   choices)\n",
      "node  2-phrase                            (253174   choices)\n",
      "node  3-word                              (426581   choices)\n",
      "node  4-word                              (426581   choices)\n",
      "node  5-phrase                            (253174   choices)\n",
      "node  6-word                              (426581   choices)\n",
      "Instantiations are computed along the following relations:\n",
      "node                      0-verse         ( 23213   choices)\n",
      "edge  0-verse         [[  1-clause        (     3.7 choices)\n",
      "edge  1-clause        [[  5-phrase        (     3.1 choices)\n",
      "edge  5-phrase        [[  6-word          (     1.6 choices)\n",
      "edge  1-clause        [[  2-phrase        (     3.4 choices)\n",
      "edge  2-phrase        <   5-phrase        (126587.0 choices)\n",
      "edge  2-phrase        [[  4-word          (     1.5 choices)\n",
      "edge  4-word          >   6-word          (213290.5 choices)\n",
      "edge  2-phrase        [[  3-word          (     2.4 choices)\n",
      "edge  3-word          <   6-word          (213290.5 choices)\n",
      "edge  3-word          <   4-word          (213290.5 choices)\n",
      "  3.57s The results are connected to the original search template as follows:\n",
      " 0     \n",
      " 1     # test\n",
      " 2     # verse book=Genesis chapter=2 verse=25\n",
      " 3 R0  verse\n",
      " 4 R1    clause\n",
      " 5                                      \n",
      " 6 R2      p1:phrase\n",
      " 7 R3          w1:word\n",
      " 8 R4          w3:word\n",
      " 9             w1 < w3\n",
      "10     \n",
      "11 R5      p2:phrase\n",
      "12 R6          w2:word\n",
      "13             w1 < w2 \n",
      "14             w3 > w2\n",
      "15         \n",
      "16         p1 < p2   \n",
      "17     \n"
     ]
    }
   ],
   "source": [
    "S.showPlan(details=True)"
   ]
  },
  {
   "cell_type": "markdown",
   "metadata": {},
   "source": [
    "As you see, we have a hefty search space here.\n",
    "Let us play with the `count()` function."
   ]
  },
  {
   "cell_type": "code",
   "execution_count": 17,
   "metadata": {
    "collapsed": false
   },
   "outputs": [
    {
     "name": "stdout",
     "output_type": "stream",
     "text": [
      "  0.00s Counting results per 10 up to 100 ...\n",
      "   |     0.09s 10\n",
      "   |     0.10s 20\n",
      "   |     0.10s 30\n",
      "   |     0.12s 40\n",
      "   |     0.12s 50\n",
      "   |     0.13s 60\n",
      "   |     0.14s 70\n",
      "   |     0.14s 80\n",
      "   |     0.15s 90\n",
      "   |     0.15s 100\n",
      "  0.15s Done: 100 results\n"
     ]
    }
   ],
   "source": [
    "S.count(progress=10, limit=100)"
   ]
  },
  {
   "cell_type": "markdown",
   "metadata": {},
   "source": [
    "We can be bolder than this!"
   ]
  },
  {
   "cell_type": "code",
   "execution_count": 18,
   "metadata": {
    "collapsed": false
   },
   "outputs": [
    {
     "name": "stdout",
     "output_type": "stream",
     "text": [
      "  0.00s Counting results per 100 up to 1000 ...\n",
      "   |     0.12s 100\n",
      "   |     0.15s 200\n",
      "   |     0.15s 300\n",
      "   |     0.29s 400\n",
      "   |     0.36s 500\n",
      "   |     0.37s 600\n",
      "   |     0.47s 700\n",
      "   |     0.55s 800\n",
      "   |     0.66s 900\n",
      "   |     0.72s 1000\n",
      "  0.72s Done: 1000 results\n"
     ]
    }
   ],
   "source": [
    "S.count(progress=100, limit=1000)"
   ]
  },
  {
   "cell_type": "markdown",
   "metadata": {},
   "source": [
    "Ok, not too bad, but note that it takes a big fraction of a second to get just 100 results.\n",
    "\n",
    "Now let us go for all of them by the thousand."
   ]
  },
  {
   "cell_type": "code",
   "execution_count": 19,
   "metadata": {
    "collapsed": false
   },
   "outputs": [
    {
     "name": "stdout",
     "output_type": "stream",
     "text": [
      "  0.00s Counting results per 1000 up to  the end of the results ...\n",
      "   |     0.66s 1000\n",
      "   |     1.02s 2000\n",
      "   |     1.55s 3000\n",
      "   |     1.78s 4000\n",
      "   |     2.43s 5000\n",
      "   |     3.49s 6000\n",
      "   |     5.32s 7000\n",
      "  6.01s Done: 7512 results\n"
     ]
    }
   ],
   "source": [
    "S.count(progress=1000, limit=-1)"
   ]
  },
  {
   "cell_type": "markdown",
   "metadata": {},
   "source": [
    "See? This is substantial work."
   ]
  },
  {
   "cell_type": "code",
   "execution_count": 20,
   "metadata": {
    "collapsed": false
   },
   "outputs": [
    {
     "name": "stdout",
     "output_type": "stream",
     "text": [
      "Genesis 2:25 clause[וַיִּֽהְי֤וּ שְׁנֵיהֶם֙ עֲרוּמִּ֔ים הָֽ...] phrase[שְׁנֵיהֶם֙ הָֽאָדָ֖ם וְאִשְׁתֹּ֑ו ] שְׁנֵיהֶם֙  הָֽ phrase[עֲרוּמִּ֔ים ] עֲרוּמִּ֔ים \n",
      "Genesis 2:25 clause[וַיִּֽהְי֤וּ שְׁנֵיהֶם֙ עֲרוּמִּ֔ים הָֽ...] phrase[שְׁנֵיהֶם֙ הָֽאָדָ֖ם וְאִשְׁתֹּ֑ו ] שְׁנֵיהֶם֙  אָדָ֖ם  phrase[עֲרוּמִּ֔ים ] עֲרוּמִּ֔ים \n",
      "Genesis 2:25 clause[וַיִּֽהְי֤וּ שְׁנֵיהֶם֙ עֲרוּמִּ֔ים הָֽ...] phrase[שְׁנֵיהֶם֙ הָֽאָדָ֖ם וְאִשְׁתֹּ֑ו ] שְׁנֵיהֶם֙  וְ phrase[עֲרוּמִּ֔ים ] עֲרוּמִּ֔ים \n",
      "Genesis 2:25 clause[וַיִּֽהְי֤וּ שְׁנֵיהֶם֙ עֲרוּמִּ֔ים הָֽ...] phrase[שְׁנֵיהֶם֙ הָֽאָדָ֖ם וְאִשְׁתֹּ֑ו ] שְׁנֵיהֶם֙  אִשְׁתֹּ֑ו  phrase[עֲרוּמִּ֔ים ] עֲרוּמִּ֔ים \n",
      "Genesis 4:4 clause[וְהֶ֨בֶל הֵבִ֥יא גַם־ה֛וּא ...] phrase[הֶ֨בֶל גַם־ה֛וּא ] הֶ֨בֶל  גַם־ phrase[הֵבִ֥יא ] הֵבִ֥יא \n",
      "Genesis 4:4 clause[וְהֶ֨בֶל הֵבִ֥יא גַם־ה֛וּא ...] phrase[הֶ֨בֶל גַם־ה֛וּא ] הֶ֨בֶל  ה֛וּא  phrase[הֵבִ֥יא ] הֵבִ֥יא \n",
      "Genesis 10:21 clause[גַּם־ה֑וּא אֲבִי֙ כָּל־בְּנֵי־...] phrase[גַּם־ה֑וּא אֲחִ֖י יֶ֥פֶת הַ...] גַּם־ אֲחִ֖י  phrase[אֲבִי֙ כָּל־בְּנֵי־עֵ֔בֶר ] עֵ֔בֶר \n",
      "Genesis 10:21 clause[גַּם־ה֑וּא אֲבִי֙ כָּל־בְּנֵי־...] phrase[גַּם־ה֑וּא אֲחִ֖י יֶ֥פֶת הַ...] ה֑וּא  אֲחִ֖י  phrase[אֲבִי֙ כָּל־בְּנֵי־עֵ֔בֶר ] עֵ֔בֶר \n",
      "Genesis 10:21 clause[גַּם־ה֑וּא אֲבִי֙ כָּל־בְּנֵי־...] phrase[גַּם־ה֑וּא אֲחִ֖י יֶ֥פֶת הַ...] גַּם־ יֶ֥פֶת  phrase[אֲבִי֙ כָּל־בְּנֵי־עֵ֔בֶר ] עֵ֔בֶר \n",
      "Genesis 10:21 clause[גַּם־ה֑וּא אֲבִי֙ כָּל־בְּנֵי־...] phrase[גַּם־ה֑וּא אֲחִ֖י יֶ֥פֶת הַ...] ה֑וּא  יֶ֥פֶת  phrase[אֲבִי֙ כָּל־בְּנֵי־עֵ֔בֶר ] עֵ֔בֶר \n"
     ]
    }
   ],
   "source": [
    "for r in S.fetch(amount=10):\n",
    "    print(S.glean(r))"
   ]
  },
  {
   "cell_type": "markdown",
   "metadata": {},
   "source": [
    "As a check, here is some code that looks for basically the same phenomenon:\n",
    "a phrase within the gap of another phrase.\n",
    "It does not use search, and it gets a bit more focused results, in half the time compared\n",
    "to the search with the template.\n",
    "\n",
    "##### Hint\n",
    "> If you are comfortable with programming, and what you look for is fairly generic,\n",
    "you may be better off without search, provided you can translate your insight in the\n",
    "data into an effective procedure within Text-Fabric.\n",
    "But wait till we are completely done with this example!"
   ]
  },
  {
   "cell_type": "code",
   "execution_count": 21,
   "metadata": {
    "collapsed": false
   },
   "outputs": [
    {
     "name": "stdout",
     "output_type": "stream",
     "text": [
      "  0.00s Getting gapped phrases\n",
      "  3.40s 369 results\n",
      "(1413737, 426799, 605793, 605794, 1159, 1160, 1160, 1164)\n",
      "(1413765, 426921, 606150, 606151, 1720, 1721, 1721, 1723)\n",
      "(1413937, 427418, 607746, 607747, 4819, 4821, 4824, 4828)\n",
      "(1413997, 427601, 608322, 608323, 5803, 5805, 5806, 5809)\n",
      "(1414001, 427616, 608369, 608370, 5868, 5869, 5870, 5875)\n",
      "(1414034, 427723, 608705, 608706, 6515, 6521, 6521, 6530)\n",
      "(1414086, 427917, 609286, 609287, 7431, 7432, 7433, 7437)\n",
      "(1414143, 428159, 609997, 609998, 8502, 8507, 8507, 8520)\n",
      "(1414143, 428159, 609997, 609999, 8502, 8508, 8510, 8520)\n",
      "(1414172, 428286, 610379, 610380, 9127, 9129, 9129, 9133)\n"
     ]
    }
   ],
   "source": [
    "indent(reset=True)\n",
    "info('Getting gapped phrases')\n",
    "results = []\n",
    "for v in F.otype.s('verse'):\n",
    "    for c in L.d(v, otype='clause'):\n",
    "        ps = L.d(c, otype='phrase')\n",
    "        first = {}\n",
    "        last = {}\n",
    "        slots = {}\n",
    "        # make index of phrase boundaries\n",
    "        for p in ps:\n",
    "            words = L.d(p, otype='word')\n",
    "            first[p] = words[0]\n",
    "            last[p] = words[-1]\n",
    "            slots[p] = set(words)\n",
    "        for p1 in ps:\n",
    "            for p2 in ps:\n",
    "                if p2 < p1: continue\n",
    "                if len(slots[p1] & slots[p2]) != 0: continue\n",
    "                if first[p1] < first[p2] and last[p2] < last[p1]:\n",
    "                    results.append((v, c, p1, p2, first[p1], first[p2], last[p2], last[p1]))\n",
    "info('{} results'.format(len(results)))\n",
    "for r in results[0:10]:\n",
    "    print(r)"
   ]
  },
  {
   "cell_type": "markdown",
   "metadata": {},
   "source": [
    "But we can use the pretty printing of `glean()` here as well, even though we have\n",
    "not used search!"
   ]
  },
  {
   "cell_type": "code",
   "execution_count": 22,
   "metadata": {
    "collapsed": false
   },
   "outputs": [
    {
     "name": "stdout",
     "output_type": "stream",
     "text": [
      "Genesis 2:25 clause[וַיִּֽהְי֤וּ שְׁנֵיהֶם֙ עֲרוּמִּ֔ים הָֽ...] phrase[שְׁנֵיהֶם֙ הָֽאָדָ֖ם וְאִשְׁתֹּ֑ו ] phrase[עֲרוּמִּ֔ים ] שְׁנֵיהֶם֙  עֲרוּמִּ֔ים  עֲרוּמִּ֔ים  אִשְׁתֹּ֑ו \n",
      "Genesis 4:4 clause[וְהֶ֨בֶל הֵבִ֥יא גַם־ה֛וּא ...] phrase[הֶ֨בֶל גַם־ה֛וּא ] phrase[הֵבִ֥יא ] הֶ֨בֶל  הֵבִ֥יא  הֵבִ֥יא  ה֛וּא \n",
      "Genesis 10:21 clause[גַּם־ה֑וּא אֲבִי֙ כָּל־בְּנֵי־...] phrase[גַּם־ה֑וּא אֲחִ֖י יֶ֥פֶת הַ...] phrase[אֲבִי֙ כָּל־בְּנֵי־עֵ֔בֶר ] גַּם־ אֲבִי֙  עֵ֔בֶר  גָּדֹֽול׃ \n",
      "Genesis 12:17 clause[וַיְנַגַּ֨ע יְהוָ֧ה׀ אֶת־פַּרְעֹ֛ה ...] phrase[אֶת־פַּרְעֹ֛ה וְאֶת־בֵּיתֹ֑ו ] phrase[נְגָעִ֥ים גְּדֹלִ֖ים ] אֶת־ נְגָעִ֥ים  גְּדֹלִ֖ים  בֵּיתֹ֑ו \n",
      "Genesis 13:1 clause[וַיַּעַל֩ אַבְרָ֨ם מִמִּצְרַ֜יִם ...] phrase[אַבְרָ֨ם ה֠וּא וְאִשְׁתֹּ֧ו וְ...] phrase[מִמִּצְרַ֜יִם ] אַבְרָ֨ם  מִ מִּצְרַ֜יִם  כָל־\n",
      "Genesis 14:16 clause[וְגַם֩ אֶת־לֹ֨וט אָחִ֤יו ...] phrase[גַם֩ אֶת־לֹ֨וט אָחִ֤יו וּ...] phrase[הֵשִׁ֔יב ] גַם֩  הֵשִׁ֔יב  הֵשִׁ֔יב  עָֽם׃ \n",
      "Genesis 17:7 clause[לִהְיֹ֤ות לְךָ֙ לֵֽאלֹהִ֔ים ...] phrase[לְךָ֙ וּֽלְזַרְעֲךָ֖ אַחֲרֶֽיךָ׃ ] phrase[לֵֽאלֹהִ֔ים ] לְךָ֙  לֵֽ אלֹהִ֔ים  אַחֲרֶֽיךָ׃ \n",
      "Genesis 19:4 clause[וְאַנְשֵׁ֨י הָעִ֜יר אַנְשֵׁ֤י ...] phrase[אַנְשֵׁ֨י הָעִ֜יר אַנְשֵׁ֤י סְדֹם֙ ...] phrase[נָסַ֣בּוּ ] אַנְשֵׁ֨י  נָסַ֣בּוּ  נָסַ֣בּוּ  קָּצֶֽה׃ \n",
      "Genesis 19:4 clause[וְאַנְשֵׁ֨י הָעִ֜יר אַנְשֵׁ֤י ...] phrase[אַנְשֵׁ֨י הָעִ֜יר אַנְשֵׁ֤י סְדֹם֙ ...] phrase[עַל־הַבַּ֔יִת ] אַנְשֵׁ֨י  עַל־ בַּ֔יִת  קָּצֶֽה׃ \n",
      "Genesis 19:33 clause[וַתַּשְׁקֶ֧יןָ אֶת־אֲבִיהֶ֛ן יַ֖יִן ...] phrase[אֶת־אֲבִיהֶ֛ן ה֑וּא ] phrase[יַ֖יִן ] אֶת־ יַ֖יִן  יַ֖יִן  ה֑וּא \n"
     ]
    }
   ],
   "source": [
    "for r in results[0:10]:\n",
    "    print(S.glean(r))"
   ]
  },
  {
   "cell_type": "markdown",
   "metadata": {},
   "source": [
    "# Refine the search template\n",
    "\n",
    "A second look at the results of our search template reveals \n",
    "that there are multiple results per pair of phrases,\n",
    "because there are in general multiple words in both\n",
    "phrases that satisfy the condition.\n",
    "We can make the search template stricter,\n",
    "by requiring alignment of the words with the starts and ends of the phrases\n",
    "they are in.\n",
    "\n",
    "For this, we employ a convenient device in search templates that we have not explained yet.\n",
    "\n",
    "**Before each atom we may put a relational operator.**\n",
    "\n",
    "The meaning is that this relation holds between the preceding atom and the current one.\n",
    "If there is a lonely operator all by itself on a line, it means that \n",
    "this relation holds between the preceding sibling and the parent.\n",
    "\n",
    "These operators are very handy to indicate that there is an order between siblings,\n",
    "and also that a child should start or end where the parent starts or ends."
   ]
  },
  {
   "cell_type": "code",
   "execution_count": 23,
   "metadata": {
    "collapsed": true
   },
   "outputs": [],
   "source": [
    "query = '''\n",
    "verse\n",
    "  clause\n",
    "                                 \n",
    "    p1:phrase\n",
    "        =: w1:word\n",
    "        <  w3:word\n",
    "        :=\n",
    "\n",
    "    p2:phrase\n",
    "        =: w2:word\n",
    "    \n",
    "    p1 < p2\n",
    "    w1 < p2\n",
    "    w2 < w3\n",
    "    \n",
    "'''"
   ]
  },
  {
   "cell_type": "markdown",
   "metadata": {},
   "source": [
    "The line \n",
    "\n",
    "```\n",
    "=: w1:word\n",
    "``` \n",
    "\n",
    "constrains word `w1` to start exactly at the start of its parent, phrase `p1`.\n",
    "\n",
    "The line\n",
    "\n",
    "```\n",
    "<  w3:word\n",
    "```\n",
    "\n",
    "constrains the preceding sibling `w1` to come before `w3` in the canonical node ordering.\n",
    "Because `w1` and `w3` are words, this means that `w1` comes textually before `w3`.\n",
    "\n",
    "The line \n",
    "\n",
    "```\n",
    ":=\n",
    "``` \n",
    "\n",
    "constrains the preceding sibling, word `w3` to end exactly at the end of its parent,\n",
    "phrase `p1`.\n",
    "\n",
    "The line \n",
    "\n",
    "```\n",
    "=: w2:word\n",
    "```\n",
    "\n",
    "constrains word `w2` to start exactly at the start of its parent, phrase `p2`.\n",
    "\n",
    "Given two phrases `p1` and `p2`, the positions of all three words `w1`, `w2`, `w3` are fixed, so for every pair `p1`, `p2` that satisfies the conditions, \n",
    "there is exactly one result."
   ]
  },
  {
   "cell_type": "code",
   "execution_count": 24,
   "metadata": {
    "collapsed": false
   },
   "outputs": [
    {
     "name": "stdout",
     "output_type": "stream",
     "text": [
      "  0.00s Checking search template ...\n",
      "  0.00s Setting up search space for 7 objects ...\n",
      "  0.50s Constraining search space with 13 relations ...\n",
      "  0.56s Setting up retrieval plan ...\n",
      "  0.68s Ready to deliver results from 1897304 nodes\n",
      "Iterate over S.fetch() to get the results\n",
      "See S.showPlan() to interpret the results\n",
      "Search with 7 objects and 13 relations\n",
      "Results are instantiations of the following objects:\n",
      "node  0-verse                             ( 23213   choices)\n",
      "node  1-clause                            ( 88000   choices)\n",
      "node  2-phrase                            (253174   choices)\n",
      "node  3-word                              (426581   choices)\n",
      "node  4-word                              (426581   choices)\n",
      "node  5-phrase                            (253174   choices)\n",
      "node  6-word                              (426581   choices)\n",
      "Instantiations are computed along the following relations:\n",
      "node                      0-verse         ( 23213   choices)\n",
      "edge  0-verse         [[  1-clause        (     4.8 choices)\n",
      "edge  1-clause        [[  5-phrase        (     2.8 choices)\n",
      "edge  5-phrase        =:  6-word          (     1.0 choices)\n",
      "edge  6-word          ]]  5-phrase        (     1.0 choices)\n",
      "edge  1-clause        [[  2-phrase        (     3.5 choices)\n",
      "edge  5-phrase        >   2-phrase        (126587.0 choices)\n",
      "edge  2-phrase        =:  3-word          (     1.0 choices)\n",
      "edge  3-word          ]]  2-phrase        (     1.0 choices)\n",
      "edge  3-word          <   5-phrase        (126587.0 choices)\n",
      "edge  2-phrase        :=  4-word          (     1.0 choices)\n",
      "edge  4-word          ]]  2-phrase        (     1.0 choices)\n",
      "edge  6-word          <   4-word          (213290.5 choices)\n",
      "edge  3-word          <   4-word          (213290.5 choices)\n",
      "  0.72s The results are connected to the original search template as follows:\n",
      " 0     \n",
      " 1 R0  verse\n",
      " 2 R1    clause\n",
      " 3                                      \n",
      " 4 R2      p1:phrase\n",
      " 5 R3          =: w1:word\n",
      " 6 R4          <  w3:word\n",
      " 7             :=\n",
      " 8     \n",
      " 9 R5      p2:phrase\n",
      "10 R6          =: w2:word\n",
      "11         \n",
      "12         p1 < p2\n",
      "13         w1 < p2\n",
      "14         w2 < w3\n",
      "15         \n",
      "16     \n",
      "  0.00s Counting results per 100 up to  the end of the results ...\n",
      "   |     1.09s 100\n",
      "   |     2.09s 200\n",
      "   |     3.47s 300\n",
      "  5.89s Done: 369 results\n",
      "Genesis 2:25 clause[וַיִּֽהְי֤וּ שְׁנֵיהֶם֙ עֲרוּמִּ֔ים הָֽ...] phrase[שְׁנֵיהֶם֙ הָֽאָדָ֖ם וְאִשְׁתֹּ֑ו ] שְׁנֵיהֶם֙  אִשְׁתֹּ֑ו  phrase[עֲרוּמִּ֔ים ] עֲרוּמִּ֔ים \n",
      "Genesis 4:4 clause[וְהֶ֨בֶל הֵבִ֥יא גַם־ה֛וּא ...] phrase[הֶ֨בֶל גַם־ה֛וּא ] הֶ֨בֶל  ה֛וּא  phrase[הֵבִ֥יא ] הֵבִ֥יא \n",
      "Genesis 10:21 clause[גַּם־ה֑וּא אֲבִי֙ כָּל־בְּנֵי־...] phrase[גַּם־ה֑וּא אֲחִ֖י יֶ֥פֶת הַ...] גַּם־ גָּדֹֽול׃  phrase[אֲבִי֙ כָּל־בְּנֵי־עֵ֔בֶר ] אֲבִי֙ \n",
      "Genesis 12:17 clause[וַיְנַגַּ֨ע יְהוָ֧ה׀ אֶת־פַּרְעֹ֛ה ...] phrase[אֶת־פַּרְעֹ֛ה וְאֶת־בֵּיתֹ֑ו ] אֶת־ בֵּיתֹ֑ו  phrase[נְגָעִ֥ים גְּדֹלִ֖ים ] נְגָעִ֥ים \n",
      "Genesis 13:1 clause[וַיַּעַל֩ אַבְרָ֨ם מִמִּצְרַ֜יִם ...] phrase[אַבְרָ֨ם ה֠וּא וְאִשְׁתֹּ֧ו וְ...] אַבְרָ֨ם  כָל־ phrase[מִמִּצְרַ֜יִם ] מִ\n",
      "Genesis 14:16 clause[וְגַם֩ אֶת־לֹ֨וט אָחִ֤יו ...] phrase[גַם֩ אֶת־לֹ֨וט אָחִ֤יו וּ...] גַם֩  עָֽם׃  phrase[הֵשִׁ֔יב ] הֵשִׁ֔יב \n",
      "Genesis 17:7 clause[לִהְיֹ֤ות לְךָ֙ לֵֽאלֹהִ֔ים ...] phrase[לְךָ֙ וּֽלְזַרְעֲךָ֖ אַחֲרֶֽיךָ׃ ] לְךָ֙  אַחֲרֶֽיךָ׃  phrase[לֵֽאלֹהִ֔ים ] לֵֽ\n",
      "Genesis 19:4 clause[וְאַנְשֵׁ֨י הָעִ֜יר אַנְשֵׁ֤י ...] phrase[אַנְשֵׁ֨י הָעִ֜יר אַנְשֵׁ֤י סְדֹם֙ ...] אַנְשֵׁ֨י  קָּצֶֽה׃  phrase[נָסַ֣בּוּ ] נָסַ֣בּוּ \n",
      "Genesis 19:4 clause[וְאַנְשֵׁ֨י הָעִ֜יר אַנְשֵׁ֤י ...] phrase[אַנְשֵׁ֨י הָעִ֜יר אַנְשֵׁ֤י סְדֹם֙ ...] אַנְשֵׁ֨י  קָּצֶֽה׃  phrase[עַל־הַבַּ֔יִת ] עַל־\n",
      "Genesis 19:33 clause[וַתַּשְׁקֶ֧יןָ אֶת־אֲבִיהֶ֛ן יַ֖יִן ...] phrase[אֶת־אֲבִיהֶ֛ן ה֑וּא ] אֶת־ ה֑וּא  phrase[יַ֖יִן ] יַ֖יִן \n"
     ]
    }
   ],
   "source": [
    "S.study(query)\n",
    "S.showPlan(details=True)\n",
    "S.count(progress=100, limit=-1)\n",
    "for r in S.fetch(amount=10):\n",
    "    print(S.glean(r))"
   ]
  },
  {
   "cell_type": "markdown",
   "metadata": {
    "collapsed": false
   },
   "source": [
    "And here we have exactly the same results as our hand-written piece of code.\n",
    "\n",
    "> Note\n",
    "Now, with the \"duplicate\" results prevented, the search with the template has\n",
    "only a slight performance overhead compared to the manual piece of code!\n",
    "\n",
    "But beware of complications. \n",
    "Search templates are powerful, but sometimes they lead to a different\n",
    "result set from what you might think.\n",
    "Here is an example.\n",
    "\n",
    "# A tricky example\n",
    "\n",
    "Suppose we want to count the clauses consisting of exactly two phrases.\n",
    "The following template should do it:\n",
    "a clause, starting with a phrase, followed by an adjacent phrase,\n",
    "which terminates the clause."
   ]
  },
  {
   "cell_type": "code",
   "execution_count": 25,
   "metadata": {
    "collapsed": true
   },
   "outputs": [],
   "source": [
    "query = '''\n",
    "clause\n",
    "    =: phrase\n",
    "    <: phrase\n",
    "    :=\n",
    "'''"
   ]
  },
  {
   "cell_type": "code",
   "execution_count": 26,
   "metadata": {
    "collapsed": false
   },
   "outputs": [
    {
     "name": "stdout",
     "output_type": "stream",
     "text": [
      "  0.00s Checking search template ...\n",
      "  0.00s Setting up search space for 3 objects ...\n",
      "  0.17s Constraining search space with 5 relations ...\n",
      "  0.20s Setting up retrieval plan ...\n",
      "  0.25s Ready to deliver results from 594348 nodes\n",
      "Iterate over S.fetch() to get the results\n",
      "See S.showPlan() to interpret the results\n",
      "  0.25s The results are connected to the original search template as follows:\n",
      " 0     \n",
      " 1 R0  clause\n",
      " 2 R1      =: phrase\n",
      " 3 R2      <: phrase\n",
      " 4         :=\n",
      " 5     \n",
      "  1.18s Done: found 23415\n"
     ]
    }
   ],
   "source": [
    "S.study(query)\n",
    "S.showPlan()\n",
    "qresults = sorted(r[0] for r in S.fetch())\n",
    "info(f'Done: found {len(qresults)}')"
   ]
  },
  {
   "cell_type": "markdown",
   "metadata": {},
   "source": [
    "Let us check this with a piece of hand-written code."
   ]
  },
  {
   "cell_type": "code",
   "execution_count": 27,
   "metadata": {
    "collapsed": false
   },
   "outputs": [
    {
     "name": "stdout",
     "output_type": "stream",
     "text": [
      "  0.00s counting ...\n",
      "  1.46s Done: found 23332\n"
     ]
    }
   ],
   "source": [
    "indent(reset=True)\n",
    "info('counting ...')\n",
    "\n",
    "cresults = []\n",
    "for c in F.otype.s('clause'):\n",
    "    wc = L.d(c, otype='word')\n",
    "    ps = L.d(c, otype='phrase')\n",
    "    if len(ps) == 2:\n",
    "        (fp, lp) = ps\n",
    "        wf = L.d(fp, otype='word')\n",
    "        wl = L.d(lp, otype='word')\n",
    "        if wf[0] == wc[0] and wf[-1] + 1 == wl[0] and wl[-1] == wc[-1]:\n",
    "            cresults.append(c)\n",
    "cresults = sorted(cresults)\n",
    "info(f'Done: found {len(cresults)}')"
   ]
  },
  {
   "cell_type": "markdown",
   "metadata": {},
   "source": [
    "Strange, we end up with less cases. What is happening? Let us compare the results.\n",
    "We look at the first result where both methods diverge."
   ]
  },
  {
   "cell_type": "code",
   "execution_count": 28,
   "metadata": {
    "collapsed": false
   },
   "outputs": [
    {
     "name": "stdout",
     "output_type": "stream",
     "text": [
      "23053 differences\n",
      "(427723, 427728)\n"
     ]
    }
   ],
   "source": [
    "diff = [x for x in zip(qresults, cresults) if x[0] != x[1]]\n",
    "print(f'{len(diff)} differences')\n",
    "print(diff[0])"
   ]
  },
  {
   "cell_type": "markdown",
   "metadata": {},
   "source": [
    "Let's look at the phrases of 427723:"
   ]
  },
  {
   "cell_type": "code",
   "execution_count": 29,
   "metadata": {
    "collapsed": false
   },
   "outputs": [
    {
     "name": "stdout",
     "output_type": "stream",
     "text": [
      "Phrase 608704 has words [6514]\n",
      "Phrase 608705 has words [6515, 6516, 6517, 6518, 6519, 6520, 6522, 6523, 6524, 6525, 6526, 6527, 6528, 6529, 6530]\n",
      "Phrase 608706 has words [6521]\n"
     ]
    }
   ],
   "source": [
    "for p in L.d(diff[0][0], otype='phrase'):\n",
    "    print(f'Phrase {p} has words {L.d(p, otype=\"word\")}')"
   ]
  },
  {
   "cell_type": "markdown",
   "metadata": {},
   "source": [
    "This clause has three phrases, but the third one lies inside the second one,\n",
    "so that the clause indeed satisfies the pattern of two adjacent phrases.\n",
    "\n",
    "Can we adjust the pattern to exclude cases like this? \n",
    "At the moment, our search template mechanism is not powerful enough for that.\n",
    "\n",
    "We can count how often it happens, however. \n",
    "We require a third phrase to be present, not equal to one of the first two ones."
   ]
  },
  {
   "cell_type": "code",
   "execution_count": 30,
   "metadata": {
    "collapsed": true
   },
   "outputs": [],
   "source": [
    "query = '''\n",
    "clause\n",
    "    =: p1:phrase\n",
    "    <: p2:phrase\n",
    "    :=\n",
    "    p3:phrase\n",
    "    p1 # p3\n",
    "    p2 # p3\n",
    "'''"
   ]
  },
  {
   "cell_type": "code",
   "execution_count": 31,
   "metadata": {
    "collapsed": false
   },
   "outputs": [
    {
     "name": "stdout",
     "output_type": "stream",
     "text": [
      "  0.00s Checking search template ...\n",
      "  0.00s Setting up search space for 4 objects ...\n",
      "  0.25s Constraining search space with 8 relations ...\n",
      "  0.27s Setting up retrieval plan ...\n",
      "  0.34s Ready to deliver results from 847522 nodes\n",
      "Iterate over S.fetch() to get the results\n",
      "See S.showPlan() to interpret the results\n",
      "  0.34s The results are connected to the original search template as follows:\n",
      " 0     \n",
      " 1 R0  clause\n",
      " 2 R1      =: p1:phrase\n",
      " 3 R2      <: p2:phrase\n",
      " 4         :=\n",
      " 5 R3      p3:phrase\n",
      " 6         p1 # p3\n",
      " 7         p2 # p3\n",
      " 8     \n",
      "  1.38s Done: found 115\n"
     ]
    }
   ],
   "source": [
    "S.study(query)\n",
    "S.showPlan()\n",
    "rresults = sorted(r[0] for r in S.fetch())\n",
    "info(f'Done: found {len(rresults)}')"
   ]
  },
  {
   "cell_type": "markdown",
   "metadata": {},
   "source": [
    "But we have to filter this, because per `p1`, `p2` there might be multiple `p3` that satisfy the constraints.\n",
    "So lets gather the set of `p1`, `p2` pairs."
   ]
  },
  {
   "cell_type": "code",
   "execution_count": 32,
   "metadata": {
    "collapsed": false
   },
   "outputs": [
    {
     "data": {
      "text/plain": [
       "83"
      ]
     },
     "execution_count": 32,
     "metadata": {},
     "output_type": "execute_result"
    }
   ],
   "source": [
    "len(set(rresults))"
   ]
  },
  {
   "cell_type": "markdown",
   "metadata": {},
   "source": [
    "And this is exactly the difference between \n",
    "the number of results of the search template and the hand-written piece of code."
   ]
  },
  {
   "cell_type": "markdown",
   "metadata": {},
   "source": [
    "# Testing basic relations\n",
    "\n",
    "Basic relations are about the identity spatial ordering of objects.\n",
    "Are they the same, do they occupy the same slots, do they overlap, is one embedded in the other,\n",
    "does one come before the other?\n",
    "\n",
    "We also have edge features, that specify relationships between nodes.\n",
    "\n",
    "Although the basic relationships are easy to define, and even easy to implement,\n",
    "they may be very costly to use. \n",
    "When searching, most of them have to be computed very many times.\n",
    "\n",
    "Some of them have been precomputed and stored in an index, e.g. the embedding relationships.\n",
    "They can be used without penalty.\n",
    "\n",
    "Other relations are not suitable for precomputing: most inequality relations are of that kind.\n",
    "It would require an enormous amount of storage to precompute for each node the set of nodes that\n",
    "occupy different slots. This type of relation will not be used in narrowing down the search space,\n",
    "which means that it may take more time to get the results.\n",
    "\n",
    "We are going to test all of our basic relationships here.\n",
    "\n",
    "Let us first see what relations we have:"
   ]
  },
  {
   "cell_type": "code",
   "execution_count": 33,
   "metadata": {
    "collapsed": false
   },
   "outputs": [
    {
     "name": "stdout",
     "output_type": "stream",
     "text": [
      "                      = left equal to right (as node)\n",
      "                      # left unequal to right (as node)\n",
      "                      < left before right (in canonical node ordering)\n",
      "                      > left after right (in canonical node ordering)\n",
      "                     == left occupies same slots as right\n",
      "                     && left has overlapping slots with right\n",
      "                     ## left and right do not have the same slot set\n",
      "                     || left and right do not have common slots\n",
      "                     [[ left embeds right\n",
      "                     ]] left embedded in right\n",
      "                     << left completely before right\n",
      "                     >> left completely after right\n",
      "                     =: left and right start at the same slot\n",
      "                     := left and right end at the same slot\n",
      "                     :: left and right start and end at the same slot\n",
      "                     <: left immediately before right\n",
      "                     :> left immediately after right\n",
      "                    =k: left and right start at k-nearly the same slot\n",
      "                    :k= left and right end at k-nearly the same slot\n",
      "                    :k: left and right start and end at k-near slots\n",
      "                    <k: left k-nearly before right\n",
      "                    :k> left k-nearly after right\n",
      "-distributional_parent> edge feature \"distributional_parent\"\n",
      "<distributional_parent- edge feature \"distributional_parent\" (opposite direction)\n",
      "    -functional_parent> edge feature \"functional_parent\"\n",
      "    <functional_parent- edge feature \"functional_parent\" (opposite direction)\n",
      "               -mother> edge feature \"mother\"\n",
      "               <mother- edge feature \"mother\" (opposite direction)\n",
      "The grid feature \"oslots\" cannot be used in searches.\n",
      "Surely, one of the above relations on nodes and/or slots will suit you better!\n"
     ]
    }
   ],
   "source": [
    "print(S.relationLegend)"
   ]
  },
  {
   "cell_type": "markdown",
   "metadata": {},
   "source": [
    "# = (equal as node)\n",
    "\n",
    "The `=` means that both parts are the same node. Left and right are not two things with similar properties,\n",
    "no, they are one and the same thing.\n",
    "\n",
    "Useful if the thing you search for it part of two wildly different patterns."
   ]
  },
  {
   "cell_type": "code",
   "execution_count": 34,
   "metadata": {
    "collapsed": false
   },
   "outputs": [
    {
     "name": "stdout",
     "output_type": "stream",
     "text": [
      "  0.00s Checking search template ...\n",
      "  0.00s loading features ...\n",
      "   |     0.17s B gn                   from /Users/dirk/github/text-fabric-data/hebrew/etcbc4c\n",
      "   |     0.14s B nu                   from /Users/dirk/github/text-fabric-data/hebrew/etcbc4c\n",
      "   |     0.23s B rela                 from /Users/dirk/github/text-fabric-data/hebrew/etcbc4c\n",
      "   |     0.14s B sp                   from /Users/dirk/github/text-fabric-data/hebrew/etcbc4c\n",
      "  0.69s All additional features loaded - for details use loadLog()\n",
      "  0.69s Setting up search space for 10 objects ...\n",
      "  1.64s Constraining search space with 11 relations ...\n",
      "  2.20s Setting up retrieval plan ...\n",
      "  2.23s Ready to deliver results from 327603 nodes\n",
      "Iterate over S.fetch() to get the results\n",
      "See S.showPlan() to interpret the results\n",
      "  2.24s The results are connected to the original search template as follows:\n",
      " 0     \n",
      " 1 R0  v1:verse\n",
      " 2 R1    sentence\n",
      " 3 R2      clause rela=Objc\n",
      " 4 R3        phrase\n",
      " 5 R4          word sp=verb gn=f nu=pl\n",
      " 6 R5  v2:verse\n",
      " 7 R6    sentence\n",
      " 8 R7      c1:clause\n",
      " 9 R8      c2:clause\n",
      "10 R9      c3:clause\n",
      "11         c1 < c2\n",
      "12         c2 < c3\n",
      "13     v1 = v2\n",
      "14     \n",
      "Ezekiel 36:36 sentence[וְיָדְע֣וּ הַגֹּויִ֗ם אֲשֶׁ֣ר ...] clause[הַנֶּ֣הֱרָסֹ֔ות ] phrase[נֶּ֣הֱרָסֹ֔ות ] נֶּ֣הֱרָסֹ֔ות  Ezekiel 36:36 sentence[וְיָדְע֣וּ הַגֹּויִ֗ם אֲשֶׁ֣ר ...] clause[וְיָדְע֣וּ הַגֹּויִ֗ם ] clause[אֲשֶׁ֣ר יִֽשָּׁאֲרוּ֮ סְבִיבֹותֵיכֶם֒ ] clause[כִּ֣י׀ אֲנִ֣י יְהוָ֗ה בָּנִ֨יתִי֙ ]\n",
      "Ezekiel 36:36 sentence[וְיָדְע֣וּ הַגֹּויִ֗ם אֲשֶׁ֣ר ...] clause[הַנֶּ֣הֱרָסֹ֔ות ] phrase[נֶּ֣הֱרָסֹ֔ות ] נֶּ֣הֱרָסֹ֔ות  Ezekiel 36:36 sentence[וְיָדְע֣וּ הַגֹּויִ֗ם אֲשֶׁ֣ר ...] clause[וְיָדְע֣וּ הַגֹּויִ֗ם ] clause[אֲשֶׁ֣ר יִֽשָּׁאֲרוּ֮ סְבִיבֹותֵיכֶם֒ ] clause[הַנֶּ֣הֱרָסֹ֔ות ]\n",
      "Ezekiel 36:36 sentence[וְיָדְע֣וּ הַגֹּויִ֗ם אֲשֶׁ֣ר ...] clause[הַנֶּ֣הֱרָסֹ֔ות ] phrase[נֶּ֣הֱרָסֹ֔ות ] נֶּ֣הֱרָסֹ֔ות  Ezekiel 36:36 sentence[וְיָדְע֣וּ הַגֹּויִ֗ם אֲשֶׁ֣ר ...] clause[וְיָדְע֣וּ הַגֹּויִ֗ם ] clause[אֲשֶׁ֣ר יִֽשָּׁאֲרוּ֮ סְבִיבֹותֵיכֶם֒ ] clause[נָטַ֖עְתִּי ]\n",
      "Ezekiel 36:36 sentence[וְיָדְע֣וּ הַגֹּויִ֗ם אֲשֶׁ֣ר ...] clause[הַנֶּ֣הֱרָסֹ֔ות ] phrase[נֶּ֣הֱרָסֹ֔ות ] נֶּ֣הֱרָסֹ֔ות  Ezekiel 36:36 sentence[וְיָדְע֣וּ הַגֹּויִ֗ם אֲשֶׁ֣ר ...] clause[וְיָדְע֣וּ הַגֹּויִ֗ם ] clause[אֲשֶׁ֣ר יִֽשָּׁאֲרוּ֮ סְבִיבֹותֵיכֶם֒ ] clause[הַנְּשַׁמָּ֑ה ]\n",
      "Ezekiel 36:36 sentence[וְיָדְע֣וּ הַגֹּויִ֗ם אֲשֶׁ֣ר ...] clause[הַנֶּ֣הֱרָסֹ֔ות ] phrase[נֶּ֣הֱרָסֹ֔ות ] נֶּ֣הֱרָסֹ֔ות  Ezekiel 36:36 sentence[וְיָדְע֣וּ הַגֹּויִ֗ם אֲשֶׁ֣ר ...] clause[וְיָדְע֣וּ הַגֹּויִ֗ם ] clause[כִּ֣י׀ אֲנִ֣י יְהוָ֗ה בָּנִ֨יתִי֙ ] clause[הַנֶּ֣הֱרָסֹ֔ות ]\n",
      "Ezekiel 36:36 sentence[וְיָדְע֣וּ הַגֹּויִ֗ם אֲשֶׁ֣ר ...] clause[הַנֶּ֣הֱרָסֹ֔ות ] phrase[נֶּ֣הֱרָסֹ֔ות ] נֶּ֣הֱרָסֹ֔ות  Ezekiel 36:36 sentence[וְיָדְע֣וּ הַגֹּויִ֗ם אֲשֶׁ֣ר ...] clause[וְיָדְע֣וּ הַגֹּויִ֗ם ] clause[כִּ֣י׀ אֲנִ֣י יְהוָ֗ה בָּנִ֨יתִי֙ ] clause[נָטַ֖עְתִּי ]\n",
      "Ezekiel 36:36 sentence[וְיָדְע֣וּ הַגֹּויִ֗ם אֲשֶׁ֣ר ...] clause[הַנֶּ֣הֱרָסֹ֔ות ] phrase[נֶּ֣הֱרָסֹ֔ות ] נֶּ֣הֱרָסֹ֔ות  Ezekiel 36:36 sentence[וְיָדְע֣וּ הַגֹּויִ֗ם אֲשֶׁ֣ר ...] clause[וְיָדְע֣וּ הַגֹּויִ֗ם ] clause[כִּ֣י׀ אֲנִ֣י יְהוָ֗ה בָּנִ֨יתִי֙ ] clause[הַנְּשַׁמָּ֑ה ]\n",
      "Ezekiel 36:36 sentence[וְיָדְע֣וּ הַגֹּויִ֗ם אֲשֶׁ֣ר ...] clause[הַנֶּ֣הֱרָסֹ֔ות ] phrase[נֶּ֣הֱרָסֹ֔ות ] נֶּ֣הֱרָסֹ֔ות  Ezekiel 36:36 sentence[וְיָדְע֣וּ הַגֹּויִ֗ם אֲשֶׁ֣ר ...] clause[וְיָדְע֣וּ הַגֹּויִ֗ם ] clause[הַנֶּ֣הֱרָסֹ֔ות ] clause[נָטַ֖עְתִּי ]\n",
      "Ezekiel 36:36 sentence[וְיָדְע֣וּ הַגֹּויִ֗ם אֲשֶׁ֣ר ...] clause[הַנֶּ֣הֱרָסֹ֔ות ] phrase[נֶּ֣הֱרָסֹ֔ות ] נֶּ֣הֱרָסֹ֔ות  Ezekiel 36:36 sentence[וְיָדְע֣וּ הַגֹּויִ֗ם אֲשֶׁ֣ר ...] clause[וְיָדְע֣וּ הַגֹּויִ֗ם ] clause[הַנֶּ֣הֱרָסֹ֔ות ] clause[הַנְּשַׁמָּ֑ה ]\n",
      "Ezekiel 36:36 sentence[וְיָדְע֣וּ הַגֹּויִ֗ם אֲשֶׁ֣ר ...] clause[הַנֶּ֣הֱרָסֹ֔ות ] phrase[נֶּ֣הֱרָסֹ֔ות ] נֶּ֣הֱרָסֹ֔ות  Ezekiel 36:36 sentence[וְיָדְע֣וּ הַגֹּויִ֗ם אֲשֶׁ֣ר ...] clause[וְיָדְע֣וּ הַגֹּויִ֗ם ] clause[נָטַ֖עְתִּי ] clause[הַנְּשַׁמָּ֑ה ]\n"
     ]
    }
   ],
   "source": [
    "query = '''\n",
    "v1:verse\n",
    "  sentence\n",
    "    clause rela=Objc\n",
    "      phrase\n",
    "        word sp=verb gn=f nu=pl\n",
    "v2:verse\n",
    "  sentence\n",
    "    c1:clause\n",
    "    c2:clause\n",
    "    c3:clause\n",
    "    c1 < c2\n",
    "    c2 < c3\n",
    "v1 = v2\n",
    "'''\n",
    "S.study(query)\n",
    "S.showPlan()\n",
    "for r in S.fetch(amount=10):\n",
    "    print(S.glean(r))"
   ]
  },
  {
   "cell_type": "markdown",
   "metadata": {},
   "source": [
    "# # (unequal as node)\n",
    "\n",
    "`n # m` if `n` and `m` are not the same node.\n",
    "\n",
    "If you write a template, and you know that one node should come before another one,\n",
    "consider using `<` or `>`, which will constrain the results better.\n",
    "\n",
    "We have seen this in action in the search for gapped phrases."
   ]
  },
  {
   "cell_type": "markdown",
   "metadata": {},
   "source": [
    "# < and > (canonical)\n",
    "\n",
    "`n < m` if `n` comes before `m` in the\n",
    "[canonical ordering](https://github.com/ETCBC/text-fabric/wiki/Api#sorting-nodes)\n",
    "of nodes.\n",
    "\n",
    "We have seen them in action before."
   ]
  },
  {
   "cell_type": "markdown",
   "metadata": {},
   "source": [
    "# == (same slots)\n",
    "\n",
    "Two objects are extensionally equal if they occupy exactly the same slots.\n",
    "\n",
    "Quite an expensive relation, as you will see: nearly 30 seconds for 3608 results."
   ]
  },
  {
   "cell_type": "code",
   "execution_count": 35,
   "metadata": {
    "collapsed": false
   },
   "outputs": [
    {
     "name": "stdout",
     "output_type": "stream",
     "text": [
      "  0.00s Checking search template ...\n",
      "  0.00s Setting up search space for 2 objects ...\n",
      "  0.03s Constraining search space with 2 relations ...\n",
      "  0.93s Setting up retrieval plan ...\n",
      "  0.96s Ready to deliver results from 7216 nodes\n",
      "Iterate over S.fetch() to get the results\n",
      "See S.showPlan() to interpret the results\n",
      "  0.96s The results are connected to the original search template as follows:\n",
      " 0     \n",
      " 1 R0  v:verse\n",
      " 2 R1      s:sentence\n",
      " 3     v == s\n",
      " 4     \n",
      "Jeremiah 10:17 sentence[אִסְפִּ֥י מֵאֶ֖רֶץ כִּנְעָתֵ֑ךְ יֹשֶׁ֖בֶת ...]\n",
      "Jeremiah 10:22 sentence[קֹ֤ול שְׁמוּעָה֙ הִנֵּ֣ה בָאָ֔ה וְ...]\n",
      "Jeremiah 10:23 sentence[יָדַ֣עְתִּי יְהוָ֔ה כִּ֛י לֹ֥א לָ...]\n",
      "Jeremiah 11:1 sentence[הַדָּבָר֙ אֲשֶׁ֣ר הָיָ֣ה אֶֽל־...]\n",
      "Jeremiah 11:17 sentence[וַיהוָ֤ה צְבָאֹות֙ הַנֹּוטֵ֣עַ ...]\n",
      "Jeremiah 13:3 sentence[וַיְהִ֧י דְבַר־יְהוָ֛ה אֵלַ֖י ...]\n",
      "Jeremiah 13:8 sentence[וַיְהִ֥י דְבַר־יְהוָ֖ה אֵלַ֥י ...]\n",
      "Jeremiah 13:10 sentence[הָעָם֩ הַזֶּ֨ה הָ...]\n",
      "Jeremiah 13:24 sentence[וַאֲפִיצֵ֖ם כְּקַשׁ־עֹובֵ֑ר ...]\n",
      "Jeremiah 14:1 sentence[אֲשֶׁ֨ר הָיָ֤ה דְבַר־יְהוָה֙ אֶֽל־...]\n",
      "  0.00s Counting results per 1000 up to 10000 ...\n",
      "   |     7.00s 1000\n",
      "   |       14s 2000\n",
      "   |       22s 3000\n",
      "    26s Done: 3608 results\n"
     ]
    }
   ],
   "source": [
    "query = '''\n",
    "v:verse\n",
    "    s:sentence\n",
    "v == s\n",
    "'''\n",
    "S.study(query)\n",
    "S.showPlan()\n",
    "for r in S.fetch(amount=10):\n",
    "    print(S.glean(r))\n",
    "S.count(progress=1000, limit=10000)"
   ]
  },
  {
   "cell_type": "markdown",
   "metadata": {},
   "source": [
    "# && (overlap)\n",
    "\n",
    "Two objects overlap if and only if they share at least one slot.\n",
    "This is quite costly to use in some cases."
   ]
  },
  {
   "cell_type": "code",
   "execution_count": 37,
   "metadata": {
    "collapsed": false
   },
   "outputs": [
    {
     "name": "stdout",
     "output_type": "stream",
     "text": [
      "  0.00s Checking search template ...\n",
      "  0.00s Setting up search space for 4 objects ...\n",
      "  0.17s Constraining search space with 5 relations ...\n",
      "  0.85s Setting up retrieval plan ...\n",
      "  1.17s Ready to deliver results from 503971 nodes\n",
      "Iterate over S.fetch() to get the results\n",
      "See S.showPlan() to interpret the results\n",
      "  1.18s The results are connected to the original search template as follows:\n",
      " 0     \n",
      " 1 R0  verse\n",
      " 2 R1      phrase\n",
      " 3 R2        s1:subphrase\n",
      " 4 R3        s2:subphrase\n",
      " 5           s1 # s2\n",
      " 6           s1 && s2\n",
      " 7     \n",
      "Genesis 1:14 phrase[לְאֹתֹת֙ וּלְמֹ֣ועֲדִ֔ים ...] subphrase[לְאֹתֹת֙ ] subphrase[לְאֹתֹת֙ וּלְמֹ֣ועֲדִ֔ים ]\n",
      "Genesis 1:14 phrase[לְאֹתֹת֙ וּלְמֹ֣ועֲדִ֔ים ...] subphrase[לְאֹתֹת֙ וּלְמֹ֣ועֲדִ֔ים ] subphrase[לְאֹתֹת֙ ]\n",
      "Genesis 1:14 phrase[לְאֹתֹת֙ וּלְמֹ֣ועֲדִ֔ים ...] subphrase[לְאֹתֹת֙ וּלְמֹ֣ועֲדִ֔ים ] subphrase[לְמֹ֣ועֲדִ֔ים ]\n",
      "Genesis 1:14 phrase[לְאֹתֹת֙ וּלְמֹ֣ועֲדִ֔ים ...] subphrase[לְמֹ֣ועֲדִ֔ים ] subphrase[לְאֹתֹת֙ וּלְמֹ֣ועֲדִ֔ים ]\n",
      "Genesis 1:14 phrase[לְאֹתֹת֙ וּלְמֹ֣ועֲדִ֔ים ...] subphrase[לְיָמִ֖ים וְשָׁנִֽים׃ ] subphrase[יָמִ֖ים ]\n",
      "Genesis 1:14 phrase[לְאֹתֹת֙ וּלְמֹ֣ועֲדִ֔ים ...] subphrase[לְיָמִ֖ים וְשָׁנִֽים׃ ] subphrase[שָׁנִֽים׃ ]\n",
      "Genesis 1:14 phrase[לְאֹתֹת֙ וּלְמֹ֣ועֲדִ֔ים ...] subphrase[יָמִ֖ים ] subphrase[לְיָמִ֖ים וְשָׁנִֽים׃ ]\n",
      "Genesis 1:14 phrase[לְאֹתֹת֙ וּלְמֹ֣ועֲדִ֔ים ...] subphrase[שָׁנִֽים׃ ] subphrase[לְיָמִ֖ים וְשָׁנִֽים׃ ]\n",
      "Genesis 1:16 phrase[אֶת־שְׁנֵ֥י הַמְּאֹרֹ֖ת הַ...] subphrase[הַמְּאֹרֹ֖ת הַגְּדֹלִ֑ים ] subphrase[הַמְּאֹרֹ֖ת ]\n",
      "Genesis 1:16 phrase[אֶת־שְׁנֵ֥י הַמְּאֹרֹ֖ת הַ...] subphrase[הַמְּאֹרֹ֖ת הַגְּדֹלִ֑ים ] subphrase[הַגְּדֹלִ֑ים ]\n"
     ]
    }
   ],
   "source": [
    "query = '''\n",
    "verse\n",
    "    phrase\n",
    "      s1:subphrase\n",
    "      s2:subphrase\n",
    "      s1 # s2\n",
    "      s1 && s2\n",
    "'''\n",
    "S.study(query)\n",
    "S.showPlan()\n",
    "for r in S.fetch(amount=10):\n",
    "    print(S.glean(r))"
   ]
  },
  {
   "cell_type": "markdown",
   "metadata": {},
   "source": [
    "# ## (not the same slots)\n",
    "\n",
    "True when the two objects in question do not occupy exactly the same set of slots.\n",
    "This is a very loose relationship.\n",
    "\n",
    "It is implemented, but not yet tested, and at the moment I have not a clear use case for it.\n",
    "\n",
    "# || (disjoint slots)\n",
    "\n",
    "True when the two objects in question do not share any slots.\n",
    "This is a rather loose relationship.\n",
    "\n",
    "It is implemented, but not yet tested, and at the moment I have not a clear use case for it."
   ]
  },
  {
   "cell_type": "markdown",
   "metadata": {},
   "source": [
    "# [[ and ]] (embedding)\n",
    "\n",
    "`n [[ m` if object `n` embeds `m`.\n",
    "\n",
    "`n ]] m` if object `n` lies embedded in `n`.\n",
    "\n",
    "These relations are used implicitly in templates when there is indentation:\n",
    "\n",
    "```\n",
    "s:sentence\n",
    "  p:phrase\n",
    "    w1:word gn=f\n",
    "    w2:word gn=m\n",
    "```\n",
    "\n",
    "The template above implicitly states the following embeddings:\n",
    "\n",
    "* `s ]] p`\n",
    "* `p ]] w1`\n",
    "* `p ]] w2`\n",
    "\n",
    "We have seen these relations in action."
   ]
  },
  {
   "cell_type": "markdown",
   "metadata": {},
   "source": [
    "# << and >> (before and after with slots)\n",
    "\n",
    "These relations test whether one object comes before or after an other,\n",
    "in the sense that the slots\n",
    "occupied by the one object lie completely \n",
    "before or after the slots occupied by the other object."
   ]
  },
  {
   "cell_type": "code",
   "execution_count": 38,
   "metadata": {
    "collapsed": false
   },
   "outputs": [
    {
     "name": "stdout",
     "output_type": "stream",
     "text": [
      "  0.00s Checking search template ...\n",
      "  0.00s Setting up search space for 5 objects ...\n",
      "  0.17s Constraining search space with 6 relations ...\n",
      "  0.18s Setting up retrieval plan ...\n",
      "  0.20s Ready to deliver results from 515957 nodes\n",
      "Iterate over S.fetch() to get the results\n",
      "See S.showPlan() to interpret the results\n",
      "  0.21s The results are connected to the original search template as follows:\n",
      " 0     \n",
      " 1 R0  verse\n",
      " 2 R1    sentence\n",
      " 3 R2      c1:clause\n",
      " 4 R3      p:phrase\n",
      " 5 R4      c2:clause\n",
      " 6         c1 << p\n",
      " 7         c2 >> p\n",
      " 8     \n",
      "Genesis 1:11 sentence[תַּֽדְשֵׁ֤א הָאָ֨רֶץ֙ דֶּ֔שֶׁא עֵ֚שֶׂב ...] clause[תַּֽדְשֵׁ֤א הָאָ֨רֶץ֙ דֶּ֔שֶׁא עֵ֚שֶׂב ...] phrase[עֹ֤שֶׂה ] clause[אֲשֶׁ֥ר זַרְעֹו־בֹ֖ו ]\n",
      "Genesis 1:11 sentence[תַּֽדְשֵׁ֤א הָאָ֨רֶץ֙ דֶּ֔שֶׁא עֵ֚שֶׂב ...] clause[תַּֽדְשֵׁ֤א הָאָ֨רֶץ֙ דֶּ֔שֶׁא עֵ֚שֶׂב ...] phrase[פְּרִי֙ ] clause[אֲשֶׁ֥ר זַרְעֹו־בֹ֖ו ]\n",
      "Genesis 1:11 sentence[תַּֽדְשֵׁ֤א הָאָ֨רֶץ֙ דֶּ֔שֶׁא עֵ֚שֶׂב ...] clause[תַּֽדְשֵׁ֤א הָאָ֨רֶץ֙ דֶּ֔שֶׁא עֵ֚שֶׂב ...] phrase[לְמִינֹ֔ו ] clause[אֲשֶׁ֥ר זַרְעֹו־בֹ֖ו ]\n",
      "Genesis 1:11 sentence[תַּֽדְשֵׁ֤א הָאָ֨רֶץ֙ דֶּ֔שֶׁא עֵ֚שֶׂב ...] clause[מַזְרִ֣יעַ זֶ֔רַע ] phrase[עֹ֤שֶׂה ] clause[אֲשֶׁ֥ר זַרְעֹו־בֹ֖ו ]\n",
      "Genesis 1:11 sentence[תַּֽדְשֵׁ֤א הָאָ֨רֶץ֙ דֶּ֔שֶׁא עֵ֚שֶׂב ...] clause[מַזְרִ֣יעַ זֶ֔רַע ] phrase[פְּרִי֙ ] clause[אֲשֶׁ֥ר זַרְעֹו־בֹ֖ו ]\n",
      "Genesis 1:11 sentence[תַּֽדְשֵׁ֤א הָאָ֨רֶץ֙ דֶּ֔שֶׁא עֵ֚שֶׂב ...] clause[מַזְרִ֣יעַ זֶ֔רַע ] phrase[לְמִינֹ֔ו ] clause[אֲשֶׁ֥ר זַרְעֹו־בֹ֖ו ]\n",
      "Genesis 1:12 sentence[וַתֹּוצֵ֨א הָאָ֜רֶץ דֶּ֠שֶׁא ...] clause[מַזְרִ֤יעַ זֶ֨רַע֙ לְמִינֵ֔הוּ ] phrase[עֹ֥שֶׂה ] clause[אֲשֶׁ֥ר זַרְעֹו־בֹ֖ו ]\n",
      "Genesis 1:12 sentence[וַתֹּוצֵ֨א הָאָ֜רֶץ דֶּ֠שֶׁא ...] clause[מַזְרִ֤יעַ זֶ֨רַע֙ לְמִינֵ֔הוּ ] phrase[פְּרִ֛י ] clause[אֲשֶׁ֥ר זַרְעֹו־בֹ֖ו ]\n",
      "Genesis 1:12 sentence[וַתֹּוצֵ֨א הָאָ֜רֶץ דֶּ֠שֶׁא ...] clause[וַתֹּוצֵ֨א הָאָ֜רֶץ דֶּ֠שֶׁא ...] phrase[עֹ֥שֶׂה ] clause[אֲשֶׁ֥ר זַרְעֹו־בֹ֖ו ]\n",
      "Genesis 1:12 sentence[וַתֹּוצֵ֨א הָאָ֜רֶץ דֶּ֠שֶׁא ...] clause[וַתֹּוצֵ֨א הָאָ֜רֶץ דֶּ֠שֶׁא ...] phrase[פְּרִ֛י ] clause[אֲשֶׁ֥ר זַרְעֹו־בֹ֖ו ]\n"
     ]
    }
   ],
   "source": [
    "query = '''\n",
    "verse\n",
    "  sentence\n",
    "    c1:clause\n",
    "    p:phrase\n",
    "    c2:clause\n",
    "    c1 << p\n",
    "    c2 >> p\n",
    "'''\n",
    "S.study(query)\n",
    "S.showPlan()\n",
    "for r in S.fetch(amount=10):\n",
    "    print(S.glean(r))"
   ]
  },
  {
   "cell_type": "markdown",
   "metadata": {
    "collapsed": true
   },
   "source": [
    "# =: (start at same slots)\n",
    "This relation holds when the left and right hand sides are nodes that have the same first slot.\n",
    "It serves to enforce the the children of a parent are textually the first things inside that\n",
    "parent. We have seen it in action before.\n",
    "\n",
    "# := (end at same slots)\n",
    "This relation holds when the left and right hand sides are nodes that have the same last slot\n",
    "It serves to enforce the the children of a parent are textually the last things inside that\n",
    "parent. We have seen it in action before.\n",
    "\n",
    "# :: (same start and end slots)\n",
    "This relation holds when `=:` and `:=` both hold between the left and right hand sides.\n",
    "It serves to look for parents with single children, or at least, where the parent is textually spanned by a single child."
   ]
  },
  {
   "cell_type": "code",
   "execution_count": 39,
   "metadata": {
    "collapsed": false
   },
   "outputs": [
    {
     "name": "stdout",
     "output_type": "stream",
     "text": [
      "  0.00s Checking search template ...\n",
      "  0.00s Setting up search space for 3 objects ...\n",
      "  0.13s Constraining search space with 3 relations ...\n",
      "  0.14s Setting up retrieval plan ...\n",
      "  0.18s Ready to deliver results from 364387 nodes\n",
      "Iterate over S.fetch() to get the results\n",
      "See S.showPlan() to interpret the results\n",
      "  0.18s The results are connected to the original search template as follows:\n",
      " 0     \n",
      " 1 R0  verse\n",
      " 2 R1      clause\n",
      " 3 R2          :: phrase\n",
      " 4     \n",
      "  0.00s Counting results per 1000 up to  the end of the results ...\n",
      "   |     0.14s 1000\n",
      "   |     0.26s 2000\n",
      "   |     0.34s 3000\n",
      "   |     0.40s 4000\n",
      "   |     0.46s 5000\n",
      "   |     0.52s 6000\n",
      "   |     0.56s 7000\n",
      "   |     0.62s 8000\n",
      "   |     0.69s 9000\n",
      "  0.73s Done: 9387 results\n",
      "Genesis 1:5 clause[יֹ֥ום אֶחָֽד׃ פ ] phrase[יֹ֥ום אֶחָֽד׃ פ ]\n",
      "Genesis 1:8 clause[יֹ֥ום שֵׁנִֽי׃ פ ] phrase[יֹ֥ום שֵׁנִֽי׃ פ ]\n",
      "Genesis 1:13 clause[יֹ֥ום שְׁלִישִֽׁי׃ פ ] phrase[יֹ֥ום שְׁלִישִֽׁי׃ פ ]\n",
      "Genesis 1:16 clause[אֶת־הַמָּאֹ֤ור הַגָּדֹל֙ ...] phrase[אֶת־הַמָּאֹ֤ור הַגָּדֹל֙ ...]\n",
      "Genesis 1:19 clause[יֹ֥ום רְבִיעִֽי׃ פ ] phrase[יֹ֥ום רְבִיעִֽי׃ פ ]\n",
      "Genesis 1:22 clause[לֵאמֹ֑ר ] phrase[לֵאמֹ֑ר ]\n",
      "Genesis 1:22 clause[פְּר֣וּ ] phrase[פְּר֣וּ ]\n",
      "Genesis 1:23 clause[יֹ֥ום חֲמִישִֽׁי׃ פ ] phrase[יֹ֥ום חֲמִישִֽׁי׃ פ ]\n",
      "Genesis 1:28 clause[פְּר֥וּ ] phrase[פְּר֥וּ ]\n",
      "Genesis 1:31 clause[יֹ֥ום הַשִּׁשִּֽׁי׃ פ ] phrase[יֹ֥ום הַשִּׁשִּֽׁי׃ פ ]\n"
     ]
    }
   ],
   "source": [
    "query = '''\n",
    "verse\n",
    "    clause\n",
    "        :: phrase\n",
    "'''\n",
    "S.study(query)\n",
    "S.showPlan()\n",
    "S.count(progress=1000, limit=-1)\n",
    "for r in S.fetch(amount=10):\n",
    "    print(S.glean(r))"
   ]
  },
  {
   "cell_type": "markdown",
   "metadata": {},
   "source": [
    "Like before, there might be extra phrases in such clauses, lying embedded in the clause-spanning phrase."
   ]
  },
  {
   "cell_type": "code",
   "execution_count": 40,
   "metadata": {
    "collapsed": false
   },
   "outputs": [
    {
     "name": "stdout",
     "output_type": "stream",
     "text": [
      "  0.00s Checking search template ...\n",
      "  0.00s Setting up search space for 4 objects ...\n",
      "  0.21s Constraining search space with 5 relations ...\n",
      "  0.54s Setting up retrieval plan ...\n",
      "  0.55s Ready to deliver results from 295167 nodes\n",
      "Iterate over S.fetch() to get the results\n",
      "See S.showPlan() to interpret the results\n",
      "  0.55s The results are connected to the original search template as follows:\n",
      " 0     \n",
      " 1 R0  verse\n",
      " 2 R1      clause\n",
      " 3 R2          :: p1:phrase\n",
      " 4 R3          p2:phrase\n",
      " 5             p1 # p2\n",
      " 6     \n",
      "  0.00s Counting results per 1000 up to  the end of the results ...\n",
      "  0.18s Done: 82 results\n",
      "2_Samuel 22:31 clause[מָגֵ֣ן ה֔וּא לְכֹ֖ל ] phrase[מָגֵ֣ן לְכֹ֖ל ] phrase[ה֔וּא ]\n",
      "Genesis 10:21 clause[גַּם־ה֑וּא אֲבִי֙ כָּל־בְּנֵי־...] phrase[גַּם־ה֑וּא אֲחִ֖י יֶ֥פֶת הַ...] phrase[אֲבִי֙ כָּל־בְּנֵי־עֵ֔בֶר ]\n",
      "1_Kings 2:26 clause[עֲנָתֹת֙ לֵ֣ךְ עַל־שָׂדֶ֔יךָ ] phrase[עֲנָתֹת֙ עַל־שָׂדֶ֔יךָ ] phrase[לֵ֣ךְ ]\n",
      "Genesis 24:24 clause[בַּת־בְּתוּאֵ֖ל אָנֹ֑כִי בֶּן־מִלְכָּ֕ה ] phrase[בַּת־בְּתוּאֵ֖ל בֶּן־מִלְכָּ֕ה ] phrase[אָנֹ֑כִי ]\n",
      "Genesis 31:16 clause[לָ֥נוּ ה֖וּא וּלְבָנֵ֑ינוּ ] phrase[לָ֥נוּ וּלְבָנֵ֑ינוּ ] phrase[ה֖וּא ]\n",
      "Genesis 31:53 clause[אֱלֹהֵ֨י אַבְרָהָ֜ם וֵֽאלֹהֵ֤י נָחֹור֙ ...] phrase[אֱלֹהֵ֨י אַבְרָהָ֜ם וֵֽאלֹהֵ֤י נָחֹור֙ ...] phrase[יִשְׁפְּט֣וּ ]\n",
      "Genesis 31:53 clause[אֱלֹהֵ֨י אַבְרָהָ֜ם וֵֽאלֹהֵ֤י נָחֹור֙ ...] phrase[אֱלֹהֵ֨י אַבְרָהָ֜ם וֵֽאלֹהֵ֤י נָחֹור֙ ...] phrase[בֵינֵ֔ינוּ ]\n",
      "1_Kings 18:40 clause[אִ֛ישׁ אַל־יִמָּלֵ֥ט מֵהֶ֖ם ] phrase[אִ֛ישׁ מֵהֶ֖ם ] phrase[אַל־]\n",
      "1_Kings 18:40 clause[אִ֛ישׁ אַל־יִמָּלֵ֥ט מֵהֶ֖ם ] phrase[אִ֛ישׁ מֵהֶ֖ם ] phrase[יִמָּלֵ֥ט ]\n",
      "2_Kings 20:14 clause[מֵאֶ֧רֶץ רְחֹוקָ֛ה בָּ֖אוּ מִ...] phrase[מֵאֶ֧רֶץ רְחֹוקָ֛ה מִבָּבֶֽל׃ ] phrase[בָּ֖אוּ ]\n"
     ]
    }
   ],
   "source": [
    "query = '''\n",
    "verse\n",
    "    clause\n",
    "        :: p1:phrase\n",
    "        p2:phrase\n",
    "        p1 # p2\n",
    "'''\n",
    "S.study(query)\n",
    "S.showPlan()\n",
    "S.count(progress=1000, limit=-1)\n",
    "for r in S.fetch(amount=10):\n",
    "    print(S.glean(r))"
   ]
  },
  {
   "cell_type": "markdown",
   "metadata": {},
   "source": [
    "# <: (adjacent before) \n",
    "This relation holds when the left hand sides ends in a slot that lies before the first slot of the right hand side.\n",
    "It serves to enforce an ordering between siblings of a parent.\n",
    "\n",
    "# :> (adjacent after)\n",
    "This relation holds when the left hand sides starts in a slot that lies after the last slot of the right hand side.\n",
    "\n",
    "As an example: are there clauses with multiple clause atoms without a gap between the two?"
   ]
  },
  {
   "cell_type": "code",
   "execution_count": 41,
   "metadata": {
    "collapsed": false
   },
   "outputs": [
    {
     "name": "stdout",
     "output_type": "stream",
     "text": [
      "  0.00s Checking search template ...\n",
      "  0.00s Setting up search space for 4 objects ...\n",
      "  0.12s Constraining search space with 4 relations ...\n",
      "  0.13s Setting up retrieval plan ...\n",
      "  0.15s Ready to deliver results from 292337 nodes\n",
      "Iterate over S.fetch() to get the results\n",
      "See S.showPlan() to interpret the results\n",
      "  0.15s The results are connected to the original search template as follows:\n",
      " 0     \n",
      " 1 R0  verse\n",
      " 2 R1      clause\n",
      " 3 R2          clause_atom\n",
      " 4 R3          <: clause_atom\n",
      " 5     \n",
      "  0.00s Counting results per 1000 up to  the end of the results ...\n",
      "  0.84s Done: 0 results\n"
     ]
    }
   ],
   "source": [
    "query = '''\n",
    "verse\n",
    "    clause\n",
    "        clause_atom\n",
    "        <: clause_atom\n",
    "'''\n",
    "S.study(query)\n",
    "S.showPlan()\n",
    "S.count(progress=1000, limit=-1)\n",
    "for r in S.fetch(amount=10):\n",
    "    print(S.glean(r))"
   ]
  },
  {
   "cell_type": "markdown",
   "metadata": {},
   "source": [
    "Conclusion: there is always textual material between clause_atoms of the same clause.\n",
    "If we lift the adjacency to sequentially before (`<<`) we do get results:"
   ]
  },
  {
   "cell_type": "code",
   "execution_count": 42,
   "metadata": {
    "collapsed": false
   },
   "outputs": [
    {
     "name": "stdout",
     "output_type": "stream",
     "text": [
      "  0.00s Checking search template ...\n",
      "  0.00s Setting up search space for 4 objects ...\n",
      "  0.11s Constraining search space with 4 relations ...\n",
      "  0.12s Setting up retrieval plan ...\n",
      "  0.14s Ready to deliver results from 292337 nodes\n",
      "Iterate over S.fetch() to get the results\n",
      "See S.showPlan() to interpret the results\n",
      "  0.15s The results are connected to the original search template as follows:\n",
      " 0     \n",
      " 1 R0  verse\n",
      " 2 R1      clause\n",
      " 3 R2          clause_atom\n",
      " 4 R3          << clause_atom\n",
      " 5     \n",
      "  0.00s Counting results per 1000 up to  the end of the results ...\n",
      "   |     0.30s 1000\n",
      "   |     0.60s 2000\n",
      "  0.75s Done: 2587 results\n",
      "Genesis 1:7 clause[וַיַּבְדֵּ֗ל בֵּ֤ין הַמַּ֨יִם֙ ...] clause_atom[וַיַּבְדֵּ֗ל בֵּ֤ין הַמַּ֨יִם֙ ] clause_atom[וּבֵ֣ין הַמַּ֔יִם ]\n",
      "Genesis 1:11 clause[תַּֽדְשֵׁ֤א הָאָ֨רֶץ֙ דֶּ֔שֶׁא עֵ֚שֶׂב ...] clause_atom[תַּֽדְשֵׁ֤א הָאָ֨רֶץ֙ דֶּ֔שֶׁא עֵ֚שֶׂב ] clause_atom[עֵ֣ץ פְּרִ֞י ]\n",
      "Genesis 1:11 clause[עֹ֤שֶׂה פְּרִי֙ לְמִינֹ֔ו עַל־...] clause_atom[עֹ֤שֶׂה פְּרִי֙ לְמִינֹ֔ו ] clause_atom[עַל־הָאָ֑רֶץ ]\n",
      "Genesis 1:12 clause[עֹ֥שֶׂה פְּרִ֛י לְמִינֵ֑הוּ ] clause_atom[עֹ֥שֶׂה פְּרִ֛י ] clause_atom[לְמִינֵ֑הוּ ]\n",
      "Genesis 1:12 clause[וַתֹּוצֵ֨א הָאָ֜רֶץ דֶּ֠שֶׁא ...] clause_atom[וַתֹּוצֵ֨א הָאָ֜רֶץ דֶּ֠שֶׁא ...] clause_atom[וְעֵ֧ץ ]\n",
      "Genesis 1:21 clause[וַיִּבְרָ֣א אֱלֹהִ֔ים אֶת־הַ...] clause_atom[וַיִּבְרָ֣א אֱלֹהִ֔ים אֶת־הַ...] clause_atom[לְמִֽינֵהֶ֗ם ]\n",
      "Genesis 1:29 clause[הִנֵּה֩ נָתַ֨תִּי לָכֶ֜ם אֶת־כָּל־...] clause_atom[הִנֵּה֩ נָתַ֨תִּי לָכֶ֜ם אֶת־כָּל־...] clause_atom[וְאֶת־כָּל־הָעֵ֛ץ ]\n",
      "Genesis 1:30 clause[וּֽלְכָל־חַיַּ֣ת הָ֠...] clause_atom[וּֽלְכָל־חַיַּ֣ת הָ֠...] clause_atom[אֶת־כָּל־יֶ֥רֶק עֵ֖שֶׂב לְ...]\n",
      "Genesis 2:17 clause[כִּ֗י בְּיֹ֛ום מֹ֥ות תָּמֽוּת׃ ] clause_atom[כִּ֗י בְּיֹ֛ום ] clause_atom[מֹ֥ות תָּמֽוּת׃ ]\n",
      "Genesis 2:22 clause[וַיִּבֶן֩ יְהוָ֨ה אֱלֹהִ֧ים׀ אֶֽת־...] clause_atom[וַיִּבֶן֩ יְהוָ֨ה אֱלֹהִ֧ים׀ אֶֽת־...] clause_atom[לְאִשָּׁ֑ה ]\n"
     ]
    }
   ],
   "source": [
    "query = '''\n",
    "verse\n",
    "    clause\n",
    "        clause_atom\n",
    "        << clause_atom\n",
    "'''\n",
    "S.study(query)\n",
    "S.showPlan()\n",
    "S.count(progress=1000, limit=-1)\n",
    "for r in S.fetch(amount=10):\n",
    "    print(S.glean(r))"
   ]
  },
  {
   "cell_type": "markdown",
   "metadata": {
    "collapsed": true
   },
   "source": [
    "# Nearness for := =: :: :> <:\n",
    "\n",
    "The relations with `:` in their name always have a requirement somewhere that a slot of the\n",
    "left hand node equals a slot of the right hand node, or that the two are adjacent.\n",
    "\n",
    "All these relationships can be relaxed by a **nearness number**.\n",
    "If you put a number *k* inside the relationship symbols, those restrictions will be relaxed to\n",
    "*the one slot and the other slot should have a mutual distance of at most k*.\n",
    "\n",
    "Here is an example.\n",
    "\n",
    "First we look for clauses, with a phrase in it that starts at the\n",
    "same slot as the clause."
   ]
  },
  {
   "cell_type": "code",
   "execution_count": 44,
   "metadata": {
    "collapsed": false
   },
   "outputs": [
    {
     "name": "stdout",
     "output_type": "stream",
     "text": [
      "  0.00s Checking search template ...\n",
      "  0.00s Setting up search space for 3 objects ...\n",
      "  0.13s Constraining search space with 3 relations ...\n",
      "  0.24s Setting up retrieval plan ...\n",
      "  0.24s Ready to deliver results from 259 nodes\n",
      "Iterate over S.fetch() to get the results\n",
      "See S.showPlan() to interpret the results\n",
      "  0.00s Counting results per 100 up to  the end of the results ...\n",
      "   |     0.00s 100\n",
      "  0.00s Done: 129 results\n"
     ]
    }
   ],
   "source": [
    "S.study('''\n",
    "chapter book=Genesis chapter=1\n",
    "    clause\n",
    "      =: phrase\n",
    "''')\n",
    "S.count(progress=100, limit=-1)"
   ]
  },
  {
   "cell_type": "markdown",
   "metadata": {},
   "source": [
    "Now we add a bit of freedom, but not much: 0. Indeed, this is no extra\n",
    "freedom, and it should give the same number of results."
   ]
  },
  {
   "cell_type": "code",
   "execution_count": 45,
   "metadata": {
    "collapsed": false
   },
   "outputs": [
    {
     "name": "stdout",
     "output_type": "stream",
     "text": [
      "  0.00s Checking search template ...\n",
      "  0.00s Setting up search space for 3 objects ...\n",
      "  0.09s Constraining search space with 3 relations ...\n",
      "  0.24s Setting up retrieval plan ...\n",
      "  0.24s Ready to deliver results from 259 nodes\n",
      "Iterate over S.fetch() to get the results\n",
      "See S.showPlan() to interpret the results\n",
      "  0.00s Counting results per 100 up to  the end of the results ...\n",
      "   |     0.00s 100\n",
      "  0.00s Done: 129 results\n"
     ]
    }
   ],
   "source": [
    "S.study('''\n",
    "chapter book=Genesis chapter=1\n",
    "    clause\n",
    "      =0: phrase\n",
    "''')\n",
    "S.count(progress=100, limit=-1)"
   ]
  },
  {
   "cell_type": "markdown",
   "metadata": {},
   "source": [
    "Now we add real freedom: 1 and 2"
   ]
  },
  {
   "cell_type": "code",
   "execution_count": 46,
   "metadata": {
    "collapsed": false
   },
   "outputs": [
    {
     "name": "stdout",
     "output_type": "stream",
     "text": [
      "  0.00s Checking search template ...\n",
      "  0.00s Setting up search space for 3 objects ...\n",
      "  0.10s Constraining search space with 3 relations ...\n",
      "  0.25s Setting up retrieval plan ...\n",
      "  0.25s Ready to deliver results from 415 nodes\n",
      "Iterate over S.fetch() to get the results\n",
      "See S.showPlan() to interpret the results\n",
      "  0.00s Counting results per 100 up to  the end of the results ...\n",
      "   |     0.04s 100\n",
      "   |     0.04s 200\n",
      "  0.05s Done: 241 results\n"
     ]
    }
   ],
   "source": [
    "S.study('''\n",
    "chapter book=Genesis chapter=1\n",
    "    clause\n",
    "      =1: phrase\n",
    "''')\n",
    "S.count(progress=100, limit=-1)"
   ]
  },
  {
   "cell_type": "code",
   "execution_count": 49,
   "metadata": {
    "collapsed": false
   },
   "outputs": [
    {
     "name": "stdout",
     "output_type": "stream",
     "text": [
      "  0.00s Checking search template ...\n",
      "  0.00s Setting up search space for 3 objects ...\n",
      "  0.11s Constraining search space with 3 relations ...\n",
      "  0.22s Setting up retrieval plan ...\n",
      "  0.22s Ready to deliver results from 479 nodes\n",
      "Iterate over S.fetch() to get the results\n",
      "See S.showPlan() to interpret the results\n",
      "  0.00s Counting results per 100 up to  the end of the results ...\n",
      "   |     0.00s 100\n",
      "   |     0.01s 200\n",
      "   |     0.01s 300\n",
      "  0.01s Done: 320 results\n"
     ]
    }
   ],
   "source": [
    "S.study('''\n",
    "chapter book=Genesis chapter=1\n",
    "    clause\n",
    "      =2: phrase\n",
    "''')\n",
    "S.count(progress=100, limit=-1)"
   ]
  },
  {
   "cell_type": "markdown",
   "metadata": {},
   "source": [
    "Let us see some cases:"
   ]
  },
  {
   "cell_type": "code",
   "execution_count": 50,
   "metadata": {
    "collapsed": false
   },
   "outputs": [
    {
     "name": "stdout",
     "output_type": "stream",
     "text": [
      " clause[בְּרֵאשִׁ֖ית בָּרָ֣א אֱלֹהִ֑ים אֵ֥ת ...] phrase[בְּרֵאשִׁ֖ית ]\n",
      " clause[בְּרֵאשִׁ֖ית בָּרָ֣א אֱלֹהִ֑ים אֵ֥ת ...] phrase[בָּרָ֣א ]\n",
      " clause[וְהָאָ֗רֶץ הָיְתָ֥ה תֹ֨הוּ֙ ...] phrase[וְ]\n",
      " clause[וְהָאָ֗רֶץ הָיְתָ֥ה תֹ֨הוּ֙ ...] phrase[הָאָ֗רֶץ ]\n",
      " clause[וְחֹ֖שֶׁךְ עַל־פְּנֵ֣י תְהֹ֑ום ] phrase[וְ]\n",
      " clause[וְחֹ֖שֶׁךְ עַל־פְּנֵ֣י תְהֹ֑ום ] phrase[חֹ֖שֶׁךְ ]\n",
      " clause[וְחֹ֖שֶׁךְ עַל־פְּנֵ֣י תְהֹ֑ום ] phrase[עַל־פְּנֵ֣י תְהֹ֑ום ]\n",
      " clause[וְר֣וּחַ אֱלֹהִ֔ים מְרַחֶ֖פֶת עַל־...] phrase[וְ]\n",
      " clause[וְר֣וּחַ אֱלֹהִ֔ים מְרַחֶ֖פֶת עַל־...] phrase[ר֣וּחַ אֱלֹהִ֔ים ]\n",
      " clause[וַיֹּ֥אמֶר אֱלֹהִ֖ים ] phrase[יֹּ֥אמֶר ]\n"
     ]
    }
   ],
   "source": [
    "for r in S.fetch(amount=10):\n",
    "    print(S.glean(r))"
   ]
  },
  {
   "cell_type": "markdown",
   "metadata": {},
   "source": [
    "The first and second result show the same clause, with its first and second phrase respectively.\n",
    "\n",
    "Note that we look for phrases that lie embedded in their clause.\n",
    "So we do not get phrases of a preceding clause.\n",
    "\n",
    "But if we want, we can get those as well."
   ]
  },
  {
   "cell_type": "code",
   "execution_count": 51,
   "metadata": {
    "collapsed": false
   },
   "outputs": [
    {
     "name": "stdout",
     "output_type": "stream",
     "text": [
      "  0.00s Checking search template ...\n",
      "  0.00s Setting up search space for 3 objects ...\n",
      "  0.09s Constraining search space with 3 relations ...\n",
      "  0.48s Setting up retrieval plan ...\n",
      "  0.48s Ready to deliver results from 479 nodes\n",
      "Iterate over S.fetch() to get the results\n",
      "See S.showPlan() to interpret the results\n",
      "  0.00s Counting results per 100 up to  the end of the results ...\n",
      "   |     0.00s 100\n",
      "   |     0.00s 200\n",
      "   |     0.00s 300\n",
      "   |     0.01s 400\n",
      "  0.01s Done: 490 results\n"
     ]
    }
   ],
   "source": [
    "S.study('''\n",
    "chapter book=Genesis chapter=1\n",
    "    c:clause\n",
    "    p:phrase\n",
    "    \n",
    "    c =2: p\n",
    "''')\n",
    "S.count(progress=100, limit=-1)"
   ]
  },
  {
   "cell_type": "markdown",
   "metadata": {},
   "source": [
    "We have more results now. Here is a closer look:"
   ]
  },
  {
   "cell_type": "code",
   "execution_count": 55,
   "metadata": {
    "collapsed": false
   },
   "outputs": [
    {
     "name": "stdout",
     "output_type": "stream",
     "text": [
      "  0.00s Checking search template ...\n",
      "  0.00s Setting up search space for 3 objects ...\n",
      "  0.16s Constraining search space with 3 relations ...\n",
      "  0.50s Setting up retrieval plan ...\n",
      "  0.50s Ready to deliver results from 12 nodes\n",
      "Iterate over S.fetch() to get the results\n",
      "See S.showPlan() to interpret the results\n",
      "  0.00s Counting results per 100 up to  the end of the results ...\n",
      "  0.00s Done: 13 results\n",
      "Genesis 1:3 clause[וַיֹּ֥אמֶר אֱלֹהִ֖ים ] phrase[יֹּ֥אמֶר ]\n",
      "Genesis 1:3 clause[וַיֹּ֥אמֶר אֱלֹהִ֖ים ] phrase[אֱלֹהִ֖ים ]\n",
      "Genesis 1:3 clause[וַיֹּ֥אמֶר אֱלֹהִ֖ים ] phrase[וַ]\n",
      "Genesis 1:3 clause[יְהִ֣י אֹ֑ור ] phrase[יֹּ֥אמֶר ]\n",
      "Genesis 1:3 clause[יְהִ֣י אֹ֑ור ] phrase[אֱלֹהִ֖ים ]\n",
      "Genesis 1:3 clause[יְהִ֣י אֹ֑ור ] phrase[יְהִ֣י ]\n",
      "Genesis 1:3 clause[יְהִ֣י אֹ֑ור ] phrase[אֹ֑ור ]\n",
      "Genesis 1:3 clause[יְהִ֣י אֹ֑ור ] phrase[וַֽ]\n",
      "Genesis 1:3 clause[וַֽיְהִי־אֹֽור׃ ] phrase[יְהִ֣י ]\n",
      "Genesis 1:3 clause[וַֽיְהִי־אֹֽור׃ ] phrase[אֹ֑ור ]\n",
      "Genesis 1:3 clause[וַֽיְהִי־אֹֽור׃ ] phrase[וַֽ]\n",
      "Genesis 1:3 clause[וַֽיְהִי־אֹֽור׃ ] phrase[יְהִי־]\n",
      "Genesis 1:3 clause[וַֽיְהִי־אֹֽור׃ ] phrase[אֹֽור׃ ]\n"
     ]
    }
   ],
   "source": [
    "S.study('''\n",
    "verse book=Genesis chapter=1 verse=3\n",
    "    c:clause\n",
    "    p:phrase\n",
    "    \n",
    "    c =2: p\n",
    "''')\n",
    "\n",
    "S.count(progress=100, limit=-1)\n",
    "for r in S.fetch(amount=100):\n",
    "    print(S.glean(r))"
   ]
  },
  {
   "cell_type": "markdown",
   "metadata": {},
   "source": [
    "Here you see in result 4 a phrase of the previous clause in the result."
   ]
  },
  {
   "cell_type": "code",
   "execution_count": null,
   "metadata": {
    "collapsed": true
   },
   "outputs": [],
   "source": []
  }
 ],
 "metadata": {
  "kernelspec": {
   "display_name": "Python 3",
   "language": "python",
   "name": "python3"
  },
  "language_info": {
   "codemirror_mode": {
    "name": "ipython",
    "version": 3
   },
   "file_extension": ".py",
   "mimetype": "text/x-python",
   "name": "python",
   "nbconvert_exporter": "python",
   "pygments_lexer": "ipython3",
   "version": "3.6.0"
  }
 },
 "nbformat": 4,
 "nbformat_minor": 1
}
