{
 "cells": [
  {
   "cell_type": "markdown",
   "metadata": {},
   "source": [
    "<img align=\"right\" src=\"tf-small.png\"/>\n",
    "\n",
    "# Tutorial\n",
    "## SBLGNT and Text-Fabric\n",
    "This tutorial introduces basic queries on the SBL Greek New Testament dataset using [Text-Fabric](https://github.com/ETCBC/text-fabric)<br>\n",
    "It assumes at least a basic familiarity with the [data model](https://github.com/ETCBC/text-fabric/wiki/Data-model)<br>\n",
    "For documentation on Text-Fabric, see [Text-Fabric Wiki](https://github.com/ETCBC/text-fabric/wiki)\n",
    "\n",
    "## Table of Contents\n",
    "\n",
    "* [Loading Text-Fabric](#Loading-Text-Fabric)    \n",
    "    * &nbsp;[instantiate text-fabric](#instantiate-text-fabric)\n",
    "    * &nbsp;[load sblgnt features](#load-sblgnt-features)\n",
    "* [Intro to Nodes, Objects, and Features](#Intro-to-Nodes,-Objects,-and-Features)\n",
    "    * &nbsp;[what is a node?](#what-is-a-node?)\n",
    "    * &nbsp;[what is an object?](#what-is-an-object?)\n",
    "    * &nbsp;[what is a feature?](#what-is-a-feature?)\n",
    "* [Access Object Nodes](#Access-Object-Nodes)<br>\n",
    "    * &nbsp;[access nodes](#access-nodes)\n",
    "    * &nbsp;[count all object types](#count-all-object-types)\n",
    "    * &nbsp;[count features and values](#count-features-and-values)\n",
    "* [Example Query: WordOrder](#Example-Query:-WordOrder)"
   ]
  },
  {
   "cell_type": "markdown",
   "metadata": {},
   "source": [
    "<hr>"
   ]
  },
  {
   "cell_type": "code",
   "execution_count": 15,
   "metadata": {
    "collapsed": false
   },
   "outputs": [
    {
     "name": "stdout",
     "output_type": "stream",
     "text": [
      "The autoreload extension is already loaded. To reload it, use:\n",
      "  %reload_ext autoreload\n"
     ]
    }
   ],
   "source": [
    "%load_ext autoreload\n",
    "%autoreload 2"
   ]
  },
  {
   "cell_type": "code",
   "execution_count": 16,
   "metadata": {
    "collapsed": false
   },
   "outputs": [],
   "source": [
    "import collections"
   ]
  },
  {
   "cell_type": "markdown",
   "metadata": {},
   "source": [
    "## Loading Text-Fabric\n",
    "\n",
    "Import the Fabric module from text-fabric:"
   ]
  },
  {
   "cell_type": "code",
   "execution_count": 17,
   "metadata": {
    "collapsed": true
   },
   "outputs": [],
   "source": [
    "from tf.fabric import Fabric"
   ]
  },
  {
   "cell_type": "markdown",
   "metadata": {},
   "source": [
    "### instantiate text-fabric\n",
    "Load the module with its path in the `text-fabric-data` directory."
   ]
  },
  {
   "cell_type": "code",
   "execution_count": 18,
   "metadata": {
    "collapsed": false
   },
   "outputs": [
    {
     "name": "stdout",
     "output_type": "stream",
     "text": [
      "This is Text-Fabric 2.1.2\n",
      "Api reference : https://github.com/ETCBC/text-fabric/wiki/Api\n",
      "Tutorial      : https://github.com/ETCBC/text-fabric/blob/master/docs/tutorial.ipynb\n",
      "Data sources  : https://github.com/ETCBC/text-fabric-data\n",
      "Data docs     : https://etcbc.github.io/text-fabric-data/features/hebrew/etcbc4c/0_overview.html\n",
      "Shebanq docs  : https://shebanq.ancient-data.org/text\n",
      "Slack team    : https://shebanq.slack.com/signup\n",
      "Questions? Ask shebanq@ancient-data.org for an invite to Slack\n",
      "35 features found and 0 ignored\n"
     ]
    }
   ],
   "source": [
    "TF = Fabric(modules='greek/sblgnt')"
   ]
  },
  {
   "cell_type": "markdown",
   "metadata": {},
   "source": [
    "### load sblgnt features\n",
    "\n",
    "Select which features to load from the data. The available features are in the [sblgnt features documentation](https://etcbc.github.io/text-fabric-data/features/greek/sblgnt/0_home.html). Features unique to text-fabric are lower-case while features native to sblgnt are upper. \n",
    "\n",
    "Features are loaded with the load method on the Fabric object. The method takes a string argument with all of the features. Features in the load string may be space or new-line separated."
   ]
  },
  {
   "cell_type": "code",
   "execution_count": 19,
   "metadata": {
    "collapsed": false
   },
   "outputs": [
    {
     "name": "stdout",
     "output_type": "stream",
     "text": [
      "  0.00s loading features ...\n",
      "   |     0.01s B otype                from /Users/Cody/github/text-fabric-data/greek/sblgnt\n",
      "   |     0.00s B book                 from /Users/Cody/github/text-fabric-data/greek/sblgnt\n",
      "   |     0.00s B chapter              from /Users/Cody/github/text-fabric-data/greek/sblgnt\n",
      "   |     0.00s B verse                from /Users/Cody/github/text-fabric-data/greek/sblgnt\n",
      "   |     0.09s B Unicode              from /Users/Cody/github/text-fabric-data/greek/sblgnt\n",
      "   |     0.07s B UnicodeLemma         from /Users/Cody/github/text-fabric-data/greek/sblgnt\n",
      "   |     0.10s B Cat                  from /Users/Cody/github/text-fabric-data/greek/sblgnt\n",
      "   |     0.03s B Gender               from /Users/Cody/github/text-fabric-data/greek/sblgnt\n",
      "   |     0.01s B Tense                from /Users/Cody/github/text-fabric-data/greek/sblgnt\n",
      "   |     0.01s B Mood                 from /Users/Cody/github/text-fabric-data/greek/sblgnt\n",
      "   |     0.07s B function             from /Users/Cody/github/text-fabric-data/greek/sblgnt\n",
      "   |     0.04s B psp                  from /Users/Cody/github/text-fabric-data/greek/sblgnt\n",
      "   |     0.04s B freq_occ             from /Users/Cody/github/text-fabric-data/greek/sblgnt\n",
      "   |     0.05s B freq_lex             from /Users/Cody/github/text-fabric-data/greek/sblgnt\n",
      "   |     0.00s Feature overview: 32 nodes; 2 edges; 1 configs; 7 computeds\n",
      "  1.54s All features loaded/computed - for details use loadLog()\n"
     ]
    }
   ],
   "source": [
    "api = TF.load('''\n",
    "                Cat Gender Tense\n",
    "                Unicode UnicodeLemma Mood\n",
    "                book chapter verse\n",
    "                otype function psp\n",
    "                freq_occ freq_lex\n",
    "              ''')\n",
    "\n",
    "api.makeAvailableIn(globals()) # optional line, but without it you must always append api."
   ]
  },
  {
   "cell_type": "markdown",
   "metadata": {},
   "source": [
    "<hr>"
   ]
  },
  {
   "cell_type": "markdown",
   "metadata": {},
   "source": [
    "## Intro to Nodes, Objects, and Features\n",
    "\n",
    "TF uses nodes, objects, and features as pointers to the data.\n",
    "\n",
    "### what is a node?\n",
    "\n",
    "A node is an arbitrary integer that TF uses to look up the data. Every datapoint in TF has its own unique node. We supply node numbers to TF python objects and get the value in return."
   ]
  },
  {
   "cell_type": "code",
   "execution_count": 20,
   "metadata": {
    "collapsed": false
   },
   "outputs": [
    {
     "data": {
      "text/plain": [
       "'book'"
      ]
     },
     "execution_count": 20,
     "metadata": {},
     "output_type": "execute_result"
    }
   ],
   "source": [
    "example_node = 137795\n",
    "\n",
    "# What kind of data does example_node represent? \n",
    "# We can find out by supplying the node number to the otype feature object:\n",
    "\n",
    "F.otype.v(example_node)"
   ]
  },
  {
   "cell_type": "markdown",
   "metadata": {},
   "source": [
    "Which book does example_node represent? We can find out by supplying it to another feature object:"
   ]
  },
  {
   "cell_type": "code",
   "execution_count": 21,
   "metadata": {
    "collapsed": false
   },
   "outputs": [
    {
     "data": {
      "text/plain": [
       "'matthew'"
      ]
     },
     "execution_count": 21,
     "metadata": {},
     "output_type": "execute_result"
    }
   ],
   "source": [
    "F.book.v(example_node)  # the book feature returns the book's name"
   ]
  },
  {
   "cell_type": "markdown",
   "metadata": {},
   "source": [
    "Let's try something else with this node. We'll supply example_node to a different kind of feature object..."
   ]
  },
  {
   "cell_type": "code",
   "execution_count": 22,
   "metadata": {
    "collapsed": false
   },
   "outputs": [
    {
     "name": "stdout",
     "output_type": "stream",
     "text": [
      "None\n"
     ]
    }
   ],
   "source": [
    "print(F.Gender.v(example_node))"
   ]
  },
  {
   "cell_type": "markdown",
   "metadata": {},
   "source": [
    "What happened here? Book nodes can't have gender features. But word nodes can:"
   ]
  },
  {
   "cell_type": "code",
   "execution_count": 23,
   "metadata": {
    "collapsed": false
   },
   "outputs": [
    {
     "name": "stdout",
     "output_type": "stream",
     "text": [
      "word_node gender: Feminine\n",
      "word_node unicode: ἔρημον\n"
     ]
    }
   ],
   "source": [
    "word_node = 1231\n",
    "print('word_node gender:', F.Gender.v(word_node))\n",
    "print('word_node unicode:', F.Unicode.v(word_node))"
   ]
  },
  {
   "cell_type": "markdown",
   "metadata": {},
   "source": [
    "This is because any given node represents different linguistic **objects**.\n",
    "\n",
    "### what is an object?\n",
    "\n",
    "Up to this point we've used the term 'object' in the usual Python sense. The sense we refer to from now on has *no* relation to programming objects. Rather, in the datamodel of TF, words, phrases, and clauses are defined as (linguistic) objects; likewise, sections like books, chapters, and verses are objects. For more information about how objects are defined, see the [data model documentation](https://github.com/ETCBC/text-fabric/wiki/Data-model). Every object has a `type`. As in the example above, some nodes are book object types, others are word object types, [and more](https://etcbc.github.io/text-fabric-data/features/hebrew/etcbc4c/otype).\n",
    "\n",
    "### what is a feature?\n",
    "\n",
    "Features are strings that provide information on an object type. `book`, `gender`, `tense`, and `function` are all examples of features that can be looked up for a corresponding object type. See the feature documentation for a reference to all of the features."
   ]
  },
  {
   "cell_type": "markdown",
   "metadata": {
    "collapsed": false
   },
   "source": [
    "<hr>\n",
    "\n",
    "## Access Object Nodes"
   ]
  },
  {
   "cell_type": "markdown",
   "metadata": {},
   "source": [
    "### access nodes\n",
    "We've seen what we can do with nodes. But how do we get the nodes we want? \n",
    "\n",
    "#### iterate through all nodes with [node generator](https://github.com/ETCBC/text-fabric/wiki/Api#walking-through-nodes) &nbsp;&nbsp;&nbsp;&nbsp;   `N():` "
   ]
  },
  {
   "cell_type": "code",
   "execution_count": 24,
   "metadata": {
    "collapsed": false
   },
   "outputs": [
    {
     "name": "stdout",
     "output_type": "stream",
     "text": [
      "total nodes:  428430\n"
     ]
    }
   ],
   "source": [
    "node_count = 0 \n",
    "\n",
    "for node in N():\n",
    "    node_count += 1\n",
    "    \n",
    "print('total nodes: ', node_count)"
   ]
  },
  {
   "cell_type": "markdown",
   "metadata": {},
   "source": [
    "#### interate through certain object type nodes with [feature otype](https://github.com/ETCBC/text-fabric/wiki/Api#node-features) &nbsp;&nbsp;&nbsp;&nbsp;`F.otype.s()` "
   ]
  },
  {
   "cell_type": "code",
   "execution_count": 25,
   "metadata": {
    "collapsed": false
   },
   "outputs": [
    {
     "name": "stdout",
     "output_type": "stream",
     "text": [
      "total books nodes:  27\n"
     ]
    }
   ],
   "source": [
    "book_count = 0\n",
    "\n",
    "for book_node in F.otype.s('book'):\n",
    "    book_count += 1\n",
    "    \n",
    "print('total books nodes: ', book_count)"
   ]
  },
  {
   "cell_type": "markdown",
   "metadata": {},
   "source": [
    "#### access embedd[ed/ing] objects with \"level up\", \"level down\" [locality](https://github.com/ETCBC/text-fabric/wiki/Api#locality) &nbsp;&nbsp;&nbsp;&nbsp; `L.u()` / `L.d()`\n",
    "\n",
    "TF preserves embedding relationships between object types. For example, phrases are embedded in clauses. See the [datamodel discussion on levels](https://github.com/ETCBC/text-fabric/wiki/Api#locality-and-levels) to understand how this is encoded. The TF term for these relationships is 'levels.'"
   ]
  },
  {
   "cell_type": "code",
   "execution_count": 30,
   "metadata": {
    "collapsed": false
   },
   "outputs": [
    {
     "data": {
      "text/plain": [
       "134334"
      ]
     },
     "execution_count": 30,
     "metadata": {},
     "output_type": "execute_result"
    }
   ],
   "source": [
    "from random import Random\n",
    "randomizer = Random()\n",
    "\n",
    "highest_word_node = F.otype.maxSlot\n",
    "random_word = randomizer.randint(1, highest_word_node)\n",
    "\n",
    "random_word"
   ]
  },
  {
   "cell_type": "code",
   "execution_count": 31,
   "metadata": {
    "collapsed": false
   },
   "outputs": [
    {
     "data": {
      "text/plain": [
       "(137821,)"
      ]
     },
     "execution_count": 31,
     "metadata": {},
     "output_type": "execute_result"
    }
   ],
   "source": [
    "# the book lookup returns a tuple containing the embedding book node:\n",
    "L.u(random_word,'book')"
   ]
  },
  {
   "cell_type": "code",
   "execution_count": 32,
   "metadata": {
    "collapsed": false
   },
   "outputs": [
    {
     "data": {
      "text/plain": [
       "'ἐξέχεεν, revelation, 16, 3, phraseFunction: vp'"
      ]
     },
     "execution_count": 32,
     "metadata": {},
     "output_type": "execute_result"
    }
   ],
   "source": [
    "# let's see all the above information for random_word\n",
    "level_up = (\n",
    "            F.Unicode.v(random_word),\n",
    "            F.book.v(\n",
    "                        L.u(random_word, otype='book')[0]\n",
    "                     ),\n",
    "    \n",
    "            str(F.chapter.v(\n",
    "                        L.u(random_word, otype='chapter')[0]\n",
    "                     )),\n",
    "\n",
    "            str(F.verse.v(\n",
    "                        L.u(random_word, otype = 'verse')[0]\n",
    "                     )),\n",
    "            'phraseFunction: ' + F.function.v(\n",
    "                                L.u(random_word, otype='phrase')[0]\n",
    "                             ))\n",
    "\n",
    "', '.join(level_up)"
   ]
  },
  {
   "cell_type": "markdown",
   "metadata": {},
   "source": [
    "#### access section objects with [Text](https://github.com/ETCBC/text-fabric/wiki/Api#text) &nbsp;&nbsp;&nbsp;&nbsp; `T.nodeFromSection()` / `T.sectionFromNode()`"
   ]
  },
  {
   "cell_type": "code",
   "execution_count": 33,
   "metadata": {
    "collapsed": false
   },
   "outputs": [
    {
     "data": {
      "text/plain": [
       "422594"
      ]
     },
     "execution_count": 33,
     "metadata": {},
     "output_type": "execute_result"
    }
   ],
   "source": [
    "john316 = ('John',3,16)  # req. a tuple; verse/chapter optional\n",
    "john316_node = T.nodeFromSection(john316)\n",
    "\n",
    "john316_node"
   ]
  },
  {
   "cell_type": "markdown",
   "metadata": {},
   "source": [
    "The Text api can conversely return section information from a given node (**`T.sectionFromNode`**). The T. api also provides a formatting function for formatting UTF8 text from a provided list of nodes.\n",
    "\n",
    "In the example below we do 3 things: \n",
    "1. Gather all of the word nodes in John 3:16 with a `L.d()` call (this returns a list). \n",
    "2. We feed the word nodes to **`T.text()`**, which requires an iterable of word nodes as an argument.\n",
    "3. And we print with the `T.text()` now formatted, and reverse the previous cell's step by re-gathering the section data from the `john316_node` (with `T.sectionfromNode())."
   ]
  },
  {
   "cell_type": "code",
   "execution_count": 34,
   "metadata": {
    "collapsed": false
   },
   "outputs": [
    {
     "name": "stdout",
     "output_type": "stream",
     "text": [
      "γὰρ Οὕτως ἠγάπησεν ὁ θεὸς τὸν κόσμον ὥστε τὸν υἱὸν τὸν μονογενῆ ἔδωκεν, ἵνα πᾶς ὁ πιστεύων εἰς αὐτὸν μὴ ἀπόληται ἀλλὰ ἔχῃ ζωὴν αἰώνιον.  ('John', 3, 16)\n"
     ]
    }
   ],
   "source": [
    "john316_words = L.d(john316_node, otype='word')\n",
    "\n",
    "print(T.text(john316_words), T.sectionFromNode(john316_node))"
   ]
  },
  {
   "cell_type": "markdown",
   "metadata": {},
   "source": [
    "### count all object types"
   ]
  },
  {
   "cell_type": "code",
   "execution_count": 35,
   "metadata": {
    "collapsed": false
   },
   "outputs": [
    {
     "name": "stdout",
     "output_type": "stream",
     "text": [
      "('book', 'chapter', 'verse', 'sentence', 'clause', 'clause_atom', 'phrase', 'conjunction', 'wordx', 'word')\n",
      "10 object types in sblgnt\n"
     ]
    }
   ],
   "source": [
    "all_objects = F.otype.all # just a tuple of object types (not nodes!) in sblgnt\n",
    "print(all_objects)\n",
    "print(len(all_objects), 'object types in sblgnt')"
   ]
  },
  {
   "cell_type": "code",
   "execution_count": 36,
   "metadata": {
    "collapsed": false
   },
   "outputs": [
    {
     "name": "stdout",
     "output_type": "stream",
     "text": [
      "book                        27\n",
      "conjunction                172\n",
      "chapter                    260\n",
      "wordx                      879\n",
      "verse                     7939\n",
      "sentence                  8014\n",
      "clause                   54800\n",
      "clause_atom              75967\n",
      "word                    137794\n",
      "phrase                  142578\n"
     ]
    }
   ],
   "source": [
    "# how many instances of each object type?\n",
    "\n",
    "object_counts = collections.Counter() # we use a counter to number the instances\n",
    "\n",
    "for obj_type in all_objects:\n",
    "    for otype_node in F.otype.s(obj_type): # F.otype.s() to iterate through the given otype nodes\n",
    "        object_counts[obj_type] += 1\n",
    "\n",
    "for otype, count in sorted(object_counts.items(), key = lambda k: k[1]):\n",
    "    print('{:<15}{:>15}'.format(otype, count))"
   ]
  },
  {
   "cell_type": "markdown",
   "metadata": {},
   "source": [
    "### count features and values\n",
    "\n",
    "A special method can return the count of a given feature."
   ]
  },
  {
   "cell_type": "code",
   "execution_count": 37,
   "metadata": {
    "collapsed": false
   },
   "outputs": [
    {
     "data": {
      "text/plain": [
       "(('Masculine', 41418), ('Feminine', 18750), ('Neuter', 13813))"
      ]
     },
     "execution_count": 37,
     "metadata": {},
     "output_type": "execute_result"
    }
   ],
   "source": [
    "F.Gender.freqList()"
   ]
  },
  {
   "cell_type": "markdown",
   "metadata": {},
   "source": [
    "Use &nbsp; [`Fall()`](https://github.com/ETCBC/text-fabric/wiki/Api#node-features) to see all loaded features"
   ]
  },
  {
   "cell_type": "code",
   "execution_count": 38,
   "metadata": {
    "collapsed": false
   },
   "outputs": [
    {
     "data": {
      "text/plain": [
       "['Cat',\n",
       " 'Gender',\n",
       " 'Mood',\n",
       " 'Tense',\n",
       " 'Unicode',\n",
       " 'UnicodeLemma',\n",
       " 'book',\n",
       " 'chapter',\n",
       " 'freq_lex',\n",
       " 'freq_occ',\n",
       " 'function',\n",
       " 'otype',\n",
       " 'psp',\n",
       " 'verse']"
      ]
     },
     "execution_count": 38,
     "metadata": {},
     "output_type": "execute_result"
    }
   ],
   "source": [
    "Fall()"
   ]
  },
  {
   "cell_type": "code",
   "execution_count": 39,
   "metadata": {
    "collapsed": false
   },
   "outputs": [
    {
     "name": "stdout",
     "output_type": "stream",
     "text": [
      "       category\n",
      "-------------------------\n",
      "np                  86102\n",
      "CL                  54800\n",
      "vp                  28339\n",
      "noun                28277\n",
      "verb                28112\n",
      "V                   25142\n",
      "det                 19806\n",
      "ADV                 19523\n",
      "S                   19180\n",
      "conj                18422\n",
      "pron                16132\n",
      "pp                  11434\n",
      "prep                11039\n",
      "O                   10931\n",
      "adjp                 9651\n",
      "adj                  8906\n",
      "advp                 6535\n",
      "adv                  6314\n",
      "P                    3685\n",
      "IO                   2666\n",
      "VC                   2590\n",
      "ptcl                 1043\n",
      "nump                  517\n",
      "num                   477\n",
      "intj                  317\n",
      "O2                    264 \n",
      "\n",
      "\n",
      "         gender\n",
      "-------------------------\n",
      "Masculine           41418\n",
      "Feminine            18750\n",
      "Neuter              13813 \n",
      "\n",
      "\n",
      "          tense\n",
      "-------------------------\n",
      "Aorist              11596\n",
      "Present             11552\n",
      "Imperfect            1679\n",
      "Future               1624\n",
      "Perfect              1573\n",
      "Pluperfect             88 \n",
      "\n",
      "\n",
      "           mood\n",
      "-------------------------\n",
      "Indicative          15616\n",
      "Participle           6659\n",
      "Infinitive           2289\n",
      "Subjunctive           1857\n",
      "Imperative           1623\n",
      "Optative               68 \n",
      "\n",
      "\n",
      "   partOfSpeech\n",
      "-------------------------\n",
      "noun                28277\n",
      "verb                28112\n",
      "det                 19806\n",
      "conj                18250\n",
      "pron                16130\n",
      "prep                10898\n",
      "adj                  8670\n",
      "adv                  6176\n",
      "ptcl                  979\n",
      "num                   477\n",
      "intj                   19 \n",
      "\n",
      "\n"
     ]
    }
   ],
   "source": [
    "select_features = {'category' : F.Cat, \n",
    "                   'gender' : F.Gender, \n",
    "                   'tense' : F.Tense, \n",
    "                   'mood' : F.Mood,\n",
    "                   'partOfSpeech' : F.psp,}\n",
    "\n",
    "for feature,TFObject in select_features.items():\n",
    "    \n",
    "    counts = '\\n'.join(list('{:10}{:>15}'.format(value, count) for value, count in TFObject.freqList()))\n",
    "    print('{:>15}\\n{:>15}'.format(feature,'-'*25))\n",
    "    print(counts, '\\n\\n')"
   ]
  },
  {
   "cell_type": "markdown",
   "metadata": {},
   "source": [
    "<hr>"
   ]
  },
  {
   "cell_type": "markdown",
   "metadata": {},
   "source": [
    "## Example Query: WordOrder\n",
    "\n",
    "Word order is notoriously tricky in Greek. Can we find any tendencies throughout the different NT books?\n",
    "\n",
    "For this search, we will look for clauses in which both a subject and a finite verb are present and measure which one comes first. The results will be presented on a book-by-book basis. We'll need to gather several pieces of information for each instance:\n",
    "\n",
    "* clause_atom, and feature category (clause-level-function)\n",
    "* Cat == 'V' and 'S'\n",
    "\n",
    "*Caution: this query encounters some quirky issues with the way clauses are structured in the dataset.*"
   ]
  },
  {
   "cell_type": "code",
   "execution_count": 40,
   "metadata": {
    "collapsed": false
   },
   "outputs": [],
   "source": [
    "wordOrderCounts = collections.defaultdict(collections.Counter)\n",
    "\n",
    "for book in F.otype.s('book'):\n",
    "    book_clauses = L.d(book, otype = 'clause')\n",
    "    for clause in book_clauses:\n",
    "        ordered_elements = ''\n",
    "        for ca in L.d(clause, otype = 'clause_atom'):\n",
    "            if F.Cat.v(ca) in {'V','S'}:\n",
    "                ordered_elements += F.Cat.v(ca)\n",
    "        if ordered_elements in {'VS','SV'}:  # the clause structuring produces quite a lot of superfluous results\n",
    "            wordOrderCounts[F.book.v(book)][ordered_elements] += 1"
   ]
  },
  {
   "cell_type": "code",
   "execution_count": 41,
   "metadata": {
    "collapsed": false
   },
   "outputs": [
    {
     "name": "stdout",
     "output_type": "stream",
     "text": [
      "           Book       SV   VS\n",
      "------------------------------\n",
      "        matthew      672  395\n",
      "           mark      423  243\n",
      "           luke      657  440\n",
      "           john      819  561\n",
      "           acts      508  427\n",
      "         romans      294  111\n",
      "   1corinthians      387  134\n",
      "   2corinthians      164   74\n",
      "      galatians       69   47\n",
      "      ephesians       36   22\n",
      "    philippians       45    7\n",
      "     colossians       29   13\n",
      " 1thessalonians       39   15\n",
      " 2thessalonians       15   15\n",
      "       1timothy       41    9\n",
      "       2timothy       30   22\n",
      "          titus       21    7\n",
      "       philemon        7    2\n",
      "        hebrews      131   86\n",
      "          james       68   33\n",
      "         1peter       48   22\n",
      "         2peter       35    8\n",
      "          1john      110   42\n",
      "          2john        8    1\n",
      "          3john        9    5\n",
      "           jude        4    3\n",
      "     revelation      318  178\n"
     ]
    }
   ],
   "source": [
    "print('{:>15}{:>9}{:>5}'.format('Book','SV','VS'))\n",
    "print('-'*30)\n",
    "for book in (F.book.v(b) for b in F.otype.s('book')):\n",
    "    count_data = list(number for (tag, number) in sorted(wordOrderCounts[book].items()))        \n",
    "    print('{:>15}{:>9}{:5}'.format( book, count_data[0], count_data[1]))"
   ]
  },
  {
   "cell_type": "code",
   "execution_count": null,
   "metadata": {
    "collapsed": true
   },
   "outputs": [],
   "source": []
  }
 ],
 "metadata": {
  "anaconda-cloud": {},
  "kernelspec": {
   "display_name": "Python 3",
   "language": "python",
   "name": "python3"
  },
  "language_info": {
   "codemirror_mode": {
    "name": "ipython",
    "version": 3
   },
   "file_extension": ".py",
   "mimetype": "text/x-python",
   "name": "python",
   "nbconvert_exporter": "python",
   "pygments_lexer": "ipython3",
   "version": "3.6.0"
  }
 },
 "nbformat": 4,
 "nbformat_minor": 2
}
