{
 "cells": [
  {
   "cell_type": "code",
   "execution_count": 10,
   "metadata": {
    "collapsed": true
   },
   "outputs": [],
   "source": [
    "from sys import getsizeof\n",
    "import array\n",
    "from tf.timestamp import Timestamp\n",
    "tm = Timestamp()"
   ]
  },
  {
   "cell_type": "code",
   "execution_count": 47,
   "metadata": {
    "collapsed": false
   },
   "outputs": [],
   "source": [
    "def tinf(msg, reset=False):\n",
    "    if reset:\n",
    "        tm.indent(reset=True)\n",
    "    tm.info(msg)\n",
    "\n",
    "def sizes(bunch):\n",
    "    tc = 0\n",
    "    for x in bunch:\n",
    "        lc = getsizeof(x)\n",
    "        tc += lc\n",
    "        print('{:<10}: {:>10}'.format('component', lc))\n",
    "    print('{:<10}: {:>10}'.format('total', tc))\n",
    "\n",
    "\n",
    "def fill():\n",
    "    for i in range(100): yield i\n",
    "    for i in range(200,300): yield i\n",
    "    for i in range(500, 1001): yield i\n",
    "    for i in (1002, 1004, 1006, 1008, 1010, 1012): yield i\n",
    "    for i in range(1012, 2000): yield 2*i\n",
    "    for i in range(4000, 1002305): yield i\n",
    "\n",
    "def testcases(): return range(1000, 1011)\n",
    "\n",
    "def check(bunch, getter):\n",
    "    for i in testcases():\n",
    "        print('{}={}'.format(repr(i), repr(getter(bunch, i))))\n",
    "\n",
    "def times(bunch, getter):\n",
    "    tinf('Getting all keys', reset=True)\n",
    "    for i in range(1000000):\n",
    "        x = getter(bunch, i)\n",
    "    tinf('Done')"
   ]
  },
  {
   "cell_type": "code",
   "execution_count": 50,
   "metadata": {
    "collapsed": true
   },
   "outputs": [],
   "source": [
    "def optimize1(bd):\n",
    "    values = []\n",
    "    keys = array.array('I')\n",
    "    index = 0\n",
    "    for i in sorted(bd):\n",
    "        value = bd[i]\n",
    "        values.append(value)\n",
    "        keys.append(index)\n",
    "        index += len(value)\n",
    "    return (keys, ''.join(values))\n",
    "\n",
    "def get1(optD, i):\n",
    "    (keys, values) = optD\n",
    "    index = keys[i]\n",
    "    index2 = keys[i+1] if i+1 < len(keys) else len(values)\n",
    "    value = values[index:index2]\n",
    "    return value"
   ]
  },
  {
   "cell_type": "code",
   "execution_count": 51,
   "metadata": {
    "collapsed": true
   },
   "outputs": [],
   "source": [
    "def optimize2(bd):\n",
    "    values = []\n",
    "    keys = array.array('I')\n",
    "    lengths = array.array('H')\n",
    "    index = 0\n",
    "    for i in sorted(bd):\n",
    "        value = bd[i]\n",
    "        values.append(value)\n",
    "        keys.append(index)\n",
    "        lval = len(value)\n",
    "        lengths.append(lval)\n",
    "        index += lval\n",
    "    return (keys, lengths, ''.join(values))\n",
    "\n",
    "def get2(optD, i):\n",
    "    (keys, lengths, values) = optD\n",
    "    index = keys[i]\n",
    "    length = lengths[i]\n",
    "    return values[index:index+length]"
   ]
  },
  {
   "cell_type": "code",
   "execution_count": 52,
   "metadata": {
    "collapsed": true
   },
   "outputs": [],
   "source": [
    "def optimize3(bd):\n",
    "    keys = {}\n",
    "    values = []\n",
    "\n",
    "    valindexes = array.array('I')\n",
    "    vallengths = array.array('H')\n",
    "    valindex = 0\n",
    "    index = 0\n",
    "    \n",
    "    for i in sorted(bd):\n",
    "        keys[i] = index\n",
    "\n",
    "        value = bd[i]\n",
    "        lval = len(value)\n",
    "\n",
    "        values.append(value)\n",
    "        valindexes.append(valindex)\n",
    "        valindex += lval\n",
    "        vallengths.append(lval)\n",
    "        index +=1\n",
    "    return (keys, valindexes, vallengths, ''.join(values))\n",
    "\n",
    "def get3(optD, i):\n",
    "    (keys, valindexes, vallengths, values) = optD\n",
    "    index = keys[i]\n",
    "    valindex = valindexes[i]\n",
    "    vallength = vallengths[i]\n",
    "    return values[valindex:valindex+vallength]"
   ]
  },
  {
   "cell_type": "code",
   "execution_count": 54,
   "metadata": {
    "collapsed": false
   },
   "outputs": [
    {
     "name": "stdout",
     "output_type": "stream",
     "text": [
      "component :   50331744\n",
      "total     :   50331744\n",
      "1000='1000'\n",
      "1001=None\n",
      "1002='1002'\n",
      "1003=None\n",
      "1004='1004'\n",
      "1005=None\n",
      "1006='1006'\n",
      "1007=None\n",
      "1008='1008'\n",
      "1009=None\n",
      "1010='1010'\n",
      "  0.00s Getting all keys\n",
      "  0.16s Done\n"
     ]
    }
   ],
   "source": [
    "bunch = dict((i, str(i)) for i in fill())\n",
    "sizes((bunch,))\n",
    "check(bunch, lambda data, i: data.get(i, None))\n",
    "times(bunch)"
   ]
  },
  {
   "cell_type": "code",
   "execution_count": 55,
   "metadata": {
    "collapsed": false
   },
   "outputs": [
    {
     "name": "stdout",
     "output_type": "stream",
     "text": [
      "component :    4091932\n",
      "component :    6445138\n",
      "total     :   10537070\n",
      "1000=b'2610'\n",
      "1001=b'2612'\n",
      "1002=b'2614'\n",
      "1003=b'2616'\n",
      "1004=b'2618'\n",
      "1005=b'2620'\n",
      "1006=b'2622'\n",
      "1007=b'2624'\n",
      "1008=b'2626'\n",
      "1009=b'2628'\n",
      "1010=b'2630'\n",
      "  0.00s Getting all keys\n",
      "  1.60s Done\n"
     ]
    }
   ],
   "source": [
    "bunch1 = optimize1(bunch)\n",
    "sizes(bunch1)\n",
    "check(bunch1, get1)\n",
    "timesB(bunch1)"
   ]
  },
  {
   "cell_type": "code",
   "execution_count": 17,
   "metadata": {
    "collapsed": false
   },
   "outputs": [
    {
     "name": "stdout",
     "output_type": "stream",
     "text": [
      "component :    4091932\n",
      "component :    5888939\n",
      "total     :    9980871\n",
      "  0.00s Getting all keys\n",
      "  0.62s Done\n"
     ]
    }
   ],
   "source": [
    "bunch2 = optimize2(bunch)\n",
    "sizes(bunch2)\n",
    "check(bunch2, get2)\n",
    "timesU(bunch2)"
   ]
  },
  {
   "cell_type": "code",
   "execution_count": 18,
   "metadata": {
    "collapsed": false
   },
   "outputs": [
    {
     "name": "stdout",
     "output_type": "stream",
     "text": [
      "component :    4091932\n",
      "component :    2045998\n",
      "component :    5888939\n",
      "total     :   12026869\n",
      "  0.00s Getting all keys\n",
      "  0.43s Done\n"
     ]
    }
   ],
   "source": [
    "bunch3 = optimize3(bunch)\n",
    "sizes(bunch3)\n",
    "timesU2(bunch3)"
   ]
  },
  {
   "cell_type": "code",
   "execution_count": 19,
   "metadata": {
    "collapsed": false
   },
   "outputs": [
    {
     "data": {
      "text/plain": [
       "28"
      ]
     },
     "execution_count": 19,
     "metadata": {},
     "output_type": "execute_result"
    }
   ],
   "source": [
    "x = 1\n",
    "getsizeof(1)"
   ]
  },
  {
   "cell_type": "code",
   "execution_count": 24,
   "metadata": {
    "collapsed": true
   },
   "outputs": [],
   "source": [
    "x = array.array('I', range(100))"
   ]
  },
  {
   "cell_type": "code",
   "execution_count": 25,
   "metadata": {
    "collapsed": false
   },
   "outputs": [
    {
     "data": {
      "text/plain": [
       "472"
      ]
     },
     "execution_count": 25,
     "metadata": {},
     "output_type": "execute_result"
    }
   ],
   "source": [
    "getsizeof(x)"
   ]
  },
  {
   "cell_type": "code",
   "execution_count": 22,
   "metadata": {
    "collapsed": true
   },
   "outputs": [],
   "source": [
    "x.append(1)"
   ]
  },
  {
   "cell_type": "code",
   "execution_count": null,
   "metadata": {
    "collapsed": true
   },
   "outputs": [],
   "source": []
  }
 ],
 "metadata": {
  "kernelspec": {
   "display_name": "Python 3",
   "language": "python",
   "name": "python3"
  },
  "language_info": {
   "codemirror_mode": {
    "name": "ipython",
    "version": 3
   },
   "file_extension": ".py",
   "mimetype": "text/x-python",
   "name": "python",
   "nbconvert_exporter": "python",
   "pygments_lexer": "ipython3",
   "version": "3.5.2"
  }
 },
 "nbformat": 4,
 "nbformat_minor": 1
}
