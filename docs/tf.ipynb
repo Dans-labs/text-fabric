{
 "cells": [
  {
   "cell_type": "code",
   "execution_count": 1,
   "metadata": {
    "collapsed": false
   },
   "outputs": [],
   "source": [
    "%load_ext autoreload\n",
    "%autoreload 2"
   ]
  },
  {
   "cell_type": "code",
   "execution_count": 2,
   "metadata": {
    "collapsed": false
   },
   "outputs": [],
   "source": [
    "import sys, collections\n",
    "from tf.fabric import Fabric"
   ]
  },
  {
   "cell_type": "code",
   "execution_count": 18,
   "metadata": {
    "collapsed": false
   },
   "outputs": [
    {
     "name": "stdout",
     "output_type": "stream",
     "text": [
      "[]\n",
      "[]\n",
      "[]\n",
      "[]\n",
      "[]\n",
      "[]\n",
      "[]\n",
      "[]\n",
      "[]\n",
      "0 features found and 0 ignored\n"
     ]
    },
    {
     "name": "stderr",
     "output_type": "stream",
     "text": [
      "  0.00s Grid feature \"otype\" not found in\n",
      "/Users/dirk/Downloads\n",
      "\t/Users/dirk/text-fabric-data\n",
      "\t/Users/dirk/github/text-fabric-data\n",
      "\t/Users/dirk/github/text-fabric-data/hebrew/etcbc4c\n",
      "\t/Users/dirk/github/text-fabric/docs\n",
      "\t/Users/dirk/t\n",
      "\te\n",
      "\ts\n",
      "\tt/etcbc4c\n",
      "  0.01s Grid feature \"oslots\" not found in\n",
      "/Users/dirk/Downloads\n",
      "\t/Users/dirk/text-fabric-data\n",
      "\t/Users/dirk/github/text-fabric-data\n",
      "\t/Users/dirk/github/text-fabric-data/hebrew/etcbc4c\n",
      "\t/Users/dirk/github/text-fabric/docs\n",
      "\t/Users/dirk/t\n",
      "\te\n",
      "\ts\n",
      "\tt/etcbc4c\n"
     ]
    },
    {
     "name": "stdout",
     "output_type": "stream",
     "text": [
      "  0.01s Grid feature \"otext\" not found. Working without Text-API\n",
      "\n"
     ]
    }
   ],
   "source": [
    "TF = Fabric('/Users/dirk/t e s t/etcbc4c')"
   ]
  },
  {
   "cell_type": "code",
   "execution_count": 4,
   "metadata": {
    "collapsed": false
   },
   "outputs": [
    {
     "name": "stdout",
     "output_type": "stream",
     "text": [
      "  0.00s loading features ...\n",
      "   |     0.07s B otype                from /Users/dirk/github/text-fabric-data/hebrew/etcbc4c\n",
      "   |     0.66s B oslots               from /Users/dirk/github/text-fabric-data/hebrew/etcbc4c\n",
      "   |     0.00s T otext                from /Users/dirk/github/text-fabric-data/hebrew/etcbc4c\n",
      "   |     0.04s B book                 from /Users/dirk/github/text-fabric-data/hebrew/etcbc4c\n",
      "   |     0.03s B chapter              from /Users/dirk/github/text-fabric-data/hebrew/etcbc4c\n",
      "   |     0.02s B verse                from /Users/dirk/github/text-fabric-data/hebrew/etcbc4c\n",
      "   |     0.17s B g_cons               from /Users/dirk/github/text-fabric-data/hebrew/etcbc4c\n",
      "   |     0.29s B g_cons_utf8          from /Users/dirk/github/text-fabric-data/hebrew/etcbc4c\n",
      "   |     0.29s B g_voc_lex            from /Users/dirk/github/text-fabric-data/hebrew/etcbc4c\n",
      "   |     0.32s B g_voc_lex_utf8       from /Users/dirk/github/text-fabric-data/hebrew/etcbc4c\n",
      "   |     0.26s B g_word               from /Users/dirk/github/text-fabric-data/hebrew/etcbc4c\n",
      "   |     0.42s B g_word_utf8          from /Users/dirk/github/text-fabric-data/hebrew/etcbc4c\n",
      "   |     0.19s B lex                  from /Users/dirk/github/text-fabric-data/hebrew/etcbc4c\n",
      "   |     0.30s B lex_utf8             from /Users/dirk/github/text-fabric-data/hebrew/etcbc4c\n",
      "   |     0.14s B qere                 from /Users/dirk/github/text-fabric-data/hebrew/etcbc4c\n",
      "   |     0.13s B qere_utf8            from /Users/dirk/github/text-fabric-data/hebrew/etcbc4c\n",
      "   |     0.13s B trailer              from /Users/dirk/github/text-fabric-data/hebrew/etcbc4c\n",
      "   |     0.12s B trailer_utf8         from /Users/dirk/github/text-fabric-data/hebrew/etcbc4c\n",
      "   |     0.00s B __levels__           from otype, oslots\n",
      "   |     0.06s B __order__            from otype, oslots, __levels__\n",
      "   |     0.05s B __rank__             from otype, __order__\n",
      "   |     2.38s B __levUp__            from otype, oslots, __rank__\n",
      "   |     1.02s B __levDown__          from otype, __levUp__, __rank__\n",
      "   |      |     0.00s c __sections__         slot type = word; max slot = 426580; max node = 1436893\n",
      "   |      |     0.16s c __sections__         929 chapters and 23212 verses indexed\n",
      "   |      |     0.18s C __sections__         from otype, oslots, otext, __levUp__, __levels__, book, chapter, verse\n",
      "   |     0.17s B sp                   from /Users/dirk/github/text-fabric-data/hebrew/etcbc4c\n",
      "  7.47s All features loaded/computed\n"
     ]
    }
   ],
   "source": [
    "T = TF.load('sp lex')"
   ]
  },
  {
   "cell_type": "markdown",
   "metadata": {},
   "source": [
    "# Text API"
   ]
  },
  {
   "cell_type": "code",
   "execution_count": 5,
   "metadata": {
    "collapsed": false
   },
   "outputs": [
    {
     "data": {
      "text/plain": [
       "['lex-orig-full',\n",
       " 'lex-orig-plain',\n",
       " 'lex-trans-full',\n",
       " 'lex-trans-plain',\n",
       " 'text-orig-full',\n",
       " 'text-orig-full-ketiv',\n",
       " 'text-orig-plain',\n",
       " 'text-trans-full',\n",
       " 'text-trans-full-ketiv',\n",
       " 'text-trans-plain']"
      ]
     },
     "execution_count": 5,
     "metadata": {},
     "output_type": "execute_result"
    }
   ],
   "source": [
    "sorted(T.T.formats)"
   ]
  },
  {
   "cell_type": "code",
   "execution_count": 6,
   "metadata": {
    "collapsed": false
   },
   "outputs": [
    {
     "name": "stdout",
     "output_type": "stream",
     "text": [
      "lex-orig-full: \"בְּ \"\n",
      "lex-orig-full: \"רֵאשִׁית \"\n",
      "lex-orig-plain: \"ב \"\n",
      "lex-orig-plain: \"ראשׁית֜ \"\n",
      "lex-trans-full: \"B.: \"\n",
      "lex-trans-full: \"R;>CIJT \"\n",
      "lex-trans-plain: \"B \"\n",
      "lex-trans-plain: \"R>CJT/ \"\n",
      "text-orig-full: \"בְּ\"\n",
      "text-orig-full: \"רֵאשִׁ֖ית \"\n",
      "text-orig-full-ketiv: \"בְּ\"\n",
      "text-orig-full-ketiv: \"רֵאשִׁ֖ית \"\n",
      "text-orig-plain: \"ב\"\n",
      "text-orig-plain: \"ראשׁית \"\n",
      "text-trans-full: \"B.:-\"\n",
      "text-trans-full: \"R;>CI73JT \"\n",
      "text-trans-full-ketiv: \"B.:-\"\n",
      "text-trans-full-ketiv: \"R;>CI73JT \"\n",
      "text-trans-plain: \"B\"\n",
      "text-trans-plain: \"R>CJT \"\n"
     ]
    }
   ],
   "source": [
    "for fmt in sorted(T.T.formats):\n",
    "    for n in range(2):\n",
    "        print('{}: \"{}\"'.format(fmt, T.T._xformats[fmt](n)))"
   ]
  },
  {
   "cell_type": "code",
   "execution_count": 7,
   "metadata": {
    "collapsed": false
   },
   "outputs": [
    {
     "name": "stdout",
     "output_type": "stream",
     "text": [
      "lex-orig-full: \"בְּ רֵאשִׁית ברא אֱלֹהִים אֵת הַ שָׁמַיִם וְ אֵת הַ אֶרֶץ וְ \"\n",
      "lex-orig-plain: \"ב ראשׁית֜ ברא אלהים֜ את ה שׁמים֜ ו את ה ארץ֜ ו \"\n",
      "lex-trans-full: \"B.: R;>CIJT BR> >:ELOHIJM >;T HA C@MAJIM W: >;T HA >EREY W: \"\n",
      "lex-trans-plain: \"B R>CJT/ BR>[ >LHJM/ >T H CMJM/ W >T H >RY/ W \"\n",
      "text-orig-full: \"בְּרֵאשִׁ֖ית בָּרָ֣א אֱלֹהִ֑ים אֵ֥ת הַשָּׁמַ֖יִם וְאֵ֥ת הָאָֽרֶץ׃ וְ\"\n",
      "text-orig-full-ketiv: \"בְּרֵאשִׁ֖ית בָּרָ֣א אֱלֹהִ֑ים אֵ֥ת הַשָּׁמַ֖יִם וְאֵ֥ת הָאָֽרֶץ׃ וְ\"\n",
      "text-orig-plain: \"בראשׁית ברא אלהים את השׁמים ואת הארץ׃ ו\"\n",
      "text-trans-full: \"B.:-R;>CI73JT B.@R@74> >:ELOHI92JM >;71T HA-C.@MA73JIM W:->;71T H@->@75REY00 W:-\"\n",
      "text-trans-full-ketiv: \"B.:-R;>CI73JT B.@R@74> >:ELOHI92JM >;71T HA-C.@MA73JIM W:->;71T H@->@75REY00 W:-\"\n",
      "text-trans-plain: \"BR>CJT BR> >LHJM >T HCMJM W>T H>RY00 W\"\n"
     ]
    }
   ],
   "source": [
    "for fmt in sorted(T.T.formats):\n",
    "    print('{}: \"{}\"'.format(fmt, T.T.text(range(12), fmt=fmt)))"
   ]
  },
  {
   "cell_type": "code",
   "execution_count": 8,
   "metadata": {
    "collapsed": false
   },
   "outputs": [
    {
     "name": "stdout",
     "output_type": "stream",
     "text": [
      "בְּרֵאשִׁ֖ית בָּרָ֣א אֱלֹהִ֑ים אֵ֥ת הַשָּׁמַ֖יִם וְאֵ֥ת הָאָֽרֶץ׃ וְ\n"
     ]
    }
   ],
   "source": [
    "print(T.T.text(range(12)))"
   ]
  },
  {
   "cell_type": "markdown",
   "metadata": {},
   "source": [
    "## Whole text in all formats in just 15 seconds"
   ]
  },
  {
   "cell_type": "code",
   "execution_count": 11,
   "metadata": {
    "collapsed": false
   },
   "outputs": [
    {
     "name": "stdout",
     "output_type": "stream",
     "text": [
      "  0.00s writing plain text of whole Bible in all formats\n",
      "   |     1.21s lex-orig-full\n",
      "   |     1.27s lex-orig-plain\n",
      "   |     1.49s lex-trans-full\n",
      "   |     1.36s lex-trans-plain\n",
      "   |     1.72s text-orig-full\n",
      "   |     1.37s text-orig-full-ketiv\n",
      "   |     1.53s text-orig-plain\n",
      "   |     1.92s text-trans-full\n",
      "   |     1.83s text-trans-full-ketiv\n",
      "   |     2.04s text-trans-plain\n",
      "    16s done 10 formats\n",
      "lex-orig-full\n",
      "בְּ רֵאשִׁית ברא אֱלֹהִים אֵת הַ שָׁמַיִם וְ אֵת הַ אֶרֶץ \n",
      "וְ הַ אֶרֶץ היה תֹּהוּ וְ בֹּהוּ וְ חֹשֶׁךְ עַל פָּנֶה תְּהֹום וְ רוּחַ אֱלֹהִים רחף עַל פָּנֶה הַ מַיִם \n",
      "וְ אמר אֱלֹהִים היה אֹור וְ היה אֹור \n",
      "וְ ראה אֱלֹהִים אֵת הַ אֹור כִּי טוב וְ בדל אֱלֹהִים בַּיִן הַ אֹור וְ בַּיִן הַ חֹשֶׁךְ \n",
      "וְ קרא אֱלֹהִים לְ הַ אֹור יֹום וְ לְ הַ חֹשֶׁךְ קרא לַיְלָה וְ היה עֶרֶב וְ היה בֹּקֶר יֹום אֶחָד \n",
      "\n",
      "lex-orig-plain\n",
      "ב ראשׁית֜ ברא אלהים֜ את ה שׁמים֜ ו את ה ארץ֜ \n",
      "ו ה ארץ֜ היה תהו֜ ו בהו֜ ו חשׁך֜ על פנה֜ תהום֜ ו רוח֜ אלהים֜ רחף על פנה֜ ה מים֜ \n",
      "ו אמר אלהים֜ היה אור֜ ו היה אור֜ \n",
      "ו ראה אלהים֜ את ה אור֜ כי טוב ו בדל אלהים֜ בין֜ ה אור֜ ו בין֜ ה חשׁך֜ \n",
      "ו קרא אלהים֜ ל ה אור֜ יום֜ ו ל ה חשׁך֜ קרא לילה֜ ו היה ערב֜ ו היה בקר֜ יום֜ אחד֜ \n",
      "\n",
      "lex-trans-full\n",
      "B.: R;>CIJT BR> >:ELOHIJM >;T HA C@MAJIM W: >;T HA >EREY \n",
      "W: HA >EREY HJH T.OHW. W: B.OHW. W: XOCEK: <AL P.@NEH T.:HOWM W: RW.XA >:ELOHIJM RXP <AL P.@NEH HA MAJIM \n",
      "W: >MR >:ELOHIJM HJH >OWR W: HJH >OWR \n",
      "W: R>H >:ELOHIJM >;T HA >OWR K.IJ VWB W: BDL >:ELOHIJM B.AJIN HA >OWR W: B.AJIN HA XOCEK: \n",
      "W: QR> >:ELOHIJM L: HA >OWR JOWM W: L: HA XOCEK: QR> LAJ:L@H W: HJH <EREB W: HJH B.OQER JOWM >EX@D \n",
      "\n",
      "lex-trans-plain\n",
      "B R>CJT/ BR>[ >LHJM/ >T H CMJM/ W >T H >RY/ \n",
      "W H >RY/ HJH[ THW/ W BHW/ W XCK/ <L PNH/ THWM/ W RWX/ >LHJM/ RXP[ <L PNH/ H MJM/ \n",
      "W >MR[ >LHJM/ HJH[ >WR/ W HJH[ >WR/ \n",
      "W R>H[ >LHJM/ >T H >WR/ KJ VWB[ W BDL[ >LHJM/ BJN/ H >WR/ W BJN/ H XCK/ \n",
      "W QR>[ >LHJM/ L H >WR/ JWM/ W L H XCK/ QR>[ LJLH/ W HJH[ <RB/ W HJH[ BQR=/ JWM/ >XD/ \n",
      "\n",
      "text-orig-full\n",
      "בְּרֵאשִׁ֖ית בָּרָ֣א אֱלֹהִ֑ים אֵ֥ת הַשָּׁמַ֖יִם וְאֵ֥ת הָאָֽרֶץ׃ \n",
      "וְהָאָ֗רֶץ הָיְתָ֥ה תֹ֨הוּ֙ וָבֹ֔הוּ וְחֹ֖שֶׁךְ עַל־פְּנֵ֣י תְהֹ֑ום וְר֣וּחַ אֱלֹהִ֔ים מְרַחֶ֖פֶת עַל־פְּנֵ֥י הַמָּֽיִם׃ \n",
      "וַיֹּ֥אמֶר אֱלֹהִ֖ים יְהִ֣י אֹ֑ור וַֽיְהִי־אֹֽור׃ \n",
      "וַיַּ֧רְא אֱלֹהִ֛ים אֶת־הָאֹ֖ור כִּי־טֹ֑וב וַיַּבְדֵּ֣ל אֱלֹהִ֔ים בֵּ֥ין הָאֹ֖ור וּבֵ֥ין הַחֹֽשֶׁךְ׃ \n",
      "וַיִּקְרָ֨א אֱלֹהִ֤ים׀ לָאֹור֙ יֹ֔ום וְלַחֹ֖שֶׁךְ קָ֣רָא לָ֑יְלָה וַֽיְהִי־עֶ֥רֶב וַֽיְהִי־בֹ֖קֶר יֹ֥ום אֶחָֽד׃ פ \n",
      "\n",
      "text-orig-full-ketiv\n",
      "בְּרֵאשִׁ֖ית בָּרָ֣א אֱלֹהִ֑ים אֵ֥ת הַשָּׁמַ֖יִם וְאֵ֥ת הָאָֽרֶץ׃ \n",
      "וְהָאָ֗רֶץ הָיְתָ֥ה תֹ֨הוּ֙ וָבֹ֔הוּ וְחֹ֖שֶׁךְ עַל־פְּנֵ֣י תְהֹ֑ום וְר֣וּחַ אֱלֹהִ֔ים מְרַחֶ֖פֶת עַל־פְּנֵ֥י הַמָּֽיִם׃ \n",
      "וַיֹּ֥אמֶר אֱלֹהִ֖ים יְהִ֣י אֹ֑ור וַֽיְהִי־אֹֽור׃ \n",
      "וַיַּ֧רְא אֱלֹהִ֛ים אֶת־הָאֹ֖ור כִּי־טֹ֑וב וַיַּבְדֵּ֣ל אֱלֹהִ֔ים בֵּ֥ין הָאֹ֖ור וּבֵ֥ין הַחֹֽשֶׁךְ׃ \n",
      "וַיִּקְרָ֨א אֱלֹהִ֤ים׀ לָאֹור֙ יֹ֔ום וְלַחֹ֖שֶׁךְ קָ֣רָא לָ֑יְלָה וַֽיְהִי־עֶ֥רֶב וַֽיְהִי־בֹ֖קֶר יֹ֥ום אֶחָֽד׃ פ \n",
      "\n",
      "text-orig-plain\n",
      "בראשׁית ברא אלהים את השׁמים ואת הארץ׃ \n",
      "והארץ היתה תהו ובהו וחשׁך על־פני תהום ורוח אלהים מרחפת על־פני המים׃ \n",
      "ויאמר אלהים יהי אור ויהי־אור׃ \n",
      "וירא אלהים את־האור כי־טוב ויבדל אלהים בין האור ובין החשׁך׃ \n",
      "ויקרא אלהים׀ לאור יום ולחשׁך קרא לילה ויהי־ערב ויהי־בקר יום אחד׃ פ \n",
      "\n",
      "text-trans-full\n",
      "B.:-R;>CI73JT B.@R@74> >:ELOHI92JM >;71T HA-C.@MA73JIM W:->;71T H@->@75REY00 \n",
      "W:-H@->@81REY H@J:T@71H TO33HW.03 W@-BO80HW. W:-XO73CEK: <AL&P.:N;74J T:HO92WM W:-R74W.XA >:ELOHI80JM M:RAXE73PET <AL&P.:N;71J HA-M.@75JIM00 \n",
      "WA-J.O71>MER >:ELOHI73JM J:HI74J >O92WR WA45-J:HIJ&>O75WR00 \n",
      "WA-J.A94R:> >:ELOHI91JM >ET&H@->O73WR K.IJ&VO92WB WA-J.AB:D.;74L >:ELOHI80JM B.;71JN H@->O73WR W.-B;71JN HA-XO75CEK:00 \n",
      "WA-J.IQ:R@63> >:ELOHI70JM05 L@-->OWR03 JO80WM W:-LA--XO73CEK: Q@74R@> L@92J:L@H WA45-J:HIJ&<E71REB WA45-J:HIJ&BO73QER JO71WM >EX@75D00_P \n",
      "\n",
      "text-trans-full-ketiv\n",
      "B.:-R;>CI73JT B.@R@74> >:ELOHI92JM >;71T HA-C.@MA73JIM W:->;71T H@->@75REY00 \n",
      "W:-H@->@81REY H@J:T@71H TO33HW.03 W@-BO80HW. W:-XO73CEK: <AL&P.:N;74J T:HO92WM W:-R74W.XA >:ELOHI80JM M:RAXE73PET <AL&P.:N;71J HA-M.@75JIM00 \n",
      "WA-J.O71>MER >:ELOHI73JM J:HI74J >O92WR WA45-J:HIJ&>O75WR00 \n",
      "WA-J.A94R:> >:ELOHI91JM >ET&H@->O73WR K.IJ&VO92WB WA-J.AB:D.;74L >:ELOHI80JM B.;71JN H@->O73WR W.-B;71JN HA-XO75CEK:00 \n",
      "WA-J.IQ:R@63> >:ELOHI70JM05 L@-->OWR03 JO80WM W:-LA--XO73CEK: Q@74R@> L@92J:L@H WA45-J:HIJ&<E71REB WA45-J:HIJ&BO73QER JO71WM >EX@75D00_P \n",
      "\n",
      "text-trans-plain\n",
      "BR>CJT BR> >LHJM >T HCMJM W>T H>RY00 \n",
      "WH>RY HJTH THW WBHW WXCK <L&PNJ THWM WRWX >LHJM MRXPT <L&PNJ HMJM00 \n",
      "WJ>MR >LHJM JHJ >WR WJHJ&>WR00 \n",
      "WJR> >LHJM >T&H>WR KJ&VWB WJBDL >LHJM BJN H>WR WBJN HXCK00 \n",
      "WJQR> >LHJM05 L>WR JWM WLXCK QR> LJLH WJHJ&<RB WJHJ&BQR JWM >XD00_P \n",
      "\n"
     ]
    }
   ],
   "source": [
    "text = collections.defaultdict(list)\n",
    "T.indent(reset=True)\n",
    "T.info('writing plain text of whole Bible in all formats')\n",
    "for fmt in sorted(T.T.formats):\n",
    "    T.indent(level=1, reset=True)\n",
    "    for v in T.F.otype.s('verse'):\n",
    "        text[fmt].append(T.T.text(T.L.d(v, 'word'), fmt=fmt))\n",
    "    T.info(fmt)\n",
    "T.indent(level=0)\n",
    "T.info('done {} formats'.format(len(text)))\n",
    "for fmt in sorted(text):\n",
    "    print('{}\\n{}\\n'.format(fmt, '\\n'.join(text[fmt][0:5])))"
   ]
  },
  {
   "cell_type": "code",
   "execution_count": 12,
   "metadata": {
    "collapsed": false
   },
   "outputs": [
    {
     "name": "stdout",
     "output_type": "stream",
     "text": [
      "('Genesis', '1', '1')\n",
      "1413681\n",
      "1413681\n",
      "1367533\n",
      "1367572\n"
     ]
    }
   ],
   "source": [
    "for x in (\n",
    "    T.T.sectionFromNode(0, lastSlot=True),\n",
    "    T.T.nodeFromSection(('Genesis', '1', '1')),\n",
    "    T.T.nodeFromSection(('Mwanzo', '1', '1'), lang='sw'),\n",
    "    T.T.nodeFromSection(('Genesis',)),\n",
    "    T.T.nodeFromSection(('Genesis', '1')),\n",
    "): print(x)"
   ]
  },
  {
   "cell_type": "code",
   "execution_count": 13,
   "metadata": {
    "collapsed": false
   },
   "outputs": [
    {
     "name": "stdout",
     "output_type": "stream",
     "text": [
      "  0.00s Get sentences that span multiple verses\n",
      "  6.06s Found 915 cases\n",
      "  6.06s \n",
      "Genesis 1:17-18\n",
      "Genesis 1:29-30\n",
      "Genesis 2:4-7\n",
      "Genesis 7:2-3\n",
      "Genesis 7:8-9\n",
      "Genesis 7:13-14\n",
      "Genesis 9:9-10\n",
      "Genesis 10:11-12\n",
      "Genesis 10:13-14\n",
      "Genesis 10:15-18\n"
     ]
    }
   ],
   "source": [
    "T.indent(reset=True)\n",
    "T.info('Get sentences that span multiple verses')\n",
    "spanSentences = []\n",
    "for s in T.F.otype.s('sentence'):\n",
    "    f = T.T.sectionFromNode(s, lastSlot=False)\n",
    "    l = T.T.sectionFromNode(s, lastSlot=True)\n",
    "    if f != l:\n",
    "        spanSentences.append('{} {}:{}-{}'.format(f[0], f[1], f[2], l[2]))\n",
    "T.info('Found {} cases'.format(len(spanSentences)))\n",
    "T.info('\\n{}'.format('\\n'.join(spanSentences[0:10])))"
   ]
  },
  {
   "cell_type": "code",
   "execution_count": 14,
   "metadata": {
    "collapsed": false
   },
   "outputs": [
    {
     "data": {
      "text/plain": [
       "{'am': {'language': 'ኣማርኛ', 'languageEnglish': 'amharic'},\n",
       " 'ar': {'language': 'العَرَبِية', 'languageEnglish': 'arabic'},\n",
       " 'bn': {'language': 'বাংলা', 'languageEnglish': 'bengali'},\n",
       " 'da': {'language': 'Dansk', 'languageEnglish': 'danish'},\n",
       " 'de': {'language': 'Deutsch', 'languageEnglish': 'german'},\n",
       " 'el': {'language': 'Ελληνικά', 'languageEnglish': 'greek'},\n",
       " 'en': {'language': 'English', 'languageEnglish': 'english'},\n",
       " 'es': {'language': 'Español', 'languageEnglish': 'spanish'},\n",
       " 'fa': {'language': 'فارسی', 'languageEnglish': 'farsi'},\n",
       " 'fr': {'language': 'Français', 'languageEnglish': 'french'},\n",
       " 'he': {'language': 'עברית', 'languageEnglish': 'hebrew'},\n",
       " 'hi': {'language': 'हिन्दी', 'languageEnglish': 'hindi'},\n",
       " 'id': {'language': 'Bahasa Indonesia', 'languageEnglish': 'indonesian'},\n",
       " 'ja': {'language': '日本語', 'languageEnglish': 'japanese'},\n",
       " 'ko': {'language': '한국어', 'languageEnglish': 'korean'},\n",
       " 'la': {'language': 'Latina', 'languageEnglish': 'latin'},\n",
       " 'nl': {'language': 'Nederlands', 'languageEnglish': 'dutch'},\n",
       " 'pa': {'language': 'ਪੰਜਾਬੀ', 'languageEnglish': 'punjabi'},\n",
       " 'pt': {'language': 'Português', 'languageEnglish': 'portuguese'},\n",
       " 'ru': {'language': 'Русский', 'languageEnglish': 'russian'},\n",
       " 'sw': {'language': 'Kiswahili', 'languageEnglish': 'swahili'},\n",
       " 'syc': {'language': 'ܠܫܢܐ ܣܘܪܝܝܐ', 'languageEnglish': 'syriac'},\n",
       " 'tr': {'language': 'Türkçe', 'languageEnglish': 'turkish'},\n",
       " 'ur': {'language': 'اُردُو', 'languageEnglish': 'urdu'},\n",
       " 'yo': {'language': 'èdè Yorùbá', 'languageEnglish': 'yoruba'},\n",
       " 'zh': {'language': '中文', 'languageEnglish': 'chinese'}}"
      ]
     },
     "execution_count": 14,
     "metadata": {},
     "output_type": "execute_result"
    }
   ],
   "source": [
    "T.T.languages"
   ]
  },
  {
   "cell_type": "code",
   "execution_count": 15,
   "metadata": {
    "collapsed": false
   },
   "outputs": [
    {
     "name": "stdout",
     "output_type": "stream",
     "text": [
      "Mwanzo\n",
      "Kutoka\n",
      "Mambo_ya_Walawi\n",
      "Hesabu\n",
      "Kumbukumbu_la_Torati\n",
      "Yoshua\n",
      "Waamuzi\n",
      "1_Samweli\n",
      "2_Samweli\n",
      "1_Wafalme\n",
      "2_Wafalme\n",
      "Isaya\n",
      "Yeremia\n",
      "Ezekieli\n",
      "Hosea\n",
      "Yoeli\n",
      "Amosi\n",
      "Obadia\n",
      "Yona\n",
      "Mika\n",
      "Nahumu\n",
      "Habakuki\n",
      "Sefania\n",
      "Hagai\n",
      "Zekaria\n",
      "Malaki\n",
      "Zaburi\n",
      "Ayubu\n",
      "Mithali\n",
      "Ruthi\n",
      "Wimbo_Ulio_Bora\n",
      "Mhubiri\n",
      "Maombolezo\n",
      "Esta\n",
      "Danieli\n",
      "Ezra\n",
      "Nehemia\n",
      "1_Mambo_ya_Nyakati\n",
      "2_Mambo_ya_Nyakati\n"
     ]
    }
   ],
   "source": [
    "for b in T.F.otype.s('book'):\n",
    "    print(T.T.bookName(b, lang='sw'))"
   ]
  },
  {
   "cell_type": "code",
   "execution_count": 16,
   "metadata": {
    "collapsed": true
   },
   "outputs": [],
   "source": [
    "names = '''\n",
    "Mwanzo\n",
    "Kutoka\n",
    "Mambo_ya_Walawi\n",
    "Hesabu\n",
    "Kumbukumbu_la_Torati\n",
    "Yoshua\n",
    "Waamuzi\n",
    "1_Samweli\n",
    "2_Samweli\n",
    "1_Wafalme\n",
    "2_Wafalme\n",
    "Isaya\n",
    "Yeremia\n",
    "Ezekieli\n",
    "Hosea\n",
    "Yoeli\n",
    "Amosi\n",
    "Obadia\n",
    "Yona\n",
    "Mika\n",
    "Nahumu\n",
    "Habakuki\n",
    "Sefania\n",
    "Hagai\n",
    "Zekaria\n",
    "Malaki\n",
    "Zaburi\n",
    "Ayubu\n",
    "Mithali\n",
    "Ruthi\n",
    "Wimbo_Ulio_Bora\n",
    "Mhubiri\n",
    "Maombolezo\n",
    "Esta\n",
    "Danieli\n",
    "Ezra\n",
    "Nehemia\n",
    "1_Mambo_ya_Nyakati\n",
    "2_Mambo_ya_Nyakati\n",
    "'''.strip().split()"
   ]
  },
  {
   "cell_type": "code",
   "execution_count": 17,
   "metadata": {
    "collapsed": false
   },
   "outputs": [
    {
     "name": "stdout",
     "output_type": "stream",
     "text": [
      "1367533\n",
      "1367534\n",
      "1367535\n",
      "1367536\n",
      "1367537\n",
      "1367538\n",
      "1367539\n",
      "1367540\n",
      "1367541\n",
      "1367542\n",
      "1367543\n",
      "1367544\n",
      "1367545\n",
      "1367546\n",
      "1367547\n",
      "1367548\n",
      "1367549\n",
      "1367550\n",
      "1367551\n",
      "1367552\n",
      "1367553\n",
      "1367554\n",
      "1367555\n",
      "1367556\n",
      "1367557\n",
      "1367558\n",
      "1367559\n",
      "1367560\n",
      "1367561\n",
      "1367562\n",
      "1367563\n",
      "1367564\n",
      "1367565\n",
      "1367566\n",
      "1367567\n",
      "1367568\n",
      "1367569\n",
      "1367570\n",
      "1367571\n"
     ]
    }
   ],
   "source": [
    "for nm in names:\n",
    "    print(T.T.bookNode(nm, lang='sw'))"
   ]
  },
  {
   "cell_type": "markdown",
   "metadata": {},
   "source": [
    "## Counting\n",
    "\n",
    "We count the words of each part of speech, and we list to top 10 of frequent lexemes.\n",
    "\n",
    "**NB**: mind the pretty progress messages."
   ]
  },
  {
   "cell_type": "code",
   "execution_count": 18,
   "metadata": {
    "collapsed": false
   },
   "outputs": [
    {
     "name": "stdout",
     "output_type": "stream",
     "text": [
      "  0.00s Starting tasks\n",
      "   |     0.00s Counting the words by part-of-speech ...\n",
      "   |     0.61s Done: 14 categories\n",
      "   |      |   subs: 121481x\n",
      "   |      |   verb: 73710x\n",
      "   |      |   prep: 73273x\n",
      "   |      |   conj: 62722x\n",
      "   |      |   nmpr: 33082x\n",
      "   |      |   art : 30384x\n",
      "   |      |   adjv:  9464x\n",
      "   |      |   nega:  6053x\n",
      "   |      |   prps:  5011x\n",
      "   |      |   advb:  4550x\n",
      "   |      |   prde:  2660x\n",
      "   |      |   intj:  1885x\n",
      "   |      |   inrg:  1285x\n",
      "   |      |   prin:  1021x\n",
      "   |     0.00s Listing the top 10 frequent words ...\n",
      "   |     0.64s Done: 8776 lexemes\n",
      "   |      |   W   : 51003x\n",
      "   |      |   H   : 30390x\n",
      "   |      |   L   : 20447x\n",
      "   |      |   B   : 15768x\n",
      "   |      |   >T  : 11002x\n",
      "   |      |   MN  :  7681x\n",
      "   |      |   JHWH/:  6828x\n",
      "   |      |   <L  :  5870x\n",
      "   |      |   >L  :  5521x\n",
      "   |      |   >CR :  5500x\n",
      "  1.27s All tasks completed\n"
     ]
    }
   ],
   "source": [
    "partOfSpeech = collections.Counter()\n",
    "freqLex = collections.Counter()\n",
    "\n",
    "T.indent(level=0, reset=True)\n",
    "T.info('Starting tasks')\n",
    "T.indent(level=1, reset=True)\n",
    "T.info('Counting the words by part-of-speech ...')\n",
    "for w in T.F.otype.s('word'):\n",
    "    partOfSpeech[T.F.sp.v(w)] += 1\n",
    "T.info('Done: {} categories'.format(len(partOfSpeech)))\n",
    "T.indent(level=2)\n",
    "T.info('\\n'.join('{:<4}: {:>5}x'.format(*x) for x in sorted(\n",
    "    partOfSpeech.items(),\n",
    "    key=lambda x: (-x[1], x[0])\n",
    ")), tm=False)\n",
    "\n",
    "T.indent(level=1, reset=True)\n",
    "T.info('Listing the top 10 frequent words ...')\n",
    "for w in T.F.otype.s('word'):\n",
    "    freqLex[T.F.lex.v(w)] += 1\n",
    "T.info('Done: {} lexemes'.format(len(freqLex)))\n",
    "T.indent(level=2)\n",
    "T.info('\\n'.join('{:<4}: {:>5}x'.format(*x) for x in sorted(\n",
    "    freqLex.items(),\n",
    "    key=lambda x: (-x[1], x[0])\n",
    ")[0:10]), tm=False)\n",
    "T.indent(level=0)\n",
    "T.info('All tasks completed')"
   ]
  },
  {
   "cell_type": "code",
   "execution_count": 19,
   "metadata": {
    "collapsed": false
   },
   "outputs": [
    {
     "name": "stdout",
     "output_type": "stream",
     "text": [
      ">MR[: 5378\n",
      "HJH[: 3561\n",
      "<FH[: 2629\n",
      "BW>[: 2570\n",
      "NTN[: 2017\n",
      "HLK[: 1554\n",
      "R>H[: 1298\n",
      "CM<[: 1168\n",
      "DBR[: 1138\n",
      "JCB[: 1082\n",
      "\n"
     ]
    }
   ],
   "source": [
    "# collect 10 most frequent verbs\n",
    "verbs = collections.Counter()\n",
    "for w in T.F.otype.s('word'):\n",
    "    if T.F.sp.v(w) != 'verb': continue\n",
    "    verbs[T.F.lex.v(w)] +=1\n",
    "print(''.join(\n",
    "    '{}: {}\\n'.format(verb, cnt) for (verb, cnt) in sorted(\n",
    "        verbs.items() , key=lambda x: (-x[1], x[0]))[0:10],\n",
    "    )\n",
    ")       "
   ]
  },
  {
   "cell_type": "code",
   "execution_count": 20,
   "metadata": {
    "collapsed": false
   },
   "outputs": [
    {
     "name": "stdout",
     "output_type": "stream",
     "text": [
      "slotType=word\n",
      "maxSlot=426580\n",
      "maxNode=1436894\n",
      "All otypes:\n",
      "   |   book\n",
      "   |   chapter\n",
      "   |   verse\n",
      "   |   half_verse\n",
      "   |   sentence\n",
      "   |   sentence_atom\n",
      "   |   clause\n",
      "   |   clause_atom\n",
      "   |   phrase\n",
      "   |   phrase_atom\n",
      "   |   subphrase\n",
      "   |   word\n"
     ]
    }
   ],
   "source": [
    "T.indent(level=0)\n",
    "T.info('slotType={}\\nmaxSlot={}\\nmaxNode={}'.format(\n",
    "    T.F.otype.slotType,\n",
    "    T.F.otype.maxSlot,\n",
    "    T.F.otype.maxNode,\n",
    "), tm=False)\n",
    "T.info('All otypes:', tm=False)\n",
    "T.indent(level=1)\n",
    "T.info('\\n'.join(T.F.otype.all), tm=False)"
   ]
  },
  {
   "cell_type": "code",
   "execution_count": 21,
   "metadata": {
    "collapsed": false
   },
   "outputs": [
    {
     "name": "stdout",
     "output_type": "stream",
     "text": [
      "  0.00s Counting nodes ...\n",
      "  0.40s 1436894 nodes\n"
     ]
    }
   ],
   "source": [
    "T.indent(reset=True)\n",
    "T.info('Counting nodes ...')\n",
    "i = 0\n",
    "for n in T.N(): i += 1\n",
    "T.info('{} nodes'.format(i))"
   ]
  },
  {
   "cell_type": "code",
   "execution_count": 22,
   "metadata": {
    "collapsed": false
   },
   "outputs": [
    {
     "data": {
      "text/plain": [
       "[426581,\n",
       " 0,\n",
       " 1,\n",
       " 2,\n",
       " 3,\n",
       " 4,\n",
       " 5,\n",
       " 6,\n",
       " 7,\n",
       " 8,\n",
       " 9,\n",
       " 426582,\n",
       " 426583,\n",
       " 426584,\n",
       " 426585,\n",
       " 426586,\n",
       " 426587,\n",
       " 426588,\n",
       " 426589]"
      ]
     },
     "execution_count": 22,
     "metadata": {},
     "output_type": "execute_result"
    }
   ],
   "source": [
    "T.sorted(list(range(T.F.otype.maxSlot+1, T.F.otype.maxSlot+10))+list(range(10)))"
   ]
  },
  {
   "cell_type": "code",
   "execution_count": 23,
   "metadata": {
    "collapsed": false
   },
   "outputs": [
    {
     "name": "stdout",
     "output_type": "stream",
     "text": [
      "  0.00s counting objects ...\n",
      "   |     0.00s      39 books\n",
      "   |     0.00s     929 chapters\n",
      "   |     0.01s   23213 verses\n",
      "   |     0.01s   45180 half_verses\n",
      "   |     0.02s   63570 sentences\n",
      "   |     0.03s   64339 sentence_atoms\n",
      "   |     0.04s   88000 clauses\n",
      "   |     0.02s   90562 clause_atoms\n",
      "   |     0.05s  253174 phrases\n",
      "   |     0.05s  267515 phrase_atoms\n",
      "   |     0.03s  113792 subphrases\n",
      "   |     0.08s  426581 words\n",
      "  0.37s Done\n"
     ]
    }
   ],
   "source": [
    "T.indent(reset=True)\n",
    "T.info('counting objects ...')\n",
    "for otype in T.F.otype.all:\n",
    "    i = 0\n",
    "    T.indent(level=1, reset=True)\n",
    "    for n in T.F.otype.s(otype): i+=1\n",
    "    T.info('{:>7} {}s'.format(i, otype))\n",
    "T.indent(level=0)\n",
    "T.info('Done')"
   ]
  },
  {
   "cell_type": "code",
   "execution_count": 24,
   "metadata": {
    "collapsed": false
   },
   "outputs": [
    {
     "data": {
      "text/plain": [
       "(1367572,\n",
       " 1367573,\n",
       " 1367574,\n",
       " 1367575,\n",
       " 1367576,\n",
       " 1367577,\n",
       " 1367578,\n",
       " 1367579,\n",
       " 1367580,\n",
       " 1367581,\n",
       " 1367582,\n",
       " 1367583,\n",
       " 1367584,\n",
       " 1367585,\n",
       " 1367586,\n",
       " 1367587,\n",
       " 1367588,\n",
       " 1367589,\n",
       " 1367590,\n",
       " 1367591,\n",
       " 1367592,\n",
       " 1367593,\n",
       " 1367594,\n",
       " 1367595,\n",
       " 1367596,\n",
       " 1367597,\n",
       " 1367598,\n",
       " 1367599,\n",
       " 1367600,\n",
       " 1367601,\n",
       " 1367602,\n",
       " 1367603,\n",
       " 1367604,\n",
       " 1367605,\n",
       " 1367606,\n",
       " 1367607,\n",
       " 1367608,\n",
       " 1367609,\n",
       " 1367610,\n",
       " 1367611,\n",
       " 1367612,\n",
       " 1367613,\n",
       " 1367614,\n",
       " 1367615,\n",
       " 1367616,\n",
       " 1367617,\n",
       " 1367618,\n",
       " 1367619,\n",
       " 1367620,\n",
       " 1367621)"
      ]
     },
     "execution_count": 24,
     "metadata": {},
     "output_type": "execute_result"
    }
   ],
   "source": [
    "T.L.u(0, otype='book')\n",
    "T.L.d(1367533, otype='chapter')"
   ]
  },
  {
   "cell_type": "code",
   "execution_count": 25,
   "metadata": {
    "collapsed": false
   },
   "outputs": [
    {
     "name": "stdout",
     "output_type": "stream",
     "text": [
      "From 0 up\n",
      "605143          phrase\n",
      "858317          phrase_atom\n",
      "1368501         half_verse\n",
      "514581          clause_atom\n",
      "426581          clause\n",
      "1413681         verse\n",
      "1189402         sentence_atom\n",
      "1125832         sentence\n",
      "1367572         chapter\n",
      "1367533         book\n",
      "From 0 down\n",
      "\n",
      "From 1413681 up\n",
      "1189402         sentence_atom\n",
      "1125832         sentence\n",
      "1367572         chapter\n",
      "1367533         book\n",
      "From 1413681 down\n",
      "426581          clause\n",
      "514581          clause_atom\n",
      "1368501         half_verse\n",
      "858317          phrase_atom\n",
      "605143          phrase\n",
      "0               word\n",
      "1               word\n",
      "858318          phrase_atom\n",
      "2               word\n",
      "605144          phrase\n",
      "858319          phrase_atom\n",
      "3               word\n",
      "605145          phrase\n",
      "858320          phrase_atom\n",
      "1368502         half_verse\n",
      "605146          phrase\n",
      "1253741         subphrase\n",
      "4               word\n",
      "5               word\n",
      "6               word\n",
      "7               word\n",
      "1253742         subphrase\n",
      "8               word\n",
      "9               word\n",
      "10              word\n"
     ]
    }
   ],
   "source": [
    "for n in [0, 1413681]:\n",
    "    print('From {} up'.format(n))\n",
    "    print('\\n'.join(['{:<15} {}'.format(u, T.F.otype.v(u)) for u in T.L.u(n)]))\n",
    "    print('From {} down'.format(n))\n",
    "    print('\\n'.join(['{:<15} {}'.format(u, T.F.otype.v(u)) for u in T.L.d(n)]))"
   ]
  },
  {
   "cell_type": "code",
   "execution_count": null,
   "metadata": {
    "collapsed": true
   },
   "outputs": [],
   "source": []
  },
  {
   "cell_type": "code",
   "execution_count": null,
   "metadata": {
    "collapsed": true
   },
   "outputs": [],
   "source": []
  }
 ],
 "metadata": {
  "kernelspec": {
   "display_name": "Python 3",
   "language": "python",
   "name": "python3"
  },
  "language_info": {
   "codemirror_mode": {
    "name": "ipython",
    "version": 3
   },
   "file_extension": ".py",
   "mimetype": "text/x-python",
   "name": "python",
   "nbconvert_exporter": "python",
   "pygments_lexer": "ipython3",
   "version": "3.5.2"
  }
 },
 "nbformat": 4,
 "nbformat_minor": 1
}
