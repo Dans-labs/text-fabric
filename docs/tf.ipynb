{
 "cells": [
  {
   "cell_type": "code",
   "execution_count": 1,
   "metadata": {
    "collapsed": false
   },
   "outputs": [],
   "source": [
    "%load_ext autoreload\n",
    "%autoreload 2"
   ]
  },
  {
   "cell_type": "code",
   "execution_count": 2,
   "metadata": {
    "collapsed": false
   },
   "outputs": [],
   "source": [
    "import sys, collections\n",
    "from tf.fabric import Fabric"
   ]
  },
  {
   "cell_type": "code",
   "execution_count": 3,
   "metadata": {
    "collapsed": false
   },
   "outputs": [
    {
     "name": "stdout",
     "output_type": "stream",
     "text": [
      "  0.00s Looking for available data features:\n",
      "  0.00s   book                 from /Users/dirk/github/text-fabric-data/hebrew/etcbc4c/book.tf\n",
      "  0.00s   chapter              from /Users/dirk/github/text-fabric-data/hebrew/etcbc4c/chapter.tf\n",
      "  0.01s   code                 from /Users/dirk/github/text-fabric-data/hebrew/etcbc4c/code.tf\n",
      "  0.01s   det                  from /Users/dirk/github/text-fabric-data/hebrew/etcbc4c/det.tf\n",
      "  0.01s   dist                 from /Users/dirk/github/text-fabric-data/hebrew/etcbc4c/dist.tf\n",
      "  0.01s   dist_unit            from /Users/dirk/github/text-fabric-data/hebrew/etcbc4c/dist_unit.tf\n",
      "  0.01s   distributional_parent from /Users/dirk/github/text-fabric-data/hebrew/etcbc4c/distributional_parent.tf\n",
      "  0.01s   domain               from /Users/dirk/github/text-fabric-data/hebrew/etcbc4c/domain.tf\n",
      "  0.01s   function             from /Users/dirk/github/text-fabric-data/hebrew/etcbc4c/function.tf\n",
      "  0.01s   functional_parent    from /Users/dirk/github/text-fabric-data/hebrew/etcbc4c/functional_parent.tf\n",
      "  0.01s   g_cons               from /Users/dirk/github/text-fabric-data/hebrew/etcbc4c/g_cons.tf\n",
      "  0.01s   g_cons_utf8          from /Users/dirk/github/text-fabric-data/hebrew/etcbc4c/g_cons_utf8.tf\n",
      "  0.01s   g_lex                from /Users/dirk/github/text-fabric-data/hebrew/etcbc4c/g_lex.tf\n",
      "  0.02s   g_lex_utf8           from /Users/dirk/github/text-fabric-data/hebrew/etcbc4c/g_lex_utf8.tf\n",
      "  0.02s   g_nme                from /Users/dirk/github/text-fabric-data/hebrew/etcbc4c/g_nme.tf\n",
      "  0.02s   g_nme_utf8           from /Users/dirk/github/text-fabric-data/hebrew/etcbc4c/g_nme_utf8.tf\n",
      "  0.02s   g_pfm                from /Users/dirk/github/text-fabric-data/hebrew/etcbc4c/g_pfm.tf\n",
      "  0.02s   g_pfm_utf8           from /Users/dirk/github/text-fabric-data/hebrew/etcbc4c/g_pfm_utf8.tf\n",
      "  0.03s   g_prs                from /Users/dirk/github/text-fabric-data/hebrew/etcbc4c/g_prs.tf\n",
      "  0.03s   g_prs_utf8           from /Users/dirk/github/text-fabric-data/hebrew/etcbc4c/g_prs_utf8.tf\n",
      "  0.03s   g_uvf                from /Users/dirk/github/text-fabric-data/hebrew/etcbc4c/g_uvf.tf\n",
      "  0.04s   g_uvf_utf8           from /Users/dirk/github/text-fabric-data/hebrew/etcbc4c/g_uvf_utf8.tf\n",
      "  0.04s   g_vbe                from /Users/dirk/github/text-fabric-data/hebrew/etcbc4c/g_vbe.tf\n",
      "  0.04s   g_vbe_utf8           from /Users/dirk/github/text-fabric-data/hebrew/etcbc4c/g_vbe_utf8.tf\n",
      "  0.04s   g_vbs                from /Users/dirk/github/text-fabric-data/hebrew/etcbc4c/g_vbs.tf\n",
      "  0.04s   g_vbs_utf8           from /Users/dirk/github/text-fabric-data/hebrew/etcbc4c/g_vbs_utf8.tf\n",
      "  0.04s   g_voc_lex            from /Users/dirk/github/text-fabric-data/hebrew/etcbc4c/g_voc_lex.tf\n",
      "  0.05s   g_voc_lex_utf8       from /Users/dirk/github/text-fabric-data/hebrew/etcbc4c/g_voc_lex_utf8.tf\n",
      "  0.05s   g_word               from /Users/dirk/github/text-fabric-data/hebrew/etcbc4c/g_word.tf\n",
      "  0.05s   g_word_utf8          from /Users/dirk/github/text-fabric-data/hebrew/etcbc4c/g_word_utf8.tf\n",
      "  0.05s   gn                   from /Users/dirk/github/text-fabric-data/hebrew/etcbc4c/gn.tf\n",
      "  0.05s   is_root              from /Users/dirk/github/text-fabric-data/hebrew/etcbc4c/is_root.tf\n",
      "  0.05s   kind                 from /Users/dirk/github/text-fabric-data/hebrew/etcbc4c/kind.tf\n",
      "  0.05s   label                from /Users/dirk/github/text-fabric-data/hebrew/etcbc4c/label.tf\n",
      "  0.06s   language             from /Users/dirk/github/text-fabric-data/hebrew/etcbc4c/language.tf\n",
      "  0.06s   lex                  from /Users/dirk/github/text-fabric-data/hebrew/etcbc4c/lex.tf\n",
      "  0.06s   lex_utf8             from /Users/dirk/github/text-fabric-data/hebrew/etcbc4c/lex_utf8.tf\n",
      "  0.06s   ls                   from /Users/dirk/github/text-fabric-data/hebrew/etcbc4c/ls.tf\n",
      "  0.06s   mother               from /Users/dirk/github/text-fabric-data/hebrew/etcbc4c/mother.tf\n",
      "  0.06s   mother_object_type   from /Users/dirk/github/text-fabric-data/hebrew/etcbc4c/mother_object_type.tf\n",
      "  0.06s   nme                  from /Users/dirk/github/text-fabric-data/hebrew/etcbc4c/nme.tf\n",
      "  0.07s   nu                   from /Users/dirk/github/text-fabric-data/hebrew/etcbc4c/nu.tf\n",
      "  0.07s   number               from /Users/dirk/github/text-fabric-data/hebrew/etcbc4c/number.tf\n",
      "  0.07s   oslots               from /Users/dirk/github/text-fabric-data/hebrew/etcbc4c/oslots.tf\n",
      "  0.08s   otype                from /Users/dirk/github/text-fabric-data/hebrew/etcbc4c/otype.tf\n",
      "  0.08s   pdp                  from /Users/dirk/github/text-fabric-data/hebrew/etcbc4c/pdp.tf\n",
      "  0.09s   pfm                  from /Users/dirk/github/text-fabric-data/hebrew/etcbc4c/pfm.tf\n",
      "  0.09s   prs                  from /Users/dirk/github/text-fabric-data/hebrew/etcbc4c/prs.tf\n",
      "  0.09s   prs_gn               from /Users/dirk/github/text-fabric-data/hebrew/etcbc4c/prs_gn.tf\n",
      "  0.09s   prs_nu               from /Users/dirk/github/text-fabric-data/hebrew/etcbc4c/prs_nu.tf\n",
      "  0.09s   prs_ps               from /Users/dirk/github/text-fabric-data/hebrew/etcbc4c/prs_ps.tf\n",
      "  0.09s   ps                   from /Users/dirk/github/text-fabric-data/hebrew/etcbc4c/ps.tf\n",
      "  0.10s   qere                 from /Users/dirk/github/text-fabric-data/hebrew/etcbc4c/qere.tf\n",
      "  0.10s   qere_utf8            from /Users/dirk/github/text-fabric-data/hebrew/etcbc4c/qere_utf8.tf\n",
      "  0.10s   rela                 from /Users/dirk/github/text-fabric-data/hebrew/etcbc4c/rela.tf\n",
      "  0.11s   sp                   from /Users/dirk/github/text-fabric-data/hebrew/etcbc4c/sp.tf\n",
      "  0.11s   st                   from /Users/dirk/github/text-fabric-data/hebrew/etcbc4c/st.tf\n",
      "  0.11s   tab                  from /Users/dirk/github/text-fabric-data/hebrew/etcbc4c/tab.tf\n",
      "  0.12s   trailer              from /Users/dirk/github/text-fabric-data/hebrew/etcbc4c/trailer.tf\n",
      "  0.13s   trailer_utf8         from /Users/dirk/github/text-fabric-data/hebrew/etcbc4c/trailer_utf8.tf\n",
      "  0.13s   txt                  from /Users/dirk/github/text-fabric-data/hebrew/etcbc4c/txt.tf\n",
      "  0.14s   typ                  from /Users/dirk/github/text-fabric-data/hebrew/etcbc4c/typ.tf\n",
      "  0.14s   uvf                  from /Users/dirk/github/text-fabric-data/hebrew/etcbc4c/uvf.tf\n",
      "  0.14s   vbe                  from /Users/dirk/github/text-fabric-data/hebrew/etcbc4c/vbe.tf\n",
      "  0.14s   vbs                  from /Users/dirk/github/text-fabric-data/hebrew/etcbc4c/vbs.tf\n",
      "  0.15s   verse                from /Users/dirk/github/text-fabric-data/hebrew/etcbc4c/verse.tf\n",
      "  0.15s   vs                   from /Users/dirk/github/text-fabric-data/hebrew/etcbc4c/vs.tf\n",
      "  0.15s   vt                   from /Users/dirk/github/text-fabric-data/hebrew/etcbc4c/vt.tf\n",
      "  0.15s 68 features found\n"
     ]
    }
   ],
   "source": [
    "TF = Fabric()"
   ]
  },
  {
   "cell_type": "code",
   "execution_count": 4,
   "metadata": {
    "collapsed": false
   },
   "outputs": [
    {
     "name": "stdout",
     "output_type": "stream",
     "text": [
      "  0.00s loading features ...\n",
      "   |     0.00s B __levels__           from otype, oslots\n",
      "   |     0.07s B __order__            from otype, oslots, __levels__\n",
      "   |     0.06s B __rank__             from otype, __order__\n",
      "   |     1.03s B __levUp__            from otype, oslots, __rank__\n",
      "   |     0.82s B __levDown__          from otype, __levUp__, __rank__\n",
      "   |     0.03s B otype                from /Users/dirk/github/text-fabric-data/hebrew/etcbc4c\n",
      "   |     0.57s B oslots               from /Users/dirk/github/text-fabric-data/hebrew/etcbc4c\n",
      "   |     0.15s B sp                   from /Users/dirk/github/text-fabric-data/hebrew/etcbc4c\n",
      "   |     0.14s B lex                  from /Users/dirk/github/text-fabric-data/hebrew/etcbc4c\n",
      "  2.88s All features loaded/computed\n"
     ]
    }
   ],
   "source": [
    "T = TF.load('sp lex')"
   ]
  },
  {
   "cell_type": "markdown",
   "metadata": {},
   "source": [
    "## Counting\n",
    "\n",
    "We count the words of each part of speech, and we list to top 10 of frequent lexemes.\n",
    "\n",
    "**NB**: mind the pretty progress messages."
   ]
  },
  {
   "cell_type": "code",
   "execution_count": 15,
   "metadata": {
    "collapsed": false
   },
   "outputs": [
    {
     "name": "stdout",
     "output_type": "stream",
     "text": [
      ">MR[: 5378\n",
      "HJH[: 3561\n",
      "<FH[: 2629\n",
      "BW>[: 2570\n",
      "NTN[: 2017\n",
      "HLK[: 1554\n",
      "R>H[: 1298\n",
      "CM<[: 1168\n",
      "DBR[: 1138\n",
      "JCB[: 1082\n",
      "\n"
     ]
    }
   ],
   "source": [
    "# collect 10 most frequent verbs\n",
    "verbs = collections.Counter()\n",
    "for w in T.F.otype.s('word'):\n",
    "    if T.F.sp.v(w) != 'verb': continue\n",
    "    verbs[T.F.lex.v(w)] +=1\n",
    "print(''.join(\n",
    "    '{}: {}\\n'.format(verb, cnt) for (verb, cnt) in sorted(\n",
    "        verbs.items() , key=lambda x: (-x[1], x[0]))[0:10],\n",
    "    )\n",
    ")       "
   ]
  },
  {
   "cell_type": "code",
   "execution_count": 6,
   "metadata": {
    "collapsed": false
   },
   "outputs": [
    {
     "name": "stdout",
     "output_type": "stream",
     "text": [
      "  0.00s Starting tasks\n",
      "   |     0.00s Counting the words by part-of-speech ...\n",
      "   |     0.45s Done: 14 categories\n",
      "   |      |   verb: 73710x\n",
      "   |      |   nega:  6053x\n",
      "   |      |   adjv:  9464x\n",
      "   |      |   prep: 73273x\n",
      "   |      |   conj: 62722x\n",
      "   |      |   prps:  5011x\n",
      "   |      |   nmpr: 33082x\n",
      "   |      |   intj:  1885x\n",
      "   |      |   prde:  2660x\n",
      "   |      |   art : 30384x\n",
      "   |      |   subs: 121481x\n",
      "   |      |   prin:  1021x\n",
      "   |      |   inrg:  1285x\n",
      "   |      |   advb:  4550x\n",
      "   |     0.00s Listing the top 10 frequent words ...\n",
      "   |     0.43s Done: 8776 lexemes\n",
      "   |      |   W   : 51003x\n",
      "   |      |   H   : 30390x\n",
      "   |      |   L   : 20447x\n",
      "   |      |   B   : 15768x\n",
      "   |      |   >T  : 11002x\n",
      "   |      |   MN  :  7681x\n",
      "   |      |   JHWH/:  6828x\n",
      "   |      |   <L  :  5870x\n",
      "   |      |   >L  :  5521x\n",
      "   |      |   >CR :  5500x\n",
      "  0.90s All tasks completed\n"
     ]
    }
   ],
   "source": [
    "partOfSpeech = collections.Counter()\n",
    "freqLex = collections.Counter()\n",
    "\n",
    "T.indent(level=0, reset=True)\n",
    "T.info('Starting tasks')\n",
    "T.indent(level=1, reset=True)\n",
    "T.info('Counting the words by part-of-speech ...')\n",
    "for w in T.F.otype.s('word'):\n",
    "    partOfSpeech[T.F.sp.v(w)] += 1\n",
    "T.info('Done: {} categories'.format(len(partOfSpeech)))\n",
    "T.indent(level=2)\n",
    "T.info('\\n'.join('{:<4}: {:>5}x'.format(*x) for x in partOfSpeech.items()), tm=False)\n",
    "\n",
    "T.indent(level=1, reset=True)\n",
    "T.info('Listing the top 10 frequent words ...')\n",
    "for w in T.F.otype.s('word'):\n",
    "    freqLex[T.F.lex.v(w)] += 1\n",
    "T.info('Done: {} lexemes'.format(len(freqLex)))\n",
    "T.indent(level=2)\n",
    "T.info('\\n'.join('{:<4}: {:>5}x'.format(*x) for x in sorted(\n",
    "    freqLex.items(),\n",
    "    key=lambda x: (-x[1], x[0])\n",
    ")[0:10]), tm=False)\n",
    "T.indent(level=0)\n",
    "T.info('All tasks completed')"
   ]
  },
  {
   "cell_type": "code",
   "execution_count": 7,
   "metadata": {
    "collapsed": false
   },
   "outputs": [
    {
     "name": "stdout",
     "output_type": "stream",
     "text": [
      "slotType=word\n",
      "maxSlot=426580\n",
      "maxNode=1436894\n",
      "All otypes:\n",
      "   |   book\n",
      "   |   chapter\n",
      "   |   verse\n",
      "   |   half_verse\n",
      "   |   sentence\n",
      "   |   sentence_atom\n",
      "   |   clause\n",
      "   |   clause_atom\n",
      "   |   phrase\n",
      "   |   phrase_atom\n",
      "   |   subphrase\n",
      "   |   word\n"
     ]
    }
   ],
   "source": [
    "T.indent(level=0)\n",
    "T.info('slotType={}\\nmaxSlot={}\\nmaxNode={}'.format(\n",
    "    T.F.otype.slotType,\n",
    "    T.F.otype.maxSlot,\n",
    "    T.F.otype.maxNode,\n",
    "), tm=False)\n",
    "T.info('All otypes:', tm=False)\n",
    "T.indent(level=1)\n",
    "T.info('\\n'.join(T.F.otype.all), tm=False)"
   ]
  },
  {
   "cell_type": "code",
   "execution_count": 8,
   "metadata": {
    "collapsed": false
   },
   "outputs": [
    {
     "name": "stdout",
     "output_type": "stream",
     "text": [
      "  0.00s Counting nodes ...\n",
      "  0.33s 1436894 nodes\n"
     ]
    }
   ],
   "source": [
    "T.indent(reset=True)\n",
    "T.info('Counting nodes ...')\n",
    "i = 0\n",
    "for n in T.N(): i += 1\n",
    "T.info('{} nodes'.format(i))"
   ]
  },
  {
   "cell_type": "code",
   "execution_count": 9,
   "metadata": {
    "collapsed": false
   },
   "outputs": [
    {
     "data": {
      "text/plain": [
       "[426581,\n",
       " 0,\n",
       " 1,\n",
       " 2,\n",
       " 3,\n",
       " 4,\n",
       " 5,\n",
       " 6,\n",
       " 7,\n",
       " 8,\n",
       " 9,\n",
       " 426582,\n",
       " 426583,\n",
       " 426584,\n",
       " 426585,\n",
       " 426586,\n",
       " 426587,\n",
       " 426588,\n",
       " 426589]"
      ]
     },
     "execution_count": 9,
     "metadata": {},
     "output_type": "execute_result"
    }
   ],
   "source": [
    "T.sorted(list(range(T.F.otype.maxSlot+1, T.F.otype.maxSlot+10))+list(range(10)))"
   ]
  },
  {
   "cell_type": "code",
   "execution_count": 10,
   "metadata": {
    "collapsed": false
   },
   "outputs": [
    {
     "name": "stdout",
     "output_type": "stream",
     "text": [
      "  0.00s counting objects ...\n",
      "   |     0.14s      39 books\n",
      "   |     0.13s     929 chapters\n",
      "   |     0.13s   23213 verses\n",
      "   |     0.14s   45180 half_verses\n",
      "   |     0.16s   63570 sentences\n",
      "   |     0.16s   64339 sentence_atoms\n",
      "   |     0.17s   88000 clauses\n",
      "   |     0.16s   90562 clause_atoms\n",
      "   |     0.25s  253174 phrases\n",
      "   |     0.25s  267515 phrase_atoms\n",
      "   |     0.17s  113792 subphrases\n",
      "   |     0.06s  426581 words\n",
      "  1.92s Done\n"
     ]
    }
   ],
   "source": [
    "T.indent(reset=True)\n",
    "T.info('counting objects ...')\n",
    "for otype in T.F.otype.all:\n",
    "    i = 0\n",
    "    T.indent(level=1, reset=True)\n",
    "    for n in T.F.otype.s(otype): i+=1\n",
    "    T.info('{:>7} {}s'.format(i, otype))\n",
    "T.indent(level=0)\n",
    "T.info('Done')"
   ]
  },
  {
   "cell_type": "code",
   "execution_count": 11,
   "metadata": {
    "collapsed": false
   },
   "outputs": [
    {
     "data": {
      "text/plain": [
       "(1367572,\n",
       " 1367573,\n",
       " 1367574,\n",
       " 1367575,\n",
       " 1367576,\n",
       " 1367577,\n",
       " 1367578,\n",
       " 1367579,\n",
       " 1367580,\n",
       " 1367581,\n",
       " 1367582,\n",
       " 1367583,\n",
       " 1367584,\n",
       " 1367585,\n",
       " 1367586,\n",
       " 1367587,\n",
       " 1367588,\n",
       " 1367589,\n",
       " 1367590,\n",
       " 1367591,\n",
       " 1367592,\n",
       " 1367593,\n",
       " 1367594,\n",
       " 1367595,\n",
       " 1367596,\n",
       " 1367597,\n",
       " 1367598,\n",
       " 1367599,\n",
       " 1367600,\n",
       " 1367601,\n",
       " 1367602,\n",
       " 1367603,\n",
       " 1367604,\n",
       " 1367605,\n",
       " 1367606,\n",
       " 1367607,\n",
       " 1367608,\n",
       " 1367609,\n",
       " 1367610,\n",
       " 1367611,\n",
       " 1367612,\n",
       " 1367613,\n",
       " 1367614,\n",
       " 1367615,\n",
       " 1367616,\n",
       " 1367617,\n",
       " 1367618,\n",
       " 1367619,\n",
       " 1367620,\n",
       " 1367621)"
      ]
     },
     "execution_count": 11,
     "metadata": {},
     "output_type": "execute_result"
    }
   ],
   "source": [
    "T.L.u(0, otype='book')\n",
    "T.L.d(1367533, otype='chapter')"
   ]
  },
  {
   "cell_type": "code",
   "execution_count": 12,
   "metadata": {
    "collapsed": false
   },
   "outputs": [
    {
     "name": "stdout",
     "output_type": "stream",
     "text": [
      "From 0 up\n",
      "605143          phrase\n",
      "858317          phrase_atom\n",
      "1368501         half_verse\n",
      "514581          clause_atom\n",
      "426581          clause\n",
      "1413681         verse\n",
      "1189402         sentence_atom\n",
      "1125832         sentence\n",
      "1367572         chapter\n",
      "1367533         book\n",
      "From 0 down\n",
      "\n",
      "From 1413681 up\n",
      "1189402         sentence_atom\n",
      "1125832         sentence\n",
      "1367572         chapter\n",
      "1367533         book\n",
      "From 1413681 down\n",
      "426581          clause\n",
      "514581          clause_atom\n",
      "1368501         half_verse\n",
      "858317          phrase_atom\n",
      "605143          phrase\n",
      "0               word\n",
      "1               word\n",
      "858318          phrase_atom\n",
      "2               word\n",
      "605144          phrase\n",
      "858319          phrase_atom\n",
      "3               word\n",
      "605145          phrase\n",
      "858320          phrase_atom\n",
      "1368502         half_verse\n",
      "605146          phrase\n",
      "1253741         subphrase\n",
      "4               word\n",
      "5               word\n",
      "6               word\n",
      "7               word\n",
      "1253742         subphrase\n",
      "8               word\n",
      "9               word\n",
      "10              word\n"
     ]
    }
   ],
   "source": [
    "for n in [0, 1413681]:\n",
    "    print('From {} up'.format(n))\n",
    "    print('\\n'.join(['{:<15} {}'.format(u, T.F.otype.v(u)) for u in T.L.u(n)]))\n",
    "    print('From {} down'.format(n))\n",
    "    print('\\n'.join(['{:<15} {}'.format(u, T.F.otype.v(u)) for u in T.L.d(n)]))"
   ]
  },
  {
   "cell_type": "code",
   "execution_count": null,
   "metadata": {
    "collapsed": true
   },
   "outputs": [],
   "source": []
  }
 ],
 "metadata": {
  "kernelspec": {
   "display_name": "Python 3",
   "language": "python",
   "name": "python3"
  },
  "language_info": {
   "codemirror_mode": {
    "name": "ipython",
    "version": 3
   },
   "file_extension": ".py",
   "mimetype": "text/x-python",
   "name": "python",
   "nbconvert_exporter": "python",
   "pygments_lexer": "ipython3",
   "version": "3.5.2"
  }
 },
 "nbformat": 4,
 "nbformat_minor": 1
}
