{
 "cells": [
  {
   "cell_type": "markdown",
   "metadata": {},
   "source": [
    "# Format of TF files\n",
    "A `.tf` feature file starts with a *header*, and is followed by the actual data.\n",
    "The whole file is a plain text in UNICODE-utf8.\n",
    "\n",
    "## Header\n",
    "The header consists of two portions: *metadata* and *comment*.\n",
    "\n",
    "### Metadata\n",
    "A `.tf` feature file always starts with one or more lines of the form\n",
    "\n",
    "    @key\n",
    "\n",
    "or\n",
    "\n",
    "    @key=value\n",
    "\n",
    "The first line must be either\n",
    "\n",
    "    @node\n",
    "\n",
    "or \n",
    "\n",
    "    @edge\n",
    "\n",
    "This tells Text-Fabric whether the data in the feature file is a *node* feature or an *edge* feature.\n",
    "The rest of the metadata is optional for now, but it is recommended to put a date stamp in it like this\n",
    "\n",
    "    @dateCreated=2016-11-20T13:26:59Z\n",
    "\n",
    "The time format should be [ISO 8601](https://en.wikipedia.org/wiki/ISO_8601).\n",
    "    \n",
    "## Data\n",
    "After the metadata, there must be exactly one blank line, and everything there after are data lines.\n",
    "\n",
    "The form of a data line is\n",
    "\n",
    "    node_spec value\n",
    "\n",
    "for node features, and\n",
    "\n",
    "    node_spec node_spec value\n",
    "\n",
    "for edge features.\n",
    "\n",
    "These fields are separated by single tabs.\n",
    "\n",
    "### Node Spec\n",
    "Every line contains a feature value that pertains to all nodes defined by its *node_spec*, or to\n",
    "all edges defined by its pair of *node_spec*s.\n",
    "\n",
    "A node spec denotes a *set* of nodes.\n",
    "\n",
    "The simplest form of a node spec is just a single integer. Examples:\n",
    "\n",
    "    3\n",
    "    45\n",
    "    425000\n",
    "\n",
    "Ranges are also allowed. Examples\n",
    "\n",
    "    1-10\n",
    "    5-13\n",
    "    28-57045\n",
    "\n",
    "The nodes denoted by a range are all numbers between the endpoints of the range (including at both sides).\n",
    "So\n",
    "\n",
    "    2-4\n",
    "\n",
    "denotes the nodes `2`, `3`, and `4`.\n",
    "\n",
    "You can also combine numbers and ranges arbitrarily by separating them with commas. Examples\n",
    "\n",
    "    1-3,5-10,15,23-37\n",
    "\n",
    "Such a specification denotes the union of what is denoted by each comma-separated part.\n",
    "\n",
    "**NB** As node specs denote *sets* of nodes, the following node specs are in fact equivalent\n",
    "\n",
    "    1,1 and 1\n",
    "    2-3 and 3,2\n",
    "    1-5,2-7 and 1-7\n",
    "\n",
    "We will also be tolerant in that you may specify the end points of ranges in arbitrary order:\n",
    "\n",
    "    1-3 is the same as 3-1\n",
    "    \n",
    "#### Edges\n",
    "An edge is specified by an *ordered* pair of nodes. The edge is *from* the first node in the pair *to* the second one.\n",
    "An edge spec consists of two node specs. It denotes all edges that are *from* a node denoted by the first node spec\n",
    "and *to* a node denoted by the second node spec.\n",
    "An edge might be labeled, in that case the label of the edge is specified by the *value* after the two node specs.\n",
    "\n",
    "#### Optimization: implicit node\n",
    "You may leave out the node spec for node features, and the first node spec for edge features. In that case, you also must leave out the tab following the node spec.\n",
    "If you leave it out, the node denoted is the singleton set consisting of the *implicit node*. \n",
    "Here are the rules for implicit nodes.\n",
    "\n",
    "* On a line where there is an explicit node spec, the implicit node is equal to the highest node\n",
    "  denoted by the explicit node spec.\n",
    "* On the first line, the implicit node is just `0`\n",
    "* On all other lines, if there is no explicit node spec, the implicit node spec is equal to the \n",
    "  implicit node spec of the previous line plus 1\n",
    "\n",
    "For edges, this optimization only happens for the *first* node spec.\n",
    "The second node spec must always be explicit.\n",
    "\n",
    "This optimizes some feature files greatly, e.g. the feature that contains the actual text of each word.\n",
    "\n",
    "Instead of\n",
    "\n",
    "    0 be\n",
    "    1 reshit\n",
    "    2 bara\n",
    "    3 elohim\n",
    "    4 et\n",
    "    5 ha\n",
    "    6 shamajim\n",
    "    7 we\n",
    "    8 et\n",
    "    9 ha\n",
    "    10 arets\n",
    "\n",
    "you can just say\n",
    "\n",
    "    be\n",
    "    reshit\n",
    "    bara\n",
    "    elohim\n",
    "    et\n",
    "    ha\n",
    "    shamajim\n",
    "    we\n",
    "    et\n",
    "    ha\n",
    "    arets\n",
    "    \n",
    "This optimization is not obligatory. It is a device that may be used\n",
    "if you want to optimize the size of data files that you want to distribute.\n",
    "\n",
    "### Value\n",
    "\n",
    "The value is arbitrary text. \n",
    "We do not distinguish types: all values are taken as unicode utf8 strings.\n",
    "There are a few escapes:\n",
    "* `\\\\` backslash\n",
    "* `\\t` tab\n",
    "* `\\n` newline\n",
    "Thes characters MUST always be escaped in a value string, otherwise the line as a whole might be ambiguous.\n",
    "\n",
    "#### Optimization: empty value\n",
    "\n",
    "If the value is the empty string, you may also leave out the preceding tab (if there is one).\n",
    "This is especially good for edge features, because most edges just consist of a node pair without any value.\n",
    "\n",
    "This optimization will cause a conceptual ambiguity if there is only 1 field present, or if there are only two fields in an edge feature. It could mean that the (first) node spec has been left out, or that the value has been left out.\n",
    "In those cases we will assume that the node spec has been left out for node features, and that the value has been\n",
    "left out for edge features.\n",
    "\n",
    "So, in a node feature a line like this\n",
    "\n",
    "    42\n",
    "\n",
    "means that the implicit node gets value `42`, and not that node `42` gets the empty value.\n",
    "\n",
    "Likewise, an edge feature line like this\n",
    "\n",
    "    42 43\n",
    " \n",
    "means that there is an edge from `42` to `43` with empty value, and not that there is an edge from the implicit node\n",
    "to `42` with value 43.\n",
    "\n",
    "An an edge feature line like this\n",
    "\n",
    "    42\n",
    "\n",
    "means that there is an edge from the implicit node to `42` with the empty value, and not that there is an\n",
    "edge from the implicit node to itself with the value `42`.\n",
    "\n",
    "The reason for these conventions is practical: edge features usually have empty labels, and there are many edges.\n",
    "In case of the ETCBC database, there are 1.5 million edges, so every extra character that is needed on a data line\n",
    "means that the filesize increases with 1.5 MB.\n",
    "\n",
    "Nodes on the other hand, usually do not have empty values, and they are often specified in a consecutive way,\n",
    "especially word nodes. There are quite many distinct word features, and it would be a waste to have a column of half a million incremental integers in those files.\n",
    "\n",
    "### Dynamics\n",
    "\n",
    "If a node is denotes by node specs on several lines, the value on the last such line will determine what gets\n",
    "assigned to that node.\n",
    "\n",
    "## Examples\n",
    "\n",
    "Here are a few more and less contrived examples of legal feature data lines.\n",
    "\n",
    "### Node features\n",
    "\n",
    "1. `\\t\\n`\n",
    "1. `1 2\\t3`\n",
    "1. `foo\\nbar`\n",
    "1. `1 Escape \\\\t as \\\\\\\\t`\n",
    "\n",
    "meaning\n",
    "\n",
    "1. node 0 has value tab-newline\n",
    "1. node 1 has value 2 tab 3\n",
    "1. node 2 has value foo newline bar\n",
    "1. node 1 gets a new value: the string `Escape \\t as \\\\t`\n",
    "\n",
    "### Edge features\n",
    "\n",
    "1. `1 2\\tfoo`\n",
    "1. `1 2 foo`\n",
    "1. `0-1 1-2 bar`\n",
    "\n",
    "meaning\n",
    "\n",
    "1. edge from 0 to 1 with value 2 tab foo\n",
    "1. edge from 1 to 2 with value foo\n",
    "1. four edges: 0->1, 0->2, 1->1, 1->2, all with value bar.\n",
    "   Note that edges can go from a node to itself.\n",
    "   Note also that two edges get new values here: 0->1 and 1->2.\n",
    "\n",
    "\n",
    "\n"
   ]
  },
  {
   "cell_type": "code",
   "execution_count": 1,
   "metadata": {
    "collapsed": false
   },
   "outputs": [],
   "source": [
    "%load_ext autoreload\n",
    "%autoreload 2"
   ]
  },
  {
   "cell_type": "code",
   "execution_count": 61,
   "metadata": {
    "collapsed": false
   },
   "outputs": [],
   "source": [
    "import sys\n",
    "sys.path.append('..')\n",
    "from tf.fabric import Fabric\n",
    "from tf.feature import Feature\n",
    "from tf.timestamp import Timestamp"
   ]
  },
  {
   "cell_type": "code",
   "execution_count": 3,
   "metadata": {
    "collapsed": false
   },
   "outputs": [
    {
     "name": "stderr",
     "output_type": "stream",
     "text": [
      "  0.00s This is LAF-Fabric 4.8.3\n",
      "API reference: http://laf-fabric.readthedocs.org/en/latest/texts/API-reference.html\n",
      "Feature doc: https://shebanq.ancient-data.org/static/docs/featuredoc/texts/welcome.html\n",
      "\n"
     ]
    }
   ],
   "source": [
    "from laf.fabric import LafFabric\n",
    "from etcbc.preprocess import prep\n",
    "fabric = LafFabric()"
   ]
  },
  {
   "cell_type": "code",
   "execution_count": 4,
   "metadata": {
    "collapsed": false
   },
   "outputs": [
    {
     "name": "stderr",
     "output_type": "stream",
     "text": [
      "  0.00s LOADING API: please wait ... \n",
      "  0.00s DETAIL: COMPILING m: etcbc4c: UP TO DATE\n",
      "  0.00s USING main: etcbc4c DATA COMPILED AT: 2016-11-09T19-16-37\n",
      "  0.01s DETAIL: load main: G.node_anchor_min\n",
      "  0.10s DETAIL: load main: G.node_anchor_max\n",
      "  0.20s DETAIL: load main: G.node_sort\n",
      "  0.25s DETAIL: load main: G.node_sort_inv\n",
      "  0.64s DETAIL: load main: G.edges_from\n",
      "  0.69s DETAIL: load main: G.edges_to\n",
      "  0.76s DETAIL: load main: F.etcbc4_db_monads [node] \n",
      "  1.41s DETAIL: load main: F.etcbc4_db_otype [node] \n",
      "  2.00s DETAIL: load main: F.etcbc4_ft_g_word_utf8 [node] \n",
      "  2.50s DETAIL: load main: F.etcbc4_ft_sp [node] \n",
      "  2.90s DETAIL: load main: F.etcbc4_ft_trailer_utf8 [node] \n",
      "  3.08s DETAIL: load main: F.etcbc4_ft_functional_parent [e] \n",
      "  3.31s DETAIL: load main: F.etcbc4_ft_mother [e] \n",
      "  3.37s DETAIL: load main: C.etcbc4_ft_functional_parent -> \n",
      "  4.08s DETAIL: load main: C.etcbc4_ft_mother -> \n",
      "  4.21s DETAIL: load main: C.etcbc4_ft_functional_parent <- \n",
      "  4.60s DETAIL: load main: C.etcbc4_ft_mother <- \n",
      "  4.71s LOGFILE=/Users/dirk/laf/laf-fabric-output/etcbc4c/TF/__log__TF.txt\n",
      "  4.71s INFO: LOADING PREPARED data: please wait ... \n",
      "  4.71s prep prep: G.node_sort\n",
      "  4.79s prep prep: G.node_sort_inv\n",
      "  5.21s prep prep: L.node_up\n",
      "  7.75s prep prep: L.node_down\n",
      "    13s prep prep: V.verses\n",
      "    13s prep prep: V.books_la\n",
      "    13s ETCBC reference: http://laf-fabric.readthedocs.org/en/latest/texts/ETCBC-reference.html\n",
      "    13s INFO: LOADED PREPARED data\n",
      "    13s INFO: DATA LOADED FROM SOURCE etcbc4c AND ANNOX  FOR TASK TF AT 2016-11-22T14-33-22\n"
     ]
    }
   ],
   "source": [
    "fabric.load('etcbc4c', '--', 'TF', {\n",
    "    \"xmlids\": {\"node\": False, \"edge\": False},\n",
    "    \"features\": ('''\n",
    "        otype monads g_word_utf8 trailer_utf8\n",
    "        sp\n",
    "    ''','''\n",
    "        mother\n",
    "        functional_parent\n",
    "    '''),\n",
    "    \"prepare\": prep(select={'L'}),\n",
    "    \"primary\": False,\n",
    "}, verbose='DETAIL')\n",
    "exec(fabric.localnames.format(var='fabric'))"
   ]
  },
  {
   "cell_type": "code",
   "execution_count": 5,
   "metadata": {
    "collapsed": true
   },
   "outputs": [],
   "source": [
    "sp = {}\n",
    "for n in F.otype.s('word'):\n",
    "    sp[n] = F.sp.v(n)"
   ]
  },
  {
   "cell_type": "code",
   "execution_count": 6,
   "metadata": {
    "collapsed": false
   },
   "outputs": [],
   "source": [
    "tm = Timestamp()\n",
    "info = lambda msg: tm.info(msg)\n",
    "error = lambda msg: tm.info(msg)\n",
    "\n",
    "testDir = '../tests'"
   ]
  },
  {
   "cell_type": "code",
   "execution_count": 7,
   "metadata": {
    "collapsed": false
   },
   "outputs": [
    {
     "name": "stdout",
     "output_type": "stream",
     "text": [
      "  0.00s Reading feature \"otype\"\n",
      "node feature\n",
      "createdBy           : Text-Fabric\n",
      "dateCreated         : 2016-11-20T11:05:06+07\n",
      "Data: 1436894 nodes\n",
      "  0.74s Done\n",
      "  0.00s Reading feature \"monads\"\n",
      "edge feature\n",
      "createdBy           : Text-Fabric\n",
      "dateCreated         : 2016-11-20T11:05:06+07\n",
      "Data: 1010313 edges\n",
      "  1.98s Done\n"
     ]
    }
   ],
   "source": [
    "TF = {}\n",
    "features = ('otype', 'monads')\n",
    "for feat in features:\n",
    "    tm.reset()\n",
    "    info('Reading feature \"{}\"\\n'.format(feat))\n",
    "    TF[feat] = Feature('{}/{}.tf'.format(testDir, feat))\n",
    "    good = TF[feat].load(asName=feat)\n",
    "\n",
    "    if not good:\n",
    "        print('There were errors')\n",
    "    else:\n",
    "        label = 'edge' if TF[feat].isEdge else 'node'\n",
    "        print('{} feature\\n{}\\nData: {} {}s'.format(\n",
    "            label,\n",
    "            '\\n'.join('{:<20}: {}'.format(*x) for x in sorted(TF[feat].metaData.items())),\n",
    "            len(TF[feat].data),\n",
    "            label,\n",
    "        ))\n",
    "    info('Done\\n')"
   ]
  },
  {
   "cell_type": "code",
   "execution_count": 8,
   "metadata": {
    "collapsed": false
   },
   "outputs": [
    {
     "data": {
      "text/plain": [
       "{1, 2, 3, 4, 5, 6, 7, 8, 9, 10, 11}"
      ]
     },
     "execution_count": 8,
     "metadata": {},
     "output_type": "execute_result"
    }
   ],
   "source": [
    "TF['monads'].data[426581]"
   ]
  },
  {
   "cell_type": "code",
   "execution_count": 15,
   "metadata": {
    "collapsed": false
   },
   "outputs": [],
   "source": [
    "TF['monads'].dataLoaded = False"
   ]
  },
  {
   "cell_type": "code",
   "execution_count": 16,
   "metadata": {
    "collapsed": false
   },
   "outputs": [
    {
     "data": {
      "text/plain": [
       "True"
      ]
     },
     "execution_count": 16,
     "metadata": {},
     "output_type": "execute_result"
    }
   ],
   "source": [
    "TF['monads'].load()"
   ]
  },
  {
   "cell_type": "code",
   "execution_count": 11,
   "metadata": {
    "collapsed": false
   },
   "outputs": [
    {
     "name": "stdout",
     "output_type": "stream",
     "text": [
      "426580 is a word\n",
      "426581 is a clause\n"
     ]
    }
   ],
   "source": [
    "for x in (426580, 426581):\n",
    "    print('{:>6} is a {}'.format(x, TF['otype'].data[x]))"
   ]
  },
  {
   "cell_type": "code",
   "execution_count": 12,
   "metadata": {
    "collapsed": false
   },
   "outputs": [
    {
     "name": "stdout",
     "output_type": "stream",
     "text": [
      "  0.00s Re-reading metadata only\n",
      "  0.00s Done\n"
     ]
    }
   ],
   "source": [
    "tm.reset()\n",
    "info('Re-reading metadata only\\n')\n",
    "TF['otype'].readTf(metaOnly=True)\n",
    "info('Done\\n')"
   ]
  },
  {
   "cell_type": "code",
   "execution_count": 13,
   "metadata": {
    "collapsed": false
   },
   "outputs": [
    {
     "name": "stdout",
     "output_type": "stream",
     "text": [
      "  0.00s writing otype to \"myOtype\"\n",
      "  2.30s Done\n"
     ]
    }
   ],
   "source": [
    "tm.reset()\n",
    "info('writing otype to \"myOtype\"\\n')\n",
    "TF['otype'].writeTf(fileName='myOtype')\n",
    "info('Done\\n')"
   ]
  },
  {
   "cell_type": "code",
   "execution_count": 14,
   "metadata": {
    "collapsed": false
   },
   "outputs": [
    {
     "name": "stdout",
     "output_type": "stream",
     "text": [
      "  0.00s writing new feature \"psp\"\n",
      "  0.74s Done\n"
     ]
    }
   ],
   "source": [
    "TF['sp'] = Feature(\n",
    "    '{}/{}.tf'.format(testDir, 'sp'), \n",
    "    asName='sp', data=sp, isEdge=False, edgeValues=False,\n",
    "    metaData=dict(\n",
    "        convertedFrom='LAF-Fabric',\n",
    "    ),\n",
    ")\n",
    "tm.reset()\n",
    "info('writing new feature \"{}\"\\n'.format('psp'))\n",
    "TF['sp'].writeTf(fileName='psp')\n",
    "info('Done\\n')"
   ]
  },
  {
   "cell_type": "code",
   "execution_count": 15,
   "metadata": {
    "collapsed": false
   },
   "outputs": [
    {
     "name": "stderr",
     "output_type": "stream",
     "text": [
      "Feature file \"../tests/monads.tf\" already exists, feature will not be written\n"
     ]
    },
    {
     "name": "stdout",
     "output_type": "stream",
     "text": [
      "  3.08s writing \"monads\" feature\n",
      "  3.08s Done\n"
     ]
    }
   ],
   "source": [
    "TF[feat].writeTf()\n",
    "info('writing \"{}\" feature\\n'.format('monads'))\n",
    "TF[feat].writeTf(fileName='monads_meta', metaOnly=True)\n",
    "info('Done\\n')"
   ]
  },
  {
   "cell_type": "code",
   "execution_count": 16,
   "metadata": {
    "collapsed": false
   },
   "outputs": [
    {
     "name": "stdout",
     "output_type": "stream",
     "text": [
      "  0.00s writing binary \"monads\" feature\n",
      "  1.31s Done None\n"
     ]
    }
   ],
   "source": [
    "tm.reset()\n",
    "info('writing binary \"{}\" feature\\n'.format('monads'))\n",
    "TF['monads'].writeDataBin()\n",
    "info('Done {}\\n'.format(TF['monads'].dataName))"
   ]
  },
  {
   "cell_type": "code",
   "execution_count": 17,
   "metadata": {
    "collapsed": false
   },
   "outputs": [
    {
     "name": "stdout",
     "output_type": "stream",
     "text": [
      "  0.00s reading binary \"monads\" feature\n",
      "  2.52s Done None\n"
     ]
    }
   ],
   "source": [
    "tm.reset()\n",
    "info('reading binary \"{}\" feature\\n'.format('monads'))\n",
    "TF['monads'].readDataBin()\n",
    "info('Done {}\\n'.format(TF['monads'].dataName))"
   ]
  },
  {
   "cell_type": "code",
   "execution_count": 47,
   "metadata": {
    "collapsed": false
   },
   "outputs": [
    {
     "data": {
      "text/plain": [
       "[('book', 10937.97435897436),\n",
       " ('chapter', 459.1829924650161),\n",
       " ('verse', 18.376814715891957),\n",
       " ('half_verse', 9.441810535635236),\n",
       " ('sentence', 6.710413717162184),\n",
       " ('sentence_atom', 6.6302087380904275),\n",
       " ('clause', 4.847511363636364),\n",
       " ('clause_atom', 4.71037521256156),\n",
       " ('phrase', 1.6849321020325942),\n",
       " ('phrase_atom', 1.5946059099489749),\n",
       " ('subphrase', 1.4241071428571428),\n",
       " ('word', 1.0)]"
      ]
     },
     "execution_count": 47,
     "metadata": {},
     "output_type": "execute_result"
    }
   ],
   "source": [
    "from tf.feature import averageMonadLength\n",
    "averageMonadLength(TF['otype'].data, TF['monads'].data, 'word')"
   ]
  },
  {
   "cell_type": "code",
   "execution_count": 17,
   "metadata": {
    "collapsed": false
   },
   "outputs": [
    {
     "name": "stderr",
     "output_type": "stream",
     "text": [
      "data already loaded and up to date\n"
     ]
    },
    {
     "data": {
      "text/plain": [
       "True"
      ]
     },
     "execution_count": 17,
     "metadata": {},
     "output_type": "execute_result"
    }
   ],
   "source": [
    "TF['monads'].load()"
   ]
  },
  {
   "cell_type": "code",
   "execution_count": 77,
   "metadata": {
    "collapsed": false
   },
   "outputs": [
    {
     "name": "stdout",
     "output_type": "stream",
     "text": [
      "  0.00s Looking for available data features:\n",
      "  0.00s   monads               from /Users/dirk/github/text-fabric/tests/monads.tf\n",
      "  0.00s   monads_meta          from /Users/dirk/github/text-fabric/tests/monads_meta.tf\n",
      "  0.00s   myOtype              from /Users/dirk/github/text-fabric/tests/myOtype.tf\n",
      "  0.00s X otype                from /Users/dirk/github/text-fabric/notebooks/otype.tf\n",
      "  0.01s   otype                from /Users/dirk/github/text-fabric/tests/otype.tf\n",
      "  0.01s   psp                  from /Users/dirk/github/text-fabric/tests/psp.tf\n",
      "  0.01s   sp                   from /Users/dirk/github/text-fabric/tests/sp.tf\n",
      "  0.01s 6 features found"
     ]
    }
   ],
   "source": [
    "API = Fabric(locations='../tests')"
   ]
  },
  {
   "cell_type": "code",
   "execution_count": 79,
   "metadata": {
    "collapsed": false
   },
   "outputs": [
    {
     "name": "stdout",
     "output_type": "stream",
     "text": [
      "  0.29s otype                loaded from /Users/dirk/github/text-fabric/tests/otype.tf\n",
      "  2.14s monads               loaded from /Users/dirk/github/text-fabric/tests/monads.tf\n",
      "  2.43s All features loaded\n"
     ]
    },
    {
     "data": {
      "text/plain": [
       "True"
      ]
     },
     "execution_count": 79,
     "metadata": {},
     "output_type": "execute_result"
    }
   ],
   "source": [
    "API.load('''\n",
    "    otype\n",
    "    monads\n",
    "''')"
   ]
  },
  {
   "cell_type": "code",
   "execution_count": null,
   "metadata": {
    "collapsed": true
   },
   "outputs": [],
   "source": []
  }
 ],
 "metadata": {
  "kernelspec": {
   "display_name": "Python 3",
   "language": "python",
   "name": "python3"
  },
  "language_info": {
   "codemirror_mode": {
    "name": "ipython",
    "version": 3
   },
   "file_extension": ".py",
   "mimetype": "text/x-python",
   "name": "python",
   "nbconvert_exporter": "python",
   "pygments_lexer": "ipython3",
   "version": "3.5.2"
  }
 },
 "nbformat": 4,
 "nbformat_minor": 1
}
