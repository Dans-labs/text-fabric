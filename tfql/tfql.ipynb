{
 "cells": [
  {
   "cell_type": "markdown",
   "metadata": {},
   "source": [
    "# TFQL - a query language inside Text-Fabric?\n",
    "\n",
    "Let's see whether we can mimick part of MQL inside Text-Fabric.\n",
    "Maybe it is worthwhile.\n",
    "If only we can have the basic core of MQL working inside TF, that would be nice.\n",
    "\n",
    "Chances are that that will be sufficient for most purposes, because inside TF we have so much other ways to walk through the data.\n",
    "\n",
    "The idea is: with the help of TFQL you quickly create an interesting set of nodes, corresponding to a phenomenon of interest. With that set in hand, you can use the rest of TF to do what you want to do: refine, enlarge, grab context, export to csv, import into R, you name it.\n",
    "\n",
    "Ok, let's go.\n",
    "Step by step.\n",
    "\n",
    "## Load TF"
   ]
  },
  {
   "cell_type": "code",
   "execution_count": 81,
   "metadata": {
    "collapsed": false
   },
   "outputs": [
    {
     "name": "stdout",
     "output_type": "stream",
     "text": [
      "The autoreload extension is already loaded. To reload it, use:\n",
      "  %reload_ext autoreload\n"
     ]
    }
   ],
   "source": [
    "%load_ext autoreload\n",
    "%autoreload 2"
   ]
  },
  {
   "cell_type": "code",
   "execution_count": 82,
   "metadata": {
    "collapsed": true
   },
   "outputs": [],
   "source": [
    "import sys, collections\n",
    "from IPython.display import HTML, display_pretty, display_html\n",
    "from tf.fabric import Fabric"
   ]
  },
  {
   "cell_type": "code",
   "execution_count": 83,
   "metadata": {
    "collapsed": false
   },
   "outputs": [
    {
     "name": "stdout",
     "output_type": "stream",
     "text": [
      "This is Text-Fabric 1.2.1\n",
      "Api reference    : https://github.com/ETCBC/text-fabric/wiki/Api\n",
      "Tutorial         : https://github.com/ETCBC/text-fabric/blob/master/docs/tutorial.ipynb\n",
      "Data sources     : https://github.com/ETCBC/text-fabric-data\n",
      "Data feature docs: https://shebanq.ancient-data.org/static/docs/featuredoc/texts/welcome.html\n",
      "Questions? Ask shebanq@ancient-data.org for an invite to Slack\n",
      "109 features found and 0 ignored\n"
     ]
    }
   ],
   "source": [
    "ETCBC = 'hebrew/etcbc4c'\n",
    "PHONO = 'hebrew/phono'\n",
    "TF = Fabric( modules=[ETCBC, PHONO] )"
   ]
  },
  {
   "cell_type": "code",
   "execution_count": 84,
   "metadata": {
    "collapsed": false
   },
   "outputs": [
    {
     "name": "stdout",
     "output_type": "stream",
     "text": [
      "  0.00s loading features ...\n",
      "   |     0.19s B sp                   from /Users/dirk/github/text-fabric-data/hebrew/etcbc4c\n",
      "   |     0.17s B ps                   from /Users/dirk/github/text-fabric-data/hebrew/etcbc4c\n",
      "   |     0.14s B gn                   from /Users/dirk/github/text-fabric-data/hebrew/etcbc4c\n",
      "   |     0.17s B nu                   from /Users/dirk/github/text-fabric-data/hebrew/etcbc4c\n",
      "  5.93s All features loaded/computed - for details use loadLog()\n"
     ]
    }
   ],
   "source": [
    "api = TF.load('''\n",
    "    sp ps gn nu\n",
    "''')\n",
    "api.makeAvailableIn(globals())"
   ]
  },
  {
   "cell_type": "markdown",
   "metadata": {},
   "source": [
    "## Review features\n",
    "\n",
    "Let us just review the features we are going to use."
   ]
  },
  {
   "cell_type": "code",
   "execution_count": 85,
   "metadata": {
    "collapsed": false
   },
   "outputs": [
    {
     "name": "stdout",
     "output_type": "stream",
     "text": [
      "sp\n",
      "\tsubs    : 125558x\n",
      "\tverb    :  75450x\n",
      "\tprep    :  73298x\n",
      "\tconj    :  62737x\n",
      "\tnmpr    :  35698x\n",
      "\tart     :  30385x\n",
      "\tadjv    :  10075x\n",
      "\tnega    :   6059x\n",
      "\tprps    :   5035x\n",
      "\tadvb    :   4603x\n",
      "\tprde    :   2678x\n",
      "\tintj    :   1912x\n",
      "\tinrg    :   1303x\n",
      "\tprin    :   1026x\n",
      "ps\n",
      "\tNA      : 347860x\n",
      "\tp3      :  40898x\n",
      "\tunknown :  17204x\n",
      "\tp2      :  12281x\n",
      "\tp1      :   8338x\n",
      "gn\n",
      "\tNA      : 180152x\n",
      "\tm       : 164191x\n",
      "\tunknown :  45524x\n",
      "\tf       :  36714x\n",
      "nu\n",
      "\tNA      : 180152x\n",
      "\tsg      : 180092x\n",
      "\tpl      :  54956x\n",
      "\tunknown :   8523x\n",
      "\tdu      :   2858x\n"
     ]
    }
   ],
   "source": [
    "for ft in 'sp ps gn nu'.strip().split():\n",
    "    print(ft)\n",
    "    for valFreq in Fs(ft).freqList():\n",
    "        print('\\t{:<8}: {:>6}x'.format(*valFreq))"
   ]
  },
  {
   "cell_type": "markdown",
   "metadata": {},
   "source": [
    "# Atoms\n",
    "\n",
    "An atomic query just asks for nodes of a certain type with certain conditions on its features satisfied."
   ]
  },
  {
   "cell_type": "code",
   "execution_count": 86,
   "metadata": {
    "collapsed": true
   },
   "outputs": [],
   "source": [
    "atomQuery = ('word', dict(sp='verb', ps='p2', gn='f', nu='pl'))"
   ]
  },
  {
   "cell_type": "markdown",
   "metadata": {},
   "source": [
    "And now we write a function that interprets and runs an atom query."
   ]
  },
  {
   "cell_type": "code",
   "execution_count": 89,
   "metadata": {
    "collapsed": true
   },
   "outputs": [],
   "source": [
    "def tfqlAtom(aQ):\n",
    "    (otype, features) = aQ\n",
    "    featureList = sorted(features.items())\n",
    "    results = []\n",
    "    info('querying ...')\n",
    "    for n in F.otype.s(otype):\n",
    "        ok = True\n",
    "        for (f, v) in featureList:\n",
    "            if Fs(f).v(n) != v:\n",
    "                ok = False\n",
    "                break\n",
    "        if ok: results.append(n)\n",
    "    info('{} results'.format(len(results)))\n",
    "    return results"
   ]
  },
  {
   "cell_type": "markdown",
   "metadata": {},
   "source": [
    "Let's run it."
   ]
  },
  {
   "cell_type": "code",
   "execution_count": 90,
   "metadata": {
    "collapsed": false
   },
   "outputs": [
    {
     "name": "stdout",
     "output_type": "stream",
     "text": [
      " 1m 11s querying ...\n",
      " 1m 12s 49 results\n"
     ]
    }
   ],
   "source": [
    "resultNodes = tfqlAtom(atomQuery)"
   ]
  },
  {
   "cell_type": "markdown",
   "metadata": {},
   "source": [
    "Let's view the first 10 results (with a bit of context)"
   ]
  },
  {
   "cell_type": "code",
   "execution_count": 91,
   "metadata": {
    "collapsed": false
   },
   "outputs": [
    {
     "name": "stdout",
     "output_type": "stream",
     "text": [
      "2052 שְׁמַ֣עַן  in:\n",
      "\tGenesis 4:23 וַיֹּ֨אמֶר לֶ֜מֶךְ לְנָשָׁ֗יו עָדָ֤ה וְצִלָּה֙ שְׁמַ֣עַן קֹולִ֔י נְשֵׁ֣י לֶ֔מֶךְ הַאְזֵ֖נָּה אִמְרָתִ֑י כִּ֣י אִ֤ישׁ הָרַ֨גְתִּי֙ לְפִצְעִ֔י וְיֶ֖לֶד לְחַבֻּרָתִֽי׃ \n",
      "2056 הַאְזֵ֖נָּה  in:\n",
      "\tGenesis 4:23 וַיֹּ֨אמֶר לֶ֜מֶךְ לְנָשָׁ֗יו עָדָ֤ה וְצִלָּה֙ שְׁמַ֣עַן קֹולִ֔י נְשֵׁ֣י לֶ֔מֶךְ הַאְזֵ֖נָּה אִמְרָתִ֑י כִּ֣י אִ֤ישׁ הָרַ֨גְתִּי֙ לְפִצְעִ֔י וְיֶ֖לֶד לְחַבֻּרָתִֽי׃ \n",
      "16470 יְדַעְתֶּ֑ן  in:\n",
      "\tGenesis 31:6 וְאַתֵּ֖נָה יְדַעְתֶּ֑ן כִּ֚י בְּכָל־כֹּחִ֔י עָבַ֖דְתִּי אֶת־אֲבִיכֶֽן׃ \n",
      "28981 רְאִיתֶ֖ן  in:\n",
      "\tExodus 1:16 וַיֹּ֗אמֶר בְּיַלֶּדְכֶן֙ אֶת־הָֽעִבְרִיֹּ֔ות וּרְאִיתֶ֖ן עַל־הָאָבְנָ֑יִם אִם־בֵּ֥ן הוּא֙ וַהֲמִתֶּ֣ן אֹתֹ֔ו וְאִם־בַּ֥ת הִ֖יא וָחָֽיָה׃ \n",
      "28989 הֲמִתֶּ֣ן  in:\n",
      "\tExodus 1:16 וַיֹּ֗אמֶר בְּיַלֶּדְכֶן֙ אֶת־הָֽעִבְרִיֹּ֔ות וּרְאִיתֶ֖ן עַל־הָאָבְנָ֑יִם אִם־בֵּ֥ן הוּא֙ וַהֲמִתֶּ֣ן אֹתֹ֔ו וְאִם־בַּ֥ת הִ֖יא וָחָֽיָה׃ \n",
      "29029 עֲשִׂיתֶ֖ן  in:\n",
      "\tExodus 1:18 וַיִּקְרָ֤א מֶֽלֶךְ־מִצְרַ֨יִם֙ לַֽמְיַלְּדֹ֔ת וַיֹּ֣אמֶר לָהֶ֔ן מַדּ֥וּעַ עֲשִׂיתֶ֖ן הַדָּבָ֣ר הַזֶּ֑ה וַתְּחַיֶּ֖יןָ אֶת־הַיְלָדִֽים׃ \n",
      "29035 תְּחַיֶּ֖יןָ  in:\n",
      "\tExodus 1:18 וַיִּקְרָ֤א מֶֽלֶךְ־מִצְרַ֨יִם֙ לַֽמְיַלְּדֹ֔ת וַיֹּ֣אמֶר לָהֶ֔ן מַדּ֥וּעַ עֲשִׂיתֶ֖ן הַדָּבָ֣ר הַזֶּ֑ה וַתְּחַיֶּ֖יןָ אֶת־הַיְלָדִֽים׃ \n",
      "29496 מִהַרְתֶּ֥ן  in:\n",
      "\tExodus 2:18 וַתָּבֹ֕אנָה אֶל־רְעוּאֵ֖ל אֲבִיהֶ֑ן וַיֹּ֕אמֶר מַדּ֛וּעַ מִהַרְתֶּ֥ן בֹּ֖א הַיֹּֽום׃ \n",
      "29527 עֲזַבְתֶּ֣ן  in:\n",
      "\tExodus 2:20 וַיֹּ֥אמֶר אֶל־בְּנֹתָ֖יו וְאַיֹּ֑ו לָ֤מָּה זֶּה֙ עֲזַבְתֶּ֣ן אֶת־הָאִ֔ישׁ קִרְאֶ֥ן לֹ֖ו וְיֹ֥אכַל לָֽחֶם׃ \n",
      "29531 קִרְאֶ֥ן  in:\n",
      "\tExodus 2:20 וַיֹּ֥אמֶר אֶל־בְּנֹתָ֖יו וְאַיֹּ֑ו לָ֤מָּה זֶּה֙ עֲזַבְתֶּ֣ן אֶת־הָאִ֔ישׁ קִרְאֶ֥ן לֹ֖ו וְיֹ֥אכַל לָֽחֶם׃ \n",
      "\n"
     ]
    }
   ],
   "source": [
    "plain = []\n",
    "html = []\n",
    "\n",
    "for n in resultNodes[0:10]:\n",
    "    vn = L.u(n, otype='verse')[0]\n",
    "    plain.append('{} {} in:\\n\\t{} {}\\n'.format(\n",
    "        n, T.text([n]),\n",
    "        '{} {}:{}'.format(*T.sectionFromNode(n)),\n",
    "        T.text(L.d(vn, otype='word')),\n",
    "    ))\n",
    "    html.append('''\n",
    "<div class=\"r\">\n",
    "<p>{} <span class=\"h\">{}</span>in:</p>\n",
    "<p><span class=\"l\">{}</span> <span class=\"h\">{}</span></p>\n",
    "</div>\n",
    "'''.format(\n",
    "        n, T.text([n]),\n",
    "        '{} {}:{}'.format(*T.sectionFromNode(n)),\n",
    "        T.text(L.d(vn, otype='word')),\n",
    "    ))\n",
    "print(''.join(plain))"
   ]
  },
  {
   "cell_type": "markdown",
   "metadata": {},
   "source": [
    "Now a bit more pretty."
   ]
  },
  {
   "cell_type": "code",
   "execution_count": 92,
   "metadata": {
    "collapsed": false
   },
   "outputs": [
    {
     "data": {
      "text/html": [
       "\n",
       "<style type=\"text/css\">\n",
       ".r {\n",
       "    border: 2px solid #cccccc;\n",
       "}\n",
       ".h {\n",
       "    font-family: Ezra SIL, SBL Hebrew, Verdana, sans-serif;\n",
       "    font-size: x-large;\n",
       "    line-height: 2;\n",
       "    text-align: right;\n",
       "    direction: rtl;\n",
       "}\n",
       ".e {\n",
       "    font-family: Menlo, Courier New, Courier, monospace;\n",
       "    font-size: medium;\n",
       "    line-height: 1.2;\n",
       "    text-align: left;\n",
       "    direction: ltr;\n",
       "}\n",
       ".p {\n",
       "    font-family: Verdana, Arial, sans-serif;\n",
       "    font-size: large;\n",
       "    line-height: 1.5;\n",
       "    text-align: left;\n",
       "    direction: ltr;\n",
       "}\n",
       ".l {\n",
       "    font-family: Verdana, Arial, sans-serif;\n",
       "    font-size: small;\n",
       "    text-align: right;\n",
       "    float: right;\n",
       "    color: #aaaaaa;\n",
       "    direction: ltr;\n",
       "}\n",
       "</style>\n"
      ],
      "text/plain": [
       "<IPython.core.display.HTML object>"
      ]
     },
     "execution_count": 92,
     "metadata": {},
     "output_type": "execute_result"
    }
   ],
   "source": [
    "HTML('''\n",
    "<style type=\"text/css\">\n",
    ".r {\n",
    "    border: 2px solid #cccccc;\n",
    "}\n",
    ".h {\n",
    "    font-family: Ezra SIL, SBL Hebrew, Verdana, sans-serif;\n",
    "    font-size: x-large;\n",
    "    line-height: 2;\n",
    "    text-align: right;\n",
    "    direction: rtl;\n",
    "}\n",
    ".e {\n",
    "    font-family: Menlo, Courier New, Courier, monospace;\n",
    "    font-size: medium;\n",
    "    line-height: 1.2;\n",
    "    text-align: left;\n",
    "    direction: ltr;\n",
    "}\n",
    ".p {\n",
    "    font-family: Verdana, Arial, sans-serif;\n",
    "    font-size: large;\n",
    "    line-height: 1.5;\n",
    "    text-align: left;\n",
    "    direction: ltr;\n",
    "}\n",
    ".l {\n",
    "    font-family: Verdana, Arial, sans-serif;\n",
    "    font-size: small;\n",
    "    text-align: right;\n",
    "    float: right;\n",
    "    color: #aaaaaa;\n",
    "    direction: ltr;\n",
    "}\n",
    "</style>\n",
    "''')"
   ]
  },
  {
   "cell_type": "code",
   "execution_count": 93,
   "metadata": {
    "collapsed": false,
    "scrolled": false
   },
   "outputs": [
    {
     "data": {
      "text/html": [
       "\n",
       "<div class=\"r\">\n",
       "<p>2052 <span class=\"h\">שְׁמַ֣עַן </span>in:</p>\n",
       "<p><span class=\"l\">Genesis 4:23</span> <span class=\"h\">וַיֹּ֨אמֶר לֶ֜מֶךְ לְנָשָׁ֗יו עָדָ֤ה וְצִלָּה֙ שְׁמַ֣עַן קֹולִ֔י נְשֵׁ֣י לֶ֔מֶךְ הַאְזֵ֖נָּה אִמְרָתִ֑י כִּ֣י אִ֤ישׁ הָרַ֨גְתִּי֙ לְפִצְעִ֔י וְיֶ֖לֶד לְחַבֻּרָתִֽי׃ </span></p>\n",
       "</div>\n",
       "\n",
       "<div class=\"r\">\n",
       "<p>2056 <span class=\"h\">הַאְזֵ֖נָּה </span>in:</p>\n",
       "<p><span class=\"l\">Genesis 4:23</span> <span class=\"h\">וַיֹּ֨אמֶר לֶ֜מֶךְ לְנָשָׁ֗יו עָדָ֤ה וְצִלָּה֙ שְׁמַ֣עַן קֹולִ֔י נְשֵׁ֣י לֶ֔מֶךְ הַאְזֵ֖נָּה אִמְרָתִ֑י כִּ֣י אִ֤ישׁ הָרַ֨גְתִּי֙ לְפִצְעִ֔י וְיֶ֖לֶד לְחַבֻּרָתִֽי׃ </span></p>\n",
       "</div>\n",
       "\n",
       "<div class=\"r\">\n",
       "<p>16470 <span class=\"h\">יְדַעְתֶּ֑ן </span>in:</p>\n",
       "<p><span class=\"l\">Genesis 31:6</span> <span class=\"h\">וְאַתֵּ֖נָה יְדַעְתֶּ֑ן כִּ֚י בְּכָל־כֹּחִ֔י עָבַ֖דְתִּי אֶת־אֲבִיכֶֽן׃ </span></p>\n",
       "</div>\n",
       "\n",
       "<div class=\"r\">\n",
       "<p>28981 <span class=\"h\">רְאִיתֶ֖ן </span>in:</p>\n",
       "<p><span class=\"l\">Exodus 1:16</span> <span class=\"h\">וַיֹּ֗אמֶר בְּיַלֶּדְכֶן֙ אֶת־הָֽעִבְרִיֹּ֔ות וּרְאִיתֶ֖ן עַל־הָאָבְנָ֑יִם אִם־בֵּ֥ן הוּא֙ וַהֲמִתֶּ֣ן אֹתֹ֔ו וְאִם־בַּ֥ת הִ֖יא וָחָֽיָה׃ </span></p>\n",
       "</div>\n",
       "\n",
       "<div class=\"r\">\n",
       "<p>28989 <span class=\"h\">הֲמִתֶּ֣ן </span>in:</p>\n",
       "<p><span class=\"l\">Exodus 1:16</span> <span class=\"h\">וַיֹּ֗אמֶר בְּיַלֶּדְכֶן֙ אֶת־הָֽעִבְרִיֹּ֔ות וּרְאִיתֶ֖ן עַל־הָאָבְנָ֑יִם אִם־בֵּ֥ן הוּא֙ וַהֲמִתֶּ֣ן אֹתֹ֔ו וְאִם־בַּ֥ת הִ֖יא וָחָֽיָה׃ </span></p>\n",
       "</div>\n",
       "\n",
       "<div class=\"r\">\n",
       "<p>29029 <span class=\"h\">עֲשִׂיתֶ֖ן </span>in:</p>\n",
       "<p><span class=\"l\">Exodus 1:18</span> <span class=\"h\">וַיִּקְרָ֤א מֶֽלֶךְ־מִצְרַ֨יִם֙ לַֽמְיַלְּדֹ֔ת וַיֹּ֣אמֶר לָהֶ֔ן מַדּ֥וּעַ עֲשִׂיתֶ֖ן הַדָּבָ֣ר הַזֶּ֑ה וַתְּחַיֶּ֖יןָ אֶת־הַיְלָדִֽים׃ </span></p>\n",
       "</div>\n",
       "\n",
       "<div class=\"r\">\n",
       "<p>29035 <span class=\"h\">תְּחַיֶּ֖יןָ </span>in:</p>\n",
       "<p><span class=\"l\">Exodus 1:18</span> <span class=\"h\">וַיִּקְרָ֤א מֶֽלֶךְ־מִצְרַ֨יִם֙ לַֽמְיַלְּדֹ֔ת וַיֹּ֣אמֶר לָהֶ֔ן מַדּ֥וּעַ עֲשִׂיתֶ֖ן הַדָּבָ֣ר הַזֶּ֑ה וַתְּחַיֶּ֖יןָ אֶת־הַיְלָדִֽים׃ </span></p>\n",
       "</div>\n",
       "\n",
       "<div class=\"r\">\n",
       "<p>29496 <span class=\"h\">מִהַרְתֶּ֥ן </span>in:</p>\n",
       "<p><span class=\"l\">Exodus 2:18</span> <span class=\"h\">וַתָּבֹ֕אנָה אֶל־רְעוּאֵ֖ל אֲבִיהֶ֑ן וַיֹּ֕אמֶר מַדּ֛וּעַ מִהַרְתֶּ֥ן בֹּ֖א הַיֹּֽום׃ </span></p>\n",
       "</div>\n",
       "\n",
       "<div class=\"r\">\n",
       "<p>29527 <span class=\"h\">עֲזַבְתֶּ֣ן </span>in:</p>\n",
       "<p><span class=\"l\">Exodus 2:20</span> <span class=\"h\">וַיֹּ֥אמֶר אֶל־בְּנֹתָ֖יו וְאַיֹּ֑ו לָ֤מָּה זֶּה֙ עֲזַבְתֶּ֣ן אֶת־הָאִ֔ישׁ קִרְאֶ֥ן לֹ֖ו וְיֹ֥אכַל לָֽחֶם׃ </span></p>\n",
       "</div>\n",
       "\n",
       "<div class=\"r\">\n",
       "<p>29531 <span class=\"h\">קִרְאֶ֥ן </span>in:</p>\n",
       "<p><span class=\"l\">Exodus 2:20</span> <span class=\"h\">וַיֹּ֥אמֶר אֶל־בְּנֹתָ֖יו וְאַיֹּ֑ו לָ֤מָּה זֶּה֙ עֲזַבְתֶּ֣ן אֶת־הָאִ֔ישׁ קִרְאֶ֥ן לֹ֖ו וְיֹ֥אכַל לָֽחֶם׃ </span></p>\n",
       "</div>\n"
      ],
      "text/plain": [
       "<IPython.core.display.HTML object>"
      ]
     },
     "execution_count": 93,
     "metadata": {},
     "output_type": "execute_result"
    }
   ],
   "source": [
    "HTML(''.join(html))"
   ]
  },
  {
   "cell_type": "markdown",
   "metadata": {},
   "source": [
    "# Moving on\n",
    "\n",
    "The code below does not work yet.\n",
    "The query execution is recursive in two dimensions:\n",
    "\n",
    "* queries can be embedded in a parent query\n",
    "* queries can be part of a sequence of queries\n",
    "\n",
    "The combining of the results of component queries into the results of the outer query is potentially very expensive.\n",
    "Ulrik has invented the concept of `sheaf`, a compact representation of all the results.\n",
    "\n",
    "So, we have to build a sheaf!\n",
    "\n",
    "The code below shows a bit of the resursion that is going on, but does not yet attempt to build a sheaf."
   ]
  },
  {
   "cell_type": "code",
   "execution_count": 79,
   "metadata": {
    "collapsed": false
   },
   "outputs": [],
   "source": [
    "def tfqlAtom(aQ, under=None, within=None):\n",
    "    (otype, features) = aQ\n",
    "    featureList = sorted(features.items())\n",
    "    results = []\n",
    "    for n in F.otype.s(otype):\n",
    "        parents = L.u(n)\n",
    "        extent = L.d(n, 'word')\n",
    "        (minSlot, maxSlot) = (extent[0], extent[-1])\n",
    "        if under != None and len(parents & under) == 0: continue\n",
    "        if within != None and (minSlot < within[0] or maxSlot > within[1]): continue\n",
    "        ok = True\n",
    "        for (f, v) in featureList:\n",
    "            if Fs(f).v(n) != v:\n",
    "                ok = False\n",
    "                break\n",
    "        if ok: results.append(n)\n",
    "    return results\n",
    "\n",
    "def tfqlSeq(q, under=None, within=None):\n",
    "    for qi in q:\n",
    "        resultsi = tfqlInner(qi, under=under)\n",
    "                \n",
    "    \n",
    "def tfqlInner(q, under=None, within=None):\n",
    "    if type(q[0]) is str:\n",
    "        if len(q) == 2:         # atomQuery\n",
    "            return tfqlAtom(q, under=under, within=within)\n",
    "        elif len(q) > 2:        # embedded list of queries\n",
    "            outerResults = tfqlAtom(q[0:3], under=under, within=within)\n",
    "            innerResults = tfqlSeq(q[2:], under=set(outerResults), within=within)\n",
    "            results\n",
    "            for o in outerResults:\n",
    "                extent = L.d(n, 'word')\n",
    "                (minSlot, maxSlot) = (extent[0], extent[-1])\n",
    "\n",
    "    else:\n",
    "        return tfqlSeq(q, under=under, within=within) \n",
    "\n",
    "def tfql(q):\n",
    "    info('querying ...')\n",
    "    results = tfqlInner(q)\n",
    "    info('{} results'.format(len(results)))\n",
    "    return results"
   ]
  }
 ],
 "metadata": {
  "kernelspec": {
   "display_name": "Python 3",
   "language": "python",
   "name": "python3"
  },
  "language_info": {
   "codemirror_mode": {
    "name": "ipython",
    "version": 3
   },
   "file_extension": ".py",
   "mimetype": "text/x-python",
   "name": "python",
   "nbconvert_exporter": "python",
   "pygments_lexer": "ipython3",
   "version": "3.5.2"
  }
 },
 "nbformat": 4,
 "nbformat_minor": 1
}
