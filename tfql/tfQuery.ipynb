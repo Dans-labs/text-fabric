{
 "cells": [
  {
   "cell_type": "markdown",
   "metadata": {},
   "source": [
    "<img align=\"right\" src=\"tf-small.png\"/>\n",
    "\n",
    "# Search\n",
    "\n",
    "Do we need search in TF, like MQL?\n",
    "\n",
    "Yes, it is convenient to have a more declarative way of getting a set of interesting nodes to work with."
   ]
  },
  {
   "cell_type": "code",
   "execution_count": 1,
   "metadata": {
    "collapsed": false
   },
   "outputs": [],
   "source": [
    "%load_ext autoreload\n",
    "%autoreload 2"
   ]
  },
  {
   "cell_type": "code",
   "execution_count": 2,
   "metadata": {
    "collapsed": false
   },
   "outputs": [],
   "source": [
    "from tf.fabric import Fabric"
   ]
  },
  {
   "cell_type": "code",
   "execution_count": 3,
   "metadata": {
    "collapsed": false
   },
   "outputs": [
    {
     "name": "stdout",
     "output_type": "stream",
     "text": [
      "This is Text-Fabric 1.2.7\n",
      "Api reference : https://github.com/ETCBC/text-fabric/wiki/Api\n",
      "Tutorial      : https://github.com/ETCBC/text-fabric/blob/master/docs/tutorial.ipynb\n",
      "Data sources  : https://github.com/ETCBC/text-fabric-data\n",
      "Data docs     : https://etcbc.github.io/text-fabric-data/features/hebrew/etcbc4c/0_overview.html\n",
      "Shebanq docs  : https://shebanq.ancient-data.org/text\n",
      "Slack team    : https://shebanq.slack.com/signup\n",
      "Questions? Ask shebanq@ancient-data.org for an invite to Slack\n",
      "107 features found and 0 ignored\n"
     ]
    }
   ],
   "source": [
    "ETCBC = 'hebrew/etcbc4c'\n",
    "TF = Fabric( modules=ETCBC )"
   ]
  },
  {
   "cell_type": "code",
   "execution_count": 4,
   "metadata": {
    "collapsed": false
   },
   "outputs": [
    {
     "name": "stdout",
     "output_type": "stream",
     "text": [
      "  0.00s loading features ...\n",
      "   |     0.00s Feature overview: 102 nodes; 4 edges; 1 configs; 6 computeds\n",
      "  6.03s All features loaded/computed - for details use loadLog()\n"
     ]
    }
   ],
   "source": [
    "api = TF.load('')\n",
    "api.makeAvailableIn(globals())"
   ]
  },
  {
   "cell_type": "code",
   "execution_count": 5,
   "metadata": {
    "collapsed": false
   },
   "outputs": [],
   "source": [
    "phrasesGapped = '''\n",
    "# test\n",
    "# verse book=Genesis chapter=2 verse=25\n",
    "clause\n",
    "                                 \n",
    "    p1:phrase\n",
    "        w1:word\n",
    "        w3:word\n",
    "        w1 < w3\n",
    "\n",
    "    p2:phrase\n",
    "        w2:word\n",
    "        w1 < w2 \n",
    "        w2 < w3\n",
    "    \n",
    "    p1 # p2   \n",
    "'''"
   ]
  },
  {
   "cell_type": "code",
   "execution_count": 6,
   "metadata": {
    "collapsed": false
   },
   "outputs": [],
   "source": [
    "yesh = '''\n",
    "book\n",
    "  chapter\n",
    "    verse\n",
    "      clause\n",
    "        clause_atom\n",
    "          phrase\n",
    "            phrase_atom\n",
    "              word lex=JC/|>JN/\n",
    "'''"
   ]
  },
  {
   "cell_type": "code",
   "execution_count": 14,
   "metadata": {
    "collapsed": false,
    "scrolled": false
   },
   "outputs": [
    {
     "name": "stdout",
     "output_type": "stream",
     "text": [
      "\n",
      "---------------------QUERY--0-------------------\n",
      "\n",
      "  0.00s Checking search template ...\n",
      "  0.00s Setting up search space for 8 objects ...\n",
      "  0.79s Constraining search space with 7 relations ...\n",
      "  0.84s Setting up retrieval plan ...\n",
      "  0.87s Ready to deliver results from 5870 nodes\n",
      "Iterate over S.fetch() to get the results\n",
      "See S.showPlan() to interpret the results\n",
      "Search with 8 objects and 7 relations\n",
      "Results are instantiations of the following objects:\n",
      "node  0-book                              (    39   choices)\n",
      "node  1-chapter                           (   416   choices)\n",
      "node  2-verse                             (   799   choices)\n",
      "node  3-clause                            (   922   choices)\n",
      "node  4-clause_atom                       (   922   choices)\n",
      "node  5-phrase                            (   923   choices)\n",
      "node  6-phrase_atom                       (   923   choices)\n",
      "node  7-word                              (   926   choices)\n",
      "Instantiations are computed along the following relations:\n",
      "node                      0-book          (    39   choices)\n",
      "edge  0-book          [[  1-chapter       (    13.7 choices)\n",
      "edge  1-chapter       [[  2-verse         (     2.4 choices)\n",
      "edge  2-verse         [[  3-clause        (     1.1 choices)\n",
      "edge  3-clause        [[  4-clause_atom   (     1.0 choices)\n",
      "edge  4-clause_atom   [[  5-phrase        (     1.0 choices)\n",
      "edge  5-phrase        [[  6-phrase_atom   (     1.0 choices)\n",
      "edge  6-phrase_atom   [[  7-word          (     1.0 choices)\n",
      "  0.90s The results are connected to the original search template as follows:\n",
      " 0     \n",
      " 1 R 0 book\n",
      " 2 R 1   chapter\n",
      " 3 R 2     verse\n",
      " 4 R 3       clause\n",
      " 5 R 4         clause_atom\n",
      " 6 R 5           phrase\n",
      " 7 R 6             phrase_atom\n",
      " 8 R 7               word lex=JC/|>JN/\n",
      " 9     \n",
      "  0.00s Counting results per 1000 up to 10000 ...\n",
      "  0.22s Done: 926 results\n",
      "  Jonah 4:11 clause clause_atom phrase phrase_atom יֶשׁ־\n",
      "  Micah 2:1 clause clause_atom phrase phrase_atom יֶשׁ־\n",
      "  Micah 3:7 clause clause_atom phrase phrase_atom אֵ֥ין \n",
      "  Micah 4:9 clause clause_atom phrase phrase_atom אֵֽין־\n",
      "  Micah 4:4 clause clause_atom phrase phrase_atom אֵ֣ין \n",
      "  Micah 5:7 clause clause_atom phrase phrase_atom אֵ֥ין \n",
      "  Micah 7:2 clause clause_atom phrase phrase_atom אָ֑יִן \n",
      "  Micah 7:1 clause clause_atom phrase phrase_atom אֵין־\n",
      "  Nahum 2:9 clause clause_atom phrase phrase_atom אֵ֥ין \n",
      "  Nahum 2:10 clause clause_atom phrase phrase_atom אֵ֥ין \n",
      "\n",
      "---------------------QUERY--1-------------------\n",
      "\n",
      "  0.00s Checking search template ...\n",
      "  0.00s Setting up search space for 6 objects ...\n",
      "  0.62s Constraining search space with 9 relations ...\n",
      "  3.84s Setting up retrieval plan ...\n",
      "  8.33s Ready to deliver results from 1874091 nodes\n",
      "Iterate over S.fetch() to get the results\n",
      "See S.showPlan() to interpret the results\n",
      "Search with 6 objects and 9 relations\n",
      "Results are instantiations of the following objects:\n",
      "node  0-clause                            ( 88000   choices)\n",
      "node  1-phrase                            (253174   choices)\n",
      "node  2-word                              (426581   choices)\n",
      "node  3-word                              (426581   choices)\n",
      "node  4-phrase                            (253174   choices)\n",
      "node  5-word                              (426581   choices)\n",
      "Instantiations are computed along the following relations:\n",
      "node                      0-clause        ( 88000   choices)\n",
      "edge  0-clause        [[  4-phrase        (     2.7 choices)\n",
      "edge  4-phrase        [[  5-word          (     1.4 choices)\n",
      "edge  0-clause        [[  1-phrase        (     2.7 choices)\n",
      "edge  1-phrase        #   4-phrase        (253174.0 choices)\n",
      "edge  1-phrase        [[  3-word          (     1.3 choices)\n",
      "edge  3-word          >   5-word          (209024.7 choices)\n",
      "edge  1-phrase        [[  2-word          (     3.4 choices)\n",
      "edge  3-word          >   2-word          (166366.6 choices)\n",
      "edge  2-word          <   5-word          (191961.5 choices)\n",
      "  8.34s The results are connected to the original search template as follows:\n",
      " 0     \n",
      " 1     # test\n",
      " 2     # verse book=Genesis chapter=2 verse=25\n",
      " 3 R 0 clause\n",
      " 4                                      \n",
      " 5 R 1     p1:phrase\n",
      " 6 R 2         w1:word\n",
      " 7 R 3         w3:word\n",
      " 8             w1 < w3\n",
      " 9     \n",
      "10 R 4     p2:phrase\n",
      "11 R 5         w2:word\n",
      "12             w1 < w2 \n",
      "13             w2 < w3\n",
      "14         \n",
      "15         p1 # p2   \n",
      "16     \n",
      "  0.00s Counting results per 1000 up to 10000 ...\n",
      "   |     2.03s 1000\n",
      "   |     3.26s 2000\n",
      "   |     4.28s 3000\n",
      "   |     5.25s 4000\n",
      "   |     6.48s 5000\n",
      "   |     8.38s 6000\n",
      "   |       12s 7000\n",
      "    16s Done: 7699 results\n",
      "clause phrase שְׁנֵיהֶם֙  הָֽ phrase עֲרוּמִּ֔ים \n",
      "clause phrase שְׁנֵיהֶם֙  אָדָ֖ם  phrase עֲרוּמִּ֔ים \n",
      "clause phrase שְׁנֵיהֶם֙  וְ phrase עֲרוּמִּ֔ים \n",
      "clause phrase שְׁנֵיהֶם֙  אִשְׁתֹּ֑ו  phrase עֲרוּמִּ֔ים \n",
      "clause phrase הֶ֨בֶל  גַם־ phrase הֵבִ֥יא \n",
      "clause phrase הֶ֨בֶל  ה֛וּא  phrase הֵבִ֥יא \n",
      "clause phrase גַּם־ אֲחִ֖י  phrase עֵ֔בֶר \n",
      "clause phrase ה֑וּא  אֲחִ֖י  phrase עֵ֔בֶר \n",
      "clause phrase גַּם־ יֶ֥פֶת  phrase עֵ֔בֶר \n",
      "clause phrase ה֑וּא  יֶ֥פֶת  phrase עֵ֔בֶר \n"
     ]
    }
   ],
   "source": [
    "strat = 'small_choice_first'\n",
    "#strat = 'spread_1_first'\n",
    "for (i, query) in enumerate([\n",
    "    yesh, \n",
    "    phrasesGapped,\n",
    "]):\n",
    "    print('\\n---------------------QUERY--{}-------------------\\n'.format(i))\n",
    "    S.study(query, strategy=strat)\n",
    "    S.showPlan()\n",
    "    S.count(progress=1000, limit=10000)\n",
    "    for r in S.fetch(amount=10):\n",
    "        print(S.glean(r))"
   ]
  },
  {
   "cell_type": "markdown",
   "metadata": {},
   "source": [
    "# Testing basic relations"
   ]
  },
  {
   "cell_type": "code",
   "execution_count": 24,
   "metadata": {
    "collapsed": false
   },
   "outputs": [
    {
     "name": "stdout",
     "output_type": "stream",
     "text": [
      "  0.00s Checking search template ...\n",
      "  0.00s Setting up search space for 4 objects ...\n",
      "  0.15s Constraining search space with 4 relations ...\n",
      "  0.75s Setting up retrieval plan ...\n",
      "  1.26s Ready to deliver results from 420759 nodes\n",
      "Iterate over S.fetch() to get the results\n",
      "See S.showPlan() to interpret the results\n",
      "Search with 4 objects and 4 relations\n",
      "Results are instantiations of the following objects:\n",
      "node  0-verse                             ( 21802   choices)\n",
      "node  1-sentence                          ( 62655   choices)\n",
      "node  2-clause                            ( 83128   choices)\n",
      "node  3-phrase                            (253174   choices)\n",
      "Instantiations are computed along the following relations:\n",
      "node                      0-verse         ( 21802   choices)\n",
      "edge  0-verse         [[  1-sentence      (     2.9 choices)\n",
      "edge  1-sentence      [[  2-clause        (     1.6 choices)\n",
      "edge  1-sentence      [[  3-phrase        (     2.9 choices)\n",
      "edge  3-phrase        >>  2-clause        ( 45720.4 choices)\n",
      "  1.27s The results are connected to the original search template as follows:\n",
      " 0     \n",
      " 1 R 0 verse\n",
      " 2 R 1   sentence\n",
      " 3 R 2     c:clause\n",
      " 4 R 3     p:phrase\n",
      " 5         c << p\n",
      " 6     \n",
      "Genesis 1:4 sentence clause phrase\n",
      "Genesis 1:4 sentence clause phrase\n",
      "Genesis 1:7 sentence clause phrase\n",
      "Genesis 1:7 sentence clause phrase\n",
      "Genesis 1:7 sentence clause phrase\n",
      "Genesis 1:7 sentence clause phrase\n",
      "Genesis 1:10 sentence clause phrase\n",
      "Genesis 1:10 sentence clause phrase\n",
      "Genesis 1:11 sentence clause phrase\n",
      "Genesis 1:11 sentence clause phrase\n"
     ]
    }
   ],
   "source": [
    "# << slotBefore\n",
    "query = '''\n",
    "verse\n",
    "  sentence\n",
    "    c:clause\n",
    "    p:phrase\n",
    "    c << p\n",
    "'''\n",
    "S.study(query)\n",
    "S.showPlan()\n",
    "for r in S.fetch(amount=10):\n",
    "    print(S.glean(r))"
   ]
  },
  {
   "cell_type": "code",
   "execution_count": 8,
   "metadata": {
    "collapsed": false
   },
   "outputs": [
    {
     "name": "stdout",
     "output_type": "stream",
     "text": [
      "  0.00s Checking search template ...\n",
      "  0.00s Setting up search space for 4 objects ...\n",
      "  0.17s Constraining search space with 5 relations ...\n"
     ]
    },
    {
     "ename": "KeyboardInterrupt",
     "evalue": "",
     "output_type": "error",
     "traceback": [
      "\u001b[0;31m---------------------------------------------------------------------------\u001b[0m",
      "\u001b[0;31mKeyboardInterrupt\u001b[0m                         Traceback (most recent call last)",
      "\u001b[0;32m<ipython-input-8-fc6be84b0ae4>\u001b[0m in \u001b[0;36m<module>\u001b[0;34m()\u001b[0m\n\u001b[1;32m      8\u001b[0m       \u001b[0ms1\u001b[0m \u001b[0;34m&\u001b[0m\u001b[0;34m&\u001b[0m \u001b[0ms2\u001b[0m\u001b[0;34m\u001b[0m\u001b[0m\n\u001b[1;32m      9\u001b[0m '''\n\u001b[0;32m---> 10\u001b[0;31m \u001b[0mS\u001b[0m\u001b[0;34m.\u001b[0m\u001b[0mstudy\u001b[0m\u001b[0;34m(\u001b[0m\u001b[0mquery\u001b[0m\u001b[0;34m)\u001b[0m\u001b[0;34m\u001b[0m\u001b[0m\n\u001b[0m\u001b[1;32m     11\u001b[0m \u001b[0mS\u001b[0m\u001b[0;34m.\u001b[0m\u001b[0mshowPlan\u001b[0m\u001b[0;34m(\u001b[0m\u001b[0;34m)\u001b[0m\u001b[0;34m\u001b[0m\u001b[0m\n\u001b[1;32m     12\u001b[0m \u001b[0;32mfor\u001b[0m \u001b[0mr\u001b[0m \u001b[0;32min\u001b[0m \u001b[0mS\u001b[0m\u001b[0;34m.\u001b[0m\u001b[0mfetch\u001b[0m\u001b[0;34m(\u001b[0m\u001b[0mamount\u001b[0m\u001b[0;34m=\u001b[0m\u001b[0;36m10\u001b[0m\u001b[0;34m)\u001b[0m\u001b[0;34m:\u001b[0m\u001b[0;34m\u001b[0m\u001b[0m\n",
      "\u001b[0;32m/Library/Frameworks/Python.framework/Versions/3.5/lib/python3.5/site-packages/tf/search.py\u001b[0m in \u001b[0;36mstudy\u001b[0;34m(self, searchTemplate, strategy)\u001b[0m\n\u001b[1;32m     56\u001b[0m         \u001b[0mself\u001b[0m\u001b[0;34m.\u001b[0m\u001b[0m_spinAtoms\u001b[0m\u001b[0;34m(\u001b[0m\u001b[0;34m)\u001b[0m\u001b[0;34m\u001b[0m\u001b[0m\n\u001b[1;32m     57\u001b[0m         \u001b[0minfo\u001b[0m\u001b[0;34m(\u001b[0m\u001b[0;34m'Constraining search space with {} relations ...'\u001b[0m\u001b[0;34m.\u001b[0m\u001b[0mformat\u001b[0m\u001b[0;34m(\u001b[0m\u001b[0mlen\u001b[0m\u001b[0;34m(\u001b[0m\u001b[0mself\u001b[0m\u001b[0;34m.\u001b[0m\u001b[0mqedges\u001b[0m\u001b[0;34m)\u001b[0m\u001b[0;34m)\u001b[0m\u001b[0;34m)\u001b[0m\u001b[0;34m\u001b[0m\u001b[0m\n\u001b[0;32m---> 58\u001b[0;31m         \u001b[0mself\u001b[0m\u001b[0;34m.\u001b[0m\u001b[0m_spinEdges\u001b[0m\u001b[0;34m(\u001b[0m\u001b[0;34m)\u001b[0m\u001b[0;34m\u001b[0m\u001b[0m\n\u001b[0m\u001b[1;32m     59\u001b[0m         \u001b[0minfo\u001b[0m\u001b[0;34m(\u001b[0m\u001b[0;34m'Setting up retrieval plan ...'\u001b[0m\u001b[0;34m)\u001b[0m\u001b[0;34m\u001b[0m\u001b[0m\n\u001b[1;32m     60\u001b[0m         \u001b[0mself\u001b[0m\u001b[0;34m.\u001b[0m\u001b[0m_stitch\u001b[0m\u001b[0;34m(\u001b[0m\u001b[0;34m)\u001b[0m\u001b[0;34m\u001b[0m\u001b[0m\n",
      "\u001b[0;32m/Library/Frameworks/Python.framework/Versions/3.5/lib/python3.5/site-packages/tf/search.py\u001b[0m in \u001b[0;36m_spinEdges\u001b[0;34m(self)\u001b[0m\n\u001b[1;32m    868\u001b[0m             \u001b[0me\u001b[0m \u001b[0;34m=\u001b[0m \u001b[0mself\u001b[0m\u001b[0;34m.\u001b[0m\u001b[0m_chooseEdge\u001b[0m\u001b[0;34m(\u001b[0m\u001b[0;34m)\u001b[0m\u001b[0;34m\u001b[0m\u001b[0m\n\u001b[1;32m    869\u001b[0m             \u001b[0;34m(\u001b[0m\u001b[0mf\u001b[0m\u001b[0;34m,\u001b[0m \u001b[0mrela\u001b[0m\u001b[0;34m,\u001b[0m \u001b[0mt\u001b[0m\u001b[0;34m)\u001b[0m \u001b[0;34m=\u001b[0m \u001b[0mqedges\u001b[0m\u001b[0;34m[\u001b[0m\u001b[0me\u001b[0m\u001b[0;34m]\u001b[0m\u001b[0;34m\u001b[0m\u001b[0m\n\u001b[0;32m--> 870\u001b[0;31m             \u001b[0mself\u001b[0m\u001b[0;34m.\u001b[0m\u001b[0m_spinEdge\u001b[0m\u001b[0;34m(\u001b[0m\u001b[0me\u001b[0m\u001b[0;34m)\u001b[0m\u001b[0;34m\u001b[0m\u001b[0m\n\u001b[0m\u001b[1;32m    871\u001b[0m             \u001b[0mit\u001b[0m \u001b[0;34m+=\u001b[0m \u001b[0;36m1\u001b[0m\u001b[0;34m\u001b[0m\u001b[0m\n\u001b[1;32m    872\u001b[0m \u001b[0;34m\u001b[0m\u001b[0m\n",
      "\u001b[0;32m/Library/Frameworks/Python.framework/Versions/3.5/lib/python3.5/site-packages/tf/search.py\u001b[0m in \u001b[0;36m_spinEdge\u001b[0;34m(self, e)\u001b[0m\n\u001b[1;32m    832\u001b[0m         \u001b[0;32melse\u001b[0m\u001b[0;34m:\u001b[0m\u001b[0;34m\u001b[0m\u001b[0m\n\u001b[1;32m    833\u001b[0m             \u001b[0;32mfor\u001b[0m \u001b[0mn\u001b[0m \u001b[0;32min\u001b[0m \u001b[0myarnF\u001b[0m\u001b[0;34m:\u001b[0m\u001b[0;34m\u001b[0m\u001b[0m\n\u001b[0;32m--> 834\u001b[0;31m                 \u001b[0mmFromN\u001b[0m \u001b[0;34m=\u001b[0m \u001b[0mset\u001b[0m\u001b[0;34m(\u001b[0m\u001b[0mm\u001b[0m \u001b[0;32mfor\u001b[0m \u001b[0mm\u001b[0m \u001b[0;32min\u001b[0m \u001b[0myarnT\u001b[0m \u001b[0;32mif\u001b[0m \u001b[0mr\u001b[0m\u001b[0;34m(\u001b[0m\u001b[0mn\u001b[0m\u001b[0;34m,\u001b[0m \u001b[0mm\u001b[0m\u001b[0;34m)\u001b[0m\u001b[0;34m)\u001b[0m\u001b[0;34m\u001b[0m\u001b[0m\n\u001b[0m\u001b[1;32m    835\u001b[0m                 \u001b[0;32mif\u001b[0m \u001b[0mlen\u001b[0m\u001b[0;34m(\u001b[0m\u001b[0mmFromN\u001b[0m\u001b[0;34m)\u001b[0m\u001b[0;34m:\u001b[0m\u001b[0;34m\u001b[0m\u001b[0m\n\u001b[1;32m    836\u001b[0m                     \u001b[0mnewYarnT\u001b[0m \u001b[0;34m|=\u001b[0m \u001b[0mmFromN\u001b[0m\u001b[0;34m\u001b[0m\u001b[0m\n",
      "\u001b[0;32m/Library/Frameworks/Python.framework/Versions/3.5/lib/python3.5/site-packages/tf/search.py\u001b[0m in \u001b[0;36m<genexpr>\u001b[0;34m(.0)\u001b[0m\n\u001b[1;32m    832\u001b[0m         \u001b[0;32melse\u001b[0m\u001b[0;34m:\u001b[0m\u001b[0;34m\u001b[0m\u001b[0m\n\u001b[1;32m    833\u001b[0m             \u001b[0;32mfor\u001b[0m \u001b[0mn\u001b[0m \u001b[0;32min\u001b[0m \u001b[0myarnF\u001b[0m\u001b[0;34m:\u001b[0m\u001b[0;34m\u001b[0m\u001b[0m\n\u001b[0;32m--> 834\u001b[0;31m                 \u001b[0mmFromN\u001b[0m \u001b[0;34m=\u001b[0m \u001b[0mset\u001b[0m\u001b[0;34m(\u001b[0m\u001b[0mm\u001b[0m \u001b[0;32mfor\u001b[0m \u001b[0mm\u001b[0m \u001b[0;32min\u001b[0m \u001b[0myarnT\u001b[0m \u001b[0;32mif\u001b[0m \u001b[0mr\u001b[0m\u001b[0;34m(\u001b[0m\u001b[0mn\u001b[0m\u001b[0;34m,\u001b[0m \u001b[0mm\u001b[0m\u001b[0;34m)\u001b[0m\u001b[0;34m)\u001b[0m\u001b[0;34m\u001b[0m\u001b[0m\n\u001b[0m\u001b[1;32m    835\u001b[0m                 \u001b[0;32mif\u001b[0m \u001b[0mlen\u001b[0m\u001b[0;34m(\u001b[0m\u001b[0mmFromN\u001b[0m\u001b[0;34m)\u001b[0m\u001b[0;34m:\u001b[0m\u001b[0;34m\u001b[0m\u001b[0m\n\u001b[1;32m    836\u001b[0m                     \u001b[0mnewYarnT\u001b[0m \u001b[0;34m|=\u001b[0m \u001b[0mmFromN\u001b[0m\u001b[0;34m\u001b[0m\u001b[0m\n",
      "\u001b[0;32m/Library/Frameworks/Python.framework/Versions/3.5/lib/python3.5/site-packages/tf/search.py\u001b[0m in \u001b[0;36m<lambda>\u001b[0;34m(n, m)\u001b[0m\n\u001b[1;32m    200\u001b[0m                 \u001b[0;32mreturn\u001b[0m \u001b[0;32mlambda\u001b[0m \u001b[0mn\u001b[0m\u001b[0;34m,\u001b[0m \u001b[0mm\u001b[0m\u001b[0;34m:\u001b[0m \u001b[0mn\u001b[0m \u001b[0;32min\u001b[0m \u001b[0mfrozenset\u001b[0m\u001b[0;34m(\u001b[0m\u001b[0mEoslots\u001b[0m\u001b[0;34m[\u001b[0m\u001b[0mm\u001b[0m\u001b[0;34m-\u001b[0m\u001b[0mmaxSlot\u001b[0m\u001b[0;34m-\u001b[0m\u001b[0;36m1\u001b[0m\u001b[0;34m]\u001b[0m\u001b[0;34m)\u001b[0m\u001b[0;34m\u001b[0m\u001b[0m\n\u001b[1;32m    201\u001b[0m             \u001b[0;32melse\u001b[0m\u001b[0;34m:\u001b[0m\u001b[0;34m\u001b[0m\u001b[0m\n\u001b[0;32m--> 202\u001b[0;31m                 \u001b[0;32mreturn\u001b[0m \u001b[0;32mlambda\u001b[0m \u001b[0mn\u001b[0m\u001b[0;34m,\u001b[0m \u001b[0mm\u001b[0m\u001b[0;34m:\u001b[0m \u001b[0mlen\u001b[0m\u001b[0;34m(\u001b[0m\u001b[0mfrozenset\u001b[0m\u001b[0;34m(\u001b[0m\u001b[0mEoslots\u001b[0m\u001b[0;34m[\u001b[0m\u001b[0mn\u001b[0m\u001b[0;34m-\u001b[0m\u001b[0mmaxSlot\u001b[0m\u001b[0;34m-\u001b[0m\u001b[0;36m1\u001b[0m\u001b[0;34m]\u001b[0m\u001b[0;34m)\u001b[0m \u001b[0;34m&\u001b[0m \u001b[0mfrozenset\u001b[0m\u001b[0;34m(\u001b[0m\u001b[0mEoslots\u001b[0m\u001b[0;34m[\u001b[0m\u001b[0mm\u001b[0m\u001b[0;34m-\u001b[0m\u001b[0mmaxSlot\u001b[0m\u001b[0;34m-\u001b[0m\u001b[0;36m1\u001b[0m\u001b[0;34m]\u001b[0m\u001b[0;34m)\u001b[0m\u001b[0;34m)\u001b[0m \u001b[0;34m!=\u001b[0m \u001b[0;36m0\u001b[0m\u001b[0;34m\u001b[0m\u001b[0m\n\u001b[0m\u001b[1;32m    203\u001b[0m \u001b[0;34m\u001b[0m\u001b[0m\n\u001b[1;32m    204\u001b[0m         \u001b[0;32mdef\u001b[0m \u001b[0mdiffSlotsR\u001b[0m\u001b[0;34m(\u001b[0m\u001b[0mfTp\u001b[0m\u001b[0;34m,\u001b[0m \u001b[0mtTp\u001b[0m\u001b[0;34m)\u001b[0m\u001b[0;34m:\u001b[0m\u001b[0;34m\u001b[0m\u001b[0m\n",
      "\u001b[0;31mKeyboardInterrupt\u001b[0m: "
     ]
    }
   ],
   "source": [
    "# && overlap\n",
    "query = '''\n",
    "verse\n",
    "    phrase\n",
    "      s1:subphrase\n",
    "      s2:subphrase\n",
    "      s1 # s2\n",
    "      s1 && s2\n",
    "'''\n",
    "S.study(query)\n",
    "S.showPlan()\n",
    "for r in S.fetch(amount=10):\n",
    "    print(S.glean(r))"
   ]
  },
  {
   "cell_type": "markdown",
   "metadata": {},
   "source": [
    "# Query syntax\n",
    "\n",
    "## General\n",
    "We have these kinds of lines:\n",
    "\n",
    "* white-space lines (everywhere allowed, will be always ignored)\n",
    "* relation line: **name operator name**.\n",
    "  Indents and spacing are ignored, but there must be space around the operator.\n",
    "* atom line: **indent otype features**. The indent is significant.\n",
    "* feature line: **features**. Indent is not significant. Only allowed after an atom line or after\n",
    "  a feature line. \n",
    "  Feature lines are continuations of the features of an atom, handy in those cases where the\n",
    "  features occupy a lot of space.\n",
    "\n",
    "## Features\n",
    "\n",
    "A white-space separated list of *key*=*values*.\n",
    "\n",
    "* there may be no space around the `=`.\n",
    "* *key* must be a feature name that exists in the dataset.\n",
    "  If it is not yet loaded, it will be loaded.\n",
    "* *values* must be a `|` separated list of feature values, no quotes.\n",
    "  No spaces around the `|`.\n",
    "  If you need a space or `|` or `\\\\` in a value, escape it by a `\\\\`.\n",
    "  Escape tabs and newlines as `\\\\t` and `\\\\n`.\n",
    "\n",
    "## Operators\n",
    "\n",
    "### Node comparison\n",
    "* `=`: is equal (meaning the same node, a clause and a verse that occupy the same slots are still unequal)\n",
    "* `#`: is unequal (meaning a different node, a clause and a verse that occupy the same slots are still unequal)\n",
    "* `<` `>`: before and after (in the *canonical ordering*)\n",
    "\n",
    "### Slot comparison\n",
    "* `==`: occupy the same slots (identical slot sets)\n",
    "* `&&`: overlap (the intersection of both slot sets is not empty)\n",
    "* `##`: occupy different slots (but they may overlap, the set of slots of the two are different as sets)\n",
    "* `||`: occupy disjoint slots (no slot occupied by the one is also occupied by the other)\n",
    "* `[[` `]]`: embeds and contains (slot set inclusion, in both directions)\n",
    "* `<<` `>>`: before and after (with respect to the slots occupied: left ends before right starts and vv)\n",
    "\n",
    "### Edge features\n",
    "* `-`*name*`>` `<`*name*`-`: connected by the edge feature *name*, in both directions"
   ]
  },
  {
   "cell_type": "code",
   "execution_count": 77,
   "metadata": {
    "collapsed": false
   },
   "outputs": [
    {
     "name": "stdout",
     "output_type": "stream",
     "text": [
      "    20s Getting gapped phrases\n",
      "    25s 373 results\n",
      "(605793, 605794, 1159, 1160, 1164, 426799)\n",
      "(606150, 606151, 1720, 1721, 1723, 426921)\n",
      "(607746, 607747, 4819, 4821, 4828, 427418)\n",
      "(608322, 608323, 5803, 5805, 5809, 427601)\n",
      "(608369, 608370, 5868, 5869, 5875, 427616)\n",
      "(608705, 608706, 6515, 6521, 6530, 427723)\n",
      "(609286, 609287, 7431, 7432, 7437, 427917)\n",
      "(609997, 609998, 8502, 8507, 8520, 428159)\n",
      "(609997, 609999, 8502, 8508, 8520, 428159)\n",
      "(610379, 610380, 9127, 9129, 9133, 428286)\n"
     ]
    }
   ],
   "source": [
    "info('Getting gapped phrases')\n",
    "results = []\n",
    "for c in F.otype.s('clause'):\n",
    "    ps = L.d(c, 'phrase')\n",
    "    for p in ps:\n",
    "        words = L.d(p, 'word')\n",
    "        (bp, ep) = (words[0], words[-1])\n",
    "        for q in ps:\n",
    "            if p == q: continue\n",
    "            bq = L.d(q, 'word')[0]\n",
    "            if bp < bq and bq < ep:\n",
    "                results.append((p, q, bp, bq, ep, c))\n",
    "info('{} results'.format(len(results)))\n",
    "for r in results[0:10]:\n",
    "    print(r)"
   ]
  },
  {
   "cell_type": "code",
   "execution_count": null,
   "metadata": {
    "collapsed": true
   },
   "outputs": [],
   "source": []
  }
 ],
 "metadata": {
  "kernelspec": {
   "display_name": "Python 3",
   "language": "python",
   "name": "python3"
  },
  "language_info": {
   "codemirror_mode": {
    "name": "ipython",
    "version": 3
   },
   "file_extension": ".py",
   "mimetype": "text/x-python",
   "name": "python",
   "nbconvert_exporter": "python",
   "pygments_lexer": "ipython3",
   "version": "3.5.2"
  }
 },
 "nbformat": 4,
 "nbformat_minor": 1
}
