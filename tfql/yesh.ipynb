{
 "cells": [
  {
   "cell_type": "markdown",
   "metadata": {},
   "source": [
    "<img align=\"right\" src=\"tf-small.png\"/>\n",
    "\n",
    "\n",
    "# From SHEBANQ to Text-Fabric\n",
    "\n",
    "Maybe you arrived here because you are interested in extending the possibilities of using the ETCBC database, after having reached the limits of what is possible in [SHEBANQ](http://shebanq.ancient-data.org).\n",
    "\n",
    "Here is a link (back) to the\n",
    "[description](https://etcbc.github.io/text-fabric-data/features/hebrew/etcbc4c/0_mql.html) of the transition from SHEBANQ to Text-Fabric.\n",
    "\n",
    "And here is the corresponding query on SHEBANQ: [Yesh](http://shebanq.ancient-data.org/hebrew/query?id=556)."
   ]
  },
  {
   "cell_type": "markdown",
   "metadata": {},
   "source": [
    "# Introduction to MQL\n",
    "\n",
    "Coming from Text-Fabric and its notebooks, you might wonder what MQL is.\n",
    "MQL stands for **Mini Query Language**, which is a query language optimized for textual resources.\n",
    "[EMDROS](http://emdros.org) is a text database system written by Ulrik Sandborg-Petersen based on the PhD. thesis of Crist-Jan Doedens: [Text Databases. One Database Model and Several Retrieval Languages](http://books.google.nl/books?id=9ggOBRz1dO4C&dq=editions%3AISBN9051837291&source=gbs_book_other_versions).\n",
    "The Text-Fabric resource which is \n",
    "[ETCBC Hebrew Dataset](https://etcbc.github.io/text-fabric-data/features/hebrew/etcbc4c/0_home.html)\n",
    "is the result of converting an EMDROS database into TF.\n",
    "\n",
    "MQL is good for detecting syntactical patterns.\n",
    "TF is good for programmatically walking through the text and gathering information as you go.\n",
    "\n",
    "The query language of this system, MQL, is a so-called *topographic* query language, meaning that the query instruction is at the same time a template for the query results.\n",
    "More formally, there is a correspondence between the structure of the query instruction\n",
    "and the structure of the query results, and this correspondence holds for the sequential order and the embedding order.\n",
    "\n",
    "Put otherwise, MQL is a convenient language to query the data for tree fragments\n",
    "(but not for arbitrary *network* patterns).\n",
    "\n",
    "A specification of MQL can be found at the [Emdros docs page](http://emdros.org/docs.html).\n",
    "\n",
    "In order to run this notebook, you need to have the ETCBC dataset from\n",
    "[text-fabric-data](https://github.com/ETCBC/text-fabric-data)"
   ]
  },
  {
   "cell_type": "markdown",
   "metadata": {},
   "source": [
    "# Mimicking MQL in Text-Fabric"
   ]
  },
  {
   "cell_type": "markdown",
   "metadata": {},
   "source": [
    "This notebook shows how you can mimick MQL in Text-Fabric.\n",
    "\n",
    "We translate a simple MQL query in TF procesing, and show how to add context to the results. "
   ]
  },
  {
   "cell_type": "code",
   "execution_count": 1,
   "metadata": {
    "collapsed": false
   },
   "outputs": [],
   "source": [
    "import sys, collections\n",
    "from tf.fabric import Fabric"
   ]
  },
  {
   "cell_type": "code",
   "execution_count": 2,
   "metadata": {
    "collapsed": false
   },
   "outputs": [
    {
     "name": "stdout",
     "output_type": "stream",
     "text": [
      "This is Text-Fabric 1.2.5\n",
      "Api reference : https://github.com/ETCBC/text-fabric/wiki/Api\n",
      "Tutorial      : https://github.com/ETCBC/text-fabric/blob/master/docs/tutorial.ipynb\n",
      "Data sources  : https://github.com/ETCBC/text-fabric-data\n",
      "Data docs     : https://etcbc.github.io/text-fabric-data/features/hebrew/etcbc4c/0_overview.html\n",
      "Shebanq docs  : https://shebanq.ancient-data.org/text\n",
      "Slack team    : https://shebanq.slack.com/signup\n",
      "Questions? Ask shebanq@ancient-data.org for an invite to Slack\n",
      "105 features found and 0 ignored\n"
     ]
    }
   ],
   "source": [
    "ETCBC = 'hebrew/etcbc4c'\n",
    "TF = Fabric( modules=ETCBC )"
   ]
  },
  {
   "cell_type": "code",
   "execution_count": 18,
   "metadata": {
    "collapsed": false
   },
   "outputs": [
    {
     "name": "stdout",
     "output_type": "stream",
     "text": [
      "  0.00s loading features ...\n",
      "   |     0.00s M otext                from /Users/dirk/github/text-fabric-data/hebrew/etcbc4c\n",
      "  0.06s All features loaded/computed - for details use loadLog()\n"
     ]
    }
   ],
   "source": [
    "api = TF.load('''\n",
    "    lex \n",
    "    typ code function rela det\n",
    "    oslots\n",
    "''')\n",
    "api.makeAvailableIn(globals())"
   ]
  },
  {
   "cell_type": "markdown",
   "metadata": {},
   "source": [
    "# The MQL query\n",
    "\n",
    "Here is the basic query that selects two lexemes.\n",
    "\n",
    "    [word lex=\"JC/\" or lex=\">JN/\"]\n",
    "\n",
    "Let us retrieve the word nodes."
   ]
  },
  {
   "cell_type": "code",
   "execution_count": 6,
   "metadata": {
    "collapsed": false
   },
   "outputs": [
    {
     "name": "stdout",
     "output_type": "stream",
     "text": [
      "19m 26s Gathering occurrences of the lexeme set ...\n",
      "19m 27s Found 926 occurrences (788 of >JN/, 138 of JC/)\n"
     ]
    }
   ],
   "source": [
    "lexemes = { 'JC/', '>JN/'}\n",
    "nlex = collections.Counter()\n",
    "\n",
    "info('Gathering occurrences of the lexeme set ...')\n",
    "words = []\n",
    "for w in F.otype.s('word'):\n",
    "    lex = F.lex.v(w)\n",
    "    if lex in lexemes:\n",
    "        words.append(w)\n",
    "        nlex[lex] += 1\n",
    "info('Found {} occurrences ({})'.format(\n",
    "    len(words), \n",
    "    ', '.join('{} of {}'.format(n, l) for (l,n) in sorted(nlex.items())),\n",
    "))"
   ]
  },
  {
   "cell_type": "markdown",
   "metadata": {},
   "source": [
    "# Get context\n",
    "\n",
    "We want to retrieve these objects from the context, and in particular the feature(s)\n",
    "that is put between brackets after the object:\n",
    "\n",
    "    book (name)\n",
    "      chapter (number)\n",
    "        verse (number)\n",
    "          clause (typ)\n",
    "            clause_atom (code)\n",
    "              phrase (function)\n",
    "                phrase_atom (det)\n",
    "                  word (lex, text)"
   ]
  },
  {
   "cell_type": "code",
   "execution_count": 13,
   "metadata": {
    "collapsed": false
   },
   "outputs": [
    {
     "name": "stdout",
     "output_type": "stream",
     "text": [
      "Genesis 2 5 אַ֔יִן  772 ()\n"
     ]
    },
    {
     "ename": "IndexError",
     "evalue": "tuple index out of range",
     "output_type": "error",
     "traceback": [
      "\u001b[0;31m---------------------------------------------------------------------------\u001b[0m",
      "\u001b[0;31mIndexError\u001b[0m                                Traceback (most recent call last)",
      "\u001b[0;32m<ipython-input-13-f81a48aefb86>\u001b[0m in \u001b[0;36m<module>\u001b[0;34m()\u001b[0m\n\u001b[1;32m     11\u001b[0m         \u001b[0mF\u001b[0m\u001b[0;34m.\u001b[0m\u001b[0mtyp\u001b[0m\u001b[0;34m.\u001b[0m\u001b[0mv\u001b[0m\u001b[0;34m(\u001b[0m\u001b[0mL\u001b[0m\u001b[0;34m.\u001b[0m\u001b[0mu\u001b[0m\u001b[0;34m(\u001b[0m\u001b[0mw\u001b[0m\u001b[0;34m,\u001b[0m \u001b[0motype\u001b[0m\u001b[0;34m=\u001b[0m\u001b[0;34m'clause'\u001b[0m\u001b[0;34m)\u001b[0m\u001b[0;34m[\u001b[0m\u001b[0;36m0\u001b[0m\u001b[0;34m]\u001b[0m\u001b[0;34m)\u001b[0m\u001b[0;34m,\u001b[0m\u001b[0;34m\u001b[0m\u001b[0m\n\u001b[1;32m     12\u001b[0m         \u001b[0mF\u001b[0m\u001b[0;34m.\u001b[0m\u001b[0mcode\u001b[0m\u001b[0;34m.\u001b[0m\u001b[0mv\u001b[0m\u001b[0;34m(\u001b[0m\u001b[0mL\u001b[0m\u001b[0;34m.\u001b[0m\u001b[0mu\u001b[0m\u001b[0;34m(\u001b[0m\u001b[0mw\u001b[0m\u001b[0;34m,\u001b[0m \u001b[0motype\u001b[0m\u001b[0;34m=\u001b[0m\u001b[0;34m'clause_atom'\u001b[0m\u001b[0;34m)\u001b[0m\u001b[0;34m[\u001b[0m\u001b[0;36m0\u001b[0m\u001b[0;34m]\u001b[0m\u001b[0;34m)\u001b[0m\u001b[0;34m,\u001b[0m\u001b[0;34m\u001b[0m\u001b[0m\n\u001b[0;32m---> 13\u001b[0;31m         \u001b[0mF\u001b[0m\u001b[0;34m.\u001b[0m\u001b[0mfunction\u001b[0m\u001b[0;34m.\u001b[0m\u001b[0mv\u001b[0m\u001b[0;34m(\u001b[0m\u001b[0mL\u001b[0m\u001b[0;34m.\u001b[0m\u001b[0mu\u001b[0m\u001b[0;34m(\u001b[0m\u001b[0mw\u001b[0m\u001b[0;34m,\u001b[0m \u001b[0motype\u001b[0m\u001b[0;34m=\u001b[0m\u001b[0;34m'phrase'\u001b[0m\u001b[0;34m)\u001b[0m\u001b[0;34m[\u001b[0m\u001b[0;36m0\u001b[0m\u001b[0;34m]\u001b[0m\u001b[0;34m)\u001b[0m\u001b[0;34m,\u001b[0m\u001b[0;34m\u001b[0m\u001b[0m\n\u001b[0m\u001b[1;32m     14\u001b[0m         \u001b[0mF\u001b[0m\u001b[0;34m.\u001b[0m\u001b[0mdet\u001b[0m\u001b[0;34m.\u001b[0m\u001b[0mv\u001b[0m\u001b[0;34m(\u001b[0m\u001b[0mL\u001b[0m\u001b[0;34m.\u001b[0m\u001b[0mu\u001b[0m\u001b[0;34m(\u001b[0m\u001b[0mw\u001b[0m\u001b[0;34m,\u001b[0m \u001b[0motype\u001b[0m\u001b[0;34m=\u001b[0m\u001b[0;34m'phrase_atom'\u001b[0m\u001b[0;34m)\u001b[0m\u001b[0;34m[\u001b[0m\u001b[0;36m0\u001b[0m\u001b[0;34m]\u001b[0m\u001b[0;34m)\u001b[0m\u001b[0;34m,\u001b[0m\u001b[0;34m\u001b[0m\u001b[0m\n\u001b[1;32m     15\u001b[0m         \u001b[0mF\u001b[0m\u001b[0;34m.\u001b[0m\u001b[0mlex\u001b[0m\u001b[0;34m.\u001b[0m\u001b[0mv\u001b[0m\u001b[0;34m(\u001b[0m\u001b[0mw\u001b[0m\u001b[0;34m)\u001b[0m\u001b[0;34m,\u001b[0m\u001b[0;34m\u001b[0m\u001b[0m\n",
      "\u001b[0;31mIndexError\u001b[0m: tuple index out of range"
     ]
    }
   ],
   "source": [
    "results = []\n",
    "\n",
    "for w in words:\n",
    "    (book, chapter, verse) = T.sectionFromNode(w)\n",
    "    text = T.text([w])\n",
    "    print(book, chapter, verse, text, w, L.u(w, 'phrase'))\n",
    "    results.append((\n",
    "        book,\n",
    "        chapter,\n",
    "        verse,\n",
    "        F.typ.v(L.u(w, otype='clause')[0]),\n",
    "        F.code.v(L.u(w, otype='clause_atom')[0]),\n",
    "        F.function.v(L.u(w, otype='phrase')[0]),\n",
    "        F.det.v(L.u(w, otype='phrase_atom')[0]),\n",
    "        F.lex.v(w),\n",
    "        text,\n",
    "    ))\n",
    "\n",
    "#for result in results[0:10]:\n",
    "#    print(', '.join(*result))"
   ]
  },
  {
   "cell_type": "code",
   "execution_count": 15,
   "metadata": {
    "collapsed": false
   },
   "outputs": [
    {
     "name": "stdout",
     "output_type": "stream",
     "text": [
      "858771 phrase_atom\n",
      "1437014 lex\n",
      "514736 clause_atom\n",
      "426728 clause\n",
      "1189505 sentence_atom\n",
      "1125934 sentence\n",
      "1368569 half_verse\n",
      "1413717 verse\n",
      "1367574 chapter\n",
      "1367534 book\n"
     ]
    }
   ],
   "source": [
    "x = L.u(772)\n",
    "for y in x:\n",
    "    print(y, F.otype.v(y))"
   ]
  },
  {
   "cell_type": "code",
   "execution_count": 16,
   "metadata": {
    "collapsed": false
   },
   "outputs": [
    {
     "name": "stdout",
     "output_type": "stream",
     "text": [
      "1437014 lex\n",
      "514736 clause_atom\n",
      "426728 clause\n",
      "1189505 sentence_atom\n",
      "1125934 sentence\n",
      "1368569 half_verse\n",
      "1413717 verse\n",
      "1367574 chapter\n",
      "1367534 book\n"
     ]
    }
   ],
   "source": [
    "x = L.u(858771)\n",
    "for y in x:\n",
    "    print(y, F.otype.v(y))"
   ]
  },
  {
   "cell_type": "code",
   "execution_count": 21,
   "metadata": {
    "collapsed": false
   },
   "outputs": [
    {
     "data": {
      "text/plain": [
       "(772,)"
      ]
     },
     "execution_count": 21,
     "metadata": {},
     "output_type": "execute_result"
    }
   ],
   "source": [
    "E.oslots.s(858771)"
   ]
  },
  {
   "cell_type": "code",
   "execution_count": 22,
   "metadata": {
    "collapsed": false
   },
   "outputs": [
    {
     "data": {
      "text/plain": [
       "(770, 771, 772)"
      ]
     },
     "execution_count": 22,
     "metadata": {},
     "output_type": "execute_result"
    }
   ],
   "source": [
    "E.oslots.s(514736)"
   ]
  },
  {
   "cell_type": "code",
   "execution_count": 24,
   "metadata": {
    "collapsed": false
   },
   "outputs": [
    {
     "data": {
      "text/plain": [
       "(605576, 605577, 605578)"
      ]
     },
     "execution_count": 24,
     "metadata": {},
     "output_type": "execute_result"
    }
   ],
   "source": [
    "L.d(514736, otype='phrase')"
   ]
  },
  {
   "cell_type": "code",
   "execution_count": 25,
   "metadata": {
    "collapsed": false
   },
   "outputs": [
    {
     "name": "stdout",
     "output_type": "stream",
     "text": [
      "605576 (770,)\n",
      "605577 (771,)\n",
      "605578 (772,)\n"
     ]
    }
   ],
   "source": [
    "for p in L.d(514736, otype='phrase'):\n",
    "    print(p, E.oslots.s(p))"
   ]
  },
  {
   "cell_type": "code",
   "execution_count": 28,
   "metadata": {
    "collapsed": false
   },
   "outputs": [
    {
     "name": "stdout",
     "output_type": "stream",
     "text": [
      "(605144,)\n",
      "(605144,)\n",
      "()\n",
      "()\n",
      "(605147,)\n",
      "(605147,)\n",
      "(605147,)\n",
      "(605147,)\n",
      "(605147,)\n",
      "(605147,)\n",
      "(605147,)\n"
     ]
    }
   ],
   "source": [
    "for w in range(1,12):\n",
    " print(L.u(w, otype='phrase'))"
   ]
  },
  {
   "cell_type": "code",
   "execution_count": 34,
   "metadata": {
    "collapsed": false
   },
   "outputs": [
    {
     "name": "stdout",
     "output_type": "stream",
     "text": [
      "605144 (1, 2)\n",
      "605145 (3,)\n",
      "605146 (4,)\n",
      "605147 (5, 6, 7, 8, 9, 10, 11)\n"
     ]
    }
   ],
   "source": [
    "x = (L.d(L.u(1, 'clause_atom')[0], otype='phrase'))\n",
    "for y in x:\n",
    "    print(y, E.oslots.s(y))"
   ]
  },
  {
   "cell_type": "code",
   "execution_count": 32,
   "metadata": {
    "collapsed": false
   },
   "outputs": [
    {
     "data": {
      "text/plain": [
       "426581"
      ]
     },
     "execution_count": 32,
     "metadata": {},
     "output_type": "execute_result"
    }
   ],
   "source": [
    "F.otype.maxSlot"
   ]
  },
  {
   "cell_type": "code",
   "execution_count": 40,
   "metadata": {
    "collapsed": false
   },
   "outputs": [
    {
     "data": {
      "text/plain": [
       "(1436896,\n",
       " 605144,\n",
       " 858318,\n",
       " 1368502,\n",
       " 514582,\n",
       " 426582,\n",
       " 1413682,\n",
       " 1189403,\n",
       " 1125833,\n",
       " 1367573,\n",
       " 1367534)"
      ]
     },
     "execution_count": 40,
     "metadata": {},
     "output_type": "execute_result"
    }
   ],
   "source": [
    "api.C.levUp.data[1]"
   ]
  },
  {
   "cell_type": "code",
   "execution_count": 46,
   "metadata": {
    "collapsed": false
   },
   "outputs": [
    {
     "data": {
      "text/plain": [
       "16"
      ]
     },
     "execution_count": 46,
     "metadata": {},
     "output_type": "execute_result"
    }
   ],
   "source": [
    "api.C.rank.data[2]"
   ]
  },
  {
   "cell_type": "code",
   "execution_count": 47,
   "metadata": {
    "collapsed": false
   },
   "outputs": [
    {
     "name": "stdout",
     "output_type": "stream",
     "text": [
      "1367534 book\n",
      "1367573 chapter\n",
      "1125833 sentence\n",
      "1189403 sentence_atom\n",
      "1413682 verse\n",
      "426582 clause\n",
      "514582 clause_atom\n",
      "1368502 half_verse\n",
      "858318 phrase_atom\n",
      "605144 phrase\n",
      "1436895 lex\n",
      "1 word\n",
      "1436896 lex\n",
      "2 word\n",
      "1436897 lex\n",
      "858319 phrase_atom\n",
      "3 word\n",
      "605145 phrase\n",
      "1436898 lex\n",
      "858320 phrase_atom\n",
      "4 word\n",
      "605146 phrase\n",
      "858321 phrase_atom\n",
      "1368503 half_verse\n",
      "605147 phrase\n",
      "1253742 subphrase\n",
      "1436899 lex\n",
      "5 word\n",
      "1436900 lex\n",
      "6 word\n",
      "1436901 lex\n"
     ]
    }
   ],
   "source": [
    "i = 0\n",
    "for n in N():\n",
    "    i += 1\n",
    "    print(n, F.otype.v(n))\n",
    "    if i > 30: break"
   ]
  },
  {
   "cell_type": "code",
   "execution_count": 49,
   "metadata": {
    "collapsed": false
   },
   "outputs": [
    {
     "data": {
      "text/plain": [
       "(('book', 10937.97435897436, 1367534, 1367572),\n",
       " ('chapter', 459.1829924650161, 1367573, 1368501),\n",
       " ('lex', 46.18676916414032, 1436895, 1446130),\n",
       " ('verse', 18.376814715891957, 1413682, 1436894),\n",
       " ('half_verse', 9.441810535635236, 1368502, 1413681),\n",
       " ('sentence', 6.710413717162184, 1125833, 1189402),\n",
       " ('sentence_atom', 6.6302087380904275, 1189403, 1253741),\n",
       " ('clause', 4.847511363636364, 426582, 514581),\n",
       " ('clause_atom', 4.71037521256156, 514582, 605143),\n",
       " ('phrase', 1.6849321020325942, 605144, 858317),\n",
       " ('phrase_atom', 1.5946059099489749, 858318, 1125832),\n",
       " ('subphrase', 1.4241071428571428, 1253742, 1367533),\n",
       " ('word', 1, 1, 426581))"
      ]
     },
     "execution_count": 49,
     "metadata": {},
     "output_type": "execute_result"
    }
   ],
   "source": [
    "api.C.levels.data"
   ]
  },
  {
   "cell_type": "code",
   "execution_count": 51,
   "metadata": {
    "collapsed": true
   },
   "outputs": [],
   "source": [
    "fs = F.otype.s('sentence')[0]\n",
    "fv = F.otype.s('verse')[0]"
   ]
  },
  {
   "cell_type": "code",
   "execution_count": 52,
   "metadata": {
    "collapsed": false
   },
   "outputs": [
    {
     "name": "stdout",
     "output_type": "stream",
     "text": [
      "1125833 1413682\n"
     ]
    }
   ],
   "source": [
    "print(fs, fv)"
   ]
  },
  {
   "cell_type": "code",
   "execution_count": 53,
   "metadata": {
    "collapsed": false
   },
   "outputs": [
    {
     "name": "stdout",
     "output_type": "stream",
     "text": [
      "[1125833, 1413682]\n"
     ]
    }
   ],
   "source": [
    "print(sortNodes([fs, fv]))"
   ]
  },
  {
   "cell_type": "code",
   "execution_count": 61,
   "metadata": {
    "collapsed": true
   },
   "outputs": [],
   "source": [
    "maxSlot = F.otype.maxSlot\n",
    "oslots = E.oslots.data\n",
    "levels = api.C.levels.data\n",
    "otype = F.otype.data\n",
    "otypeLevels = dict(((x[0], i) for (i, x) in enumerate(levels)))\n",
    "otypeRank = lambda n: otypeLevels[slotType if n < maxSlot+1 else otype[n-maxSlot-1]]\n",
    "\n",
    "def before(na,nb):\n",
    "    if na < maxSlot + 1:\n",
    "        a = na\n",
    "        sa = {a}\n",
    "    else:\n",
    "        a = na - maxSlot\n",
    "        sa = set(oslots[a-1])\n",
    "    if nb < maxSlot + 1:\n",
    "        b = nb\n",
    "        sb = {b}\n",
    "    else:\n",
    "        b = nb - maxSlot\n",
    "        sb = set(oslots[b-1])\n",
    "    oa = otypeRank(na)\n",
    "    ob = otypeRank(nb)\n",
    "    print(na, a, sa, oa)\n",
    "    print(nb, b, sb, ob)\n",
    "    if sa == sb: return 0 if oa == ob else -1 if oa < ob else 1\n",
    "    if sa > sb: return -1\n",
    "    if sa < sb: return 1\n",
    "    am = min(sa - sb)\n",
    "    bm = min(sb - sa)\n",
    "    return -1 if am < bm else 1 if bm < am else None\n"
   ]
  },
  {
   "cell_type": "code",
   "execution_count": 62,
   "metadata": {
    "collapsed": false
   },
   "outputs": [
    {
     "name": "stdout",
     "output_type": "stream",
     "text": [
      "1125833 699252 {1, 2, 3, 4, 5, 6, 7, 8, 9, 10, 11} 5\n",
      "1413682 987101 {1, 2, 3, 4, 5, 6, 7, 8, 9, 10, 11} 3\n"
     ]
    },
    {
     "data": {
      "text/plain": [
       "1"
      ]
     },
     "execution_count": 62,
     "metadata": {},
     "output_type": "execute_result"
    }
   ],
   "source": [
    "before(fs, fv)"
   ]
  },
  {
   "cell_type": "code",
   "execution_count": null,
   "metadata": {
    "collapsed": true
   },
   "outputs": [],
   "source": []
  }
 ],
 "metadata": {
  "kernelspec": {
   "display_name": "Python 3",
   "language": "python",
   "name": "python3"
  },
  "language_info": {
   "codemirror_mode": {
    "name": "ipython",
    "version": 3
   },
   "file_extension": ".py",
   "mimetype": "text/x-python",
   "name": "python",
   "nbconvert_exporter": "python",
   "pygments_lexer": "ipython3",
   "version": "3.5.2"
  }
 },
 "nbformat": 4,
 "nbformat_minor": 0
}
