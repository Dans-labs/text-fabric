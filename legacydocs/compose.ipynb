{
 "cells": [
  {
   "cell_type": "markdown",
   "metadata": {},
   "source": [
    "# Read the complete CONTEXT.tsv file.\n",
    "\n",
    "Deliver the info as a dictionary, keyed by node (as an integer) and valued as a dictionary of feature-value pairs."
   ]
  },
  {
   "cell_type": "code",
   "execution_count": 1,
   "metadata": {},
   "outputs": [],
   "source": [
    "def readContext():\n",
    "  data = {}\n",
    "  with open('CONTEXT.tsv', encoding='utf8') as cf:\n",
    "    isHead = True\n",
    "    for line in cf:\n",
    "      line = line.rstrip('\\n')\n",
    "      parts = line.split('\\t')\n",
    "      if isHead:\n",
    "        isHead = False\n",
    "        features = parts[1:]\n",
    "      else:\n",
    "        node = int(parts[0])\n",
    "        values = parts[1:]\n",
    "        data[node] = {feature: value for (feature, value) in zip(features, values)}\n",
    "  return data"
   ]
  },
  {
   "cell_type": "markdown",
   "metadata": {},
   "source": [
    "# Read the complete results file.\n",
    "\n",
    "Deliver the result as a big tuple of results, where each result is itself a tuple of nodes (integers)."
   ]
  },
  {
   "cell_type": "code",
   "execution_count": 2,
   "metadata": {},
   "outputs": [],
   "source": [
    "def readResults():\n",
    "  results = []\n",
    "  with open('results.tsv', encoding='utf8') as cf:\n",
    "    for line in cf:\n",
    "      results.append(tuple(int(n) for n in line.rstrip('\\n').split('\\t')))\n",
    "  return tuple(results)"
   ]
  },
  {
   "cell_type": "markdown",
   "metadata": {},
   "source": [
    "# Templates\n",
    "\n",
    "For each relevant node type, make a template according to how you want to represent a node of that type.\n",
    "Use feature names within `{ }` to draw in the relevant node info.\n",
    "\n",
    "Here we assume the results have only book, chapter, verse and word nodes."
   ]
  },
  {
   "cell_type": "code",
   "execution_count": 3,
   "metadata": {},
   "outputs": [],
   "source": [
    "nodeTemplate = dict(\n",
    "  book='{book}',\n",
    "  chapter='{book} {chapter}',\n",
    "  verse='{book} {chapter}:{verse}',\n",
    "  word='{g_word_utf8}{trailer_utf8} ({pdp})'\n",
    ")"
   ]
  },
  {
   "cell_type": "markdown",
   "metadata": {},
   "source": [
    "# Represent\n",
    "\n",
    "Later, when a node has to be represented, its node type will be looked up.\n",
    "On the basis of the node type, a template will be looked up.\n",
    "\n",
    "Then this template will be formatted by supplying all feature information of that node."
   ]
  },
  {
   "cell_type": "code",
   "execution_count": 4,
   "metadata": {},
   "outputs": [],
   "source": [
    "def resultToStr(context, nodes):\n",
    "  result = []\n",
    "  for node in nodes:\n",
    "    nodeInfo = context.get(node, {})\n",
    "    otype = nodeInfo.get('otype', None)\n",
    "    template = nodeTemplate.get(otype, None)\n",
    "    result.append(str(node) if template is None else template.format(**nodeInfo))\n",
    "  return ' '.join(result)"
   ]
  },
  {
   "cell_type": "markdown",
   "metadata": {},
   "source": [
    "# Do it\n",
    "\n",
    "First we grab the context and the results."
   ]
  },
  {
   "cell_type": "code",
   "execution_count": 5,
   "metadata": {},
   "outputs": [],
   "source": [
    "context = readContext()\n",
    "results = readResults()"
   ]
  },
  {
   "cell_type": "markdown",
   "metadata": {},
   "source": [
    "And then we print all results:"
   ]
  },
  {
   "cell_type": "code",
   "execution_count": 6,
   "metadata": {},
   "outputs": [
    {
     "name": "stdout",
     "output_type": "stream",
     "text": [
      "Samuel_I 1 453942 אֶפְרָ֑יִם  (nmpr)\n",
      "Samuel_I 1 453943 אֶ֠לְקָנָה  (nmpr)\n",
      "Samuel_I 1 453943 יְרֹחָ֧ם  (nmpr)\n",
      "Samuel_I 1 453943 אֱלִיה֛וּא  (nmpr)\n",
      "Samuel_I 1 453943 תֹּ֥חוּ  (nmpr)\n",
      "Samuel_I 1 453943 צ֖וּף  (nmpr)\n",
      "Samuel_I 1 453945 חַנָּ֔ה  (nmpr)\n",
      "Samuel_I 1 453946 פְּנִנָּ֑ה  (nmpr)\n",
      "Samuel_I 1 453948 פְנִנָּה֙  (nmpr)\n",
      "Samuel_I 1 453949 חַנָּ֖ה  (nmpr)\n",
      "Samuel_I 1 453952 יהוָ֥ה  (nmpr)\n",
      "Samuel_I 1 453952 שִׁלֹ֑ה  (nmpr)\n",
      "Samuel_I 1 453953 עֵלִ֗י  (nmpr)\n",
      "Samuel_I 1 453953 חָפְנִי֙  (nmpr)\n",
      "Samuel_I 1 453953 פִ֣נְחָ֔ס  (nmpr)\n",
      "Samuel_I 1 453953 יהוָֽה׃  (nmpr)\n",
      "Samuel_I 1 453955 אֶלְקָנָ֑ה  (nmpr)\n",
      "Samuel_I 1 453956 פְנִנָּ֣ה  (nmpr)\n",
      "Samuel_I 1 453957 חַנָּ֕ה  (nmpr)\n",
      "Samuel_I 1 453958 חַנָּה֙  (nmpr)\n",
      "Samuel_I 1 453959 יהוָ֖ה  (nmpr)\n",
      "Samuel_I 1 453962 יְהוָ֖ה  (nmpr)\n",
      "Samuel_I 1 453964 יְהוָ֔ה  (nmpr)\n",
      "Samuel_I 1 453968 אֶלְקָנָ֣ה  (nmpr)\n",
      "Samuel_I 1 453969 חַנָּה֙  (nmpr)\n",
      "Samuel_I 1 453974 חַנָּ֔ה  (nmpr)\n",
      "Samuel_I 1 453975 שִׁלֹ֖ה  (nmpr)\n",
      "Samuel_I 1 453977 עֵלִ֣י  (nmpr)\n",
      "Samuel_I 1 453977 יְהוָֽה׃  (nmpr)\n",
      "Samuel_I 1 453979 יְהוָ֖ה  (nmpr)\n",
      "Samuel_I 1 453983 יְהוָ֨ה  (nmpr)\n",
      "Samuel_I 1 453988 יהוָה֙  (nmpr)\n",
      "Samuel_I 1 453992 יְהוָ֑ה  (nmpr)\n",
      "Samuel_I 1 453993 עֵלִ֖י  (nmpr)\n",
      "Samuel_I 1 453994 חַנָּ֗ה  (nmpr)\n",
      "Samuel_I 1 453998 עֵלִ֖י  (nmpr)\n",
      "Samuel_I 1 453999 עֵלִ֔י  (nmpr)\n",
      "Samuel_I 1 454002 חַנָּ֤ה  (nmpr)\n",
      "Samuel_I 1 454008 יְהוָֽה׃  (nmpr)\n",
      "Samuel_I 1 454011 עֵלִ֛י  (nmpr)\n",
      "Samuel_I 1 454014 יִשְׂרָאֵ֗ל  (nmpr)\n",
      "Samuel_I 1 454022 יְהוָ֔ה  (nmpr)\n",
      "Samuel_I 1 454024 רָמָ֑תָה  (nmpr)\n",
      "Samuel_I 1 454025 אֶלְקָנָה֙  (nmpr)\n",
      "Samuel_I 1 454025 חַנָּ֣ה  (nmpr)\n",
      "Samuel_I 1 454026 יְהוָֽה׃  (nmpr)\n",
      "Samuel_I 1 454028 חַנָּ֖ה  (nmpr)\n",
      "Samuel_I 1 454030 שְׁמוּאֵ֔ל  (nmpr)\n",
      "Samuel_I 1 454031 יְהוָ֖ה  (nmpr)\n",
      "Samuel_I 1 454032 אֶלְקָנָ֖ה  (nmpr)\n",
      "Samuel_I 1 454033 יהוָ֛ה  (nmpr)\n",
      "Samuel_I 1 454034 חַנָּ֖ה  (nmpr)\n",
      "Samuel_I 1 454038 יְהוָ֔ה  (nmpr)\n",
      "Samuel_I 1 454040 אֶלְקָנָ֨ה  (nmpr)\n",
      "Samuel_I 1 454045 יְהוָ֖ה  (nmpr)\n",
      "Samuel_I 1 454051 יְהוָ֖ה  (nmpr)\n",
      "Samuel_I 1 454051 שִׁלֹ֑ו  (nmpr)\n",
      "Samuel_I 1 454054 עֵלִֽי׃  (nmpr)\n",
      "Samuel_I 1 454061 יְהוָֽה׃  (nmpr)\n",
      "Samuel_I 1 454063 יְהוָ֥ה  (nmpr)\n",
      "Samuel_I 1 454065 יהוָ֔ה  (nmpr)\n",
      "Samuel_I 1 454066 יהוָ֑ה  (nmpr)\n",
      "Samuel_I 1 454067 יהוָֽה׃ פ  (nmpr)\n"
     ]
    }
   ],
   "source": [
    "for result in results:\n",
    "  print(resultToStr(context, result))"
   ]
  },
  {
   "cell_type": "code",
   "execution_count": null,
   "metadata": {},
   "outputs": [],
   "source": []
  }
 ],
 "metadata": {
  "kernelspec": {
   "display_name": "Python 3",
   "language": "python",
   "name": "python3"
  },
  "language_info": {
   "codemirror_mode": {
    "name": "ipython",
    "version": 3
   },
   "file_extension": ".py",
   "mimetype": "text/x-python",
   "name": "python",
   "nbconvert_exporter": "python",
   "pygments_lexer": "ipython3",
   "version": "3.7.0"
  }
 },
 "nbformat": 4,
 "nbformat_minor": 2
}
