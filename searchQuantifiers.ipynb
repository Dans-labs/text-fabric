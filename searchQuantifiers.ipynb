{
 "cells": [
  {
   "cell_type": "markdown",
   "metadata": {},
   "source": [
    "<img align=\"right\" src=\"images/dans-small.png\"/>\n",
    "<img align=\"right\" src=\"images/tf-small.png\"/>\n",
    "<img align=\"right\" src=\"images/etcbc.png\"/>\n",
    "\n",
    "You might want to consider the [start](search.ipynb) of this tutorial."
   ]
  },
  {
   "cell_type": "code",
   "execution_count": 1,
   "metadata": {},
   "outputs": [],
   "source": [
    "%load_ext autoreload\n",
    "%autoreload 2"
   ]
  },
  {
   "cell_type": "code",
   "execution_count": 3,
   "metadata": {
    "ExecuteTime": {
     "end_time": "2018-05-24T10:06:39.818664Z",
     "start_time": "2018-05-24T10:06:39.796588Z"
    }
   },
   "outputs": [],
   "source": [
    "from tf.fabric import Fabric\n",
    "from tf.extra.bhsa import Bhsa"
   ]
  },
  {
   "cell_type": "code",
   "execution_count": 4,
   "metadata": {
    "ExecuteTime": {
     "end_time": "2018-05-24T10:06:41.254515Z",
     "start_time": "2018-05-24T10:06:41.238046Z"
    }
   },
   "outputs": [],
   "source": [
    "VERSION = '2017'\n",
    "DATABASE = '~/github/etcbc'\n",
    "BHSA = f'bhsa/tf/{VERSION}'\n",
    "PARA = f'parallels/tf/{VERSION}'\n",
    "TF = Fabric(locations=[DATABASE], modules=[BHSA, PARA], silent=True )"
   ]
  },
  {
   "cell_type": "code",
   "execution_count": 5,
   "metadata": {
    "ExecuteTime": {
     "end_time": "2018-05-24T10:06:48.865143Z",
     "start_time": "2018-05-24T10:06:44.712958Z"
    }
   },
   "outputs": [
    {
     "data": {
      "text/markdown": [
       "**Documentation:** <a target=\"_blank\" href=\"https://etcbc.github.io/bhsa\" title=\"{provenance of this corpus}\">BHSA</a> <a target=\"_blank\" href=\"https://etcbc.github.io/bhsa/features/hebrew/2017/0_home.html\" title=\"{CORPUS} feature documentation\">Feature docs</a> <a target=\"_blank\" href=\"https://dans-labs.github.io/text-fabric/Api/Bhsa/\" title=\"BHSA API documentation\">BHSA API</a> <a target=\"_blank\" href=\"https://dans-labs.github.io/text-fabric/Api/General/\" title=\"text-fabric-api\">Text-Fabric API 4.2.0</a> <a target=\"_blank\" href=\"https://dans-labs.github.io/text-fabric/Api/General/#search-templates\" title=\"Search Templates Introduction and Reference\">Search Reference</a>"
      ],
      "text/plain": [
       "<IPython.core.display.Markdown object>"
      ]
     },
     "metadata": {},
     "output_type": "display_data"
    },
    {
     "data": {
      "text/markdown": [
       "\n",
       "This notebook online:\n",
       "<a target=\"_blank\" href=\"http://nbviewer.jupyter.org/github/Dans-labs/text-fabric/blob/master/search.ipynb\">NBViewer</a>\n",
       "<a target=\"_blank\" href=\"https://github.com/Dans-labs/text-fabric/blob/master/search.ipynb\">GitHub</a>\n"
      ],
      "text/plain": [
       "<IPython.core.display.Markdown object>"
      ]
     },
     "metadata": {},
     "output_type": "display_data"
    },
    {
     "data": {
      "text/html": [
       "\n",
       "<style>\n",
       ".verse {\n",
       "    display: flex;\n",
       "    flex-flow: row wrap;\n",
       "    direction: rtl;\n",
       "}\n",
       ".vl {\n",
       "    display: flex;\n",
       "    flex-flow: column nowrap;\n",
       "    direction: ltr;\n",
       "}\n",
       ".sentence,.clause,.phrase {\n",
       "    margin-top: -1.2em;\n",
       "    margin-left: 1em;\n",
       "    background: #ffffff none repeat scroll 0 0;\n",
       "    padding: 0 0.3em;\n",
       "    border-style: solid;\n",
       "    border-radius: 0.2em;\n",
       "    font-size: small;\n",
       "    display: block;\n",
       "    width: fit-content;\n",
       "    max-width: fit-content;\n",
       "    direction: ltr;\n",
       "}\n",
       ".atoms {\n",
       "    display: flex;\n",
       "    flex-flow: row wrap;\n",
       "    margin: 0.3em;\n",
       "    padding: 0.3em;\n",
       "    direction: rtl;\n",
       "    background-color: #ffffff;\n",
       "}\n",
       ".satom,.catom,.patom {\n",
       "    margin: 0.3em;\n",
       "    padding: 0.3em;\n",
       "    border-radius: 0.3em;\n",
       "    border-style: solid;\n",
       "    display: flex;\n",
       "    flex-flow: column nowrap;\n",
       "    direction: rtl;\n",
       "    background-color: #ffffff;\n",
       "}\n",
       ".sentence {\n",
       "    border-color: #aa3333;\n",
       "    border-width: 1px;\n",
       "}\n",
       ".clause {\n",
       "    border-color: #aaaa33;\n",
       "    border-width: 1px;\n",
       "}\n",
       ".phrase {\n",
       "    border-color: #33aaaa;\n",
       "    border-width: 1px;\n",
       "}\n",
       ".satom {\n",
       "    border-color: #aa3333;\n",
       "    border-width: 4px;\n",
       "}\n",
       ".catom {\n",
       "    border-color: #aaaa33;\n",
       "    border-width: 3px;\n",
       "}\n",
       ".patom {\n",
       "    border-color: #33aaaa;\n",
       "    border-width: 3px;\n",
       "}\n",
       ".word {\n",
       "    padding: 0.1em;\n",
       "    margin: 0.1em;\n",
       "    border-radius: 0.1em;\n",
       "    border: 1px solid #cccccc;\n",
       "    display: flex;\n",
       "    flex-flow: column nowrap;\n",
       "    direction: rtl;\n",
       "    background-color: #ffffff;\n",
       "}\n",
       ".lex {\n",
       "    padding: 0.1em;\n",
       "    margin: 0.1em;\n",
       "    border-radius: 0.1em;\n",
       "    border: 2px solid #888888;\n",
       "    width: fit-content;\n",
       "    display: flex;\n",
       "    flex-flow: column nowrap;\n",
       "    direction: rtl;\n",
       "    background-color: #ffffff;\n",
       "}\n",
       ".satom.l,.catom.l,.patom.l {\n",
       "    border-left-style: dotted\n",
       "}\n",
       ".satom.r,.catom.r,.patom.r {\n",
       "    border-right-style: dotted\n",
       "}\n",
       ".satom.L,.catom.L,.patom.L {\n",
       "    border-left-style: none\n",
       "}\n",
       ".satom.R,.catom.R,.patom.R {\n",
       "    border-right-style: none\n",
       "}\n",
       ".h,.h :visited,.h :link {\n",
       "    font-family: \"Ezra SIL\", \"SBL Hebrew\", sans-serif;\n",
       "    font-size: large;\n",
       "    color: #000044;\n",
       "    direction: rtl;\n",
       "    text-decoration: none;\n",
       "}\n",
       ".rela,.function,.typ {\n",
       "    font-family: monospace;\n",
       "    font-size: small;\n",
       "    color: #0000bb;\n",
       "}\n",
       ".sp,.sp :visited,.sp :link {\n",
       "    font-family: monospace;\n",
       "    font-size: medium;\n",
       "    color: #0000bb;\n",
       "    text-decoration: none;\n",
       "}\n",
       ".vl {\n",
       "    font-family: monospace;\n",
       "    font-size: medium;\n",
       "    color: #0000bb;\n",
       "}\n",
       ".vvs {\n",
       "    font-family: monospace;\n",
       "    font-size: medium;\n",
       "    font-weight: bold;\n",
       "    color: #0000bb;\n",
       "}\n",
       ".vvt {\n",
       "    font-family: monospace;\n",
       "    font-size: medium;\n",
       "    color: #0000bb;\n",
       "}\n",
       ".gl {\n",
       "    font-family: sans-serif;\n",
       "    font-size: small;\n",
       "    color: #aaaaaa;\n",
       "}\n",
       ".vs {\n",
       "    font-family: sans-serif;\n",
       "    font-size: small;\n",
       "    font-weight: bold;\n",
       "    color: #444444;\n",
       "}\n",
       ".nd {\n",
       "    font-family: monospace;\n",
       "    font-size: x-small;\n",
       "    color: #999999;\n",
       "}\n",
       ".feat {\n",
       "    font-family: monospace;\n",
       "    font-size: medium;\n",
       "    font-weight: bold;\n",
       "    color: #0a6611;\n",
       "}\n",
       ".feat .f {\n",
       "    font-family: sans-serif;\n",
       "    font-size: x-small;\n",
       "    color: #5555bb;\n",
       "}\n",
       ".hl {\n",
       "    background-color: #ffee66;\n",
       "}\n",
       "</style>\n"
      ],
      "text/plain": [
       "<IPython.core.display.HTML object>"
      ]
     },
     "metadata": {},
     "output_type": "display_data"
    }
   ],
   "source": [
    "api = TF.load('', silent=True)\n",
    "api.makeAvailableIn(globals())\n",
    "B = Bhsa(api, 'search', version=VERSION)"
   ]
  },
  {
   "cell_type": "code",
   "execution_count": 18,
   "metadata": {},
   "outputs": [],
   "source": [
    "query = '''\n",
    "lex\n",
    "  all:\n",
    "    w:word\n",
    "  have:\n",
    "    b:book book@en=Ezra|Nehemia\n",
    "    w ]] b\n",
    "'''"
   ]
  },
  {
   "cell_type": "code",
   "execution_count": 31,
   "metadata": {},
   "outputs": [],
   "source": [
    "query = '''\n",
    "clause\n",
    "  all:\n",
    "    phrase\n",
    "  have:\n",
    "    no:\n",
    "      word sp=verb\n",
    "  phrase function=Subj\n",
    "    word sp=subs\n",
    "  no:\n",
    "    phrase function=Pred\n",
    "'''"
   ]
  },
  {
   "cell_type": "code",
   "execution_count": 32,
   "metadata": {},
   "outputs": [
    {
     "name": "stdout",
     "output_type": "stream",
     "text": [
      "   |     0.00s Feature overview: 109 for nodes; 8 for edges; 1 configs; 7 computed\n",
      "  0.00s Checking search template ...\n",
      "curQu=None lineQu=None nnn=True nqs=None qpp=None qpc=None qps=None qpe=None: clause\n",
      "curQu=None lineQu=all nnn=False nqs=all qpp=None qpc=None qps=None qpe=None:   all:\n",
      "curQu=all lineQu=None nnn=False nqs=False qpp=True qpc=None qps=None qpe=False:     phrase\n",
      "curQu=all lineQu=have nnn=False nqs=False qpp=False qpc=True qps=False qpe=False:   have:\n",
      "curQu=all lineQu=no nnn=False nqs=False qpp=True qpc=False qps=False qpe=False:     no:\n",
      "curQu=all lineQu=None nnn=False nqs=False qpp=True qpc=None qps=None qpe=False:       word sp=verb\n",
      "curQu=all lineQu=None nnn=False nqs=False qpp=False qpc=None qps=None qpe=True:   phrase function=Subj\n",
      "curQu=None lineQu=None nnn=True nqs=None qpp=None qpc=None qps=None qpe=None:     word sp=subs\n",
      "curQu=None lineQu=no nnn=False nqs=no qpp=None qpc=None qps=None qpe=None:   no:\n",
      "curQu=no lineQu=None nnn=False nqs=False qpp=True qpc=None qps=None qpe=False:     phrase function=Pred\n",
      "  0.00s Setting up search space for 2 objects ...\n",
      "  0.72s Constraining search space with 1 relations ...\n",
      "  0.72s Setting up retrieval plan ...\n",
      "  0.73s Ready to deliver results from 209584 nodes\n",
      "Iterate over S.fetch() to get the results\n",
      "See S.showPlan() to interpret the results\n"
     ]
    },
    {
     "data": {
      "text/plain": [
       "[(1, 'atom', 0, None, '', 'clause', {}),\n",
       " (2, 'quant', 2, 'all', [['phrase', 'no:', '  word sp=verb']]),\n",
       " (8, 'atom', 4, None, '', 'word', {'sp': frozenset({'subs'})}),\n",
       " (9, 'quant', 2, 'no', [['phrase function=Pred']])]"
      ]
     },
     "execution_count": 32,
     "metadata": {},
     "output_type": "execute_result"
    }
   ],
   "source": [
    "S.study(query)\n",
    "S.exe.tokens"
   ]
  },
  {
   "cell_type": "code",
   "execution_count": null,
   "metadata": {},
   "outputs": [],
   "source": []
  },
  {
   "cell_type": "markdown",
   "metadata": {},
   "source": [
    "# Quantifiers\n",
    "\n",
    "Quantifiers are a different kind of conditions in templates.\n",
    "\n",
    "They state conditions on what can happen within the space that a node occupies.\n",
    "Their requirements have the shape of a quantifier: \n",
    "\n",
    "```\n",
    "node-or-set\n",
    "  all:\n",
    "    templateA\n",
    "  have\n",
    "    templateS\n",
    "```\n",
    "\n",
    "```\n",
    "node-or-set\n",
    "  no:\n",
    "    templateN\n",
    "```\n",
    "\n",
    "```\n",
    "node-or-set\n",
    "  either:\n",
    "    templateO1\n",
    "  or:\n",
    "    templateO2\n",
    "  or:\n",
    "    templateO3\n",
    "```\n",
    "\n",
    "Whereas normal a normal template is found by finding a tuple that instantiates all it nodes\n",
    "in such a way that all relationships expressed in the template hold, a quantifier template\n",
    "is not instantiated. It asserts a condition that holds for all nodes embedded in the parent.\n",
    "\n",
    "Quantifiers may nest and mix freely with other templates.\n",
    "\n",
    "With the help of quantifiers you can say pretty sophisticated things in a template.\n",
    "\n",
    "Here we guide you through a first exploration."
   ]
  },
  {
   "cell_type": "markdown",
   "metadata": {},
   "source": [
    "## Lexemes\n",
    "\n",
    "It is easy to find the lexemes that occur in a specific book only.\n",
    "Because the `lex` node of such a lexeme is contained in the node of that specific book.\n",
    "\n",
    "Lets get the lexemes specific to Ezra."
   ]
  },
  {
   "cell_type": "code",
   "execution_count": 6,
   "metadata": {},
   "outputs": [
    {
     "name": "stdout",
     "output_type": "stream",
     "text": [
      "199 results\n"
     ]
    },
    {
     "data": {
      "text/markdown": [
       "n | book | lex\n",
       "--- | --- | ---\n",
       "1 | Ezra | <a target=\"_blank\" href=\"https://shebanq.ancient-data.org/hebrew/word?version=2017&id=1MTRDTn\" title=\"show this lexeme in SHEBANQ\">מִתְרְדָת</a>\n",
       "2 | Ezra | <a target=\"_blank\" href=\"https://shebanq.ancient-data.org/hebrew/word?version=2017&id=1GZBRn\" title=\"show this lexeme in SHEBANQ\">גִּזְבָּר</a>\n",
       "3 | Ezra | <a target=\"_blank\" href=\"https://shebanq.ancient-data.org/hebrew/word?version=2017&id=1CCBYRn\" title=\"show this lexeme in SHEBANQ\">שֵׁשְׁבַּצַּר</a>\n",
       "4 | Ezra | <a target=\"_blank\" href=\"https://shebanq.ancient-data.org/hebrew/word?version=2017&id=1AGRVLn\" title=\"show this lexeme in SHEBANQ\">אֲגַרְטָל</a>\n",
       "5 | Ezra | <a target=\"_blank\" href=\"https://shebanq.ancient-data.org/hebrew/word?version=2017&id=1MXLPn\" title=\"show this lexeme in SHEBANQ\">מַחֲלָף</a>\n",
       "6 | Ezra | <a target=\"_blank\" href=\"https://shebanq.ancient-data.org/hebrew/word?version=2017&id=1ROLJHn\" title=\"show this lexeme in SHEBANQ\">רְעֵלָיָה</a>\n",
       "7 | Ezra | <a target=\"_blank\" href=\"https://shebanq.ancient-data.org/hebrew/word?version=2017&id=1MSPRin\" title=\"show this lexeme in SHEBANQ\">מִסְפָּר</a>\n",
       "8 | Ezra | <a target=\"_blank\" href=\"https://shebanq.ancient-data.org/hebrew/word?version=2017&id=1JWRHin\" title=\"show this lexeme in SHEBANQ\">יֹורָה</a>\n",
       "9 | Ezra | <a target=\"_blank\" href=\"https://shebanq.ancient-data.org/hebrew/word?version=2017&id=1GBRiin\" title=\"show this lexeme in SHEBANQ\">גִּבָּר</a>\n",
       "10 | Ezra | <a target=\"_blank\" href=\"https://shebanq.ancient-data.org/hebrew/word?version=2017&id=1MGBJCn\" title=\"show this lexeme in SHEBANQ\">מַגְבִּישׁ</a>"
      ],
      "text/plain": [
       "<IPython.core.display.Markdown object>"
      ]
     },
     "metadata": {},
     "output_type": "display_data"
    }
   ],
   "source": [
    "query = '''\n",
    "book book@en=Ezra\n",
    "    lex\n",
    "'''\n",
    "lexemes = B.search(query)\n",
    "B.table(lexemes, end=10, linked=2)"
   ]
  },
  {
   "cell_type": "markdown",
   "metadata": {},
   "source": [
    "What if we want to have the lexemes that occur only in Ezra and Nehemia?\n",
    "\n",
    "If such a lexeme occurs in both books, it will not be contained by either book.\n",
    "\n",
    "We have to find a different way. Something like: search for lexemes of which all words occur either in Ezra or in Nehemia.\n",
    "\n",
    "With the template constructions you have seen so far, this is impossible to say.\n",
    "\n",
    "This is where *quantifiers* come in."
   ]
  },
  {
   "cell_type": "code",
   "execution_count": 7,
   "metadata": {},
   "outputs": [],
   "source": [
    "query = '''\n",
    "lex\n",
    "  all:\n",
    "    w:word\n",
    "  have:\n",
    "    b:book book@en=Ezra|Nehemia\n",
    "    w ]] b\n",
    "'''"
   ]
  },
  {
   "cell_type": "markdown",
   "metadata": {},
   "source": [
    "which reads as: find `lex` nodes such that all `w:word` nodes embedded in it satisfy the template\n",
    "\n",
    "```\n",
    "    b:book book@en=Ezra|Nehemia\n",
    "    w ]] b\n",
    "```\n",
    "\n",
    "which states that there is a `book` node having the English name of `Ezra` or `Nehemia` and containing the `word` `w` in question."
   ]
  },
  {
   "cell_type": "markdown",
   "metadata": {},
   "source": [
    "# Next\n",
    "\n",
    "You master the theory.\n",
    "\n",
    "In practice, their are pitfalls:\n",
    "[rough edges](searchRough.ipynb)\n",
    "\n",
    "---\n",
    "\n",
    "[basic](search.ipynb)\n",
    "[advanced](searchAdvanced.ipynb)\n",
    "[relations](searchRelations.ipynb)\n",
    "quantifiers\n",
    "[rough](searchRough.ipynb)\n",
    "[gaps](searchGaps.ipynb)"
   ]
  }
 ],
 "metadata": {
  "kernelspec": {
   "display_name": "Python 3",
   "language": "python",
   "name": "python3"
  },
  "language_info": {
   "codemirror_mode": {
    "name": "ipython",
    "version": 3
   },
   "file_extension": ".py",
   "mimetype": "text/x-python",
   "name": "python",
   "nbconvert_exporter": "python",
   "pygments_lexer": "ipython3",
   "version": "3.6.5"
  }
 },
 "nbformat": 4,
 "nbformat_minor": 2
}
